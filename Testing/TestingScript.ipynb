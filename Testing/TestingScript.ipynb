{
 "cells": [
  {
   "cell_type": "code",
   "execution_count": 6,
   "id": "e558b067-868c-4f4c-9091-92f6b705d3c1",
   "metadata": {},
   "outputs": [
    {
     "data": {
      "application/vnd.plotly.v1+json": {
       "config": {
        "plotlyServerURL": "https://plot.ly"
       },
       "data": [
        {
         "alignmentgroup": "True",
         "hovertemplate": "Metric=MAE<br>Models=%{x}<br>Metric Value=%{y}<extra></extra>",
         "legendgroup": "MAE",
         "marker": {
          "color": "#636efa",
          "pattern": {
           "shape": ""
          }
         },
         "name": "MAE",
         "offsetgroup": "MAE",
         "orientation": "v",
         "showlegend": true,
         "textposition": "auto",
         "type": "bar",
         "x": [
          "HyperNetLSTMRBF",
          "LSTM",
          "AttentionLSTM",
          "Transformer",
          "HyperNetLSTMPoly",
          "ARFFNN",
          "RNN",
          "TempConv",
          "GRU",
          "Nbeats",
          "MLP"
         ],
         "xaxis": "x",
         "y": [
          21.21048074666986,
          21.815048186617744,
          22.311419696769303,
          22.459873766432676,
          23.16542863458839,
          24.07734968934801,
          24.66369816229526,
          23.47151623180068,
          24.853488765302437,
          25.633453030775154,
          29.60011633438098
         ],
         "yaxis": "y"
        },
        {
         "alignmentgroup": "True",
         "hovertemplate": "Metric=RMSE<br>Models=%{x}<br>Metric Value=%{y}<extra></extra>",
         "legendgroup": "RMSE",
         "marker": {
          "color": "#EF553B",
          "pattern": {
           "shape": ""
          }
         },
         "name": "RMSE",
         "offsetgroup": "RMSE",
         "orientation": "v",
         "showlegend": true,
         "textposition": "auto",
         "type": "bar",
         "x": [
          "HyperNetLSTMRBF",
          "LSTM",
          "AttentionLSTM",
          "Transformer",
          "HyperNetLSTMPoly",
          "ARFFNN",
          "RNN",
          "TempConv",
          "GRU",
          "Nbeats",
          "MLP"
         ],
         "xaxis": "x",
         "y": [
          29.302321778163915,
          29.85356698980861,
          30.50892186939569,
          31.087003962493238,
          32.2315804662254,
          32.582614990633495,
          34.81732567171462,
          31.08576589187396,
          33.00066857568747,
          35.44940769788292,
          39.15932311287349
         ],
         "yaxis": "y"
        },
        {
         "alignmentgroup": "True",
         "hovertemplate": "Metric=SMAPE<br>Models=%{x}<br>Metric Value=%{y}<extra></extra>",
         "legendgroup": "SMAPE",
         "marker": {
          "color": "#00cc96",
          "pattern": {
           "shape": ""
          }
         },
         "name": "SMAPE",
         "offsetgroup": "SMAPE",
         "orientation": "v",
         "showlegend": true,
         "textposition": "auto",
         "type": "bar",
         "x": [
          "HyperNetLSTMRBF",
          "LSTM",
          "AttentionLSTM",
          "Transformer",
          "HyperNetLSTMPoly",
          "ARFFNN",
          "RNN",
          "TempConv",
          "GRU",
          "Nbeats",
          "MLP"
         ],
         "xaxis": "x",
         "y": [
          8.755485693482754,
          9.116333916462574,
          9.236550105294548,
          9.409620486882078,
          9.458927395291,
          9.973075477182155,
          10.126961761513972,
          10.158780785639852,
          10.465284575821622,
          10.66902704244635,
          12.308172471354192
         ],
         "yaxis": "y"
        }
       ],
       "layout": {
        "autosize": true,
        "barmode": "group",
        "legend": {
         "title": {
          "text": "Metric"
         },
         "tracegroupgap": 0
        },
        "margin": {
         "t": 60
        },
        "template": {
         "data": {
          "bar": [
           {
            "error_x": {
             "color": "#2a3f5f"
            },
            "error_y": {
             "color": "#2a3f5f"
            },
            "marker": {
             "line": {
              "color": "white",
              "width": 0.5
             },
             "pattern": {
              "fillmode": "overlay",
              "size": 10,
              "solidity": 0.2
             }
            },
            "type": "bar"
           }
          ],
          "barpolar": [
           {
            "marker": {
             "line": {
              "color": "white",
              "width": 0.5
             },
             "pattern": {
              "fillmode": "overlay",
              "size": 10,
              "solidity": 0.2
             }
            },
            "type": "barpolar"
           }
          ],
          "carpet": [
           {
            "aaxis": {
             "endlinecolor": "#2a3f5f",
             "gridcolor": "#C8D4E3",
             "linecolor": "#C8D4E3",
             "minorgridcolor": "#C8D4E3",
             "startlinecolor": "#2a3f5f"
            },
            "baxis": {
             "endlinecolor": "#2a3f5f",
             "gridcolor": "#C8D4E3",
             "linecolor": "#C8D4E3",
             "minorgridcolor": "#C8D4E3",
             "startlinecolor": "#2a3f5f"
            },
            "type": "carpet"
           }
          ],
          "choropleth": [
           {
            "colorbar": {
             "outlinewidth": 0,
             "ticks": ""
            },
            "type": "choropleth"
           }
          ],
          "contour": [
           {
            "colorbar": {
             "outlinewidth": 0,
             "ticks": ""
            },
            "colorscale": [
             [
              0,
              "#0d0887"
             ],
             [
              0.1111111111111111,
              "#46039f"
             ],
             [
              0.2222222222222222,
              "#7201a8"
             ],
             [
              0.3333333333333333,
              "#9c179e"
             ],
             [
              0.4444444444444444,
              "#bd3786"
             ],
             [
              0.5555555555555556,
              "#d8576b"
             ],
             [
              0.6666666666666666,
              "#ed7953"
             ],
             [
              0.7777777777777778,
              "#fb9f3a"
             ],
             [
              0.8888888888888888,
              "#fdca26"
             ],
             [
              1,
              "#f0f921"
             ]
            ],
            "type": "contour"
           }
          ],
          "contourcarpet": [
           {
            "colorbar": {
             "outlinewidth": 0,
             "ticks": ""
            },
            "type": "contourcarpet"
           }
          ],
          "heatmap": [
           {
            "colorbar": {
             "outlinewidth": 0,
             "ticks": ""
            },
            "colorscale": [
             [
              0,
              "#0d0887"
             ],
             [
              0.1111111111111111,
              "#46039f"
             ],
             [
              0.2222222222222222,
              "#7201a8"
             ],
             [
              0.3333333333333333,
              "#9c179e"
             ],
             [
              0.4444444444444444,
              "#bd3786"
             ],
             [
              0.5555555555555556,
              "#d8576b"
             ],
             [
              0.6666666666666666,
              "#ed7953"
             ],
             [
              0.7777777777777778,
              "#fb9f3a"
             ],
             [
              0.8888888888888888,
              "#fdca26"
             ],
             [
              1,
              "#f0f921"
             ]
            ],
            "type": "heatmap"
           }
          ],
          "heatmapgl": [
           {
            "colorbar": {
             "outlinewidth": 0,
             "ticks": ""
            },
            "colorscale": [
             [
              0,
              "#0d0887"
             ],
             [
              0.1111111111111111,
              "#46039f"
             ],
             [
              0.2222222222222222,
              "#7201a8"
             ],
             [
              0.3333333333333333,
              "#9c179e"
             ],
             [
              0.4444444444444444,
              "#bd3786"
             ],
             [
              0.5555555555555556,
              "#d8576b"
             ],
             [
              0.6666666666666666,
              "#ed7953"
             ],
             [
              0.7777777777777778,
              "#fb9f3a"
             ],
             [
              0.8888888888888888,
              "#fdca26"
             ],
             [
              1,
              "#f0f921"
             ]
            ],
            "type": "heatmapgl"
           }
          ],
          "histogram": [
           {
            "marker": {
             "pattern": {
              "fillmode": "overlay",
              "size": 10,
              "solidity": 0.2
             }
            },
            "type": "histogram"
           }
          ],
          "histogram2d": [
           {
            "colorbar": {
             "outlinewidth": 0,
             "ticks": ""
            },
            "colorscale": [
             [
              0,
              "#0d0887"
             ],
             [
              0.1111111111111111,
              "#46039f"
             ],
             [
              0.2222222222222222,
              "#7201a8"
             ],
             [
              0.3333333333333333,
              "#9c179e"
             ],
             [
              0.4444444444444444,
              "#bd3786"
             ],
             [
              0.5555555555555556,
              "#d8576b"
             ],
             [
              0.6666666666666666,
              "#ed7953"
             ],
             [
              0.7777777777777778,
              "#fb9f3a"
             ],
             [
              0.8888888888888888,
              "#fdca26"
             ],
             [
              1,
              "#f0f921"
             ]
            ],
            "type": "histogram2d"
           }
          ],
          "histogram2dcontour": [
           {
            "colorbar": {
             "outlinewidth": 0,
             "ticks": ""
            },
            "colorscale": [
             [
              0,
              "#0d0887"
             ],
             [
              0.1111111111111111,
              "#46039f"
             ],
             [
              0.2222222222222222,
              "#7201a8"
             ],
             [
              0.3333333333333333,
              "#9c179e"
             ],
             [
              0.4444444444444444,
              "#bd3786"
             ],
             [
              0.5555555555555556,
              "#d8576b"
             ],
             [
              0.6666666666666666,
              "#ed7953"
             ],
             [
              0.7777777777777778,
              "#fb9f3a"
             ],
             [
              0.8888888888888888,
              "#fdca26"
             ],
             [
              1,
              "#f0f921"
             ]
            ],
            "type": "histogram2dcontour"
           }
          ],
          "mesh3d": [
           {
            "colorbar": {
             "outlinewidth": 0,
             "ticks": ""
            },
            "type": "mesh3d"
           }
          ],
          "parcoords": [
           {
            "line": {
             "colorbar": {
              "outlinewidth": 0,
              "ticks": ""
             }
            },
            "type": "parcoords"
           }
          ],
          "pie": [
           {
            "automargin": true,
            "type": "pie"
           }
          ],
          "scatter": [
           {
            "fillpattern": {
             "fillmode": "overlay",
             "size": 10,
             "solidity": 0.2
            },
            "type": "scatter"
           }
          ],
          "scatter3d": [
           {
            "line": {
             "colorbar": {
              "outlinewidth": 0,
              "ticks": ""
             }
            },
            "marker": {
             "colorbar": {
              "outlinewidth": 0,
              "ticks": ""
             }
            },
            "type": "scatter3d"
           }
          ],
          "scattercarpet": [
           {
            "marker": {
             "colorbar": {
              "outlinewidth": 0,
              "ticks": ""
             }
            },
            "type": "scattercarpet"
           }
          ],
          "scattergeo": [
           {
            "marker": {
             "colorbar": {
              "outlinewidth": 0,
              "ticks": ""
             }
            },
            "type": "scattergeo"
           }
          ],
          "scattergl": [
           {
            "marker": {
             "colorbar": {
              "outlinewidth": 0,
              "ticks": ""
             }
            },
            "type": "scattergl"
           }
          ],
          "scattermapbox": [
           {
            "marker": {
             "colorbar": {
              "outlinewidth": 0,
              "ticks": ""
             }
            },
            "type": "scattermapbox"
           }
          ],
          "scatterpolar": [
           {
            "marker": {
             "colorbar": {
              "outlinewidth": 0,
              "ticks": ""
             }
            },
            "type": "scatterpolar"
           }
          ],
          "scatterpolargl": [
           {
            "marker": {
             "colorbar": {
              "outlinewidth": 0,
              "ticks": ""
             }
            },
            "type": "scatterpolargl"
           }
          ],
          "scatterternary": [
           {
            "marker": {
             "colorbar": {
              "outlinewidth": 0,
              "ticks": ""
             }
            },
            "type": "scatterternary"
           }
          ],
          "surface": [
           {
            "colorbar": {
             "outlinewidth": 0,
             "ticks": ""
            },
            "colorscale": [
             [
              0,
              "#0d0887"
             ],
             [
              0.1111111111111111,
              "#46039f"
             ],
             [
              0.2222222222222222,
              "#7201a8"
             ],
             [
              0.3333333333333333,
              "#9c179e"
             ],
             [
              0.4444444444444444,
              "#bd3786"
             ],
             [
              0.5555555555555556,
              "#d8576b"
             ],
             [
              0.6666666666666666,
              "#ed7953"
             ],
             [
              0.7777777777777778,
              "#fb9f3a"
             ],
             [
              0.8888888888888888,
              "#fdca26"
             ],
             [
              1,
              "#f0f921"
             ]
            ],
            "type": "surface"
           }
          ],
          "table": [
           {
            "cells": {
             "fill": {
              "color": "#EBF0F8"
             },
             "line": {
              "color": "white"
             }
            },
            "header": {
             "fill": {
              "color": "#C8D4E3"
             },
             "line": {
              "color": "white"
             }
            },
            "type": "table"
           }
          ]
         },
         "layout": {
          "annotationdefaults": {
           "arrowcolor": "#2a3f5f",
           "arrowhead": 0,
           "arrowwidth": 1
          },
          "autotypenumbers": "strict",
          "coloraxis": {
           "colorbar": {
            "outlinewidth": 0,
            "ticks": ""
           }
          },
          "colorscale": {
           "diverging": [
            [
             0,
             "#8e0152"
            ],
            [
             0.1,
             "#c51b7d"
            ],
            [
             0.2,
             "#de77ae"
            ],
            [
             0.3,
             "#f1b6da"
            ],
            [
             0.4,
             "#fde0ef"
            ],
            [
             0.5,
             "#f7f7f7"
            ],
            [
             0.6,
             "#e6f5d0"
            ],
            [
             0.7,
             "#b8e186"
            ],
            [
             0.8,
             "#7fbc41"
            ],
            [
             0.9,
             "#4d9221"
            ],
            [
             1,
             "#276419"
            ]
           ],
           "sequential": [
            [
             0,
             "#0d0887"
            ],
            [
             0.1111111111111111,
             "#46039f"
            ],
            [
             0.2222222222222222,
             "#7201a8"
            ],
            [
             0.3333333333333333,
             "#9c179e"
            ],
            [
             0.4444444444444444,
             "#bd3786"
            ],
            [
             0.5555555555555556,
             "#d8576b"
            ],
            [
             0.6666666666666666,
             "#ed7953"
            ],
            [
             0.7777777777777778,
             "#fb9f3a"
            ],
            [
             0.8888888888888888,
             "#fdca26"
            ],
            [
             1,
             "#f0f921"
            ]
           ],
           "sequentialminus": [
            [
             0,
             "#0d0887"
            ],
            [
             0.1111111111111111,
             "#46039f"
            ],
            [
             0.2222222222222222,
             "#7201a8"
            ],
            [
             0.3333333333333333,
             "#9c179e"
            ],
            [
             0.4444444444444444,
             "#bd3786"
            ],
            [
             0.5555555555555556,
             "#d8576b"
            ],
            [
             0.6666666666666666,
             "#ed7953"
            ],
            [
             0.7777777777777778,
             "#fb9f3a"
            ],
            [
             0.8888888888888888,
             "#fdca26"
            ],
            [
             1,
             "#f0f921"
            ]
           ]
          },
          "colorway": [
           "#636efa",
           "#EF553B",
           "#00cc96",
           "#ab63fa",
           "#FFA15A",
           "#19d3f3",
           "#FF6692",
           "#B6E880",
           "#FF97FF",
           "#FECB52"
          ],
          "font": {
           "color": "#2a3f5f"
          },
          "geo": {
           "bgcolor": "white",
           "lakecolor": "white",
           "landcolor": "white",
           "showlakes": true,
           "showland": true,
           "subunitcolor": "#C8D4E3"
          },
          "hoverlabel": {
           "align": "left"
          },
          "hovermode": "closest",
          "mapbox": {
           "style": "light"
          },
          "paper_bgcolor": "white",
          "plot_bgcolor": "white",
          "polar": {
           "angularaxis": {
            "gridcolor": "#EBF0F8",
            "linecolor": "#EBF0F8",
            "ticks": ""
           },
           "bgcolor": "white",
           "radialaxis": {
            "gridcolor": "#EBF0F8",
            "linecolor": "#EBF0F8",
            "ticks": ""
           }
          },
          "scene": {
           "xaxis": {
            "backgroundcolor": "white",
            "gridcolor": "#DFE8F3",
            "gridwidth": 2,
            "linecolor": "#EBF0F8",
            "showbackground": true,
            "ticks": "",
            "zerolinecolor": "#EBF0F8"
           },
           "yaxis": {
            "backgroundcolor": "white",
            "gridcolor": "#DFE8F3",
            "gridwidth": 2,
            "linecolor": "#EBF0F8",
            "showbackground": true,
            "ticks": "",
            "zerolinecolor": "#EBF0F8"
           },
           "zaxis": {
            "backgroundcolor": "white",
            "gridcolor": "#DFE8F3",
            "gridwidth": 2,
            "linecolor": "#EBF0F8",
            "showbackground": true,
            "ticks": "",
            "zerolinecolor": "#EBF0F8"
           }
          },
          "shapedefaults": {
           "line": {
            "color": "#2a3f5f"
           }
          },
          "ternary": {
           "aaxis": {
            "gridcolor": "#DFE8F3",
            "linecolor": "#A2B1C6",
            "ticks": ""
           },
           "baxis": {
            "gridcolor": "#DFE8F3",
            "linecolor": "#A2B1C6",
            "ticks": ""
           },
           "bgcolor": "white",
           "caxis": {
            "gridcolor": "#DFE8F3",
            "linecolor": "#A2B1C6",
            "ticks": ""
           }
          },
          "title": {
           "x": 0.05
          },
          "xaxis": {
           "automargin": true,
           "gridcolor": "#EBF0F8",
           "linecolor": "#EBF0F8",
           "ticks": "",
           "title": {
            "standoff": 15
           },
           "zerolinecolor": "#EBF0F8",
           "zerolinewidth": 2
          },
          "yaxis": {
           "automargin": true,
           "gridcolor": "#EBF0F8",
           "linecolor": "#EBF0F8",
           "ticks": "",
           "title": {
            "standoff": 15
           },
           "zerolinecolor": "#EBF0F8",
           "zerolinewidth": 2
          }
         }
        },
        "title": {
         "text": "All Metrics Comparison - Residence 1",
         "x": 0.5
        },
        "xaxis": {
         "anchor": "y",
         "autorange": true,
         "domain": [
          0,
          1
         ],
         "range": [
          -0.5,
          10.5
         ],
         "title": {
          "text": "Models"
         },
         "type": "category"
        },
        "yaxis": {
         "anchor": "x",
         "autorange": true,
         "domain": [
          0,
          1
         ],
         "range": [
          0,
          41.2203401188142
         ],
         "title": {
          "text": "Metric Value"
         },
         "type": "linear"
        }
       }
      },
      "text/html": [
       "<div>                            <div id=\"8907c3e3-fbb6-4887-a76c-311c370afc47\" class=\"plotly-graph-div\" style=\"height:500px; width:100%;\"></div>            <script type=\"text/javascript\">                require([\"plotly\"], function(Plotly) {                    window.PLOTLYENV=window.PLOTLYENV || {};                                    if (document.getElementById(\"8907c3e3-fbb6-4887-a76c-311c370afc47\")) {                    Plotly.newPlot(                        \"8907c3e3-fbb6-4887-a76c-311c370afc47\",                        [{\"alignmentgroup\":\"True\",\"hovertemplate\":\"Metric=MAE\\u003cbr\\u003eModels=%{x}\\u003cbr\\u003eMetric Value=%{y}\\u003cextra\\u003e\\u003c\\u002fextra\\u003e\",\"legendgroup\":\"MAE\",\"marker\":{\"color\":\"#636efa\",\"pattern\":{\"shape\":\"\"}},\"name\":\"MAE\",\"offsetgroup\":\"MAE\",\"orientation\":\"v\",\"showlegend\":true,\"textposition\":\"auto\",\"x\":[\"HyperNetLSTMRBF\",\"LSTM\",\"AttentionLSTM\",\"Transformer\",\"HyperNetLSTMPoly\",\"ARFFNN\",\"RNN\",\"TempConv\",\"GRU\",\"Nbeats\",\"MLP\"],\"xaxis\":\"x\",\"y\":[21.21048074666986,21.815048186617744,22.311419696769303,22.459873766432676,23.16542863458839,24.07734968934801,24.66369816229526,23.47151623180068,24.853488765302437,25.633453030775154,29.60011633438098],\"yaxis\":\"y\",\"type\":\"bar\"},{\"alignmentgroup\":\"True\",\"hovertemplate\":\"Metric=RMSE\\u003cbr\\u003eModels=%{x}\\u003cbr\\u003eMetric Value=%{y}\\u003cextra\\u003e\\u003c\\u002fextra\\u003e\",\"legendgroup\":\"RMSE\",\"marker\":{\"color\":\"#EF553B\",\"pattern\":{\"shape\":\"\"}},\"name\":\"RMSE\",\"offsetgroup\":\"RMSE\",\"orientation\":\"v\",\"showlegend\":true,\"textposition\":\"auto\",\"x\":[\"HyperNetLSTMRBF\",\"LSTM\",\"AttentionLSTM\",\"Transformer\",\"HyperNetLSTMPoly\",\"ARFFNN\",\"RNN\",\"TempConv\",\"GRU\",\"Nbeats\",\"MLP\"],\"xaxis\":\"x\",\"y\":[29.302321778163915,29.85356698980861,30.50892186939569,31.087003962493238,32.2315804662254,32.582614990633495,34.81732567171462,31.08576589187396,33.00066857568747,35.44940769788292,39.15932311287349],\"yaxis\":\"y\",\"type\":\"bar\"},{\"alignmentgroup\":\"True\",\"hovertemplate\":\"Metric=SMAPE\\u003cbr\\u003eModels=%{x}\\u003cbr\\u003eMetric Value=%{y}\\u003cextra\\u003e\\u003c\\u002fextra\\u003e\",\"legendgroup\":\"SMAPE\",\"marker\":{\"color\":\"#00cc96\",\"pattern\":{\"shape\":\"\"}},\"name\":\"SMAPE\",\"offsetgroup\":\"SMAPE\",\"orientation\":\"v\",\"showlegend\":true,\"textposition\":\"auto\",\"x\":[\"HyperNetLSTMRBF\",\"LSTM\",\"AttentionLSTM\",\"Transformer\",\"HyperNetLSTMPoly\",\"ARFFNN\",\"RNN\",\"TempConv\",\"GRU\",\"Nbeats\",\"MLP\"],\"xaxis\":\"x\",\"y\":[8.755485693482754,9.116333916462574,9.236550105294548,9.409620486882078,9.458927395291,9.973075477182155,10.126961761513972,10.158780785639852,10.465284575821622,10.66902704244635,12.308172471354192],\"yaxis\":\"y\",\"type\":\"bar\"}],                        {\"template\":{\"data\":{\"barpolar\":[{\"marker\":{\"line\":{\"color\":\"white\",\"width\":0.5},\"pattern\":{\"fillmode\":\"overlay\",\"size\":10,\"solidity\":0.2}},\"type\":\"barpolar\"}],\"bar\":[{\"error_x\":{\"color\":\"#2a3f5f\"},\"error_y\":{\"color\":\"#2a3f5f\"},\"marker\":{\"line\":{\"color\":\"white\",\"width\":0.5},\"pattern\":{\"fillmode\":\"overlay\",\"size\":10,\"solidity\":0.2}},\"type\":\"bar\"}],\"carpet\":[{\"aaxis\":{\"endlinecolor\":\"#2a3f5f\",\"gridcolor\":\"#C8D4E3\",\"linecolor\":\"#C8D4E3\",\"minorgridcolor\":\"#C8D4E3\",\"startlinecolor\":\"#2a3f5f\"},\"baxis\":{\"endlinecolor\":\"#2a3f5f\",\"gridcolor\":\"#C8D4E3\",\"linecolor\":\"#C8D4E3\",\"minorgridcolor\":\"#C8D4E3\",\"startlinecolor\":\"#2a3f5f\"},\"type\":\"carpet\"}],\"choropleth\":[{\"colorbar\":{\"outlinewidth\":0,\"ticks\":\"\"},\"type\":\"choropleth\"}],\"contourcarpet\":[{\"colorbar\":{\"outlinewidth\":0,\"ticks\":\"\"},\"type\":\"contourcarpet\"}],\"contour\":[{\"colorbar\":{\"outlinewidth\":0,\"ticks\":\"\"},\"colorscale\":[[0.0,\"#0d0887\"],[0.1111111111111111,\"#46039f\"],[0.2222222222222222,\"#7201a8\"],[0.3333333333333333,\"#9c179e\"],[0.4444444444444444,\"#bd3786\"],[0.5555555555555556,\"#d8576b\"],[0.6666666666666666,\"#ed7953\"],[0.7777777777777778,\"#fb9f3a\"],[0.8888888888888888,\"#fdca26\"],[1.0,\"#f0f921\"]],\"type\":\"contour\"}],\"heatmapgl\":[{\"colorbar\":{\"outlinewidth\":0,\"ticks\":\"\"},\"colorscale\":[[0.0,\"#0d0887\"],[0.1111111111111111,\"#46039f\"],[0.2222222222222222,\"#7201a8\"],[0.3333333333333333,\"#9c179e\"],[0.4444444444444444,\"#bd3786\"],[0.5555555555555556,\"#d8576b\"],[0.6666666666666666,\"#ed7953\"],[0.7777777777777778,\"#fb9f3a\"],[0.8888888888888888,\"#fdca26\"],[1.0,\"#f0f921\"]],\"type\":\"heatmapgl\"}],\"heatmap\":[{\"colorbar\":{\"outlinewidth\":0,\"ticks\":\"\"},\"colorscale\":[[0.0,\"#0d0887\"],[0.1111111111111111,\"#46039f\"],[0.2222222222222222,\"#7201a8\"],[0.3333333333333333,\"#9c179e\"],[0.4444444444444444,\"#bd3786\"],[0.5555555555555556,\"#d8576b\"],[0.6666666666666666,\"#ed7953\"],[0.7777777777777778,\"#fb9f3a\"],[0.8888888888888888,\"#fdca26\"],[1.0,\"#f0f921\"]],\"type\":\"heatmap\"}],\"histogram2dcontour\":[{\"colorbar\":{\"outlinewidth\":0,\"ticks\":\"\"},\"colorscale\":[[0.0,\"#0d0887\"],[0.1111111111111111,\"#46039f\"],[0.2222222222222222,\"#7201a8\"],[0.3333333333333333,\"#9c179e\"],[0.4444444444444444,\"#bd3786\"],[0.5555555555555556,\"#d8576b\"],[0.6666666666666666,\"#ed7953\"],[0.7777777777777778,\"#fb9f3a\"],[0.8888888888888888,\"#fdca26\"],[1.0,\"#f0f921\"]],\"type\":\"histogram2dcontour\"}],\"histogram2d\":[{\"colorbar\":{\"outlinewidth\":0,\"ticks\":\"\"},\"colorscale\":[[0.0,\"#0d0887\"],[0.1111111111111111,\"#46039f\"],[0.2222222222222222,\"#7201a8\"],[0.3333333333333333,\"#9c179e\"],[0.4444444444444444,\"#bd3786\"],[0.5555555555555556,\"#d8576b\"],[0.6666666666666666,\"#ed7953\"],[0.7777777777777778,\"#fb9f3a\"],[0.8888888888888888,\"#fdca26\"],[1.0,\"#f0f921\"]],\"type\":\"histogram2d\"}],\"histogram\":[{\"marker\":{\"pattern\":{\"fillmode\":\"overlay\",\"size\":10,\"solidity\":0.2}},\"type\":\"histogram\"}],\"mesh3d\":[{\"colorbar\":{\"outlinewidth\":0,\"ticks\":\"\"},\"type\":\"mesh3d\"}],\"parcoords\":[{\"line\":{\"colorbar\":{\"outlinewidth\":0,\"ticks\":\"\"}},\"type\":\"parcoords\"}],\"pie\":[{\"automargin\":true,\"type\":\"pie\"}],\"scatter3d\":[{\"line\":{\"colorbar\":{\"outlinewidth\":0,\"ticks\":\"\"}},\"marker\":{\"colorbar\":{\"outlinewidth\":0,\"ticks\":\"\"}},\"type\":\"scatter3d\"}],\"scattercarpet\":[{\"marker\":{\"colorbar\":{\"outlinewidth\":0,\"ticks\":\"\"}},\"type\":\"scattercarpet\"}],\"scattergeo\":[{\"marker\":{\"colorbar\":{\"outlinewidth\":0,\"ticks\":\"\"}},\"type\":\"scattergeo\"}],\"scattergl\":[{\"marker\":{\"colorbar\":{\"outlinewidth\":0,\"ticks\":\"\"}},\"type\":\"scattergl\"}],\"scattermapbox\":[{\"marker\":{\"colorbar\":{\"outlinewidth\":0,\"ticks\":\"\"}},\"type\":\"scattermapbox\"}],\"scatterpolargl\":[{\"marker\":{\"colorbar\":{\"outlinewidth\":0,\"ticks\":\"\"}},\"type\":\"scatterpolargl\"}],\"scatterpolar\":[{\"marker\":{\"colorbar\":{\"outlinewidth\":0,\"ticks\":\"\"}},\"type\":\"scatterpolar\"}],\"scatter\":[{\"fillpattern\":{\"fillmode\":\"overlay\",\"size\":10,\"solidity\":0.2},\"type\":\"scatter\"}],\"scatterternary\":[{\"marker\":{\"colorbar\":{\"outlinewidth\":0,\"ticks\":\"\"}},\"type\":\"scatterternary\"}],\"surface\":[{\"colorbar\":{\"outlinewidth\":0,\"ticks\":\"\"},\"colorscale\":[[0.0,\"#0d0887\"],[0.1111111111111111,\"#46039f\"],[0.2222222222222222,\"#7201a8\"],[0.3333333333333333,\"#9c179e\"],[0.4444444444444444,\"#bd3786\"],[0.5555555555555556,\"#d8576b\"],[0.6666666666666666,\"#ed7953\"],[0.7777777777777778,\"#fb9f3a\"],[0.8888888888888888,\"#fdca26\"],[1.0,\"#f0f921\"]],\"type\":\"surface\"}],\"table\":[{\"cells\":{\"fill\":{\"color\":\"#EBF0F8\"},\"line\":{\"color\":\"white\"}},\"header\":{\"fill\":{\"color\":\"#C8D4E3\"},\"line\":{\"color\":\"white\"}},\"type\":\"table\"}]},\"layout\":{\"annotationdefaults\":{\"arrowcolor\":\"#2a3f5f\",\"arrowhead\":0,\"arrowwidth\":1},\"autotypenumbers\":\"strict\",\"coloraxis\":{\"colorbar\":{\"outlinewidth\":0,\"ticks\":\"\"}},\"colorscale\":{\"diverging\":[[0,\"#8e0152\"],[0.1,\"#c51b7d\"],[0.2,\"#de77ae\"],[0.3,\"#f1b6da\"],[0.4,\"#fde0ef\"],[0.5,\"#f7f7f7\"],[0.6,\"#e6f5d0\"],[0.7,\"#b8e186\"],[0.8,\"#7fbc41\"],[0.9,\"#4d9221\"],[1,\"#276419\"]],\"sequential\":[[0.0,\"#0d0887\"],[0.1111111111111111,\"#46039f\"],[0.2222222222222222,\"#7201a8\"],[0.3333333333333333,\"#9c179e\"],[0.4444444444444444,\"#bd3786\"],[0.5555555555555556,\"#d8576b\"],[0.6666666666666666,\"#ed7953\"],[0.7777777777777778,\"#fb9f3a\"],[0.8888888888888888,\"#fdca26\"],[1.0,\"#f0f921\"]],\"sequentialminus\":[[0.0,\"#0d0887\"],[0.1111111111111111,\"#46039f\"],[0.2222222222222222,\"#7201a8\"],[0.3333333333333333,\"#9c179e\"],[0.4444444444444444,\"#bd3786\"],[0.5555555555555556,\"#d8576b\"],[0.6666666666666666,\"#ed7953\"],[0.7777777777777778,\"#fb9f3a\"],[0.8888888888888888,\"#fdca26\"],[1.0,\"#f0f921\"]]},\"colorway\":[\"#636efa\",\"#EF553B\",\"#00cc96\",\"#ab63fa\",\"#FFA15A\",\"#19d3f3\",\"#FF6692\",\"#B6E880\",\"#FF97FF\",\"#FECB52\"],\"font\":{\"color\":\"#2a3f5f\"},\"geo\":{\"bgcolor\":\"white\",\"lakecolor\":\"white\",\"landcolor\":\"white\",\"showlakes\":true,\"showland\":true,\"subunitcolor\":\"#C8D4E3\"},\"hoverlabel\":{\"align\":\"left\"},\"hovermode\":\"closest\",\"mapbox\":{\"style\":\"light\"},\"paper_bgcolor\":\"white\",\"plot_bgcolor\":\"white\",\"polar\":{\"angularaxis\":{\"gridcolor\":\"#EBF0F8\",\"linecolor\":\"#EBF0F8\",\"ticks\":\"\"},\"bgcolor\":\"white\",\"radialaxis\":{\"gridcolor\":\"#EBF0F8\",\"linecolor\":\"#EBF0F8\",\"ticks\":\"\"}},\"scene\":{\"xaxis\":{\"backgroundcolor\":\"white\",\"gridcolor\":\"#DFE8F3\",\"gridwidth\":2,\"linecolor\":\"#EBF0F8\",\"showbackground\":true,\"ticks\":\"\",\"zerolinecolor\":\"#EBF0F8\"},\"yaxis\":{\"backgroundcolor\":\"white\",\"gridcolor\":\"#DFE8F3\",\"gridwidth\":2,\"linecolor\":\"#EBF0F8\",\"showbackground\":true,\"ticks\":\"\",\"zerolinecolor\":\"#EBF0F8\"},\"zaxis\":{\"backgroundcolor\":\"white\",\"gridcolor\":\"#DFE8F3\",\"gridwidth\":2,\"linecolor\":\"#EBF0F8\",\"showbackground\":true,\"ticks\":\"\",\"zerolinecolor\":\"#EBF0F8\"}},\"shapedefaults\":{\"line\":{\"color\":\"#2a3f5f\"}},\"ternary\":{\"aaxis\":{\"gridcolor\":\"#DFE8F3\",\"linecolor\":\"#A2B1C6\",\"ticks\":\"\"},\"baxis\":{\"gridcolor\":\"#DFE8F3\",\"linecolor\":\"#A2B1C6\",\"ticks\":\"\"},\"bgcolor\":\"white\",\"caxis\":{\"gridcolor\":\"#DFE8F3\",\"linecolor\":\"#A2B1C6\",\"ticks\":\"\"}},\"title\":{\"x\":0.05},\"xaxis\":{\"automargin\":true,\"gridcolor\":\"#EBF0F8\",\"linecolor\":\"#EBF0F8\",\"ticks\":\"\",\"title\":{\"standoff\":15},\"zerolinecolor\":\"#EBF0F8\",\"zerolinewidth\":2},\"yaxis\":{\"automargin\":true,\"gridcolor\":\"#EBF0F8\",\"linecolor\":\"#EBF0F8\",\"ticks\":\"\",\"title\":{\"standoff\":15},\"zerolinecolor\":\"#EBF0F8\",\"zerolinewidth\":2}}},\"xaxis\":{\"anchor\":\"y\",\"domain\":[0.0,1.0],\"title\":{\"text\":\"Models\"}},\"yaxis\":{\"anchor\":\"x\",\"domain\":[0.0,1.0],\"title\":{\"text\":\"Metric Value\"}},\"legend\":{\"title\":{\"text\":\"Metric\"},\"tracegroupgap\":0},\"margin\":{\"t\":60},\"barmode\":\"group\",\"title\":{\"text\":\"All Metrics Comparison - Residence 1\",\"x\":0.5},\"height\":500},                        {\"responsive\": true}                    ).then(function(){\n",
       "                            \n",
       "var gd = document.getElementById('8907c3e3-fbb6-4887-a76c-311c370afc47');\n",
       "var x = new MutationObserver(function (mutations, observer) {{\n",
       "        var display = window.getComputedStyle(gd).display;\n",
       "        if (!display || display === 'none') {{\n",
       "            console.log([gd, 'removed!']);\n",
       "            Plotly.purge(gd);\n",
       "            observer.disconnect();\n",
       "        }}\n",
       "}});\n",
       "\n",
       "// Listen for the removal of the full notebook cells\n",
       "var notebookContainer = gd.closest('#notebook-container');\n",
       "if (notebookContainer) {{\n",
       "    x.observe(notebookContainer, {childList: true});\n",
       "}}\n",
       "\n",
       "// Listen for the clearing of the current output cell\n",
       "var outputEl = gd.closest('.output');\n",
       "if (outputEl) {{\n",
       "    x.observe(outputEl, {childList: true});\n",
       "}}\n",
       "\n",
       "                        })                };                });            </script>        </div>"
      ]
     },
     "metadata": {},
     "output_type": "display_data"
    },
    {
     "data": {
      "application/vnd.plotly.v1+json": {
       "config": {
        "plotlyServerURL": "https://plot.ly"
       },
       "data": [
        {
         "alignmentgroup": "True",
         "hovertemplate": "Metric=MAE<br>Models=%{x}<br>Metric Value=%{y}<extra></extra>",
         "legendgroup": "MAE",
         "marker": {
          "color": "#636efa",
          "pattern": {
           "shape": ""
          }
         },
         "name": "MAE",
         "offsetgroup": "MAE",
         "orientation": "v",
         "showlegend": true,
         "textposition": "auto",
         "type": "bar",
         "x": [
          "HyperNetLSTMRBF",
          "HyperNetLSTMPoly",
          "AttentionLSTM",
          "ARFFNN",
          "GRU",
          "Nbeats",
          "LSTM",
          "Transformer",
          "MLP",
          "RNN",
          "TempConv"
         ],
         "xaxis": "x",
         "y": [
          16.4905760105669,
          17.288637443187618,
          18.227739505969478,
          19.18530435848224,
          19.669265519647947,
          20.595469380276324,
          21.761387943805733,
          29.064618084503294,
          29.24066616010955,
          29.05206617965858,
          33.195392426637945
         ],
         "yaxis": "y"
        },
        {
         "alignmentgroup": "True",
         "hovertemplate": "Metric=RMSE<br>Models=%{x}<br>Metric Value=%{y}<extra></extra>",
         "legendgroup": "RMSE",
         "marker": {
          "color": "#EF553B",
          "pattern": {
           "shape": ""
          }
         },
         "name": "RMSE",
         "offsetgroup": "RMSE",
         "orientation": "v",
         "showlegend": true,
         "textposition": "auto",
         "type": "bar",
         "x": [
          "HyperNetLSTMRBF",
          "HyperNetLSTMPoly",
          "AttentionLSTM",
          "ARFFNN",
          "GRU",
          "Nbeats",
          "LSTM",
          "Transformer",
          "MLP",
          "RNN",
          "TempConv"
         ],
         "xaxis": "x",
         "y": [
          24.590323168988302,
          25.800753452324653,
          27.33042668132891,
          26.646420764611875,
          28.042729182286475,
          29.873115547326503,
          30.329546913496994,
          36.58778896512829,
          36.89007779830769,
          39.50006951064443,
          44.630558948340976
         ],
         "yaxis": "y"
        },
        {
         "alignmentgroup": "True",
         "hovertemplate": "Metric=SMAPE<br>Models=%{x}<br>Metric Value=%{y}<extra></extra>",
         "legendgroup": "SMAPE",
         "marker": {
          "color": "#00cc96",
          "pattern": {
           "shape": ""
          }
         },
         "name": "SMAPE",
         "offsetgroup": "SMAPE",
         "orientation": "v",
         "showlegend": true,
         "textposition": "auto",
         "type": "bar",
         "x": [
          "HyperNetLSTMRBF",
          "HyperNetLSTMPoly",
          "AttentionLSTM",
          "ARFFNN",
          "GRU",
          "Nbeats",
          "LSTM",
          "Transformer",
          "MLP",
          "RNN",
          "TempConv"
         ],
         "xaxis": "x",
         "y": [
          6.696848692814081,
          7.022716848976287,
          7.513673177451781,
          7.816871898061178,
          8.136380680279078,
          8.43049344150316,
          9.294467302600772,
          11.522125601559132,
          11.606174923351269,
          12.002729977533026,
          13.563679326025035
         ],
         "yaxis": "y"
        }
       ],
       "layout": {
        "autosize": true,
        "barmode": "group",
        "legend": {
         "title": {
          "text": "Metric"
         },
         "tracegroupgap": 0
        },
        "margin": {
         "t": 60
        },
        "template": {
         "data": {
          "bar": [
           {
            "error_x": {
             "color": "#2a3f5f"
            },
            "error_y": {
             "color": "#2a3f5f"
            },
            "marker": {
             "line": {
              "color": "white",
              "width": 0.5
             },
             "pattern": {
              "fillmode": "overlay",
              "size": 10,
              "solidity": 0.2
             }
            },
            "type": "bar"
           }
          ],
          "barpolar": [
           {
            "marker": {
             "line": {
              "color": "white",
              "width": 0.5
             },
             "pattern": {
              "fillmode": "overlay",
              "size": 10,
              "solidity": 0.2
             }
            },
            "type": "barpolar"
           }
          ],
          "carpet": [
           {
            "aaxis": {
             "endlinecolor": "#2a3f5f",
             "gridcolor": "#C8D4E3",
             "linecolor": "#C8D4E3",
             "minorgridcolor": "#C8D4E3",
             "startlinecolor": "#2a3f5f"
            },
            "baxis": {
             "endlinecolor": "#2a3f5f",
             "gridcolor": "#C8D4E3",
             "linecolor": "#C8D4E3",
             "minorgridcolor": "#C8D4E3",
             "startlinecolor": "#2a3f5f"
            },
            "type": "carpet"
           }
          ],
          "choropleth": [
           {
            "colorbar": {
             "outlinewidth": 0,
             "ticks": ""
            },
            "type": "choropleth"
           }
          ],
          "contour": [
           {
            "colorbar": {
             "outlinewidth": 0,
             "ticks": ""
            },
            "colorscale": [
             [
              0,
              "#0d0887"
             ],
             [
              0.1111111111111111,
              "#46039f"
             ],
             [
              0.2222222222222222,
              "#7201a8"
             ],
             [
              0.3333333333333333,
              "#9c179e"
             ],
             [
              0.4444444444444444,
              "#bd3786"
             ],
             [
              0.5555555555555556,
              "#d8576b"
             ],
             [
              0.6666666666666666,
              "#ed7953"
             ],
             [
              0.7777777777777778,
              "#fb9f3a"
             ],
             [
              0.8888888888888888,
              "#fdca26"
             ],
             [
              1,
              "#f0f921"
             ]
            ],
            "type": "contour"
           }
          ],
          "contourcarpet": [
           {
            "colorbar": {
             "outlinewidth": 0,
             "ticks": ""
            },
            "type": "contourcarpet"
           }
          ],
          "heatmap": [
           {
            "colorbar": {
             "outlinewidth": 0,
             "ticks": ""
            },
            "colorscale": [
             [
              0,
              "#0d0887"
             ],
             [
              0.1111111111111111,
              "#46039f"
             ],
             [
              0.2222222222222222,
              "#7201a8"
             ],
             [
              0.3333333333333333,
              "#9c179e"
             ],
             [
              0.4444444444444444,
              "#bd3786"
             ],
             [
              0.5555555555555556,
              "#d8576b"
             ],
             [
              0.6666666666666666,
              "#ed7953"
             ],
             [
              0.7777777777777778,
              "#fb9f3a"
             ],
             [
              0.8888888888888888,
              "#fdca26"
             ],
             [
              1,
              "#f0f921"
             ]
            ],
            "type": "heatmap"
           }
          ],
          "heatmapgl": [
           {
            "colorbar": {
             "outlinewidth": 0,
             "ticks": ""
            },
            "colorscale": [
             [
              0,
              "#0d0887"
             ],
             [
              0.1111111111111111,
              "#46039f"
             ],
             [
              0.2222222222222222,
              "#7201a8"
             ],
             [
              0.3333333333333333,
              "#9c179e"
             ],
             [
              0.4444444444444444,
              "#bd3786"
             ],
             [
              0.5555555555555556,
              "#d8576b"
             ],
             [
              0.6666666666666666,
              "#ed7953"
             ],
             [
              0.7777777777777778,
              "#fb9f3a"
             ],
             [
              0.8888888888888888,
              "#fdca26"
             ],
             [
              1,
              "#f0f921"
             ]
            ],
            "type": "heatmapgl"
           }
          ],
          "histogram": [
           {
            "marker": {
             "pattern": {
              "fillmode": "overlay",
              "size": 10,
              "solidity": 0.2
             }
            },
            "type": "histogram"
           }
          ],
          "histogram2d": [
           {
            "colorbar": {
             "outlinewidth": 0,
             "ticks": ""
            },
            "colorscale": [
             [
              0,
              "#0d0887"
             ],
             [
              0.1111111111111111,
              "#46039f"
             ],
             [
              0.2222222222222222,
              "#7201a8"
             ],
             [
              0.3333333333333333,
              "#9c179e"
             ],
             [
              0.4444444444444444,
              "#bd3786"
             ],
             [
              0.5555555555555556,
              "#d8576b"
             ],
             [
              0.6666666666666666,
              "#ed7953"
             ],
             [
              0.7777777777777778,
              "#fb9f3a"
             ],
             [
              0.8888888888888888,
              "#fdca26"
             ],
             [
              1,
              "#f0f921"
             ]
            ],
            "type": "histogram2d"
           }
          ],
          "histogram2dcontour": [
           {
            "colorbar": {
             "outlinewidth": 0,
             "ticks": ""
            },
            "colorscale": [
             [
              0,
              "#0d0887"
             ],
             [
              0.1111111111111111,
              "#46039f"
             ],
             [
              0.2222222222222222,
              "#7201a8"
             ],
             [
              0.3333333333333333,
              "#9c179e"
             ],
             [
              0.4444444444444444,
              "#bd3786"
             ],
             [
              0.5555555555555556,
              "#d8576b"
             ],
             [
              0.6666666666666666,
              "#ed7953"
             ],
             [
              0.7777777777777778,
              "#fb9f3a"
             ],
             [
              0.8888888888888888,
              "#fdca26"
             ],
             [
              1,
              "#f0f921"
             ]
            ],
            "type": "histogram2dcontour"
           }
          ],
          "mesh3d": [
           {
            "colorbar": {
             "outlinewidth": 0,
             "ticks": ""
            },
            "type": "mesh3d"
           }
          ],
          "parcoords": [
           {
            "line": {
             "colorbar": {
              "outlinewidth": 0,
              "ticks": ""
             }
            },
            "type": "parcoords"
           }
          ],
          "pie": [
           {
            "automargin": true,
            "type": "pie"
           }
          ],
          "scatter": [
           {
            "fillpattern": {
             "fillmode": "overlay",
             "size": 10,
             "solidity": 0.2
            },
            "type": "scatter"
           }
          ],
          "scatter3d": [
           {
            "line": {
             "colorbar": {
              "outlinewidth": 0,
              "ticks": ""
             }
            },
            "marker": {
             "colorbar": {
              "outlinewidth": 0,
              "ticks": ""
             }
            },
            "type": "scatter3d"
           }
          ],
          "scattercarpet": [
           {
            "marker": {
             "colorbar": {
              "outlinewidth": 0,
              "ticks": ""
             }
            },
            "type": "scattercarpet"
           }
          ],
          "scattergeo": [
           {
            "marker": {
             "colorbar": {
              "outlinewidth": 0,
              "ticks": ""
             }
            },
            "type": "scattergeo"
           }
          ],
          "scattergl": [
           {
            "marker": {
             "colorbar": {
              "outlinewidth": 0,
              "ticks": ""
             }
            },
            "type": "scattergl"
           }
          ],
          "scattermapbox": [
           {
            "marker": {
             "colorbar": {
              "outlinewidth": 0,
              "ticks": ""
             }
            },
            "type": "scattermapbox"
           }
          ],
          "scatterpolar": [
           {
            "marker": {
             "colorbar": {
              "outlinewidth": 0,
              "ticks": ""
             }
            },
            "type": "scatterpolar"
           }
          ],
          "scatterpolargl": [
           {
            "marker": {
             "colorbar": {
              "outlinewidth": 0,
              "ticks": ""
             }
            },
            "type": "scatterpolargl"
           }
          ],
          "scatterternary": [
           {
            "marker": {
             "colorbar": {
              "outlinewidth": 0,
              "ticks": ""
             }
            },
            "type": "scatterternary"
           }
          ],
          "surface": [
           {
            "colorbar": {
             "outlinewidth": 0,
             "ticks": ""
            },
            "colorscale": [
             [
              0,
              "#0d0887"
             ],
             [
              0.1111111111111111,
              "#46039f"
             ],
             [
              0.2222222222222222,
              "#7201a8"
             ],
             [
              0.3333333333333333,
              "#9c179e"
             ],
             [
              0.4444444444444444,
              "#bd3786"
             ],
             [
              0.5555555555555556,
              "#d8576b"
             ],
             [
              0.6666666666666666,
              "#ed7953"
             ],
             [
              0.7777777777777778,
              "#fb9f3a"
             ],
             [
              0.8888888888888888,
              "#fdca26"
             ],
             [
              1,
              "#f0f921"
             ]
            ],
            "type": "surface"
           }
          ],
          "table": [
           {
            "cells": {
             "fill": {
              "color": "#EBF0F8"
             },
             "line": {
              "color": "white"
             }
            },
            "header": {
             "fill": {
              "color": "#C8D4E3"
             },
             "line": {
              "color": "white"
             }
            },
            "type": "table"
           }
          ]
         },
         "layout": {
          "annotationdefaults": {
           "arrowcolor": "#2a3f5f",
           "arrowhead": 0,
           "arrowwidth": 1
          },
          "autotypenumbers": "strict",
          "coloraxis": {
           "colorbar": {
            "outlinewidth": 0,
            "ticks": ""
           }
          },
          "colorscale": {
           "diverging": [
            [
             0,
             "#8e0152"
            ],
            [
             0.1,
             "#c51b7d"
            ],
            [
             0.2,
             "#de77ae"
            ],
            [
             0.3,
             "#f1b6da"
            ],
            [
             0.4,
             "#fde0ef"
            ],
            [
             0.5,
             "#f7f7f7"
            ],
            [
             0.6,
             "#e6f5d0"
            ],
            [
             0.7,
             "#b8e186"
            ],
            [
             0.8,
             "#7fbc41"
            ],
            [
             0.9,
             "#4d9221"
            ],
            [
             1,
             "#276419"
            ]
           ],
           "sequential": [
            [
             0,
             "#0d0887"
            ],
            [
             0.1111111111111111,
             "#46039f"
            ],
            [
             0.2222222222222222,
             "#7201a8"
            ],
            [
             0.3333333333333333,
             "#9c179e"
            ],
            [
             0.4444444444444444,
             "#bd3786"
            ],
            [
             0.5555555555555556,
             "#d8576b"
            ],
            [
             0.6666666666666666,
             "#ed7953"
            ],
            [
             0.7777777777777778,
             "#fb9f3a"
            ],
            [
             0.8888888888888888,
             "#fdca26"
            ],
            [
             1,
             "#f0f921"
            ]
           ],
           "sequentialminus": [
            [
             0,
             "#0d0887"
            ],
            [
             0.1111111111111111,
             "#46039f"
            ],
            [
             0.2222222222222222,
             "#7201a8"
            ],
            [
             0.3333333333333333,
             "#9c179e"
            ],
            [
             0.4444444444444444,
             "#bd3786"
            ],
            [
             0.5555555555555556,
             "#d8576b"
            ],
            [
             0.6666666666666666,
             "#ed7953"
            ],
            [
             0.7777777777777778,
             "#fb9f3a"
            ],
            [
             0.8888888888888888,
             "#fdca26"
            ],
            [
             1,
             "#f0f921"
            ]
           ]
          },
          "colorway": [
           "#636efa",
           "#EF553B",
           "#00cc96",
           "#ab63fa",
           "#FFA15A",
           "#19d3f3",
           "#FF6692",
           "#B6E880",
           "#FF97FF",
           "#FECB52"
          ],
          "font": {
           "color": "#2a3f5f"
          },
          "geo": {
           "bgcolor": "white",
           "lakecolor": "white",
           "landcolor": "white",
           "showlakes": true,
           "showland": true,
           "subunitcolor": "#C8D4E3"
          },
          "hoverlabel": {
           "align": "left"
          },
          "hovermode": "closest",
          "mapbox": {
           "style": "light"
          },
          "paper_bgcolor": "white",
          "plot_bgcolor": "white",
          "polar": {
           "angularaxis": {
            "gridcolor": "#EBF0F8",
            "linecolor": "#EBF0F8",
            "ticks": ""
           },
           "bgcolor": "white",
           "radialaxis": {
            "gridcolor": "#EBF0F8",
            "linecolor": "#EBF0F8",
            "ticks": ""
           }
          },
          "scene": {
           "xaxis": {
            "backgroundcolor": "white",
            "gridcolor": "#DFE8F3",
            "gridwidth": 2,
            "linecolor": "#EBF0F8",
            "showbackground": true,
            "ticks": "",
            "zerolinecolor": "#EBF0F8"
           },
           "yaxis": {
            "backgroundcolor": "white",
            "gridcolor": "#DFE8F3",
            "gridwidth": 2,
            "linecolor": "#EBF0F8",
            "showbackground": true,
            "ticks": "",
            "zerolinecolor": "#EBF0F8"
           },
           "zaxis": {
            "backgroundcolor": "white",
            "gridcolor": "#DFE8F3",
            "gridwidth": 2,
            "linecolor": "#EBF0F8",
            "showbackground": true,
            "ticks": "",
            "zerolinecolor": "#EBF0F8"
           }
          },
          "shapedefaults": {
           "line": {
            "color": "#2a3f5f"
           }
          },
          "ternary": {
           "aaxis": {
            "gridcolor": "#DFE8F3",
            "linecolor": "#A2B1C6",
            "ticks": ""
           },
           "baxis": {
            "gridcolor": "#DFE8F3",
            "linecolor": "#A2B1C6",
            "ticks": ""
           },
           "bgcolor": "white",
           "caxis": {
            "gridcolor": "#DFE8F3",
            "linecolor": "#A2B1C6",
            "ticks": ""
           }
          },
          "title": {
           "x": 0.05
          },
          "xaxis": {
           "automargin": true,
           "gridcolor": "#EBF0F8",
           "linecolor": "#EBF0F8",
           "ticks": "",
           "title": {
            "standoff": 15
           },
           "zerolinecolor": "#EBF0F8",
           "zerolinewidth": 2
          },
          "yaxis": {
           "automargin": true,
           "gridcolor": "#EBF0F8",
           "linecolor": "#EBF0F8",
           "ticks": "",
           "title": {
            "standoff": 15
           },
           "zerolinecolor": "#EBF0F8",
           "zerolinewidth": 2
          }
         }
        },
        "title": {
         "text": "All Metrics Comparison - Residence 2",
         "x": 0.5
        },
        "xaxis": {
         "anchor": "y",
         "autorange": true,
         "domain": [
          0,
          1
         ],
         "range": [
          -0.5,
          10.5
         ],
         "title": {
          "text": "Models"
         },
         "type": "category"
        },
        "yaxis": {
         "anchor": "x",
         "autorange": true,
         "domain": [
          0,
          1
         ],
         "range": [
          0,
          46.979535735095766
         ],
         "title": {
          "text": "Metric Value"
         },
         "type": "linear"
        }
       }
      },
      "text/html": [
       "<div>                            <div id=\"7e5cd20a-90bc-4886-8a1f-5db508be86f7\" class=\"plotly-graph-div\" style=\"height:500px; width:100%;\"></div>            <script type=\"text/javascript\">                require([\"plotly\"], function(Plotly) {                    window.PLOTLYENV=window.PLOTLYENV || {};                                    if (document.getElementById(\"7e5cd20a-90bc-4886-8a1f-5db508be86f7\")) {                    Plotly.newPlot(                        \"7e5cd20a-90bc-4886-8a1f-5db508be86f7\",                        [{\"alignmentgroup\":\"True\",\"hovertemplate\":\"Metric=MAE\\u003cbr\\u003eModels=%{x}\\u003cbr\\u003eMetric Value=%{y}\\u003cextra\\u003e\\u003c\\u002fextra\\u003e\",\"legendgroup\":\"MAE\",\"marker\":{\"color\":\"#636efa\",\"pattern\":{\"shape\":\"\"}},\"name\":\"MAE\",\"offsetgroup\":\"MAE\",\"orientation\":\"v\",\"showlegend\":true,\"textposition\":\"auto\",\"x\":[\"HyperNetLSTMRBF\",\"HyperNetLSTMPoly\",\"AttentionLSTM\",\"ARFFNN\",\"GRU\",\"Nbeats\",\"LSTM\",\"Transformer\",\"MLP\",\"RNN\",\"TempConv\"],\"xaxis\":\"x\",\"y\":[16.4905760105669,17.288637443187618,18.227739505969478,19.18530435848224,19.669265519647947,20.595469380276324,21.761387943805733,29.064618084503294,29.24066616010955,29.05206617965858,33.195392426637945],\"yaxis\":\"y\",\"type\":\"bar\"},{\"alignmentgroup\":\"True\",\"hovertemplate\":\"Metric=RMSE\\u003cbr\\u003eModels=%{x}\\u003cbr\\u003eMetric Value=%{y}\\u003cextra\\u003e\\u003c\\u002fextra\\u003e\",\"legendgroup\":\"RMSE\",\"marker\":{\"color\":\"#EF553B\",\"pattern\":{\"shape\":\"\"}},\"name\":\"RMSE\",\"offsetgroup\":\"RMSE\",\"orientation\":\"v\",\"showlegend\":true,\"textposition\":\"auto\",\"x\":[\"HyperNetLSTMRBF\",\"HyperNetLSTMPoly\",\"AttentionLSTM\",\"ARFFNN\",\"GRU\",\"Nbeats\",\"LSTM\",\"Transformer\",\"MLP\",\"RNN\",\"TempConv\"],\"xaxis\":\"x\",\"y\":[24.590323168988302,25.800753452324653,27.33042668132891,26.646420764611875,28.042729182286475,29.873115547326503,30.329546913496994,36.58778896512829,36.89007779830769,39.50006951064443,44.630558948340976],\"yaxis\":\"y\",\"type\":\"bar\"},{\"alignmentgroup\":\"True\",\"hovertemplate\":\"Metric=SMAPE\\u003cbr\\u003eModels=%{x}\\u003cbr\\u003eMetric Value=%{y}\\u003cextra\\u003e\\u003c\\u002fextra\\u003e\",\"legendgroup\":\"SMAPE\",\"marker\":{\"color\":\"#00cc96\",\"pattern\":{\"shape\":\"\"}},\"name\":\"SMAPE\",\"offsetgroup\":\"SMAPE\",\"orientation\":\"v\",\"showlegend\":true,\"textposition\":\"auto\",\"x\":[\"HyperNetLSTMRBF\",\"HyperNetLSTMPoly\",\"AttentionLSTM\",\"ARFFNN\",\"GRU\",\"Nbeats\",\"LSTM\",\"Transformer\",\"MLP\",\"RNN\",\"TempConv\"],\"xaxis\":\"x\",\"y\":[6.696848692814081,7.022716848976287,7.513673177451781,7.816871898061178,8.136380680279078,8.43049344150316,9.294467302600772,11.522125601559132,11.606174923351269,12.002729977533026,13.563679326025035],\"yaxis\":\"y\",\"type\":\"bar\"}],                        {\"template\":{\"data\":{\"barpolar\":[{\"marker\":{\"line\":{\"color\":\"white\",\"width\":0.5},\"pattern\":{\"fillmode\":\"overlay\",\"size\":10,\"solidity\":0.2}},\"type\":\"barpolar\"}],\"bar\":[{\"error_x\":{\"color\":\"#2a3f5f\"},\"error_y\":{\"color\":\"#2a3f5f\"},\"marker\":{\"line\":{\"color\":\"white\",\"width\":0.5},\"pattern\":{\"fillmode\":\"overlay\",\"size\":10,\"solidity\":0.2}},\"type\":\"bar\"}],\"carpet\":[{\"aaxis\":{\"endlinecolor\":\"#2a3f5f\",\"gridcolor\":\"#C8D4E3\",\"linecolor\":\"#C8D4E3\",\"minorgridcolor\":\"#C8D4E3\",\"startlinecolor\":\"#2a3f5f\"},\"baxis\":{\"endlinecolor\":\"#2a3f5f\",\"gridcolor\":\"#C8D4E3\",\"linecolor\":\"#C8D4E3\",\"minorgridcolor\":\"#C8D4E3\",\"startlinecolor\":\"#2a3f5f\"},\"type\":\"carpet\"}],\"choropleth\":[{\"colorbar\":{\"outlinewidth\":0,\"ticks\":\"\"},\"type\":\"choropleth\"}],\"contourcarpet\":[{\"colorbar\":{\"outlinewidth\":0,\"ticks\":\"\"},\"type\":\"contourcarpet\"}],\"contour\":[{\"colorbar\":{\"outlinewidth\":0,\"ticks\":\"\"},\"colorscale\":[[0.0,\"#0d0887\"],[0.1111111111111111,\"#46039f\"],[0.2222222222222222,\"#7201a8\"],[0.3333333333333333,\"#9c179e\"],[0.4444444444444444,\"#bd3786\"],[0.5555555555555556,\"#d8576b\"],[0.6666666666666666,\"#ed7953\"],[0.7777777777777778,\"#fb9f3a\"],[0.8888888888888888,\"#fdca26\"],[1.0,\"#f0f921\"]],\"type\":\"contour\"}],\"heatmapgl\":[{\"colorbar\":{\"outlinewidth\":0,\"ticks\":\"\"},\"colorscale\":[[0.0,\"#0d0887\"],[0.1111111111111111,\"#46039f\"],[0.2222222222222222,\"#7201a8\"],[0.3333333333333333,\"#9c179e\"],[0.4444444444444444,\"#bd3786\"],[0.5555555555555556,\"#d8576b\"],[0.6666666666666666,\"#ed7953\"],[0.7777777777777778,\"#fb9f3a\"],[0.8888888888888888,\"#fdca26\"],[1.0,\"#f0f921\"]],\"type\":\"heatmapgl\"}],\"heatmap\":[{\"colorbar\":{\"outlinewidth\":0,\"ticks\":\"\"},\"colorscale\":[[0.0,\"#0d0887\"],[0.1111111111111111,\"#46039f\"],[0.2222222222222222,\"#7201a8\"],[0.3333333333333333,\"#9c179e\"],[0.4444444444444444,\"#bd3786\"],[0.5555555555555556,\"#d8576b\"],[0.6666666666666666,\"#ed7953\"],[0.7777777777777778,\"#fb9f3a\"],[0.8888888888888888,\"#fdca26\"],[1.0,\"#f0f921\"]],\"type\":\"heatmap\"}],\"histogram2dcontour\":[{\"colorbar\":{\"outlinewidth\":0,\"ticks\":\"\"},\"colorscale\":[[0.0,\"#0d0887\"],[0.1111111111111111,\"#46039f\"],[0.2222222222222222,\"#7201a8\"],[0.3333333333333333,\"#9c179e\"],[0.4444444444444444,\"#bd3786\"],[0.5555555555555556,\"#d8576b\"],[0.6666666666666666,\"#ed7953\"],[0.7777777777777778,\"#fb9f3a\"],[0.8888888888888888,\"#fdca26\"],[1.0,\"#f0f921\"]],\"type\":\"histogram2dcontour\"}],\"histogram2d\":[{\"colorbar\":{\"outlinewidth\":0,\"ticks\":\"\"},\"colorscale\":[[0.0,\"#0d0887\"],[0.1111111111111111,\"#46039f\"],[0.2222222222222222,\"#7201a8\"],[0.3333333333333333,\"#9c179e\"],[0.4444444444444444,\"#bd3786\"],[0.5555555555555556,\"#d8576b\"],[0.6666666666666666,\"#ed7953\"],[0.7777777777777778,\"#fb9f3a\"],[0.8888888888888888,\"#fdca26\"],[1.0,\"#f0f921\"]],\"type\":\"histogram2d\"}],\"histogram\":[{\"marker\":{\"pattern\":{\"fillmode\":\"overlay\",\"size\":10,\"solidity\":0.2}},\"type\":\"histogram\"}],\"mesh3d\":[{\"colorbar\":{\"outlinewidth\":0,\"ticks\":\"\"},\"type\":\"mesh3d\"}],\"parcoords\":[{\"line\":{\"colorbar\":{\"outlinewidth\":0,\"ticks\":\"\"}},\"type\":\"parcoords\"}],\"pie\":[{\"automargin\":true,\"type\":\"pie\"}],\"scatter3d\":[{\"line\":{\"colorbar\":{\"outlinewidth\":0,\"ticks\":\"\"}},\"marker\":{\"colorbar\":{\"outlinewidth\":0,\"ticks\":\"\"}},\"type\":\"scatter3d\"}],\"scattercarpet\":[{\"marker\":{\"colorbar\":{\"outlinewidth\":0,\"ticks\":\"\"}},\"type\":\"scattercarpet\"}],\"scattergeo\":[{\"marker\":{\"colorbar\":{\"outlinewidth\":0,\"ticks\":\"\"}},\"type\":\"scattergeo\"}],\"scattergl\":[{\"marker\":{\"colorbar\":{\"outlinewidth\":0,\"ticks\":\"\"}},\"type\":\"scattergl\"}],\"scattermapbox\":[{\"marker\":{\"colorbar\":{\"outlinewidth\":0,\"ticks\":\"\"}},\"type\":\"scattermapbox\"}],\"scatterpolargl\":[{\"marker\":{\"colorbar\":{\"outlinewidth\":0,\"ticks\":\"\"}},\"type\":\"scatterpolargl\"}],\"scatterpolar\":[{\"marker\":{\"colorbar\":{\"outlinewidth\":0,\"ticks\":\"\"}},\"type\":\"scatterpolar\"}],\"scatter\":[{\"fillpattern\":{\"fillmode\":\"overlay\",\"size\":10,\"solidity\":0.2},\"type\":\"scatter\"}],\"scatterternary\":[{\"marker\":{\"colorbar\":{\"outlinewidth\":0,\"ticks\":\"\"}},\"type\":\"scatterternary\"}],\"surface\":[{\"colorbar\":{\"outlinewidth\":0,\"ticks\":\"\"},\"colorscale\":[[0.0,\"#0d0887\"],[0.1111111111111111,\"#46039f\"],[0.2222222222222222,\"#7201a8\"],[0.3333333333333333,\"#9c179e\"],[0.4444444444444444,\"#bd3786\"],[0.5555555555555556,\"#d8576b\"],[0.6666666666666666,\"#ed7953\"],[0.7777777777777778,\"#fb9f3a\"],[0.8888888888888888,\"#fdca26\"],[1.0,\"#f0f921\"]],\"type\":\"surface\"}],\"table\":[{\"cells\":{\"fill\":{\"color\":\"#EBF0F8\"},\"line\":{\"color\":\"white\"}},\"header\":{\"fill\":{\"color\":\"#C8D4E3\"},\"line\":{\"color\":\"white\"}},\"type\":\"table\"}]},\"layout\":{\"annotationdefaults\":{\"arrowcolor\":\"#2a3f5f\",\"arrowhead\":0,\"arrowwidth\":1},\"autotypenumbers\":\"strict\",\"coloraxis\":{\"colorbar\":{\"outlinewidth\":0,\"ticks\":\"\"}},\"colorscale\":{\"diverging\":[[0,\"#8e0152\"],[0.1,\"#c51b7d\"],[0.2,\"#de77ae\"],[0.3,\"#f1b6da\"],[0.4,\"#fde0ef\"],[0.5,\"#f7f7f7\"],[0.6,\"#e6f5d0\"],[0.7,\"#b8e186\"],[0.8,\"#7fbc41\"],[0.9,\"#4d9221\"],[1,\"#276419\"]],\"sequential\":[[0.0,\"#0d0887\"],[0.1111111111111111,\"#46039f\"],[0.2222222222222222,\"#7201a8\"],[0.3333333333333333,\"#9c179e\"],[0.4444444444444444,\"#bd3786\"],[0.5555555555555556,\"#d8576b\"],[0.6666666666666666,\"#ed7953\"],[0.7777777777777778,\"#fb9f3a\"],[0.8888888888888888,\"#fdca26\"],[1.0,\"#f0f921\"]],\"sequentialminus\":[[0.0,\"#0d0887\"],[0.1111111111111111,\"#46039f\"],[0.2222222222222222,\"#7201a8\"],[0.3333333333333333,\"#9c179e\"],[0.4444444444444444,\"#bd3786\"],[0.5555555555555556,\"#d8576b\"],[0.6666666666666666,\"#ed7953\"],[0.7777777777777778,\"#fb9f3a\"],[0.8888888888888888,\"#fdca26\"],[1.0,\"#f0f921\"]]},\"colorway\":[\"#636efa\",\"#EF553B\",\"#00cc96\",\"#ab63fa\",\"#FFA15A\",\"#19d3f3\",\"#FF6692\",\"#B6E880\",\"#FF97FF\",\"#FECB52\"],\"font\":{\"color\":\"#2a3f5f\"},\"geo\":{\"bgcolor\":\"white\",\"lakecolor\":\"white\",\"landcolor\":\"white\",\"showlakes\":true,\"showland\":true,\"subunitcolor\":\"#C8D4E3\"},\"hoverlabel\":{\"align\":\"left\"},\"hovermode\":\"closest\",\"mapbox\":{\"style\":\"light\"},\"paper_bgcolor\":\"white\",\"plot_bgcolor\":\"white\",\"polar\":{\"angularaxis\":{\"gridcolor\":\"#EBF0F8\",\"linecolor\":\"#EBF0F8\",\"ticks\":\"\"},\"bgcolor\":\"white\",\"radialaxis\":{\"gridcolor\":\"#EBF0F8\",\"linecolor\":\"#EBF0F8\",\"ticks\":\"\"}},\"scene\":{\"xaxis\":{\"backgroundcolor\":\"white\",\"gridcolor\":\"#DFE8F3\",\"gridwidth\":2,\"linecolor\":\"#EBF0F8\",\"showbackground\":true,\"ticks\":\"\",\"zerolinecolor\":\"#EBF0F8\"},\"yaxis\":{\"backgroundcolor\":\"white\",\"gridcolor\":\"#DFE8F3\",\"gridwidth\":2,\"linecolor\":\"#EBF0F8\",\"showbackground\":true,\"ticks\":\"\",\"zerolinecolor\":\"#EBF0F8\"},\"zaxis\":{\"backgroundcolor\":\"white\",\"gridcolor\":\"#DFE8F3\",\"gridwidth\":2,\"linecolor\":\"#EBF0F8\",\"showbackground\":true,\"ticks\":\"\",\"zerolinecolor\":\"#EBF0F8\"}},\"shapedefaults\":{\"line\":{\"color\":\"#2a3f5f\"}},\"ternary\":{\"aaxis\":{\"gridcolor\":\"#DFE8F3\",\"linecolor\":\"#A2B1C6\",\"ticks\":\"\"},\"baxis\":{\"gridcolor\":\"#DFE8F3\",\"linecolor\":\"#A2B1C6\",\"ticks\":\"\"},\"bgcolor\":\"white\",\"caxis\":{\"gridcolor\":\"#DFE8F3\",\"linecolor\":\"#A2B1C6\",\"ticks\":\"\"}},\"title\":{\"x\":0.05},\"xaxis\":{\"automargin\":true,\"gridcolor\":\"#EBF0F8\",\"linecolor\":\"#EBF0F8\",\"ticks\":\"\",\"title\":{\"standoff\":15},\"zerolinecolor\":\"#EBF0F8\",\"zerolinewidth\":2},\"yaxis\":{\"automargin\":true,\"gridcolor\":\"#EBF0F8\",\"linecolor\":\"#EBF0F8\",\"ticks\":\"\",\"title\":{\"standoff\":15},\"zerolinecolor\":\"#EBF0F8\",\"zerolinewidth\":2}}},\"xaxis\":{\"anchor\":\"y\",\"domain\":[0.0,1.0],\"title\":{\"text\":\"Models\"}},\"yaxis\":{\"anchor\":\"x\",\"domain\":[0.0,1.0],\"title\":{\"text\":\"Metric Value\"}},\"legend\":{\"title\":{\"text\":\"Metric\"},\"tracegroupgap\":0},\"margin\":{\"t\":60},\"barmode\":\"group\",\"title\":{\"text\":\"All Metrics Comparison - Residence 2\",\"x\":0.5},\"height\":500},                        {\"responsive\": true}                    ).then(function(){\n",
       "                            \n",
       "var gd = document.getElementById('7e5cd20a-90bc-4886-8a1f-5db508be86f7');\n",
       "var x = new MutationObserver(function (mutations, observer) {{\n",
       "        var display = window.getComputedStyle(gd).display;\n",
       "        if (!display || display === 'none') {{\n",
       "            console.log([gd, 'removed!']);\n",
       "            Plotly.purge(gd);\n",
       "            observer.disconnect();\n",
       "        }}\n",
       "}});\n",
       "\n",
       "// Listen for the removal of the full notebook cells\n",
       "var notebookContainer = gd.closest('#notebook-container');\n",
       "if (notebookContainer) {{\n",
       "    x.observe(notebookContainer, {childList: true});\n",
       "}}\n",
       "\n",
       "// Listen for the clearing of the current output cell\n",
       "var outputEl = gd.closest('.output');\n",
       "if (outputEl) {{\n",
       "    x.observe(outputEl, {childList: true});\n",
       "}}\n",
       "\n",
       "                        })                };                });            </script>        </div>"
      ]
     },
     "metadata": {},
     "output_type": "display_data"
    },
    {
     "data": {
      "application/vnd.plotly.v1+json": {
       "config": {
        "plotlyServerURL": "https://plot.ly"
       },
       "data": [
        {
         "mode": "lines",
         "name": "Actual",
         "type": "scatter",
         "x": [
          0,
          1,
          2,
          3,
          4,
          5,
          6,
          7,
          8,
          9,
          10,
          11,
          12,
          13,
          14,
          15,
          16,
          17,
          18,
          19,
          20,
          21,
          22,
          23,
          24,
          25,
          26,
          27,
          28,
          29,
          30,
          31,
          32,
          33,
          34,
          35,
          36,
          37,
          38,
          39,
          40,
          41,
          42,
          43,
          44,
          45,
          46,
          47,
          48,
          49,
          50,
          51,
          52,
          53,
          54,
          55,
          56,
          57,
          58,
          59,
          60,
          61,
          62,
          63,
          64,
          65,
          66,
          67,
          68,
          69,
          70,
          71,
          72,
          73,
          74,
          75,
          76,
          77,
          78,
          79,
          80,
          81,
          82,
          83,
          84,
          85,
          86,
          87,
          88,
          89,
          90,
          91,
          92,
          93,
          94,
          95,
          96,
          97,
          98,
          99
         ],
         "y": [
          369.15,
          390.9,
          382.05,
          375,
          353.4,
          330.75,
          325.2,
          321.3,
          315.6,
          308.55,
          291.75,
          291.6,
          293.25,
          292.35,
          293.55,
          288.9,
          287.4,
          304.95,
          289.35,
          311.7,
          316.65,
          318.75,
          335.85,
          331.5,
          390.9,
          382.05,
          375,
          353.4,
          330.75,
          325.2,
          321.3,
          315.6,
          308.55,
          291.75,
          291.6,
          293.25,
          292.35,
          293.55,
          288.9,
          287.4,
          304.95,
          289.35,
          311.7,
          316.65,
          318.75,
          335.85,
          331.5,
          331.05,
          382.05,
          375,
          353.4,
          330.75,
          325.2,
          321.3,
          315.6,
          308.55,
          291.75,
          291.6,
          293.25,
          292.35,
          293.55,
          288.9,
          287.4,
          304.95,
          289.35,
          311.7,
          316.65,
          318.75,
          335.85,
          331.5,
          331.05,
          331.05,
          375,
          353.4,
          330.75,
          325.2,
          321.3,
          315.6,
          308.55,
          291.75,
          291.6,
          293.25,
          292.35,
          293.55,
          288.9,
          287.4,
          304.95,
          289.35,
          311.7,
          316.65,
          318.75,
          335.85,
          331.5,
          331.05,
          331.05,
          293.1,
          353.4,
          330.75,
          325.2,
          321.3
         ]
        },
        {
         "mode": "lines",
         "name": "HyperNetLSTMRBF",
         "type": "scatter",
         "x": [
          0,
          1,
          2,
          3,
          4,
          5,
          6,
          7,
          8,
          9,
          10,
          11,
          12,
          13,
          14,
          15,
          16,
          17,
          18,
          19,
          20,
          21,
          22,
          23,
          24,
          25,
          26,
          27,
          28,
          29,
          30,
          31,
          32,
          33,
          34,
          35,
          36,
          37,
          38,
          39,
          40,
          41,
          42,
          43,
          44,
          45,
          46,
          47,
          48,
          49,
          50,
          51,
          52,
          53,
          54,
          55,
          56,
          57,
          58,
          59,
          60,
          61,
          62,
          63,
          64,
          65,
          66,
          67,
          68,
          69,
          70,
          71,
          72,
          73,
          74,
          75,
          76,
          77,
          78,
          79,
          80,
          81,
          82,
          83,
          84,
          85,
          86,
          87,
          88,
          89,
          90,
          91,
          92,
          93,
          94,
          95,
          96,
          97,
          98,
          99
         ],
         "y": [
          400.13855,
          417.22815,
          375.6605,
          377.18475,
          360.89276,
          353.10095,
          342.58313,
          331.831,
          321.94995,
          313.38394,
          308.87674,
          308.612,
          309.84705,
          311.79468,
          312.27408,
          308.47763,
          303.29483,
          304.15463,
          313.48654,
          327.50507,
          344.90152,
          362.11725,
          373.37268,
          379.93713,
          402.9923,
          419.9665,
          381.6389,
          374.3439,
          353.9416,
          344.62753,
          333.05658,
          324.21692,
          315.32104,
          307.8595,
          305.7617,
          306.85944,
          311.02054,
          316.33783,
          316.65558,
          311.20782,
          307.26544,
          311.4673,
          322.11377,
          335.22513,
          352.20593,
          367.55298,
          377.40546,
          383.31165,
          392.21402,
          407.2283,
          376.56012,
          359.73148,
          338.98074,
          330.5285,
          321.14764,
          314.23193,
          306.68097,
          302.57324,
          302.47766,
          306.2123,
          313.13937,
          317.1088,
          314.1882,
          309.93326,
          311.2237,
          319.0436,
          329.06174,
          341.52527,
          356.3434,
          367.24368,
          374.46936,
          376.66602,
          380.85693,
          394.38113,
          369.0144,
          343.58905,
          324.85336,
          318.51468,
          311.16745,
          305.63367,
          301.1255,
          299.52917,
          301.91574,
          308.12265,
          313.2379,
          312.63513,
          310.80206,
          312.8982,
          319.8086,
          328.6044,
          338.54764,
          350.68893,
          360.88773,
          367.90625,
          369.98047,
          365.55035,
          359.65976,
          366.03308,
          346.89755,
          322.21686
         ]
        },
        {
         "mode": "lines",
         "name": "LSTM",
         "type": "scatter",
         "x": [
          0,
          1,
          2,
          3,
          4,
          5,
          6,
          7,
          8,
          9,
          10,
          11,
          12,
          13,
          14,
          15,
          16,
          17,
          18,
          19,
          20,
          21,
          22,
          23,
          24,
          25,
          26,
          27,
          28,
          29,
          30,
          31,
          32,
          33,
          34,
          35,
          36,
          37,
          38,
          39,
          40,
          41,
          42,
          43,
          44,
          45,
          46,
          47,
          48,
          49,
          50,
          51,
          52,
          53,
          54,
          55,
          56,
          57,
          58,
          59,
          60,
          61,
          62,
          63,
          64,
          65,
          66,
          67,
          68,
          69,
          70,
          71,
          72,
          73,
          74,
          75,
          76,
          77,
          78,
          79,
          80,
          81,
          82,
          83,
          84,
          85,
          86,
          87,
          88,
          89,
          90,
          91,
          92,
          93,
          94,
          95,
          96,
          97,
          98,
          99
         ],
         "y": [
          377.80994,
          394.9945,
          394.25305,
          385.2903,
          377.64227,
          366.72522,
          356.80856,
          349.92166,
          345.16553,
          340.11337,
          331.19754,
          325.8885,
          321.15332,
          321.00308,
          320.7366,
          321.71484,
          322.7334,
          330.60034,
          337.7238,
          346.83618,
          348.95612,
          352.23337,
          355.6245,
          355.31174,
          379.45996,
          394.7916,
          391.4066,
          385.23166,
          373.8966,
          362.94873,
          354.96155,
          349.20102,
          343.27283,
          333.64288,
          327.81253,
          322.6598,
          322.19687,
          321.6841,
          322.47018,
          323.33618,
          331.08798,
          338.11633,
          347.15106,
          349.2032,
          352.4255,
          355.77243,
          355.4237,
          352.91028,
          370.87604,
          382.83496,
          382.697,
          373.61743,
          363.24762,
          355.04694,
          348.76785,
          342.3729,
          332.72833,
          326.77634,
          321.55682,
          320.74982,
          319.9751,
          320.45306,
          321.0519,
          327.9945,
          334.29965,
          342.46112,
          344.24887,
          347.1231,
          350.1251,
          349.75812,
          347.42157,
          349.12808,
          362.23535,
          376.07416,
          372.5163,
          364.1097,
          356.2746,
          349.67496,
          342.79935,
          332.9604,
          326.76022,
          321.34558,
          320.15106,
          319.07114,
          319.2241,
          319.54346,
          325.78983,
          331.47382,
          338.90125,
          340.44287,
          343.0102,
          345.71292,
          345.31107,
          343.09903,
          344.64114,
          343.57208,
          344.86084,
          351.93817,
          349.0264,
          344.01904
         ]
        },
        {
         "mode": "lines",
         "name": "AttentionLSTM",
         "type": "scatter",
         "x": [
          0,
          1,
          2,
          3,
          4,
          5,
          6,
          7,
          8,
          9,
          10,
          11,
          12,
          13,
          14,
          15,
          16,
          17,
          18,
          19,
          20,
          21,
          22,
          23,
          24,
          25,
          26,
          27,
          28,
          29,
          30,
          31,
          32,
          33,
          34,
          35,
          36,
          37,
          38,
          39,
          40,
          41,
          42,
          43,
          44,
          45,
          46,
          47,
          48,
          49,
          50,
          51,
          52,
          53,
          54,
          55,
          56,
          57,
          58,
          59,
          60,
          61,
          62,
          63,
          64,
          65,
          66,
          67,
          68,
          69,
          70,
          71,
          72,
          73,
          74,
          75,
          76,
          77,
          78,
          79,
          80,
          81,
          82,
          83,
          84,
          85,
          86,
          87,
          88,
          89,
          90,
          91,
          92,
          93,
          94,
          95,
          96,
          97,
          98,
          99
         ],
         "y": [
          367.0213,
          371.35803,
          370.46893,
          367.14856,
          361.25406,
          347.25806,
          331.19263,
          320.67682,
          314.88,
          311.46762,
          295.93933,
          292.3001,
          291.93277,
          291.80417,
          291.94598,
          292.6582,
          294.64194,
          297.8982,
          305.10324,
          317.19574,
          341.31793,
          361.45047,
          368.79688,
          370.85315,
          367.97266,
          370.4075,
          367.14636,
          361.25323,
          347.25742,
          331.1923,
          320.67664,
          314.87994,
          311.4676,
          295.93924,
          292.29965,
          291.93234,
          291.80383,
          291.94574,
          292.65805,
          294.6419,
          297.89822,
          305.10333,
          317.19583,
          341.318,
          361.45047,
          368.79684,
          370.8531,
          371.44135,
          359.59918,
          360.07803,
          354.90256,
          342.13046,
          327.4461,
          317.83102,
          312.53012,
          309.40958,
          295.20895,
          291.88004,
          291.5442,
          291.42673,
          291.55664,
          292.2082,
          294.02255,
          297.00046,
          303.58948,
          314.64795,
          336.70746,
          355.1185,
          361.83673,
          363.7171,
          364.2551,
          364.33813,
          350.22464,
          349.27075,
          337.91632,
          324.4416,
          315.56308,
          310.6582,
          307.7701,
          294.6272,
          291.54553,
          291.23477,
          291.1262,
          291.2466,
          291.8498,
          293.5291,
          296.28528,
          302.38354,
          312.61826,
          333.0346,
          350.07434,
          356.29218,
          358.03253,
          358.5304,
          358.6073,
          358.02338,
          331.4884,
          324.95404,
          315.2311,
          308.61472
         ]
        },
        {
         "mode": "lines",
         "name": "Transformer",
         "type": "scatter",
         "x": [
          0,
          1,
          2,
          3,
          4,
          5,
          6,
          7,
          8,
          9,
          10,
          11,
          12,
          13,
          14,
          15,
          16,
          17,
          18,
          19,
          20,
          21,
          22,
          23,
          24,
          25,
          26,
          27,
          28,
          29,
          30,
          31,
          32,
          33,
          34,
          35,
          36,
          37,
          38,
          39,
          40,
          41,
          42,
          43,
          44,
          45,
          46,
          47,
          48,
          49,
          50,
          51,
          52,
          53,
          54,
          55,
          56,
          57,
          58,
          59,
          60,
          61,
          62,
          63,
          64,
          65,
          66,
          67,
          68,
          69,
          70,
          71,
          72,
          73,
          74,
          75,
          76,
          77,
          78,
          79,
          80,
          81,
          82,
          83,
          84,
          85,
          86,
          87,
          88,
          89,
          90,
          91,
          92,
          93,
          94,
          95,
          96,
          97,
          98,
          99
         ],
         "y": [
          385.40692,
          385.53,
          382.06198,
          371.78052,
          359.01276,
          338.83856,
          323.59906,
          314.44415,
          308.2029,
          302.89005,
          300.52676,
          300.44537,
          299.96118,
          300.6222,
          301.12576,
          303.1443,
          307.97803,
          326.17554,
          344.68146,
          360.90543,
          369.58063,
          376.16516,
          380.3786,
          383.1315,
          385.5296,
          382.06198,
          371.78052,
          359.01276,
          338.83856,
          323.59906,
          314.44415,
          308.2029,
          302.89005,
          300.52676,
          300.44537,
          299.96118,
          300.6222,
          301.12576,
          303.1443,
          307.97803,
          326.17554,
          344.68146,
          360.90543,
          369.58063,
          376.16516,
          380.3786,
          383.1315,
          384.93097,
          373.96768,
          364.56537,
          352.88934,
          334.4402,
          320.50378,
          312.13168,
          306.4241,
          301.56555,
          299.40433,
          299.3299,
          298.88712,
          299.49158,
          299.95212,
          301.79803,
          306.21844,
          322.85995,
          339.78345,
          354.62018,
          362.5536,
          368.57507,
          372.42825,
          374.94577,
          376.59134,
          376.97702,
          358.81772,
          348.01138,
          330.9364,
          318.03806,
          310.28955,
          305.00708,
          300.51044,
          298.5102,
          298.44128,
          298.0315,
          298.59094,
          299.01715,
          300.7256,
          304.81677,
          320.21872,
          335.88168,
          349.61328,
          356.95578,
          362.52875,
          366.09494,
          368.42493,
          369.94794,
          370.30487,
          367.7688,
          333.0661,
          320.2014,
          310.48346,
          304.64554
         ]
        }
       ],
       "layout": {
        "autosize": true,
        "legend": {
         "title": {
          "text": "Models"
         }
        },
        "template": {
         "data": {
          "bar": [
           {
            "error_x": {
             "color": "#2a3f5f"
            },
            "error_y": {
             "color": "#2a3f5f"
            },
            "marker": {
             "line": {
              "color": "white",
              "width": 0.5
             },
             "pattern": {
              "fillmode": "overlay",
              "size": 10,
              "solidity": 0.2
             }
            },
            "type": "bar"
           }
          ],
          "barpolar": [
           {
            "marker": {
             "line": {
              "color": "white",
              "width": 0.5
             },
             "pattern": {
              "fillmode": "overlay",
              "size": 10,
              "solidity": 0.2
             }
            },
            "type": "barpolar"
           }
          ],
          "carpet": [
           {
            "aaxis": {
             "endlinecolor": "#2a3f5f",
             "gridcolor": "#C8D4E3",
             "linecolor": "#C8D4E3",
             "minorgridcolor": "#C8D4E3",
             "startlinecolor": "#2a3f5f"
            },
            "baxis": {
             "endlinecolor": "#2a3f5f",
             "gridcolor": "#C8D4E3",
             "linecolor": "#C8D4E3",
             "minorgridcolor": "#C8D4E3",
             "startlinecolor": "#2a3f5f"
            },
            "type": "carpet"
           }
          ],
          "choropleth": [
           {
            "colorbar": {
             "outlinewidth": 0,
             "ticks": ""
            },
            "type": "choropleth"
           }
          ],
          "contour": [
           {
            "colorbar": {
             "outlinewidth": 0,
             "ticks": ""
            },
            "colorscale": [
             [
              0,
              "#0d0887"
             ],
             [
              0.1111111111111111,
              "#46039f"
             ],
             [
              0.2222222222222222,
              "#7201a8"
             ],
             [
              0.3333333333333333,
              "#9c179e"
             ],
             [
              0.4444444444444444,
              "#bd3786"
             ],
             [
              0.5555555555555556,
              "#d8576b"
             ],
             [
              0.6666666666666666,
              "#ed7953"
             ],
             [
              0.7777777777777778,
              "#fb9f3a"
             ],
             [
              0.8888888888888888,
              "#fdca26"
             ],
             [
              1,
              "#f0f921"
             ]
            ],
            "type": "contour"
           }
          ],
          "contourcarpet": [
           {
            "colorbar": {
             "outlinewidth": 0,
             "ticks": ""
            },
            "type": "contourcarpet"
           }
          ],
          "heatmap": [
           {
            "colorbar": {
             "outlinewidth": 0,
             "ticks": ""
            },
            "colorscale": [
             [
              0,
              "#0d0887"
             ],
             [
              0.1111111111111111,
              "#46039f"
             ],
             [
              0.2222222222222222,
              "#7201a8"
             ],
             [
              0.3333333333333333,
              "#9c179e"
             ],
             [
              0.4444444444444444,
              "#bd3786"
             ],
             [
              0.5555555555555556,
              "#d8576b"
             ],
             [
              0.6666666666666666,
              "#ed7953"
             ],
             [
              0.7777777777777778,
              "#fb9f3a"
             ],
             [
              0.8888888888888888,
              "#fdca26"
             ],
             [
              1,
              "#f0f921"
             ]
            ],
            "type": "heatmap"
           }
          ],
          "heatmapgl": [
           {
            "colorbar": {
             "outlinewidth": 0,
             "ticks": ""
            },
            "colorscale": [
             [
              0,
              "#0d0887"
             ],
             [
              0.1111111111111111,
              "#46039f"
             ],
             [
              0.2222222222222222,
              "#7201a8"
             ],
             [
              0.3333333333333333,
              "#9c179e"
             ],
             [
              0.4444444444444444,
              "#bd3786"
             ],
             [
              0.5555555555555556,
              "#d8576b"
             ],
             [
              0.6666666666666666,
              "#ed7953"
             ],
             [
              0.7777777777777778,
              "#fb9f3a"
             ],
             [
              0.8888888888888888,
              "#fdca26"
             ],
             [
              1,
              "#f0f921"
             ]
            ],
            "type": "heatmapgl"
           }
          ],
          "histogram": [
           {
            "marker": {
             "pattern": {
              "fillmode": "overlay",
              "size": 10,
              "solidity": 0.2
             }
            },
            "type": "histogram"
           }
          ],
          "histogram2d": [
           {
            "colorbar": {
             "outlinewidth": 0,
             "ticks": ""
            },
            "colorscale": [
             [
              0,
              "#0d0887"
             ],
             [
              0.1111111111111111,
              "#46039f"
             ],
             [
              0.2222222222222222,
              "#7201a8"
             ],
             [
              0.3333333333333333,
              "#9c179e"
             ],
             [
              0.4444444444444444,
              "#bd3786"
             ],
             [
              0.5555555555555556,
              "#d8576b"
             ],
             [
              0.6666666666666666,
              "#ed7953"
             ],
             [
              0.7777777777777778,
              "#fb9f3a"
             ],
             [
              0.8888888888888888,
              "#fdca26"
             ],
             [
              1,
              "#f0f921"
             ]
            ],
            "type": "histogram2d"
           }
          ],
          "histogram2dcontour": [
           {
            "colorbar": {
             "outlinewidth": 0,
             "ticks": ""
            },
            "colorscale": [
             [
              0,
              "#0d0887"
             ],
             [
              0.1111111111111111,
              "#46039f"
             ],
             [
              0.2222222222222222,
              "#7201a8"
             ],
             [
              0.3333333333333333,
              "#9c179e"
             ],
             [
              0.4444444444444444,
              "#bd3786"
             ],
             [
              0.5555555555555556,
              "#d8576b"
             ],
             [
              0.6666666666666666,
              "#ed7953"
             ],
             [
              0.7777777777777778,
              "#fb9f3a"
             ],
             [
              0.8888888888888888,
              "#fdca26"
             ],
             [
              1,
              "#f0f921"
             ]
            ],
            "type": "histogram2dcontour"
           }
          ],
          "mesh3d": [
           {
            "colorbar": {
             "outlinewidth": 0,
             "ticks": ""
            },
            "type": "mesh3d"
           }
          ],
          "parcoords": [
           {
            "line": {
             "colorbar": {
              "outlinewidth": 0,
              "ticks": ""
             }
            },
            "type": "parcoords"
           }
          ],
          "pie": [
           {
            "automargin": true,
            "type": "pie"
           }
          ],
          "scatter": [
           {
            "fillpattern": {
             "fillmode": "overlay",
             "size": 10,
             "solidity": 0.2
            },
            "type": "scatter"
           }
          ],
          "scatter3d": [
           {
            "line": {
             "colorbar": {
              "outlinewidth": 0,
              "ticks": ""
             }
            },
            "marker": {
             "colorbar": {
              "outlinewidth": 0,
              "ticks": ""
             }
            },
            "type": "scatter3d"
           }
          ],
          "scattercarpet": [
           {
            "marker": {
             "colorbar": {
              "outlinewidth": 0,
              "ticks": ""
             }
            },
            "type": "scattercarpet"
           }
          ],
          "scattergeo": [
           {
            "marker": {
             "colorbar": {
              "outlinewidth": 0,
              "ticks": ""
             }
            },
            "type": "scattergeo"
           }
          ],
          "scattergl": [
           {
            "marker": {
             "colorbar": {
              "outlinewidth": 0,
              "ticks": ""
             }
            },
            "type": "scattergl"
           }
          ],
          "scattermapbox": [
           {
            "marker": {
             "colorbar": {
              "outlinewidth": 0,
              "ticks": ""
             }
            },
            "type": "scattermapbox"
           }
          ],
          "scatterpolar": [
           {
            "marker": {
             "colorbar": {
              "outlinewidth": 0,
              "ticks": ""
             }
            },
            "type": "scatterpolar"
           }
          ],
          "scatterpolargl": [
           {
            "marker": {
             "colorbar": {
              "outlinewidth": 0,
              "ticks": ""
             }
            },
            "type": "scatterpolargl"
           }
          ],
          "scatterternary": [
           {
            "marker": {
             "colorbar": {
              "outlinewidth": 0,
              "ticks": ""
             }
            },
            "type": "scatterternary"
           }
          ],
          "surface": [
           {
            "colorbar": {
             "outlinewidth": 0,
             "ticks": ""
            },
            "colorscale": [
             [
              0,
              "#0d0887"
             ],
             [
              0.1111111111111111,
              "#46039f"
             ],
             [
              0.2222222222222222,
              "#7201a8"
             ],
             [
              0.3333333333333333,
              "#9c179e"
             ],
             [
              0.4444444444444444,
              "#bd3786"
             ],
             [
              0.5555555555555556,
              "#d8576b"
             ],
             [
              0.6666666666666666,
              "#ed7953"
             ],
             [
              0.7777777777777778,
              "#fb9f3a"
             ],
             [
              0.8888888888888888,
              "#fdca26"
             ],
             [
              1,
              "#f0f921"
             ]
            ],
            "type": "surface"
           }
          ],
          "table": [
           {
            "cells": {
             "fill": {
              "color": "#EBF0F8"
             },
             "line": {
              "color": "white"
             }
            },
            "header": {
             "fill": {
              "color": "#C8D4E3"
             },
             "line": {
              "color": "white"
             }
            },
            "type": "table"
           }
          ]
         },
         "layout": {
          "annotationdefaults": {
           "arrowcolor": "#2a3f5f",
           "arrowhead": 0,
           "arrowwidth": 1
          },
          "autotypenumbers": "strict",
          "coloraxis": {
           "colorbar": {
            "outlinewidth": 0,
            "ticks": ""
           }
          },
          "colorscale": {
           "diverging": [
            [
             0,
             "#8e0152"
            ],
            [
             0.1,
             "#c51b7d"
            ],
            [
             0.2,
             "#de77ae"
            ],
            [
             0.3,
             "#f1b6da"
            ],
            [
             0.4,
             "#fde0ef"
            ],
            [
             0.5,
             "#f7f7f7"
            ],
            [
             0.6,
             "#e6f5d0"
            ],
            [
             0.7,
             "#b8e186"
            ],
            [
             0.8,
             "#7fbc41"
            ],
            [
             0.9,
             "#4d9221"
            ],
            [
             1,
             "#276419"
            ]
           ],
           "sequential": [
            [
             0,
             "#0d0887"
            ],
            [
             0.1111111111111111,
             "#46039f"
            ],
            [
             0.2222222222222222,
             "#7201a8"
            ],
            [
             0.3333333333333333,
             "#9c179e"
            ],
            [
             0.4444444444444444,
             "#bd3786"
            ],
            [
             0.5555555555555556,
             "#d8576b"
            ],
            [
             0.6666666666666666,
             "#ed7953"
            ],
            [
             0.7777777777777778,
             "#fb9f3a"
            ],
            [
             0.8888888888888888,
             "#fdca26"
            ],
            [
             1,
             "#f0f921"
            ]
           ],
           "sequentialminus": [
            [
             0,
             "#0d0887"
            ],
            [
             0.1111111111111111,
             "#46039f"
            ],
            [
             0.2222222222222222,
             "#7201a8"
            ],
            [
             0.3333333333333333,
             "#9c179e"
            ],
            [
             0.4444444444444444,
             "#bd3786"
            ],
            [
             0.5555555555555556,
             "#d8576b"
            ],
            [
             0.6666666666666666,
             "#ed7953"
            ],
            [
             0.7777777777777778,
             "#fb9f3a"
            ],
            [
             0.8888888888888888,
             "#fdca26"
            ],
            [
             1,
             "#f0f921"
            ]
           ]
          },
          "colorway": [
           "#636efa",
           "#EF553B",
           "#00cc96",
           "#ab63fa",
           "#FFA15A",
           "#19d3f3",
           "#FF6692",
           "#B6E880",
           "#FF97FF",
           "#FECB52"
          ],
          "font": {
           "color": "#2a3f5f"
          },
          "geo": {
           "bgcolor": "white",
           "lakecolor": "white",
           "landcolor": "white",
           "showlakes": true,
           "showland": true,
           "subunitcolor": "#C8D4E3"
          },
          "hoverlabel": {
           "align": "left"
          },
          "hovermode": "closest",
          "mapbox": {
           "style": "light"
          },
          "paper_bgcolor": "white",
          "plot_bgcolor": "white",
          "polar": {
           "angularaxis": {
            "gridcolor": "#EBF0F8",
            "linecolor": "#EBF0F8",
            "ticks": ""
           },
           "bgcolor": "white",
           "radialaxis": {
            "gridcolor": "#EBF0F8",
            "linecolor": "#EBF0F8",
            "ticks": ""
           }
          },
          "scene": {
           "xaxis": {
            "backgroundcolor": "white",
            "gridcolor": "#DFE8F3",
            "gridwidth": 2,
            "linecolor": "#EBF0F8",
            "showbackground": true,
            "ticks": "",
            "zerolinecolor": "#EBF0F8"
           },
           "yaxis": {
            "backgroundcolor": "white",
            "gridcolor": "#DFE8F3",
            "gridwidth": 2,
            "linecolor": "#EBF0F8",
            "showbackground": true,
            "ticks": "",
            "zerolinecolor": "#EBF0F8"
           },
           "zaxis": {
            "backgroundcolor": "white",
            "gridcolor": "#DFE8F3",
            "gridwidth": 2,
            "linecolor": "#EBF0F8",
            "showbackground": true,
            "ticks": "",
            "zerolinecolor": "#EBF0F8"
           }
          },
          "shapedefaults": {
           "line": {
            "color": "#2a3f5f"
           }
          },
          "ternary": {
           "aaxis": {
            "gridcolor": "#DFE8F3",
            "linecolor": "#A2B1C6",
            "ticks": ""
           },
           "baxis": {
            "gridcolor": "#DFE8F3",
            "linecolor": "#A2B1C6",
            "ticks": ""
           },
           "bgcolor": "white",
           "caxis": {
            "gridcolor": "#DFE8F3",
            "linecolor": "#A2B1C6",
            "ticks": ""
           }
          },
          "title": {
           "x": 0.05
          },
          "xaxis": {
           "automargin": true,
           "gridcolor": "#EBF0F8",
           "linecolor": "#EBF0F8",
           "ticks": "",
           "title": {
            "standoff": 15
           },
           "zerolinecolor": "#EBF0F8",
           "zerolinewidth": 2
          },
          "yaxis": {
           "automargin": true,
           "gridcolor": "#EBF0F8",
           "linecolor": "#EBF0F8",
           "ticks": "",
           "title": {
            "standoff": 15
           },
           "zerolinecolor": "#EBF0F8",
           "zerolinewidth": 2
          }
         }
        },
        "title": {
         "text": "Actual vs Predicted - Top 4 Models by SMAPE (Residence 1)",
         "x": 0.5
        },
        "xaxis": {
         "autorange": true,
         "range": [
          0,
          99
         ],
         "title": {
          "text": "Observations"
         },
         "type": "linear"
        },
        "yaxis": {
         "autorange": true,
         "range": [
          280.0351944444444,
          427.33130555555556
         ],
         "title": {
          "text": "Values"
         },
         "type": "linear"
        }
       }
      },
      "text/html": [
       "<div>                            <div id=\"6c5d2d3d-ea48-4f42-b0ee-9dde30d3d488\" class=\"plotly-graph-div\" style=\"height:400px; width:100%;\"></div>            <script type=\"text/javascript\">                require([\"plotly\"], function(Plotly) {                    window.PLOTLYENV=window.PLOTLYENV || {};                                    if (document.getElementById(\"6c5d2d3d-ea48-4f42-b0ee-9dde30d3d488\")) {                    Plotly.newPlot(                        \"6c5d2d3d-ea48-4f42-b0ee-9dde30d3d488\",                        [{\"mode\":\"lines\",\"name\":\"Actual\",\"x\":[0,1,2,3,4,5,6,7,8,9,10,11,12,13,14,15,16,17,18,19,20,21,22,23,24,25,26,27,28,29,30,31,32,33,34,35,36,37,38,39,40,41,42,43,44,45,46,47,48,49,50,51,52,53,54,55,56,57,58,59,60,61,62,63,64,65,66,67,68,69,70,71,72,73,74,75,76,77,78,79,80,81,82,83,84,85,86,87,88,89,90,91,92,93,94,95,96,97,98,99],\"y\":[369.15,390.9,382.05,375.0,353.4,330.75,325.2,321.3,315.6,308.55,291.75,291.6,293.25,292.35,293.55,288.9,287.4,304.95,289.35,311.7,316.65,318.75,335.85,331.5,390.9,382.05,375.0,353.4,330.75,325.2,321.3,315.6,308.55,291.75,291.6,293.25,292.35,293.55,288.9,287.4,304.95,289.35,311.7,316.65,318.75,335.85,331.5,331.05,382.05,375.0,353.4,330.75,325.2,321.3,315.6,308.55,291.75,291.6,293.25,292.35,293.55,288.9,287.4,304.95,289.35,311.7,316.65,318.75,335.85,331.5,331.05,331.05,375.0,353.4,330.75,325.2,321.3,315.6,308.55,291.75,291.6,293.25,292.35,293.55,288.9,287.4,304.95,289.35,311.7,316.65,318.75,335.85,331.5,331.05,331.05,293.1,353.4,330.75,325.2,321.3],\"type\":\"scatter\"},{\"mode\":\"lines\",\"name\":\"HyperNetLSTMRBF\",\"x\":[0,1,2,3,4,5,6,7,8,9,10,11,12,13,14,15,16,17,18,19,20,21,22,23,24,25,26,27,28,29,30,31,32,33,34,35,36,37,38,39,40,41,42,43,44,45,46,47,48,49,50,51,52,53,54,55,56,57,58,59,60,61,62,63,64,65,66,67,68,69,70,71,72,73,74,75,76,77,78,79,80,81,82,83,84,85,86,87,88,89,90,91,92,93,94,95,96,97,98,99],\"y\":[400.13855,417.22815,375.6605,377.18475,360.89276,353.10095,342.58313,331.831,321.94995,313.38394,308.87674,308.612,309.84705,311.79468,312.27408,308.47763,303.29483,304.15463,313.48654,327.50507,344.90152,362.11725,373.37268,379.93713,402.9923,419.9665,381.6389,374.3439,353.9416,344.62753,333.05658,324.21692,315.32104,307.8595,305.7617,306.85944,311.02054,316.33783,316.65558,311.20782,307.26544,311.4673,322.11377,335.22513,352.20593,367.55298,377.40546,383.31165,392.21402,407.2283,376.56012,359.73148,338.98074,330.5285,321.14764,314.23193,306.68097,302.57324,302.47766,306.2123,313.13937,317.1088,314.1882,309.93326,311.2237,319.0436,329.06174,341.52527,356.3434,367.24368,374.46936,376.66602,380.85693,394.38113,369.0144,343.58905,324.85336,318.51468,311.16745,305.63367,301.1255,299.52917,301.91574,308.12265,313.2379,312.63513,310.80206,312.8982,319.8086,328.6044,338.54764,350.68893,360.88773,367.90625,369.98047,365.55035,359.65976,366.03308,346.89755,322.21686],\"type\":\"scatter\"},{\"mode\":\"lines\",\"name\":\"LSTM\",\"x\":[0,1,2,3,4,5,6,7,8,9,10,11,12,13,14,15,16,17,18,19,20,21,22,23,24,25,26,27,28,29,30,31,32,33,34,35,36,37,38,39,40,41,42,43,44,45,46,47,48,49,50,51,52,53,54,55,56,57,58,59,60,61,62,63,64,65,66,67,68,69,70,71,72,73,74,75,76,77,78,79,80,81,82,83,84,85,86,87,88,89,90,91,92,93,94,95,96,97,98,99],\"y\":[377.80994,394.9945,394.25305,385.2903,377.64227,366.72522,356.80856,349.92166,345.16553,340.11337,331.19754,325.8885,321.15332,321.00308,320.7366,321.71484,322.7334,330.60034,337.7238,346.83618,348.95612,352.23337,355.6245,355.31174,379.45996,394.7916,391.4066,385.23166,373.8966,362.94873,354.96155,349.20102,343.27283,333.64288,327.81253,322.6598,322.19687,321.6841,322.47018,323.33618,331.08798,338.11633,347.15106,349.2032,352.4255,355.77243,355.4237,352.91028,370.87604,382.83496,382.697,373.61743,363.24762,355.04694,348.76785,342.3729,332.72833,326.77634,321.55682,320.74982,319.9751,320.45306,321.0519,327.9945,334.29965,342.46112,344.24887,347.1231,350.1251,349.75812,347.42157,349.12808,362.23535,376.07416,372.5163,364.1097,356.2746,349.67496,342.79935,332.9604,326.76022,321.34558,320.15106,319.07114,319.2241,319.54346,325.78983,331.47382,338.90125,340.44287,343.0102,345.71292,345.31107,343.09903,344.64114,343.57208,344.86084,351.93817,349.0264,344.01904],\"type\":\"scatter\"},{\"mode\":\"lines\",\"name\":\"AttentionLSTM\",\"x\":[0,1,2,3,4,5,6,7,8,9,10,11,12,13,14,15,16,17,18,19,20,21,22,23,24,25,26,27,28,29,30,31,32,33,34,35,36,37,38,39,40,41,42,43,44,45,46,47,48,49,50,51,52,53,54,55,56,57,58,59,60,61,62,63,64,65,66,67,68,69,70,71,72,73,74,75,76,77,78,79,80,81,82,83,84,85,86,87,88,89,90,91,92,93,94,95,96,97,98,99],\"y\":[367.0213,371.35803,370.46893,367.14856,361.25406,347.25806,331.19263,320.67682,314.88,311.46762,295.93933,292.3001,291.93277,291.80417,291.94598,292.6582,294.64194,297.8982,305.10324,317.19574,341.31793,361.45047,368.79688,370.85315,367.97266,370.4075,367.14636,361.25323,347.25742,331.1923,320.67664,314.87994,311.4676,295.93924,292.29965,291.93234,291.80383,291.94574,292.65805,294.6419,297.89822,305.10333,317.19583,341.318,361.45047,368.79684,370.8531,371.44135,359.59918,360.07803,354.90256,342.13046,327.4461,317.83102,312.53012,309.40958,295.20895,291.88004,291.5442,291.42673,291.55664,292.2082,294.02255,297.00046,303.58948,314.64795,336.70746,355.1185,361.83673,363.7171,364.2551,364.33813,350.22464,349.27075,337.91632,324.4416,315.56308,310.6582,307.7701,294.6272,291.54553,291.23477,291.1262,291.2466,291.8498,293.5291,296.28528,302.38354,312.61826,333.0346,350.07434,356.29218,358.03253,358.5304,358.6073,358.02338,331.4884,324.95404,315.2311,308.61472],\"type\":\"scatter\"},{\"mode\":\"lines\",\"name\":\"Transformer\",\"x\":[0,1,2,3,4,5,6,7,8,9,10,11,12,13,14,15,16,17,18,19,20,21,22,23,24,25,26,27,28,29,30,31,32,33,34,35,36,37,38,39,40,41,42,43,44,45,46,47,48,49,50,51,52,53,54,55,56,57,58,59,60,61,62,63,64,65,66,67,68,69,70,71,72,73,74,75,76,77,78,79,80,81,82,83,84,85,86,87,88,89,90,91,92,93,94,95,96,97,98,99],\"y\":[385.40692,385.53,382.06198,371.78052,359.01276,338.83856,323.59906,314.44415,308.2029,302.89005,300.52676,300.44537,299.96118,300.6222,301.12576,303.1443,307.97803,326.17554,344.68146,360.90543,369.58063,376.16516,380.3786,383.1315,385.5296,382.06198,371.78052,359.01276,338.83856,323.59906,314.44415,308.2029,302.89005,300.52676,300.44537,299.96118,300.6222,301.12576,303.1443,307.97803,326.17554,344.68146,360.90543,369.58063,376.16516,380.3786,383.1315,384.93097,373.96768,364.56537,352.88934,334.4402,320.50378,312.13168,306.4241,301.56555,299.40433,299.3299,298.88712,299.49158,299.95212,301.79803,306.21844,322.85995,339.78345,354.62018,362.5536,368.57507,372.42825,374.94577,376.59134,376.97702,358.81772,348.01138,330.9364,318.03806,310.28955,305.00708,300.51044,298.5102,298.44128,298.0315,298.59094,299.01715,300.7256,304.81677,320.21872,335.88168,349.61328,356.95578,362.52875,366.09494,368.42493,369.94794,370.30487,367.7688,333.0661,320.2014,310.48346,304.64554],\"type\":\"scatter\"}],                        {\"template\":{\"data\":{\"barpolar\":[{\"marker\":{\"line\":{\"color\":\"white\",\"width\":0.5},\"pattern\":{\"fillmode\":\"overlay\",\"size\":10,\"solidity\":0.2}},\"type\":\"barpolar\"}],\"bar\":[{\"error_x\":{\"color\":\"#2a3f5f\"},\"error_y\":{\"color\":\"#2a3f5f\"},\"marker\":{\"line\":{\"color\":\"white\",\"width\":0.5},\"pattern\":{\"fillmode\":\"overlay\",\"size\":10,\"solidity\":0.2}},\"type\":\"bar\"}],\"carpet\":[{\"aaxis\":{\"endlinecolor\":\"#2a3f5f\",\"gridcolor\":\"#C8D4E3\",\"linecolor\":\"#C8D4E3\",\"minorgridcolor\":\"#C8D4E3\",\"startlinecolor\":\"#2a3f5f\"},\"baxis\":{\"endlinecolor\":\"#2a3f5f\",\"gridcolor\":\"#C8D4E3\",\"linecolor\":\"#C8D4E3\",\"minorgridcolor\":\"#C8D4E3\",\"startlinecolor\":\"#2a3f5f\"},\"type\":\"carpet\"}],\"choropleth\":[{\"colorbar\":{\"outlinewidth\":0,\"ticks\":\"\"},\"type\":\"choropleth\"}],\"contourcarpet\":[{\"colorbar\":{\"outlinewidth\":0,\"ticks\":\"\"},\"type\":\"contourcarpet\"}],\"contour\":[{\"colorbar\":{\"outlinewidth\":0,\"ticks\":\"\"},\"colorscale\":[[0.0,\"#0d0887\"],[0.1111111111111111,\"#46039f\"],[0.2222222222222222,\"#7201a8\"],[0.3333333333333333,\"#9c179e\"],[0.4444444444444444,\"#bd3786\"],[0.5555555555555556,\"#d8576b\"],[0.6666666666666666,\"#ed7953\"],[0.7777777777777778,\"#fb9f3a\"],[0.8888888888888888,\"#fdca26\"],[1.0,\"#f0f921\"]],\"type\":\"contour\"}],\"heatmapgl\":[{\"colorbar\":{\"outlinewidth\":0,\"ticks\":\"\"},\"colorscale\":[[0.0,\"#0d0887\"],[0.1111111111111111,\"#46039f\"],[0.2222222222222222,\"#7201a8\"],[0.3333333333333333,\"#9c179e\"],[0.4444444444444444,\"#bd3786\"],[0.5555555555555556,\"#d8576b\"],[0.6666666666666666,\"#ed7953\"],[0.7777777777777778,\"#fb9f3a\"],[0.8888888888888888,\"#fdca26\"],[1.0,\"#f0f921\"]],\"type\":\"heatmapgl\"}],\"heatmap\":[{\"colorbar\":{\"outlinewidth\":0,\"ticks\":\"\"},\"colorscale\":[[0.0,\"#0d0887\"],[0.1111111111111111,\"#46039f\"],[0.2222222222222222,\"#7201a8\"],[0.3333333333333333,\"#9c179e\"],[0.4444444444444444,\"#bd3786\"],[0.5555555555555556,\"#d8576b\"],[0.6666666666666666,\"#ed7953\"],[0.7777777777777778,\"#fb9f3a\"],[0.8888888888888888,\"#fdca26\"],[1.0,\"#f0f921\"]],\"type\":\"heatmap\"}],\"histogram2dcontour\":[{\"colorbar\":{\"outlinewidth\":0,\"ticks\":\"\"},\"colorscale\":[[0.0,\"#0d0887\"],[0.1111111111111111,\"#46039f\"],[0.2222222222222222,\"#7201a8\"],[0.3333333333333333,\"#9c179e\"],[0.4444444444444444,\"#bd3786\"],[0.5555555555555556,\"#d8576b\"],[0.6666666666666666,\"#ed7953\"],[0.7777777777777778,\"#fb9f3a\"],[0.8888888888888888,\"#fdca26\"],[1.0,\"#f0f921\"]],\"type\":\"histogram2dcontour\"}],\"histogram2d\":[{\"colorbar\":{\"outlinewidth\":0,\"ticks\":\"\"},\"colorscale\":[[0.0,\"#0d0887\"],[0.1111111111111111,\"#46039f\"],[0.2222222222222222,\"#7201a8\"],[0.3333333333333333,\"#9c179e\"],[0.4444444444444444,\"#bd3786\"],[0.5555555555555556,\"#d8576b\"],[0.6666666666666666,\"#ed7953\"],[0.7777777777777778,\"#fb9f3a\"],[0.8888888888888888,\"#fdca26\"],[1.0,\"#f0f921\"]],\"type\":\"histogram2d\"}],\"histogram\":[{\"marker\":{\"pattern\":{\"fillmode\":\"overlay\",\"size\":10,\"solidity\":0.2}},\"type\":\"histogram\"}],\"mesh3d\":[{\"colorbar\":{\"outlinewidth\":0,\"ticks\":\"\"},\"type\":\"mesh3d\"}],\"parcoords\":[{\"line\":{\"colorbar\":{\"outlinewidth\":0,\"ticks\":\"\"}},\"type\":\"parcoords\"}],\"pie\":[{\"automargin\":true,\"type\":\"pie\"}],\"scatter3d\":[{\"line\":{\"colorbar\":{\"outlinewidth\":0,\"ticks\":\"\"}},\"marker\":{\"colorbar\":{\"outlinewidth\":0,\"ticks\":\"\"}},\"type\":\"scatter3d\"}],\"scattercarpet\":[{\"marker\":{\"colorbar\":{\"outlinewidth\":0,\"ticks\":\"\"}},\"type\":\"scattercarpet\"}],\"scattergeo\":[{\"marker\":{\"colorbar\":{\"outlinewidth\":0,\"ticks\":\"\"}},\"type\":\"scattergeo\"}],\"scattergl\":[{\"marker\":{\"colorbar\":{\"outlinewidth\":0,\"ticks\":\"\"}},\"type\":\"scattergl\"}],\"scattermapbox\":[{\"marker\":{\"colorbar\":{\"outlinewidth\":0,\"ticks\":\"\"}},\"type\":\"scattermapbox\"}],\"scatterpolargl\":[{\"marker\":{\"colorbar\":{\"outlinewidth\":0,\"ticks\":\"\"}},\"type\":\"scatterpolargl\"}],\"scatterpolar\":[{\"marker\":{\"colorbar\":{\"outlinewidth\":0,\"ticks\":\"\"}},\"type\":\"scatterpolar\"}],\"scatter\":[{\"fillpattern\":{\"fillmode\":\"overlay\",\"size\":10,\"solidity\":0.2},\"type\":\"scatter\"}],\"scatterternary\":[{\"marker\":{\"colorbar\":{\"outlinewidth\":0,\"ticks\":\"\"}},\"type\":\"scatterternary\"}],\"surface\":[{\"colorbar\":{\"outlinewidth\":0,\"ticks\":\"\"},\"colorscale\":[[0.0,\"#0d0887\"],[0.1111111111111111,\"#46039f\"],[0.2222222222222222,\"#7201a8\"],[0.3333333333333333,\"#9c179e\"],[0.4444444444444444,\"#bd3786\"],[0.5555555555555556,\"#d8576b\"],[0.6666666666666666,\"#ed7953\"],[0.7777777777777778,\"#fb9f3a\"],[0.8888888888888888,\"#fdca26\"],[1.0,\"#f0f921\"]],\"type\":\"surface\"}],\"table\":[{\"cells\":{\"fill\":{\"color\":\"#EBF0F8\"},\"line\":{\"color\":\"white\"}},\"header\":{\"fill\":{\"color\":\"#C8D4E3\"},\"line\":{\"color\":\"white\"}},\"type\":\"table\"}]},\"layout\":{\"annotationdefaults\":{\"arrowcolor\":\"#2a3f5f\",\"arrowhead\":0,\"arrowwidth\":1},\"autotypenumbers\":\"strict\",\"coloraxis\":{\"colorbar\":{\"outlinewidth\":0,\"ticks\":\"\"}},\"colorscale\":{\"diverging\":[[0,\"#8e0152\"],[0.1,\"#c51b7d\"],[0.2,\"#de77ae\"],[0.3,\"#f1b6da\"],[0.4,\"#fde0ef\"],[0.5,\"#f7f7f7\"],[0.6,\"#e6f5d0\"],[0.7,\"#b8e186\"],[0.8,\"#7fbc41\"],[0.9,\"#4d9221\"],[1,\"#276419\"]],\"sequential\":[[0.0,\"#0d0887\"],[0.1111111111111111,\"#46039f\"],[0.2222222222222222,\"#7201a8\"],[0.3333333333333333,\"#9c179e\"],[0.4444444444444444,\"#bd3786\"],[0.5555555555555556,\"#d8576b\"],[0.6666666666666666,\"#ed7953\"],[0.7777777777777778,\"#fb9f3a\"],[0.8888888888888888,\"#fdca26\"],[1.0,\"#f0f921\"]],\"sequentialminus\":[[0.0,\"#0d0887\"],[0.1111111111111111,\"#46039f\"],[0.2222222222222222,\"#7201a8\"],[0.3333333333333333,\"#9c179e\"],[0.4444444444444444,\"#bd3786\"],[0.5555555555555556,\"#d8576b\"],[0.6666666666666666,\"#ed7953\"],[0.7777777777777778,\"#fb9f3a\"],[0.8888888888888888,\"#fdca26\"],[1.0,\"#f0f921\"]]},\"colorway\":[\"#636efa\",\"#EF553B\",\"#00cc96\",\"#ab63fa\",\"#FFA15A\",\"#19d3f3\",\"#FF6692\",\"#B6E880\",\"#FF97FF\",\"#FECB52\"],\"font\":{\"color\":\"#2a3f5f\"},\"geo\":{\"bgcolor\":\"white\",\"lakecolor\":\"white\",\"landcolor\":\"white\",\"showlakes\":true,\"showland\":true,\"subunitcolor\":\"#C8D4E3\"},\"hoverlabel\":{\"align\":\"left\"},\"hovermode\":\"closest\",\"mapbox\":{\"style\":\"light\"},\"paper_bgcolor\":\"white\",\"plot_bgcolor\":\"white\",\"polar\":{\"angularaxis\":{\"gridcolor\":\"#EBF0F8\",\"linecolor\":\"#EBF0F8\",\"ticks\":\"\"},\"bgcolor\":\"white\",\"radialaxis\":{\"gridcolor\":\"#EBF0F8\",\"linecolor\":\"#EBF0F8\",\"ticks\":\"\"}},\"scene\":{\"xaxis\":{\"backgroundcolor\":\"white\",\"gridcolor\":\"#DFE8F3\",\"gridwidth\":2,\"linecolor\":\"#EBF0F8\",\"showbackground\":true,\"ticks\":\"\",\"zerolinecolor\":\"#EBF0F8\"},\"yaxis\":{\"backgroundcolor\":\"white\",\"gridcolor\":\"#DFE8F3\",\"gridwidth\":2,\"linecolor\":\"#EBF0F8\",\"showbackground\":true,\"ticks\":\"\",\"zerolinecolor\":\"#EBF0F8\"},\"zaxis\":{\"backgroundcolor\":\"white\",\"gridcolor\":\"#DFE8F3\",\"gridwidth\":2,\"linecolor\":\"#EBF0F8\",\"showbackground\":true,\"ticks\":\"\",\"zerolinecolor\":\"#EBF0F8\"}},\"shapedefaults\":{\"line\":{\"color\":\"#2a3f5f\"}},\"ternary\":{\"aaxis\":{\"gridcolor\":\"#DFE8F3\",\"linecolor\":\"#A2B1C6\",\"ticks\":\"\"},\"baxis\":{\"gridcolor\":\"#DFE8F3\",\"linecolor\":\"#A2B1C6\",\"ticks\":\"\"},\"bgcolor\":\"white\",\"caxis\":{\"gridcolor\":\"#DFE8F3\",\"linecolor\":\"#A2B1C6\",\"ticks\":\"\"}},\"title\":{\"x\":0.05},\"xaxis\":{\"automargin\":true,\"gridcolor\":\"#EBF0F8\",\"linecolor\":\"#EBF0F8\",\"ticks\":\"\",\"title\":{\"standoff\":15},\"zerolinecolor\":\"#EBF0F8\",\"zerolinewidth\":2},\"yaxis\":{\"automargin\":true,\"gridcolor\":\"#EBF0F8\",\"linecolor\":\"#EBF0F8\",\"ticks\":\"\",\"title\":{\"standoff\":15},\"zerolinecolor\":\"#EBF0F8\",\"zerolinewidth\":2}}},\"title\":{\"text\":\"Actual vs Predicted - Top 4 Models by SMAPE (Residence 1)\",\"x\":0.5},\"xaxis\":{\"title\":{\"text\":\"Observations\"}},\"yaxis\":{\"title\":{\"text\":\"Values\"}},\"legend\":{\"title\":{\"text\":\"Models\"}},\"height\":400},                        {\"responsive\": true}                    ).then(function(){\n",
       "                            \n",
       "var gd = document.getElementById('6c5d2d3d-ea48-4f42-b0ee-9dde30d3d488');\n",
       "var x = new MutationObserver(function (mutations, observer) {{\n",
       "        var display = window.getComputedStyle(gd).display;\n",
       "        if (!display || display === 'none') {{\n",
       "            console.log([gd, 'removed!']);\n",
       "            Plotly.purge(gd);\n",
       "            observer.disconnect();\n",
       "        }}\n",
       "}});\n",
       "\n",
       "// Listen for the removal of the full notebook cells\n",
       "var notebookContainer = gd.closest('#notebook-container');\n",
       "if (notebookContainer) {{\n",
       "    x.observe(notebookContainer, {childList: true});\n",
       "}}\n",
       "\n",
       "// Listen for the clearing of the current output cell\n",
       "var outputEl = gd.closest('.output');\n",
       "if (outputEl) {{\n",
       "    x.observe(outputEl, {childList: true});\n",
       "}}\n",
       "\n",
       "                        })                };                });            </script>        </div>"
      ]
     },
     "metadata": {},
     "output_type": "display_data"
    },
    {
     "data": {
      "application/vnd.plotly.v1+json": {
       "config": {
        "plotlyServerURL": "https://plot.ly"
       },
       "data": [
        {
         "mode": "lines",
         "name": "Actual",
         "type": "scatter",
         "x": [
          0,
          1,
          2,
          3,
          4,
          5,
          6,
          7,
          8,
          9,
          10,
          11,
          12,
          13,
          14,
          15,
          16,
          17,
          18,
          19,
          20,
          21,
          22,
          23,
          24,
          25,
          26,
          27,
          28,
          29,
          30,
          31,
          32,
          33,
          34,
          35,
          36,
          37,
          38,
          39,
          40,
          41,
          42,
          43,
          44,
          45,
          46,
          47,
          48,
          49,
          50,
          51,
          52,
          53,
          54,
          55,
          56,
          57,
          58,
          59,
          60,
          61,
          62,
          63,
          64,
          65,
          66,
          67,
          68,
          69,
          70,
          71,
          72,
          73,
          74,
          75,
          76,
          77,
          78,
          79,
          80,
          81,
          82,
          83,
          84,
          85,
          86,
          87,
          88,
          89,
          90,
          91,
          92,
          93,
          94,
          95,
          96,
          97,
          98,
          99
         ],
         "y": [
          380.04,
          381,
          380.04,
          376.68,
          375.24,
          363,
          357.48,
          344.64,
          342.48,
          319.92,
          336.36,
          328.56,
          329.16,
          330,
          328.8,
          329.28,
          338.4,
          343.68,
          353.88,
          360,
          355.8,
          358.32,
          369,
          367.32,
          381,
          380.04,
          376.68,
          375.24,
          363,
          357.48,
          344.64,
          342.48,
          319.92,
          336.36,
          328.56,
          329.16,
          330,
          328.8,
          329.28,
          338.4,
          343.68,
          353.88,
          360,
          355.8,
          358.32,
          369,
          367.32,
          378.6,
          380.04,
          376.68,
          375.24,
          363,
          357.48,
          344.64,
          342.48,
          319.92,
          336.36,
          328.56,
          329.16,
          330,
          328.8,
          329.28,
          338.4,
          343.68,
          353.88,
          360,
          355.8,
          358.32,
          369,
          367.32,
          378.6,
          378.12,
          376.68,
          375.24,
          363,
          357.48,
          344.64,
          342.48,
          319.92,
          336.36,
          328.56,
          329.16,
          330,
          328.8,
          329.28,
          338.4,
          343.68,
          353.88,
          360,
          355.8,
          358.32,
          369,
          367.32,
          378.6,
          378.12,
          331.08,
          375.24,
          363,
          357.48,
          344.64
         ]
        },
        {
         "mode": "lines",
         "name": "HyperNetLSTMRBF",
         "type": "scatter",
         "x": [
          0,
          1,
          2,
          3,
          4,
          5,
          6,
          7,
          8,
          9,
          10,
          11,
          12,
          13,
          14,
          15,
          16,
          17,
          18,
          19,
          20,
          21,
          22,
          23,
          24,
          25,
          26,
          27,
          28,
          29,
          30,
          31,
          32,
          33,
          34,
          35,
          36,
          37,
          38,
          39,
          40,
          41,
          42,
          43,
          44,
          45,
          46,
          47,
          48,
          49,
          50,
          51,
          52,
          53,
          54,
          55,
          56,
          57,
          58,
          59,
          60,
          61,
          62,
          63,
          64,
          65,
          66,
          67,
          68,
          69,
          70,
          71,
          72,
          73,
          74,
          75,
          76,
          77,
          78,
          79,
          80,
          81,
          82,
          83,
          84,
          85,
          86,
          87,
          88,
          89,
          90,
          91,
          92,
          93,
          94,
          95,
          96,
          97,
          98,
          99
         ],
         "y": [
          369.8743,
          374.96484,
          370.21875,
          365.44696,
          362.83835,
          357.6702,
          349.97043,
          341.40112,
          335.66895,
          332.16852,
          329.13232,
          328.39307,
          326.96814,
          326.58383,
          326.34406,
          327.61224,
          330.67194,
          336.16345,
          343.22888,
          350.85303,
          358.6782,
          364.4591,
          368.00287,
          370.51575,
          370.67783,
          372.78052,
          367.7537,
          362.47693,
          355.75168,
          350.15634,
          342.1946,
          335.79376,
          331.92865,
          328.93707,
          328.00198,
          326.6673,
          326.15994,
          326.19077,
          327.34308,
          330.2862,
          336.0316,
          343.03726,
          350.3318,
          357.83197,
          363.81052,
          367.51245,
          370.29648,
          371.9063,
          371.31787,
          368.56186,
          363.89374,
          357.8927,
          349.56946,
          343.6171,
          337.20898,
          332.73236,
          328.4821,
          327.08307,
          325.73727,
          325.23834,
          325.7446,
          327.26965,
          330.50696,
          336.0739,
          342.79004,
          349.723,
          356.92987,
          362.84363,
          366.5159,
          369.30478,
          371.00644,
          371.35974,
          370.42487,
          362.25153,
          357.4593,
          350.81677,
          342.8755,
          337.00452,
          333.97458,
          329.55835,
          326.1709,
          324.93884,
          324.43454,
          324.55692,
          325.9571,
          329.30554,
          335.53888,
          342.52496,
          349.33063,
          356.23938,
          361.88345,
          365.4343,
          368.31546,
          369.91153,
          370.13144,
          369.50858,
          371.50327,
          357.2996,
          352.44232,
          344.04587
         ]
        },
        {
         "mode": "lines",
         "name": "HyperNetLSTMPoly",
         "type": "scatter",
         "x": [
          0,
          1,
          2,
          3,
          4,
          5,
          6,
          7,
          8,
          9,
          10,
          11,
          12,
          13,
          14,
          15,
          16,
          17,
          18,
          19,
          20,
          21,
          22,
          23,
          24,
          25,
          26,
          27,
          28,
          29,
          30,
          31,
          32,
          33,
          34,
          35,
          36,
          37,
          38,
          39,
          40,
          41,
          42,
          43,
          44,
          45,
          46,
          47,
          48,
          49,
          50,
          51,
          52,
          53,
          54,
          55,
          56,
          57,
          58,
          59,
          60,
          61,
          62,
          63,
          64,
          65,
          66,
          67,
          68,
          69,
          70,
          71,
          72,
          73,
          74,
          75,
          76,
          77,
          78,
          79,
          80,
          81,
          82,
          83,
          84,
          85,
          86,
          87,
          88,
          89,
          90,
          91,
          92,
          93,
          94,
          95,
          96,
          97,
          98,
          99
         ],
         "y": [
          368.03864,
          374.13696,
          364.90082,
          370.3948,
          363.89948,
          354.29916,
          350.4415,
          343.3188,
          340.41687,
          337.943,
          327.51544,
          322.33926,
          321.22467,
          324.0395,
          331.7135,
          344.10562,
          354.05862,
          360.9037,
          365.37073,
          369.82477,
          370.47424,
          371.01602,
          370.58255,
          370.7078,
          368.67282,
          373.15988,
          365.54956,
          369.88992,
          357.69324,
          351.78,
          342.968,
          340.1594,
          338.31104,
          329.61542,
          321.93307,
          318.24976,
          321.91855,
          329.97525,
          344.77417,
          353.93698,
          360.19818,
          365.02118,
          369.12668,
          369.19995,
          369.54065,
          370.4881,
          371.1722,
          371.26947,
          368.2644,
          369.54938,
          364.63977,
          364.6827,
          351.34213,
          347.43054,
          339.37515,
          338.90958,
          331.95837,
          323.0501,
          319.622,
          324.75925,
          329.50064,
          340.80765,
          351.8827,
          358.13928,
          363.3313,
          367.6518,
          368.34186,
          368.61206,
          369.31625,
          369.3997,
          369.44885,
          368.61444,
          366.63654,
          365.06448,
          360.58255,
          353.11746,
          344.47147,
          342.04303,
          339.60748,
          331.44882,
          323.2104,
          319.0406,
          323.13727,
          329.14624,
          340.1626,
          349.4411,
          355.2847,
          362.02527,
          365.94638,
          367.56702,
          368.00897,
          368.55176,
          368.4805,
          368.47125,
          367.74512,
          366.18555,
          365.66287,
          360.1055,
          353.03787,
          340.8137
         ]
        },
        {
         "mode": "lines",
         "name": "AttentionLSTM",
         "type": "scatter",
         "x": [
          0,
          1,
          2,
          3,
          4,
          5,
          6,
          7,
          8,
          9,
          10,
          11,
          12,
          13,
          14,
          15,
          16,
          17,
          18,
          19,
          20,
          21,
          22,
          23,
          24,
          25,
          26,
          27,
          28,
          29,
          30,
          31,
          32,
          33,
          34,
          35,
          36,
          37,
          38,
          39,
          40,
          41,
          42,
          43,
          44,
          45,
          46,
          47,
          48,
          49,
          50,
          51,
          52,
          53,
          54,
          55,
          56,
          57,
          58,
          59,
          60,
          61,
          62,
          63,
          64,
          65,
          66,
          67,
          68,
          69,
          70,
          71,
          72,
          73,
          74,
          75,
          76,
          77,
          78,
          79,
          80,
          81,
          82,
          83,
          84,
          85,
          86,
          87,
          88,
          89,
          90,
          91,
          92,
          93,
          94,
          95,
          96,
          97,
          98,
          99
         ],
         "y": [
          366.46912,
          366.1571,
          365.69925,
          363.53366,
          357.55292,
          347.8464,
          338.53397,
          333.1201,
          331.1517,
          330.83423,
          326.20764,
          324.1699,
          324.56635,
          325.05753,
          325.58035,
          326.3066,
          327.8587,
          331.9512,
          340.32516,
          349.3618,
          357.08405,
          362.1349,
          364.69766,
          365.72906,
          366.49646,
          365.69037,
          363.53625,
          357.55383,
          347.84705,
          338.5343,
          333.1203,
          331.15186,
          330.83435,
          326.208,
          324.16998,
          324.56638,
          325.05753,
          325.58035,
          326.3066,
          327.8587,
          331.9512,
          340.32516,
          349.3618,
          357.08405,
          362.1349,
          364.69766,
          365.72906,
          366.09106,
          365.6072,
          362.801,
          356.97272,
          347.40707,
          338.2427,
          332.91318,
          330.9756,
          330.66302,
          326.10995,
          324.1034,
          324.49338,
          324.9768,
          325.4914,
          326.2062,
          327.73395,
          331.76212,
          340.00446,
          348.89905,
          356.49994,
          361.4714,
          363.9939,
          365.0091,
          365.3654,
          365.41165,
          363.63208,
          355.7597,
          346.82547,
          337.79135,
          332.6037,
          330.71115,
          330.40604,
          325.96304,
          324.00357,
          324.3839,
          324.85568,
          325.35794,
          326.05566,
          327.54678,
          331.47845,
          339.5234,
          348.20496,
          355.62378,
          360.47617,
          362.93823,
          363.9291,
          364.27686,
          364.32202,
          363.88184,
          360.58688,
          345.70224,
          337.98862,
          332.58698
         ]
        },
        {
         "mode": "lines",
         "name": "ARFFNN",
         "type": "scatter",
         "x": [
          0,
          1,
          2,
          3,
          4,
          5,
          6,
          7,
          8,
          9,
          10,
          11,
          12,
          13,
          14,
          15,
          16,
          17,
          18,
          19,
          20,
          21,
          22,
          23,
          24,
          25,
          26,
          27,
          28,
          29,
          30,
          31,
          32,
          33,
          34,
          35,
          36,
          37,
          38,
          39,
          40,
          41,
          42,
          43,
          44,
          45,
          46,
          47,
          48,
          49,
          50,
          51,
          52,
          53,
          54,
          55,
          56,
          57,
          58,
          59,
          60,
          61,
          62,
          63,
          64,
          65,
          66,
          67,
          68,
          69,
          70,
          71,
          72,
          73,
          74,
          75,
          76,
          77,
          78,
          79,
          80,
          81,
          82,
          83,
          84,
          85,
          86,
          87,
          88,
          89,
          90,
          91,
          92,
          93,
          94,
          95,
          96,
          97,
          98,
          99
         ],
         "y": [
          367.5821,
          368.28775,
          368.207,
          366.0099,
          364.37512,
          361.3616,
          357.5426,
          353.3086,
          349.80106,
          346.18634,
          330.54022,
          331.6816,
          333.02676,
          334.44385,
          336.42496,
          339.16205,
          342.12415,
          346.13913,
          349.6734,
          353.25998,
          356.88507,
          360.60406,
          364.13394,
          366.88547,
          368.28775,
          368.207,
          366.0099,
          364.37512,
          361.3616,
          357.5426,
          353.3086,
          349.80106,
          346.18634,
          330.54022,
          331.6816,
          333.02676,
          334.44385,
          336.42496,
          339.16205,
          342.12415,
          346.13913,
          349.6734,
          353.25998,
          356.88507,
          360.60406,
          364.13394,
          366.88547,
          367.76892,
          367.44806,
          365.2855,
          363.67645,
          360.71027,
          356.9513,
          352.7838,
          349.33142,
          345.7735,
          330.3733,
          331.49677,
          332.82077,
          334.21558,
          336.16556,
          338.85962,
          341.77515,
          345.72705,
          349.20578,
          352.736,
          356.30408,
          359.96463,
          363.43906,
          366.1473,
          367.0169,
          368.01974,
          364.1989,
          362.6284,
          359.73325,
          356.06433,
          351.99667,
          348.62695,
          345.15427,
          330.12292,
          331.21948,
          332.51175,
          333.87317,
          335.77646,
          338.40598,
          341.25168,
          345.10892,
          348.50433,
          351.94998,
          355.43262,
          359.0055,
          362.39667,
          365.04007,
          365.88882,
          366.86765,
          366.69415,
          362.6284,
          359.73325,
          356.06433,
          351.99667
         ]
        }
       ],
       "layout": {
        "autosize": true,
        "legend": {
         "title": {
          "text": "Models"
         }
        },
        "template": {
         "data": {
          "bar": [
           {
            "error_x": {
             "color": "#2a3f5f"
            },
            "error_y": {
             "color": "#2a3f5f"
            },
            "marker": {
             "line": {
              "color": "white",
              "width": 0.5
             },
             "pattern": {
              "fillmode": "overlay",
              "size": 10,
              "solidity": 0.2
             }
            },
            "type": "bar"
           }
          ],
          "barpolar": [
           {
            "marker": {
             "line": {
              "color": "white",
              "width": 0.5
             },
             "pattern": {
              "fillmode": "overlay",
              "size": 10,
              "solidity": 0.2
             }
            },
            "type": "barpolar"
           }
          ],
          "carpet": [
           {
            "aaxis": {
             "endlinecolor": "#2a3f5f",
             "gridcolor": "#C8D4E3",
             "linecolor": "#C8D4E3",
             "minorgridcolor": "#C8D4E3",
             "startlinecolor": "#2a3f5f"
            },
            "baxis": {
             "endlinecolor": "#2a3f5f",
             "gridcolor": "#C8D4E3",
             "linecolor": "#C8D4E3",
             "minorgridcolor": "#C8D4E3",
             "startlinecolor": "#2a3f5f"
            },
            "type": "carpet"
           }
          ],
          "choropleth": [
           {
            "colorbar": {
             "outlinewidth": 0,
             "ticks": ""
            },
            "type": "choropleth"
           }
          ],
          "contour": [
           {
            "colorbar": {
             "outlinewidth": 0,
             "ticks": ""
            },
            "colorscale": [
             [
              0,
              "#0d0887"
             ],
             [
              0.1111111111111111,
              "#46039f"
             ],
             [
              0.2222222222222222,
              "#7201a8"
             ],
             [
              0.3333333333333333,
              "#9c179e"
             ],
             [
              0.4444444444444444,
              "#bd3786"
             ],
             [
              0.5555555555555556,
              "#d8576b"
             ],
             [
              0.6666666666666666,
              "#ed7953"
             ],
             [
              0.7777777777777778,
              "#fb9f3a"
             ],
             [
              0.8888888888888888,
              "#fdca26"
             ],
             [
              1,
              "#f0f921"
             ]
            ],
            "type": "contour"
           }
          ],
          "contourcarpet": [
           {
            "colorbar": {
             "outlinewidth": 0,
             "ticks": ""
            },
            "type": "contourcarpet"
           }
          ],
          "heatmap": [
           {
            "colorbar": {
             "outlinewidth": 0,
             "ticks": ""
            },
            "colorscale": [
             [
              0,
              "#0d0887"
             ],
             [
              0.1111111111111111,
              "#46039f"
             ],
             [
              0.2222222222222222,
              "#7201a8"
             ],
             [
              0.3333333333333333,
              "#9c179e"
             ],
             [
              0.4444444444444444,
              "#bd3786"
             ],
             [
              0.5555555555555556,
              "#d8576b"
             ],
             [
              0.6666666666666666,
              "#ed7953"
             ],
             [
              0.7777777777777778,
              "#fb9f3a"
             ],
             [
              0.8888888888888888,
              "#fdca26"
             ],
             [
              1,
              "#f0f921"
             ]
            ],
            "type": "heatmap"
           }
          ],
          "heatmapgl": [
           {
            "colorbar": {
             "outlinewidth": 0,
             "ticks": ""
            },
            "colorscale": [
             [
              0,
              "#0d0887"
             ],
             [
              0.1111111111111111,
              "#46039f"
             ],
             [
              0.2222222222222222,
              "#7201a8"
             ],
             [
              0.3333333333333333,
              "#9c179e"
             ],
             [
              0.4444444444444444,
              "#bd3786"
             ],
             [
              0.5555555555555556,
              "#d8576b"
             ],
             [
              0.6666666666666666,
              "#ed7953"
             ],
             [
              0.7777777777777778,
              "#fb9f3a"
             ],
             [
              0.8888888888888888,
              "#fdca26"
             ],
             [
              1,
              "#f0f921"
             ]
            ],
            "type": "heatmapgl"
           }
          ],
          "histogram": [
           {
            "marker": {
             "pattern": {
              "fillmode": "overlay",
              "size": 10,
              "solidity": 0.2
             }
            },
            "type": "histogram"
           }
          ],
          "histogram2d": [
           {
            "colorbar": {
             "outlinewidth": 0,
             "ticks": ""
            },
            "colorscale": [
             [
              0,
              "#0d0887"
             ],
             [
              0.1111111111111111,
              "#46039f"
             ],
             [
              0.2222222222222222,
              "#7201a8"
             ],
             [
              0.3333333333333333,
              "#9c179e"
             ],
             [
              0.4444444444444444,
              "#bd3786"
             ],
             [
              0.5555555555555556,
              "#d8576b"
             ],
             [
              0.6666666666666666,
              "#ed7953"
             ],
             [
              0.7777777777777778,
              "#fb9f3a"
             ],
             [
              0.8888888888888888,
              "#fdca26"
             ],
             [
              1,
              "#f0f921"
             ]
            ],
            "type": "histogram2d"
           }
          ],
          "histogram2dcontour": [
           {
            "colorbar": {
             "outlinewidth": 0,
             "ticks": ""
            },
            "colorscale": [
             [
              0,
              "#0d0887"
             ],
             [
              0.1111111111111111,
              "#46039f"
             ],
             [
              0.2222222222222222,
              "#7201a8"
             ],
             [
              0.3333333333333333,
              "#9c179e"
             ],
             [
              0.4444444444444444,
              "#bd3786"
             ],
             [
              0.5555555555555556,
              "#d8576b"
             ],
             [
              0.6666666666666666,
              "#ed7953"
             ],
             [
              0.7777777777777778,
              "#fb9f3a"
             ],
             [
              0.8888888888888888,
              "#fdca26"
             ],
             [
              1,
              "#f0f921"
             ]
            ],
            "type": "histogram2dcontour"
           }
          ],
          "mesh3d": [
           {
            "colorbar": {
             "outlinewidth": 0,
             "ticks": ""
            },
            "type": "mesh3d"
           }
          ],
          "parcoords": [
           {
            "line": {
             "colorbar": {
              "outlinewidth": 0,
              "ticks": ""
             }
            },
            "type": "parcoords"
           }
          ],
          "pie": [
           {
            "automargin": true,
            "type": "pie"
           }
          ],
          "scatter": [
           {
            "fillpattern": {
             "fillmode": "overlay",
             "size": 10,
             "solidity": 0.2
            },
            "type": "scatter"
           }
          ],
          "scatter3d": [
           {
            "line": {
             "colorbar": {
              "outlinewidth": 0,
              "ticks": ""
             }
            },
            "marker": {
             "colorbar": {
              "outlinewidth": 0,
              "ticks": ""
             }
            },
            "type": "scatter3d"
           }
          ],
          "scattercarpet": [
           {
            "marker": {
             "colorbar": {
              "outlinewidth": 0,
              "ticks": ""
             }
            },
            "type": "scattercarpet"
           }
          ],
          "scattergeo": [
           {
            "marker": {
             "colorbar": {
              "outlinewidth": 0,
              "ticks": ""
             }
            },
            "type": "scattergeo"
           }
          ],
          "scattergl": [
           {
            "marker": {
             "colorbar": {
              "outlinewidth": 0,
              "ticks": ""
             }
            },
            "type": "scattergl"
           }
          ],
          "scattermapbox": [
           {
            "marker": {
             "colorbar": {
              "outlinewidth": 0,
              "ticks": ""
             }
            },
            "type": "scattermapbox"
           }
          ],
          "scatterpolar": [
           {
            "marker": {
             "colorbar": {
              "outlinewidth": 0,
              "ticks": ""
             }
            },
            "type": "scatterpolar"
           }
          ],
          "scatterpolargl": [
           {
            "marker": {
             "colorbar": {
              "outlinewidth": 0,
              "ticks": ""
             }
            },
            "type": "scatterpolargl"
           }
          ],
          "scatterternary": [
           {
            "marker": {
             "colorbar": {
              "outlinewidth": 0,
              "ticks": ""
             }
            },
            "type": "scatterternary"
           }
          ],
          "surface": [
           {
            "colorbar": {
             "outlinewidth": 0,
             "ticks": ""
            },
            "colorscale": [
             [
              0,
              "#0d0887"
             ],
             [
              0.1111111111111111,
              "#46039f"
             ],
             [
              0.2222222222222222,
              "#7201a8"
             ],
             [
              0.3333333333333333,
              "#9c179e"
             ],
             [
              0.4444444444444444,
              "#bd3786"
             ],
             [
              0.5555555555555556,
              "#d8576b"
             ],
             [
              0.6666666666666666,
              "#ed7953"
             ],
             [
              0.7777777777777778,
              "#fb9f3a"
             ],
             [
              0.8888888888888888,
              "#fdca26"
             ],
             [
              1,
              "#f0f921"
             ]
            ],
            "type": "surface"
           }
          ],
          "table": [
           {
            "cells": {
             "fill": {
              "color": "#EBF0F8"
             },
             "line": {
              "color": "white"
             }
            },
            "header": {
             "fill": {
              "color": "#C8D4E3"
             },
             "line": {
              "color": "white"
             }
            },
            "type": "table"
           }
          ]
         },
         "layout": {
          "annotationdefaults": {
           "arrowcolor": "#2a3f5f",
           "arrowhead": 0,
           "arrowwidth": 1
          },
          "autotypenumbers": "strict",
          "coloraxis": {
           "colorbar": {
            "outlinewidth": 0,
            "ticks": ""
           }
          },
          "colorscale": {
           "diverging": [
            [
             0,
             "#8e0152"
            ],
            [
             0.1,
             "#c51b7d"
            ],
            [
             0.2,
             "#de77ae"
            ],
            [
             0.3,
             "#f1b6da"
            ],
            [
             0.4,
             "#fde0ef"
            ],
            [
             0.5,
             "#f7f7f7"
            ],
            [
             0.6,
             "#e6f5d0"
            ],
            [
             0.7,
             "#b8e186"
            ],
            [
             0.8,
             "#7fbc41"
            ],
            [
             0.9,
             "#4d9221"
            ],
            [
             1,
             "#276419"
            ]
           ],
           "sequential": [
            [
             0,
             "#0d0887"
            ],
            [
             0.1111111111111111,
             "#46039f"
            ],
            [
             0.2222222222222222,
             "#7201a8"
            ],
            [
             0.3333333333333333,
             "#9c179e"
            ],
            [
             0.4444444444444444,
             "#bd3786"
            ],
            [
             0.5555555555555556,
             "#d8576b"
            ],
            [
             0.6666666666666666,
             "#ed7953"
            ],
            [
             0.7777777777777778,
             "#fb9f3a"
            ],
            [
             0.8888888888888888,
             "#fdca26"
            ],
            [
             1,
             "#f0f921"
            ]
           ],
           "sequentialminus": [
            [
             0,
             "#0d0887"
            ],
            [
             0.1111111111111111,
             "#46039f"
            ],
            [
             0.2222222222222222,
             "#7201a8"
            ],
            [
             0.3333333333333333,
             "#9c179e"
            ],
            [
             0.4444444444444444,
             "#bd3786"
            ],
            [
             0.5555555555555556,
             "#d8576b"
            ],
            [
             0.6666666666666666,
             "#ed7953"
            ],
            [
             0.7777777777777778,
             "#fb9f3a"
            ],
            [
             0.8888888888888888,
             "#fdca26"
            ],
            [
             1,
             "#f0f921"
            ]
           ]
          },
          "colorway": [
           "#636efa",
           "#EF553B",
           "#00cc96",
           "#ab63fa",
           "#FFA15A",
           "#19d3f3",
           "#FF6692",
           "#B6E880",
           "#FF97FF",
           "#FECB52"
          ],
          "font": {
           "color": "#2a3f5f"
          },
          "geo": {
           "bgcolor": "white",
           "lakecolor": "white",
           "landcolor": "white",
           "showlakes": true,
           "showland": true,
           "subunitcolor": "#C8D4E3"
          },
          "hoverlabel": {
           "align": "left"
          },
          "hovermode": "closest",
          "mapbox": {
           "style": "light"
          },
          "paper_bgcolor": "white",
          "plot_bgcolor": "white",
          "polar": {
           "angularaxis": {
            "gridcolor": "#EBF0F8",
            "linecolor": "#EBF0F8",
            "ticks": ""
           },
           "bgcolor": "white",
           "radialaxis": {
            "gridcolor": "#EBF0F8",
            "linecolor": "#EBF0F8",
            "ticks": ""
           }
          },
          "scene": {
           "xaxis": {
            "backgroundcolor": "white",
            "gridcolor": "#DFE8F3",
            "gridwidth": 2,
            "linecolor": "#EBF0F8",
            "showbackground": true,
            "ticks": "",
            "zerolinecolor": "#EBF0F8"
           },
           "yaxis": {
            "backgroundcolor": "white",
            "gridcolor": "#DFE8F3",
            "gridwidth": 2,
            "linecolor": "#EBF0F8",
            "showbackground": true,
            "ticks": "",
            "zerolinecolor": "#EBF0F8"
           },
           "zaxis": {
            "backgroundcolor": "white",
            "gridcolor": "#DFE8F3",
            "gridwidth": 2,
            "linecolor": "#EBF0F8",
            "showbackground": true,
            "ticks": "",
            "zerolinecolor": "#EBF0F8"
           }
          },
          "shapedefaults": {
           "line": {
            "color": "#2a3f5f"
           }
          },
          "ternary": {
           "aaxis": {
            "gridcolor": "#DFE8F3",
            "linecolor": "#A2B1C6",
            "ticks": ""
           },
           "baxis": {
            "gridcolor": "#DFE8F3",
            "linecolor": "#A2B1C6",
            "ticks": ""
           },
           "bgcolor": "white",
           "caxis": {
            "gridcolor": "#DFE8F3",
            "linecolor": "#A2B1C6",
            "ticks": ""
           }
          },
          "title": {
           "x": 0.05
          },
          "xaxis": {
           "automargin": true,
           "gridcolor": "#EBF0F8",
           "linecolor": "#EBF0F8",
           "ticks": "",
           "title": {
            "standoff": 15
           },
           "zerolinecolor": "#EBF0F8",
           "zerolinewidth": 2
          },
          "yaxis": {
           "automargin": true,
           "gridcolor": "#EBF0F8",
           "linecolor": "#EBF0F8",
           "ticks": "",
           "title": {
            "standoff": 15
           },
           "zerolinecolor": "#EBF0F8",
           "zerolinewidth": 2
          }
         }
        },
        "title": {
         "text": "Actual vs Predicted - Top 4 Models by SMAPE (Residence 2)",
         "x": 0.5
        },
        "xaxis": {
         "autorange": true,
         "range": [
          0,
          99
         ],
         "title": {
          "text": "Observations"
         },
         "type": "linear"
        },
        "yaxis": {
         "autorange": true,
         "range": [
          314.76363555555554,
          384.48612444444444
         ],
         "title": {
          "text": "Values"
         },
         "type": "linear"
        }
       }
      },
      "text/html": [
       "<div>                            <div id=\"3e9c612c-1dbc-49f6-9158-f26da0f3d1f4\" class=\"plotly-graph-div\" style=\"height:400px; width:100%;\"></div>            <script type=\"text/javascript\">                require([\"plotly\"], function(Plotly) {                    window.PLOTLYENV=window.PLOTLYENV || {};                                    if (document.getElementById(\"3e9c612c-1dbc-49f6-9158-f26da0f3d1f4\")) {                    Plotly.newPlot(                        \"3e9c612c-1dbc-49f6-9158-f26da0f3d1f4\",                        [{\"mode\":\"lines\",\"name\":\"Actual\",\"x\":[0,1,2,3,4,5,6,7,8,9,10,11,12,13,14,15,16,17,18,19,20,21,22,23,24,25,26,27,28,29,30,31,32,33,34,35,36,37,38,39,40,41,42,43,44,45,46,47,48,49,50,51,52,53,54,55,56,57,58,59,60,61,62,63,64,65,66,67,68,69,70,71,72,73,74,75,76,77,78,79,80,81,82,83,84,85,86,87,88,89,90,91,92,93,94,95,96,97,98,99],\"y\":[380.04,381.0,380.04,376.68,375.24,363.0,357.48,344.64,342.48,319.92,336.36,328.56,329.16,330.0,328.8,329.28,338.4,343.68,353.88,360.0,355.8,358.32,369.0,367.32,381.0,380.04,376.68,375.24,363.0,357.48,344.64,342.48,319.92,336.36,328.56,329.16,330.0,328.8,329.28,338.4,343.68,353.88,360.0,355.8,358.32,369.0,367.32,378.6,380.04,376.68,375.24,363.0,357.48,344.64,342.48,319.92,336.36,328.56,329.16,330.0,328.8,329.28,338.4,343.68,353.88,360.0,355.8,358.32,369.0,367.32,378.6,378.12,376.68,375.24,363.0,357.48,344.64,342.48,319.92,336.36,328.56,329.16,330.0,328.8,329.28,338.4,343.68,353.88,360.0,355.8,358.32,369.0,367.32,378.6,378.12,331.08,375.24,363.0,357.48,344.64],\"type\":\"scatter\"},{\"mode\":\"lines\",\"name\":\"HyperNetLSTMRBF\",\"x\":[0,1,2,3,4,5,6,7,8,9,10,11,12,13,14,15,16,17,18,19,20,21,22,23,24,25,26,27,28,29,30,31,32,33,34,35,36,37,38,39,40,41,42,43,44,45,46,47,48,49,50,51,52,53,54,55,56,57,58,59,60,61,62,63,64,65,66,67,68,69,70,71,72,73,74,75,76,77,78,79,80,81,82,83,84,85,86,87,88,89,90,91,92,93,94,95,96,97,98,99],\"y\":[369.8743,374.96484,370.21875,365.44696,362.83835,357.6702,349.97043,341.40112,335.66895,332.16852,329.13232,328.39307,326.96814,326.58383,326.34406,327.61224,330.67194,336.16345,343.22888,350.85303,358.6782,364.4591,368.00287,370.51575,370.67783,372.78052,367.7537,362.47693,355.75168,350.15634,342.1946,335.79376,331.92865,328.93707,328.00198,326.6673,326.15994,326.19077,327.34308,330.2862,336.0316,343.03726,350.3318,357.83197,363.81052,367.51245,370.29648,371.9063,371.31787,368.56186,363.89374,357.8927,349.56946,343.6171,337.20898,332.73236,328.4821,327.08307,325.73727,325.23834,325.7446,327.26965,330.50696,336.0739,342.79004,349.723,356.92987,362.84363,366.5159,369.30478,371.00644,371.35974,370.42487,362.25153,357.4593,350.81677,342.8755,337.00452,333.97458,329.55835,326.1709,324.93884,324.43454,324.55692,325.9571,329.30554,335.53888,342.52496,349.33063,356.23938,361.88345,365.4343,368.31546,369.91153,370.13144,369.50858,371.50327,357.2996,352.44232,344.04587],\"type\":\"scatter\"},{\"mode\":\"lines\",\"name\":\"HyperNetLSTMPoly\",\"x\":[0,1,2,3,4,5,6,7,8,9,10,11,12,13,14,15,16,17,18,19,20,21,22,23,24,25,26,27,28,29,30,31,32,33,34,35,36,37,38,39,40,41,42,43,44,45,46,47,48,49,50,51,52,53,54,55,56,57,58,59,60,61,62,63,64,65,66,67,68,69,70,71,72,73,74,75,76,77,78,79,80,81,82,83,84,85,86,87,88,89,90,91,92,93,94,95,96,97,98,99],\"y\":[368.03864,374.13696,364.90082,370.3948,363.89948,354.29916,350.4415,343.3188,340.41687,337.943,327.51544,322.33926,321.22467,324.0395,331.7135,344.10562,354.05862,360.9037,365.37073,369.82477,370.47424,371.01602,370.58255,370.7078,368.67282,373.15988,365.54956,369.88992,357.69324,351.78,342.968,340.1594,338.31104,329.61542,321.93307,318.24976,321.91855,329.97525,344.77417,353.93698,360.19818,365.02118,369.12668,369.19995,369.54065,370.4881,371.1722,371.26947,368.2644,369.54938,364.63977,364.6827,351.34213,347.43054,339.37515,338.90958,331.95837,323.0501,319.622,324.75925,329.50064,340.80765,351.8827,358.13928,363.3313,367.6518,368.34186,368.61206,369.31625,369.3997,369.44885,368.61444,366.63654,365.06448,360.58255,353.11746,344.47147,342.04303,339.60748,331.44882,323.2104,319.0406,323.13727,329.14624,340.1626,349.4411,355.2847,362.02527,365.94638,367.56702,368.00897,368.55176,368.4805,368.47125,367.74512,366.18555,365.66287,360.1055,353.03787,340.8137],\"type\":\"scatter\"},{\"mode\":\"lines\",\"name\":\"AttentionLSTM\",\"x\":[0,1,2,3,4,5,6,7,8,9,10,11,12,13,14,15,16,17,18,19,20,21,22,23,24,25,26,27,28,29,30,31,32,33,34,35,36,37,38,39,40,41,42,43,44,45,46,47,48,49,50,51,52,53,54,55,56,57,58,59,60,61,62,63,64,65,66,67,68,69,70,71,72,73,74,75,76,77,78,79,80,81,82,83,84,85,86,87,88,89,90,91,92,93,94,95,96,97,98,99],\"y\":[366.46912,366.1571,365.69925,363.53366,357.55292,347.8464,338.53397,333.1201,331.1517,330.83423,326.20764,324.1699,324.56635,325.05753,325.58035,326.3066,327.8587,331.9512,340.32516,349.3618,357.08405,362.1349,364.69766,365.72906,366.49646,365.69037,363.53625,357.55383,347.84705,338.5343,333.1203,331.15186,330.83435,326.208,324.16998,324.56638,325.05753,325.58035,326.3066,327.8587,331.9512,340.32516,349.3618,357.08405,362.1349,364.69766,365.72906,366.09106,365.6072,362.801,356.97272,347.40707,338.2427,332.91318,330.9756,330.66302,326.10995,324.1034,324.49338,324.9768,325.4914,326.2062,327.73395,331.76212,340.00446,348.89905,356.49994,361.4714,363.9939,365.0091,365.3654,365.41165,363.63208,355.7597,346.82547,337.79135,332.6037,330.71115,330.40604,325.96304,324.00357,324.3839,324.85568,325.35794,326.05566,327.54678,331.47845,339.5234,348.20496,355.62378,360.47617,362.93823,363.9291,364.27686,364.32202,363.88184,360.58688,345.70224,337.98862,332.58698],\"type\":\"scatter\"},{\"mode\":\"lines\",\"name\":\"ARFFNN\",\"x\":[0,1,2,3,4,5,6,7,8,9,10,11,12,13,14,15,16,17,18,19,20,21,22,23,24,25,26,27,28,29,30,31,32,33,34,35,36,37,38,39,40,41,42,43,44,45,46,47,48,49,50,51,52,53,54,55,56,57,58,59,60,61,62,63,64,65,66,67,68,69,70,71,72,73,74,75,76,77,78,79,80,81,82,83,84,85,86,87,88,89,90,91,92,93,94,95,96,97,98,99],\"y\":[367.5821,368.28775,368.207,366.0099,364.37512,361.3616,357.5426,353.3086,349.80106,346.18634,330.54022,331.6816,333.02676,334.44385,336.42496,339.16205,342.12415,346.13913,349.6734,353.25998,356.88507,360.60406,364.13394,366.88547,368.28775,368.207,366.0099,364.37512,361.3616,357.5426,353.3086,349.80106,346.18634,330.54022,331.6816,333.02676,334.44385,336.42496,339.16205,342.12415,346.13913,349.6734,353.25998,356.88507,360.60406,364.13394,366.88547,367.76892,367.44806,365.2855,363.67645,360.71027,356.9513,352.7838,349.33142,345.7735,330.3733,331.49677,332.82077,334.21558,336.16556,338.85962,341.77515,345.72705,349.20578,352.736,356.30408,359.96463,363.43906,366.1473,367.0169,368.01974,364.1989,362.6284,359.73325,356.06433,351.99667,348.62695,345.15427,330.12292,331.21948,332.51175,333.87317,335.77646,338.40598,341.25168,345.10892,348.50433,351.94998,355.43262,359.0055,362.39667,365.04007,365.88882,366.86765,366.69415,362.6284,359.73325,356.06433,351.99667],\"type\":\"scatter\"}],                        {\"template\":{\"data\":{\"barpolar\":[{\"marker\":{\"line\":{\"color\":\"white\",\"width\":0.5},\"pattern\":{\"fillmode\":\"overlay\",\"size\":10,\"solidity\":0.2}},\"type\":\"barpolar\"}],\"bar\":[{\"error_x\":{\"color\":\"#2a3f5f\"},\"error_y\":{\"color\":\"#2a3f5f\"},\"marker\":{\"line\":{\"color\":\"white\",\"width\":0.5},\"pattern\":{\"fillmode\":\"overlay\",\"size\":10,\"solidity\":0.2}},\"type\":\"bar\"}],\"carpet\":[{\"aaxis\":{\"endlinecolor\":\"#2a3f5f\",\"gridcolor\":\"#C8D4E3\",\"linecolor\":\"#C8D4E3\",\"minorgridcolor\":\"#C8D4E3\",\"startlinecolor\":\"#2a3f5f\"},\"baxis\":{\"endlinecolor\":\"#2a3f5f\",\"gridcolor\":\"#C8D4E3\",\"linecolor\":\"#C8D4E3\",\"minorgridcolor\":\"#C8D4E3\",\"startlinecolor\":\"#2a3f5f\"},\"type\":\"carpet\"}],\"choropleth\":[{\"colorbar\":{\"outlinewidth\":0,\"ticks\":\"\"},\"type\":\"choropleth\"}],\"contourcarpet\":[{\"colorbar\":{\"outlinewidth\":0,\"ticks\":\"\"},\"type\":\"contourcarpet\"}],\"contour\":[{\"colorbar\":{\"outlinewidth\":0,\"ticks\":\"\"},\"colorscale\":[[0.0,\"#0d0887\"],[0.1111111111111111,\"#46039f\"],[0.2222222222222222,\"#7201a8\"],[0.3333333333333333,\"#9c179e\"],[0.4444444444444444,\"#bd3786\"],[0.5555555555555556,\"#d8576b\"],[0.6666666666666666,\"#ed7953\"],[0.7777777777777778,\"#fb9f3a\"],[0.8888888888888888,\"#fdca26\"],[1.0,\"#f0f921\"]],\"type\":\"contour\"}],\"heatmapgl\":[{\"colorbar\":{\"outlinewidth\":0,\"ticks\":\"\"},\"colorscale\":[[0.0,\"#0d0887\"],[0.1111111111111111,\"#46039f\"],[0.2222222222222222,\"#7201a8\"],[0.3333333333333333,\"#9c179e\"],[0.4444444444444444,\"#bd3786\"],[0.5555555555555556,\"#d8576b\"],[0.6666666666666666,\"#ed7953\"],[0.7777777777777778,\"#fb9f3a\"],[0.8888888888888888,\"#fdca26\"],[1.0,\"#f0f921\"]],\"type\":\"heatmapgl\"}],\"heatmap\":[{\"colorbar\":{\"outlinewidth\":0,\"ticks\":\"\"},\"colorscale\":[[0.0,\"#0d0887\"],[0.1111111111111111,\"#46039f\"],[0.2222222222222222,\"#7201a8\"],[0.3333333333333333,\"#9c179e\"],[0.4444444444444444,\"#bd3786\"],[0.5555555555555556,\"#d8576b\"],[0.6666666666666666,\"#ed7953\"],[0.7777777777777778,\"#fb9f3a\"],[0.8888888888888888,\"#fdca26\"],[1.0,\"#f0f921\"]],\"type\":\"heatmap\"}],\"histogram2dcontour\":[{\"colorbar\":{\"outlinewidth\":0,\"ticks\":\"\"},\"colorscale\":[[0.0,\"#0d0887\"],[0.1111111111111111,\"#46039f\"],[0.2222222222222222,\"#7201a8\"],[0.3333333333333333,\"#9c179e\"],[0.4444444444444444,\"#bd3786\"],[0.5555555555555556,\"#d8576b\"],[0.6666666666666666,\"#ed7953\"],[0.7777777777777778,\"#fb9f3a\"],[0.8888888888888888,\"#fdca26\"],[1.0,\"#f0f921\"]],\"type\":\"histogram2dcontour\"}],\"histogram2d\":[{\"colorbar\":{\"outlinewidth\":0,\"ticks\":\"\"},\"colorscale\":[[0.0,\"#0d0887\"],[0.1111111111111111,\"#46039f\"],[0.2222222222222222,\"#7201a8\"],[0.3333333333333333,\"#9c179e\"],[0.4444444444444444,\"#bd3786\"],[0.5555555555555556,\"#d8576b\"],[0.6666666666666666,\"#ed7953\"],[0.7777777777777778,\"#fb9f3a\"],[0.8888888888888888,\"#fdca26\"],[1.0,\"#f0f921\"]],\"type\":\"histogram2d\"}],\"histogram\":[{\"marker\":{\"pattern\":{\"fillmode\":\"overlay\",\"size\":10,\"solidity\":0.2}},\"type\":\"histogram\"}],\"mesh3d\":[{\"colorbar\":{\"outlinewidth\":0,\"ticks\":\"\"},\"type\":\"mesh3d\"}],\"parcoords\":[{\"line\":{\"colorbar\":{\"outlinewidth\":0,\"ticks\":\"\"}},\"type\":\"parcoords\"}],\"pie\":[{\"automargin\":true,\"type\":\"pie\"}],\"scatter3d\":[{\"line\":{\"colorbar\":{\"outlinewidth\":0,\"ticks\":\"\"}},\"marker\":{\"colorbar\":{\"outlinewidth\":0,\"ticks\":\"\"}},\"type\":\"scatter3d\"}],\"scattercarpet\":[{\"marker\":{\"colorbar\":{\"outlinewidth\":0,\"ticks\":\"\"}},\"type\":\"scattercarpet\"}],\"scattergeo\":[{\"marker\":{\"colorbar\":{\"outlinewidth\":0,\"ticks\":\"\"}},\"type\":\"scattergeo\"}],\"scattergl\":[{\"marker\":{\"colorbar\":{\"outlinewidth\":0,\"ticks\":\"\"}},\"type\":\"scattergl\"}],\"scattermapbox\":[{\"marker\":{\"colorbar\":{\"outlinewidth\":0,\"ticks\":\"\"}},\"type\":\"scattermapbox\"}],\"scatterpolargl\":[{\"marker\":{\"colorbar\":{\"outlinewidth\":0,\"ticks\":\"\"}},\"type\":\"scatterpolargl\"}],\"scatterpolar\":[{\"marker\":{\"colorbar\":{\"outlinewidth\":0,\"ticks\":\"\"}},\"type\":\"scatterpolar\"}],\"scatter\":[{\"fillpattern\":{\"fillmode\":\"overlay\",\"size\":10,\"solidity\":0.2},\"type\":\"scatter\"}],\"scatterternary\":[{\"marker\":{\"colorbar\":{\"outlinewidth\":0,\"ticks\":\"\"}},\"type\":\"scatterternary\"}],\"surface\":[{\"colorbar\":{\"outlinewidth\":0,\"ticks\":\"\"},\"colorscale\":[[0.0,\"#0d0887\"],[0.1111111111111111,\"#46039f\"],[0.2222222222222222,\"#7201a8\"],[0.3333333333333333,\"#9c179e\"],[0.4444444444444444,\"#bd3786\"],[0.5555555555555556,\"#d8576b\"],[0.6666666666666666,\"#ed7953\"],[0.7777777777777778,\"#fb9f3a\"],[0.8888888888888888,\"#fdca26\"],[1.0,\"#f0f921\"]],\"type\":\"surface\"}],\"table\":[{\"cells\":{\"fill\":{\"color\":\"#EBF0F8\"},\"line\":{\"color\":\"white\"}},\"header\":{\"fill\":{\"color\":\"#C8D4E3\"},\"line\":{\"color\":\"white\"}},\"type\":\"table\"}]},\"layout\":{\"annotationdefaults\":{\"arrowcolor\":\"#2a3f5f\",\"arrowhead\":0,\"arrowwidth\":1},\"autotypenumbers\":\"strict\",\"coloraxis\":{\"colorbar\":{\"outlinewidth\":0,\"ticks\":\"\"}},\"colorscale\":{\"diverging\":[[0,\"#8e0152\"],[0.1,\"#c51b7d\"],[0.2,\"#de77ae\"],[0.3,\"#f1b6da\"],[0.4,\"#fde0ef\"],[0.5,\"#f7f7f7\"],[0.6,\"#e6f5d0\"],[0.7,\"#b8e186\"],[0.8,\"#7fbc41\"],[0.9,\"#4d9221\"],[1,\"#276419\"]],\"sequential\":[[0.0,\"#0d0887\"],[0.1111111111111111,\"#46039f\"],[0.2222222222222222,\"#7201a8\"],[0.3333333333333333,\"#9c179e\"],[0.4444444444444444,\"#bd3786\"],[0.5555555555555556,\"#d8576b\"],[0.6666666666666666,\"#ed7953\"],[0.7777777777777778,\"#fb9f3a\"],[0.8888888888888888,\"#fdca26\"],[1.0,\"#f0f921\"]],\"sequentialminus\":[[0.0,\"#0d0887\"],[0.1111111111111111,\"#46039f\"],[0.2222222222222222,\"#7201a8\"],[0.3333333333333333,\"#9c179e\"],[0.4444444444444444,\"#bd3786\"],[0.5555555555555556,\"#d8576b\"],[0.6666666666666666,\"#ed7953\"],[0.7777777777777778,\"#fb9f3a\"],[0.8888888888888888,\"#fdca26\"],[1.0,\"#f0f921\"]]},\"colorway\":[\"#636efa\",\"#EF553B\",\"#00cc96\",\"#ab63fa\",\"#FFA15A\",\"#19d3f3\",\"#FF6692\",\"#B6E880\",\"#FF97FF\",\"#FECB52\"],\"font\":{\"color\":\"#2a3f5f\"},\"geo\":{\"bgcolor\":\"white\",\"lakecolor\":\"white\",\"landcolor\":\"white\",\"showlakes\":true,\"showland\":true,\"subunitcolor\":\"#C8D4E3\"},\"hoverlabel\":{\"align\":\"left\"},\"hovermode\":\"closest\",\"mapbox\":{\"style\":\"light\"},\"paper_bgcolor\":\"white\",\"plot_bgcolor\":\"white\",\"polar\":{\"angularaxis\":{\"gridcolor\":\"#EBF0F8\",\"linecolor\":\"#EBF0F8\",\"ticks\":\"\"},\"bgcolor\":\"white\",\"radialaxis\":{\"gridcolor\":\"#EBF0F8\",\"linecolor\":\"#EBF0F8\",\"ticks\":\"\"}},\"scene\":{\"xaxis\":{\"backgroundcolor\":\"white\",\"gridcolor\":\"#DFE8F3\",\"gridwidth\":2,\"linecolor\":\"#EBF0F8\",\"showbackground\":true,\"ticks\":\"\",\"zerolinecolor\":\"#EBF0F8\"},\"yaxis\":{\"backgroundcolor\":\"white\",\"gridcolor\":\"#DFE8F3\",\"gridwidth\":2,\"linecolor\":\"#EBF0F8\",\"showbackground\":true,\"ticks\":\"\",\"zerolinecolor\":\"#EBF0F8\"},\"zaxis\":{\"backgroundcolor\":\"white\",\"gridcolor\":\"#DFE8F3\",\"gridwidth\":2,\"linecolor\":\"#EBF0F8\",\"showbackground\":true,\"ticks\":\"\",\"zerolinecolor\":\"#EBF0F8\"}},\"shapedefaults\":{\"line\":{\"color\":\"#2a3f5f\"}},\"ternary\":{\"aaxis\":{\"gridcolor\":\"#DFE8F3\",\"linecolor\":\"#A2B1C6\",\"ticks\":\"\"},\"baxis\":{\"gridcolor\":\"#DFE8F3\",\"linecolor\":\"#A2B1C6\",\"ticks\":\"\"},\"bgcolor\":\"white\",\"caxis\":{\"gridcolor\":\"#DFE8F3\",\"linecolor\":\"#A2B1C6\",\"ticks\":\"\"}},\"title\":{\"x\":0.05},\"xaxis\":{\"automargin\":true,\"gridcolor\":\"#EBF0F8\",\"linecolor\":\"#EBF0F8\",\"ticks\":\"\",\"title\":{\"standoff\":15},\"zerolinecolor\":\"#EBF0F8\",\"zerolinewidth\":2},\"yaxis\":{\"automargin\":true,\"gridcolor\":\"#EBF0F8\",\"linecolor\":\"#EBF0F8\",\"ticks\":\"\",\"title\":{\"standoff\":15},\"zerolinecolor\":\"#EBF0F8\",\"zerolinewidth\":2}}},\"title\":{\"text\":\"Actual vs Predicted - Top 4 Models by SMAPE (Residence 2)\",\"x\":0.5},\"xaxis\":{\"title\":{\"text\":\"Observations\"}},\"yaxis\":{\"title\":{\"text\":\"Values\"}},\"legend\":{\"title\":{\"text\":\"Models\"}},\"height\":400},                        {\"responsive\": true}                    ).then(function(){\n",
       "                            \n",
       "var gd = document.getElementById('3e9c612c-1dbc-49f6-9158-f26da0f3d1f4');\n",
       "var x = new MutationObserver(function (mutations, observer) {{\n",
       "        var display = window.getComputedStyle(gd).display;\n",
       "        if (!display || display === 'none') {{\n",
       "            console.log([gd, 'removed!']);\n",
       "            Plotly.purge(gd);\n",
       "            observer.disconnect();\n",
       "        }}\n",
       "}});\n",
       "\n",
       "// Listen for the removal of the full notebook cells\n",
       "var notebookContainer = gd.closest('#notebook-container');\n",
       "if (notebookContainer) {{\n",
       "    x.observe(notebookContainer, {childList: true});\n",
       "}}\n",
       "\n",
       "// Listen for the clearing of the current output cell\n",
       "var outputEl = gd.closest('.output');\n",
       "if (outputEl) {{\n",
       "    x.observe(outputEl, {childList: true});\n",
       "}}\n",
       "\n",
       "                        })                };                });            </script>        </div>"
      ]
     },
     "metadata": {},
     "output_type": "display_data"
    },
    {
     "name": "stderr",
     "output_type": "stream",
     "text": [
      "/tmp/ipykernel_1015045/315515312.py:83: FutureWarning:\n",
      "\n",
      "this method is deprecated in favour of `Styler.format(precision=..)`\n",
      "\n",
      "/tmp/ipykernel_1015045/315515312.py:88: FutureWarning:\n",
      "\n",
      "this method is deprecated in favour of `Styler.format(precision=..)`\n",
      "\n"
     ]
    },
    {
     "data": {
      "text/html": [
       "<style type=\"text/css\">\n",
       "#T_9c375_row0_col0, #T_9c375_row0_col1, #T_9c375_row0_col2 {\n",
       "  background-color: #3b4cc0;\n",
       "  color: #f1f1f1;\n",
       "}\n",
       "#T_9c375_row1_col0, #T_9c375_row1_col2 {\n",
       "  background-color: #4961d2;\n",
       "  color: #f1f1f1;\n",
       "}\n",
       "#T_9c375_row1_col1 {\n",
       "  background-color: #4c66d6;\n",
       "  color: #f1f1f1;\n",
       "}\n",
       "#T_9c375_row2_col0, #T_9c375_row3_col1 {\n",
       "  background-color: #5a78e4;\n",
       "  color: #f1f1f1;\n",
       "}\n",
       "#T_9c375_row2_col1 {\n",
       "  background-color: #6687ed;\n",
       "  color: #f1f1f1;\n",
       "}\n",
       "#T_9c375_row2_col2 {\n",
       "  background-color: #5f7fe8;\n",
       "  color: #f1f1f1;\n",
       "}\n",
       "#T_9c375_row3_col0, #T_9c375_row3_col2 {\n",
       "  background-color: #6e90f2;\n",
       "  color: #f1f1f1;\n",
       "}\n",
       "#T_9c375_row4_col0 {\n",
       "  background-color: #779af7;\n",
       "  color: #f1f1f1;\n",
       "}\n",
       "#T_9c375_row4_col1 {\n",
       "  background-color: #7295f4;\n",
       "  color: #f1f1f1;\n",
       "}\n",
       "#T_9c375_row4_col2 {\n",
       "  background-color: #7ea1fa;\n",
       "  color: #f1f1f1;\n",
       "}\n",
       "#T_9c375_row5_col0 {\n",
       "  background-color: #8badfd;\n",
       "  color: #000000;\n",
       "}\n",
       "#T_9c375_row5_col1 {\n",
       "  background-color: #92b4fe;\n",
       "  color: #000000;\n",
       "}\n",
       "#T_9c375_row5_col2 {\n",
       "  background-color: #8db0fe;\n",
       "  color: #000000;\n",
       "}\n",
       "#T_9c375_row6_col0 {\n",
       "  background-color: #a3c2fe;\n",
       "  color: #000000;\n",
       "}\n",
       "#T_9c375_row6_col1 {\n",
       "  background-color: #9abbff;\n",
       "  color: #000000;\n",
       "}\n",
       "#T_9c375_row6_col2 {\n",
       "  background-color: #b9d0f9;\n",
       "  color: #000000;\n",
       "}\n",
       "#T_9c375_row7_col0, #T_9c375_row9_col0 {\n",
       "  background-color: #f4987a;\n",
       "  color: #000000;\n",
       "}\n",
       "#T_9c375_row7_col1 {\n",
       "  background-color: #f2cbb7;\n",
       "  color: #000000;\n",
       "}\n",
       "#T_9c375_row7_col2 {\n",
       "  background-color: #f7ac8e;\n",
       "  color: #000000;\n",
       "}\n",
       "#T_9c375_row8_col0 {\n",
       "  background-color: #f39475;\n",
       "  color: #000000;\n",
       "}\n",
       "#T_9c375_row8_col1 {\n",
       "  background-color: #f3c7b1;\n",
       "  color: #000000;\n",
       "}\n",
       "#T_9c375_row8_col2 {\n",
       "  background-color: #f7a688;\n",
       "  color: #000000;\n",
       "}\n",
       "#T_9c375_row9_col1 {\n",
       "  background-color: #f59c7d;\n",
       "  color: #000000;\n",
       "}\n",
       "#T_9c375_row9_col2 {\n",
       "  background-color: #f29072;\n",
       "  color: #f1f1f1;\n",
       "}\n",
       "#T_9c375_row10_col0, #T_9c375_row10_col1, #T_9c375_row10_col2 {\n",
       "  background-color: #b40426;\n",
       "  color: #f1f1f1;\n",
       "}\n",
       "</style>\n",
       "<table id=\"T_9c375_\">\n",
       "  <caption>Error Metrics Sorted by SMAPE (Residence 2)</caption>\n",
       "  <thead>\n",
       "    <tr>\n",
       "      <th class=\"blank level0\" >&nbsp;</th>\n",
       "      <th class=\"col_heading level0 col0\" >MAE</th>\n",
       "      <th class=\"col_heading level0 col1\" >RMSE</th>\n",
       "      <th class=\"col_heading level0 col2\" >SMAPE</th>\n",
       "    </tr>\n",
       "  </thead>\n",
       "  <tbody>\n",
       "    <tr>\n",
       "      <th id=\"T_9c375_level0_row0\" class=\"row_heading level0 row0\" >HyperNetLSTMRBF</th>\n",
       "      <td id=\"T_9c375_row0_col0\" class=\"data row0 col0\" >16.49</td>\n",
       "      <td id=\"T_9c375_row0_col1\" class=\"data row0 col1\" >24.59</td>\n",
       "      <td id=\"T_9c375_row0_col2\" class=\"data row0 col2\" >6.70</td>\n",
       "    </tr>\n",
       "    <tr>\n",
       "      <th id=\"T_9c375_level0_row1\" class=\"row_heading level0 row1\" >HyperNetLSTMPoly</th>\n",
       "      <td id=\"T_9c375_row1_col0\" class=\"data row1 col0\" >17.29</td>\n",
       "      <td id=\"T_9c375_row1_col1\" class=\"data row1 col1\" >25.80</td>\n",
       "      <td id=\"T_9c375_row1_col2\" class=\"data row1 col2\" >7.02</td>\n",
       "    </tr>\n",
       "    <tr>\n",
       "      <th id=\"T_9c375_level0_row2\" class=\"row_heading level0 row2\" >AttentionLSTM</th>\n",
       "      <td id=\"T_9c375_row2_col0\" class=\"data row2 col0\" >18.23</td>\n",
       "      <td id=\"T_9c375_row2_col1\" class=\"data row2 col1\" >27.33</td>\n",
       "      <td id=\"T_9c375_row2_col2\" class=\"data row2 col2\" >7.51</td>\n",
       "    </tr>\n",
       "    <tr>\n",
       "      <th id=\"T_9c375_level0_row3\" class=\"row_heading level0 row3\" >ARFFNN</th>\n",
       "      <td id=\"T_9c375_row3_col0\" class=\"data row3 col0\" >19.19</td>\n",
       "      <td id=\"T_9c375_row3_col1\" class=\"data row3 col1\" >26.65</td>\n",
       "      <td id=\"T_9c375_row3_col2\" class=\"data row3 col2\" >7.82</td>\n",
       "    </tr>\n",
       "    <tr>\n",
       "      <th id=\"T_9c375_level0_row4\" class=\"row_heading level0 row4\" >GRU</th>\n",
       "      <td id=\"T_9c375_row4_col0\" class=\"data row4 col0\" >19.67</td>\n",
       "      <td id=\"T_9c375_row4_col1\" class=\"data row4 col1\" >28.04</td>\n",
       "      <td id=\"T_9c375_row4_col2\" class=\"data row4 col2\" >8.14</td>\n",
       "    </tr>\n",
       "    <tr>\n",
       "      <th id=\"T_9c375_level0_row5\" class=\"row_heading level0 row5\" >Nbeats</th>\n",
       "      <td id=\"T_9c375_row5_col0\" class=\"data row5 col0\" >20.60</td>\n",
       "      <td id=\"T_9c375_row5_col1\" class=\"data row5 col1\" >29.87</td>\n",
       "      <td id=\"T_9c375_row5_col2\" class=\"data row5 col2\" >8.43</td>\n",
       "    </tr>\n",
       "    <tr>\n",
       "      <th id=\"T_9c375_level0_row6\" class=\"row_heading level0 row6\" >LSTM</th>\n",
       "      <td id=\"T_9c375_row6_col0\" class=\"data row6 col0\" >21.76</td>\n",
       "      <td id=\"T_9c375_row6_col1\" class=\"data row6 col1\" >30.33</td>\n",
       "      <td id=\"T_9c375_row6_col2\" class=\"data row6 col2\" >9.29</td>\n",
       "    </tr>\n",
       "    <tr>\n",
       "      <th id=\"T_9c375_level0_row7\" class=\"row_heading level0 row7\" >Transformer</th>\n",
       "      <td id=\"T_9c375_row7_col0\" class=\"data row7 col0\" >29.06</td>\n",
       "      <td id=\"T_9c375_row7_col1\" class=\"data row7 col1\" >36.59</td>\n",
       "      <td id=\"T_9c375_row7_col2\" class=\"data row7 col2\" >11.52</td>\n",
       "    </tr>\n",
       "    <tr>\n",
       "      <th id=\"T_9c375_level0_row8\" class=\"row_heading level0 row8\" >MLP</th>\n",
       "      <td id=\"T_9c375_row8_col0\" class=\"data row8 col0\" >29.24</td>\n",
       "      <td id=\"T_9c375_row8_col1\" class=\"data row8 col1\" >36.89</td>\n",
       "      <td id=\"T_9c375_row8_col2\" class=\"data row8 col2\" >11.61</td>\n",
       "    </tr>\n",
       "    <tr>\n",
       "      <th id=\"T_9c375_level0_row9\" class=\"row_heading level0 row9\" >RNN</th>\n",
       "      <td id=\"T_9c375_row9_col0\" class=\"data row9 col0\" >29.05</td>\n",
       "      <td id=\"T_9c375_row9_col1\" class=\"data row9 col1\" >39.50</td>\n",
       "      <td id=\"T_9c375_row9_col2\" class=\"data row9 col2\" >12.00</td>\n",
       "    </tr>\n",
       "    <tr>\n",
       "      <th id=\"T_9c375_level0_row10\" class=\"row_heading level0 row10\" >TempConv</th>\n",
       "      <td id=\"T_9c375_row10_col0\" class=\"data row10 col0\" >33.20</td>\n",
       "      <td id=\"T_9c375_row10_col1\" class=\"data row10 col1\" >44.63</td>\n",
       "      <td id=\"T_9c375_row10_col2\" class=\"data row10 col2\" >13.56</td>\n",
       "    </tr>\n",
       "  </tbody>\n",
       "</table>\n"
      ],
      "text/plain": [
       "<pandas.io.formats.style.Styler at 0x7f61ec2a8550>"
      ]
     },
     "execution_count": 6,
     "metadata": {},
     "output_type": "execute_result"
    }
   ],
   "source": [
    "import pandas as pd\n",
    "import numpy as np\n",
    "from sklearn.metrics import mean_absolute_error, mean_squared_error\n",
    "import matplotlib.pyplot as plt\n",
    "from sklearn.metrics import mean_absolute_error, mean_squared_error\n",
    "import plotly.graph_objects as go\n",
    "import plotly.express as px\n",
    "data1 = pd.read_csv('Residence1.csv')\n",
    "data1 = data1.drop('HyperNetLSTM', axis=1)\n",
    "data2 = pd.read_csv('Residence2.csv')\n",
    "data2 = data2.drop('HyperNetLSTM', axis=1)\n",
    "\n",
    "\n",
    "def smape(y_true, y_pred):\n",
    "    denominator = (np.abs(y_true) + np.abs(y_pred)) / 2.0\n",
    "    diff = np.abs(y_true - y_pred) / denominator\n",
    "    diff[denominator == 0] = 0.0\n",
    "    return 100 * np.mean(diff)\n",
    "\n",
    "def calculate_metrics(data):\n",
    "    y_actual = data['Actual']\n",
    "    error_metrics = {}\n",
    "    for model in data.columns[1:]:\n",
    "        y_pred = data[model]\n",
    "        mae = mean_absolute_error(y_actual, y_pred)\n",
    "        rmse = np.sqrt(mean_squared_error(y_actual, y_pred))\n",
    "        smape_value = smape(y_actual, y_pred)\n",
    "        error_metrics[model] = {\n",
    "            'MAE': mae,\n",
    "            'RMSE': rmse,\n",
    "            'SMAPE': smape_value\n",
    "        }\n",
    "    error_metrics_df = pd.DataFrame(error_metrics).transpose()\n",
    "    metrix = error_metrics_df.sort_values(by='SMAPE')\n",
    "    metrix.to_csv('./comparison.csv')\n",
    "    return error_metrics_df.sort_values(by='SMAPE')\n",
    "metrics_df1 = calculate_metrics(data1)\n",
    "metrics_df1.to_csv('./comparison1.csv')\n",
    "metrics_df2 = calculate_metrics(data2)\n",
    "metrics_df2.to_csv('./comparison2.csv')\n",
    "\n",
    "def plotly_top_performers_centered(data, metrics_df, title):\n",
    "    top_3_models = metrics_df.index[:4]  # Top 4 models\n",
    "    fig = go.Figure()\n",
    "\n",
    "    # Adding actual values\n",
    "    fig.add_trace(go.Scatter(x=data.index[:100], y=data['Actual'][:100], mode='lines', name='Actual'))\n",
    "\n",
    "    # Adding predicted values of top 3 models\n",
    "    for model in top_3_models:\n",
    "        fig.add_trace(go.Scatter(x=data.index[:100], y=data[model][:100], mode='lines', name=model))\n",
    "\n",
    "    # Update plot layout with centered title\n",
    "    fig.update_layout(title=f'Actual vs Predicted - Top 4 Models by SMAPE ({title})',\n",
    "                      title_x=0.5,\n",
    "                      xaxis_title='Observations',\n",
    "                      yaxis_title='Values',\n",
    "                      legend_title='Models',\n",
    "                      template='plotly_white',\n",
    "                      height=400)\n",
    "    fig.show()\n",
    "\n",
    "def plotly_all_metrics_bar_chart_centered(metrics_df, title):\n",
    "    # Melting the DataFrame to long format for Plotly\n",
    "    long_df = metrics_df.reset_index().melt(id_vars='index', value_vars=['MAE', 'RMSE', 'SMAPE'])\n",
    "    long_df.rename(columns={'index': 'Model', 'variable': 'Metric', 'value': 'Value'}, inplace=True)\n",
    "\n",
    "    # Creating the bar chart with centered title\n",
    "    fig = px.bar(long_df, x='Model', y='Value', color='Metric', barmode='group',\n",
    "                 labels={'Value': 'Metric Value', 'Model': 'Models'})\n",
    "    \n",
    "    # Updating layout for centered title\n",
    "    fig.update_layout(title=f'All Metrics Comparison - {title}', title_x=0.5, template='plotly_white', height=500)\n",
    "    fig.show()\n",
    "plotly_all_metrics_bar_chart_centered(metrics_df1, 'Residence 1')\n",
    "plotly_all_metrics_bar_chart_centered(metrics_df2, 'Residence 2')\n",
    "plotly_top_performers_centered(data1, metrics_df1, 'Residence 1')\n",
    "plotly_top_performers_centered(data2, metrics_df2, 'Residence 2')\n",
    "\n",
    "styled_df1 = metrics_df1.style.background_gradient(cmap='coolwarm', subset=['MAE', 'RMSE', 'SMAPE'])\\\n",
    "    .format(\"{:.2f}\", subset=['MAE', 'RMSE', 'SMAPE'])\\\n",
    "    .set_caption(\"Error Metrics Sorted by SMAPE (Residence 1)\")\\\n",
    "    .set_precision(2)\n",
    "\n",
    "styled_df2 = metrics_df2.style.background_gradient(cmap='coolwarm', subset=['MAE', 'RMSE', 'SMAPE'])\\\n",
    "    .format(\"{:.2f}\", subset=['MAE', 'RMSE', 'SMAPE'])\\\n",
    "    .set_caption(\"Error Metrics Sorted by SMAPE (Residence 2)\")\\\n",
    "    .set_precision(2)\n",
    "\n",
    "#styled_df1\n",
    "styled_df2\n"
   ]
  },
  {
   "cell_type": "code",
   "execution_count": 7,
   "id": "671e1f56-71c8-43fd-855d-94e71cf2014f",
   "metadata": {},
   "outputs": [
    {
     "data": {
      "application/vnd.plotly.v1+json": {
       "config": {
        "plotlyServerURL": "https://plot.ly"
       },
       "data": [
        {
         "mode": "lines",
         "name": "Actual",
         "type": "scatter",
         "x": [
          0,
          1,
          2,
          3,
          4,
          5,
          6,
          7,
          8,
          9,
          10,
          11,
          12,
          13,
          14,
          15,
          16,
          17,
          18,
          19,
          20,
          21,
          22,
          23,
          24,
          25,
          26,
          27,
          28,
          29,
          30,
          31,
          32,
          33,
          34,
          35,
          36,
          37,
          38,
          39,
          40,
          41,
          42,
          43,
          44,
          45,
          46,
          47,
          48,
          49,
          50,
          51,
          52,
          53,
          54,
          55,
          56,
          57,
          58,
          59,
          60,
          61,
          62,
          63,
          64,
          65,
          66,
          67,
          68,
          69,
          70,
          71,
          72,
          73,
          74,
          75,
          76,
          77,
          78,
          79,
          80,
          81,
          82,
          83,
          84,
          85,
          86,
          87,
          88,
          89,
          90,
          91,
          92,
          93,
          94,
          95,
          96,
          97,
          98,
          99
         ],
         "y": [
          369.15,
          390.9,
          382.05,
          375,
          353.4,
          330.75,
          325.2,
          321.3,
          315.6,
          308.55,
          291.75,
          291.6,
          293.25,
          292.35,
          293.55,
          288.9,
          287.4,
          304.95,
          289.35,
          311.7,
          316.65,
          318.75,
          335.85,
          331.5,
          390.9,
          382.05,
          375,
          353.4,
          330.75,
          325.2,
          321.3,
          315.6,
          308.55,
          291.75,
          291.6,
          293.25,
          292.35,
          293.55,
          288.9,
          287.4,
          304.95,
          289.35,
          311.7,
          316.65,
          318.75,
          335.85,
          331.5,
          331.05,
          382.05,
          375,
          353.4,
          330.75,
          325.2,
          321.3,
          315.6,
          308.55,
          291.75,
          291.6,
          293.25,
          292.35,
          293.55,
          288.9,
          287.4,
          304.95,
          289.35,
          311.7,
          316.65,
          318.75,
          335.85,
          331.5,
          331.05,
          331.05,
          375,
          353.4,
          330.75,
          325.2,
          321.3,
          315.6,
          308.55,
          291.75,
          291.6,
          293.25,
          292.35,
          293.55,
          288.9,
          287.4,
          304.95,
          289.35,
          311.7,
          316.65,
          318.75,
          335.85,
          331.5,
          331.05,
          331.05,
          293.1,
          353.4,
          330.75,
          325.2,
          321.3
         ]
        },
        {
         "mode": "lines",
         "name": "Transformer",
         "type": "scatter",
         "x": [
          0,
          1,
          2,
          3,
          4,
          5,
          6,
          7,
          8,
          9,
          10,
          11,
          12,
          13,
          14,
          15,
          16,
          17,
          18,
          19,
          20,
          21,
          22,
          23,
          24,
          25,
          26,
          27,
          28,
          29,
          30,
          31,
          32,
          33,
          34,
          35,
          36,
          37,
          38,
          39,
          40,
          41,
          42,
          43,
          44,
          45,
          46,
          47,
          48,
          49,
          50,
          51,
          52,
          53,
          54,
          55,
          56,
          57,
          58,
          59,
          60,
          61,
          62,
          63,
          64,
          65,
          66,
          67,
          68,
          69,
          70,
          71,
          72,
          73,
          74,
          75,
          76,
          77,
          78,
          79,
          80,
          81,
          82,
          83,
          84,
          85,
          86,
          87,
          88,
          89,
          90,
          91,
          92,
          93,
          94,
          95,
          96,
          97,
          98,
          99
         ],
         "y": [
          385.40692,
          385.53,
          382.06198,
          371.78052,
          359.01276,
          338.83856,
          323.59906,
          314.44415,
          308.2029,
          302.89005,
          300.52676,
          300.44537,
          299.96118,
          300.6222,
          301.12576,
          303.1443,
          307.97803,
          326.17554,
          344.68146,
          360.90543,
          369.58063,
          376.16516,
          380.3786,
          383.1315,
          385.5296,
          382.06198,
          371.78052,
          359.01276,
          338.83856,
          323.59906,
          314.44415,
          308.2029,
          302.89005,
          300.52676,
          300.44537,
          299.96118,
          300.6222,
          301.12576,
          303.1443,
          307.97803,
          326.17554,
          344.68146,
          360.90543,
          369.58063,
          376.16516,
          380.3786,
          383.1315,
          384.93097,
          373.96768,
          364.56537,
          352.88934,
          334.4402,
          320.50378,
          312.13168,
          306.4241,
          301.56555,
          299.40433,
          299.3299,
          298.88712,
          299.49158,
          299.95212,
          301.79803,
          306.21844,
          322.85995,
          339.78345,
          354.62018,
          362.5536,
          368.57507,
          372.42825,
          374.94577,
          376.59134,
          376.97702,
          358.81772,
          348.01138,
          330.9364,
          318.03806,
          310.28955,
          305.00708,
          300.51044,
          298.5102,
          298.44128,
          298.0315,
          298.59094,
          299.01715,
          300.7256,
          304.81677,
          320.21872,
          335.88168,
          349.61328,
          356.95578,
          362.52875,
          366.09494,
          368.42493,
          369.94794,
          370.30487,
          367.7688,
          333.0661,
          320.2014,
          310.48346,
          304.64554
         ]
        },
        {
         "mode": "lines",
         "name": "AttentionLSTM",
         "type": "scatter",
         "x": [
          0,
          1,
          2,
          3,
          4,
          5,
          6,
          7,
          8,
          9,
          10,
          11,
          12,
          13,
          14,
          15,
          16,
          17,
          18,
          19,
          20,
          21,
          22,
          23,
          24,
          25,
          26,
          27,
          28,
          29,
          30,
          31,
          32,
          33,
          34,
          35,
          36,
          37,
          38,
          39,
          40,
          41,
          42,
          43,
          44,
          45,
          46,
          47,
          48,
          49,
          50,
          51,
          52,
          53,
          54,
          55,
          56,
          57,
          58,
          59,
          60,
          61,
          62,
          63,
          64,
          65,
          66,
          67,
          68,
          69,
          70,
          71,
          72,
          73,
          74,
          75,
          76,
          77,
          78,
          79,
          80,
          81,
          82,
          83,
          84,
          85,
          86,
          87,
          88,
          89,
          90,
          91,
          92,
          93,
          94,
          95,
          96,
          97,
          98,
          99
         ],
         "y": [
          367.0213,
          371.35803,
          370.46893,
          367.14856,
          361.25406,
          347.25806,
          331.19263,
          320.67682,
          314.88,
          311.46762,
          295.93933,
          292.3001,
          291.93277,
          291.80417,
          291.94598,
          292.6582,
          294.64194,
          297.8982,
          305.10324,
          317.19574,
          341.31793,
          361.45047,
          368.79688,
          370.85315,
          367.97266,
          370.4075,
          367.14636,
          361.25323,
          347.25742,
          331.1923,
          320.67664,
          314.87994,
          311.4676,
          295.93924,
          292.29965,
          291.93234,
          291.80383,
          291.94574,
          292.65805,
          294.6419,
          297.89822,
          305.10333,
          317.19583,
          341.318,
          361.45047,
          368.79684,
          370.8531,
          371.44135,
          359.59918,
          360.07803,
          354.90256,
          342.13046,
          327.4461,
          317.83102,
          312.53012,
          309.40958,
          295.20895,
          291.88004,
          291.5442,
          291.42673,
          291.55664,
          292.2082,
          294.02255,
          297.00046,
          303.58948,
          314.64795,
          336.70746,
          355.1185,
          361.83673,
          363.7171,
          364.2551,
          364.33813,
          350.22464,
          349.27075,
          337.91632,
          324.4416,
          315.56308,
          310.6582,
          307.7701,
          294.6272,
          291.54553,
          291.23477,
          291.1262,
          291.2466,
          291.8498,
          293.5291,
          296.28528,
          302.38354,
          312.61826,
          333.0346,
          350.07434,
          356.29218,
          358.03253,
          358.5304,
          358.6073,
          358.02338,
          331.4884,
          324.95404,
          315.2311,
          308.61472
         ]
        },
        {
         "mode": "lines",
         "name": "GRU",
         "type": "scatter",
         "x": [
          0,
          1,
          2,
          3,
          4,
          5,
          6,
          7,
          8,
          9,
          10,
          11,
          12,
          13,
          14,
          15,
          16,
          17,
          18,
          19,
          20,
          21,
          22,
          23,
          24,
          25,
          26,
          27,
          28,
          29,
          30,
          31,
          32,
          33,
          34,
          35,
          36,
          37,
          38,
          39,
          40,
          41,
          42,
          43,
          44,
          45,
          46,
          47,
          48,
          49,
          50,
          51,
          52,
          53,
          54,
          55,
          56,
          57,
          58,
          59,
          60,
          61,
          62,
          63,
          64,
          65,
          66,
          67,
          68,
          69,
          70,
          71,
          72,
          73,
          74,
          75,
          76,
          77,
          78,
          79,
          80,
          81,
          82,
          83,
          84,
          85,
          86,
          87,
          88,
          89,
          90,
          91,
          92,
          93,
          94,
          95,
          96,
          97,
          98,
          99
         ],
         "y": [
          363.311,
          356.62762,
          349.8869,
          340.97357,
          333.2825,
          322.49777,
          314.12402,
          306.21448,
          297.90826,
          289.31558,
          289.86896,
          290.9176,
          292.62308,
          295.35248,
          299.41406,
          305.24948,
          313.18268,
          323.60767,
          335.78162,
          348.39465,
          358.87115,
          365.7233,
          368.34503,
          367.4592,
          363.54,
          346.83026,
          340.95493,
          332.85297,
          322.4134,
          314.01904,
          306.0455,
          297.7346,
          289.1282,
          289.696,
          290.77313,
          292.52454,
          295.32657,
          299.49045,
          305.45914,
          313.54398,
          324.1147,
          336.36484,
          348.9277,
          359.22324,
          365.8479,
          368.2975,
          367.33,
          364.15146,
          354.73004,
          331.2067,
          329.5984,
          318.47452,
          311.75867,
          304.37396,
          296.71194,
          288.83676,
          289.3679,
          290.37488,
          292.01123,
          294.6277,
          298.5109,
          304.06668,
          311.57016,
          321.3413,
          332.5969,
          344.04767,
          353.33435,
          359.23523,
          361.3574,
          360.41458,
          357.47882,
          353.70627,
          344.5377,
          320.50482,
          317.6044,
          309.32037,
          302.987,
          295.99426,
          288.6432,
          289.14255,
          290.08994,
          291.6293,
          294.09027,
          297.7394,
          302.95264,
          309.97675,
          319.09396,
          329.54462,
          340.10742,
          348.60245,
          353.9477,
          355.82697,
          354.91248,
          352.17334,
          348.67725,
          342.45605,
          324.8789,
          306.2929,
          303.92435,
          298.9964
         ]
        },
        {
         "mode": "lines",
         "name": "TempConv",
         "type": "scatter",
         "x": [
          0,
          1,
          2,
          3,
          4,
          5,
          6,
          7,
          8,
          9,
          10,
          11,
          12,
          13,
          14,
          15,
          16,
          17,
          18,
          19,
          20,
          21,
          22,
          23,
          24,
          25,
          26,
          27,
          28,
          29,
          30,
          31,
          32,
          33,
          34,
          35,
          36,
          37,
          38,
          39,
          40,
          41,
          42,
          43,
          44,
          45,
          46,
          47,
          48,
          49,
          50,
          51,
          52,
          53,
          54,
          55,
          56,
          57,
          58,
          59,
          60,
          61,
          62,
          63,
          64,
          65,
          66,
          67,
          68,
          69,
          70,
          71,
          72,
          73,
          74,
          75,
          76,
          77,
          78,
          79,
          80,
          81,
          82,
          83,
          84,
          85,
          86,
          87,
          88,
          89,
          90,
          91,
          92,
          93,
          94,
          95,
          96,
          97,
          98,
          99
         ],
         "y": [
          376.65265,
          376.1977,
          374.4022,
          372.40692,
          366.25647,
          354.61624,
          344.6652,
          336.82556,
          329.24582,
          319.71704,
          285.20624,
          281.46213,
          278.26215,
          281.13724,
          292.52814,
          304.44254,
          316.11533,
          330.7546,
          343.90396,
          358.409,
          369.46436,
          376.8733,
          376.83823,
          376.79074,
          376.1977,
          374.4022,
          372.40692,
          366.25647,
          354.61624,
          344.6652,
          336.82556,
          329.24582,
          319.71704,
          285.20624,
          281.46213,
          278.26215,
          281.13724,
          292.52814,
          304.44254,
          316.11533,
          330.7546,
          343.90396,
          358.409,
          369.46436,
          376.8733,
          376.83823,
          376.79074,
          376.7412,
          366.9629,
          365.13818,
          359.51364,
          348.86877,
          339.7686,
          332.5993,
          325.6677,
          316.9537,
          285.39383,
          281.96988,
          279.0435,
          281.67273,
          292.08963,
          302.98526,
          313.65994,
          327.0475,
          339.07245,
          352.33722,
          362.44727,
          369.2227,
          369.1906,
          369.1472,
          369.10187,
          368.97876,
          359.34787,
          354.14227,
          344.29028,
          335.86792,
          329.23267,
          322.81732,
          314.7524,
          285.54324,
          282.37433,
          279.66592,
          282.09933,
          291.74033,
          301.8244,
          311.70398,
          324.09436,
          335.22363,
          347.5004,
          356.85736,
          363.1281,
          363.09845,
          363.05826,
          363.01633,
          362.9024,
          361.30685,
          337.68527,
          330.26254,
          323.91693,
          318.91776
         ]
        }
       ],
       "layout": {
        "autosize": true,
        "legend": {
         "title": {
          "text": "Models"
         }
        },
        "template": {
         "data": {
          "bar": [
           {
            "error_x": {
             "color": "#2a3f5f"
            },
            "error_y": {
             "color": "#2a3f5f"
            },
            "marker": {
             "line": {
              "color": "white",
              "width": 0.5
             },
             "pattern": {
              "fillmode": "overlay",
              "size": 10,
              "solidity": 0.2
             }
            },
            "type": "bar"
           }
          ],
          "barpolar": [
           {
            "marker": {
             "line": {
              "color": "white",
              "width": 0.5
             },
             "pattern": {
              "fillmode": "overlay",
              "size": 10,
              "solidity": 0.2
             }
            },
            "type": "barpolar"
           }
          ],
          "carpet": [
           {
            "aaxis": {
             "endlinecolor": "#2a3f5f",
             "gridcolor": "#C8D4E3",
             "linecolor": "#C8D4E3",
             "minorgridcolor": "#C8D4E3",
             "startlinecolor": "#2a3f5f"
            },
            "baxis": {
             "endlinecolor": "#2a3f5f",
             "gridcolor": "#C8D4E3",
             "linecolor": "#C8D4E3",
             "minorgridcolor": "#C8D4E3",
             "startlinecolor": "#2a3f5f"
            },
            "type": "carpet"
           }
          ],
          "choropleth": [
           {
            "colorbar": {
             "outlinewidth": 0,
             "ticks": ""
            },
            "type": "choropleth"
           }
          ],
          "contour": [
           {
            "colorbar": {
             "outlinewidth": 0,
             "ticks": ""
            },
            "colorscale": [
             [
              0,
              "#0d0887"
             ],
             [
              0.1111111111111111,
              "#46039f"
             ],
             [
              0.2222222222222222,
              "#7201a8"
             ],
             [
              0.3333333333333333,
              "#9c179e"
             ],
             [
              0.4444444444444444,
              "#bd3786"
             ],
             [
              0.5555555555555556,
              "#d8576b"
             ],
             [
              0.6666666666666666,
              "#ed7953"
             ],
             [
              0.7777777777777778,
              "#fb9f3a"
             ],
             [
              0.8888888888888888,
              "#fdca26"
             ],
             [
              1,
              "#f0f921"
             ]
            ],
            "type": "contour"
           }
          ],
          "contourcarpet": [
           {
            "colorbar": {
             "outlinewidth": 0,
             "ticks": ""
            },
            "type": "contourcarpet"
           }
          ],
          "heatmap": [
           {
            "colorbar": {
             "outlinewidth": 0,
             "ticks": ""
            },
            "colorscale": [
             [
              0,
              "#0d0887"
             ],
             [
              0.1111111111111111,
              "#46039f"
             ],
             [
              0.2222222222222222,
              "#7201a8"
             ],
             [
              0.3333333333333333,
              "#9c179e"
             ],
             [
              0.4444444444444444,
              "#bd3786"
             ],
             [
              0.5555555555555556,
              "#d8576b"
             ],
             [
              0.6666666666666666,
              "#ed7953"
             ],
             [
              0.7777777777777778,
              "#fb9f3a"
             ],
             [
              0.8888888888888888,
              "#fdca26"
             ],
             [
              1,
              "#f0f921"
             ]
            ],
            "type": "heatmap"
           }
          ],
          "heatmapgl": [
           {
            "colorbar": {
             "outlinewidth": 0,
             "ticks": ""
            },
            "colorscale": [
             [
              0,
              "#0d0887"
             ],
             [
              0.1111111111111111,
              "#46039f"
             ],
             [
              0.2222222222222222,
              "#7201a8"
             ],
             [
              0.3333333333333333,
              "#9c179e"
             ],
             [
              0.4444444444444444,
              "#bd3786"
             ],
             [
              0.5555555555555556,
              "#d8576b"
             ],
             [
              0.6666666666666666,
              "#ed7953"
             ],
             [
              0.7777777777777778,
              "#fb9f3a"
             ],
             [
              0.8888888888888888,
              "#fdca26"
             ],
             [
              1,
              "#f0f921"
             ]
            ],
            "type": "heatmapgl"
           }
          ],
          "histogram": [
           {
            "marker": {
             "pattern": {
              "fillmode": "overlay",
              "size": 10,
              "solidity": 0.2
             }
            },
            "type": "histogram"
           }
          ],
          "histogram2d": [
           {
            "colorbar": {
             "outlinewidth": 0,
             "ticks": ""
            },
            "colorscale": [
             [
              0,
              "#0d0887"
             ],
             [
              0.1111111111111111,
              "#46039f"
             ],
             [
              0.2222222222222222,
              "#7201a8"
             ],
             [
              0.3333333333333333,
              "#9c179e"
             ],
             [
              0.4444444444444444,
              "#bd3786"
             ],
             [
              0.5555555555555556,
              "#d8576b"
             ],
             [
              0.6666666666666666,
              "#ed7953"
             ],
             [
              0.7777777777777778,
              "#fb9f3a"
             ],
             [
              0.8888888888888888,
              "#fdca26"
             ],
             [
              1,
              "#f0f921"
             ]
            ],
            "type": "histogram2d"
           }
          ],
          "histogram2dcontour": [
           {
            "colorbar": {
             "outlinewidth": 0,
             "ticks": ""
            },
            "colorscale": [
             [
              0,
              "#0d0887"
             ],
             [
              0.1111111111111111,
              "#46039f"
             ],
             [
              0.2222222222222222,
              "#7201a8"
             ],
             [
              0.3333333333333333,
              "#9c179e"
             ],
             [
              0.4444444444444444,
              "#bd3786"
             ],
             [
              0.5555555555555556,
              "#d8576b"
             ],
             [
              0.6666666666666666,
              "#ed7953"
             ],
             [
              0.7777777777777778,
              "#fb9f3a"
             ],
             [
              0.8888888888888888,
              "#fdca26"
             ],
             [
              1,
              "#f0f921"
             ]
            ],
            "type": "histogram2dcontour"
           }
          ],
          "mesh3d": [
           {
            "colorbar": {
             "outlinewidth": 0,
             "ticks": ""
            },
            "type": "mesh3d"
           }
          ],
          "parcoords": [
           {
            "line": {
             "colorbar": {
              "outlinewidth": 0,
              "ticks": ""
             }
            },
            "type": "parcoords"
           }
          ],
          "pie": [
           {
            "automargin": true,
            "type": "pie"
           }
          ],
          "scatter": [
           {
            "fillpattern": {
             "fillmode": "overlay",
             "size": 10,
             "solidity": 0.2
            },
            "type": "scatter"
           }
          ],
          "scatter3d": [
           {
            "line": {
             "colorbar": {
              "outlinewidth": 0,
              "ticks": ""
             }
            },
            "marker": {
             "colorbar": {
              "outlinewidth": 0,
              "ticks": ""
             }
            },
            "type": "scatter3d"
           }
          ],
          "scattercarpet": [
           {
            "marker": {
             "colorbar": {
              "outlinewidth": 0,
              "ticks": ""
             }
            },
            "type": "scattercarpet"
           }
          ],
          "scattergeo": [
           {
            "marker": {
             "colorbar": {
              "outlinewidth": 0,
              "ticks": ""
             }
            },
            "type": "scattergeo"
           }
          ],
          "scattergl": [
           {
            "marker": {
             "colorbar": {
              "outlinewidth": 0,
              "ticks": ""
             }
            },
            "type": "scattergl"
           }
          ],
          "scattermapbox": [
           {
            "marker": {
             "colorbar": {
              "outlinewidth": 0,
              "ticks": ""
             }
            },
            "type": "scattermapbox"
           }
          ],
          "scatterpolar": [
           {
            "marker": {
             "colorbar": {
              "outlinewidth": 0,
              "ticks": ""
             }
            },
            "type": "scatterpolar"
           }
          ],
          "scatterpolargl": [
           {
            "marker": {
             "colorbar": {
              "outlinewidth": 0,
              "ticks": ""
             }
            },
            "type": "scatterpolargl"
           }
          ],
          "scatterternary": [
           {
            "marker": {
             "colorbar": {
              "outlinewidth": 0,
              "ticks": ""
             }
            },
            "type": "scatterternary"
           }
          ],
          "surface": [
           {
            "colorbar": {
             "outlinewidth": 0,
             "ticks": ""
            },
            "colorscale": [
             [
              0,
              "#0d0887"
             ],
             [
              0.1111111111111111,
              "#46039f"
             ],
             [
              0.2222222222222222,
              "#7201a8"
             ],
             [
              0.3333333333333333,
              "#9c179e"
             ],
             [
              0.4444444444444444,
              "#bd3786"
             ],
             [
              0.5555555555555556,
              "#d8576b"
             ],
             [
              0.6666666666666666,
              "#ed7953"
             ],
             [
              0.7777777777777778,
              "#fb9f3a"
             ],
             [
              0.8888888888888888,
              "#fdca26"
             ],
             [
              1,
              "#f0f921"
             ]
            ],
            "type": "surface"
           }
          ],
          "table": [
           {
            "cells": {
             "fill": {
              "color": "#EBF0F8"
             },
             "line": {
              "color": "white"
             }
            },
            "header": {
             "fill": {
              "color": "#C8D4E3"
             },
             "line": {
              "color": "white"
             }
            },
            "type": "table"
           }
          ]
         },
         "layout": {
          "annotationdefaults": {
           "arrowcolor": "#2a3f5f",
           "arrowhead": 0,
           "arrowwidth": 1
          },
          "autotypenumbers": "strict",
          "coloraxis": {
           "colorbar": {
            "outlinewidth": 0,
            "ticks": ""
           }
          },
          "colorscale": {
           "diverging": [
            [
             0,
             "#8e0152"
            ],
            [
             0.1,
             "#c51b7d"
            ],
            [
             0.2,
             "#de77ae"
            ],
            [
             0.3,
             "#f1b6da"
            ],
            [
             0.4,
             "#fde0ef"
            ],
            [
             0.5,
             "#f7f7f7"
            ],
            [
             0.6,
             "#e6f5d0"
            ],
            [
             0.7,
             "#b8e186"
            ],
            [
             0.8,
             "#7fbc41"
            ],
            [
             0.9,
             "#4d9221"
            ],
            [
             1,
             "#276419"
            ]
           ],
           "sequential": [
            [
             0,
             "#0d0887"
            ],
            [
             0.1111111111111111,
             "#46039f"
            ],
            [
             0.2222222222222222,
             "#7201a8"
            ],
            [
             0.3333333333333333,
             "#9c179e"
            ],
            [
             0.4444444444444444,
             "#bd3786"
            ],
            [
             0.5555555555555556,
             "#d8576b"
            ],
            [
             0.6666666666666666,
             "#ed7953"
            ],
            [
             0.7777777777777778,
             "#fb9f3a"
            ],
            [
             0.8888888888888888,
             "#fdca26"
            ],
            [
             1,
             "#f0f921"
            ]
           ],
           "sequentialminus": [
            [
             0,
             "#0d0887"
            ],
            [
             0.1111111111111111,
             "#46039f"
            ],
            [
             0.2222222222222222,
             "#7201a8"
            ],
            [
             0.3333333333333333,
             "#9c179e"
            ],
            [
             0.4444444444444444,
             "#bd3786"
            ],
            [
             0.5555555555555556,
             "#d8576b"
            ],
            [
             0.6666666666666666,
             "#ed7953"
            ],
            [
             0.7777777777777778,
             "#fb9f3a"
            ],
            [
             0.8888888888888888,
             "#fdca26"
            ],
            [
             1,
             "#f0f921"
            ]
           ]
          },
          "colorway": [
           "#636efa",
           "#EF553B",
           "#00cc96",
           "#ab63fa",
           "#FFA15A",
           "#19d3f3",
           "#FF6692",
           "#B6E880",
           "#FF97FF",
           "#FECB52"
          ],
          "font": {
           "color": "#2a3f5f"
          },
          "geo": {
           "bgcolor": "white",
           "lakecolor": "white",
           "landcolor": "white",
           "showlakes": true,
           "showland": true,
           "subunitcolor": "#C8D4E3"
          },
          "hoverlabel": {
           "align": "left"
          },
          "hovermode": "closest",
          "mapbox": {
           "style": "light"
          },
          "paper_bgcolor": "white",
          "plot_bgcolor": "white",
          "polar": {
           "angularaxis": {
            "gridcolor": "#EBF0F8",
            "linecolor": "#EBF0F8",
            "ticks": ""
           },
           "bgcolor": "white",
           "radialaxis": {
            "gridcolor": "#EBF0F8",
            "linecolor": "#EBF0F8",
            "ticks": ""
           }
          },
          "scene": {
           "xaxis": {
            "backgroundcolor": "white",
            "gridcolor": "#DFE8F3",
            "gridwidth": 2,
            "linecolor": "#EBF0F8",
            "showbackground": true,
            "ticks": "",
            "zerolinecolor": "#EBF0F8"
           },
           "yaxis": {
            "backgroundcolor": "white",
            "gridcolor": "#DFE8F3",
            "gridwidth": 2,
            "linecolor": "#EBF0F8",
            "showbackground": true,
            "ticks": "",
            "zerolinecolor": "#EBF0F8"
           },
           "zaxis": {
            "backgroundcolor": "white",
            "gridcolor": "#DFE8F3",
            "gridwidth": 2,
            "linecolor": "#EBF0F8",
            "showbackground": true,
            "ticks": "",
            "zerolinecolor": "#EBF0F8"
           }
          },
          "shapedefaults": {
           "line": {
            "color": "#2a3f5f"
           }
          },
          "ternary": {
           "aaxis": {
            "gridcolor": "#DFE8F3",
            "linecolor": "#A2B1C6",
            "ticks": ""
           },
           "baxis": {
            "gridcolor": "#DFE8F3",
            "linecolor": "#A2B1C6",
            "ticks": ""
           },
           "bgcolor": "white",
           "caxis": {
            "gridcolor": "#DFE8F3",
            "linecolor": "#A2B1C6",
            "ticks": ""
           }
          },
          "title": {
           "x": 0.05
          },
          "xaxis": {
           "automargin": true,
           "gridcolor": "#EBF0F8",
           "linecolor": "#EBF0F8",
           "ticks": "",
           "title": {
            "standoff": 15
           },
           "zerolinecolor": "#EBF0F8",
           "zerolinewidth": 2
          },
          "yaxis": {
           "automargin": true,
           "gridcolor": "#EBF0F8",
           "linecolor": "#EBF0F8",
           "ticks": "",
           "title": {
            "standoff": 15
           },
           "zerolinecolor": "#EBF0F8",
           "zerolinewidth": 2
          }
         }
        },
        "title": {
         "text": "Fall - Top 4 Models by SMAPE (Residence 1)",
         "x": 0.5
        },
        "xaxis": {
         "autorange": true,
         "range": [
          0,
          99
         ],
         "title": {
          "text": "Observations"
         },
         "type": "linear"
        },
        "yaxis": {
         "autorange": true,
         "range": [
          272.0044916666667,
          397.1576583333333
         ],
         "title": {
          "text": "Values"
         },
         "type": "linear"
        }
       }
      },
      "text/html": [
       "<div>                            <div id=\"8b2b3e2a-d5a2-4a1e-ac09-d58d881b9a40\" class=\"plotly-graph-div\" style=\"height:400px; width:100%;\"></div>            <script type=\"text/javascript\">                require([\"plotly\"], function(Plotly) {                    window.PLOTLYENV=window.PLOTLYENV || {};                                    if (document.getElementById(\"8b2b3e2a-d5a2-4a1e-ac09-d58d881b9a40\")) {                    Plotly.newPlot(                        \"8b2b3e2a-d5a2-4a1e-ac09-d58d881b9a40\",                        [{\"mode\":\"lines\",\"name\":\"Actual\",\"x\":[0,1,2,3,4,5,6,7,8,9,10,11,12,13,14,15,16,17,18,19,20,21,22,23,24,25,26,27,28,29,30,31,32,33,34,35,36,37,38,39,40,41,42,43,44,45,46,47,48,49,50,51,52,53,54,55,56,57,58,59,60,61,62,63,64,65,66,67,68,69,70,71,72,73,74,75,76,77,78,79,80,81,82,83,84,85,86,87,88,89,90,91,92,93,94,95,96,97,98,99],\"y\":[369.15,390.9,382.05,375.0,353.4,330.75,325.2,321.3,315.6,308.55,291.75,291.6,293.25,292.35,293.55,288.9,287.4,304.95,289.35,311.7,316.65,318.75,335.85,331.5,390.9,382.05,375.0,353.4,330.75,325.2,321.3,315.6,308.55,291.75,291.6,293.25,292.35,293.55,288.9,287.4,304.95,289.35,311.7,316.65,318.75,335.85,331.5,331.05,382.05,375.0,353.4,330.75,325.2,321.3,315.6,308.55,291.75,291.6,293.25,292.35,293.55,288.9,287.4,304.95,289.35,311.7,316.65,318.75,335.85,331.5,331.05,331.05,375.0,353.4,330.75,325.2,321.3,315.6,308.55,291.75,291.6,293.25,292.35,293.55,288.9,287.4,304.95,289.35,311.7,316.65,318.75,335.85,331.5,331.05,331.05,293.1,353.4,330.75,325.2,321.3],\"type\":\"scatter\"},{\"mode\":\"lines\",\"name\":\"Transformer\",\"x\":[0,1,2,3,4,5,6,7,8,9,10,11,12,13,14,15,16,17,18,19,20,21,22,23,24,25,26,27,28,29,30,31,32,33,34,35,36,37,38,39,40,41,42,43,44,45,46,47,48,49,50,51,52,53,54,55,56,57,58,59,60,61,62,63,64,65,66,67,68,69,70,71,72,73,74,75,76,77,78,79,80,81,82,83,84,85,86,87,88,89,90,91,92,93,94,95,96,97,98,99],\"y\":[385.40692,385.53,382.06198,371.78052,359.01276,338.83856,323.59906,314.44415,308.2029,302.89005,300.52676,300.44537,299.96118,300.6222,301.12576,303.1443,307.97803,326.17554,344.68146,360.90543,369.58063,376.16516,380.3786,383.1315,385.5296,382.06198,371.78052,359.01276,338.83856,323.59906,314.44415,308.2029,302.89005,300.52676,300.44537,299.96118,300.6222,301.12576,303.1443,307.97803,326.17554,344.68146,360.90543,369.58063,376.16516,380.3786,383.1315,384.93097,373.96768,364.56537,352.88934,334.4402,320.50378,312.13168,306.4241,301.56555,299.40433,299.3299,298.88712,299.49158,299.95212,301.79803,306.21844,322.85995,339.78345,354.62018,362.5536,368.57507,372.42825,374.94577,376.59134,376.97702,358.81772,348.01138,330.9364,318.03806,310.28955,305.00708,300.51044,298.5102,298.44128,298.0315,298.59094,299.01715,300.7256,304.81677,320.21872,335.88168,349.61328,356.95578,362.52875,366.09494,368.42493,369.94794,370.30487,367.7688,333.0661,320.2014,310.48346,304.64554],\"type\":\"scatter\"},{\"mode\":\"lines\",\"name\":\"AttentionLSTM\",\"x\":[0,1,2,3,4,5,6,7,8,9,10,11,12,13,14,15,16,17,18,19,20,21,22,23,24,25,26,27,28,29,30,31,32,33,34,35,36,37,38,39,40,41,42,43,44,45,46,47,48,49,50,51,52,53,54,55,56,57,58,59,60,61,62,63,64,65,66,67,68,69,70,71,72,73,74,75,76,77,78,79,80,81,82,83,84,85,86,87,88,89,90,91,92,93,94,95,96,97,98,99],\"y\":[367.0213,371.35803,370.46893,367.14856,361.25406,347.25806,331.19263,320.67682,314.88,311.46762,295.93933,292.3001,291.93277,291.80417,291.94598,292.6582,294.64194,297.8982,305.10324,317.19574,341.31793,361.45047,368.79688,370.85315,367.97266,370.4075,367.14636,361.25323,347.25742,331.1923,320.67664,314.87994,311.4676,295.93924,292.29965,291.93234,291.80383,291.94574,292.65805,294.6419,297.89822,305.10333,317.19583,341.318,361.45047,368.79684,370.8531,371.44135,359.59918,360.07803,354.90256,342.13046,327.4461,317.83102,312.53012,309.40958,295.20895,291.88004,291.5442,291.42673,291.55664,292.2082,294.02255,297.00046,303.58948,314.64795,336.70746,355.1185,361.83673,363.7171,364.2551,364.33813,350.22464,349.27075,337.91632,324.4416,315.56308,310.6582,307.7701,294.6272,291.54553,291.23477,291.1262,291.2466,291.8498,293.5291,296.28528,302.38354,312.61826,333.0346,350.07434,356.29218,358.03253,358.5304,358.6073,358.02338,331.4884,324.95404,315.2311,308.61472],\"type\":\"scatter\"},{\"mode\":\"lines\",\"name\":\"GRU\",\"x\":[0,1,2,3,4,5,6,7,8,9,10,11,12,13,14,15,16,17,18,19,20,21,22,23,24,25,26,27,28,29,30,31,32,33,34,35,36,37,38,39,40,41,42,43,44,45,46,47,48,49,50,51,52,53,54,55,56,57,58,59,60,61,62,63,64,65,66,67,68,69,70,71,72,73,74,75,76,77,78,79,80,81,82,83,84,85,86,87,88,89,90,91,92,93,94,95,96,97,98,99],\"y\":[363.311,356.62762,349.8869,340.97357,333.2825,322.49777,314.12402,306.21448,297.90826,289.31558,289.86896,290.9176,292.62308,295.35248,299.41406,305.24948,313.18268,323.60767,335.78162,348.39465,358.87115,365.7233,368.34503,367.4592,363.54,346.83026,340.95493,332.85297,322.4134,314.01904,306.0455,297.7346,289.1282,289.696,290.77313,292.52454,295.32657,299.49045,305.45914,313.54398,324.1147,336.36484,348.9277,359.22324,365.8479,368.2975,367.33,364.15146,354.73004,331.2067,329.5984,318.47452,311.75867,304.37396,296.71194,288.83676,289.3679,290.37488,292.01123,294.6277,298.5109,304.06668,311.57016,321.3413,332.5969,344.04767,353.33435,359.23523,361.3574,360.41458,357.47882,353.70627,344.5377,320.50482,317.6044,309.32037,302.987,295.99426,288.6432,289.14255,290.08994,291.6293,294.09027,297.7394,302.95264,309.97675,319.09396,329.54462,340.10742,348.60245,353.9477,355.82697,354.91248,352.17334,348.67725,342.45605,324.8789,306.2929,303.92435,298.9964],\"type\":\"scatter\"},{\"mode\":\"lines\",\"name\":\"TempConv\",\"x\":[0,1,2,3,4,5,6,7,8,9,10,11,12,13,14,15,16,17,18,19,20,21,22,23,24,25,26,27,28,29,30,31,32,33,34,35,36,37,38,39,40,41,42,43,44,45,46,47,48,49,50,51,52,53,54,55,56,57,58,59,60,61,62,63,64,65,66,67,68,69,70,71,72,73,74,75,76,77,78,79,80,81,82,83,84,85,86,87,88,89,90,91,92,93,94,95,96,97,98,99],\"y\":[376.65265,376.1977,374.4022,372.40692,366.25647,354.61624,344.6652,336.82556,329.24582,319.71704,285.20624,281.46213,278.26215,281.13724,292.52814,304.44254,316.11533,330.7546,343.90396,358.409,369.46436,376.8733,376.83823,376.79074,376.1977,374.4022,372.40692,366.25647,354.61624,344.6652,336.82556,329.24582,319.71704,285.20624,281.46213,278.26215,281.13724,292.52814,304.44254,316.11533,330.7546,343.90396,358.409,369.46436,376.8733,376.83823,376.79074,376.7412,366.9629,365.13818,359.51364,348.86877,339.7686,332.5993,325.6677,316.9537,285.39383,281.96988,279.0435,281.67273,292.08963,302.98526,313.65994,327.0475,339.07245,352.33722,362.44727,369.2227,369.1906,369.1472,369.10187,368.97876,359.34787,354.14227,344.29028,335.86792,329.23267,322.81732,314.7524,285.54324,282.37433,279.66592,282.09933,291.74033,301.8244,311.70398,324.09436,335.22363,347.5004,356.85736,363.1281,363.09845,363.05826,363.01633,362.9024,361.30685,337.68527,330.26254,323.91693,318.91776],\"type\":\"scatter\"}],                        {\"template\":{\"data\":{\"barpolar\":[{\"marker\":{\"line\":{\"color\":\"white\",\"width\":0.5},\"pattern\":{\"fillmode\":\"overlay\",\"size\":10,\"solidity\":0.2}},\"type\":\"barpolar\"}],\"bar\":[{\"error_x\":{\"color\":\"#2a3f5f\"},\"error_y\":{\"color\":\"#2a3f5f\"},\"marker\":{\"line\":{\"color\":\"white\",\"width\":0.5},\"pattern\":{\"fillmode\":\"overlay\",\"size\":10,\"solidity\":0.2}},\"type\":\"bar\"}],\"carpet\":[{\"aaxis\":{\"endlinecolor\":\"#2a3f5f\",\"gridcolor\":\"#C8D4E3\",\"linecolor\":\"#C8D4E3\",\"minorgridcolor\":\"#C8D4E3\",\"startlinecolor\":\"#2a3f5f\"},\"baxis\":{\"endlinecolor\":\"#2a3f5f\",\"gridcolor\":\"#C8D4E3\",\"linecolor\":\"#C8D4E3\",\"minorgridcolor\":\"#C8D4E3\",\"startlinecolor\":\"#2a3f5f\"},\"type\":\"carpet\"}],\"choropleth\":[{\"colorbar\":{\"outlinewidth\":0,\"ticks\":\"\"},\"type\":\"choropleth\"}],\"contourcarpet\":[{\"colorbar\":{\"outlinewidth\":0,\"ticks\":\"\"},\"type\":\"contourcarpet\"}],\"contour\":[{\"colorbar\":{\"outlinewidth\":0,\"ticks\":\"\"},\"colorscale\":[[0.0,\"#0d0887\"],[0.1111111111111111,\"#46039f\"],[0.2222222222222222,\"#7201a8\"],[0.3333333333333333,\"#9c179e\"],[0.4444444444444444,\"#bd3786\"],[0.5555555555555556,\"#d8576b\"],[0.6666666666666666,\"#ed7953\"],[0.7777777777777778,\"#fb9f3a\"],[0.8888888888888888,\"#fdca26\"],[1.0,\"#f0f921\"]],\"type\":\"contour\"}],\"heatmapgl\":[{\"colorbar\":{\"outlinewidth\":0,\"ticks\":\"\"},\"colorscale\":[[0.0,\"#0d0887\"],[0.1111111111111111,\"#46039f\"],[0.2222222222222222,\"#7201a8\"],[0.3333333333333333,\"#9c179e\"],[0.4444444444444444,\"#bd3786\"],[0.5555555555555556,\"#d8576b\"],[0.6666666666666666,\"#ed7953\"],[0.7777777777777778,\"#fb9f3a\"],[0.8888888888888888,\"#fdca26\"],[1.0,\"#f0f921\"]],\"type\":\"heatmapgl\"}],\"heatmap\":[{\"colorbar\":{\"outlinewidth\":0,\"ticks\":\"\"},\"colorscale\":[[0.0,\"#0d0887\"],[0.1111111111111111,\"#46039f\"],[0.2222222222222222,\"#7201a8\"],[0.3333333333333333,\"#9c179e\"],[0.4444444444444444,\"#bd3786\"],[0.5555555555555556,\"#d8576b\"],[0.6666666666666666,\"#ed7953\"],[0.7777777777777778,\"#fb9f3a\"],[0.8888888888888888,\"#fdca26\"],[1.0,\"#f0f921\"]],\"type\":\"heatmap\"}],\"histogram2dcontour\":[{\"colorbar\":{\"outlinewidth\":0,\"ticks\":\"\"},\"colorscale\":[[0.0,\"#0d0887\"],[0.1111111111111111,\"#46039f\"],[0.2222222222222222,\"#7201a8\"],[0.3333333333333333,\"#9c179e\"],[0.4444444444444444,\"#bd3786\"],[0.5555555555555556,\"#d8576b\"],[0.6666666666666666,\"#ed7953\"],[0.7777777777777778,\"#fb9f3a\"],[0.8888888888888888,\"#fdca26\"],[1.0,\"#f0f921\"]],\"type\":\"histogram2dcontour\"}],\"histogram2d\":[{\"colorbar\":{\"outlinewidth\":0,\"ticks\":\"\"},\"colorscale\":[[0.0,\"#0d0887\"],[0.1111111111111111,\"#46039f\"],[0.2222222222222222,\"#7201a8\"],[0.3333333333333333,\"#9c179e\"],[0.4444444444444444,\"#bd3786\"],[0.5555555555555556,\"#d8576b\"],[0.6666666666666666,\"#ed7953\"],[0.7777777777777778,\"#fb9f3a\"],[0.8888888888888888,\"#fdca26\"],[1.0,\"#f0f921\"]],\"type\":\"histogram2d\"}],\"histogram\":[{\"marker\":{\"pattern\":{\"fillmode\":\"overlay\",\"size\":10,\"solidity\":0.2}},\"type\":\"histogram\"}],\"mesh3d\":[{\"colorbar\":{\"outlinewidth\":0,\"ticks\":\"\"},\"type\":\"mesh3d\"}],\"parcoords\":[{\"line\":{\"colorbar\":{\"outlinewidth\":0,\"ticks\":\"\"}},\"type\":\"parcoords\"}],\"pie\":[{\"automargin\":true,\"type\":\"pie\"}],\"scatter3d\":[{\"line\":{\"colorbar\":{\"outlinewidth\":0,\"ticks\":\"\"}},\"marker\":{\"colorbar\":{\"outlinewidth\":0,\"ticks\":\"\"}},\"type\":\"scatter3d\"}],\"scattercarpet\":[{\"marker\":{\"colorbar\":{\"outlinewidth\":0,\"ticks\":\"\"}},\"type\":\"scattercarpet\"}],\"scattergeo\":[{\"marker\":{\"colorbar\":{\"outlinewidth\":0,\"ticks\":\"\"}},\"type\":\"scattergeo\"}],\"scattergl\":[{\"marker\":{\"colorbar\":{\"outlinewidth\":0,\"ticks\":\"\"}},\"type\":\"scattergl\"}],\"scattermapbox\":[{\"marker\":{\"colorbar\":{\"outlinewidth\":0,\"ticks\":\"\"}},\"type\":\"scattermapbox\"}],\"scatterpolargl\":[{\"marker\":{\"colorbar\":{\"outlinewidth\":0,\"ticks\":\"\"}},\"type\":\"scatterpolargl\"}],\"scatterpolar\":[{\"marker\":{\"colorbar\":{\"outlinewidth\":0,\"ticks\":\"\"}},\"type\":\"scatterpolar\"}],\"scatter\":[{\"fillpattern\":{\"fillmode\":\"overlay\",\"size\":10,\"solidity\":0.2},\"type\":\"scatter\"}],\"scatterternary\":[{\"marker\":{\"colorbar\":{\"outlinewidth\":0,\"ticks\":\"\"}},\"type\":\"scatterternary\"}],\"surface\":[{\"colorbar\":{\"outlinewidth\":0,\"ticks\":\"\"},\"colorscale\":[[0.0,\"#0d0887\"],[0.1111111111111111,\"#46039f\"],[0.2222222222222222,\"#7201a8\"],[0.3333333333333333,\"#9c179e\"],[0.4444444444444444,\"#bd3786\"],[0.5555555555555556,\"#d8576b\"],[0.6666666666666666,\"#ed7953\"],[0.7777777777777778,\"#fb9f3a\"],[0.8888888888888888,\"#fdca26\"],[1.0,\"#f0f921\"]],\"type\":\"surface\"}],\"table\":[{\"cells\":{\"fill\":{\"color\":\"#EBF0F8\"},\"line\":{\"color\":\"white\"}},\"header\":{\"fill\":{\"color\":\"#C8D4E3\"},\"line\":{\"color\":\"white\"}},\"type\":\"table\"}]},\"layout\":{\"annotationdefaults\":{\"arrowcolor\":\"#2a3f5f\",\"arrowhead\":0,\"arrowwidth\":1},\"autotypenumbers\":\"strict\",\"coloraxis\":{\"colorbar\":{\"outlinewidth\":0,\"ticks\":\"\"}},\"colorscale\":{\"diverging\":[[0,\"#8e0152\"],[0.1,\"#c51b7d\"],[0.2,\"#de77ae\"],[0.3,\"#f1b6da\"],[0.4,\"#fde0ef\"],[0.5,\"#f7f7f7\"],[0.6,\"#e6f5d0\"],[0.7,\"#b8e186\"],[0.8,\"#7fbc41\"],[0.9,\"#4d9221\"],[1,\"#276419\"]],\"sequential\":[[0.0,\"#0d0887\"],[0.1111111111111111,\"#46039f\"],[0.2222222222222222,\"#7201a8\"],[0.3333333333333333,\"#9c179e\"],[0.4444444444444444,\"#bd3786\"],[0.5555555555555556,\"#d8576b\"],[0.6666666666666666,\"#ed7953\"],[0.7777777777777778,\"#fb9f3a\"],[0.8888888888888888,\"#fdca26\"],[1.0,\"#f0f921\"]],\"sequentialminus\":[[0.0,\"#0d0887\"],[0.1111111111111111,\"#46039f\"],[0.2222222222222222,\"#7201a8\"],[0.3333333333333333,\"#9c179e\"],[0.4444444444444444,\"#bd3786\"],[0.5555555555555556,\"#d8576b\"],[0.6666666666666666,\"#ed7953\"],[0.7777777777777778,\"#fb9f3a\"],[0.8888888888888888,\"#fdca26\"],[1.0,\"#f0f921\"]]},\"colorway\":[\"#636efa\",\"#EF553B\",\"#00cc96\",\"#ab63fa\",\"#FFA15A\",\"#19d3f3\",\"#FF6692\",\"#B6E880\",\"#FF97FF\",\"#FECB52\"],\"font\":{\"color\":\"#2a3f5f\"},\"geo\":{\"bgcolor\":\"white\",\"lakecolor\":\"white\",\"landcolor\":\"white\",\"showlakes\":true,\"showland\":true,\"subunitcolor\":\"#C8D4E3\"},\"hoverlabel\":{\"align\":\"left\"},\"hovermode\":\"closest\",\"mapbox\":{\"style\":\"light\"},\"paper_bgcolor\":\"white\",\"plot_bgcolor\":\"white\",\"polar\":{\"angularaxis\":{\"gridcolor\":\"#EBF0F8\",\"linecolor\":\"#EBF0F8\",\"ticks\":\"\"},\"bgcolor\":\"white\",\"radialaxis\":{\"gridcolor\":\"#EBF0F8\",\"linecolor\":\"#EBF0F8\",\"ticks\":\"\"}},\"scene\":{\"xaxis\":{\"backgroundcolor\":\"white\",\"gridcolor\":\"#DFE8F3\",\"gridwidth\":2,\"linecolor\":\"#EBF0F8\",\"showbackground\":true,\"ticks\":\"\",\"zerolinecolor\":\"#EBF0F8\"},\"yaxis\":{\"backgroundcolor\":\"white\",\"gridcolor\":\"#DFE8F3\",\"gridwidth\":2,\"linecolor\":\"#EBF0F8\",\"showbackground\":true,\"ticks\":\"\",\"zerolinecolor\":\"#EBF0F8\"},\"zaxis\":{\"backgroundcolor\":\"white\",\"gridcolor\":\"#DFE8F3\",\"gridwidth\":2,\"linecolor\":\"#EBF0F8\",\"showbackground\":true,\"ticks\":\"\",\"zerolinecolor\":\"#EBF0F8\"}},\"shapedefaults\":{\"line\":{\"color\":\"#2a3f5f\"}},\"ternary\":{\"aaxis\":{\"gridcolor\":\"#DFE8F3\",\"linecolor\":\"#A2B1C6\",\"ticks\":\"\"},\"baxis\":{\"gridcolor\":\"#DFE8F3\",\"linecolor\":\"#A2B1C6\",\"ticks\":\"\"},\"bgcolor\":\"white\",\"caxis\":{\"gridcolor\":\"#DFE8F3\",\"linecolor\":\"#A2B1C6\",\"ticks\":\"\"}},\"title\":{\"x\":0.05},\"xaxis\":{\"automargin\":true,\"gridcolor\":\"#EBF0F8\",\"linecolor\":\"#EBF0F8\",\"ticks\":\"\",\"title\":{\"standoff\":15},\"zerolinecolor\":\"#EBF0F8\",\"zerolinewidth\":2},\"yaxis\":{\"automargin\":true,\"gridcolor\":\"#EBF0F8\",\"linecolor\":\"#EBF0F8\",\"ticks\":\"\",\"title\":{\"standoff\":15},\"zerolinecolor\":\"#EBF0F8\",\"zerolinewidth\":2}}},\"title\":{\"text\":\"Fall - Top 4 Models by SMAPE (Residence 1)\",\"x\":0.5},\"xaxis\":{\"title\":{\"text\":\"Observations\"}},\"yaxis\":{\"title\":{\"text\":\"Values\"}},\"legend\":{\"title\":{\"text\":\"Models\"}},\"height\":400},                        {\"responsive\": true}                    ).then(function(){\n",
       "                            \n",
       "var gd = document.getElementById('8b2b3e2a-d5a2-4a1e-ac09-d58d881b9a40');\n",
       "var x = new MutationObserver(function (mutations, observer) {{\n",
       "        var display = window.getComputedStyle(gd).display;\n",
       "        if (!display || display === 'none') {{\n",
       "            console.log([gd, 'removed!']);\n",
       "            Plotly.purge(gd);\n",
       "            observer.disconnect();\n",
       "        }}\n",
       "}});\n",
       "\n",
       "// Listen for the removal of the full notebook cells\n",
       "var notebookContainer = gd.closest('#notebook-container');\n",
       "if (notebookContainer) {{\n",
       "    x.observe(notebookContainer, {childList: true});\n",
       "}}\n",
       "\n",
       "// Listen for the clearing of the current output cell\n",
       "var outputEl = gd.closest('.output');\n",
       "if (outputEl) {{\n",
       "    x.observe(outputEl, {childList: true});\n",
       "}}\n",
       "\n",
       "                        })                };                });            </script>        </div>"
      ]
     },
     "metadata": {},
     "output_type": "display_data"
    },
    {
     "data": {
      "application/vnd.plotly.v1+json": {
       "config": {
        "plotlyServerURL": "https://plot.ly"
       },
       "data": [
        {
         "mode": "lines",
         "name": "Actual",
         "type": "scatter",
         "x": [
          0,
          1,
          2,
          3,
          4,
          5,
          6,
          7,
          8,
          9,
          10,
          11,
          12,
          13,
          14,
          15,
          16,
          17,
          18,
          19,
          20,
          21,
          22,
          23,
          24,
          25,
          26,
          27,
          28,
          29,
          30,
          31,
          32,
          33,
          34,
          35,
          36,
          37,
          38,
          39,
          40,
          41,
          42,
          43,
          44,
          45,
          46,
          47,
          48,
          49,
          50,
          51,
          52,
          53,
          54,
          55,
          56,
          57,
          58,
          59,
          60,
          61,
          62,
          63,
          64,
          65,
          66,
          67,
          68,
          69,
          70,
          71,
          72,
          73,
          74,
          75,
          76,
          77,
          78,
          79,
          80,
          81,
          82,
          83,
          84,
          85,
          86,
          87,
          88,
          89,
          90,
          91,
          92,
          93,
          94,
          95,
          96,
          97,
          98,
          99
         ],
         "y": [
          380.04,
          381,
          380.04,
          376.68,
          375.24,
          363,
          357.48,
          344.64,
          342.48,
          319.92,
          336.36,
          328.56,
          329.16,
          330,
          328.8,
          329.28,
          338.4,
          343.68,
          353.88,
          360,
          355.8,
          358.32,
          369,
          367.32,
          381,
          380.04,
          376.68,
          375.24,
          363,
          357.48,
          344.64,
          342.48,
          319.92,
          336.36,
          328.56,
          329.16,
          330,
          328.8,
          329.28,
          338.4,
          343.68,
          353.88,
          360,
          355.8,
          358.32,
          369,
          367.32,
          378.6,
          380.04,
          376.68,
          375.24,
          363,
          357.48,
          344.64,
          342.48,
          319.92,
          336.36,
          328.56,
          329.16,
          330,
          328.8,
          329.28,
          338.4,
          343.68,
          353.88,
          360,
          355.8,
          358.32,
          369,
          367.32,
          378.6,
          378.12,
          376.68,
          375.24,
          363,
          357.48,
          344.64,
          342.48,
          319.92,
          336.36,
          328.56,
          329.16,
          330,
          328.8,
          329.28,
          338.4,
          343.68,
          353.88,
          360,
          355.8,
          358.32,
          369,
          367.32,
          378.6,
          378.12,
          331.08,
          375.24,
          363,
          357.48,
          344.64
         ]
        },
        {
         "mode": "lines",
         "name": "HyperNetLSTMRBF",
         "type": "scatter",
         "x": [
          0,
          1,
          2,
          3,
          4,
          5,
          6,
          7,
          8,
          9,
          10,
          11,
          12,
          13,
          14,
          15,
          16,
          17,
          18,
          19,
          20,
          21,
          22,
          23,
          24,
          25,
          26,
          27,
          28,
          29,
          30,
          31,
          32,
          33,
          34,
          35,
          36,
          37,
          38,
          39,
          40,
          41,
          42,
          43,
          44,
          45,
          46,
          47,
          48,
          49,
          50,
          51,
          52,
          53,
          54,
          55,
          56,
          57,
          58,
          59,
          60,
          61,
          62,
          63,
          64,
          65,
          66,
          67,
          68,
          69,
          70,
          71,
          72,
          73,
          74,
          75,
          76,
          77,
          78,
          79,
          80,
          81,
          82,
          83,
          84,
          85,
          86,
          87,
          88,
          89,
          90,
          91,
          92,
          93,
          94,
          95,
          96,
          97,
          98,
          99
         ],
         "y": [
          369.8743,
          374.96484,
          370.21875,
          365.44696,
          362.83835,
          357.6702,
          349.97043,
          341.40112,
          335.66895,
          332.16852,
          329.13232,
          328.39307,
          326.96814,
          326.58383,
          326.34406,
          327.61224,
          330.67194,
          336.16345,
          343.22888,
          350.85303,
          358.6782,
          364.4591,
          368.00287,
          370.51575,
          370.67783,
          372.78052,
          367.7537,
          362.47693,
          355.75168,
          350.15634,
          342.1946,
          335.79376,
          331.92865,
          328.93707,
          328.00198,
          326.6673,
          326.15994,
          326.19077,
          327.34308,
          330.2862,
          336.0316,
          343.03726,
          350.3318,
          357.83197,
          363.81052,
          367.51245,
          370.29648,
          371.9063,
          371.31787,
          368.56186,
          363.89374,
          357.8927,
          349.56946,
          343.6171,
          337.20898,
          332.73236,
          328.4821,
          327.08307,
          325.73727,
          325.23834,
          325.7446,
          327.26965,
          330.50696,
          336.0739,
          342.79004,
          349.723,
          356.92987,
          362.84363,
          366.5159,
          369.30478,
          371.00644,
          371.35974,
          370.42487,
          362.25153,
          357.4593,
          350.81677,
          342.8755,
          337.00452,
          333.97458,
          329.55835,
          326.1709,
          324.93884,
          324.43454,
          324.55692,
          325.9571,
          329.30554,
          335.53888,
          342.52496,
          349.33063,
          356.23938,
          361.88345,
          365.4343,
          368.31546,
          369.91153,
          370.13144,
          369.50858,
          371.50327,
          357.2996,
          352.44232,
          344.04587
         ]
        },
        {
         "mode": "lines",
         "name": "LSTM",
         "type": "scatter",
         "x": [
          0,
          1,
          2,
          3,
          4,
          5,
          6,
          7,
          8,
          9,
          10,
          11,
          12,
          13,
          14,
          15,
          16,
          17,
          18,
          19,
          20,
          21,
          22,
          23,
          24,
          25,
          26,
          27,
          28,
          29,
          30,
          31,
          32,
          33,
          34,
          35,
          36,
          37,
          38,
          39,
          40,
          41,
          42,
          43,
          44,
          45,
          46,
          47,
          48,
          49,
          50,
          51,
          52,
          53,
          54,
          55,
          56,
          57,
          58,
          59,
          60,
          61,
          62,
          63,
          64,
          65,
          66,
          67,
          68,
          69,
          70,
          71,
          72,
          73,
          74,
          75,
          76,
          77,
          78,
          79,
          80,
          81,
          82,
          83,
          84,
          85,
          86,
          87,
          88,
          89,
          90,
          91,
          92,
          93,
          94,
          95,
          96,
          97,
          98,
          99
         ],
         "y": [
          360.69955,
          364.86096,
          362.80844,
          358.3088,
          353.066,
          347.21146,
          342.0042,
          338.29044,
          336.83588,
          336.64294,
          329.5007,
          329.40472,
          328.31213,
          326.12094,
          325.2433,
          326.6463,
          330.50638,
          337.24338,
          344.1763,
          350.5023,
          355.77014,
          360.67404,
          365.33203,
          368.54462,
          360.9744,
          364.4688,
          359.81165,
          353.80298,
          347.49106,
          342.10495,
          338.34674,
          336.8826,
          336.6763,
          329.42282,
          329.32904,
          328.29895,
          326.1272,
          325.2444,
          326.6389,
          330.4936,
          337.22913,
          344.1633,
          350.49194,
          355.76273,
          360.6693,
          365.32935,
          368.5435,
          370.70663,
          360.85098,
          362.16855,
          356.05737,
          348.82843,
          342.79575,
          338.66998,
          337.00067,
          336.661,
          329.3978,
          329.27945,
          328.2641,
          326.1093,
          325.21738,
          326.56967,
          330.3488,
          336.9686,
          343.78778,
          350.0137,
          355.2002,
          360.02917,
          364.61606,
          367.77985,
          369.90918,
          371.2064,
          359.33624,
          359.64746,
          352.03247,
          344.6223,
          339.54724,
          337.37198,
          336.75284,
          329.54718,
          329.3871,
          328.3074,
          326.13736,
          325.22223,
          326.5088,
          330.1711,
          336.61188,
          343.25168,
          349.31665,
          354.3706,
          359.07852,
          363.55215,
          366.63806,
          368.7151,
          369.9804,
          369.87134,
          359.07404,
          357.60443,
          348.89917,
          341.85107
         ]
        },
        {
         "mode": "lines",
         "name": "HyperNetLSTMPoly",
         "type": "scatter",
         "x": [
          0,
          1,
          2,
          3,
          4,
          5,
          6,
          7,
          8,
          9,
          10,
          11,
          12,
          13,
          14,
          15,
          16,
          17,
          18,
          19,
          20,
          21,
          22,
          23,
          24,
          25,
          26,
          27,
          28,
          29,
          30,
          31,
          32,
          33,
          34,
          35,
          36,
          37,
          38,
          39,
          40,
          41,
          42,
          43,
          44,
          45,
          46,
          47,
          48,
          49,
          50,
          51,
          52,
          53,
          54,
          55,
          56,
          57,
          58,
          59,
          60,
          61,
          62,
          63,
          64,
          65,
          66,
          67,
          68,
          69,
          70,
          71,
          72,
          73,
          74,
          75,
          76,
          77,
          78,
          79,
          80,
          81,
          82,
          83,
          84,
          85,
          86,
          87,
          88,
          89,
          90,
          91,
          92,
          93,
          94,
          95,
          96,
          97,
          98,
          99
         ],
         "y": [
          368.03864,
          374.13696,
          364.90082,
          370.3948,
          363.89948,
          354.29916,
          350.4415,
          343.3188,
          340.41687,
          337.943,
          327.51544,
          322.33926,
          321.22467,
          324.0395,
          331.7135,
          344.10562,
          354.05862,
          360.9037,
          365.37073,
          369.82477,
          370.47424,
          371.01602,
          370.58255,
          370.7078,
          368.67282,
          373.15988,
          365.54956,
          369.88992,
          357.69324,
          351.78,
          342.968,
          340.1594,
          338.31104,
          329.61542,
          321.93307,
          318.24976,
          321.91855,
          329.97525,
          344.77417,
          353.93698,
          360.19818,
          365.02118,
          369.12668,
          369.19995,
          369.54065,
          370.4881,
          371.1722,
          371.26947,
          368.2644,
          369.54938,
          364.63977,
          364.6827,
          351.34213,
          347.43054,
          339.37515,
          338.90958,
          331.95837,
          323.0501,
          319.622,
          324.75925,
          329.50064,
          340.80765,
          351.8827,
          358.13928,
          363.3313,
          367.6518,
          368.34186,
          368.61206,
          369.31625,
          369.3997,
          369.44885,
          368.61444,
          366.63654,
          365.06448,
          360.58255,
          353.11746,
          344.47147,
          342.04303,
          339.60748,
          331.44882,
          323.2104,
          319.0406,
          323.13727,
          329.14624,
          340.1626,
          349.4411,
          355.2847,
          362.02527,
          365.94638,
          367.56702,
          368.00897,
          368.55176,
          368.4805,
          368.47125,
          367.74512,
          366.18555,
          365.66287,
          360.1055,
          353.03787,
          340.8137
         ]
        },
        {
         "mode": "lines",
         "name": "GRU",
         "type": "scatter",
         "x": [
          0,
          1,
          2,
          3,
          4,
          5,
          6,
          7,
          8,
          9,
          10,
          11,
          12,
          13,
          14,
          15,
          16,
          17,
          18,
          19,
          20,
          21,
          22,
          23,
          24,
          25,
          26,
          27,
          28,
          29,
          30,
          31,
          32,
          33,
          34,
          35,
          36,
          37,
          38,
          39,
          40,
          41,
          42,
          43,
          44,
          45,
          46,
          47,
          48,
          49,
          50,
          51,
          52,
          53,
          54,
          55,
          56,
          57,
          58,
          59,
          60,
          61,
          62,
          63,
          64,
          65,
          66,
          67,
          68,
          69,
          70,
          71,
          72,
          73,
          74,
          75,
          76,
          77,
          78,
          79,
          80,
          81,
          82,
          83,
          84,
          85,
          86,
          87,
          88,
          89,
          90,
          91,
          92,
          93,
          94,
          95,
          96,
          97,
          98,
          99
         ],
         "y": [
          367.81732,
          368.67847,
          367.6468,
          364.9582,
          359.81647,
          350.87836,
          342.65607,
          337.66913,
          338.03906,
          336.24072,
          331.8314,
          328.57098,
          326.04657,
          324.1019,
          323.34174,
          324.66513,
          329.00677,
          336.9561,
          346.01285,
          351.8692,
          357.40646,
          361.8153,
          365.54572,
          368.30792,
          368.74344,
          367.9872,
          365.18622,
          359.96024,
          350.94348,
          342.04993,
          338.38416,
          336.5316,
          336.88712,
          331.0458,
          327.9113,
          325.54413,
          323.72858,
          323.06583,
          324.46686,
          328.8795,
          336.8695,
          345.83112,
          351.625,
          357.2764,
          361.7148,
          365.53815,
          368.35025,
          369.90585,
          368.1294,
          365.4356,
          360.15515,
          351.1876,
          341.30222,
          339.60284,
          337.67517,
          335.7699,
          331.95364,
          328.6502,
          326.10156,
          324.14743,
          323.37418,
          324.65878,
          328.91626,
          336.72723,
          345.64606,
          351.4184,
          356.85748,
          361.19553,
          364.86008,
          367.57446,
          369.0918,
          369.23523,
          365.48148,
          360.43283,
          351.60083,
          340.9284,
          339.75543,
          338.18054,
          336.81918,
          330.1725,
          327.2244,
          325.0388,
          323.3801,
          322.81607,
          324.22208,
          328.5159,
          336.19687,
          344.6376,
          350.13565,
          355.72482,
          360.03055,
          363.85052,
          366.61957,
          368.12146,
          368.151,
          366.63696,
          362.04007,
          353.33884,
          341.7994,
          339.1442
         ]
        }
       ],
       "layout": {
        "autosize": true,
        "legend": {
         "title": {
          "text": "Models"
         }
        },
        "template": {
         "data": {
          "bar": [
           {
            "error_x": {
             "color": "#2a3f5f"
            },
            "error_y": {
             "color": "#2a3f5f"
            },
            "marker": {
             "line": {
              "color": "white",
              "width": 0.5
             },
             "pattern": {
              "fillmode": "overlay",
              "size": 10,
              "solidity": 0.2
             }
            },
            "type": "bar"
           }
          ],
          "barpolar": [
           {
            "marker": {
             "line": {
              "color": "white",
              "width": 0.5
             },
             "pattern": {
              "fillmode": "overlay",
              "size": 10,
              "solidity": 0.2
             }
            },
            "type": "barpolar"
           }
          ],
          "carpet": [
           {
            "aaxis": {
             "endlinecolor": "#2a3f5f",
             "gridcolor": "#C8D4E3",
             "linecolor": "#C8D4E3",
             "minorgridcolor": "#C8D4E3",
             "startlinecolor": "#2a3f5f"
            },
            "baxis": {
             "endlinecolor": "#2a3f5f",
             "gridcolor": "#C8D4E3",
             "linecolor": "#C8D4E3",
             "minorgridcolor": "#C8D4E3",
             "startlinecolor": "#2a3f5f"
            },
            "type": "carpet"
           }
          ],
          "choropleth": [
           {
            "colorbar": {
             "outlinewidth": 0,
             "ticks": ""
            },
            "type": "choropleth"
           }
          ],
          "contour": [
           {
            "colorbar": {
             "outlinewidth": 0,
             "ticks": ""
            },
            "colorscale": [
             [
              0,
              "#0d0887"
             ],
             [
              0.1111111111111111,
              "#46039f"
             ],
             [
              0.2222222222222222,
              "#7201a8"
             ],
             [
              0.3333333333333333,
              "#9c179e"
             ],
             [
              0.4444444444444444,
              "#bd3786"
             ],
             [
              0.5555555555555556,
              "#d8576b"
             ],
             [
              0.6666666666666666,
              "#ed7953"
             ],
             [
              0.7777777777777778,
              "#fb9f3a"
             ],
             [
              0.8888888888888888,
              "#fdca26"
             ],
             [
              1,
              "#f0f921"
             ]
            ],
            "type": "contour"
           }
          ],
          "contourcarpet": [
           {
            "colorbar": {
             "outlinewidth": 0,
             "ticks": ""
            },
            "type": "contourcarpet"
           }
          ],
          "heatmap": [
           {
            "colorbar": {
             "outlinewidth": 0,
             "ticks": ""
            },
            "colorscale": [
             [
              0,
              "#0d0887"
             ],
             [
              0.1111111111111111,
              "#46039f"
             ],
             [
              0.2222222222222222,
              "#7201a8"
             ],
             [
              0.3333333333333333,
              "#9c179e"
             ],
             [
              0.4444444444444444,
              "#bd3786"
             ],
             [
              0.5555555555555556,
              "#d8576b"
             ],
             [
              0.6666666666666666,
              "#ed7953"
             ],
             [
              0.7777777777777778,
              "#fb9f3a"
             ],
             [
              0.8888888888888888,
              "#fdca26"
             ],
             [
              1,
              "#f0f921"
             ]
            ],
            "type": "heatmap"
           }
          ],
          "heatmapgl": [
           {
            "colorbar": {
             "outlinewidth": 0,
             "ticks": ""
            },
            "colorscale": [
             [
              0,
              "#0d0887"
             ],
             [
              0.1111111111111111,
              "#46039f"
             ],
             [
              0.2222222222222222,
              "#7201a8"
             ],
             [
              0.3333333333333333,
              "#9c179e"
             ],
             [
              0.4444444444444444,
              "#bd3786"
             ],
             [
              0.5555555555555556,
              "#d8576b"
             ],
             [
              0.6666666666666666,
              "#ed7953"
             ],
             [
              0.7777777777777778,
              "#fb9f3a"
             ],
             [
              0.8888888888888888,
              "#fdca26"
             ],
             [
              1,
              "#f0f921"
             ]
            ],
            "type": "heatmapgl"
           }
          ],
          "histogram": [
           {
            "marker": {
             "pattern": {
              "fillmode": "overlay",
              "size": 10,
              "solidity": 0.2
             }
            },
            "type": "histogram"
           }
          ],
          "histogram2d": [
           {
            "colorbar": {
             "outlinewidth": 0,
             "ticks": ""
            },
            "colorscale": [
             [
              0,
              "#0d0887"
             ],
             [
              0.1111111111111111,
              "#46039f"
             ],
             [
              0.2222222222222222,
              "#7201a8"
             ],
             [
              0.3333333333333333,
              "#9c179e"
             ],
             [
              0.4444444444444444,
              "#bd3786"
             ],
             [
              0.5555555555555556,
              "#d8576b"
             ],
             [
              0.6666666666666666,
              "#ed7953"
             ],
             [
              0.7777777777777778,
              "#fb9f3a"
             ],
             [
              0.8888888888888888,
              "#fdca26"
             ],
             [
              1,
              "#f0f921"
             ]
            ],
            "type": "histogram2d"
           }
          ],
          "histogram2dcontour": [
           {
            "colorbar": {
             "outlinewidth": 0,
             "ticks": ""
            },
            "colorscale": [
             [
              0,
              "#0d0887"
             ],
             [
              0.1111111111111111,
              "#46039f"
             ],
             [
              0.2222222222222222,
              "#7201a8"
             ],
             [
              0.3333333333333333,
              "#9c179e"
             ],
             [
              0.4444444444444444,
              "#bd3786"
             ],
             [
              0.5555555555555556,
              "#d8576b"
             ],
             [
              0.6666666666666666,
              "#ed7953"
             ],
             [
              0.7777777777777778,
              "#fb9f3a"
             ],
             [
              0.8888888888888888,
              "#fdca26"
             ],
             [
              1,
              "#f0f921"
             ]
            ],
            "type": "histogram2dcontour"
           }
          ],
          "mesh3d": [
           {
            "colorbar": {
             "outlinewidth": 0,
             "ticks": ""
            },
            "type": "mesh3d"
           }
          ],
          "parcoords": [
           {
            "line": {
             "colorbar": {
              "outlinewidth": 0,
              "ticks": ""
             }
            },
            "type": "parcoords"
           }
          ],
          "pie": [
           {
            "automargin": true,
            "type": "pie"
           }
          ],
          "scatter": [
           {
            "fillpattern": {
             "fillmode": "overlay",
             "size": 10,
             "solidity": 0.2
            },
            "type": "scatter"
           }
          ],
          "scatter3d": [
           {
            "line": {
             "colorbar": {
              "outlinewidth": 0,
              "ticks": ""
             }
            },
            "marker": {
             "colorbar": {
              "outlinewidth": 0,
              "ticks": ""
             }
            },
            "type": "scatter3d"
           }
          ],
          "scattercarpet": [
           {
            "marker": {
             "colorbar": {
              "outlinewidth": 0,
              "ticks": ""
             }
            },
            "type": "scattercarpet"
           }
          ],
          "scattergeo": [
           {
            "marker": {
             "colorbar": {
              "outlinewidth": 0,
              "ticks": ""
             }
            },
            "type": "scattergeo"
           }
          ],
          "scattergl": [
           {
            "marker": {
             "colorbar": {
              "outlinewidth": 0,
              "ticks": ""
             }
            },
            "type": "scattergl"
           }
          ],
          "scattermapbox": [
           {
            "marker": {
             "colorbar": {
              "outlinewidth": 0,
              "ticks": ""
             }
            },
            "type": "scattermapbox"
           }
          ],
          "scatterpolar": [
           {
            "marker": {
             "colorbar": {
              "outlinewidth": 0,
              "ticks": ""
             }
            },
            "type": "scatterpolar"
           }
          ],
          "scatterpolargl": [
           {
            "marker": {
             "colorbar": {
              "outlinewidth": 0,
              "ticks": ""
             }
            },
            "type": "scatterpolargl"
           }
          ],
          "scatterternary": [
           {
            "marker": {
             "colorbar": {
              "outlinewidth": 0,
              "ticks": ""
             }
            },
            "type": "scatterternary"
           }
          ],
          "surface": [
           {
            "colorbar": {
             "outlinewidth": 0,
             "ticks": ""
            },
            "colorscale": [
             [
              0,
              "#0d0887"
             ],
             [
              0.1111111111111111,
              "#46039f"
             ],
             [
              0.2222222222222222,
              "#7201a8"
             ],
             [
              0.3333333333333333,
              "#9c179e"
             ],
             [
              0.4444444444444444,
              "#bd3786"
             ],
             [
              0.5555555555555556,
              "#d8576b"
             ],
             [
              0.6666666666666666,
              "#ed7953"
             ],
             [
              0.7777777777777778,
              "#fb9f3a"
             ],
             [
              0.8888888888888888,
              "#fdca26"
             ],
             [
              1,
              "#f0f921"
             ]
            ],
            "type": "surface"
           }
          ],
          "table": [
           {
            "cells": {
             "fill": {
              "color": "#EBF0F8"
             },
             "line": {
              "color": "white"
             }
            },
            "header": {
             "fill": {
              "color": "#C8D4E3"
             },
             "line": {
              "color": "white"
             }
            },
            "type": "table"
           }
          ]
         },
         "layout": {
          "annotationdefaults": {
           "arrowcolor": "#2a3f5f",
           "arrowhead": 0,
           "arrowwidth": 1
          },
          "autotypenumbers": "strict",
          "coloraxis": {
           "colorbar": {
            "outlinewidth": 0,
            "ticks": ""
           }
          },
          "colorscale": {
           "diverging": [
            [
             0,
             "#8e0152"
            ],
            [
             0.1,
             "#c51b7d"
            ],
            [
             0.2,
             "#de77ae"
            ],
            [
             0.3,
             "#f1b6da"
            ],
            [
             0.4,
             "#fde0ef"
            ],
            [
             0.5,
             "#f7f7f7"
            ],
            [
             0.6,
             "#e6f5d0"
            ],
            [
             0.7,
             "#b8e186"
            ],
            [
             0.8,
             "#7fbc41"
            ],
            [
             0.9,
             "#4d9221"
            ],
            [
             1,
             "#276419"
            ]
           ],
           "sequential": [
            [
             0,
             "#0d0887"
            ],
            [
             0.1111111111111111,
             "#46039f"
            ],
            [
             0.2222222222222222,
             "#7201a8"
            ],
            [
             0.3333333333333333,
             "#9c179e"
            ],
            [
             0.4444444444444444,
             "#bd3786"
            ],
            [
             0.5555555555555556,
             "#d8576b"
            ],
            [
             0.6666666666666666,
             "#ed7953"
            ],
            [
             0.7777777777777778,
             "#fb9f3a"
            ],
            [
             0.8888888888888888,
             "#fdca26"
            ],
            [
             1,
             "#f0f921"
            ]
           ],
           "sequentialminus": [
            [
             0,
             "#0d0887"
            ],
            [
             0.1111111111111111,
             "#46039f"
            ],
            [
             0.2222222222222222,
             "#7201a8"
            ],
            [
             0.3333333333333333,
             "#9c179e"
            ],
            [
             0.4444444444444444,
             "#bd3786"
            ],
            [
             0.5555555555555556,
             "#d8576b"
            ],
            [
             0.6666666666666666,
             "#ed7953"
            ],
            [
             0.7777777777777778,
             "#fb9f3a"
            ],
            [
             0.8888888888888888,
             "#fdca26"
            ],
            [
             1,
             "#f0f921"
            ]
           ]
          },
          "colorway": [
           "#636efa",
           "#EF553B",
           "#00cc96",
           "#ab63fa",
           "#FFA15A",
           "#19d3f3",
           "#FF6692",
           "#B6E880",
           "#FF97FF",
           "#FECB52"
          ],
          "font": {
           "color": "#2a3f5f"
          },
          "geo": {
           "bgcolor": "white",
           "lakecolor": "white",
           "landcolor": "white",
           "showlakes": true,
           "showland": true,
           "subunitcolor": "#C8D4E3"
          },
          "hoverlabel": {
           "align": "left"
          },
          "hovermode": "closest",
          "mapbox": {
           "style": "light"
          },
          "paper_bgcolor": "white",
          "plot_bgcolor": "white",
          "polar": {
           "angularaxis": {
            "gridcolor": "#EBF0F8",
            "linecolor": "#EBF0F8",
            "ticks": ""
           },
           "bgcolor": "white",
           "radialaxis": {
            "gridcolor": "#EBF0F8",
            "linecolor": "#EBF0F8",
            "ticks": ""
           }
          },
          "scene": {
           "xaxis": {
            "backgroundcolor": "white",
            "gridcolor": "#DFE8F3",
            "gridwidth": 2,
            "linecolor": "#EBF0F8",
            "showbackground": true,
            "ticks": "",
            "zerolinecolor": "#EBF0F8"
           },
           "yaxis": {
            "backgroundcolor": "white",
            "gridcolor": "#DFE8F3",
            "gridwidth": 2,
            "linecolor": "#EBF0F8",
            "showbackground": true,
            "ticks": "",
            "zerolinecolor": "#EBF0F8"
           },
           "zaxis": {
            "backgroundcolor": "white",
            "gridcolor": "#DFE8F3",
            "gridwidth": 2,
            "linecolor": "#EBF0F8",
            "showbackground": true,
            "ticks": "",
            "zerolinecolor": "#EBF0F8"
           }
          },
          "shapedefaults": {
           "line": {
            "color": "#2a3f5f"
           }
          },
          "ternary": {
           "aaxis": {
            "gridcolor": "#DFE8F3",
            "linecolor": "#A2B1C6",
            "ticks": ""
           },
           "baxis": {
            "gridcolor": "#DFE8F3",
            "linecolor": "#A2B1C6",
            "ticks": ""
           },
           "bgcolor": "white",
           "caxis": {
            "gridcolor": "#DFE8F3",
            "linecolor": "#A2B1C6",
            "ticks": ""
           }
          },
          "title": {
           "x": 0.05
          },
          "xaxis": {
           "automargin": true,
           "gridcolor": "#EBF0F8",
           "linecolor": "#EBF0F8",
           "ticks": "",
           "title": {
            "standoff": 15
           },
           "zerolinecolor": "#EBF0F8",
           "zerolinewidth": 2
          },
          "yaxis": {
           "automargin": true,
           "gridcolor": "#EBF0F8",
           "linecolor": "#EBF0F8",
           "ticks": "",
           "title": {
            "standoff": 15
           },
           "zerolinecolor": "#EBF0F8",
           "zerolinewidth": 2
          }
         }
        },
        "title": {
         "text": "Fall - Top 4 Models by SMAPE (Residence 2)",
         "x": 0.5
        },
        "xaxis": {
         "autorange": true,
         "range": [
          0,
          99
         ],
         "title": {
          "text": "Observations"
         },
         "type": "linear"
        },
        "yaxis": {
         "autorange": true,
         "range": [
          314.76363555555554,
          384.48612444444444
         ],
         "title": {
          "text": "Values"
         },
         "type": "linear"
        }
       }
      },
      "text/html": [
       "<div>                            <div id=\"15ee3cd5-65dd-4edf-af2d-00fc0f5f32c6\" class=\"plotly-graph-div\" style=\"height:400px; width:100%;\"></div>            <script type=\"text/javascript\">                require([\"plotly\"], function(Plotly) {                    window.PLOTLYENV=window.PLOTLYENV || {};                                    if (document.getElementById(\"15ee3cd5-65dd-4edf-af2d-00fc0f5f32c6\")) {                    Plotly.newPlot(                        \"15ee3cd5-65dd-4edf-af2d-00fc0f5f32c6\",                        [{\"mode\":\"lines\",\"name\":\"Actual\",\"x\":[0,1,2,3,4,5,6,7,8,9,10,11,12,13,14,15,16,17,18,19,20,21,22,23,24,25,26,27,28,29,30,31,32,33,34,35,36,37,38,39,40,41,42,43,44,45,46,47,48,49,50,51,52,53,54,55,56,57,58,59,60,61,62,63,64,65,66,67,68,69,70,71,72,73,74,75,76,77,78,79,80,81,82,83,84,85,86,87,88,89,90,91,92,93,94,95,96,97,98,99],\"y\":[380.04,381.0,380.04,376.68,375.24,363.0,357.48,344.64,342.48,319.92,336.36,328.56,329.16,330.0,328.8,329.28,338.4,343.68,353.88,360.0,355.8,358.32,369.0,367.32,381.0,380.04,376.68,375.24,363.0,357.48,344.64,342.48,319.92,336.36,328.56,329.16,330.0,328.8,329.28,338.4,343.68,353.88,360.0,355.8,358.32,369.0,367.32,378.6,380.04,376.68,375.24,363.0,357.48,344.64,342.48,319.92,336.36,328.56,329.16,330.0,328.8,329.28,338.4,343.68,353.88,360.0,355.8,358.32,369.0,367.32,378.6,378.12,376.68,375.24,363.0,357.48,344.64,342.48,319.92,336.36,328.56,329.16,330.0,328.8,329.28,338.4,343.68,353.88,360.0,355.8,358.32,369.0,367.32,378.6,378.12,331.08,375.24,363.0,357.48,344.64],\"type\":\"scatter\"},{\"mode\":\"lines\",\"name\":\"HyperNetLSTMRBF\",\"x\":[0,1,2,3,4,5,6,7,8,9,10,11,12,13,14,15,16,17,18,19,20,21,22,23,24,25,26,27,28,29,30,31,32,33,34,35,36,37,38,39,40,41,42,43,44,45,46,47,48,49,50,51,52,53,54,55,56,57,58,59,60,61,62,63,64,65,66,67,68,69,70,71,72,73,74,75,76,77,78,79,80,81,82,83,84,85,86,87,88,89,90,91,92,93,94,95,96,97,98,99],\"y\":[369.8743,374.96484,370.21875,365.44696,362.83835,357.6702,349.97043,341.40112,335.66895,332.16852,329.13232,328.39307,326.96814,326.58383,326.34406,327.61224,330.67194,336.16345,343.22888,350.85303,358.6782,364.4591,368.00287,370.51575,370.67783,372.78052,367.7537,362.47693,355.75168,350.15634,342.1946,335.79376,331.92865,328.93707,328.00198,326.6673,326.15994,326.19077,327.34308,330.2862,336.0316,343.03726,350.3318,357.83197,363.81052,367.51245,370.29648,371.9063,371.31787,368.56186,363.89374,357.8927,349.56946,343.6171,337.20898,332.73236,328.4821,327.08307,325.73727,325.23834,325.7446,327.26965,330.50696,336.0739,342.79004,349.723,356.92987,362.84363,366.5159,369.30478,371.00644,371.35974,370.42487,362.25153,357.4593,350.81677,342.8755,337.00452,333.97458,329.55835,326.1709,324.93884,324.43454,324.55692,325.9571,329.30554,335.53888,342.52496,349.33063,356.23938,361.88345,365.4343,368.31546,369.91153,370.13144,369.50858,371.50327,357.2996,352.44232,344.04587],\"type\":\"scatter\"},{\"mode\":\"lines\",\"name\":\"LSTM\",\"x\":[0,1,2,3,4,5,6,7,8,9,10,11,12,13,14,15,16,17,18,19,20,21,22,23,24,25,26,27,28,29,30,31,32,33,34,35,36,37,38,39,40,41,42,43,44,45,46,47,48,49,50,51,52,53,54,55,56,57,58,59,60,61,62,63,64,65,66,67,68,69,70,71,72,73,74,75,76,77,78,79,80,81,82,83,84,85,86,87,88,89,90,91,92,93,94,95,96,97,98,99],\"y\":[360.69955,364.86096,362.80844,358.3088,353.066,347.21146,342.0042,338.29044,336.83588,336.64294,329.5007,329.40472,328.31213,326.12094,325.2433,326.6463,330.50638,337.24338,344.1763,350.5023,355.77014,360.67404,365.33203,368.54462,360.9744,364.4688,359.81165,353.80298,347.49106,342.10495,338.34674,336.8826,336.6763,329.42282,329.32904,328.29895,326.1272,325.2444,326.6389,330.4936,337.22913,344.1633,350.49194,355.76273,360.6693,365.32935,368.5435,370.70663,360.85098,362.16855,356.05737,348.82843,342.79575,338.66998,337.00067,336.661,329.3978,329.27945,328.2641,326.1093,325.21738,326.56967,330.3488,336.9686,343.78778,350.0137,355.2002,360.02917,364.61606,367.77985,369.90918,371.2064,359.33624,359.64746,352.03247,344.6223,339.54724,337.37198,336.75284,329.54718,329.3871,328.3074,326.13736,325.22223,326.5088,330.1711,336.61188,343.25168,349.31665,354.3706,359.07852,363.55215,366.63806,368.7151,369.9804,369.87134,359.07404,357.60443,348.89917,341.85107],\"type\":\"scatter\"},{\"mode\":\"lines\",\"name\":\"HyperNetLSTMPoly\",\"x\":[0,1,2,3,4,5,6,7,8,9,10,11,12,13,14,15,16,17,18,19,20,21,22,23,24,25,26,27,28,29,30,31,32,33,34,35,36,37,38,39,40,41,42,43,44,45,46,47,48,49,50,51,52,53,54,55,56,57,58,59,60,61,62,63,64,65,66,67,68,69,70,71,72,73,74,75,76,77,78,79,80,81,82,83,84,85,86,87,88,89,90,91,92,93,94,95,96,97,98,99],\"y\":[368.03864,374.13696,364.90082,370.3948,363.89948,354.29916,350.4415,343.3188,340.41687,337.943,327.51544,322.33926,321.22467,324.0395,331.7135,344.10562,354.05862,360.9037,365.37073,369.82477,370.47424,371.01602,370.58255,370.7078,368.67282,373.15988,365.54956,369.88992,357.69324,351.78,342.968,340.1594,338.31104,329.61542,321.93307,318.24976,321.91855,329.97525,344.77417,353.93698,360.19818,365.02118,369.12668,369.19995,369.54065,370.4881,371.1722,371.26947,368.2644,369.54938,364.63977,364.6827,351.34213,347.43054,339.37515,338.90958,331.95837,323.0501,319.622,324.75925,329.50064,340.80765,351.8827,358.13928,363.3313,367.6518,368.34186,368.61206,369.31625,369.3997,369.44885,368.61444,366.63654,365.06448,360.58255,353.11746,344.47147,342.04303,339.60748,331.44882,323.2104,319.0406,323.13727,329.14624,340.1626,349.4411,355.2847,362.02527,365.94638,367.56702,368.00897,368.55176,368.4805,368.47125,367.74512,366.18555,365.66287,360.1055,353.03787,340.8137],\"type\":\"scatter\"},{\"mode\":\"lines\",\"name\":\"GRU\",\"x\":[0,1,2,3,4,5,6,7,8,9,10,11,12,13,14,15,16,17,18,19,20,21,22,23,24,25,26,27,28,29,30,31,32,33,34,35,36,37,38,39,40,41,42,43,44,45,46,47,48,49,50,51,52,53,54,55,56,57,58,59,60,61,62,63,64,65,66,67,68,69,70,71,72,73,74,75,76,77,78,79,80,81,82,83,84,85,86,87,88,89,90,91,92,93,94,95,96,97,98,99],\"y\":[367.81732,368.67847,367.6468,364.9582,359.81647,350.87836,342.65607,337.66913,338.03906,336.24072,331.8314,328.57098,326.04657,324.1019,323.34174,324.66513,329.00677,336.9561,346.01285,351.8692,357.40646,361.8153,365.54572,368.30792,368.74344,367.9872,365.18622,359.96024,350.94348,342.04993,338.38416,336.5316,336.88712,331.0458,327.9113,325.54413,323.72858,323.06583,324.46686,328.8795,336.8695,345.83112,351.625,357.2764,361.7148,365.53815,368.35025,369.90585,368.1294,365.4356,360.15515,351.1876,341.30222,339.60284,337.67517,335.7699,331.95364,328.6502,326.10156,324.14743,323.37418,324.65878,328.91626,336.72723,345.64606,351.4184,356.85748,361.19553,364.86008,367.57446,369.0918,369.23523,365.48148,360.43283,351.60083,340.9284,339.75543,338.18054,336.81918,330.1725,327.2244,325.0388,323.3801,322.81607,324.22208,328.5159,336.19687,344.6376,350.13565,355.72482,360.03055,363.85052,366.61957,368.12146,368.151,366.63696,362.04007,353.33884,341.7994,339.1442],\"type\":\"scatter\"}],                        {\"template\":{\"data\":{\"barpolar\":[{\"marker\":{\"line\":{\"color\":\"white\",\"width\":0.5},\"pattern\":{\"fillmode\":\"overlay\",\"size\":10,\"solidity\":0.2}},\"type\":\"barpolar\"}],\"bar\":[{\"error_x\":{\"color\":\"#2a3f5f\"},\"error_y\":{\"color\":\"#2a3f5f\"},\"marker\":{\"line\":{\"color\":\"white\",\"width\":0.5},\"pattern\":{\"fillmode\":\"overlay\",\"size\":10,\"solidity\":0.2}},\"type\":\"bar\"}],\"carpet\":[{\"aaxis\":{\"endlinecolor\":\"#2a3f5f\",\"gridcolor\":\"#C8D4E3\",\"linecolor\":\"#C8D4E3\",\"minorgridcolor\":\"#C8D4E3\",\"startlinecolor\":\"#2a3f5f\"},\"baxis\":{\"endlinecolor\":\"#2a3f5f\",\"gridcolor\":\"#C8D4E3\",\"linecolor\":\"#C8D4E3\",\"minorgridcolor\":\"#C8D4E3\",\"startlinecolor\":\"#2a3f5f\"},\"type\":\"carpet\"}],\"choropleth\":[{\"colorbar\":{\"outlinewidth\":0,\"ticks\":\"\"},\"type\":\"choropleth\"}],\"contourcarpet\":[{\"colorbar\":{\"outlinewidth\":0,\"ticks\":\"\"},\"type\":\"contourcarpet\"}],\"contour\":[{\"colorbar\":{\"outlinewidth\":0,\"ticks\":\"\"},\"colorscale\":[[0.0,\"#0d0887\"],[0.1111111111111111,\"#46039f\"],[0.2222222222222222,\"#7201a8\"],[0.3333333333333333,\"#9c179e\"],[0.4444444444444444,\"#bd3786\"],[0.5555555555555556,\"#d8576b\"],[0.6666666666666666,\"#ed7953\"],[0.7777777777777778,\"#fb9f3a\"],[0.8888888888888888,\"#fdca26\"],[1.0,\"#f0f921\"]],\"type\":\"contour\"}],\"heatmapgl\":[{\"colorbar\":{\"outlinewidth\":0,\"ticks\":\"\"},\"colorscale\":[[0.0,\"#0d0887\"],[0.1111111111111111,\"#46039f\"],[0.2222222222222222,\"#7201a8\"],[0.3333333333333333,\"#9c179e\"],[0.4444444444444444,\"#bd3786\"],[0.5555555555555556,\"#d8576b\"],[0.6666666666666666,\"#ed7953\"],[0.7777777777777778,\"#fb9f3a\"],[0.8888888888888888,\"#fdca26\"],[1.0,\"#f0f921\"]],\"type\":\"heatmapgl\"}],\"heatmap\":[{\"colorbar\":{\"outlinewidth\":0,\"ticks\":\"\"},\"colorscale\":[[0.0,\"#0d0887\"],[0.1111111111111111,\"#46039f\"],[0.2222222222222222,\"#7201a8\"],[0.3333333333333333,\"#9c179e\"],[0.4444444444444444,\"#bd3786\"],[0.5555555555555556,\"#d8576b\"],[0.6666666666666666,\"#ed7953\"],[0.7777777777777778,\"#fb9f3a\"],[0.8888888888888888,\"#fdca26\"],[1.0,\"#f0f921\"]],\"type\":\"heatmap\"}],\"histogram2dcontour\":[{\"colorbar\":{\"outlinewidth\":0,\"ticks\":\"\"},\"colorscale\":[[0.0,\"#0d0887\"],[0.1111111111111111,\"#46039f\"],[0.2222222222222222,\"#7201a8\"],[0.3333333333333333,\"#9c179e\"],[0.4444444444444444,\"#bd3786\"],[0.5555555555555556,\"#d8576b\"],[0.6666666666666666,\"#ed7953\"],[0.7777777777777778,\"#fb9f3a\"],[0.8888888888888888,\"#fdca26\"],[1.0,\"#f0f921\"]],\"type\":\"histogram2dcontour\"}],\"histogram2d\":[{\"colorbar\":{\"outlinewidth\":0,\"ticks\":\"\"},\"colorscale\":[[0.0,\"#0d0887\"],[0.1111111111111111,\"#46039f\"],[0.2222222222222222,\"#7201a8\"],[0.3333333333333333,\"#9c179e\"],[0.4444444444444444,\"#bd3786\"],[0.5555555555555556,\"#d8576b\"],[0.6666666666666666,\"#ed7953\"],[0.7777777777777778,\"#fb9f3a\"],[0.8888888888888888,\"#fdca26\"],[1.0,\"#f0f921\"]],\"type\":\"histogram2d\"}],\"histogram\":[{\"marker\":{\"pattern\":{\"fillmode\":\"overlay\",\"size\":10,\"solidity\":0.2}},\"type\":\"histogram\"}],\"mesh3d\":[{\"colorbar\":{\"outlinewidth\":0,\"ticks\":\"\"},\"type\":\"mesh3d\"}],\"parcoords\":[{\"line\":{\"colorbar\":{\"outlinewidth\":0,\"ticks\":\"\"}},\"type\":\"parcoords\"}],\"pie\":[{\"automargin\":true,\"type\":\"pie\"}],\"scatter3d\":[{\"line\":{\"colorbar\":{\"outlinewidth\":0,\"ticks\":\"\"}},\"marker\":{\"colorbar\":{\"outlinewidth\":0,\"ticks\":\"\"}},\"type\":\"scatter3d\"}],\"scattercarpet\":[{\"marker\":{\"colorbar\":{\"outlinewidth\":0,\"ticks\":\"\"}},\"type\":\"scattercarpet\"}],\"scattergeo\":[{\"marker\":{\"colorbar\":{\"outlinewidth\":0,\"ticks\":\"\"}},\"type\":\"scattergeo\"}],\"scattergl\":[{\"marker\":{\"colorbar\":{\"outlinewidth\":0,\"ticks\":\"\"}},\"type\":\"scattergl\"}],\"scattermapbox\":[{\"marker\":{\"colorbar\":{\"outlinewidth\":0,\"ticks\":\"\"}},\"type\":\"scattermapbox\"}],\"scatterpolargl\":[{\"marker\":{\"colorbar\":{\"outlinewidth\":0,\"ticks\":\"\"}},\"type\":\"scatterpolargl\"}],\"scatterpolar\":[{\"marker\":{\"colorbar\":{\"outlinewidth\":0,\"ticks\":\"\"}},\"type\":\"scatterpolar\"}],\"scatter\":[{\"fillpattern\":{\"fillmode\":\"overlay\",\"size\":10,\"solidity\":0.2},\"type\":\"scatter\"}],\"scatterternary\":[{\"marker\":{\"colorbar\":{\"outlinewidth\":0,\"ticks\":\"\"}},\"type\":\"scatterternary\"}],\"surface\":[{\"colorbar\":{\"outlinewidth\":0,\"ticks\":\"\"},\"colorscale\":[[0.0,\"#0d0887\"],[0.1111111111111111,\"#46039f\"],[0.2222222222222222,\"#7201a8\"],[0.3333333333333333,\"#9c179e\"],[0.4444444444444444,\"#bd3786\"],[0.5555555555555556,\"#d8576b\"],[0.6666666666666666,\"#ed7953\"],[0.7777777777777778,\"#fb9f3a\"],[0.8888888888888888,\"#fdca26\"],[1.0,\"#f0f921\"]],\"type\":\"surface\"}],\"table\":[{\"cells\":{\"fill\":{\"color\":\"#EBF0F8\"},\"line\":{\"color\":\"white\"}},\"header\":{\"fill\":{\"color\":\"#C8D4E3\"},\"line\":{\"color\":\"white\"}},\"type\":\"table\"}]},\"layout\":{\"annotationdefaults\":{\"arrowcolor\":\"#2a3f5f\",\"arrowhead\":0,\"arrowwidth\":1},\"autotypenumbers\":\"strict\",\"coloraxis\":{\"colorbar\":{\"outlinewidth\":0,\"ticks\":\"\"}},\"colorscale\":{\"diverging\":[[0,\"#8e0152\"],[0.1,\"#c51b7d\"],[0.2,\"#de77ae\"],[0.3,\"#f1b6da\"],[0.4,\"#fde0ef\"],[0.5,\"#f7f7f7\"],[0.6,\"#e6f5d0\"],[0.7,\"#b8e186\"],[0.8,\"#7fbc41\"],[0.9,\"#4d9221\"],[1,\"#276419\"]],\"sequential\":[[0.0,\"#0d0887\"],[0.1111111111111111,\"#46039f\"],[0.2222222222222222,\"#7201a8\"],[0.3333333333333333,\"#9c179e\"],[0.4444444444444444,\"#bd3786\"],[0.5555555555555556,\"#d8576b\"],[0.6666666666666666,\"#ed7953\"],[0.7777777777777778,\"#fb9f3a\"],[0.8888888888888888,\"#fdca26\"],[1.0,\"#f0f921\"]],\"sequentialminus\":[[0.0,\"#0d0887\"],[0.1111111111111111,\"#46039f\"],[0.2222222222222222,\"#7201a8\"],[0.3333333333333333,\"#9c179e\"],[0.4444444444444444,\"#bd3786\"],[0.5555555555555556,\"#d8576b\"],[0.6666666666666666,\"#ed7953\"],[0.7777777777777778,\"#fb9f3a\"],[0.8888888888888888,\"#fdca26\"],[1.0,\"#f0f921\"]]},\"colorway\":[\"#636efa\",\"#EF553B\",\"#00cc96\",\"#ab63fa\",\"#FFA15A\",\"#19d3f3\",\"#FF6692\",\"#B6E880\",\"#FF97FF\",\"#FECB52\"],\"font\":{\"color\":\"#2a3f5f\"},\"geo\":{\"bgcolor\":\"white\",\"lakecolor\":\"white\",\"landcolor\":\"white\",\"showlakes\":true,\"showland\":true,\"subunitcolor\":\"#C8D4E3\"},\"hoverlabel\":{\"align\":\"left\"},\"hovermode\":\"closest\",\"mapbox\":{\"style\":\"light\"},\"paper_bgcolor\":\"white\",\"plot_bgcolor\":\"white\",\"polar\":{\"angularaxis\":{\"gridcolor\":\"#EBF0F8\",\"linecolor\":\"#EBF0F8\",\"ticks\":\"\"},\"bgcolor\":\"white\",\"radialaxis\":{\"gridcolor\":\"#EBF0F8\",\"linecolor\":\"#EBF0F8\",\"ticks\":\"\"}},\"scene\":{\"xaxis\":{\"backgroundcolor\":\"white\",\"gridcolor\":\"#DFE8F3\",\"gridwidth\":2,\"linecolor\":\"#EBF0F8\",\"showbackground\":true,\"ticks\":\"\",\"zerolinecolor\":\"#EBF0F8\"},\"yaxis\":{\"backgroundcolor\":\"white\",\"gridcolor\":\"#DFE8F3\",\"gridwidth\":2,\"linecolor\":\"#EBF0F8\",\"showbackground\":true,\"ticks\":\"\",\"zerolinecolor\":\"#EBF0F8\"},\"zaxis\":{\"backgroundcolor\":\"white\",\"gridcolor\":\"#DFE8F3\",\"gridwidth\":2,\"linecolor\":\"#EBF0F8\",\"showbackground\":true,\"ticks\":\"\",\"zerolinecolor\":\"#EBF0F8\"}},\"shapedefaults\":{\"line\":{\"color\":\"#2a3f5f\"}},\"ternary\":{\"aaxis\":{\"gridcolor\":\"#DFE8F3\",\"linecolor\":\"#A2B1C6\",\"ticks\":\"\"},\"baxis\":{\"gridcolor\":\"#DFE8F3\",\"linecolor\":\"#A2B1C6\",\"ticks\":\"\"},\"bgcolor\":\"white\",\"caxis\":{\"gridcolor\":\"#DFE8F3\",\"linecolor\":\"#A2B1C6\",\"ticks\":\"\"}},\"title\":{\"x\":0.05},\"xaxis\":{\"automargin\":true,\"gridcolor\":\"#EBF0F8\",\"linecolor\":\"#EBF0F8\",\"ticks\":\"\",\"title\":{\"standoff\":15},\"zerolinecolor\":\"#EBF0F8\",\"zerolinewidth\":2},\"yaxis\":{\"automargin\":true,\"gridcolor\":\"#EBF0F8\",\"linecolor\":\"#EBF0F8\",\"ticks\":\"\",\"title\":{\"standoff\":15},\"zerolinecolor\":\"#EBF0F8\",\"zerolinewidth\":2}}},\"title\":{\"text\":\"Fall - Top 4 Models by SMAPE (Residence 2)\",\"x\":0.5},\"xaxis\":{\"title\":{\"text\":\"Observations\"}},\"yaxis\":{\"title\":{\"text\":\"Values\"}},\"legend\":{\"title\":{\"text\":\"Models\"}},\"height\":400},                        {\"responsive\": true}                    ).then(function(){\n",
       "                            \n",
       "var gd = document.getElementById('15ee3cd5-65dd-4edf-af2d-00fc0f5f32c6');\n",
       "var x = new MutationObserver(function (mutations, observer) {{\n",
       "        var display = window.getComputedStyle(gd).display;\n",
       "        if (!display || display === 'none') {{\n",
       "            console.log([gd, 'removed!']);\n",
       "            Plotly.purge(gd);\n",
       "            observer.disconnect();\n",
       "        }}\n",
       "}});\n",
       "\n",
       "// Listen for the removal of the full notebook cells\n",
       "var notebookContainer = gd.closest('#notebook-container');\n",
       "if (notebookContainer) {{\n",
       "    x.observe(notebookContainer, {childList: true});\n",
       "}}\n",
       "\n",
       "// Listen for the clearing of the current output cell\n",
       "var outputEl = gd.closest('.output');\n",
       "if (outputEl) {{\n",
       "    x.observe(outputEl, {childList: true});\n",
       "}}\n",
       "\n",
       "                        })                };                });            </script>        </div>"
      ]
     },
     "metadata": {},
     "output_type": "display_data"
    },
    {
     "name": "stderr",
     "output_type": "stream",
     "text": [
      "/tmp/ipykernel_1015045/3967295982.py:58: FutureWarning:\n",
      "\n",
      "this method is deprecated in favour of `Styler.format(precision=..)`\n",
      "\n",
      "/tmp/ipykernel_1015045/3967295982.py:63: FutureWarning:\n",
      "\n",
      "this method is deprecated in favour of `Styler.format(precision=..)`\n",
      "\n"
     ]
    },
    {
     "data": {
      "application/vnd.plotly.v1+json": {
       "config": {
        "plotlyServerURL": "https://plot.ly"
       },
       "data": [
        {
         "mode": "lines",
         "name": "Actual",
         "type": "scatter",
         "x": [
          62680,
          62681,
          62682,
          62683,
          62684,
          62685,
          62686,
          62687,
          62688,
          62689,
          62690,
          62691,
          62692,
          62693,
          62694,
          62695,
          62696,
          62697,
          62698,
          62699,
          62700,
          62701,
          62702,
          62703,
          62704,
          62705,
          62706,
          62707,
          62708,
          62709,
          62710,
          62711,
          62712,
          62713,
          62714,
          62715,
          62716,
          62717,
          62718,
          62719,
          62720,
          62721,
          62722,
          62723,
          62724,
          62725,
          62726,
          62727,
          62728,
          62729,
          62730,
          62731,
          62732,
          62733,
          62734,
          62735,
          62736,
          62737,
          62738,
          62739,
          62740,
          62741,
          62742,
          62743,
          62744,
          62745,
          62746,
          62747,
          62748,
          62749,
          62750,
          62751,
          62752,
          62753,
          62754,
          62755,
          62756,
          62757,
          62758,
          62759,
          62760,
          62761,
          62762,
          62763,
          62764,
          62765,
          62766,
          62767,
          62768,
          62769,
          62770,
          62771,
          62772,
          62773,
          62774,
          62775,
          62776,
          62777,
          62778,
          62779
         ],
         "y": [
          228.9,
          203.85,
          202.8,
          209.55,
          214.95,
          232.8,
          231.6,
          236.55,
          226.8,
          224.25,
          244.95,
          255.45,
          253.05,
          286.2,
          252.45,
          271.65,
          273.15,
          262.95,
          241.35,
          223.65,
          228.15,
          250.5,
          241.8,
          228.9,
          203.85,
          202.8,
          209.55,
          214.95,
          232.8,
          231.6,
          236.55,
          251.4,
          224.25,
          244.95,
          255.45,
          253.05,
          286.2,
          252.45,
          271.65,
          273.15,
          262.95,
          241.35,
          223.65,
          228.15,
          250.5,
          241.8,
          228.9,
          203.85,
          202.8,
          209.55,
          214.95,
          232.8,
          231.6,
          236.55,
          251.4,
          263.25,
          244.95,
          255.45,
          253.05,
          286.2,
          252.45,
          271.65,
          273.15,
          262.95,
          241.35,
          223.65,
          228.15,
          250.5,
          241.8,
          228.9,
          203.85,
          202.8,
          209.55,
          214.95,
          232.8,
          231.6,
          236.55,
          251.4,
          263.25,
          251.85,
          255.45,
          253.05,
          286.2,
          252.45,
          271.65,
          273.15,
          262.95,
          241.35,
          223.65,
          228.15,
          250.5,
          241.8,
          228.9,
          203.85,
          202.8,
          209.55,
          214.95,
          232.8,
          231.6,
          236.55
         ]
        },
        {
         "mode": "lines",
         "name": "HyperNetLSTMPoly",
         "type": "scatter",
         "x": [
          62680,
          62681,
          62682,
          62683,
          62684,
          62685,
          62686,
          62687,
          62688,
          62689,
          62690,
          62691,
          62692,
          62693,
          62694,
          62695,
          62696,
          62697,
          62698,
          62699,
          62700,
          62701,
          62702,
          62703,
          62704,
          62705,
          62706,
          62707,
          62708,
          62709,
          62710,
          62711,
          62712,
          62713,
          62714,
          62715,
          62716,
          62717,
          62718,
          62719,
          62720,
          62721,
          62722,
          62723,
          62724,
          62725,
          62726,
          62727,
          62728,
          62729,
          62730,
          62731,
          62732,
          62733,
          62734,
          62735,
          62736,
          62737,
          62738,
          62739,
          62740,
          62741,
          62742,
          62743,
          62744,
          62745,
          62746,
          62747,
          62748,
          62749,
          62750,
          62751,
          62752,
          62753,
          62754,
          62755,
          62756,
          62757,
          62758,
          62759,
          62760,
          62761,
          62762,
          62763,
          62764,
          62765,
          62766,
          62767,
          62768,
          62769,
          62770,
          62771,
          62772,
          62773,
          62774,
          62775,
          62776,
          62777,
          62778,
          62779
         ],
         "y": [
          227.01906,
          230.82468,
          229.06952,
          229.39882,
          232.12398,
          251.56392,
          254.03125,
          245.94629,
          256.47702,
          270.73236,
          270.29666,
          273.29745,
          274.30563,
          275.2565,
          285.57266,
          283.51282,
          278.89767,
          275.7339,
          263.20752,
          242.98526,
          230.771,
          222.79709,
          225.90556,
          225.52722,
          225.9562,
          222.15584,
          221.45776,
          224.07358,
          245.78351,
          257.07202,
          251.88155,
          244.48593,
          256.63214,
          277.8255,
          275.5271,
          278.092,
          279.0764,
          281.1609,
          283.11227,
          276.30383,
          273.51788,
          260.0165,
          241.78018,
          227.6039,
          221.06374,
          224.26839,
          225.24458,
          227.2248,
          222.49152,
          223.13034,
          226.92902,
          249.6382,
          256.9637,
          250.00107,
          243.49913,
          234.87671,
          254.47577,
          281.70667,
          274.56482,
          279.0774,
          280.72607,
          279.296,
          275.24664,
          270.1078,
          258.88318,
          240.83115,
          226.46991,
          222.0718,
          223.34721,
          224.80135,
          227.8027,
          222.089,
          225.01886,
          230.17746,
          253.71101,
          256.33435,
          246.57655,
          241.18732,
          233.16841,
          231.99048,
          267.10654,
          286.4596,
          281.1942,
          278.17123,
          275.27133,
          272.54828,
          271.3566,
          257.76752,
          244.00845,
          234.0256,
          229.698,
          228.42787,
          225.6503,
          232.80618,
          234.15826,
          235.91539,
          244.91501,
          258.43167,
          250.14934,
          242.16426
         ]
        },
        {
         "mode": "lines",
         "name": "MLP",
         "type": "scatter",
         "x": [
          62680,
          62681,
          62682,
          62683,
          62684,
          62685,
          62686,
          62687,
          62688,
          62689,
          62690,
          62691,
          62692,
          62693,
          62694,
          62695,
          62696,
          62697,
          62698,
          62699,
          62700,
          62701,
          62702,
          62703,
          62704,
          62705,
          62706,
          62707,
          62708,
          62709,
          62710,
          62711,
          62712,
          62713,
          62714,
          62715,
          62716,
          62717,
          62718,
          62719,
          62720,
          62721,
          62722,
          62723,
          62724,
          62725,
          62726,
          62727,
          62728,
          62729,
          62730,
          62731,
          62732,
          62733,
          62734,
          62735,
          62736,
          62737,
          62738,
          62739,
          62740,
          62741,
          62742,
          62743,
          62744,
          62745,
          62746,
          62747,
          62748,
          62749,
          62750,
          62751,
          62752,
          62753,
          62754,
          62755,
          62756,
          62757,
          62758,
          62759,
          62760,
          62761,
          62762,
          62763,
          62764,
          62765,
          62766,
          62767,
          62768,
          62769,
          62770,
          62771,
          62772,
          62773,
          62774,
          62775,
          62776,
          62777,
          62778,
          62779
         ],
         "y": [
          241.80084,
          242.69559,
          242.7801,
          242.7417,
          242.57663,
          242.68573,
          242.95316,
          242.41478,
          241.14401,
          241.16568,
          240.87712,
          241.11588,
          240.65977,
          240.83942,
          240.5473,
          240.34702,
          240.68594,
          240.83221,
          240.76216,
          240.97182,
          241.39676,
          241.09125,
          240.7665,
          240.17804,
          241.80084,
          242.69559,
          242.7801,
          242.7417,
          242.57663,
          242.68573,
          242.95316,
          242.41478,
          241.14401,
          241.16568,
          240.87712,
          241.11588,
          240.65977,
          240.83942,
          240.5473,
          240.34702,
          240.68594,
          240.83221,
          240.76216,
          240.97182,
          241.39676,
          241.09125,
          240.7665,
          240.17804,
          241.80084,
          242.69559,
          242.7801,
          242.7417,
          242.57663,
          242.68573,
          242.95316,
          242.41478,
          241.14401,
          241.16568,
          240.87712,
          241.11588,
          240.65977,
          240.83942,
          240.5473,
          240.34702,
          240.68594,
          240.83221,
          240.76216,
          240.97182,
          241.39676,
          241.09125,
          240.7665,
          240.17804,
          241.80084,
          242.69559,
          242.7801,
          242.7417,
          242.57663,
          242.68573,
          242.95316,
          242.41478,
          241.14401,
          241.16568,
          240.87712,
          241.11588,
          240.65977,
          240.83942,
          240.5473,
          240.34702,
          240.68594,
          240.83221,
          240.76216,
          240.97182,
          241.39676,
          241.09125,
          240.7665,
          240.17804,
          241.80084,
          242.69559,
          242.7801,
          242.7417
         ]
        },
        {
         "mode": "lines",
         "name": "HyperNetLSTMRBF",
         "type": "scatter",
         "x": [
          62680,
          62681,
          62682,
          62683,
          62684,
          62685,
          62686,
          62687,
          62688,
          62689,
          62690,
          62691,
          62692,
          62693,
          62694,
          62695,
          62696,
          62697,
          62698,
          62699,
          62700,
          62701,
          62702,
          62703,
          62704,
          62705,
          62706,
          62707,
          62708,
          62709,
          62710,
          62711,
          62712,
          62713,
          62714,
          62715,
          62716,
          62717,
          62718,
          62719,
          62720,
          62721,
          62722,
          62723,
          62724,
          62725,
          62726,
          62727,
          62728,
          62729,
          62730,
          62731,
          62732,
          62733,
          62734,
          62735,
          62736,
          62737,
          62738,
          62739,
          62740,
          62741,
          62742,
          62743,
          62744,
          62745,
          62746,
          62747,
          62748,
          62749,
          62750,
          62751,
          62752,
          62753,
          62754,
          62755,
          62756,
          62757,
          62758,
          62759,
          62760,
          62761,
          62762,
          62763,
          62764,
          62765,
          62766,
          62767,
          62768,
          62769,
          62770,
          62771,
          62772,
          62773,
          62774,
          62775,
          62776,
          62777,
          62778,
          62779
         ],
         "y": [
          226.395,
          220.71417,
          217.28029,
          216.88873,
          219.83408,
          225.85309,
          233.97978,
          241.70285,
          254.43976,
          266.01657,
          244.88309,
          249.09499,
          254.97345,
          252.21371,
          259.5856,
          259.28506,
          258.04126,
          254.394,
          249.30913,
          246.05502,
          244.39964,
          243.27771,
          239.76651,
          236.22034,
          229.64966,
          223.00197,
          218.80391,
          218.44522,
          222.24437,
          230.07283,
          240.47191,
          250.31244,
          255.50963,
          268.50714,
          249.13306,
          253.65744,
          257.217,
          255.1018,
          261.25095,
          257.50638,
          253.97319,
          248.24384,
          242.69867,
          240.1037,
          239.60959,
          238.91745,
          238.54623,
          235.1118,
          229.28342,
          222.9973,
          219.54753,
          220.5468,
          226.13655,
          235.23491,
          246.21626,
          256.40656,
          254.3469,
          272.97437,
          254.5417,
          255.01846,
          258.96683,
          257.8027,
          258.67902,
          252.385,
          248.56541,
          243.7531,
          239.5946,
          237.17874,
          235.8965,
          236.44394,
          236.70401,
          235.29153,
          231.42642,
          226.21416,
          223.1938,
          224.51678,
          230.02948,
          238.25703,
          248.60364,
          258.68472,
          272.5199,
          288.1476,
          263.6134,
          262.0983,
          263.08057,
          259.50586,
          255.05191,
          246.47679,
          241.97888,
          237.47998,
          233.42114,
          230.78137,
          229.77425,
          230.25935,
          231.19748,
          231.13412,
          227.4277,
          222.68242,
          221.59154,
          225.9769
         ]
        },
        {
         "mode": "lines",
         "name": "LSTM",
         "type": "scatter",
         "x": [
          62680,
          62681,
          62682,
          62683,
          62684,
          62685,
          62686,
          62687,
          62688,
          62689,
          62690,
          62691,
          62692,
          62693,
          62694,
          62695,
          62696,
          62697,
          62698,
          62699,
          62700,
          62701,
          62702,
          62703,
          62704,
          62705,
          62706,
          62707,
          62708,
          62709,
          62710,
          62711,
          62712,
          62713,
          62714,
          62715,
          62716,
          62717,
          62718,
          62719,
          62720,
          62721,
          62722,
          62723,
          62724,
          62725,
          62726,
          62727,
          62728,
          62729,
          62730,
          62731,
          62732,
          62733,
          62734,
          62735,
          62736,
          62737,
          62738,
          62739,
          62740,
          62741,
          62742,
          62743,
          62744,
          62745,
          62746,
          62747,
          62748,
          62749,
          62750,
          62751,
          62752,
          62753,
          62754,
          62755,
          62756,
          62757,
          62758,
          62759,
          62760,
          62761,
          62762,
          62763,
          62764,
          62765,
          62766,
          62767,
          62768,
          62769,
          62770,
          62771,
          62772,
          62773,
          62774,
          62775,
          62776,
          62777,
          62778,
          62779
         ],
         "y": [
          232.6747,
          228.08414,
          229.18477,
          230.8,
          229.62643,
          238.84007,
          243.67365,
          244.88422,
          249.23573,
          254.16386,
          253.35474,
          264.41992,
          272.80838,
          274.64856,
          273.9389,
          266.94315,
          257.0183,
          255.51392,
          247.26381,
          242.81853,
          241.06354,
          241.24878,
          234.90327,
          233.02982,
          228.36842,
          229.41519,
          230.98734,
          229.77818,
          238.96527,
          243.77626,
          244.96759,
          241.43564,
          249.80008,
          253.2651,
          265.5896,
          274.23178,
          276.01715,
          275.19348,
          268.0448,
          257.95786,
          256.33148,
          247.94391,
          243.38298,
          241.53062,
          241.633,
          235.21304,
          233.2845,
          228.5748,
          229.58455,
          231.12656,
          229.89198,
          239.0601,
          243.85458,
          245.0316,
          241.48734,
          233.98172,
          248.69159,
          265.66507,
          275.62747,
          277.62164,
          276.72455,
          269.40234,
          259.1231,
          257.35938,
          248.8086,
          244.10992,
          242.14005,
          242.14037,
          235.62585,
          233.62692,
          228.85425,
          229.81544,
          231.31757,
          230.04892,
          239.1916,
          243.96365,
          245.12106,
          241.55977,
          234.03976,
          230.50491,
          261.7351,
          276.0124,
          279.02255,
          278.21213,
          270.72412,
          260.24963,
          258.36755,
          249.66843,
          244.84837,
          242.77396,
          242.6803,
          236.07278,
          234.00394,
          229.16595,
          230.07639,
          231.53587,
          230.22998,
          239.34485,
          244.09174,
          245.22676
         ]
        }
       ],
       "layout": {
        "autosize": true,
        "legend": {
         "title": {
          "text": "Models"
         }
        },
        "template": {
         "data": {
          "bar": [
           {
            "error_x": {
             "color": "#2a3f5f"
            },
            "error_y": {
             "color": "#2a3f5f"
            },
            "marker": {
             "line": {
              "color": "white",
              "width": 0.5
             },
             "pattern": {
              "fillmode": "overlay",
              "size": 10,
              "solidity": 0.2
             }
            },
            "type": "bar"
           }
          ],
          "barpolar": [
           {
            "marker": {
             "line": {
              "color": "white",
              "width": 0.5
             },
             "pattern": {
              "fillmode": "overlay",
              "size": 10,
              "solidity": 0.2
             }
            },
            "type": "barpolar"
           }
          ],
          "carpet": [
           {
            "aaxis": {
             "endlinecolor": "#2a3f5f",
             "gridcolor": "#C8D4E3",
             "linecolor": "#C8D4E3",
             "minorgridcolor": "#C8D4E3",
             "startlinecolor": "#2a3f5f"
            },
            "baxis": {
             "endlinecolor": "#2a3f5f",
             "gridcolor": "#C8D4E3",
             "linecolor": "#C8D4E3",
             "minorgridcolor": "#C8D4E3",
             "startlinecolor": "#2a3f5f"
            },
            "type": "carpet"
           }
          ],
          "choropleth": [
           {
            "colorbar": {
             "outlinewidth": 0,
             "ticks": ""
            },
            "type": "choropleth"
           }
          ],
          "contour": [
           {
            "colorbar": {
             "outlinewidth": 0,
             "ticks": ""
            },
            "colorscale": [
             [
              0,
              "#0d0887"
             ],
             [
              0.1111111111111111,
              "#46039f"
             ],
             [
              0.2222222222222222,
              "#7201a8"
             ],
             [
              0.3333333333333333,
              "#9c179e"
             ],
             [
              0.4444444444444444,
              "#bd3786"
             ],
             [
              0.5555555555555556,
              "#d8576b"
             ],
             [
              0.6666666666666666,
              "#ed7953"
             ],
             [
              0.7777777777777778,
              "#fb9f3a"
             ],
             [
              0.8888888888888888,
              "#fdca26"
             ],
             [
              1,
              "#f0f921"
             ]
            ],
            "type": "contour"
           }
          ],
          "contourcarpet": [
           {
            "colorbar": {
             "outlinewidth": 0,
             "ticks": ""
            },
            "type": "contourcarpet"
           }
          ],
          "heatmap": [
           {
            "colorbar": {
             "outlinewidth": 0,
             "ticks": ""
            },
            "colorscale": [
             [
              0,
              "#0d0887"
             ],
             [
              0.1111111111111111,
              "#46039f"
             ],
             [
              0.2222222222222222,
              "#7201a8"
             ],
             [
              0.3333333333333333,
              "#9c179e"
             ],
             [
              0.4444444444444444,
              "#bd3786"
             ],
             [
              0.5555555555555556,
              "#d8576b"
             ],
             [
              0.6666666666666666,
              "#ed7953"
             ],
             [
              0.7777777777777778,
              "#fb9f3a"
             ],
             [
              0.8888888888888888,
              "#fdca26"
             ],
             [
              1,
              "#f0f921"
             ]
            ],
            "type": "heatmap"
           }
          ],
          "heatmapgl": [
           {
            "colorbar": {
             "outlinewidth": 0,
             "ticks": ""
            },
            "colorscale": [
             [
              0,
              "#0d0887"
             ],
             [
              0.1111111111111111,
              "#46039f"
             ],
             [
              0.2222222222222222,
              "#7201a8"
             ],
             [
              0.3333333333333333,
              "#9c179e"
             ],
             [
              0.4444444444444444,
              "#bd3786"
             ],
             [
              0.5555555555555556,
              "#d8576b"
             ],
             [
              0.6666666666666666,
              "#ed7953"
             ],
             [
              0.7777777777777778,
              "#fb9f3a"
             ],
             [
              0.8888888888888888,
              "#fdca26"
             ],
             [
              1,
              "#f0f921"
             ]
            ],
            "type": "heatmapgl"
           }
          ],
          "histogram": [
           {
            "marker": {
             "pattern": {
              "fillmode": "overlay",
              "size": 10,
              "solidity": 0.2
             }
            },
            "type": "histogram"
           }
          ],
          "histogram2d": [
           {
            "colorbar": {
             "outlinewidth": 0,
             "ticks": ""
            },
            "colorscale": [
             [
              0,
              "#0d0887"
             ],
             [
              0.1111111111111111,
              "#46039f"
             ],
             [
              0.2222222222222222,
              "#7201a8"
             ],
             [
              0.3333333333333333,
              "#9c179e"
             ],
             [
              0.4444444444444444,
              "#bd3786"
             ],
             [
              0.5555555555555556,
              "#d8576b"
             ],
             [
              0.6666666666666666,
              "#ed7953"
             ],
             [
              0.7777777777777778,
              "#fb9f3a"
             ],
             [
              0.8888888888888888,
              "#fdca26"
             ],
             [
              1,
              "#f0f921"
             ]
            ],
            "type": "histogram2d"
           }
          ],
          "histogram2dcontour": [
           {
            "colorbar": {
             "outlinewidth": 0,
             "ticks": ""
            },
            "colorscale": [
             [
              0,
              "#0d0887"
             ],
             [
              0.1111111111111111,
              "#46039f"
             ],
             [
              0.2222222222222222,
              "#7201a8"
             ],
             [
              0.3333333333333333,
              "#9c179e"
             ],
             [
              0.4444444444444444,
              "#bd3786"
             ],
             [
              0.5555555555555556,
              "#d8576b"
             ],
             [
              0.6666666666666666,
              "#ed7953"
             ],
             [
              0.7777777777777778,
              "#fb9f3a"
             ],
             [
              0.8888888888888888,
              "#fdca26"
             ],
             [
              1,
              "#f0f921"
             ]
            ],
            "type": "histogram2dcontour"
           }
          ],
          "mesh3d": [
           {
            "colorbar": {
             "outlinewidth": 0,
             "ticks": ""
            },
            "type": "mesh3d"
           }
          ],
          "parcoords": [
           {
            "line": {
             "colorbar": {
              "outlinewidth": 0,
              "ticks": ""
             }
            },
            "type": "parcoords"
           }
          ],
          "pie": [
           {
            "automargin": true,
            "type": "pie"
           }
          ],
          "scatter": [
           {
            "fillpattern": {
             "fillmode": "overlay",
             "size": 10,
             "solidity": 0.2
            },
            "type": "scatter"
           }
          ],
          "scatter3d": [
           {
            "line": {
             "colorbar": {
              "outlinewidth": 0,
              "ticks": ""
             }
            },
            "marker": {
             "colorbar": {
              "outlinewidth": 0,
              "ticks": ""
             }
            },
            "type": "scatter3d"
           }
          ],
          "scattercarpet": [
           {
            "marker": {
             "colorbar": {
              "outlinewidth": 0,
              "ticks": ""
             }
            },
            "type": "scattercarpet"
           }
          ],
          "scattergeo": [
           {
            "marker": {
             "colorbar": {
              "outlinewidth": 0,
              "ticks": ""
             }
            },
            "type": "scattergeo"
           }
          ],
          "scattergl": [
           {
            "marker": {
             "colorbar": {
              "outlinewidth": 0,
              "ticks": ""
             }
            },
            "type": "scattergl"
           }
          ],
          "scattermapbox": [
           {
            "marker": {
             "colorbar": {
              "outlinewidth": 0,
              "ticks": ""
             }
            },
            "type": "scattermapbox"
           }
          ],
          "scatterpolar": [
           {
            "marker": {
             "colorbar": {
              "outlinewidth": 0,
              "ticks": ""
             }
            },
            "type": "scatterpolar"
           }
          ],
          "scatterpolargl": [
           {
            "marker": {
             "colorbar": {
              "outlinewidth": 0,
              "ticks": ""
             }
            },
            "type": "scatterpolargl"
           }
          ],
          "scatterternary": [
           {
            "marker": {
             "colorbar": {
              "outlinewidth": 0,
              "ticks": ""
             }
            },
            "type": "scatterternary"
           }
          ],
          "surface": [
           {
            "colorbar": {
             "outlinewidth": 0,
             "ticks": ""
            },
            "colorscale": [
             [
              0,
              "#0d0887"
             ],
             [
              0.1111111111111111,
              "#46039f"
             ],
             [
              0.2222222222222222,
              "#7201a8"
             ],
             [
              0.3333333333333333,
              "#9c179e"
             ],
             [
              0.4444444444444444,
              "#bd3786"
             ],
             [
              0.5555555555555556,
              "#d8576b"
             ],
             [
              0.6666666666666666,
              "#ed7953"
             ],
             [
              0.7777777777777778,
              "#fb9f3a"
             ],
             [
              0.8888888888888888,
              "#fdca26"
             ],
             [
              1,
              "#f0f921"
             ]
            ],
            "type": "surface"
           }
          ],
          "table": [
           {
            "cells": {
             "fill": {
              "color": "#EBF0F8"
             },
             "line": {
              "color": "white"
             }
            },
            "header": {
             "fill": {
              "color": "#C8D4E3"
             },
             "line": {
              "color": "white"
             }
            },
            "type": "table"
           }
          ]
         },
         "layout": {
          "annotationdefaults": {
           "arrowcolor": "#2a3f5f",
           "arrowhead": 0,
           "arrowwidth": 1
          },
          "autotypenumbers": "strict",
          "coloraxis": {
           "colorbar": {
            "outlinewidth": 0,
            "ticks": ""
           }
          },
          "colorscale": {
           "diverging": [
            [
             0,
             "#8e0152"
            ],
            [
             0.1,
             "#c51b7d"
            ],
            [
             0.2,
             "#de77ae"
            ],
            [
             0.3,
             "#f1b6da"
            ],
            [
             0.4,
             "#fde0ef"
            ],
            [
             0.5,
             "#f7f7f7"
            ],
            [
             0.6,
             "#e6f5d0"
            ],
            [
             0.7,
             "#b8e186"
            ],
            [
             0.8,
             "#7fbc41"
            ],
            [
             0.9,
             "#4d9221"
            ],
            [
             1,
             "#276419"
            ]
           ],
           "sequential": [
            [
             0,
             "#0d0887"
            ],
            [
             0.1111111111111111,
             "#46039f"
            ],
            [
             0.2222222222222222,
             "#7201a8"
            ],
            [
             0.3333333333333333,
             "#9c179e"
            ],
            [
             0.4444444444444444,
             "#bd3786"
            ],
            [
             0.5555555555555556,
             "#d8576b"
            ],
            [
             0.6666666666666666,
             "#ed7953"
            ],
            [
             0.7777777777777778,
             "#fb9f3a"
            ],
            [
             0.8888888888888888,
             "#fdca26"
            ],
            [
             1,
             "#f0f921"
            ]
           ],
           "sequentialminus": [
            [
             0,
             "#0d0887"
            ],
            [
             0.1111111111111111,
             "#46039f"
            ],
            [
             0.2222222222222222,
             "#7201a8"
            ],
            [
             0.3333333333333333,
             "#9c179e"
            ],
            [
             0.4444444444444444,
             "#bd3786"
            ],
            [
             0.5555555555555556,
             "#d8576b"
            ],
            [
             0.6666666666666666,
             "#ed7953"
            ],
            [
             0.7777777777777778,
             "#fb9f3a"
            ],
            [
             0.8888888888888888,
             "#fdca26"
            ],
            [
             1,
             "#f0f921"
            ]
           ]
          },
          "colorway": [
           "#636efa",
           "#EF553B",
           "#00cc96",
           "#ab63fa",
           "#FFA15A",
           "#19d3f3",
           "#FF6692",
           "#B6E880",
           "#FF97FF",
           "#FECB52"
          ],
          "font": {
           "color": "#2a3f5f"
          },
          "geo": {
           "bgcolor": "white",
           "lakecolor": "white",
           "landcolor": "white",
           "showlakes": true,
           "showland": true,
           "subunitcolor": "#C8D4E3"
          },
          "hoverlabel": {
           "align": "left"
          },
          "hovermode": "closest",
          "mapbox": {
           "style": "light"
          },
          "paper_bgcolor": "white",
          "plot_bgcolor": "white",
          "polar": {
           "angularaxis": {
            "gridcolor": "#EBF0F8",
            "linecolor": "#EBF0F8",
            "ticks": ""
           },
           "bgcolor": "white",
           "radialaxis": {
            "gridcolor": "#EBF0F8",
            "linecolor": "#EBF0F8",
            "ticks": ""
           }
          },
          "scene": {
           "xaxis": {
            "backgroundcolor": "white",
            "gridcolor": "#DFE8F3",
            "gridwidth": 2,
            "linecolor": "#EBF0F8",
            "showbackground": true,
            "ticks": "",
            "zerolinecolor": "#EBF0F8"
           },
           "yaxis": {
            "backgroundcolor": "white",
            "gridcolor": "#DFE8F3",
            "gridwidth": 2,
            "linecolor": "#EBF0F8",
            "showbackground": true,
            "ticks": "",
            "zerolinecolor": "#EBF0F8"
           },
           "zaxis": {
            "backgroundcolor": "white",
            "gridcolor": "#DFE8F3",
            "gridwidth": 2,
            "linecolor": "#EBF0F8",
            "showbackground": true,
            "ticks": "",
            "zerolinecolor": "#EBF0F8"
           }
          },
          "shapedefaults": {
           "line": {
            "color": "#2a3f5f"
           }
          },
          "ternary": {
           "aaxis": {
            "gridcolor": "#DFE8F3",
            "linecolor": "#A2B1C6",
            "ticks": ""
           },
           "baxis": {
            "gridcolor": "#DFE8F3",
            "linecolor": "#A2B1C6",
            "ticks": ""
           },
           "bgcolor": "white",
           "caxis": {
            "gridcolor": "#DFE8F3",
            "linecolor": "#A2B1C6",
            "ticks": ""
           }
          },
          "title": {
           "x": 0.05
          },
          "xaxis": {
           "automargin": true,
           "gridcolor": "#EBF0F8",
           "linecolor": "#EBF0F8",
           "ticks": "",
           "title": {
            "standoff": 15
           },
           "zerolinecolor": "#EBF0F8",
           "zerolinewidth": 2
          },
          "yaxis": {
           "automargin": true,
           "gridcolor": "#EBF0F8",
           "linecolor": "#EBF0F8",
           "ticks": "",
           "title": {
            "standoff": 15
           },
           "zerolinecolor": "#EBF0F8",
           "zerolinewidth": 2
          }
         }
        },
        "title": {
         "text": "Winter - Top 4 Models by SMAPE (Residence 1)",
         "x": 0.5
        },
        "xaxis": {
         "autorange": true,
         "range": [
          62680,
          62779
         ],
         "title": {
          "text": "Observations"
         },
         "type": "linear"
        },
        "yaxis": {
         "autorange": true,
         "range": [
          198.05846666666667,
          292.88913333333335
         ],
         "title": {
          "text": "Values"
         },
         "type": "linear"
        }
       }
      },
      "text/html": [
       "<div>                            <div id=\"412155b4-cf97-4c9d-bd24-a992a9a1abff\" class=\"plotly-graph-div\" style=\"height:400px; width:100%;\"></div>            <script type=\"text/javascript\">                require([\"plotly\"], function(Plotly) {                    window.PLOTLYENV=window.PLOTLYENV || {};                                    if (document.getElementById(\"412155b4-cf97-4c9d-bd24-a992a9a1abff\")) {                    Plotly.newPlot(                        \"412155b4-cf97-4c9d-bd24-a992a9a1abff\",                        [{\"mode\":\"lines\",\"name\":\"Actual\",\"x\":[62680,62681,62682,62683,62684,62685,62686,62687,62688,62689,62690,62691,62692,62693,62694,62695,62696,62697,62698,62699,62700,62701,62702,62703,62704,62705,62706,62707,62708,62709,62710,62711,62712,62713,62714,62715,62716,62717,62718,62719,62720,62721,62722,62723,62724,62725,62726,62727,62728,62729,62730,62731,62732,62733,62734,62735,62736,62737,62738,62739,62740,62741,62742,62743,62744,62745,62746,62747,62748,62749,62750,62751,62752,62753,62754,62755,62756,62757,62758,62759,62760,62761,62762,62763,62764,62765,62766,62767,62768,62769,62770,62771,62772,62773,62774,62775,62776,62777,62778,62779],\"y\":[228.9,203.85,202.8,209.55,214.95,232.8,231.6,236.55,226.8,224.25,244.95,255.45,253.05,286.2,252.45,271.65,273.15,262.95,241.35,223.65,228.15,250.5,241.8,228.9,203.85,202.8,209.55,214.95,232.8,231.6,236.55,251.4,224.25,244.95,255.45,253.05,286.2,252.45,271.65,273.15,262.95,241.35,223.65,228.15,250.5,241.8,228.9,203.85,202.8,209.55,214.95,232.8,231.6,236.55,251.4,263.25,244.95,255.45,253.05,286.2,252.45,271.65,273.15,262.95,241.35,223.65,228.15,250.5,241.8,228.9,203.85,202.8,209.55,214.95,232.8,231.6,236.55,251.4,263.25,251.85,255.45,253.05,286.2,252.45,271.65,273.15,262.95,241.35,223.65,228.15,250.5,241.8,228.9,203.85,202.8,209.55,214.95,232.8,231.6,236.55],\"type\":\"scatter\"},{\"mode\":\"lines\",\"name\":\"HyperNetLSTMPoly\",\"x\":[62680,62681,62682,62683,62684,62685,62686,62687,62688,62689,62690,62691,62692,62693,62694,62695,62696,62697,62698,62699,62700,62701,62702,62703,62704,62705,62706,62707,62708,62709,62710,62711,62712,62713,62714,62715,62716,62717,62718,62719,62720,62721,62722,62723,62724,62725,62726,62727,62728,62729,62730,62731,62732,62733,62734,62735,62736,62737,62738,62739,62740,62741,62742,62743,62744,62745,62746,62747,62748,62749,62750,62751,62752,62753,62754,62755,62756,62757,62758,62759,62760,62761,62762,62763,62764,62765,62766,62767,62768,62769,62770,62771,62772,62773,62774,62775,62776,62777,62778,62779],\"y\":[227.01906,230.82468,229.06952,229.39882,232.12398,251.56392,254.03125,245.94629,256.47702,270.73236,270.29666,273.29745,274.30563,275.2565,285.57266,283.51282,278.89767,275.7339,263.20752,242.98526,230.771,222.79709,225.90556,225.52722,225.9562,222.15584,221.45776,224.07358,245.78351,257.07202,251.88155,244.48593,256.63214,277.8255,275.5271,278.092,279.0764,281.1609,283.11227,276.30383,273.51788,260.0165,241.78018,227.6039,221.06374,224.26839,225.24458,227.2248,222.49152,223.13034,226.92902,249.6382,256.9637,250.00107,243.49913,234.87671,254.47577,281.70667,274.56482,279.0774,280.72607,279.296,275.24664,270.1078,258.88318,240.83115,226.46991,222.0718,223.34721,224.80135,227.8027,222.089,225.01886,230.17746,253.71101,256.33435,246.57655,241.18732,233.16841,231.99048,267.10654,286.4596,281.1942,278.17123,275.27133,272.54828,271.3566,257.76752,244.00845,234.0256,229.698,228.42787,225.6503,232.80618,234.15826,235.91539,244.91501,258.43167,250.14934,242.16426],\"type\":\"scatter\"},{\"mode\":\"lines\",\"name\":\"MLP\",\"x\":[62680,62681,62682,62683,62684,62685,62686,62687,62688,62689,62690,62691,62692,62693,62694,62695,62696,62697,62698,62699,62700,62701,62702,62703,62704,62705,62706,62707,62708,62709,62710,62711,62712,62713,62714,62715,62716,62717,62718,62719,62720,62721,62722,62723,62724,62725,62726,62727,62728,62729,62730,62731,62732,62733,62734,62735,62736,62737,62738,62739,62740,62741,62742,62743,62744,62745,62746,62747,62748,62749,62750,62751,62752,62753,62754,62755,62756,62757,62758,62759,62760,62761,62762,62763,62764,62765,62766,62767,62768,62769,62770,62771,62772,62773,62774,62775,62776,62777,62778,62779],\"y\":[241.80084,242.69559,242.7801,242.7417,242.57663,242.68573,242.95316,242.41478,241.14401,241.16568,240.87712,241.11588,240.65977,240.83942,240.5473,240.34702,240.68594,240.83221,240.76216,240.97182,241.39676,241.09125,240.7665,240.17804,241.80084,242.69559,242.7801,242.7417,242.57663,242.68573,242.95316,242.41478,241.14401,241.16568,240.87712,241.11588,240.65977,240.83942,240.5473,240.34702,240.68594,240.83221,240.76216,240.97182,241.39676,241.09125,240.7665,240.17804,241.80084,242.69559,242.7801,242.7417,242.57663,242.68573,242.95316,242.41478,241.14401,241.16568,240.87712,241.11588,240.65977,240.83942,240.5473,240.34702,240.68594,240.83221,240.76216,240.97182,241.39676,241.09125,240.7665,240.17804,241.80084,242.69559,242.7801,242.7417,242.57663,242.68573,242.95316,242.41478,241.14401,241.16568,240.87712,241.11588,240.65977,240.83942,240.5473,240.34702,240.68594,240.83221,240.76216,240.97182,241.39676,241.09125,240.7665,240.17804,241.80084,242.69559,242.7801,242.7417],\"type\":\"scatter\"},{\"mode\":\"lines\",\"name\":\"HyperNetLSTMRBF\",\"x\":[62680,62681,62682,62683,62684,62685,62686,62687,62688,62689,62690,62691,62692,62693,62694,62695,62696,62697,62698,62699,62700,62701,62702,62703,62704,62705,62706,62707,62708,62709,62710,62711,62712,62713,62714,62715,62716,62717,62718,62719,62720,62721,62722,62723,62724,62725,62726,62727,62728,62729,62730,62731,62732,62733,62734,62735,62736,62737,62738,62739,62740,62741,62742,62743,62744,62745,62746,62747,62748,62749,62750,62751,62752,62753,62754,62755,62756,62757,62758,62759,62760,62761,62762,62763,62764,62765,62766,62767,62768,62769,62770,62771,62772,62773,62774,62775,62776,62777,62778,62779],\"y\":[226.395,220.71417,217.28029,216.88873,219.83408,225.85309,233.97978,241.70285,254.43976,266.01657,244.88309,249.09499,254.97345,252.21371,259.5856,259.28506,258.04126,254.394,249.30913,246.05502,244.39964,243.27771,239.76651,236.22034,229.64966,223.00197,218.80391,218.44522,222.24437,230.07283,240.47191,250.31244,255.50963,268.50714,249.13306,253.65744,257.217,255.1018,261.25095,257.50638,253.97319,248.24384,242.69867,240.1037,239.60959,238.91745,238.54623,235.1118,229.28342,222.9973,219.54753,220.5468,226.13655,235.23491,246.21626,256.40656,254.3469,272.97437,254.5417,255.01846,258.96683,257.8027,258.67902,252.385,248.56541,243.7531,239.5946,237.17874,235.8965,236.44394,236.70401,235.29153,231.42642,226.21416,223.1938,224.51678,230.02948,238.25703,248.60364,258.68472,272.5199,288.1476,263.6134,262.0983,263.08057,259.50586,255.05191,246.47679,241.97888,237.47998,233.42114,230.78137,229.77425,230.25935,231.19748,231.13412,227.4277,222.68242,221.59154,225.9769],\"type\":\"scatter\"},{\"mode\":\"lines\",\"name\":\"LSTM\",\"x\":[62680,62681,62682,62683,62684,62685,62686,62687,62688,62689,62690,62691,62692,62693,62694,62695,62696,62697,62698,62699,62700,62701,62702,62703,62704,62705,62706,62707,62708,62709,62710,62711,62712,62713,62714,62715,62716,62717,62718,62719,62720,62721,62722,62723,62724,62725,62726,62727,62728,62729,62730,62731,62732,62733,62734,62735,62736,62737,62738,62739,62740,62741,62742,62743,62744,62745,62746,62747,62748,62749,62750,62751,62752,62753,62754,62755,62756,62757,62758,62759,62760,62761,62762,62763,62764,62765,62766,62767,62768,62769,62770,62771,62772,62773,62774,62775,62776,62777,62778,62779],\"y\":[232.6747,228.08414,229.18477,230.8,229.62643,238.84007,243.67365,244.88422,249.23573,254.16386,253.35474,264.41992,272.80838,274.64856,273.9389,266.94315,257.0183,255.51392,247.26381,242.81853,241.06354,241.24878,234.90327,233.02982,228.36842,229.41519,230.98734,229.77818,238.96527,243.77626,244.96759,241.43564,249.80008,253.2651,265.5896,274.23178,276.01715,275.19348,268.0448,257.95786,256.33148,247.94391,243.38298,241.53062,241.633,235.21304,233.2845,228.5748,229.58455,231.12656,229.89198,239.0601,243.85458,245.0316,241.48734,233.98172,248.69159,265.66507,275.62747,277.62164,276.72455,269.40234,259.1231,257.35938,248.8086,244.10992,242.14005,242.14037,235.62585,233.62692,228.85425,229.81544,231.31757,230.04892,239.1916,243.96365,245.12106,241.55977,234.03976,230.50491,261.7351,276.0124,279.02255,278.21213,270.72412,260.24963,258.36755,249.66843,244.84837,242.77396,242.6803,236.07278,234.00394,229.16595,230.07639,231.53587,230.22998,239.34485,244.09174,245.22676],\"type\":\"scatter\"}],                        {\"template\":{\"data\":{\"barpolar\":[{\"marker\":{\"line\":{\"color\":\"white\",\"width\":0.5},\"pattern\":{\"fillmode\":\"overlay\",\"size\":10,\"solidity\":0.2}},\"type\":\"barpolar\"}],\"bar\":[{\"error_x\":{\"color\":\"#2a3f5f\"},\"error_y\":{\"color\":\"#2a3f5f\"},\"marker\":{\"line\":{\"color\":\"white\",\"width\":0.5},\"pattern\":{\"fillmode\":\"overlay\",\"size\":10,\"solidity\":0.2}},\"type\":\"bar\"}],\"carpet\":[{\"aaxis\":{\"endlinecolor\":\"#2a3f5f\",\"gridcolor\":\"#C8D4E3\",\"linecolor\":\"#C8D4E3\",\"minorgridcolor\":\"#C8D4E3\",\"startlinecolor\":\"#2a3f5f\"},\"baxis\":{\"endlinecolor\":\"#2a3f5f\",\"gridcolor\":\"#C8D4E3\",\"linecolor\":\"#C8D4E3\",\"minorgridcolor\":\"#C8D4E3\",\"startlinecolor\":\"#2a3f5f\"},\"type\":\"carpet\"}],\"choropleth\":[{\"colorbar\":{\"outlinewidth\":0,\"ticks\":\"\"},\"type\":\"choropleth\"}],\"contourcarpet\":[{\"colorbar\":{\"outlinewidth\":0,\"ticks\":\"\"},\"type\":\"contourcarpet\"}],\"contour\":[{\"colorbar\":{\"outlinewidth\":0,\"ticks\":\"\"},\"colorscale\":[[0.0,\"#0d0887\"],[0.1111111111111111,\"#46039f\"],[0.2222222222222222,\"#7201a8\"],[0.3333333333333333,\"#9c179e\"],[0.4444444444444444,\"#bd3786\"],[0.5555555555555556,\"#d8576b\"],[0.6666666666666666,\"#ed7953\"],[0.7777777777777778,\"#fb9f3a\"],[0.8888888888888888,\"#fdca26\"],[1.0,\"#f0f921\"]],\"type\":\"contour\"}],\"heatmapgl\":[{\"colorbar\":{\"outlinewidth\":0,\"ticks\":\"\"},\"colorscale\":[[0.0,\"#0d0887\"],[0.1111111111111111,\"#46039f\"],[0.2222222222222222,\"#7201a8\"],[0.3333333333333333,\"#9c179e\"],[0.4444444444444444,\"#bd3786\"],[0.5555555555555556,\"#d8576b\"],[0.6666666666666666,\"#ed7953\"],[0.7777777777777778,\"#fb9f3a\"],[0.8888888888888888,\"#fdca26\"],[1.0,\"#f0f921\"]],\"type\":\"heatmapgl\"}],\"heatmap\":[{\"colorbar\":{\"outlinewidth\":0,\"ticks\":\"\"},\"colorscale\":[[0.0,\"#0d0887\"],[0.1111111111111111,\"#46039f\"],[0.2222222222222222,\"#7201a8\"],[0.3333333333333333,\"#9c179e\"],[0.4444444444444444,\"#bd3786\"],[0.5555555555555556,\"#d8576b\"],[0.6666666666666666,\"#ed7953\"],[0.7777777777777778,\"#fb9f3a\"],[0.8888888888888888,\"#fdca26\"],[1.0,\"#f0f921\"]],\"type\":\"heatmap\"}],\"histogram2dcontour\":[{\"colorbar\":{\"outlinewidth\":0,\"ticks\":\"\"},\"colorscale\":[[0.0,\"#0d0887\"],[0.1111111111111111,\"#46039f\"],[0.2222222222222222,\"#7201a8\"],[0.3333333333333333,\"#9c179e\"],[0.4444444444444444,\"#bd3786\"],[0.5555555555555556,\"#d8576b\"],[0.6666666666666666,\"#ed7953\"],[0.7777777777777778,\"#fb9f3a\"],[0.8888888888888888,\"#fdca26\"],[1.0,\"#f0f921\"]],\"type\":\"histogram2dcontour\"}],\"histogram2d\":[{\"colorbar\":{\"outlinewidth\":0,\"ticks\":\"\"},\"colorscale\":[[0.0,\"#0d0887\"],[0.1111111111111111,\"#46039f\"],[0.2222222222222222,\"#7201a8\"],[0.3333333333333333,\"#9c179e\"],[0.4444444444444444,\"#bd3786\"],[0.5555555555555556,\"#d8576b\"],[0.6666666666666666,\"#ed7953\"],[0.7777777777777778,\"#fb9f3a\"],[0.8888888888888888,\"#fdca26\"],[1.0,\"#f0f921\"]],\"type\":\"histogram2d\"}],\"histogram\":[{\"marker\":{\"pattern\":{\"fillmode\":\"overlay\",\"size\":10,\"solidity\":0.2}},\"type\":\"histogram\"}],\"mesh3d\":[{\"colorbar\":{\"outlinewidth\":0,\"ticks\":\"\"},\"type\":\"mesh3d\"}],\"parcoords\":[{\"line\":{\"colorbar\":{\"outlinewidth\":0,\"ticks\":\"\"}},\"type\":\"parcoords\"}],\"pie\":[{\"automargin\":true,\"type\":\"pie\"}],\"scatter3d\":[{\"line\":{\"colorbar\":{\"outlinewidth\":0,\"ticks\":\"\"}},\"marker\":{\"colorbar\":{\"outlinewidth\":0,\"ticks\":\"\"}},\"type\":\"scatter3d\"}],\"scattercarpet\":[{\"marker\":{\"colorbar\":{\"outlinewidth\":0,\"ticks\":\"\"}},\"type\":\"scattercarpet\"}],\"scattergeo\":[{\"marker\":{\"colorbar\":{\"outlinewidth\":0,\"ticks\":\"\"}},\"type\":\"scattergeo\"}],\"scattergl\":[{\"marker\":{\"colorbar\":{\"outlinewidth\":0,\"ticks\":\"\"}},\"type\":\"scattergl\"}],\"scattermapbox\":[{\"marker\":{\"colorbar\":{\"outlinewidth\":0,\"ticks\":\"\"}},\"type\":\"scattermapbox\"}],\"scatterpolargl\":[{\"marker\":{\"colorbar\":{\"outlinewidth\":0,\"ticks\":\"\"}},\"type\":\"scatterpolargl\"}],\"scatterpolar\":[{\"marker\":{\"colorbar\":{\"outlinewidth\":0,\"ticks\":\"\"}},\"type\":\"scatterpolar\"}],\"scatter\":[{\"fillpattern\":{\"fillmode\":\"overlay\",\"size\":10,\"solidity\":0.2},\"type\":\"scatter\"}],\"scatterternary\":[{\"marker\":{\"colorbar\":{\"outlinewidth\":0,\"ticks\":\"\"}},\"type\":\"scatterternary\"}],\"surface\":[{\"colorbar\":{\"outlinewidth\":0,\"ticks\":\"\"},\"colorscale\":[[0.0,\"#0d0887\"],[0.1111111111111111,\"#46039f\"],[0.2222222222222222,\"#7201a8\"],[0.3333333333333333,\"#9c179e\"],[0.4444444444444444,\"#bd3786\"],[0.5555555555555556,\"#d8576b\"],[0.6666666666666666,\"#ed7953\"],[0.7777777777777778,\"#fb9f3a\"],[0.8888888888888888,\"#fdca26\"],[1.0,\"#f0f921\"]],\"type\":\"surface\"}],\"table\":[{\"cells\":{\"fill\":{\"color\":\"#EBF0F8\"},\"line\":{\"color\":\"white\"}},\"header\":{\"fill\":{\"color\":\"#C8D4E3\"},\"line\":{\"color\":\"white\"}},\"type\":\"table\"}]},\"layout\":{\"annotationdefaults\":{\"arrowcolor\":\"#2a3f5f\",\"arrowhead\":0,\"arrowwidth\":1},\"autotypenumbers\":\"strict\",\"coloraxis\":{\"colorbar\":{\"outlinewidth\":0,\"ticks\":\"\"}},\"colorscale\":{\"diverging\":[[0,\"#8e0152\"],[0.1,\"#c51b7d\"],[0.2,\"#de77ae\"],[0.3,\"#f1b6da\"],[0.4,\"#fde0ef\"],[0.5,\"#f7f7f7\"],[0.6,\"#e6f5d0\"],[0.7,\"#b8e186\"],[0.8,\"#7fbc41\"],[0.9,\"#4d9221\"],[1,\"#276419\"]],\"sequential\":[[0.0,\"#0d0887\"],[0.1111111111111111,\"#46039f\"],[0.2222222222222222,\"#7201a8\"],[0.3333333333333333,\"#9c179e\"],[0.4444444444444444,\"#bd3786\"],[0.5555555555555556,\"#d8576b\"],[0.6666666666666666,\"#ed7953\"],[0.7777777777777778,\"#fb9f3a\"],[0.8888888888888888,\"#fdca26\"],[1.0,\"#f0f921\"]],\"sequentialminus\":[[0.0,\"#0d0887\"],[0.1111111111111111,\"#46039f\"],[0.2222222222222222,\"#7201a8\"],[0.3333333333333333,\"#9c179e\"],[0.4444444444444444,\"#bd3786\"],[0.5555555555555556,\"#d8576b\"],[0.6666666666666666,\"#ed7953\"],[0.7777777777777778,\"#fb9f3a\"],[0.8888888888888888,\"#fdca26\"],[1.0,\"#f0f921\"]]},\"colorway\":[\"#636efa\",\"#EF553B\",\"#00cc96\",\"#ab63fa\",\"#FFA15A\",\"#19d3f3\",\"#FF6692\",\"#B6E880\",\"#FF97FF\",\"#FECB52\"],\"font\":{\"color\":\"#2a3f5f\"},\"geo\":{\"bgcolor\":\"white\",\"lakecolor\":\"white\",\"landcolor\":\"white\",\"showlakes\":true,\"showland\":true,\"subunitcolor\":\"#C8D4E3\"},\"hoverlabel\":{\"align\":\"left\"},\"hovermode\":\"closest\",\"mapbox\":{\"style\":\"light\"},\"paper_bgcolor\":\"white\",\"plot_bgcolor\":\"white\",\"polar\":{\"angularaxis\":{\"gridcolor\":\"#EBF0F8\",\"linecolor\":\"#EBF0F8\",\"ticks\":\"\"},\"bgcolor\":\"white\",\"radialaxis\":{\"gridcolor\":\"#EBF0F8\",\"linecolor\":\"#EBF0F8\",\"ticks\":\"\"}},\"scene\":{\"xaxis\":{\"backgroundcolor\":\"white\",\"gridcolor\":\"#DFE8F3\",\"gridwidth\":2,\"linecolor\":\"#EBF0F8\",\"showbackground\":true,\"ticks\":\"\",\"zerolinecolor\":\"#EBF0F8\"},\"yaxis\":{\"backgroundcolor\":\"white\",\"gridcolor\":\"#DFE8F3\",\"gridwidth\":2,\"linecolor\":\"#EBF0F8\",\"showbackground\":true,\"ticks\":\"\",\"zerolinecolor\":\"#EBF0F8\"},\"zaxis\":{\"backgroundcolor\":\"white\",\"gridcolor\":\"#DFE8F3\",\"gridwidth\":2,\"linecolor\":\"#EBF0F8\",\"showbackground\":true,\"ticks\":\"\",\"zerolinecolor\":\"#EBF0F8\"}},\"shapedefaults\":{\"line\":{\"color\":\"#2a3f5f\"}},\"ternary\":{\"aaxis\":{\"gridcolor\":\"#DFE8F3\",\"linecolor\":\"#A2B1C6\",\"ticks\":\"\"},\"baxis\":{\"gridcolor\":\"#DFE8F3\",\"linecolor\":\"#A2B1C6\",\"ticks\":\"\"},\"bgcolor\":\"white\",\"caxis\":{\"gridcolor\":\"#DFE8F3\",\"linecolor\":\"#A2B1C6\",\"ticks\":\"\"}},\"title\":{\"x\":0.05},\"xaxis\":{\"automargin\":true,\"gridcolor\":\"#EBF0F8\",\"linecolor\":\"#EBF0F8\",\"ticks\":\"\",\"title\":{\"standoff\":15},\"zerolinecolor\":\"#EBF0F8\",\"zerolinewidth\":2},\"yaxis\":{\"automargin\":true,\"gridcolor\":\"#EBF0F8\",\"linecolor\":\"#EBF0F8\",\"ticks\":\"\",\"title\":{\"standoff\":15},\"zerolinecolor\":\"#EBF0F8\",\"zerolinewidth\":2}}},\"title\":{\"text\":\"Winter - Top 4 Models by SMAPE (Residence 1)\",\"x\":0.5},\"xaxis\":{\"title\":{\"text\":\"Observations\"}},\"yaxis\":{\"title\":{\"text\":\"Values\"}},\"legend\":{\"title\":{\"text\":\"Models\"}},\"height\":400},                        {\"responsive\": true}                    ).then(function(){\n",
       "                            \n",
       "var gd = document.getElementById('412155b4-cf97-4c9d-bd24-a992a9a1abff');\n",
       "var x = new MutationObserver(function (mutations, observer) {{\n",
       "        var display = window.getComputedStyle(gd).display;\n",
       "        if (!display || display === 'none') {{\n",
       "            console.log([gd, 'removed!']);\n",
       "            Plotly.purge(gd);\n",
       "            observer.disconnect();\n",
       "        }}\n",
       "}});\n",
       "\n",
       "// Listen for the removal of the full notebook cells\n",
       "var notebookContainer = gd.closest('#notebook-container');\n",
       "if (notebookContainer) {{\n",
       "    x.observe(notebookContainer, {childList: true});\n",
       "}}\n",
       "\n",
       "// Listen for the clearing of the current output cell\n",
       "var outputEl = gd.closest('.output');\n",
       "if (outputEl) {{\n",
       "    x.observe(outputEl, {childList: true});\n",
       "}}\n",
       "\n",
       "                        })                };                });            </script>        </div>"
      ]
     },
     "metadata": {},
     "output_type": "display_data"
    },
    {
     "data": {
      "application/vnd.plotly.v1+json": {
       "config": {
        "plotlyServerURL": "https://plot.ly"
       },
       "data": [
        {
         "mode": "lines",
         "name": "Actual",
         "type": "scatter",
         "x": [
          62680,
          62681,
          62682,
          62683,
          62684,
          62685,
          62686,
          62687,
          62688,
          62689,
          62690,
          62691,
          62692,
          62693,
          62694,
          62695,
          62696,
          62697,
          62698,
          62699,
          62700,
          62701,
          62702,
          62703,
          62704,
          62705,
          62706,
          62707,
          62708,
          62709,
          62710,
          62711,
          62712,
          62713,
          62714,
          62715,
          62716,
          62717,
          62718,
          62719,
          62720,
          62721,
          62722,
          62723,
          62724,
          62725,
          62726,
          62727,
          62728,
          62729,
          62730,
          62731,
          62732,
          62733,
          62734,
          62735,
          62736,
          62737,
          62738,
          62739,
          62740,
          62741,
          62742,
          62743,
          62744,
          62745,
          62746,
          62747,
          62748,
          62749,
          62750,
          62751,
          62752,
          62753,
          62754,
          62755,
          62756,
          62757,
          62758,
          62759,
          62760,
          62761,
          62762,
          62763,
          62764,
          62765,
          62766,
          62767,
          62768,
          62769,
          62770,
          62771,
          62772,
          62773,
          62774,
          62775,
          62776,
          62777,
          62778,
          62779
         ],
         "y": [
          236.16,
          227.4,
          218.76,
          221.64,
          238.32,
          249.12,
          256.56,
          273.96,
          283.8,
          291.12,
          296.04,
          307.32,
          302.4,
          317.28,
          313.92,
          316.32,
          323.04,
          300,
          279.48,
          273.24,
          264.84,
          252.96,
          239.88,
          236.16,
          227.4,
          218.76,
          221.64,
          238.32,
          249.12,
          256.56,
          273.96,
          279.84,
          291.12,
          296.04,
          307.32,
          302.4,
          317.28,
          313.92,
          316.32,
          323.04,
          300,
          279.48,
          273.24,
          264.84,
          252.96,
          239.88,
          236.16,
          227.4,
          218.76,
          221.64,
          238.32,
          249.12,
          256.56,
          273.96,
          279.84,
          293.64,
          296.04,
          307.32,
          302.4,
          317.28,
          313.92,
          316.32,
          323.04,
          300,
          279.48,
          273.24,
          264.84,
          252.96,
          239.88,
          236.16,
          227.4,
          218.76,
          221.64,
          238.32,
          249.12,
          256.56,
          273.96,
          279.84,
          293.64,
          320.88,
          307.32,
          302.4,
          317.28,
          313.92,
          316.32,
          323.04,
          300,
          279.48,
          273.24,
          264.84,
          252.96,
          239.88,
          236.16,
          227.4,
          218.76,
          221.64,
          238.32,
          249.12,
          256.56,
          273.96
         ]
        },
        {
         "mode": "lines",
         "name": "HyperNetLSTMRBF",
         "type": "scatter",
         "x": [
          62680,
          62681,
          62682,
          62683,
          62684,
          62685,
          62686,
          62687,
          62688,
          62689,
          62690,
          62691,
          62692,
          62693,
          62694,
          62695,
          62696,
          62697,
          62698,
          62699,
          62700,
          62701,
          62702,
          62703,
          62704,
          62705,
          62706,
          62707,
          62708,
          62709,
          62710,
          62711,
          62712,
          62713,
          62714,
          62715,
          62716,
          62717,
          62718,
          62719,
          62720,
          62721,
          62722,
          62723,
          62724,
          62725,
          62726,
          62727,
          62728,
          62729,
          62730,
          62731,
          62732,
          62733,
          62734,
          62735,
          62736,
          62737,
          62738,
          62739,
          62740,
          62741,
          62742,
          62743,
          62744,
          62745,
          62746,
          62747,
          62748,
          62749,
          62750,
          62751,
          62752,
          62753,
          62754,
          62755,
          62756,
          62757,
          62758,
          62759,
          62760,
          62761,
          62762,
          62763,
          62764,
          62765,
          62766,
          62767,
          62768,
          62769,
          62770,
          62771,
          62772,
          62773,
          62774,
          62775,
          62776,
          62777,
          62778,
          62779
         ],
         "y": [
          236.49298,
          229.61104,
          222.05515,
          222.29585,
          236.60262,
          252.44666,
          265.63376,
          271.4795,
          282.08603,
          296.81696,
          297.3474,
          297.38217,
          296.27826,
          297.74255,
          297.7095,
          302.42725,
          306.06628,
          304.86682,
          297.45706,
          288.84058,
          276.79083,
          262.31213,
          247.00618,
          238.7919,
          231.46452,
          224.5922,
          222.14696,
          234.19543,
          251.70187,
          265.62012,
          272.67056,
          275.71402,
          283.97952,
          302.5996,
          302.2248,
          300.0645,
          300.7041,
          301.8018,
          300.45895,
          306.74713,
          305.00684,
          298.98157,
          289.08966,
          277.5268,
          263.0637,
          248.21841,
          240.3068,
          233.00514,
          226.32352,
          222.50156,
          230.18506,
          247.1621,
          261.3479,
          270.62015,
          275.31686,
          279.57758,
          285.64093,
          308.4513,
          306.7512,
          304.81006,
          304.52393,
          304.93567,
          304.241,
          306.51462,
          299.56442,
          289.2343,
          276.2122,
          261.52182,
          246.36092,
          239.24283,
          232.45227,
          226.0312,
          222.97316,
          229.79214,
          245.56906,
          258.79544,
          268.10602,
          274.71262,
          280.93268,
          287.2131,
          289.3103,
          313.4194,
          309.608,
          310.0385,
          304.79913,
          306.85513,
          305.55515,
          300.6423,
          289.73785,
          276.37708,
          261.25317,
          245.29382,
          237.54344,
          231.08415,
          224.92868,
          223.04333,
          231.04028,
          246.34851,
          258.67172,
          267.2985
         ]
        },
        {
         "mode": "lines",
         "name": "HyperNetLSTMPoly",
         "type": "scatter",
         "x": [
          62680,
          62681,
          62682,
          62683,
          62684,
          62685,
          62686,
          62687,
          62688,
          62689,
          62690,
          62691,
          62692,
          62693,
          62694,
          62695,
          62696,
          62697,
          62698,
          62699,
          62700,
          62701,
          62702,
          62703,
          62704,
          62705,
          62706,
          62707,
          62708,
          62709,
          62710,
          62711,
          62712,
          62713,
          62714,
          62715,
          62716,
          62717,
          62718,
          62719,
          62720,
          62721,
          62722,
          62723,
          62724,
          62725,
          62726,
          62727,
          62728,
          62729,
          62730,
          62731,
          62732,
          62733,
          62734,
          62735,
          62736,
          62737,
          62738,
          62739,
          62740,
          62741,
          62742,
          62743,
          62744,
          62745,
          62746,
          62747,
          62748,
          62749,
          62750,
          62751,
          62752,
          62753,
          62754,
          62755,
          62756,
          62757,
          62758,
          62759,
          62760,
          62761,
          62762,
          62763,
          62764,
          62765,
          62766,
          62767,
          62768,
          62769,
          62770,
          62771,
          62772,
          62773,
          62774,
          62775,
          62776,
          62777,
          62778,
          62779
         ],
         "y": [
          234.93164,
          229.42883,
          234.12541,
          239.19896,
          248.61426,
          266.31235,
          282.8703,
          286.09506,
          285.7812,
          303.95612,
          317.08942,
          304.20627,
          309.01355,
          304.08188,
          307.58228,
          301.66354,
          305.2093,
          299.2016,
          297.61487,
          282.71075,
          264.6961,
          254.74855,
          249.29327,
          233.70253,
          228.83801,
          231.73918,
          233.53706,
          243.68265,
          263.96634,
          281.2318,
          282.5091,
          277.0053,
          291.18658,
          307.864,
          321.3375,
          308.88727,
          310.23047,
          303.7798,
          303.4614,
          302.52417,
          303.91763,
          296.48505,
          290.55853,
          268.85153,
          253.97116,
          248.71002,
          232.05006,
          228.64682,
          230.34305,
          230.12915,
          241.92213,
          265.58096,
          280.19547,
          281.19928,
          273.74817,
          265.20804,
          296.77304,
          309.0395,
          319.81866,
          310.81815,
          309.6761,
          302.04416,
          305.2858,
          303.3371,
          299.8157,
          291.336,
          277.13788,
          256.4564,
          249.73233,
          231.77429,
          228.4686,
          228.95547,
          227.7546,
          241.37178,
          268.00208,
          279.0427,
          280.0018,
          270.17468,
          262.7256,
          264.0915,
          303.03595,
          312.3712,
          319.76074,
          311.57788,
          310.27618,
          303.7357,
          304.29855,
          294.26996,
          288.45276,
          278.30527,
          258.84488,
          252.06157,
          236.6387,
          232.84473,
          234.32146,
          233.04248,
          247.95157,
          274.16873,
          280.0255,
          276.7539
         ]
        },
        {
         "mode": "lines",
         "name": "ARFFNN",
         "type": "scatter",
         "x": [
          62680,
          62681,
          62682,
          62683,
          62684,
          62685,
          62686,
          62687,
          62688,
          62689,
          62690,
          62691,
          62692,
          62693,
          62694,
          62695,
          62696,
          62697,
          62698,
          62699,
          62700,
          62701,
          62702,
          62703,
          62704,
          62705,
          62706,
          62707,
          62708,
          62709,
          62710,
          62711,
          62712,
          62713,
          62714,
          62715,
          62716,
          62717,
          62718,
          62719,
          62720,
          62721,
          62722,
          62723,
          62724,
          62725,
          62726,
          62727,
          62728,
          62729,
          62730,
          62731,
          62732,
          62733,
          62734,
          62735,
          62736,
          62737,
          62738,
          62739,
          62740,
          62741,
          62742,
          62743,
          62744,
          62745,
          62746,
          62747,
          62748,
          62749,
          62750,
          62751,
          62752,
          62753,
          62754,
          62755,
          62756,
          62757,
          62758,
          62759,
          62760,
          62761,
          62762,
          62763,
          62764,
          62765,
          62766,
          62767,
          62768,
          62769,
          62770,
          62771,
          62772,
          62773,
          62774,
          62775,
          62776,
          62777,
          62778,
          62779
         ],
         "y": [
          242.89801,
          245.2209,
          248.1657,
          251.03201,
          254.61485,
          261.41394,
          267.10077,
          272.93225,
          284.46384,
          290.10327,
          292.79773,
          296.16437,
          297.91998,
          301.81418,
          297.04297,
          294.75574,
          295.56342,
          290.0364,
          283.825,
          280.26505,
          275.203,
          268.62195,
          241.80353,
          242.89801,
          245.2209,
          248.1657,
          251.03201,
          254.61485,
          261.41394,
          267.10077,
          272.93225,
          274.48074,
          290.10327,
          292.79773,
          296.16437,
          297.91998,
          301.81418,
          297.04297,
          294.75574,
          295.56342,
          290.0364,
          283.825,
          280.26505,
          275.203,
          268.62195,
          241.80353,
          242.89801,
          245.2209,
          248.1657,
          251.03201,
          254.61485,
          261.41394,
          267.10077,
          272.93225,
          274.48074,
          280.24594,
          292.79773,
          296.16437,
          297.91998,
          301.81418,
          297.04297,
          294.75574,
          295.56342,
          290.0364,
          283.825,
          280.26505,
          275.203,
          268.62195,
          241.80353,
          242.89801,
          245.2209,
          248.1657,
          251.03201,
          254.61485,
          261.41394,
          267.10077,
          272.93225,
          274.48074,
          280.24594,
          286.0797,
          296.16437,
          297.91998,
          301.81418,
          297.04297,
          294.75574,
          295.56342,
          290.0364,
          283.825,
          280.26505,
          275.203,
          268.62195,
          241.80353,
          242.89801,
          245.2209,
          248.1657,
          251.03201,
          254.61485,
          261.41394,
          267.10077,
          272.93225
         ]
        },
        {
         "mode": "lines",
         "name": "AttentionLSTM",
         "type": "scatter",
         "x": [
          62680,
          62681,
          62682,
          62683,
          62684,
          62685,
          62686,
          62687,
          62688,
          62689,
          62690,
          62691,
          62692,
          62693,
          62694,
          62695,
          62696,
          62697,
          62698,
          62699,
          62700,
          62701,
          62702,
          62703,
          62704,
          62705,
          62706,
          62707,
          62708,
          62709,
          62710,
          62711,
          62712,
          62713,
          62714,
          62715,
          62716,
          62717,
          62718,
          62719,
          62720,
          62721,
          62722,
          62723,
          62724,
          62725,
          62726,
          62727,
          62728,
          62729,
          62730,
          62731,
          62732,
          62733,
          62734,
          62735,
          62736,
          62737,
          62738,
          62739,
          62740,
          62741,
          62742,
          62743,
          62744,
          62745,
          62746,
          62747,
          62748,
          62749,
          62750,
          62751,
          62752,
          62753,
          62754,
          62755,
          62756,
          62757,
          62758,
          62759,
          62760,
          62761,
          62762,
          62763,
          62764,
          62765,
          62766,
          62767,
          62768,
          62769,
          62770,
          62771,
          62772,
          62773,
          62774,
          62775,
          62776,
          62777,
          62778,
          62779
         ],
         "y": [
          216.77554,
          217.61836,
          219.01813,
          221.08382,
          224.42361,
          231.80348,
          245.92274,
          261.74747,
          293.21802,
          288.95425,
          293.24646,
          294.76514,
          295.93057,
          297.0426,
          297.65335,
          297.83847,
          296.7934,
          288.48584,
          272.10675,
          260.63638,
          256.67273,
          258.47595,
          234.91333,
          216.77553,
          217.61838,
          219.01813,
          221.08382,
          224.42361,
          231.80348,
          245.92274,
          261.74747,
          274.69717,
          295.19028,
          292.6999,
          294.82257,
          295.9327,
          297.04468,
          297.65448,
          297.8391,
          296.7937,
          288.48602,
          272.10687,
          260.63647,
          256.67282,
          258.476,
          234.91339,
          216.77553,
          217.6184,
          219.01813,
          221.08382,
          224.42361,
          231.80348,
          245.92274,
          261.74747,
          274.69717,
          284.53195,
          296.3614,
          294.6157,
          295.9591,
          297.04828,
          297.65656,
          297.8401,
          296.79416,
          288.48627,
          272.10703,
          260.6366,
          256.6729,
          258.47607,
          234.91348,
          216.77553,
          217.6184,
          219.01813,
          221.08382,
          224.42361,
          231.80348,
          245.92274,
          261.74747,
          274.69717,
          284.53195,
          290.19705,
          297.32904,
          295.8545,
          297.06424,
          297.6611,
          297.84222,
          296.79504,
          288.48672,
          272.1073,
          260.63678,
          256.67303,
          258.47617,
          234.91364,
          216.77556,
          217.61841,
          219.01813,
          221.08382,
          224.42363,
          231.80348,
          245.92274,
          261.74747
         ]
        }
       ],
       "layout": {
        "autosize": true,
        "legend": {
         "title": {
          "text": "Models"
         }
        },
        "template": {
         "data": {
          "bar": [
           {
            "error_x": {
             "color": "#2a3f5f"
            },
            "error_y": {
             "color": "#2a3f5f"
            },
            "marker": {
             "line": {
              "color": "white",
              "width": 0.5
             },
             "pattern": {
              "fillmode": "overlay",
              "size": 10,
              "solidity": 0.2
             }
            },
            "type": "bar"
           }
          ],
          "barpolar": [
           {
            "marker": {
             "line": {
              "color": "white",
              "width": 0.5
             },
             "pattern": {
              "fillmode": "overlay",
              "size": 10,
              "solidity": 0.2
             }
            },
            "type": "barpolar"
           }
          ],
          "carpet": [
           {
            "aaxis": {
             "endlinecolor": "#2a3f5f",
             "gridcolor": "#C8D4E3",
             "linecolor": "#C8D4E3",
             "minorgridcolor": "#C8D4E3",
             "startlinecolor": "#2a3f5f"
            },
            "baxis": {
             "endlinecolor": "#2a3f5f",
             "gridcolor": "#C8D4E3",
             "linecolor": "#C8D4E3",
             "minorgridcolor": "#C8D4E3",
             "startlinecolor": "#2a3f5f"
            },
            "type": "carpet"
           }
          ],
          "choropleth": [
           {
            "colorbar": {
             "outlinewidth": 0,
             "ticks": ""
            },
            "type": "choropleth"
           }
          ],
          "contour": [
           {
            "colorbar": {
             "outlinewidth": 0,
             "ticks": ""
            },
            "colorscale": [
             [
              0,
              "#0d0887"
             ],
             [
              0.1111111111111111,
              "#46039f"
             ],
             [
              0.2222222222222222,
              "#7201a8"
             ],
             [
              0.3333333333333333,
              "#9c179e"
             ],
             [
              0.4444444444444444,
              "#bd3786"
             ],
             [
              0.5555555555555556,
              "#d8576b"
             ],
             [
              0.6666666666666666,
              "#ed7953"
             ],
             [
              0.7777777777777778,
              "#fb9f3a"
             ],
             [
              0.8888888888888888,
              "#fdca26"
             ],
             [
              1,
              "#f0f921"
             ]
            ],
            "type": "contour"
           }
          ],
          "contourcarpet": [
           {
            "colorbar": {
             "outlinewidth": 0,
             "ticks": ""
            },
            "type": "contourcarpet"
           }
          ],
          "heatmap": [
           {
            "colorbar": {
             "outlinewidth": 0,
             "ticks": ""
            },
            "colorscale": [
             [
              0,
              "#0d0887"
             ],
             [
              0.1111111111111111,
              "#46039f"
             ],
             [
              0.2222222222222222,
              "#7201a8"
             ],
             [
              0.3333333333333333,
              "#9c179e"
             ],
             [
              0.4444444444444444,
              "#bd3786"
             ],
             [
              0.5555555555555556,
              "#d8576b"
             ],
             [
              0.6666666666666666,
              "#ed7953"
             ],
             [
              0.7777777777777778,
              "#fb9f3a"
             ],
             [
              0.8888888888888888,
              "#fdca26"
             ],
             [
              1,
              "#f0f921"
             ]
            ],
            "type": "heatmap"
           }
          ],
          "heatmapgl": [
           {
            "colorbar": {
             "outlinewidth": 0,
             "ticks": ""
            },
            "colorscale": [
             [
              0,
              "#0d0887"
             ],
             [
              0.1111111111111111,
              "#46039f"
             ],
             [
              0.2222222222222222,
              "#7201a8"
             ],
             [
              0.3333333333333333,
              "#9c179e"
             ],
             [
              0.4444444444444444,
              "#bd3786"
             ],
             [
              0.5555555555555556,
              "#d8576b"
             ],
             [
              0.6666666666666666,
              "#ed7953"
             ],
             [
              0.7777777777777778,
              "#fb9f3a"
             ],
             [
              0.8888888888888888,
              "#fdca26"
             ],
             [
              1,
              "#f0f921"
             ]
            ],
            "type": "heatmapgl"
           }
          ],
          "histogram": [
           {
            "marker": {
             "pattern": {
              "fillmode": "overlay",
              "size": 10,
              "solidity": 0.2
             }
            },
            "type": "histogram"
           }
          ],
          "histogram2d": [
           {
            "colorbar": {
             "outlinewidth": 0,
             "ticks": ""
            },
            "colorscale": [
             [
              0,
              "#0d0887"
             ],
             [
              0.1111111111111111,
              "#46039f"
             ],
             [
              0.2222222222222222,
              "#7201a8"
             ],
             [
              0.3333333333333333,
              "#9c179e"
             ],
             [
              0.4444444444444444,
              "#bd3786"
             ],
             [
              0.5555555555555556,
              "#d8576b"
             ],
             [
              0.6666666666666666,
              "#ed7953"
             ],
             [
              0.7777777777777778,
              "#fb9f3a"
             ],
             [
              0.8888888888888888,
              "#fdca26"
             ],
             [
              1,
              "#f0f921"
             ]
            ],
            "type": "histogram2d"
           }
          ],
          "histogram2dcontour": [
           {
            "colorbar": {
             "outlinewidth": 0,
             "ticks": ""
            },
            "colorscale": [
             [
              0,
              "#0d0887"
             ],
             [
              0.1111111111111111,
              "#46039f"
             ],
             [
              0.2222222222222222,
              "#7201a8"
             ],
             [
              0.3333333333333333,
              "#9c179e"
             ],
             [
              0.4444444444444444,
              "#bd3786"
             ],
             [
              0.5555555555555556,
              "#d8576b"
             ],
             [
              0.6666666666666666,
              "#ed7953"
             ],
             [
              0.7777777777777778,
              "#fb9f3a"
             ],
             [
              0.8888888888888888,
              "#fdca26"
             ],
             [
              1,
              "#f0f921"
             ]
            ],
            "type": "histogram2dcontour"
           }
          ],
          "mesh3d": [
           {
            "colorbar": {
             "outlinewidth": 0,
             "ticks": ""
            },
            "type": "mesh3d"
           }
          ],
          "parcoords": [
           {
            "line": {
             "colorbar": {
              "outlinewidth": 0,
              "ticks": ""
             }
            },
            "type": "parcoords"
           }
          ],
          "pie": [
           {
            "automargin": true,
            "type": "pie"
           }
          ],
          "scatter": [
           {
            "fillpattern": {
             "fillmode": "overlay",
             "size": 10,
             "solidity": 0.2
            },
            "type": "scatter"
           }
          ],
          "scatter3d": [
           {
            "line": {
             "colorbar": {
              "outlinewidth": 0,
              "ticks": ""
             }
            },
            "marker": {
             "colorbar": {
              "outlinewidth": 0,
              "ticks": ""
             }
            },
            "type": "scatter3d"
           }
          ],
          "scattercarpet": [
           {
            "marker": {
             "colorbar": {
              "outlinewidth": 0,
              "ticks": ""
             }
            },
            "type": "scattercarpet"
           }
          ],
          "scattergeo": [
           {
            "marker": {
             "colorbar": {
              "outlinewidth": 0,
              "ticks": ""
             }
            },
            "type": "scattergeo"
           }
          ],
          "scattergl": [
           {
            "marker": {
             "colorbar": {
              "outlinewidth": 0,
              "ticks": ""
             }
            },
            "type": "scattergl"
           }
          ],
          "scattermapbox": [
           {
            "marker": {
             "colorbar": {
              "outlinewidth": 0,
              "ticks": ""
             }
            },
            "type": "scattermapbox"
           }
          ],
          "scatterpolar": [
           {
            "marker": {
             "colorbar": {
              "outlinewidth": 0,
              "ticks": ""
             }
            },
            "type": "scatterpolar"
           }
          ],
          "scatterpolargl": [
           {
            "marker": {
             "colorbar": {
              "outlinewidth": 0,
              "ticks": ""
             }
            },
            "type": "scatterpolargl"
           }
          ],
          "scatterternary": [
           {
            "marker": {
             "colorbar": {
              "outlinewidth": 0,
              "ticks": ""
             }
            },
            "type": "scatterternary"
           }
          ],
          "surface": [
           {
            "colorbar": {
             "outlinewidth": 0,
             "ticks": ""
            },
            "colorscale": [
             [
              0,
              "#0d0887"
             ],
             [
              0.1111111111111111,
              "#46039f"
             ],
             [
              0.2222222222222222,
              "#7201a8"
             ],
             [
              0.3333333333333333,
              "#9c179e"
             ],
             [
              0.4444444444444444,
              "#bd3786"
             ],
             [
              0.5555555555555556,
              "#d8576b"
             ],
             [
              0.6666666666666666,
              "#ed7953"
             ],
             [
              0.7777777777777778,
              "#fb9f3a"
             ],
             [
              0.8888888888888888,
              "#fdca26"
             ],
             [
              1,
              "#f0f921"
             ]
            ],
            "type": "surface"
           }
          ],
          "table": [
           {
            "cells": {
             "fill": {
              "color": "#EBF0F8"
             },
             "line": {
              "color": "white"
             }
            },
            "header": {
             "fill": {
              "color": "#C8D4E3"
             },
             "line": {
              "color": "white"
             }
            },
            "type": "table"
           }
          ]
         },
         "layout": {
          "annotationdefaults": {
           "arrowcolor": "#2a3f5f",
           "arrowhead": 0,
           "arrowwidth": 1
          },
          "autotypenumbers": "strict",
          "coloraxis": {
           "colorbar": {
            "outlinewidth": 0,
            "ticks": ""
           }
          },
          "colorscale": {
           "diverging": [
            [
             0,
             "#8e0152"
            ],
            [
             0.1,
             "#c51b7d"
            ],
            [
             0.2,
             "#de77ae"
            ],
            [
             0.3,
             "#f1b6da"
            ],
            [
             0.4,
             "#fde0ef"
            ],
            [
             0.5,
             "#f7f7f7"
            ],
            [
             0.6,
             "#e6f5d0"
            ],
            [
             0.7,
             "#b8e186"
            ],
            [
             0.8,
             "#7fbc41"
            ],
            [
             0.9,
             "#4d9221"
            ],
            [
             1,
             "#276419"
            ]
           ],
           "sequential": [
            [
             0,
             "#0d0887"
            ],
            [
             0.1111111111111111,
             "#46039f"
            ],
            [
             0.2222222222222222,
             "#7201a8"
            ],
            [
             0.3333333333333333,
             "#9c179e"
            ],
            [
             0.4444444444444444,
             "#bd3786"
            ],
            [
             0.5555555555555556,
             "#d8576b"
            ],
            [
             0.6666666666666666,
             "#ed7953"
            ],
            [
             0.7777777777777778,
             "#fb9f3a"
            ],
            [
             0.8888888888888888,
             "#fdca26"
            ],
            [
             1,
             "#f0f921"
            ]
           ],
           "sequentialminus": [
            [
             0,
             "#0d0887"
            ],
            [
             0.1111111111111111,
             "#46039f"
            ],
            [
             0.2222222222222222,
             "#7201a8"
            ],
            [
             0.3333333333333333,
             "#9c179e"
            ],
            [
             0.4444444444444444,
             "#bd3786"
            ],
            [
             0.5555555555555556,
             "#d8576b"
            ],
            [
             0.6666666666666666,
             "#ed7953"
            ],
            [
             0.7777777777777778,
             "#fb9f3a"
            ],
            [
             0.8888888888888888,
             "#fdca26"
            ],
            [
             1,
             "#f0f921"
            ]
           ]
          },
          "colorway": [
           "#636efa",
           "#EF553B",
           "#00cc96",
           "#ab63fa",
           "#FFA15A",
           "#19d3f3",
           "#FF6692",
           "#B6E880",
           "#FF97FF",
           "#FECB52"
          ],
          "font": {
           "color": "#2a3f5f"
          },
          "geo": {
           "bgcolor": "white",
           "lakecolor": "white",
           "landcolor": "white",
           "showlakes": true,
           "showland": true,
           "subunitcolor": "#C8D4E3"
          },
          "hoverlabel": {
           "align": "left"
          },
          "hovermode": "closest",
          "mapbox": {
           "style": "light"
          },
          "paper_bgcolor": "white",
          "plot_bgcolor": "white",
          "polar": {
           "angularaxis": {
            "gridcolor": "#EBF0F8",
            "linecolor": "#EBF0F8",
            "ticks": ""
           },
           "bgcolor": "white",
           "radialaxis": {
            "gridcolor": "#EBF0F8",
            "linecolor": "#EBF0F8",
            "ticks": ""
           }
          },
          "scene": {
           "xaxis": {
            "backgroundcolor": "white",
            "gridcolor": "#DFE8F3",
            "gridwidth": 2,
            "linecolor": "#EBF0F8",
            "showbackground": true,
            "ticks": "",
            "zerolinecolor": "#EBF0F8"
           },
           "yaxis": {
            "backgroundcolor": "white",
            "gridcolor": "#DFE8F3",
            "gridwidth": 2,
            "linecolor": "#EBF0F8",
            "showbackground": true,
            "ticks": "",
            "zerolinecolor": "#EBF0F8"
           },
           "zaxis": {
            "backgroundcolor": "white",
            "gridcolor": "#DFE8F3",
            "gridwidth": 2,
            "linecolor": "#EBF0F8",
            "showbackground": true,
            "ticks": "",
            "zerolinecolor": "#EBF0F8"
           }
          },
          "shapedefaults": {
           "line": {
            "color": "#2a3f5f"
           }
          },
          "ternary": {
           "aaxis": {
            "gridcolor": "#DFE8F3",
            "linecolor": "#A2B1C6",
            "ticks": ""
           },
           "baxis": {
            "gridcolor": "#DFE8F3",
            "linecolor": "#A2B1C6",
            "ticks": ""
           },
           "bgcolor": "white",
           "caxis": {
            "gridcolor": "#DFE8F3",
            "linecolor": "#A2B1C6",
            "ticks": ""
           }
          },
          "title": {
           "x": 0.05
          },
          "xaxis": {
           "automargin": true,
           "gridcolor": "#EBF0F8",
           "linecolor": "#EBF0F8",
           "ticks": "",
           "title": {
            "standoff": 15
           },
           "zerolinecolor": "#EBF0F8",
           "zerolinewidth": 2
          },
          "yaxis": {
           "automargin": true,
           "gridcolor": "#EBF0F8",
           "linecolor": "#EBF0F8",
           "ticks": "",
           "title": {
            "standoff": 15
           },
           "zerolinecolor": "#EBF0F8",
           "zerolinewidth": 2
          }
         }
        },
        "title": {
         "text": "Winter - Top 4 Models by SMAPE (Residence 2)",
         "x": 0.5
        },
        "xaxis": {
         "autorange": true,
         "range": [
          62680,
          62779
         ],
         "title": {
          "text": "Observations"
         },
         "type": "linear"
        },
        "yaxis": {
         "autorange": true,
         "range": [
          210.87194833333334,
          328.94358166666666
         ],
         "title": {
          "text": "Values"
         },
         "type": "linear"
        }
       }
      },
      "text/html": [
       "<div>                            <div id=\"4b216ee9-56ec-485c-a01b-5a466eab0a87\" class=\"plotly-graph-div\" style=\"height:400px; width:100%;\"></div>            <script type=\"text/javascript\">                require([\"plotly\"], function(Plotly) {                    window.PLOTLYENV=window.PLOTLYENV || {};                                    if (document.getElementById(\"4b216ee9-56ec-485c-a01b-5a466eab0a87\")) {                    Plotly.newPlot(                        \"4b216ee9-56ec-485c-a01b-5a466eab0a87\",                        [{\"mode\":\"lines\",\"name\":\"Actual\",\"x\":[62680,62681,62682,62683,62684,62685,62686,62687,62688,62689,62690,62691,62692,62693,62694,62695,62696,62697,62698,62699,62700,62701,62702,62703,62704,62705,62706,62707,62708,62709,62710,62711,62712,62713,62714,62715,62716,62717,62718,62719,62720,62721,62722,62723,62724,62725,62726,62727,62728,62729,62730,62731,62732,62733,62734,62735,62736,62737,62738,62739,62740,62741,62742,62743,62744,62745,62746,62747,62748,62749,62750,62751,62752,62753,62754,62755,62756,62757,62758,62759,62760,62761,62762,62763,62764,62765,62766,62767,62768,62769,62770,62771,62772,62773,62774,62775,62776,62777,62778,62779],\"y\":[236.16,227.4,218.76,221.64,238.32,249.12,256.56,273.96,283.8,291.12,296.04,307.32,302.4,317.28,313.92,316.32,323.04,300.0,279.48,273.24,264.84,252.96,239.88,236.16,227.4,218.76,221.64,238.32,249.12,256.56,273.96,279.84,291.12,296.04,307.32,302.4,317.28,313.92,316.32,323.04,300.0,279.48,273.24,264.84,252.96,239.88,236.16,227.4,218.76,221.64,238.32,249.12,256.56,273.96,279.84,293.64,296.04,307.32,302.4,317.28,313.92,316.32,323.04,300.0,279.48,273.24,264.84,252.96,239.88,236.16,227.4,218.76,221.64,238.32,249.12,256.56,273.96,279.84,293.64,320.88,307.32,302.4,317.28,313.92,316.32,323.04,300.0,279.48,273.24,264.84,252.96,239.88,236.16,227.4,218.76,221.64,238.32,249.12,256.56,273.96],\"type\":\"scatter\"},{\"mode\":\"lines\",\"name\":\"HyperNetLSTMRBF\",\"x\":[62680,62681,62682,62683,62684,62685,62686,62687,62688,62689,62690,62691,62692,62693,62694,62695,62696,62697,62698,62699,62700,62701,62702,62703,62704,62705,62706,62707,62708,62709,62710,62711,62712,62713,62714,62715,62716,62717,62718,62719,62720,62721,62722,62723,62724,62725,62726,62727,62728,62729,62730,62731,62732,62733,62734,62735,62736,62737,62738,62739,62740,62741,62742,62743,62744,62745,62746,62747,62748,62749,62750,62751,62752,62753,62754,62755,62756,62757,62758,62759,62760,62761,62762,62763,62764,62765,62766,62767,62768,62769,62770,62771,62772,62773,62774,62775,62776,62777,62778,62779],\"y\":[236.49298,229.61104,222.05515,222.29585,236.60262,252.44666,265.63376,271.4795,282.08603,296.81696,297.3474,297.38217,296.27826,297.74255,297.7095,302.42725,306.06628,304.86682,297.45706,288.84058,276.79083,262.31213,247.00618,238.7919,231.46452,224.5922,222.14696,234.19543,251.70187,265.62012,272.67056,275.71402,283.97952,302.5996,302.2248,300.0645,300.7041,301.8018,300.45895,306.74713,305.00684,298.98157,289.08966,277.5268,263.0637,248.21841,240.3068,233.00514,226.32352,222.50156,230.18506,247.1621,261.3479,270.62015,275.31686,279.57758,285.64093,308.4513,306.7512,304.81006,304.52393,304.93567,304.241,306.51462,299.56442,289.2343,276.2122,261.52182,246.36092,239.24283,232.45227,226.0312,222.97316,229.79214,245.56906,258.79544,268.10602,274.71262,280.93268,287.2131,289.3103,313.4194,309.608,310.0385,304.79913,306.85513,305.55515,300.6423,289.73785,276.37708,261.25317,245.29382,237.54344,231.08415,224.92868,223.04333,231.04028,246.34851,258.67172,267.2985],\"type\":\"scatter\"},{\"mode\":\"lines\",\"name\":\"HyperNetLSTMPoly\",\"x\":[62680,62681,62682,62683,62684,62685,62686,62687,62688,62689,62690,62691,62692,62693,62694,62695,62696,62697,62698,62699,62700,62701,62702,62703,62704,62705,62706,62707,62708,62709,62710,62711,62712,62713,62714,62715,62716,62717,62718,62719,62720,62721,62722,62723,62724,62725,62726,62727,62728,62729,62730,62731,62732,62733,62734,62735,62736,62737,62738,62739,62740,62741,62742,62743,62744,62745,62746,62747,62748,62749,62750,62751,62752,62753,62754,62755,62756,62757,62758,62759,62760,62761,62762,62763,62764,62765,62766,62767,62768,62769,62770,62771,62772,62773,62774,62775,62776,62777,62778,62779],\"y\":[234.93164,229.42883,234.12541,239.19896,248.61426,266.31235,282.8703,286.09506,285.7812,303.95612,317.08942,304.20627,309.01355,304.08188,307.58228,301.66354,305.2093,299.2016,297.61487,282.71075,264.6961,254.74855,249.29327,233.70253,228.83801,231.73918,233.53706,243.68265,263.96634,281.2318,282.5091,277.0053,291.18658,307.864,321.3375,308.88727,310.23047,303.7798,303.4614,302.52417,303.91763,296.48505,290.55853,268.85153,253.97116,248.71002,232.05006,228.64682,230.34305,230.12915,241.92213,265.58096,280.19547,281.19928,273.74817,265.20804,296.77304,309.0395,319.81866,310.81815,309.6761,302.04416,305.2858,303.3371,299.8157,291.336,277.13788,256.4564,249.73233,231.77429,228.4686,228.95547,227.7546,241.37178,268.00208,279.0427,280.0018,270.17468,262.7256,264.0915,303.03595,312.3712,319.76074,311.57788,310.27618,303.7357,304.29855,294.26996,288.45276,278.30527,258.84488,252.06157,236.6387,232.84473,234.32146,233.04248,247.95157,274.16873,280.0255,276.7539],\"type\":\"scatter\"},{\"mode\":\"lines\",\"name\":\"ARFFNN\",\"x\":[62680,62681,62682,62683,62684,62685,62686,62687,62688,62689,62690,62691,62692,62693,62694,62695,62696,62697,62698,62699,62700,62701,62702,62703,62704,62705,62706,62707,62708,62709,62710,62711,62712,62713,62714,62715,62716,62717,62718,62719,62720,62721,62722,62723,62724,62725,62726,62727,62728,62729,62730,62731,62732,62733,62734,62735,62736,62737,62738,62739,62740,62741,62742,62743,62744,62745,62746,62747,62748,62749,62750,62751,62752,62753,62754,62755,62756,62757,62758,62759,62760,62761,62762,62763,62764,62765,62766,62767,62768,62769,62770,62771,62772,62773,62774,62775,62776,62777,62778,62779],\"y\":[242.89801,245.2209,248.1657,251.03201,254.61485,261.41394,267.10077,272.93225,284.46384,290.10327,292.79773,296.16437,297.91998,301.81418,297.04297,294.75574,295.56342,290.0364,283.825,280.26505,275.203,268.62195,241.80353,242.89801,245.2209,248.1657,251.03201,254.61485,261.41394,267.10077,272.93225,274.48074,290.10327,292.79773,296.16437,297.91998,301.81418,297.04297,294.75574,295.56342,290.0364,283.825,280.26505,275.203,268.62195,241.80353,242.89801,245.2209,248.1657,251.03201,254.61485,261.41394,267.10077,272.93225,274.48074,280.24594,292.79773,296.16437,297.91998,301.81418,297.04297,294.75574,295.56342,290.0364,283.825,280.26505,275.203,268.62195,241.80353,242.89801,245.2209,248.1657,251.03201,254.61485,261.41394,267.10077,272.93225,274.48074,280.24594,286.0797,296.16437,297.91998,301.81418,297.04297,294.75574,295.56342,290.0364,283.825,280.26505,275.203,268.62195,241.80353,242.89801,245.2209,248.1657,251.03201,254.61485,261.41394,267.10077,272.93225],\"type\":\"scatter\"},{\"mode\":\"lines\",\"name\":\"AttentionLSTM\",\"x\":[62680,62681,62682,62683,62684,62685,62686,62687,62688,62689,62690,62691,62692,62693,62694,62695,62696,62697,62698,62699,62700,62701,62702,62703,62704,62705,62706,62707,62708,62709,62710,62711,62712,62713,62714,62715,62716,62717,62718,62719,62720,62721,62722,62723,62724,62725,62726,62727,62728,62729,62730,62731,62732,62733,62734,62735,62736,62737,62738,62739,62740,62741,62742,62743,62744,62745,62746,62747,62748,62749,62750,62751,62752,62753,62754,62755,62756,62757,62758,62759,62760,62761,62762,62763,62764,62765,62766,62767,62768,62769,62770,62771,62772,62773,62774,62775,62776,62777,62778,62779],\"y\":[216.77554,217.61836,219.01813,221.08382,224.42361,231.80348,245.92274,261.74747,293.21802,288.95425,293.24646,294.76514,295.93057,297.0426,297.65335,297.83847,296.7934,288.48584,272.10675,260.63638,256.67273,258.47595,234.91333,216.77553,217.61838,219.01813,221.08382,224.42361,231.80348,245.92274,261.74747,274.69717,295.19028,292.6999,294.82257,295.9327,297.04468,297.65448,297.8391,296.7937,288.48602,272.10687,260.63647,256.67282,258.476,234.91339,216.77553,217.6184,219.01813,221.08382,224.42361,231.80348,245.92274,261.74747,274.69717,284.53195,296.3614,294.6157,295.9591,297.04828,297.65656,297.8401,296.79416,288.48627,272.10703,260.6366,256.6729,258.47607,234.91348,216.77553,217.6184,219.01813,221.08382,224.42361,231.80348,245.92274,261.74747,274.69717,284.53195,290.19705,297.32904,295.8545,297.06424,297.6611,297.84222,296.79504,288.48672,272.1073,260.63678,256.67303,258.47617,234.91364,216.77556,217.61841,219.01813,221.08382,224.42363,231.80348,245.92274,261.74747],\"type\":\"scatter\"}],                        {\"template\":{\"data\":{\"barpolar\":[{\"marker\":{\"line\":{\"color\":\"white\",\"width\":0.5},\"pattern\":{\"fillmode\":\"overlay\",\"size\":10,\"solidity\":0.2}},\"type\":\"barpolar\"}],\"bar\":[{\"error_x\":{\"color\":\"#2a3f5f\"},\"error_y\":{\"color\":\"#2a3f5f\"},\"marker\":{\"line\":{\"color\":\"white\",\"width\":0.5},\"pattern\":{\"fillmode\":\"overlay\",\"size\":10,\"solidity\":0.2}},\"type\":\"bar\"}],\"carpet\":[{\"aaxis\":{\"endlinecolor\":\"#2a3f5f\",\"gridcolor\":\"#C8D4E3\",\"linecolor\":\"#C8D4E3\",\"minorgridcolor\":\"#C8D4E3\",\"startlinecolor\":\"#2a3f5f\"},\"baxis\":{\"endlinecolor\":\"#2a3f5f\",\"gridcolor\":\"#C8D4E3\",\"linecolor\":\"#C8D4E3\",\"minorgridcolor\":\"#C8D4E3\",\"startlinecolor\":\"#2a3f5f\"},\"type\":\"carpet\"}],\"choropleth\":[{\"colorbar\":{\"outlinewidth\":0,\"ticks\":\"\"},\"type\":\"choropleth\"}],\"contourcarpet\":[{\"colorbar\":{\"outlinewidth\":0,\"ticks\":\"\"},\"type\":\"contourcarpet\"}],\"contour\":[{\"colorbar\":{\"outlinewidth\":0,\"ticks\":\"\"},\"colorscale\":[[0.0,\"#0d0887\"],[0.1111111111111111,\"#46039f\"],[0.2222222222222222,\"#7201a8\"],[0.3333333333333333,\"#9c179e\"],[0.4444444444444444,\"#bd3786\"],[0.5555555555555556,\"#d8576b\"],[0.6666666666666666,\"#ed7953\"],[0.7777777777777778,\"#fb9f3a\"],[0.8888888888888888,\"#fdca26\"],[1.0,\"#f0f921\"]],\"type\":\"contour\"}],\"heatmapgl\":[{\"colorbar\":{\"outlinewidth\":0,\"ticks\":\"\"},\"colorscale\":[[0.0,\"#0d0887\"],[0.1111111111111111,\"#46039f\"],[0.2222222222222222,\"#7201a8\"],[0.3333333333333333,\"#9c179e\"],[0.4444444444444444,\"#bd3786\"],[0.5555555555555556,\"#d8576b\"],[0.6666666666666666,\"#ed7953\"],[0.7777777777777778,\"#fb9f3a\"],[0.8888888888888888,\"#fdca26\"],[1.0,\"#f0f921\"]],\"type\":\"heatmapgl\"}],\"heatmap\":[{\"colorbar\":{\"outlinewidth\":0,\"ticks\":\"\"},\"colorscale\":[[0.0,\"#0d0887\"],[0.1111111111111111,\"#46039f\"],[0.2222222222222222,\"#7201a8\"],[0.3333333333333333,\"#9c179e\"],[0.4444444444444444,\"#bd3786\"],[0.5555555555555556,\"#d8576b\"],[0.6666666666666666,\"#ed7953\"],[0.7777777777777778,\"#fb9f3a\"],[0.8888888888888888,\"#fdca26\"],[1.0,\"#f0f921\"]],\"type\":\"heatmap\"}],\"histogram2dcontour\":[{\"colorbar\":{\"outlinewidth\":0,\"ticks\":\"\"},\"colorscale\":[[0.0,\"#0d0887\"],[0.1111111111111111,\"#46039f\"],[0.2222222222222222,\"#7201a8\"],[0.3333333333333333,\"#9c179e\"],[0.4444444444444444,\"#bd3786\"],[0.5555555555555556,\"#d8576b\"],[0.6666666666666666,\"#ed7953\"],[0.7777777777777778,\"#fb9f3a\"],[0.8888888888888888,\"#fdca26\"],[1.0,\"#f0f921\"]],\"type\":\"histogram2dcontour\"}],\"histogram2d\":[{\"colorbar\":{\"outlinewidth\":0,\"ticks\":\"\"},\"colorscale\":[[0.0,\"#0d0887\"],[0.1111111111111111,\"#46039f\"],[0.2222222222222222,\"#7201a8\"],[0.3333333333333333,\"#9c179e\"],[0.4444444444444444,\"#bd3786\"],[0.5555555555555556,\"#d8576b\"],[0.6666666666666666,\"#ed7953\"],[0.7777777777777778,\"#fb9f3a\"],[0.8888888888888888,\"#fdca26\"],[1.0,\"#f0f921\"]],\"type\":\"histogram2d\"}],\"histogram\":[{\"marker\":{\"pattern\":{\"fillmode\":\"overlay\",\"size\":10,\"solidity\":0.2}},\"type\":\"histogram\"}],\"mesh3d\":[{\"colorbar\":{\"outlinewidth\":0,\"ticks\":\"\"},\"type\":\"mesh3d\"}],\"parcoords\":[{\"line\":{\"colorbar\":{\"outlinewidth\":0,\"ticks\":\"\"}},\"type\":\"parcoords\"}],\"pie\":[{\"automargin\":true,\"type\":\"pie\"}],\"scatter3d\":[{\"line\":{\"colorbar\":{\"outlinewidth\":0,\"ticks\":\"\"}},\"marker\":{\"colorbar\":{\"outlinewidth\":0,\"ticks\":\"\"}},\"type\":\"scatter3d\"}],\"scattercarpet\":[{\"marker\":{\"colorbar\":{\"outlinewidth\":0,\"ticks\":\"\"}},\"type\":\"scattercarpet\"}],\"scattergeo\":[{\"marker\":{\"colorbar\":{\"outlinewidth\":0,\"ticks\":\"\"}},\"type\":\"scattergeo\"}],\"scattergl\":[{\"marker\":{\"colorbar\":{\"outlinewidth\":0,\"ticks\":\"\"}},\"type\":\"scattergl\"}],\"scattermapbox\":[{\"marker\":{\"colorbar\":{\"outlinewidth\":0,\"ticks\":\"\"}},\"type\":\"scattermapbox\"}],\"scatterpolargl\":[{\"marker\":{\"colorbar\":{\"outlinewidth\":0,\"ticks\":\"\"}},\"type\":\"scatterpolargl\"}],\"scatterpolar\":[{\"marker\":{\"colorbar\":{\"outlinewidth\":0,\"ticks\":\"\"}},\"type\":\"scatterpolar\"}],\"scatter\":[{\"fillpattern\":{\"fillmode\":\"overlay\",\"size\":10,\"solidity\":0.2},\"type\":\"scatter\"}],\"scatterternary\":[{\"marker\":{\"colorbar\":{\"outlinewidth\":0,\"ticks\":\"\"}},\"type\":\"scatterternary\"}],\"surface\":[{\"colorbar\":{\"outlinewidth\":0,\"ticks\":\"\"},\"colorscale\":[[0.0,\"#0d0887\"],[0.1111111111111111,\"#46039f\"],[0.2222222222222222,\"#7201a8\"],[0.3333333333333333,\"#9c179e\"],[0.4444444444444444,\"#bd3786\"],[0.5555555555555556,\"#d8576b\"],[0.6666666666666666,\"#ed7953\"],[0.7777777777777778,\"#fb9f3a\"],[0.8888888888888888,\"#fdca26\"],[1.0,\"#f0f921\"]],\"type\":\"surface\"}],\"table\":[{\"cells\":{\"fill\":{\"color\":\"#EBF0F8\"},\"line\":{\"color\":\"white\"}},\"header\":{\"fill\":{\"color\":\"#C8D4E3\"},\"line\":{\"color\":\"white\"}},\"type\":\"table\"}]},\"layout\":{\"annotationdefaults\":{\"arrowcolor\":\"#2a3f5f\",\"arrowhead\":0,\"arrowwidth\":1},\"autotypenumbers\":\"strict\",\"coloraxis\":{\"colorbar\":{\"outlinewidth\":0,\"ticks\":\"\"}},\"colorscale\":{\"diverging\":[[0,\"#8e0152\"],[0.1,\"#c51b7d\"],[0.2,\"#de77ae\"],[0.3,\"#f1b6da\"],[0.4,\"#fde0ef\"],[0.5,\"#f7f7f7\"],[0.6,\"#e6f5d0\"],[0.7,\"#b8e186\"],[0.8,\"#7fbc41\"],[0.9,\"#4d9221\"],[1,\"#276419\"]],\"sequential\":[[0.0,\"#0d0887\"],[0.1111111111111111,\"#46039f\"],[0.2222222222222222,\"#7201a8\"],[0.3333333333333333,\"#9c179e\"],[0.4444444444444444,\"#bd3786\"],[0.5555555555555556,\"#d8576b\"],[0.6666666666666666,\"#ed7953\"],[0.7777777777777778,\"#fb9f3a\"],[0.8888888888888888,\"#fdca26\"],[1.0,\"#f0f921\"]],\"sequentialminus\":[[0.0,\"#0d0887\"],[0.1111111111111111,\"#46039f\"],[0.2222222222222222,\"#7201a8\"],[0.3333333333333333,\"#9c179e\"],[0.4444444444444444,\"#bd3786\"],[0.5555555555555556,\"#d8576b\"],[0.6666666666666666,\"#ed7953\"],[0.7777777777777778,\"#fb9f3a\"],[0.8888888888888888,\"#fdca26\"],[1.0,\"#f0f921\"]]},\"colorway\":[\"#636efa\",\"#EF553B\",\"#00cc96\",\"#ab63fa\",\"#FFA15A\",\"#19d3f3\",\"#FF6692\",\"#B6E880\",\"#FF97FF\",\"#FECB52\"],\"font\":{\"color\":\"#2a3f5f\"},\"geo\":{\"bgcolor\":\"white\",\"lakecolor\":\"white\",\"landcolor\":\"white\",\"showlakes\":true,\"showland\":true,\"subunitcolor\":\"#C8D4E3\"},\"hoverlabel\":{\"align\":\"left\"},\"hovermode\":\"closest\",\"mapbox\":{\"style\":\"light\"},\"paper_bgcolor\":\"white\",\"plot_bgcolor\":\"white\",\"polar\":{\"angularaxis\":{\"gridcolor\":\"#EBF0F8\",\"linecolor\":\"#EBF0F8\",\"ticks\":\"\"},\"bgcolor\":\"white\",\"radialaxis\":{\"gridcolor\":\"#EBF0F8\",\"linecolor\":\"#EBF0F8\",\"ticks\":\"\"}},\"scene\":{\"xaxis\":{\"backgroundcolor\":\"white\",\"gridcolor\":\"#DFE8F3\",\"gridwidth\":2,\"linecolor\":\"#EBF0F8\",\"showbackground\":true,\"ticks\":\"\",\"zerolinecolor\":\"#EBF0F8\"},\"yaxis\":{\"backgroundcolor\":\"white\",\"gridcolor\":\"#DFE8F3\",\"gridwidth\":2,\"linecolor\":\"#EBF0F8\",\"showbackground\":true,\"ticks\":\"\",\"zerolinecolor\":\"#EBF0F8\"},\"zaxis\":{\"backgroundcolor\":\"white\",\"gridcolor\":\"#DFE8F3\",\"gridwidth\":2,\"linecolor\":\"#EBF0F8\",\"showbackground\":true,\"ticks\":\"\",\"zerolinecolor\":\"#EBF0F8\"}},\"shapedefaults\":{\"line\":{\"color\":\"#2a3f5f\"}},\"ternary\":{\"aaxis\":{\"gridcolor\":\"#DFE8F3\",\"linecolor\":\"#A2B1C6\",\"ticks\":\"\"},\"baxis\":{\"gridcolor\":\"#DFE8F3\",\"linecolor\":\"#A2B1C6\",\"ticks\":\"\"},\"bgcolor\":\"white\",\"caxis\":{\"gridcolor\":\"#DFE8F3\",\"linecolor\":\"#A2B1C6\",\"ticks\":\"\"}},\"title\":{\"x\":0.05},\"xaxis\":{\"automargin\":true,\"gridcolor\":\"#EBF0F8\",\"linecolor\":\"#EBF0F8\",\"ticks\":\"\",\"title\":{\"standoff\":15},\"zerolinecolor\":\"#EBF0F8\",\"zerolinewidth\":2},\"yaxis\":{\"automargin\":true,\"gridcolor\":\"#EBF0F8\",\"linecolor\":\"#EBF0F8\",\"ticks\":\"\",\"title\":{\"standoff\":15},\"zerolinecolor\":\"#EBF0F8\",\"zerolinewidth\":2}}},\"title\":{\"text\":\"Winter - Top 4 Models by SMAPE (Residence 2)\",\"x\":0.5},\"xaxis\":{\"title\":{\"text\":\"Observations\"}},\"yaxis\":{\"title\":{\"text\":\"Values\"}},\"legend\":{\"title\":{\"text\":\"Models\"}},\"height\":400},                        {\"responsive\": true}                    ).then(function(){\n",
       "                            \n",
       "var gd = document.getElementById('4b216ee9-56ec-485c-a01b-5a466eab0a87');\n",
       "var x = new MutationObserver(function (mutations, observer) {{\n",
       "        var display = window.getComputedStyle(gd).display;\n",
       "        if (!display || display === 'none') {{\n",
       "            console.log([gd, 'removed!']);\n",
       "            Plotly.purge(gd);\n",
       "            observer.disconnect();\n",
       "        }}\n",
       "}});\n",
       "\n",
       "// Listen for the removal of the full notebook cells\n",
       "var notebookContainer = gd.closest('#notebook-container');\n",
       "if (notebookContainer) {{\n",
       "    x.observe(notebookContainer, {childList: true});\n",
       "}}\n",
       "\n",
       "// Listen for the clearing of the current output cell\n",
       "var outputEl = gd.closest('.output');\n",
       "if (outputEl) {{\n",
       "    x.observe(outputEl, {childList: true});\n",
       "}}\n",
       "\n",
       "                        })                };                });            </script>        </div>"
      ]
     },
     "metadata": {},
     "output_type": "display_data"
    },
    {
     "name": "stderr",
     "output_type": "stream",
     "text": [
      "/tmp/ipykernel_1015045/3967295982.py:58: FutureWarning:\n",
      "\n",
      "this method is deprecated in favour of `Styler.format(precision=..)`\n",
      "\n",
      "/tmp/ipykernel_1015045/3967295982.py:63: FutureWarning:\n",
      "\n",
      "this method is deprecated in favour of `Styler.format(precision=..)`\n",
      "\n"
     ]
    },
    {
     "data": {
      "application/vnd.plotly.v1+json": {
       "config": {
        "plotlyServerURL": "https://plot.ly"
       },
       "data": [
        {
         "mode": "lines",
         "name": "Actual",
         "type": "scatter",
         "x": [
          125360,
          125361,
          125362,
          125363,
          125364,
          125365,
          125366,
          125367,
          125368,
          125369,
          125370,
          125371,
          125372,
          125373,
          125374,
          125375,
          125376,
          125377,
          125378,
          125379,
          125380,
          125381,
          125382,
          125383,
          125384,
          125385,
          125386,
          125387,
          125388,
          125389,
          125390,
          125391,
          125392,
          125393,
          125394,
          125395,
          125396,
          125397,
          125398,
          125399,
          125400,
          125401,
          125402,
          125403,
          125404,
          125405,
          125406,
          125407,
          125408,
          125409,
          125410,
          125411,
          125412,
          125413,
          125414,
          125415,
          125416,
          125417,
          125418,
          125419,
          125420,
          125421,
          125422,
          125423,
          125424,
          125425,
          125426,
          125427,
          125428,
          125429,
          125430,
          125431,
          125432,
          125433,
          125434,
          125435,
          125436,
          125437,
          125438,
          125439,
          125440,
          125441,
          125442,
          125443,
          125444,
          125445,
          125446,
          125447,
          125448,
          125449,
          125450,
          125451,
          125452,
          125453,
          125454,
          125455,
          125456,
          125457,
          125458,
          125459
         ],
         "y": [
          277.35,
          283.05,
          274.95,
          289.95,
          323.1,
          331.65,
          298.2,
          325.5,
          317.25,
          307.2,
          286.8,
          273.6,
          272.1,
          269.85,
          279.45,
          282.75,
          285.6,
          312,
          301.5,
          296.85,
          299.1,
          277.8,
          271.05,
          277.35,
          283.05,
          274.95,
          289.95,
          323.1,
          331.65,
          298.2,
          325.5,
          317.25,
          307.2,
          286.8,
          273.6,
          272.1,
          269.85,
          279.45,
          282.75,
          281.4,
          312,
          301.5,
          296.85,
          299.1,
          277.8,
          271.05,
          277.35,
          283.05,
          274.95,
          289.95,
          323.1,
          331.65,
          298.2,
          325.5,
          317.25,
          307.2,
          286.8,
          273.6,
          272.1,
          269.85,
          279.45,
          282.75,
          281.4,
          304.95,
          301.5,
          296.85,
          299.1,
          277.8,
          271.05,
          277.35,
          283.05,
          274.95,
          289.95,
          323.1,
          331.65,
          298.2,
          325.5,
          317.25,
          307.2,
          286.8,
          273.6,
          272.1,
          269.85,
          279.45,
          282.75,
          281.4,
          304.95,
          307.95,
          296.85,
          299.1,
          277.8,
          271.05,
          277.35,
          283.05,
          274.95,
          289.95,
          323.1,
          331.65,
          298.2,
          325.5
         ]
        },
        {
         "mode": "lines",
         "name": "HyperNetLSTMRBF",
         "type": "scatter",
         "x": [
          125360,
          125361,
          125362,
          125363,
          125364,
          125365,
          125366,
          125367,
          125368,
          125369,
          125370,
          125371,
          125372,
          125373,
          125374,
          125375,
          125376,
          125377,
          125378,
          125379,
          125380,
          125381,
          125382,
          125383,
          125384,
          125385,
          125386,
          125387,
          125388,
          125389,
          125390,
          125391,
          125392,
          125393,
          125394,
          125395,
          125396,
          125397,
          125398,
          125399,
          125400,
          125401,
          125402,
          125403,
          125404,
          125405,
          125406,
          125407,
          125408,
          125409,
          125410,
          125411,
          125412,
          125413,
          125414,
          125415,
          125416,
          125417,
          125418,
          125419,
          125420,
          125421,
          125422,
          125423,
          125424,
          125425,
          125426,
          125427,
          125428,
          125429,
          125430,
          125431,
          125432,
          125433,
          125434,
          125435,
          125436,
          125437,
          125438,
          125439,
          125440,
          125441,
          125442,
          125443,
          125444,
          125445,
          125446,
          125447,
          125448,
          125449,
          125450,
          125451,
          125452,
          125453,
          125454,
          125455,
          125456,
          125457,
          125458,
          125459
         ],
         "y": [
          294.13284,
          297.4016,
          303.3818,
          308.9022,
          312.59784,
          309.2801,
          301.69388,
          295.4547,
          291.19196,
          287.64902,
          285.01053,
          281.4891,
          283.77298,
          289.89343,
          299.1903,
          305.942,
          314.316,
          325.42255,
          309.32266,
          295.42188,
          290.45926,
          294.06512,
          288.2908,
          293.8419,
          295.5233,
          300.97186,
          307.29385,
          311.28394,
          310.14255,
          303.04932,
          296.479,
          291.93723,
          288.3246,
          285.50833,
          281.50427,
          282.4639,
          287.3639,
          296.37473,
          305.21744,
          307.80038,
          311.951,
          322.43817,
          305.07968,
          289.04102,
          286.5358,
          291.76578,
          289.2017,
          295.1787,
          298.53275,
          306.0004,
          311.45126,
          311.7447,
          305.34018,
          297.93524,
          293.03873,
          289.446,
          286.37976,
          281.96146,
          281.71796,
          284.94696,
          292.3837,
          301.53406,
          306.3296,
          304.04846,
          312.64996,
          321.58923,
          301.64438,
          285.98212,
          285.549,
          291.50793,
          291.7643,
          297.3286,
          304.4206,
          311.90796,
          314.63693,
          308.77066,
          300.1281,
          294.02554,
          290.5619,
          287.3054,
          282.42007,
          281.24118,
          282.84927,
          288.3399,
          296.45038,
          302.51987,
          301.85962,
          295.95456,
          313.5109,
          320.2803,
          299.19052,
          286.90622,
          287.6957,
          293.45444,
          294.87723,
          302.9209,
          312.10843,
          316.76907,
          313.36136,
          303.85602
         ]
        },
        {
         "mode": "lines",
         "name": "LSTM",
         "type": "scatter",
         "x": [
          125360,
          125361,
          125362,
          125363,
          125364,
          125365,
          125366,
          125367,
          125368,
          125369,
          125370,
          125371,
          125372,
          125373,
          125374,
          125375,
          125376,
          125377,
          125378,
          125379,
          125380,
          125381,
          125382,
          125383,
          125384,
          125385,
          125386,
          125387,
          125388,
          125389,
          125390,
          125391,
          125392,
          125393,
          125394,
          125395,
          125396,
          125397,
          125398,
          125399,
          125400,
          125401,
          125402,
          125403,
          125404,
          125405,
          125406,
          125407,
          125408,
          125409,
          125410,
          125411,
          125412,
          125413,
          125414,
          125415,
          125416,
          125417,
          125418,
          125419,
          125420,
          125421,
          125422,
          125423,
          125424,
          125425,
          125426,
          125427,
          125428,
          125429,
          125430,
          125431,
          125432,
          125433,
          125434,
          125435,
          125436,
          125437,
          125438,
          125439,
          125440,
          125441,
          125442,
          125443,
          125444,
          125445,
          125446,
          125447,
          125448,
          125449,
          125450,
          125451,
          125452,
          125453,
          125454,
          125455,
          125456,
          125457,
          125458,
          125459
         ],
         "y": [
          297.25836,
          296.03503,
          296.10913,
          294.43582,
          296.88293,
          292.79272,
          293.72247,
          291.922,
          291.2343,
          292.78494,
          289.67328,
          283.13547,
          277.55048,
          275.9686,
          277.1953,
          278.02966,
          309.1119,
          311.3106,
          309.64038,
          307.14148,
          301.7658,
          300.35303,
          298.9492,
          298.65054,
          297.17615,
          297.039,
          295.17923,
          297.48114,
          293.25552,
          294.0835,
          292.19858,
          291.44516,
          292.9455,
          289.79285,
          283.22778,
          277.62012,
          276.02164,
          277.23615,
          278.0611,
          281.89722,
          307.39407,
          310.88095,
          309.94278,
          304.73257,
          303.12897,
          301.39276,
          300.74677,
          298.92584,
          298.48364,
          296.34515,
          298.42706,
          293.9914,
          294.66068,
          292.6426,
          291.78497,
          293.20517,
          289.9868,
          283.378,
          277.73367,
          276.1084,
          277.30313,
          278.11276,
          281.93738,
          283.61218,
          307.6877,
          311.40076,
          307.41556,
          305.97458,
          304.00818,
          303.0356,
          300.8587,
          300.0953,
          297.6565,
          299.50067,
          294.83182,
          295.3246,
          293.15634,
          292.1803,
          293.5089,
          290.2145,
          283.5553,
          277.86816,
          276.2115,
          277.383,
          278.17456,
          281.98563,
          283.64957,
          288.54544,
          308.09592,
          308.74133,
          308.7,
          306.91885,
          305.73755,
          303.20618,
          302.088,
          299.29776,
          300.85983,
          295.9036,
          296.178,
          293.8209
         ]
        },
        {
         "mode": "lines",
         "name": "ARFFNN",
         "type": "scatter",
         "x": [
          125360,
          125361,
          125362,
          125363,
          125364,
          125365,
          125366,
          125367,
          125368,
          125369,
          125370,
          125371,
          125372,
          125373,
          125374,
          125375,
          125376,
          125377,
          125378,
          125379,
          125380,
          125381,
          125382,
          125383,
          125384,
          125385,
          125386,
          125387,
          125388,
          125389,
          125390,
          125391,
          125392,
          125393,
          125394,
          125395,
          125396,
          125397,
          125398,
          125399,
          125400,
          125401,
          125402,
          125403,
          125404,
          125405,
          125406,
          125407,
          125408,
          125409,
          125410,
          125411,
          125412,
          125413,
          125414,
          125415,
          125416,
          125417,
          125418,
          125419,
          125420,
          125421,
          125422,
          125423,
          125424,
          125425,
          125426,
          125427,
          125428,
          125429,
          125430,
          125431,
          125432,
          125433,
          125434,
          125435,
          125436,
          125437,
          125438,
          125439,
          125440,
          125441,
          125442,
          125443,
          125444,
          125445,
          125446,
          125447,
          125448,
          125449,
          125450,
          125451,
          125452,
          125453,
          125454,
          125455,
          125456,
          125457,
          125458,
          125459
         ],
         "y": [
          300.87137,
          300.02606,
          301.20862,
          299.36392,
          303.93863,
          296.73065,
          300.2923,
          296.74533,
          296.0481,
          297.87283,
          291.07916,
          297.65125,
          293.67313,
          295.2603,
          297.8002,
          298.1647,
          300.995,
          299.13864,
          299.61322,
          300.0675,
          296.95648,
          299.38535,
          299.66263,
          300.87137,
          300.02606,
          301.20862,
          299.36392,
          303.93863,
          296.73065,
          300.2923,
          296.74533,
          296.0481,
          297.87283,
          291.07916,
          297.65125,
          293.67313,
          295.2603,
          297.8002,
          298.1647,
          302.25552,
          299.13864,
          299.61322,
          300.0675,
          296.95648,
          299.38535,
          299.66263,
          300.87137,
          300.02606,
          301.20862,
          299.36392,
          303.93863,
          296.73065,
          300.2923,
          296.74533,
          296.0481,
          297.87283,
          291.07916,
          297.65125,
          293.67313,
          295.2603,
          297.8002,
          298.1647,
          302.25552,
          302.22162,
          299.61322,
          300.0675,
          296.95648,
          299.38535,
          299.66263,
          300.87137,
          300.02606,
          301.20862,
          299.36392,
          303.93863,
          296.73065,
          300.2923,
          296.74533,
          296.0481,
          297.87283,
          291.07916,
          297.65125,
          293.67313,
          295.2603,
          297.8002,
          298.1647,
          302.25552,
          302.22162,
          306.93073,
          300.0675,
          296.95648,
          299.38535,
          299.66263,
          300.87137,
          300.02606,
          301.20862,
          299.36392,
          303.93863,
          296.73065,
          300.2923,
          296.74533
         ]
        },
        {
         "mode": "lines",
         "name": "HyperNetLSTMPoly",
         "type": "scatter",
         "x": [
          125360,
          125361,
          125362,
          125363,
          125364,
          125365,
          125366,
          125367,
          125368,
          125369,
          125370,
          125371,
          125372,
          125373,
          125374,
          125375,
          125376,
          125377,
          125378,
          125379,
          125380,
          125381,
          125382,
          125383,
          125384,
          125385,
          125386,
          125387,
          125388,
          125389,
          125390,
          125391,
          125392,
          125393,
          125394,
          125395,
          125396,
          125397,
          125398,
          125399,
          125400,
          125401,
          125402,
          125403,
          125404,
          125405,
          125406,
          125407,
          125408,
          125409,
          125410,
          125411,
          125412,
          125413,
          125414,
          125415,
          125416,
          125417,
          125418,
          125419,
          125420,
          125421,
          125422,
          125423,
          125424,
          125425,
          125426,
          125427,
          125428,
          125429,
          125430,
          125431,
          125432,
          125433,
          125434,
          125435,
          125436,
          125437,
          125438,
          125439,
          125440,
          125441,
          125442,
          125443,
          125444,
          125445,
          125446,
          125447,
          125448,
          125449,
          125450,
          125451,
          125452,
          125453,
          125454,
          125455,
          125456,
          125457,
          125458,
          125459
         ],
         "y": [
          284.949,
          285.19434,
          291.54227,
          301.07202,
          310.59778,
          311.4356,
          312.8281,
          315.0631,
          311.24646,
          308.52884,
          308.34882,
          310.44485,
          295.91623,
          286.92493,
          283.16803,
          285.42813,
          303.03912,
          300.43576,
          296.9943,
          296.6273,
          298.6437,
          295.31815,
          289.78403,
          285.90512,
          285.7357,
          288.6739,
          296.56677,
          308.1027,
          312.58292,
          313.02625,
          315.57788,
          315.2181,
          308.47626,
          306.62564,
          306.43,
          292.63916,
          284.35748,
          281.26477,
          283.98672,
          283.89056,
          302.4869,
          301.88303,
          297.91064,
          295.69666,
          296.80264,
          291.75244,
          289.81363,
          290.12915,
          292.21942,
          299.13657,
          309.25192,
          313.93933,
          316.32333,
          318.48566,
          316.99683,
          312.77536,
          310.55646,
          308.8939,
          294.7035,
          285.42786,
          280.79416,
          280.638,
          279.5233,
          279.29062,
          303.38474,
          303.8152,
          299.3169,
          294.80182,
          294.44122,
          293.376,
          294.094,
          299.52634,
          305.79227,
          314.0029,
          317.22272,
          319.3232,
          319.35568,
          317.42593,
          315.1432,
          311.02972,
          307.8435,
          294.3215,
          284.8265,
          279.7004,
          278.59055,
          278.60385,
          278.3729,
          280.53436,
          304.7987,
          301.46997,
          296.97287,
          296.40894,
          295.1043,
          296.3856,
          302.19043,
          311.37143,
          317.94147,
          318.9849,
          319.5781,
          319.1738
         ]
        }
       ],
       "layout": {
        "autosize": true,
        "legend": {
         "title": {
          "text": "Models"
         }
        },
        "template": {
         "data": {
          "bar": [
           {
            "error_x": {
             "color": "#2a3f5f"
            },
            "error_y": {
             "color": "#2a3f5f"
            },
            "marker": {
             "line": {
              "color": "white",
              "width": 0.5
             },
             "pattern": {
              "fillmode": "overlay",
              "size": 10,
              "solidity": 0.2
             }
            },
            "type": "bar"
           }
          ],
          "barpolar": [
           {
            "marker": {
             "line": {
              "color": "white",
              "width": 0.5
             },
             "pattern": {
              "fillmode": "overlay",
              "size": 10,
              "solidity": 0.2
             }
            },
            "type": "barpolar"
           }
          ],
          "carpet": [
           {
            "aaxis": {
             "endlinecolor": "#2a3f5f",
             "gridcolor": "#C8D4E3",
             "linecolor": "#C8D4E3",
             "minorgridcolor": "#C8D4E3",
             "startlinecolor": "#2a3f5f"
            },
            "baxis": {
             "endlinecolor": "#2a3f5f",
             "gridcolor": "#C8D4E3",
             "linecolor": "#C8D4E3",
             "minorgridcolor": "#C8D4E3",
             "startlinecolor": "#2a3f5f"
            },
            "type": "carpet"
           }
          ],
          "choropleth": [
           {
            "colorbar": {
             "outlinewidth": 0,
             "ticks": ""
            },
            "type": "choropleth"
           }
          ],
          "contour": [
           {
            "colorbar": {
             "outlinewidth": 0,
             "ticks": ""
            },
            "colorscale": [
             [
              0,
              "#0d0887"
             ],
             [
              0.1111111111111111,
              "#46039f"
             ],
             [
              0.2222222222222222,
              "#7201a8"
             ],
             [
              0.3333333333333333,
              "#9c179e"
             ],
             [
              0.4444444444444444,
              "#bd3786"
             ],
             [
              0.5555555555555556,
              "#d8576b"
             ],
             [
              0.6666666666666666,
              "#ed7953"
             ],
             [
              0.7777777777777778,
              "#fb9f3a"
             ],
             [
              0.8888888888888888,
              "#fdca26"
             ],
             [
              1,
              "#f0f921"
             ]
            ],
            "type": "contour"
           }
          ],
          "contourcarpet": [
           {
            "colorbar": {
             "outlinewidth": 0,
             "ticks": ""
            },
            "type": "contourcarpet"
           }
          ],
          "heatmap": [
           {
            "colorbar": {
             "outlinewidth": 0,
             "ticks": ""
            },
            "colorscale": [
             [
              0,
              "#0d0887"
             ],
             [
              0.1111111111111111,
              "#46039f"
             ],
             [
              0.2222222222222222,
              "#7201a8"
             ],
             [
              0.3333333333333333,
              "#9c179e"
             ],
             [
              0.4444444444444444,
              "#bd3786"
             ],
             [
              0.5555555555555556,
              "#d8576b"
             ],
             [
              0.6666666666666666,
              "#ed7953"
             ],
             [
              0.7777777777777778,
              "#fb9f3a"
             ],
             [
              0.8888888888888888,
              "#fdca26"
             ],
             [
              1,
              "#f0f921"
             ]
            ],
            "type": "heatmap"
           }
          ],
          "heatmapgl": [
           {
            "colorbar": {
             "outlinewidth": 0,
             "ticks": ""
            },
            "colorscale": [
             [
              0,
              "#0d0887"
             ],
             [
              0.1111111111111111,
              "#46039f"
             ],
             [
              0.2222222222222222,
              "#7201a8"
             ],
             [
              0.3333333333333333,
              "#9c179e"
             ],
             [
              0.4444444444444444,
              "#bd3786"
             ],
             [
              0.5555555555555556,
              "#d8576b"
             ],
             [
              0.6666666666666666,
              "#ed7953"
             ],
             [
              0.7777777777777778,
              "#fb9f3a"
             ],
             [
              0.8888888888888888,
              "#fdca26"
             ],
             [
              1,
              "#f0f921"
             ]
            ],
            "type": "heatmapgl"
           }
          ],
          "histogram": [
           {
            "marker": {
             "pattern": {
              "fillmode": "overlay",
              "size": 10,
              "solidity": 0.2
             }
            },
            "type": "histogram"
           }
          ],
          "histogram2d": [
           {
            "colorbar": {
             "outlinewidth": 0,
             "ticks": ""
            },
            "colorscale": [
             [
              0,
              "#0d0887"
             ],
             [
              0.1111111111111111,
              "#46039f"
             ],
             [
              0.2222222222222222,
              "#7201a8"
             ],
             [
              0.3333333333333333,
              "#9c179e"
             ],
             [
              0.4444444444444444,
              "#bd3786"
             ],
             [
              0.5555555555555556,
              "#d8576b"
             ],
             [
              0.6666666666666666,
              "#ed7953"
             ],
             [
              0.7777777777777778,
              "#fb9f3a"
             ],
             [
              0.8888888888888888,
              "#fdca26"
             ],
             [
              1,
              "#f0f921"
             ]
            ],
            "type": "histogram2d"
           }
          ],
          "histogram2dcontour": [
           {
            "colorbar": {
             "outlinewidth": 0,
             "ticks": ""
            },
            "colorscale": [
             [
              0,
              "#0d0887"
             ],
             [
              0.1111111111111111,
              "#46039f"
             ],
             [
              0.2222222222222222,
              "#7201a8"
             ],
             [
              0.3333333333333333,
              "#9c179e"
             ],
             [
              0.4444444444444444,
              "#bd3786"
             ],
             [
              0.5555555555555556,
              "#d8576b"
             ],
             [
              0.6666666666666666,
              "#ed7953"
             ],
             [
              0.7777777777777778,
              "#fb9f3a"
             ],
             [
              0.8888888888888888,
              "#fdca26"
             ],
             [
              1,
              "#f0f921"
             ]
            ],
            "type": "histogram2dcontour"
           }
          ],
          "mesh3d": [
           {
            "colorbar": {
             "outlinewidth": 0,
             "ticks": ""
            },
            "type": "mesh3d"
           }
          ],
          "parcoords": [
           {
            "line": {
             "colorbar": {
              "outlinewidth": 0,
              "ticks": ""
             }
            },
            "type": "parcoords"
           }
          ],
          "pie": [
           {
            "automargin": true,
            "type": "pie"
           }
          ],
          "scatter": [
           {
            "fillpattern": {
             "fillmode": "overlay",
             "size": 10,
             "solidity": 0.2
            },
            "type": "scatter"
           }
          ],
          "scatter3d": [
           {
            "line": {
             "colorbar": {
              "outlinewidth": 0,
              "ticks": ""
             }
            },
            "marker": {
             "colorbar": {
              "outlinewidth": 0,
              "ticks": ""
             }
            },
            "type": "scatter3d"
           }
          ],
          "scattercarpet": [
           {
            "marker": {
             "colorbar": {
              "outlinewidth": 0,
              "ticks": ""
             }
            },
            "type": "scattercarpet"
           }
          ],
          "scattergeo": [
           {
            "marker": {
             "colorbar": {
              "outlinewidth": 0,
              "ticks": ""
             }
            },
            "type": "scattergeo"
           }
          ],
          "scattergl": [
           {
            "marker": {
             "colorbar": {
              "outlinewidth": 0,
              "ticks": ""
             }
            },
            "type": "scattergl"
           }
          ],
          "scattermapbox": [
           {
            "marker": {
             "colorbar": {
              "outlinewidth": 0,
              "ticks": ""
             }
            },
            "type": "scattermapbox"
           }
          ],
          "scatterpolar": [
           {
            "marker": {
             "colorbar": {
              "outlinewidth": 0,
              "ticks": ""
             }
            },
            "type": "scatterpolar"
           }
          ],
          "scatterpolargl": [
           {
            "marker": {
             "colorbar": {
              "outlinewidth": 0,
              "ticks": ""
             }
            },
            "type": "scatterpolargl"
           }
          ],
          "scatterternary": [
           {
            "marker": {
             "colorbar": {
              "outlinewidth": 0,
              "ticks": ""
             }
            },
            "type": "scatterternary"
           }
          ],
          "surface": [
           {
            "colorbar": {
             "outlinewidth": 0,
             "ticks": ""
            },
            "colorscale": [
             [
              0,
              "#0d0887"
             ],
             [
              0.1111111111111111,
              "#46039f"
             ],
             [
              0.2222222222222222,
              "#7201a8"
             ],
             [
              0.3333333333333333,
              "#9c179e"
             ],
             [
              0.4444444444444444,
              "#bd3786"
             ],
             [
              0.5555555555555556,
              "#d8576b"
             ],
             [
              0.6666666666666666,
              "#ed7953"
             ],
             [
              0.7777777777777778,
              "#fb9f3a"
             ],
             [
              0.8888888888888888,
              "#fdca26"
             ],
             [
              1,
              "#f0f921"
             ]
            ],
            "type": "surface"
           }
          ],
          "table": [
           {
            "cells": {
             "fill": {
              "color": "#EBF0F8"
             },
             "line": {
              "color": "white"
             }
            },
            "header": {
             "fill": {
              "color": "#C8D4E3"
             },
             "line": {
              "color": "white"
             }
            },
            "type": "table"
           }
          ]
         },
         "layout": {
          "annotationdefaults": {
           "arrowcolor": "#2a3f5f",
           "arrowhead": 0,
           "arrowwidth": 1
          },
          "autotypenumbers": "strict",
          "coloraxis": {
           "colorbar": {
            "outlinewidth": 0,
            "ticks": ""
           }
          },
          "colorscale": {
           "diverging": [
            [
             0,
             "#8e0152"
            ],
            [
             0.1,
             "#c51b7d"
            ],
            [
             0.2,
             "#de77ae"
            ],
            [
             0.3,
             "#f1b6da"
            ],
            [
             0.4,
             "#fde0ef"
            ],
            [
             0.5,
             "#f7f7f7"
            ],
            [
             0.6,
             "#e6f5d0"
            ],
            [
             0.7,
             "#b8e186"
            ],
            [
             0.8,
             "#7fbc41"
            ],
            [
             0.9,
             "#4d9221"
            ],
            [
             1,
             "#276419"
            ]
           ],
           "sequential": [
            [
             0,
             "#0d0887"
            ],
            [
             0.1111111111111111,
             "#46039f"
            ],
            [
             0.2222222222222222,
             "#7201a8"
            ],
            [
             0.3333333333333333,
             "#9c179e"
            ],
            [
             0.4444444444444444,
             "#bd3786"
            ],
            [
             0.5555555555555556,
             "#d8576b"
            ],
            [
             0.6666666666666666,
             "#ed7953"
            ],
            [
             0.7777777777777778,
             "#fb9f3a"
            ],
            [
             0.8888888888888888,
             "#fdca26"
            ],
            [
             1,
             "#f0f921"
            ]
           ],
           "sequentialminus": [
            [
             0,
             "#0d0887"
            ],
            [
             0.1111111111111111,
             "#46039f"
            ],
            [
             0.2222222222222222,
             "#7201a8"
            ],
            [
             0.3333333333333333,
             "#9c179e"
            ],
            [
             0.4444444444444444,
             "#bd3786"
            ],
            [
             0.5555555555555556,
             "#d8576b"
            ],
            [
             0.6666666666666666,
             "#ed7953"
            ],
            [
             0.7777777777777778,
             "#fb9f3a"
            ],
            [
             0.8888888888888888,
             "#fdca26"
            ],
            [
             1,
             "#f0f921"
            ]
           ]
          },
          "colorway": [
           "#636efa",
           "#EF553B",
           "#00cc96",
           "#ab63fa",
           "#FFA15A",
           "#19d3f3",
           "#FF6692",
           "#B6E880",
           "#FF97FF",
           "#FECB52"
          ],
          "font": {
           "color": "#2a3f5f"
          },
          "geo": {
           "bgcolor": "white",
           "lakecolor": "white",
           "landcolor": "white",
           "showlakes": true,
           "showland": true,
           "subunitcolor": "#C8D4E3"
          },
          "hoverlabel": {
           "align": "left"
          },
          "hovermode": "closest",
          "mapbox": {
           "style": "light"
          },
          "paper_bgcolor": "white",
          "plot_bgcolor": "white",
          "polar": {
           "angularaxis": {
            "gridcolor": "#EBF0F8",
            "linecolor": "#EBF0F8",
            "ticks": ""
           },
           "bgcolor": "white",
           "radialaxis": {
            "gridcolor": "#EBF0F8",
            "linecolor": "#EBF0F8",
            "ticks": ""
           }
          },
          "scene": {
           "xaxis": {
            "backgroundcolor": "white",
            "gridcolor": "#DFE8F3",
            "gridwidth": 2,
            "linecolor": "#EBF0F8",
            "showbackground": true,
            "ticks": "",
            "zerolinecolor": "#EBF0F8"
           },
           "yaxis": {
            "backgroundcolor": "white",
            "gridcolor": "#DFE8F3",
            "gridwidth": 2,
            "linecolor": "#EBF0F8",
            "showbackground": true,
            "ticks": "",
            "zerolinecolor": "#EBF0F8"
           },
           "zaxis": {
            "backgroundcolor": "white",
            "gridcolor": "#DFE8F3",
            "gridwidth": 2,
            "linecolor": "#EBF0F8",
            "showbackground": true,
            "ticks": "",
            "zerolinecolor": "#EBF0F8"
           }
          },
          "shapedefaults": {
           "line": {
            "color": "#2a3f5f"
           }
          },
          "ternary": {
           "aaxis": {
            "gridcolor": "#DFE8F3",
            "linecolor": "#A2B1C6",
            "ticks": ""
           },
           "baxis": {
            "gridcolor": "#DFE8F3",
            "linecolor": "#A2B1C6",
            "ticks": ""
           },
           "bgcolor": "white",
           "caxis": {
            "gridcolor": "#DFE8F3",
            "linecolor": "#A2B1C6",
            "ticks": ""
           }
          },
          "title": {
           "x": 0.05
          },
          "xaxis": {
           "automargin": true,
           "gridcolor": "#EBF0F8",
           "linecolor": "#EBF0F8",
           "ticks": "",
           "title": {
            "standoff": 15
           },
           "zerolinecolor": "#EBF0F8",
           "zerolinewidth": 2
          },
          "yaxis": {
           "automargin": true,
           "gridcolor": "#EBF0F8",
           "linecolor": "#EBF0F8",
           "ticks": "",
           "title": {
            "standoff": 15
           },
           "zerolinecolor": "#EBF0F8",
           "zerolinewidth": 2
          }
         }
        },
        "title": {
         "text": "Spring - Top 4 Models by SMAPE (Residence 1)",
         "x": 0.5
        },
        "xaxis": {
         "autorange": true,
         "range": [
          125360,
          125459
         ],
         "title": {
          "text": "Observations"
         },
         "type": "linear"
        },
        "yaxis": {
         "autorange": true,
         "range": [
          266.4166666666667,
          335.0833333333333
         ],
         "title": {
          "text": "Values"
         },
         "type": "linear"
        }
       }
      },
      "text/html": [
       "<div>                            <div id=\"18fb4aed-f983-4e60-90fb-a6e2da6f9c98\" class=\"plotly-graph-div\" style=\"height:400px; width:100%;\"></div>            <script type=\"text/javascript\">                require([\"plotly\"], function(Plotly) {                    window.PLOTLYENV=window.PLOTLYENV || {};                                    if (document.getElementById(\"18fb4aed-f983-4e60-90fb-a6e2da6f9c98\")) {                    Plotly.newPlot(                        \"18fb4aed-f983-4e60-90fb-a6e2da6f9c98\",                        [{\"mode\":\"lines\",\"name\":\"Actual\",\"x\":[125360,125361,125362,125363,125364,125365,125366,125367,125368,125369,125370,125371,125372,125373,125374,125375,125376,125377,125378,125379,125380,125381,125382,125383,125384,125385,125386,125387,125388,125389,125390,125391,125392,125393,125394,125395,125396,125397,125398,125399,125400,125401,125402,125403,125404,125405,125406,125407,125408,125409,125410,125411,125412,125413,125414,125415,125416,125417,125418,125419,125420,125421,125422,125423,125424,125425,125426,125427,125428,125429,125430,125431,125432,125433,125434,125435,125436,125437,125438,125439,125440,125441,125442,125443,125444,125445,125446,125447,125448,125449,125450,125451,125452,125453,125454,125455,125456,125457,125458,125459],\"y\":[277.35,283.05,274.95,289.95,323.1,331.65,298.2,325.5,317.25,307.2,286.8,273.6,272.1,269.85,279.45,282.75,285.6,312.0,301.5,296.85,299.1,277.8,271.05,277.35,283.05,274.95,289.95,323.1,331.65,298.2,325.5,317.25,307.2,286.8,273.6,272.1,269.85,279.45,282.75,281.4,312.0,301.5,296.85,299.1,277.8,271.05,277.35,283.05,274.95,289.95,323.1,331.65,298.2,325.5,317.25,307.2,286.8,273.6,272.1,269.85,279.45,282.75,281.4,304.95,301.5,296.85,299.1,277.8,271.05,277.35,283.05,274.95,289.95,323.1,331.65,298.2,325.5,317.25,307.2,286.8,273.6,272.1,269.85,279.45,282.75,281.4,304.95,307.95,296.85,299.1,277.8,271.05,277.35,283.05,274.95,289.95,323.1,331.65,298.2,325.5],\"type\":\"scatter\"},{\"mode\":\"lines\",\"name\":\"HyperNetLSTMRBF\",\"x\":[125360,125361,125362,125363,125364,125365,125366,125367,125368,125369,125370,125371,125372,125373,125374,125375,125376,125377,125378,125379,125380,125381,125382,125383,125384,125385,125386,125387,125388,125389,125390,125391,125392,125393,125394,125395,125396,125397,125398,125399,125400,125401,125402,125403,125404,125405,125406,125407,125408,125409,125410,125411,125412,125413,125414,125415,125416,125417,125418,125419,125420,125421,125422,125423,125424,125425,125426,125427,125428,125429,125430,125431,125432,125433,125434,125435,125436,125437,125438,125439,125440,125441,125442,125443,125444,125445,125446,125447,125448,125449,125450,125451,125452,125453,125454,125455,125456,125457,125458,125459],\"y\":[294.13284,297.4016,303.3818,308.9022,312.59784,309.2801,301.69388,295.4547,291.19196,287.64902,285.01053,281.4891,283.77298,289.89343,299.1903,305.942,314.316,325.42255,309.32266,295.42188,290.45926,294.06512,288.2908,293.8419,295.5233,300.97186,307.29385,311.28394,310.14255,303.04932,296.479,291.93723,288.3246,285.50833,281.50427,282.4639,287.3639,296.37473,305.21744,307.80038,311.951,322.43817,305.07968,289.04102,286.5358,291.76578,289.2017,295.1787,298.53275,306.0004,311.45126,311.7447,305.34018,297.93524,293.03873,289.446,286.37976,281.96146,281.71796,284.94696,292.3837,301.53406,306.3296,304.04846,312.64996,321.58923,301.64438,285.98212,285.549,291.50793,291.7643,297.3286,304.4206,311.90796,314.63693,308.77066,300.1281,294.02554,290.5619,287.3054,282.42007,281.24118,282.84927,288.3399,296.45038,302.51987,301.85962,295.95456,313.5109,320.2803,299.19052,286.90622,287.6957,293.45444,294.87723,302.9209,312.10843,316.76907,313.36136,303.85602],\"type\":\"scatter\"},{\"mode\":\"lines\",\"name\":\"LSTM\",\"x\":[125360,125361,125362,125363,125364,125365,125366,125367,125368,125369,125370,125371,125372,125373,125374,125375,125376,125377,125378,125379,125380,125381,125382,125383,125384,125385,125386,125387,125388,125389,125390,125391,125392,125393,125394,125395,125396,125397,125398,125399,125400,125401,125402,125403,125404,125405,125406,125407,125408,125409,125410,125411,125412,125413,125414,125415,125416,125417,125418,125419,125420,125421,125422,125423,125424,125425,125426,125427,125428,125429,125430,125431,125432,125433,125434,125435,125436,125437,125438,125439,125440,125441,125442,125443,125444,125445,125446,125447,125448,125449,125450,125451,125452,125453,125454,125455,125456,125457,125458,125459],\"y\":[297.25836,296.03503,296.10913,294.43582,296.88293,292.79272,293.72247,291.922,291.2343,292.78494,289.67328,283.13547,277.55048,275.9686,277.1953,278.02966,309.1119,311.3106,309.64038,307.14148,301.7658,300.35303,298.9492,298.65054,297.17615,297.039,295.17923,297.48114,293.25552,294.0835,292.19858,291.44516,292.9455,289.79285,283.22778,277.62012,276.02164,277.23615,278.0611,281.89722,307.39407,310.88095,309.94278,304.73257,303.12897,301.39276,300.74677,298.92584,298.48364,296.34515,298.42706,293.9914,294.66068,292.6426,291.78497,293.20517,289.9868,283.378,277.73367,276.1084,277.30313,278.11276,281.93738,283.61218,307.6877,311.40076,307.41556,305.97458,304.00818,303.0356,300.8587,300.0953,297.6565,299.50067,294.83182,295.3246,293.15634,292.1803,293.5089,290.2145,283.5553,277.86816,276.2115,277.383,278.17456,281.98563,283.64957,288.54544,308.09592,308.74133,308.7,306.91885,305.73755,303.20618,302.088,299.29776,300.85983,295.9036,296.178,293.8209],\"type\":\"scatter\"},{\"mode\":\"lines\",\"name\":\"ARFFNN\",\"x\":[125360,125361,125362,125363,125364,125365,125366,125367,125368,125369,125370,125371,125372,125373,125374,125375,125376,125377,125378,125379,125380,125381,125382,125383,125384,125385,125386,125387,125388,125389,125390,125391,125392,125393,125394,125395,125396,125397,125398,125399,125400,125401,125402,125403,125404,125405,125406,125407,125408,125409,125410,125411,125412,125413,125414,125415,125416,125417,125418,125419,125420,125421,125422,125423,125424,125425,125426,125427,125428,125429,125430,125431,125432,125433,125434,125435,125436,125437,125438,125439,125440,125441,125442,125443,125444,125445,125446,125447,125448,125449,125450,125451,125452,125453,125454,125455,125456,125457,125458,125459],\"y\":[300.87137,300.02606,301.20862,299.36392,303.93863,296.73065,300.2923,296.74533,296.0481,297.87283,291.07916,297.65125,293.67313,295.2603,297.8002,298.1647,300.995,299.13864,299.61322,300.0675,296.95648,299.38535,299.66263,300.87137,300.02606,301.20862,299.36392,303.93863,296.73065,300.2923,296.74533,296.0481,297.87283,291.07916,297.65125,293.67313,295.2603,297.8002,298.1647,302.25552,299.13864,299.61322,300.0675,296.95648,299.38535,299.66263,300.87137,300.02606,301.20862,299.36392,303.93863,296.73065,300.2923,296.74533,296.0481,297.87283,291.07916,297.65125,293.67313,295.2603,297.8002,298.1647,302.25552,302.22162,299.61322,300.0675,296.95648,299.38535,299.66263,300.87137,300.02606,301.20862,299.36392,303.93863,296.73065,300.2923,296.74533,296.0481,297.87283,291.07916,297.65125,293.67313,295.2603,297.8002,298.1647,302.25552,302.22162,306.93073,300.0675,296.95648,299.38535,299.66263,300.87137,300.02606,301.20862,299.36392,303.93863,296.73065,300.2923,296.74533],\"type\":\"scatter\"},{\"mode\":\"lines\",\"name\":\"HyperNetLSTMPoly\",\"x\":[125360,125361,125362,125363,125364,125365,125366,125367,125368,125369,125370,125371,125372,125373,125374,125375,125376,125377,125378,125379,125380,125381,125382,125383,125384,125385,125386,125387,125388,125389,125390,125391,125392,125393,125394,125395,125396,125397,125398,125399,125400,125401,125402,125403,125404,125405,125406,125407,125408,125409,125410,125411,125412,125413,125414,125415,125416,125417,125418,125419,125420,125421,125422,125423,125424,125425,125426,125427,125428,125429,125430,125431,125432,125433,125434,125435,125436,125437,125438,125439,125440,125441,125442,125443,125444,125445,125446,125447,125448,125449,125450,125451,125452,125453,125454,125455,125456,125457,125458,125459],\"y\":[284.949,285.19434,291.54227,301.07202,310.59778,311.4356,312.8281,315.0631,311.24646,308.52884,308.34882,310.44485,295.91623,286.92493,283.16803,285.42813,303.03912,300.43576,296.9943,296.6273,298.6437,295.31815,289.78403,285.90512,285.7357,288.6739,296.56677,308.1027,312.58292,313.02625,315.57788,315.2181,308.47626,306.62564,306.43,292.63916,284.35748,281.26477,283.98672,283.89056,302.4869,301.88303,297.91064,295.69666,296.80264,291.75244,289.81363,290.12915,292.21942,299.13657,309.25192,313.93933,316.32333,318.48566,316.99683,312.77536,310.55646,308.8939,294.7035,285.42786,280.79416,280.638,279.5233,279.29062,303.38474,303.8152,299.3169,294.80182,294.44122,293.376,294.094,299.52634,305.79227,314.0029,317.22272,319.3232,319.35568,317.42593,315.1432,311.02972,307.8435,294.3215,284.8265,279.7004,278.59055,278.60385,278.3729,280.53436,304.7987,301.46997,296.97287,296.40894,295.1043,296.3856,302.19043,311.37143,317.94147,318.9849,319.5781,319.1738],\"type\":\"scatter\"}],                        {\"template\":{\"data\":{\"barpolar\":[{\"marker\":{\"line\":{\"color\":\"white\",\"width\":0.5},\"pattern\":{\"fillmode\":\"overlay\",\"size\":10,\"solidity\":0.2}},\"type\":\"barpolar\"}],\"bar\":[{\"error_x\":{\"color\":\"#2a3f5f\"},\"error_y\":{\"color\":\"#2a3f5f\"},\"marker\":{\"line\":{\"color\":\"white\",\"width\":0.5},\"pattern\":{\"fillmode\":\"overlay\",\"size\":10,\"solidity\":0.2}},\"type\":\"bar\"}],\"carpet\":[{\"aaxis\":{\"endlinecolor\":\"#2a3f5f\",\"gridcolor\":\"#C8D4E3\",\"linecolor\":\"#C8D4E3\",\"minorgridcolor\":\"#C8D4E3\",\"startlinecolor\":\"#2a3f5f\"},\"baxis\":{\"endlinecolor\":\"#2a3f5f\",\"gridcolor\":\"#C8D4E3\",\"linecolor\":\"#C8D4E3\",\"minorgridcolor\":\"#C8D4E3\",\"startlinecolor\":\"#2a3f5f\"},\"type\":\"carpet\"}],\"choropleth\":[{\"colorbar\":{\"outlinewidth\":0,\"ticks\":\"\"},\"type\":\"choropleth\"}],\"contourcarpet\":[{\"colorbar\":{\"outlinewidth\":0,\"ticks\":\"\"},\"type\":\"contourcarpet\"}],\"contour\":[{\"colorbar\":{\"outlinewidth\":0,\"ticks\":\"\"},\"colorscale\":[[0.0,\"#0d0887\"],[0.1111111111111111,\"#46039f\"],[0.2222222222222222,\"#7201a8\"],[0.3333333333333333,\"#9c179e\"],[0.4444444444444444,\"#bd3786\"],[0.5555555555555556,\"#d8576b\"],[0.6666666666666666,\"#ed7953\"],[0.7777777777777778,\"#fb9f3a\"],[0.8888888888888888,\"#fdca26\"],[1.0,\"#f0f921\"]],\"type\":\"contour\"}],\"heatmapgl\":[{\"colorbar\":{\"outlinewidth\":0,\"ticks\":\"\"},\"colorscale\":[[0.0,\"#0d0887\"],[0.1111111111111111,\"#46039f\"],[0.2222222222222222,\"#7201a8\"],[0.3333333333333333,\"#9c179e\"],[0.4444444444444444,\"#bd3786\"],[0.5555555555555556,\"#d8576b\"],[0.6666666666666666,\"#ed7953\"],[0.7777777777777778,\"#fb9f3a\"],[0.8888888888888888,\"#fdca26\"],[1.0,\"#f0f921\"]],\"type\":\"heatmapgl\"}],\"heatmap\":[{\"colorbar\":{\"outlinewidth\":0,\"ticks\":\"\"},\"colorscale\":[[0.0,\"#0d0887\"],[0.1111111111111111,\"#46039f\"],[0.2222222222222222,\"#7201a8\"],[0.3333333333333333,\"#9c179e\"],[0.4444444444444444,\"#bd3786\"],[0.5555555555555556,\"#d8576b\"],[0.6666666666666666,\"#ed7953\"],[0.7777777777777778,\"#fb9f3a\"],[0.8888888888888888,\"#fdca26\"],[1.0,\"#f0f921\"]],\"type\":\"heatmap\"}],\"histogram2dcontour\":[{\"colorbar\":{\"outlinewidth\":0,\"ticks\":\"\"},\"colorscale\":[[0.0,\"#0d0887\"],[0.1111111111111111,\"#46039f\"],[0.2222222222222222,\"#7201a8\"],[0.3333333333333333,\"#9c179e\"],[0.4444444444444444,\"#bd3786\"],[0.5555555555555556,\"#d8576b\"],[0.6666666666666666,\"#ed7953\"],[0.7777777777777778,\"#fb9f3a\"],[0.8888888888888888,\"#fdca26\"],[1.0,\"#f0f921\"]],\"type\":\"histogram2dcontour\"}],\"histogram2d\":[{\"colorbar\":{\"outlinewidth\":0,\"ticks\":\"\"},\"colorscale\":[[0.0,\"#0d0887\"],[0.1111111111111111,\"#46039f\"],[0.2222222222222222,\"#7201a8\"],[0.3333333333333333,\"#9c179e\"],[0.4444444444444444,\"#bd3786\"],[0.5555555555555556,\"#d8576b\"],[0.6666666666666666,\"#ed7953\"],[0.7777777777777778,\"#fb9f3a\"],[0.8888888888888888,\"#fdca26\"],[1.0,\"#f0f921\"]],\"type\":\"histogram2d\"}],\"histogram\":[{\"marker\":{\"pattern\":{\"fillmode\":\"overlay\",\"size\":10,\"solidity\":0.2}},\"type\":\"histogram\"}],\"mesh3d\":[{\"colorbar\":{\"outlinewidth\":0,\"ticks\":\"\"},\"type\":\"mesh3d\"}],\"parcoords\":[{\"line\":{\"colorbar\":{\"outlinewidth\":0,\"ticks\":\"\"}},\"type\":\"parcoords\"}],\"pie\":[{\"automargin\":true,\"type\":\"pie\"}],\"scatter3d\":[{\"line\":{\"colorbar\":{\"outlinewidth\":0,\"ticks\":\"\"}},\"marker\":{\"colorbar\":{\"outlinewidth\":0,\"ticks\":\"\"}},\"type\":\"scatter3d\"}],\"scattercarpet\":[{\"marker\":{\"colorbar\":{\"outlinewidth\":0,\"ticks\":\"\"}},\"type\":\"scattercarpet\"}],\"scattergeo\":[{\"marker\":{\"colorbar\":{\"outlinewidth\":0,\"ticks\":\"\"}},\"type\":\"scattergeo\"}],\"scattergl\":[{\"marker\":{\"colorbar\":{\"outlinewidth\":0,\"ticks\":\"\"}},\"type\":\"scattergl\"}],\"scattermapbox\":[{\"marker\":{\"colorbar\":{\"outlinewidth\":0,\"ticks\":\"\"}},\"type\":\"scattermapbox\"}],\"scatterpolargl\":[{\"marker\":{\"colorbar\":{\"outlinewidth\":0,\"ticks\":\"\"}},\"type\":\"scatterpolargl\"}],\"scatterpolar\":[{\"marker\":{\"colorbar\":{\"outlinewidth\":0,\"ticks\":\"\"}},\"type\":\"scatterpolar\"}],\"scatter\":[{\"fillpattern\":{\"fillmode\":\"overlay\",\"size\":10,\"solidity\":0.2},\"type\":\"scatter\"}],\"scatterternary\":[{\"marker\":{\"colorbar\":{\"outlinewidth\":0,\"ticks\":\"\"}},\"type\":\"scatterternary\"}],\"surface\":[{\"colorbar\":{\"outlinewidth\":0,\"ticks\":\"\"},\"colorscale\":[[0.0,\"#0d0887\"],[0.1111111111111111,\"#46039f\"],[0.2222222222222222,\"#7201a8\"],[0.3333333333333333,\"#9c179e\"],[0.4444444444444444,\"#bd3786\"],[0.5555555555555556,\"#d8576b\"],[0.6666666666666666,\"#ed7953\"],[0.7777777777777778,\"#fb9f3a\"],[0.8888888888888888,\"#fdca26\"],[1.0,\"#f0f921\"]],\"type\":\"surface\"}],\"table\":[{\"cells\":{\"fill\":{\"color\":\"#EBF0F8\"},\"line\":{\"color\":\"white\"}},\"header\":{\"fill\":{\"color\":\"#C8D4E3\"},\"line\":{\"color\":\"white\"}},\"type\":\"table\"}]},\"layout\":{\"annotationdefaults\":{\"arrowcolor\":\"#2a3f5f\",\"arrowhead\":0,\"arrowwidth\":1},\"autotypenumbers\":\"strict\",\"coloraxis\":{\"colorbar\":{\"outlinewidth\":0,\"ticks\":\"\"}},\"colorscale\":{\"diverging\":[[0,\"#8e0152\"],[0.1,\"#c51b7d\"],[0.2,\"#de77ae\"],[0.3,\"#f1b6da\"],[0.4,\"#fde0ef\"],[0.5,\"#f7f7f7\"],[0.6,\"#e6f5d0\"],[0.7,\"#b8e186\"],[0.8,\"#7fbc41\"],[0.9,\"#4d9221\"],[1,\"#276419\"]],\"sequential\":[[0.0,\"#0d0887\"],[0.1111111111111111,\"#46039f\"],[0.2222222222222222,\"#7201a8\"],[0.3333333333333333,\"#9c179e\"],[0.4444444444444444,\"#bd3786\"],[0.5555555555555556,\"#d8576b\"],[0.6666666666666666,\"#ed7953\"],[0.7777777777777778,\"#fb9f3a\"],[0.8888888888888888,\"#fdca26\"],[1.0,\"#f0f921\"]],\"sequentialminus\":[[0.0,\"#0d0887\"],[0.1111111111111111,\"#46039f\"],[0.2222222222222222,\"#7201a8\"],[0.3333333333333333,\"#9c179e\"],[0.4444444444444444,\"#bd3786\"],[0.5555555555555556,\"#d8576b\"],[0.6666666666666666,\"#ed7953\"],[0.7777777777777778,\"#fb9f3a\"],[0.8888888888888888,\"#fdca26\"],[1.0,\"#f0f921\"]]},\"colorway\":[\"#636efa\",\"#EF553B\",\"#00cc96\",\"#ab63fa\",\"#FFA15A\",\"#19d3f3\",\"#FF6692\",\"#B6E880\",\"#FF97FF\",\"#FECB52\"],\"font\":{\"color\":\"#2a3f5f\"},\"geo\":{\"bgcolor\":\"white\",\"lakecolor\":\"white\",\"landcolor\":\"white\",\"showlakes\":true,\"showland\":true,\"subunitcolor\":\"#C8D4E3\"},\"hoverlabel\":{\"align\":\"left\"},\"hovermode\":\"closest\",\"mapbox\":{\"style\":\"light\"},\"paper_bgcolor\":\"white\",\"plot_bgcolor\":\"white\",\"polar\":{\"angularaxis\":{\"gridcolor\":\"#EBF0F8\",\"linecolor\":\"#EBF0F8\",\"ticks\":\"\"},\"bgcolor\":\"white\",\"radialaxis\":{\"gridcolor\":\"#EBF0F8\",\"linecolor\":\"#EBF0F8\",\"ticks\":\"\"}},\"scene\":{\"xaxis\":{\"backgroundcolor\":\"white\",\"gridcolor\":\"#DFE8F3\",\"gridwidth\":2,\"linecolor\":\"#EBF0F8\",\"showbackground\":true,\"ticks\":\"\",\"zerolinecolor\":\"#EBF0F8\"},\"yaxis\":{\"backgroundcolor\":\"white\",\"gridcolor\":\"#DFE8F3\",\"gridwidth\":2,\"linecolor\":\"#EBF0F8\",\"showbackground\":true,\"ticks\":\"\",\"zerolinecolor\":\"#EBF0F8\"},\"zaxis\":{\"backgroundcolor\":\"white\",\"gridcolor\":\"#DFE8F3\",\"gridwidth\":2,\"linecolor\":\"#EBF0F8\",\"showbackground\":true,\"ticks\":\"\",\"zerolinecolor\":\"#EBF0F8\"}},\"shapedefaults\":{\"line\":{\"color\":\"#2a3f5f\"}},\"ternary\":{\"aaxis\":{\"gridcolor\":\"#DFE8F3\",\"linecolor\":\"#A2B1C6\",\"ticks\":\"\"},\"baxis\":{\"gridcolor\":\"#DFE8F3\",\"linecolor\":\"#A2B1C6\",\"ticks\":\"\"},\"bgcolor\":\"white\",\"caxis\":{\"gridcolor\":\"#DFE8F3\",\"linecolor\":\"#A2B1C6\",\"ticks\":\"\"}},\"title\":{\"x\":0.05},\"xaxis\":{\"automargin\":true,\"gridcolor\":\"#EBF0F8\",\"linecolor\":\"#EBF0F8\",\"ticks\":\"\",\"title\":{\"standoff\":15},\"zerolinecolor\":\"#EBF0F8\",\"zerolinewidth\":2},\"yaxis\":{\"automargin\":true,\"gridcolor\":\"#EBF0F8\",\"linecolor\":\"#EBF0F8\",\"ticks\":\"\",\"title\":{\"standoff\":15},\"zerolinecolor\":\"#EBF0F8\",\"zerolinewidth\":2}}},\"title\":{\"text\":\"Spring - Top 4 Models by SMAPE (Residence 1)\",\"x\":0.5},\"xaxis\":{\"title\":{\"text\":\"Observations\"}},\"yaxis\":{\"title\":{\"text\":\"Values\"}},\"legend\":{\"title\":{\"text\":\"Models\"}},\"height\":400},                        {\"responsive\": true}                    ).then(function(){\n",
       "                            \n",
       "var gd = document.getElementById('18fb4aed-f983-4e60-90fb-a6e2da6f9c98');\n",
       "var x = new MutationObserver(function (mutations, observer) {{\n",
       "        var display = window.getComputedStyle(gd).display;\n",
       "        if (!display || display === 'none') {{\n",
       "            console.log([gd, 'removed!']);\n",
       "            Plotly.purge(gd);\n",
       "            observer.disconnect();\n",
       "        }}\n",
       "}});\n",
       "\n",
       "// Listen for the removal of the full notebook cells\n",
       "var notebookContainer = gd.closest('#notebook-container');\n",
       "if (notebookContainer) {{\n",
       "    x.observe(notebookContainer, {childList: true});\n",
       "}}\n",
       "\n",
       "// Listen for the clearing of the current output cell\n",
       "var outputEl = gd.closest('.output');\n",
       "if (outputEl) {{\n",
       "    x.observe(outputEl, {childList: true});\n",
       "}}\n",
       "\n",
       "                        })                };                });            </script>        </div>"
      ]
     },
     "metadata": {},
     "output_type": "display_data"
    },
    {
     "data": {
      "application/vnd.plotly.v1+json": {
       "config": {
        "plotlyServerURL": "https://plot.ly"
       },
       "data": [
        {
         "mode": "lines",
         "name": "Actual",
         "type": "scatter",
         "x": [
          125360,
          125361,
          125362,
          125363,
          125364,
          125365,
          125366,
          125367,
          125368,
          125369,
          125370,
          125371,
          125372,
          125373,
          125374,
          125375,
          125376,
          125377,
          125378,
          125379,
          125380,
          125381,
          125382,
          125383,
          125384,
          125385,
          125386,
          125387,
          125388,
          125389,
          125390,
          125391,
          125392,
          125393,
          125394,
          125395,
          125396,
          125397,
          125398,
          125399,
          125400,
          125401,
          125402,
          125403,
          125404,
          125405,
          125406,
          125407,
          125408,
          125409,
          125410,
          125411,
          125412,
          125413,
          125414,
          125415,
          125416,
          125417,
          125418,
          125419,
          125420,
          125421,
          125422,
          125423,
          125424,
          125425,
          125426,
          125427,
          125428,
          125429,
          125430,
          125431,
          125432,
          125433,
          125434,
          125435,
          125436,
          125437,
          125438,
          125439,
          125440,
          125441,
          125442,
          125443,
          125444,
          125445,
          125446,
          125447,
          125448,
          125449,
          125450,
          125451,
          125452,
          125453,
          125454,
          125455,
          125456,
          125457,
          125458,
          125459
         ],
         "y": [
          263.52,
          278.28,
          259.08,
          248.88,
          252.24,
          257.52,
          245.4,
          228.72,
          237.12,
          233.04,
          217.2,
          204,
          188.28,
          182.28,
          177.72,
          188.16,
          217.8,
          242.52,
          237.36,
          244.08,
          243.84,
          268.2,
          261,
          263.52,
          278.28,
          259.08,
          248.88,
          252.24,
          257.52,
          245.4,
          228.72,
          237.12,
          233.04,
          217.2,
          204,
          188.28,
          182.28,
          177.72,
          188.16,
          205.2,
          242.52,
          237.36,
          244.08,
          243.84,
          268.2,
          261,
          263.52,
          278.28,
          259.08,
          248.88,
          252.24,
          257.52,
          245.4,
          228.72,
          237.12,
          233.04,
          217.2,
          204,
          188.28,
          182.28,
          177.72,
          188.16,
          205.2,
          209.52,
          237.36,
          244.08,
          243.84,
          268.2,
          261,
          263.52,
          278.28,
          259.08,
          248.88,
          252.24,
          257.52,
          245.4,
          228.72,
          237.12,
          233.04,
          217.2,
          204,
          188.28,
          182.28,
          177.72,
          188.16,
          205.2,
          209.52,
          225.12,
          244.08,
          243.84,
          268.2,
          261,
          263.52,
          278.28,
          259.08,
          248.88,
          252.24,
          257.52,
          245.4,
          228.72
         ]
        },
        {
         "mode": "lines",
         "name": "HyperNetLSTMRBF",
         "type": "scatter",
         "x": [
          125360,
          125361,
          125362,
          125363,
          125364,
          125365,
          125366,
          125367,
          125368,
          125369,
          125370,
          125371,
          125372,
          125373,
          125374,
          125375,
          125376,
          125377,
          125378,
          125379,
          125380,
          125381,
          125382,
          125383,
          125384,
          125385,
          125386,
          125387,
          125388,
          125389,
          125390,
          125391,
          125392,
          125393,
          125394,
          125395,
          125396,
          125397,
          125398,
          125399,
          125400,
          125401,
          125402,
          125403,
          125404,
          125405,
          125406,
          125407,
          125408,
          125409,
          125410,
          125411,
          125412,
          125413,
          125414,
          125415,
          125416,
          125417,
          125418,
          125419,
          125420,
          125421,
          125422,
          125423,
          125424,
          125425,
          125426,
          125427,
          125428,
          125429,
          125430,
          125431,
          125432,
          125433,
          125434,
          125435,
          125436,
          125437,
          125438,
          125439,
          125440,
          125441,
          125442,
          125443,
          125444,
          125445,
          125446,
          125447,
          125448,
          125449,
          125450,
          125451,
          125452,
          125453,
          125454,
          125455,
          125456,
          125457,
          125458,
          125459
         ],
         "y": [
          241.38657,
          242.20044,
          245.13434,
          250.814,
          258.6038,
          265.16718,
          266.52008,
          261.8673,
          253.58656,
          240.76717,
          225.58159,
          204.66728,
          195.72514,
          189.88103,
          184.58162,
          184.28215,
          208.96498,
          214.97726,
          223.0302,
          226.37976,
          234.1087,
          240.52725,
          248.22879,
          243.13751,
          243.92886,
          244.80058,
          249.72816,
          256.2253,
          263.93927,
          266.5562,
          262.19385,
          253.78058,
          240.71109,
          224.79684,
          203.12352,
          193.01036,
          187.33997,
          182.88309,
          182.06125,
          194.72733,
          208.3766,
          216.91956,
          222.4504,
          227.1624,
          235.62466,
          244.79857,
          249.8851,
          245.92264,
          245.61594,
          248.7685,
          255.79184,
          262.25775,
          266.38443,
          262.97015,
          254.93582,
          242.00983,
          225.99667,
          204.3902,
          192.88945,
          186.3779,
          182.76035,
          180.24524,
          191.3525,
          210.41985,
          214.59987,
          222.60263,
          226.11978,
          231.08356,
          239.34744,
          246.83649,
          250.48285,
          248.16522,
          248.51172,
          255.28297,
          263.24176,
          266.47635,
          263.23932,
          255.1399,
          241.73157,
          225.47873,
          204.68536,
          192.90703,
          185.53647,
          182.11647,
          179.33012,
          189.45915,
          209.90529,
          223.37064,
          212.96762,
          224.09865,
          226.49414,
          231.65945,
          241.0127,
          245.39517,
          248.9909,
          249.37756,
          253.62836,
          261.63867,
          266.48862,
          263.7245
         ]
        },
        {
         "mode": "lines",
         "name": "HyperNetLSTMPoly",
         "type": "scatter",
         "x": [
          125360,
          125361,
          125362,
          125363,
          125364,
          125365,
          125366,
          125367,
          125368,
          125369,
          125370,
          125371,
          125372,
          125373,
          125374,
          125375,
          125376,
          125377,
          125378,
          125379,
          125380,
          125381,
          125382,
          125383,
          125384,
          125385,
          125386,
          125387,
          125388,
          125389,
          125390,
          125391,
          125392,
          125393,
          125394,
          125395,
          125396,
          125397,
          125398,
          125399,
          125400,
          125401,
          125402,
          125403,
          125404,
          125405,
          125406,
          125407,
          125408,
          125409,
          125410,
          125411,
          125412,
          125413,
          125414,
          125415,
          125416,
          125417,
          125418,
          125419,
          125420,
          125421,
          125422,
          125423,
          125424,
          125425,
          125426,
          125427,
          125428,
          125429,
          125430,
          125431,
          125432,
          125433,
          125434,
          125435,
          125436,
          125437,
          125438,
          125439,
          125440,
          125441,
          125442,
          125443,
          125444,
          125445,
          125446,
          125447,
          125448,
          125449,
          125450,
          125451,
          125452,
          125453,
          125454,
          125455,
          125456,
          125457,
          125458,
          125459
         ],
         "y": [
          254.17697,
          260.44443,
          265.4485,
          267.88483,
          269.33722,
          270.66586,
          270.60983,
          272.46118,
          272.07935,
          270.54953,
          263.7948,
          224.08672,
          204.8122,
          193.1517,
          190.95879,
          187.85977,
          210.2737,
          222.92285,
          237.52216,
          232.38391,
          230.44763,
          230.91522,
          238.55092,
          252.69427,
          259.83966,
          265.79813,
          271.67297,
          273.417,
          274.93637,
          274.4973,
          274.0791,
          274.0578,
          272.1714,
          265.19788,
          224.06735,
          203.80228,
          193.05891,
          191.59546,
          189.3879,
          200.59982,
          214.4425,
          229.01788,
          242.20705,
          234.86993,
          235.68982,
          236.6673,
          244.90901,
          261.32288,
          267.57672,
          273.22424,
          276.98303,
          277.40213,
          277.70685,
          276.65286,
          275.4663,
          272.40433,
          262.6444,
          218.2336,
          201.28696,
          190.95538,
          189.0459,
          189.63298,
          201.45186,
          210.81094,
          219.2009,
          240.6663,
          250.88644,
          247.87129,
          248.37248,
          253.98373,
          262.49066,
          266.4591,
          270.4275,
          273.792,
          274.6751,
          276.07852,
          277.3588,
          276.13303,
          274.06714,
          265.49286,
          222.25781,
          199.16023,
          192.84444,
          193.05188,
          191.7446,
          203.61807,
          213.4863,
          220.873,
          223.51398,
          240.78842,
          250.3855,
          254.04356,
          255.20206,
          261.50003,
          266.50574,
          272.7237,
          275.61246,
          278.17346,
          277.32935,
          277.8878
         ]
        },
        {
         "mode": "lines",
         "name": "AttentionLSTM",
         "type": "scatter",
         "x": [
          125360,
          125361,
          125362,
          125363,
          125364,
          125365,
          125366,
          125367,
          125368,
          125369,
          125370,
          125371,
          125372,
          125373,
          125374,
          125375,
          125376,
          125377,
          125378,
          125379,
          125380,
          125381,
          125382,
          125383,
          125384,
          125385,
          125386,
          125387,
          125388,
          125389,
          125390,
          125391,
          125392,
          125393,
          125394,
          125395,
          125396,
          125397,
          125398,
          125399,
          125400,
          125401,
          125402,
          125403,
          125404,
          125405,
          125406,
          125407,
          125408,
          125409,
          125410,
          125411,
          125412,
          125413,
          125414,
          125415,
          125416,
          125417,
          125418,
          125419,
          125420,
          125421,
          125422,
          125423,
          125424,
          125425,
          125426,
          125427,
          125428,
          125429,
          125430,
          125431,
          125432,
          125433,
          125434,
          125435,
          125436,
          125437,
          125438,
          125439,
          125440,
          125441,
          125442,
          125443,
          125444,
          125445,
          125446,
          125447,
          125448,
          125449,
          125450,
          125451,
          125452,
          125453,
          125454,
          125455,
          125456,
          125457,
          125458,
          125459
         ],
         "y": [
          253.3328,
          253.87895,
          254.15305,
          254.16675,
          253.40564,
          249.82996,
          238.79091,
          221.00986,
          207.32896,
          201.09506,
          199.09152,
          183.36064,
          176.20676,
          176.7078,
          178.90948,
          181.87192,
          194.05519,
          206.28857,
          221.75275,
          235.35553,
          244.81819,
          250.08376,
          252.37723,
          253.33383,
          253.8794,
          254.15324,
          254.16685,
          253.40576,
          249.83011,
          238.79112,
          221.01004,
          207.32909,
          201.09517,
          199.09161,
          183.36067,
          176.20677,
          176.70781,
          178.9095,
          181.87192,
          185.6048,
          209.23087,
          220.06604,
          236.41084,
          244.5014,
          250.13092,
          252.37756,
          253.33492,
          253.87979,
          254.15341,
          254.16696,
          253.40591,
          249.83035,
          238.79141,
          221.0103,
          207.32922,
          201.0953,
          199.09174,
          183.36072,
          176.20679,
          176.70782,
          178.9095,
          181.87193,
          185.6048,
          193.53946,
          233.47174,
          228.09659,
          246.88774,
          249.82178,
          252.3952,
          253.33553,
          253.8801,
          254.15353,
          254.16708,
          253.40607,
          249.83061,
          238.79181,
          221.0106,
          207.32947,
          201.09549,
          199.0919,
          183.36076,
          176.20682,
          176.70784,
          178.90952,
          181.87193,
          185.6048,
          193.53946,
          208.95609,
          247.65062,
          240.26411,
          250.65863,
          252.35815,
          253.33734,
          253.88043,
          254.15372,
          254.1673,
          253.40636,
          249.83102,
          238.79228,
          221.011
         ]
        },
        {
         "mode": "lines",
         "name": "ARFFNN",
         "type": "scatter",
         "x": [
          125360,
          125361,
          125362,
          125363,
          125364,
          125365,
          125366,
          125367,
          125368,
          125369,
          125370,
          125371,
          125372,
          125373,
          125374,
          125375,
          125376,
          125377,
          125378,
          125379,
          125380,
          125381,
          125382,
          125383,
          125384,
          125385,
          125386,
          125387,
          125388,
          125389,
          125390,
          125391,
          125392,
          125393,
          125394,
          125395,
          125396,
          125397,
          125398,
          125399,
          125400,
          125401,
          125402,
          125403,
          125404,
          125405,
          125406,
          125407,
          125408,
          125409,
          125410,
          125411,
          125412,
          125413,
          125414,
          125415,
          125416,
          125417,
          125418,
          125419,
          125420,
          125421,
          125422,
          125423,
          125424,
          125425,
          125426,
          125427,
          125428,
          125429,
          125430,
          125431,
          125432,
          125433,
          125434,
          125435,
          125436,
          125437,
          125438,
          125439,
          125440,
          125441,
          125442,
          125443,
          125444,
          125445,
          125446,
          125447,
          125448,
          125449,
          125450,
          125451,
          125452,
          125453,
          125454,
          125455,
          125456,
          125457,
          125458,
          125459
         ],
         "y": [
          235.15344,
          238.93329,
          241.78922,
          244.27274,
          247.30034,
          248.51256,
          245.71753,
          243.30557,
          240.11484,
          237.76422,
          230.88629,
          194.80309,
          196.38805,
          198.20006,
          200.04086,
          203.68529,
          211.38516,
          214.98956,
          221.35841,
          223.02711,
          226.21428,
          231.77316,
          233.51514,
          235.15344,
          238.93329,
          241.78922,
          244.27274,
          247.30034,
          248.51256,
          245.71753,
          243.30557,
          240.11484,
          237.76422,
          230.88629,
          194.80309,
          196.38805,
          198.20006,
          200.04086,
          203.68529,
          208.8106,
          214.98956,
          221.35841,
          223.02711,
          226.21428,
          231.77316,
          233.51514,
          235.15344,
          238.93329,
          241.78922,
          244.27274,
          247.30034,
          248.51256,
          245.71753,
          243.30557,
          240.11484,
          237.76422,
          230.88629,
          194.80309,
          196.38805,
          198.20006,
          200.04086,
          203.68529,
          208.8106,
          212.98712,
          221.35841,
          223.02711,
          226.21428,
          231.77316,
          233.51514,
          235.15344,
          238.93329,
          241.78922,
          244.27274,
          247.30034,
          248.51256,
          245.71753,
          243.30557,
          240.11484,
          237.76422,
          230.88629,
          194.80309,
          196.38805,
          198.20006,
          200.04086,
          203.68529,
          208.8106,
          212.98712,
          220.61673,
          223.02711,
          226.21428,
          231.77316,
          233.51514,
          235.15344,
          238.93329,
          241.78922,
          244.27274,
          247.30034,
          248.51256,
          245.71753,
          243.30557
         ]
        }
       ],
       "layout": {
        "autosize": true,
        "legend": {
         "title": {
          "text": "Models"
         }
        },
        "template": {
         "data": {
          "bar": [
           {
            "error_x": {
             "color": "#2a3f5f"
            },
            "error_y": {
             "color": "#2a3f5f"
            },
            "marker": {
             "line": {
              "color": "white",
              "width": 0.5
             },
             "pattern": {
              "fillmode": "overlay",
              "size": 10,
              "solidity": 0.2
             }
            },
            "type": "bar"
           }
          ],
          "barpolar": [
           {
            "marker": {
             "line": {
              "color": "white",
              "width": 0.5
             },
             "pattern": {
              "fillmode": "overlay",
              "size": 10,
              "solidity": 0.2
             }
            },
            "type": "barpolar"
           }
          ],
          "carpet": [
           {
            "aaxis": {
             "endlinecolor": "#2a3f5f",
             "gridcolor": "#C8D4E3",
             "linecolor": "#C8D4E3",
             "minorgridcolor": "#C8D4E3",
             "startlinecolor": "#2a3f5f"
            },
            "baxis": {
             "endlinecolor": "#2a3f5f",
             "gridcolor": "#C8D4E3",
             "linecolor": "#C8D4E3",
             "minorgridcolor": "#C8D4E3",
             "startlinecolor": "#2a3f5f"
            },
            "type": "carpet"
           }
          ],
          "choropleth": [
           {
            "colorbar": {
             "outlinewidth": 0,
             "ticks": ""
            },
            "type": "choropleth"
           }
          ],
          "contour": [
           {
            "colorbar": {
             "outlinewidth": 0,
             "ticks": ""
            },
            "colorscale": [
             [
              0,
              "#0d0887"
             ],
             [
              0.1111111111111111,
              "#46039f"
             ],
             [
              0.2222222222222222,
              "#7201a8"
             ],
             [
              0.3333333333333333,
              "#9c179e"
             ],
             [
              0.4444444444444444,
              "#bd3786"
             ],
             [
              0.5555555555555556,
              "#d8576b"
             ],
             [
              0.6666666666666666,
              "#ed7953"
             ],
             [
              0.7777777777777778,
              "#fb9f3a"
             ],
             [
              0.8888888888888888,
              "#fdca26"
             ],
             [
              1,
              "#f0f921"
             ]
            ],
            "type": "contour"
           }
          ],
          "contourcarpet": [
           {
            "colorbar": {
             "outlinewidth": 0,
             "ticks": ""
            },
            "type": "contourcarpet"
           }
          ],
          "heatmap": [
           {
            "colorbar": {
             "outlinewidth": 0,
             "ticks": ""
            },
            "colorscale": [
             [
              0,
              "#0d0887"
             ],
             [
              0.1111111111111111,
              "#46039f"
             ],
             [
              0.2222222222222222,
              "#7201a8"
             ],
             [
              0.3333333333333333,
              "#9c179e"
             ],
             [
              0.4444444444444444,
              "#bd3786"
             ],
             [
              0.5555555555555556,
              "#d8576b"
             ],
             [
              0.6666666666666666,
              "#ed7953"
             ],
             [
              0.7777777777777778,
              "#fb9f3a"
             ],
             [
              0.8888888888888888,
              "#fdca26"
             ],
             [
              1,
              "#f0f921"
             ]
            ],
            "type": "heatmap"
           }
          ],
          "heatmapgl": [
           {
            "colorbar": {
             "outlinewidth": 0,
             "ticks": ""
            },
            "colorscale": [
             [
              0,
              "#0d0887"
             ],
             [
              0.1111111111111111,
              "#46039f"
             ],
             [
              0.2222222222222222,
              "#7201a8"
             ],
             [
              0.3333333333333333,
              "#9c179e"
             ],
             [
              0.4444444444444444,
              "#bd3786"
             ],
             [
              0.5555555555555556,
              "#d8576b"
             ],
             [
              0.6666666666666666,
              "#ed7953"
             ],
             [
              0.7777777777777778,
              "#fb9f3a"
             ],
             [
              0.8888888888888888,
              "#fdca26"
             ],
             [
              1,
              "#f0f921"
             ]
            ],
            "type": "heatmapgl"
           }
          ],
          "histogram": [
           {
            "marker": {
             "pattern": {
              "fillmode": "overlay",
              "size": 10,
              "solidity": 0.2
             }
            },
            "type": "histogram"
           }
          ],
          "histogram2d": [
           {
            "colorbar": {
             "outlinewidth": 0,
             "ticks": ""
            },
            "colorscale": [
             [
              0,
              "#0d0887"
             ],
             [
              0.1111111111111111,
              "#46039f"
             ],
             [
              0.2222222222222222,
              "#7201a8"
             ],
             [
              0.3333333333333333,
              "#9c179e"
             ],
             [
              0.4444444444444444,
              "#bd3786"
             ],
             [
              0.5555555555555556,
              "#d8576b"
             ],
             [
              0.6666666666666666,
              "#ed7953"
             ],
             [
              0.7777777777777778,
              "#fb9f3a"
             ],
             [
              0.8888888888888888,
              "#fdca26"
             ],
             [
              1,
              "#f0f921"
             ]
            ],
            "type": "histogram2d"
           }
          ],
          "histogram2dcontour": [
           {
            "colorbar": {
             "outlinewidth": 0,
             "ticks": ""
            },
            "colorscale": [
             [
              0,
              "#0d0887"
             ],
             [
              0.1111111111111111,
              "#46039f"
             ],
             [
              0.2222222222222222,
              "#7201a8"
             ],
             [
              0.3333333333333333,
              "#9c179e"
             ],
             [
              0.4444444444444444,
              "#bd3786"
             ],
             [
              0.5555555555555556,
              "#d8576b"
             ],
             [
              0.6666666666666666,
              "#ed7953"
             ],
             [
              0.7777777777777778,
              "#fb9f3a"
             ],
             [
              0.8888888888888888,
              "#fdca26"
             ],
             [
              1,
              "#f0f921"
             ]
            ],
            "type": "histogram2dcontour"
           }
          ],
          "mesh3d": [
           {
            "colorbar": {
             "outlinewidth": 0,
             "ticks": ""
            },
            "type": "mesh3d"
           }
          ],
          "parcoords": [
           {
            "line": {
             "colorbar": {
              "outlinewidth": 0,
              "ticks": ""
             }
            },
            "type": "parcoords"
           }
          ],
          "pie": [
           {
            "automargin": true,
            "type": "pie"
           }
          ],
          "scatter": [
           {
            "fillpattern": {
             "fillmode": "overlay",
             "size": 10,
             "solidity": 0.2
            },
            "type": "scatter"
           }
          ],
          "scatter3d": [
           {
            "line": {
             "colorbar": {
              "outlinewidth": 0,
              "ticks": ""
             }
            },
            "marker": {
             "colorbar": {
              "outlinewidth": 0,
              "ticks": ""
             }
            },
            "type": "scatter3d"
           }
          ],
          "scattercarpet": [
           {
            "marker": {
             "colorbar": {
              "outlinewidth": 0,
              "ticks": ""
             }
            },
            "type": "scattercarpet"
           }
          ],
          "scattergeo": [
           {
            "marker": {
             "colorbar": {
              "outlinewidth": 0,
              "ticks": ""
             }
            },
            "type": "scattergeo"
           }
          ],
          "scattergl": [
           {
            "marker": {
             "colorbar": {
              "outlinewidth": 0,
              "ticks": ""
             }
            },
            "type": "scattergl"
           }
          ],
          "scattermapbox": [
           {
            "marker": {
             "colorbar": {
              "outlinewidth": 0,
              "ticks": ""
             }
            },
            "type": "scattermapbox"
           }
          ],
          "scatterpolar": [
           {
            "marker": {
             "colorbar": {
              "outlinewidth": 0,
              "ticks": ""
             }
            },
            "type": "scatterpolar"
           }
          ],
          "scatterpolargl": [
           {
            "marker": {
             "colorbar": {
              "outlinewidth": 0,
              "ticks": ""
             }
            },
            "type": "scatterpolargl"
           }
          ],
          "scatterternary": [
           {
            "marker": {
             "colorbar": {
              "outlinewidth": 0,
              "ticks": ""
             }
            },
            "type": "scatterternary"
           }
          ],
          "surface": [
           {
            "colorbar": {
             "outlinewidth": 0,
             "ticks": ""
            },
            "colorscale": [
             [
              0,
              "#0d0887"
             ],
             [
              0.1111111111111111,
              "#46039f"
             ],
             [
              0.2222222222222222,
              "#7201a8"
             ],
             [
              0.3333333333333333,
              "#9c179e"
             ],
             [
              0.4444444444444444,
              "#bd3786"
             ],
             [
              0.5555555555555556,
              "#d8576b"
             ],
             [
              0.6666666666666666,
              "#ed7953"
             ],
             [
              0.7777777777777778,
              "#fb9f3a"
             ],
             [
              0.8888888888888888,
              "#fdca26"
             ],
             [
              1,
              "#f0f921"
             ]
            ],
            "type": "surface"
           }
          ],
          "table": [
           {
            "cells": {
             "fill": {
              "color": "#EBF0F8"
             },
             "line": {
              "color": "white"
             }
            },
            "header": {
             "fill": {
              "color": "#C8D4E3"
             },
             "line": {
              "color": "white"
             }
            },
            "type": "table"
           }
          ]
         },
         "layout": {
          "annotationdefaults": {
           "arrowcolor": "#2a3f5f",
           "arrowhead": 0,
           "arrowwidth": 1
          },
          "autotypenumbers": "strict",
          "coloraxis": {
           "colorbar": {
            "outlinewidth": 0,
            "ticks": ""
           }
          },
          "colorscale": {
           "diverging": [
            [
             0,
             "#8e0152"
            ],
            [
             0.1,
             "#c51b7d"
            ],
            [
             0.2,
             "#de77ae"
            ],
            [
             0.3,
             "#f1b6da"
            ],
            [
             0.4,
             "#fde0ef"
            ],
            [
             0.5,
             "#f7f7f7"
            ],
            [
             0.6,
             "#e6f5d0"
            ],
            [
             0.7,
             "#b8e186"
            ],
            [
             0.8,
             "#7fbc41"
            ],
            [
             0.9,
             "#4d9221"
            ],
            [
             1,
             "#276419"
            ]
           ],
           "sequential": [
            [
             0,
             "#0d0887"
            ],
            [
             0.1111111111111111,
             "#46039f"
            ],
            [
             0.2222222222222222,
             "#7201a8"
            ],
            [
             0.3333333333333333,
             "#9c179e"
            ],
            [
             0.4444444444444444,
             "#bd3786"
            ],
            [
             0.5555555555555556,
             "#d8576b"
            ],
            [
             0.6666666666666666,
             "#ed7953"
            ],
            [
             0.7777777777777778,
             "#fb9f3a"
            ],
            [
             0.8888888888888888,
             "#fdca26"
            ],
            [
             1,
             "#f0f921"
            ]
           ],
           "sequentialminus": [
            [
             0,
             "#0d0887"
            ],
            [
             0.1111111111111111,
             "#46039f"
            ],
            [
             0.2222222222222222,
             "#7201a8"
            ],
            [
             0.3333333333333333,
             "#9c179e"
            ],
            [
             0.4444444444444444,
             "#bd3786"
            ],
            [
             0.5555555555555556,
             "#d8576b"
            ],
            [
             0.6666666666666666,
             "#ed7953"
            ],
            [
             0.7777777777777778,
             "#fb9f3a"
            ],
            [
             0.8888888888888888,
             "#fdca26"
            ],
            [
             1,
             "#f0f921"
            ]
           ]
          },
          "colorway": [
           "#636efa",
           "#EF553B",
           "#00cc96",
           "#ab63fa",
           "#FFA15A",
           "#19d3f3",
           "#FF6692",
           "#B6E880",
           "#FF97FF",
           "#FECB52"
          ],
          "font": {
           "color": "#2a3f5f"
          },
          "geo": {
           "bgcolor": "white",
           "lakecolor": "white",
           "landcolor": "white",
           "showlakes": true,
           "showland": true,
           "subunitcolor": "#C8D4E3"
          },
          "hoverlabel": {
           "align": "left"
          },
          "hovermode": "closest",
          "mapbox": {
           "style": "light"
          },
          "paper_bgcolor": "white",
          "plot_bgcolor": "white",
          "polar": {
           "angularaxis": {
            "gridcolor": "#EBF0F8",
            "linecolor": "#EBF0F8",
            "ticks": ""
           },
           "bgcolor": "white",
           "radialaxis": {
            "gridcolor": "#EBF0F8",
            "linecolor": "#EBF0F8",
            "ticks": ""
           }
          },
          "scene": {
           "xaxis": {
            "backgroundcolor": "white",
            "gridcolor": "#DFE8F3",
            "gridwidth": 2,
            "linecolor": "#EBF0F8",
            "showbackground": true,
            "ticks": "",
            "zerolinecolor": "#EBF0F8"
           },
           "yaxis": {
            "backgroundcolor": "white",
            "gridcolor": "#DFE8F3",
            "gridwidth": 2,
            "linecolor": "#EBF0F8",
            "showbackground": true,
            "ticks": "",
            "zerolinecolor": "#EBF0F8"
           },
           "zaxis": {
            "backgroundcolor": "white",
            "gridcolor": "#DFE8F3",
            "gridwidth": 2,
            "linecolor": "#EBF0F8",
            "showbackground": true,
            "ticks": "",
            "zerolinecolor": "#EBF0F8"
           }
          },
          "shapedefaults": {
           "line": {
            "color": "#2a3f5f"
           }
          },
          "ternary": {
           "aaxis": {
            "gridcolor": "#DFE8F3",
            "linecolor": "#A2B1C6",
            "ticks": ""
           },
           "baxis": {
            "gridcolor": "#DFE8F3",
            "linecolor": "#A2B1C6",
            "ticks": ""
           },
           "bgcolor": "white",
           "caxis": {
            "gridcolor": "#DFE8F3",
            "linecolor": "#A2B1C6",
            "ticks": ""
           }
          },
          "title": {
           "x": 0.05
          },
          "xaxis": {
           "automargin": true,
           "gridcolor": "#EBF0F8",
           "linecolor": "#EBF0F8",
           "ticks": "",
           "title": {
            "standoff": 15
           },
           "zerolinecolor": "#EBF0F8",
           "zerolinewidth": 2
          },
          "yaxis": {
           "automargin": true,
           "gridcolor": "#EBF0F8",
           "linecolor": "#EBF0F8",
           "ticks": "",
           "title": {
            "standoff": 15
           },
           "zerolinecolor": "#EBF0F8",
           "zerolinewidth": 2
          }
         }
        },
        "title": {
         "text": "Spring - Top 4 Models by SMAPE (Residence 2)",
         "x": 0.5
        },
        "xaxis": {
         "autorange": true,
         "range": [
          125360,
          125459
         ],
         "title": {
          "text": "Observations"
         },
         "type": "linear"
        },
        "yaxis": {
         "autorange": true,
         "range": [
          170.53602444444445,
          283.9507355555555
         ],
         "title": {
          "text": "Values"
         },
         "type": "linear"
        }
       }
      },
      "text/html": [
       "<div>                            <div id=\"d54a2f18-aa16-498a-b1be-3c40abfa39d2\" class=\"plotly-graph-div\" style=\"height:400px; width:100%;\"></div>            <script type=\"text/javascript\">                require([\"plotly\"], function(Plotly) {                    window.PLOTLYENV=window.PLOTLYENV || {};                                    if (document.getElementById(\"d54a2f18-aa16-498a-b1be-3c40abfa39d2\")) {                    Plotly.newPlot(                        \"d54a2f18-aa16-498a-b1be-3c40abfa39d2\",                        [{\"mode\":\"lines\",\"name\":\"Actual\",\"x\":[125360,125361,125362,125363,125364,125365,125366,125367,125368,125369,125370,125371,125372,125373,125374,125375,125376,125377,125378,125379,125380,125381,125382,125383,125384,125385,125386,125387,125388,125389,125390,125391,125392,125393,125394,125395,125396,125397,125398,125399,125400,125401,125402,125403,125404,125405,125406,125407,125408,125409,125410,125411,125412,125413,125414,125415,125416,125417,125418,125419,125420,125421,125422,125423,125424,125425,125426,125427,125428,125429,125430,125431,125432,125433,125434,125435,125436,125437,125438,125439,125440,125441,125442,125443,125444,125445,125446,125447,125448,125449,125450,125451,125452,125453,125454,125455,125456,125457,125458,125459],\"y\":[263.52,278.28,259.08,248.88,252.24,257.52,245.4,228.72,237.12,233.04,217.2,204.0,188.28,182.28,177.72,188.16,217.8,242.52,237.36,244.08,243.84,268.2,261.0,263.52,278.28,259.08,248.88,252.24,257.52,245.4,228.72,237.12,233.04,217.2,204.0,188.28,182.28,177.72,188.16,205.2,242.52,237.36,244.08,243.84,268.2,261.0,263.52,278.28,259.08,248.88,252.24,257.52,245.4,228.72,237.12,233.04,217.2,204.0,188.28,182.28,177.72,188.16,205.2,209.52,237.36,244.08,243.84,268.2,261.0,263.52,278.28,259.08,248.88,252.24,257.52,245.4,228.72,237.12,233.04,217.2,204.0,188.28,182.28,177.72,188.16,205.2,209.52,225.12,244.08,243.84,268.2,261.0,263.52,278.28,259.08,248.88,252.24,257.52,245.4,228.72],\"type\":\"scatter\"},{\"mode\":\"lines\",\"name\":\"HyperNetLSTMRBF\",\"x\":[125360,125361,125362,125363,125364,125365,125366,125367,125368,125369,125370,125371,125372,125373,125374,125375,125376,125377,125378,125379,125380,125381,125382,125383,125384,125385,125386,125387,125388,125389,125390,125391,125392,125393,125394,125395,125396,125397,125398,125399,125400,125401,125402,125403,125404,125405,125406,125407,125408,125409,125410,125411,125412,125413,125414,125415,125416,125417,125418,125419,125420,125421,125422,125423,125424,125425,125426,125427,125428,125429,125430,125431,125432,125433,125434,125435,125436,125437,125438,125439,125440,125441,125442,125443,125444,125445,125446,125447,125448,125449,125450,125451,125452,125453,125454,125455,125456,125457,125458,125459],\"y\":[241.38657,242.20044,245.13434,250.814,258.6038,265.16718,266.52008,261.8673,253.58656,240.76717,225.58159,204.66728,195.72514,189.88103,184.58162,184.28215,208.96498,214.97726,223.0302,226.37976,234.1087,240.52725,248.22879,243.13751,243.92886,244.80058,249.72816,256.2253,263.93927,266.5562,262.19385,253.78058,240.71109,224.79684,203.12352,193.01036,187.33997,182.88309,182.06125,194.72733,208.3766,216.91956,222.4504,227.1624,235.62466,244.79857,249.8851,245.92264,245.61594,248.7685,255.79184,262.25775,266.38443,262.97015,254.93582,242.00983,225.99667,204.3902,192.88945,186.3779,182.76035,180.24524,191.3525,210.41985,214.59987,222.60263,226.11978,231.08356,239.34744,246.83649,250.48285,248.16522,248.51172,255.28297,263.24176,266.47635,263.23932,255.1399,241.73157,225.47873,204.68536,192.90703,185.53647,182.11647,179.33012,189.45915,209.90529,223.37064,212.96762,224.09865,226.49414,231.65945,241.0127,245.39517,248.9909,249.37756,253.62836,261.63867,266.48862,263.7245],\"type\":\"scatter\"},{\"mode\":\"lines\",\"name\":\"HyperNetLSTMPoly\",\"x\":[125360,125361,125362,125363,125364,125365,125366,125367,125368,125369,125370,125371,125372,125373,125374,125375,125376,125377,125378,125379,125380,125381,125382,125383,125384,125385,125386,125387,125388,125389,125390,125391,125392,125393,125394,125395,125396,125397,125398,125399,125400,125401,125402,125403,125404,125405,125406,125407,125408,125409,125410,125411,125412,125413,125414,125415,125416,125417,125418,125419,125420,125421,125422,125423,125424,125425,125426,125427,125428,125429,125430,125431,125432,125433,125434,125435,125436,125437,125438,125439,125440,125441,125442,125443,125444,125445,125446,125447,125448,125449,125450,125451,125452,125453,125454,125455,125456,125457,125458,125459],\"y\":[254.17697,260.44443,265.4485,267.88483,269.33722,270.66586,270.60983,272.46118,272.07935,270.54953,263.7948,224.08672,204.8122,193.1517,190.95879,187.85977,210.2737,222.92285,237.52216,232.38391,230.44763,230.91522,238.55092,252.69427,259.83966,265.79813,271.67297,273.417,274.93637,274.4973,274.0791,274.0578,272.1714,265.19788,224.06735,203.80228,193.05891,191.59546,189.3879,200.59982,214.4425,229.01788,242.20705,234.86993,235.68982,236.6673,244.90901,261.32288,267.57672,273.22424,276.98303,277.40213,277.70685,276.65286,275.4663,272.40433,262.6444,218.2336,201.28696,190.95538,189.0459,189.63298,201.45186,210.81094,219.2009,240.6663,250.88644,247.87129,248.37248,253.98373,262.49066,266.4591,270.4275,273.792,274.6751,276.07852,277.3588,276.13303,274.06714,265.49286,222.25781,199.16023,192.84444,193.05188,191.7446,203.61807,213.4863,220.873,223.51398,240.78842,250.3855,254.04356,255.20206,261.50003,266.50574,272.7237,275.61246,278.17346,277.32935,277.8878],\"type\":\"scatter\"},{\"mode\":\"lines\",\"name\":\"AttentionLSTM\",\"x\":[125360,125361,125362,125363,125364,125365,125366,125367,125368,125369,125370,125371,125372,125373,125374,125375,125376,125377,125378,125379,125380,125381,125382,125383,125384,125385,125386,125387,125388,125389,125390,125391,125392,125393,125394,125395,125396,125397,125398,125399,125400,125401,125402,125403,125404,125405,125406,125407,125408,125409,125410,125411,125412,125413,125414,125415,125416,125417,125418,125419,125420,125421,125422,125423,125424,125425,125426,125427,125428,125429,125430,125431,125432,125433,125434,125435,125436,125437,125438,125439,125440,125441,125442,125443,125444,125445,125446,125447,125448,125449,125450,125451,125452,125453,125454,125455,125456,125457,125458,125459],\"y\":[253.3328,253.87895,254.15305,254.16675,253.40564,249.82996,238.79091,221.00986,207.32896,201.09506,199.09152,183.36064,176.20676,176.7078,178.90948,181.87192,194.05519,206.28857,221.75275,235.35553,244.81819,250.08376,252.37723,253.33383,253.8794,254.15324,254.16685,253.40576,249.83011,238.79112,221.01004,207.32909,201.09517,199.09161,183.36067,176.20677,176.70781,178.9095,181.87192,185.6048,209.23087,220.06604,236.41084,244.5014,250.13092,252.37756,253.33492,253.87979,254.15341,254.16696,253.40591,249.83035,238.79141,221.0103,207.32922,201.0953,199.09174,183.36072,176.20679,176.70782,178.9095,181.87193,185.6048,193.53946,233.47174,228.09659,246.88774,249.82178,252.3952,253.33553,253.8801,254.15353,254.16708,253.40607,249.83061,238.79181,221.0106,207.32947,201.09549,199.0919,183.36076,176.20682,176.70784,178.90952,181.87193,185.6048,193.53946,208.95609,247.65062,240.26411,250.65863,252.35815,253.33734,253.88043,254.15372,254.1673,253.40636,249.83102,238.79228,221.011],\"type\":\"scatter\"},{\"mode\":\"lines\",\"name\":\"ARFFNN\",\"x\":[125360,125361,125362,125363,125364,125365,125366,125367,125368,125369,125370,125371,125372,125373,125374,125375,125376,125377,125378,125379,125380,125381,125382,125383,125384,125385,125386,125387,125388,125389,125390,125391,125392,125393,125394,125395,125396,125397,125398,125399,125400,125401,125402,125403,125404,125405,125406,125407,125408,125409,125410,125411,125412,125413,125414,125415,125416,125417,125418,125419,125420,125421,125422,125423,125424,125425,125426,125427,125428,125429,125430,125431,125432,125433,125434,125435,125436,125437,125438,125439,125440,125441,125442,125443,125444,125445,125446,125447,125448,125449,125450,125451,125452,125453,125454,125455,125456,125457,125458,125459],\"y\":[235.15344,238.93329,241.78922,244.27274,247.30034,248.51256,245.71753,243.30557,240.11484,237.76422,230.88629,194.80309,196.38805,198.20006,200.04086,203.68529,211.38516,214.98956,221.35841,223.02711,226.21428,231.77316,233.51514,235.15344,238.93329,241.78922,244.27274,247.30034,248.51256,245.71753,243.30557,240.11484,237.76422,230.88629,194.80309,196.38805,198.20006,200.04086,203.68529,208.8106,214.98956,221.35841,223.02711,226.21428,231.77316,233.51514,235.15344,238.93329,241.78922,244.27274,247.30034,248.51256,245.71753,243.30557,240.11484,237.76422,230.88629,194.80309,196.38805,198.20006,200.04086,203.68529,208.8106,212.98712,221.35841,223.02711,226.21428,231.77316,233.51514,235.15344,238.93329,241.78922,244.27274,247.30034,248.51256,245.71753,243.30557,240.11484,237.76422,230.88629,194.80309,196.38805,198.20006,200.04086,203.68529,208.8106,212.98712,220.61673,223.02711,226.21428,231.77316,233.51514,235.15344,238.93329,241.78922,244.27274,247.30034,248.51256,245.71753,243.30557],\"type\":\"scatter\"}],                        {\"template\":{\"data\":{\"barpolar\":[{\"marker\":{\"line\":{\"color\":\"white\",\"width\":0.5},\"pattern\":{\"fillmode\":\"overlay\",\"size\":10,\"solidity\":0.2}},\"type\":\"barpolar\"}],\"bar\":[{\"error_x\":{\"color\":\"#2a3f5f\"},\"error_y\":{\"color\":\"#2a3f5f\"},\"marker\":{\"line\":{\"color\":\"white\",\"width\":0.5},\"pattern\":{\"fillmode\":\"overlay\",\"size\":10,\"solidity\":0.2}},\"type\":\"bar\"}],\"carpet\":[{\"aaxis\":{\"endlinecolor\":\"#2a3f5f\",\"gridcolor\":\"#C8D4E3\",\"linecolor\":\"#C8D4E3\",\"minorgridcolor\":\"#C8D4E3\",\"startlinecolor\":\"#2a3f5f\"},\"baxis\":{\"endlinecolor\":\"#2a3f5f\",\"gridcolor\":\"#C8D4E3\",\"linecolor\":\"#C8D4E3\",\"minorgridcolor\":\"#C8D4E3\",\"startlinecolor\":\"#2a3f5f\"},\"type\":\"carpet\"}],\"choropleth\":[{\"colorbar\":{\"outlinewidth\":0,\"ticks\":\"\"},\"type\":\"choropleth\"}],\"contourcarpet\":[{\"colorbar\":{\"outlinewidth\":0,\"ticks\":\"\"},\"type\":\"contourcarpet\"}],\"contour\":[{\"colorbar\":{\"outlinewidth\":0,\"ticks\":\"\"},\"colorscale\":[[0.0,\"#0d0887\"],[0.1111111111111111,\"#46039f\"],[0.2222222222222222,\"#7201a8\"],[0.3333333333333333,\"#9c179e\"],[0.4444444444444444,\"#bd3786\"],[0.5555555555555556,\"#d8576b\"],[0.6666666666666666,\"#ed7953\"],[0.7777777777777778,\"#fb9f3a\"],[0.8888888888888888,\"#fdca26\"],[1.0,\"#f0f921\"]],\"type\":\"contour\"}],\"heatmapgl\":[{\"colorbar\":{\"outlinewidth\":0,\"ticks\":\"\"},\"colorscale\":[[0.0,\"#0d0887\"],[0.1111111111111111,\"#46039f\"],[0.2222222222222222,\"#7201a8\"],[0.3333333333333333,\"#9c179e\"],[0.4444444444444444,\"#bd3786\"],[0.5555555555555556,\"#d8576b\"],[0.6666666666666666,\"#ed7953\"],[0.7777777777777778,\"#fb9f3a\"],[0.8888888888888888,\"#fdca26\"],[1.0,\"#f0f921\"]],\"type\":\"heatmapgl\"}],\"heatmap\":[{\"colorbar\":{\"outlinewidth\":0,\"ticks\":\"\"},\"colorscale\":[[0.0,\"#0d0887\"],[0.1111111111111111,\"#46039f\"],[0.2222222222222222,\"#7201a8\"],[0.3333333333333333,\"#9c179e\"],[0.4444444444444444,\"#bd3786\"],[0.5555555555555556,\"#d8576b\"],[0.6666666666666666,\"#ed7953\"],[0.7777777777777778,\"#fb9f3a\"],[0.8888888888888888,\"#fdca26\"],[1.0,\"#f0f921\"]],\"type\":\"heatmap\"}],\"histogram2dcontour\":[{\"colorbar\":{\"outlinewidth\":0,\"ticks\":\"\"},\"colorscale\":[[0.0,\"#0d0887\"],[0.1111111111111111,\"#46039f\"],[0.2222222222222222,\"#7201a8\"],[0.3333333333333333,\"#9c179e\"],[0.4444444444444444,\"#bd3786\"],[0.5555555555555556,\"#d8576b\"],[0.6666666666666666,\"#ed7953\"],[0.7777777777777778,\"#fb9f3a\"],[0.8888888888888888,\"#fdca26\"],[1.0,\"#f0f921\"]],\"type\":\"histogram2dcontour\"}],\"histogram2d\":[{\"colorbar\":{\"outlinewidth\":0,\"ticks\":\"\"},\"colorscale\":[[0.0,\"#0d0887\"],[0.1111111111111111,\"#46039f\"],[0.2222222222222222,\"#7201a8\"],[0.3333333333333333,\"#9c179e\"],[0.4444444444444444,\"#bd3786\"],[0.5555555555555556,\"#d8576b\"],[0.6666666666666666,\"#ed7953\"],[0.7777777777777778,\"#fb9f3a\"],[0.8888888888888888,\"#fdca26\"],[1.0,\"#f0f921\"]],\"type\":\"histogram2d\"}],\"histogram\":[{\"marker\":{\"pattern\":{\"fillmode\":\"overlay\",\"size\":10,\"solidity\":0.2}},\"type\":\"histogram\"}],\"mesh3d\":[{\"colorbar\":{\"outlinewidth\":0,\"ticks\":\"\"},\"type\":\"mesh3d\"}],\"parcoords\":[{\"line\":{\"colorbar\":{\"outlinewidth\":0,\"ticks\":\"\"}},\"type\":\"parcoords\"}],\"pie\":[{\"automargin\":true,\"type\":\"pie\"}],\"scatter3d\":[{\"line\":{\"colorbar\":{\"outlinewidth\":0,\"ticks\":\"\"}},\"marker\":{\"colorbar\":{\"outlinewidth\":0,\"ticks\":\"\"}},\"type\":\"scatter3d\"}],\"scattercarpet\":[{\"marker\":{\"colorbar\":{\"outlinewidth\":0,\"ticks\":\"\"}},\"type\":\"scattercarpet\"}],\"scattergeo\":[{\"marker\":{\"colorbar\":{\"outlinewidth\":0,\"ticks\":\"\"}},\"type\":\"scattergeo\"}],\"scattergl\":[{\"marker\":{\"colorbar\":{\"outlinewidth\":0,\"ticks\":\"\"}},\"type\":\"scattergl\"}],\"scattermapbox\":[{\"marker\":{\"colorbar\":{\"outlinewidth\":0,\"ticks\":\"\"}},\"type\":\"scattermapbox\"}],\"scatterpolargl\":[{\"marker\":{\"colorbar\":{\"outlinewidth\":0,\"ticks\":\"\"}},\"type\":\"scatterpolargl\"}],\"scatterpolar\":[{\"marker\":{\"colorbar\":{\"outlinewidth\":0,\"ticks\":\"\"}},\"type\":\"scatterpolar\"}],\"scatter\":[{\"fillpattern\":{\"fillmode\":\"overlay\",\"size\":10,\"solidity\":0.2},\"type\":\"scatter\"}],\"scatterternary\":[{\"marker\":{\"colorbar\":{\"outlinewidth\":0,\"ticks\":\"\"}},\"type\":\"scatterternary\"}],\"surface\":[{\"colorbar\":{\"outlinewidth\":0,\"ticks\":\"\"},\"colorscale\":[[0.0,\"#0d0887\"],[0.1111111111111111,\"#46039f\"],[0.2222222222222222,\"#7201a8\"],[0.3333333333333333,\"#9c179e\"],[0.4444444444444444,\"#bd3786\"],[0.5555555555555556,\"#d8576b\"],[0.6666666666666666,\"#ed7953\"],[0.7777777777777778,\"#fb9f3a\"],[0.8888888888888888,\"#fdca26\"],[1.0,\"#f0f921\"]],\"type\":\"surface\"}],\"table\":[{\"cells\":{\"fill\":{\"color\":\"#EBF0F8\"},\"line\":{\"color\":\"white\"}},\"header\":{\"fill\":{\"color\":\"#C8D4E3\"},\"line\":{\"color\":\"white\"}},\"type\":\"table\"}]},\"layout\":{\"annotationdefaults\":{\"arrowcolor\":\"#2a3f5f\",\"arrowhead\":0,\"arrowwidth\":1},\"autotypenumbers\":\"strict\",\"coloraxis\":{\"colorbar\":{\"outlinewidth\":0,\"ticks\":\"\"}},\"colorscale\":{\"diverging\":[[0,\"#8e0152\"],[0.1,\"#c51b7d\"],[0.2,\"#de77ae\"],[0.3,\"#f1b6da\"],[0.4,\"#fde0ef\"],[0.5,\"#f7f7f7\"],[0.6,\"#e6f5d0\"],[0.7,\"#b8e186\"],[0.8,\"#7fbc41\"],[0.9,\"#4d9221\"],[1,\"#276419\"]],\"sequential\":[[0.0,\"#0d0887\"],[0.1111111111111111,\"#46039f\"],[0.2222222222222222,\"#7201a8\"],[0.3333333333333333,\"#9c179e\"],[0.4444444444444444,\"#bd3786\"],[0.5555555555555556,\"#d8576b\"],[0.6666666666666666,\"#ed7953\"],[0.7777777777777778,\"#fb9f3a\"],[0.8888888888888888,\"#fdca26\"],[1.0,\"#f0f921\"]],\"sequentialminus\":[[0.0,\"#0d0887\"],[0.1111111111111111,\"#46039f\"],[0.2222222222222222,\"#7201a8\"],[0.3333333333333333,\"#9c179e\"],[0.4444444444444444,\"#bd3786\"],[0.5555555555555556,\"#d8576b\"],[0.6666666666666666,\"#ed7953\"],[0.7777777777777778,\"#fb9f3a\"],[0.8888888888888888,\"#fdca26\"],[1.0,\"#f0f921\"]]},\"colorway\":[\"#636efa\",\"#EF553B\",\"#00cc96\",\"#ab63fa\",\"#FFA15A\",\"#19d3f3\",\"#FF6692\",\"#B6E880\",\"#FF97FF\",\"#FECB52\"],\"font\":{\"color\":\"#2a3f5f\"},\"geo\":{\"bgcolor\":\"white\",\"lakecolor\":\"white\",\"landcolor\":\"white\",\"showlakes\":true,\"showland\":true,\"subunitcolor\":\"#C8D4E3\"},\"hoverlabel\":{\"align\":\"left\"},\"hovermode\":\"closest\",\"mapbox\":{\"style\":\"light\"},\"paper_bgcolor\":\"white\",\"plot_bgcolor\":\"white\",\"polar\":{\"angularaxis\":{\"gridcolor\":\"#EBF0F8\",\"linecolor\":\"#EBF0F8\",\"ticks\":\"\"},\"bgcolor\":\"white\",\"radialaxis\":{\"gridcolor\":\"#EBF0F8\",\"linecolor\":\"#EBF0F8\",\"ticks\":\"\"}},\"scene\":{\"xaxis\":{\"backgroundcolor\":\"white\",\"gridcolor\":\"#DFE8F3\",\"gridwidth\":2,\"linecolor\":\"#EBF0F8\",\"showbackground\":true,\"ticks\":\"\",\"zerolinecolor\":\"#EBF0F8\"},\"yaxis\":{\"backgroundcolor\":\"white\",\"gridcolor\":\"#DFE8F3\",\"gridwidth\":2,\"linecolor\":\"#EBF0F8\",\"showbackground\":true,\"ticks\":\"\",\"zerolinecolor\":\"#EBF0F8\"},\"zaxis\":{\"backgroundcolor\":\"white\",\"gridcolor\":\"#DFE8F3\",\"gridwidth\":2,\"linecolor\":\"#EBF0F8\",\"showbackground\":true,\"ticks\":\"\",\"zerolinecolor\":\"#EBF0F8\"}},\"shapedefaults\":{\"line\":{\"color\":\"#2a3f5f\"}},\"ternary\":{\"aaxis\":{\"gridcolor\":\"#DFE8F3\",\"linecolor\":\"#A2B1C6\",\"ticks\":\"\"},\"baxis\":{\"gridcolor\":\"#DFE8F3\",\"linecolor\":\"#A2B1C6\",\"ticks\":\"\"},\"bgcolor\":\"white\",\"caxis\":{\"gridcolor\":\"#DFE8F3\",\"linecolor\":\"#A2B1C6\",\"ticks\":\"\"}},\"title\":{\"x\":0.05},\"xaxis\":{\"automargin\":true,\"gridcolor\":\"#EBF0F8\",\"linecolor\":\"#EBF0F8\",\"ticks\":\"\",\"title\":{\"standoff\":15},\"zerolinecolor\":\"#EBF0F8\",\"zerolinewidth\":2},\"yaxis\":{\"automargin\":true,\"gridcolor\":\"#EBF0F8\",\"linecolor\":\"#EBF0F8\",\"ticks\":\"\",\"title\":{\"standoff\":15},\"zerolinecolor\":\"#EBF0F8\",\"zerolinewidth\":2}}},\"title\":{\"text\":\"Spring - Top 4 Models by SMAPE (Residence 2)\",\"x\":0.5},\"xaxis\":{\"title\":{\"text\":\"Observations\"}},\"yaxis\":{\"title\":{\"text\":\"Values\"}},\"legend\":{\"title\":{\"text\":\"Models\"}},\"height\":400},                        {\"responsive\": true}                    ).then(function(){\n",
       "                            \n",
       "var gd = document.getElementById('d54a2f18-aa16-498a-b1be-3c40abfa39d2');\n",
       "var x = new MutationObserver(function (mutations, observer) {{\n",
       "        var display = window.getComputedStyle(gd).display;\n",
       "        if (!display || display === 'none') {{\n",
       "            console.log([gd, 'removed!']);\n",
       "            Plotly.purge(gd);\n",
       "            observer.disconnect();\n",
       "        }}\n",
       "}});\n",
       "\n",
       "// Listen for the removal of the full notebook cells\n",
       "var notebookContainer = gd.closest('#notebook-container');\n",
       "if (notebookContainer) {{\n",
       "    x.observe(notebookContainer, {childList: true});\n",
       "}}\n",
       "\n",
       "// Listen for the clearing of the current output cell\n",
       "var outputEl = gd.closest('.output');\n",
       "if (outputEl) {{\n",
       "    x.observe(outputEl, {childList: true});\n",
       "}}\n",
       "\n",
       "                        })                };                });            </script>        </div>"
      ]
     },
     "metadata": {},
     "output_type": "display_data"
    },
    {
     "name": "stderr",
     "output_type": "stream",
     "text": [
      "/tmp/ipykernel_1015045/3967295982.py:58: FutureWarning:\n",
      "\n",
      "this method is deprecated in favour of `Styler.format(precision=..)`\n",
      "\n",
      "/tmp/ipykernel_1015045/3967295982.py:63: FutureWarning:\n",
      "\n",
      "this method is deprecated in favour of `Styler.format(precision=..)`\n",
      "\n"
     ]
    },
    {
     "data": {
      "application/vnd.plotly.v1+json": {
       "config": {
        "plotlyServerURL": "https://plot.ly"
       },
       "data": [
        {
         "mode": "lines",
         "name": "Actual",
         "type": "scatter",
         "x": [
          157680,
          157681,
          157682,
          157683,
          157684,
          157685,
          157686,
          157687,
          157688,
          157689,
          157690,
          157691,
          157692,
          157693,
          157694,
          157695,
          157696,
          157697,
          157698,
          157699,
          157700,
          157701,
          157702,
          157703,
          157704,
          157705,
          157706,
          157707,
          157708,
          157709,
          157710,
          157711,
          157712,
          157713,
          157714,
          157715,
          157716,
          157717,
          157718,
          157719,
          157720,
          157721,
          157722,
          157723,
          157724,
          157725,
          157726,
          157727,
          157728,
          157729,
          157730,
          157731,
          157732,
          157733,
          157734,
          157735,
          157736,
          157737,
          157738,
          157739,
          157740,
          157741,
          157742,
          157743,
          157744,
          157745,
          157746,
          157747,
          157748,
          157749,
          157750,
          157751,
          157752,
          157753,
          157754,
          157755,
          157756,
          157757,
          157758,
          157759,
          157760,
          157761,
          157762,
          157763,
          157764,
          157765,
          157766,
          157767,
          157768,
          157769,
          157770,
          157771,
          157772,
          157773,
          157774,
          157775,
          157776,
          157777,
          157778,
          157779
         ],
         "y": [
          134.4,
          166.95,
          165.75,
          165.45,
          165,
          168.6,
          170.25,
          164.55,
          157.65,
          161.25,
          155.55,
          146.1,
          135.6,
          141.15,
          140.85,
          146.55,
          148.05,
          141.3,
          133.2,
          135,
          131.4,
          130.35,
          123.9,
          134.1,
          166.95,
          165.75,
          165.45,
          165,
          168.6,
          170.25,
          164.55,
          157.65,
          161.25,
          155.55,
          146.1,
          135.6,
          141.15,
          140.85,
          146.55,
          148.05,
          141.3,
          133.2,
          135,
          131.4,
          130.35,
          123.9,
          134.1,
          138.6,
          165.75,
          165.45,
          165,
          168.6,
          170.25,
          164.55,
          157.65,
          161.25,
          155.55,
          146.1,
          135.6,
          141.15,
          140.85,
          146.55,
          148.05,
          141.3,
          133.2,
          135,
          131.4,
          130.35,
          123.9,
          134.1,
          138.6,
          147.9,
          165.45,
          165,
          168.6,
          170.25,
          164.55,
          157.65,
          161.25,
          155.55,
          146.1,
          135.6,
          141.15,
          140.85,
          146.55,
          148.05,
          141.3,
          133.2,
          135,
          131.4,
          130.35,
          123.9,
          134.1,
          138.6,
          147.9,
          175.2,
          165,
          168.6,
          170.25,
          164.55
         ]
        },
        {
         "mode": "lines",
         "name": "HyperNetLSTMRBF",
         "type": "scatter",
         "x": [
          157680,
          157681,
          157682,
          157683,
          157684,
          157685,
          157686,
          157687,
          157688,
          157689,
          157690,
          157691,
          157692,
          157693,
          157694,
          157695,
          157696,
          157697,
          157698,
          157699,
          157700,
          157701,
          157702,
          157703,
          157704,
          157705,
          157706,
          157707,
          157708,
          157709,
          157710,
          157711,
          157712,
          157713,
          157714,
          157715,
          157716,
          157717,
          157718,
          157719,
          157720,
          157721,
          157722,
          157723,
          157724,
          157725,
          157726,
          157727,
          157728,
          157729,
          157730,
          157731,
          157732,
          157733,
          157734,
          157735,
          157736,
          157737,
          157738,
          157739,
          157740,
          157741,
          157742,
          157743,
          157744,
          157745,
          157746,
          157747,
          157748,
          157749,
          157750,
          157751,
          157752,
          157753,
          157754,
          157755,
          157756,
          157757,
          157758,
          157759,
          157760,
          157761,
          157762,
          157763,
          157764,
          157765,
          157766,
          157767,
          157768,
          157769,
          157770,
          157771,
          157772,
          157773,
          157774,
          157775,
          157776,
          157777,
          157778,
          157779
         ],
         "y": [
          139.10751,
          140.18468,
          150.70692,
          156.3807,
          161.88135,
          166.91705,
          169.0571,
          172.70639,
          169.80591,
          165.97926,
          159.65363,
          151.02191,
          143.95227,
          139.35405,
          136.34288,
          134.27336,
          130.88077,
          129.0819,
          126.831184,
          125.02356,
          124.39932,
          126.671005,
          132.23557,
          141.15747,
          144.21103,
          146.6495,
          154.61313,
          159.56247,
          164.42432,
          167.22977,
          170.10954,
          170.63214,
          163.52574,
          155.60175,
          148.11002,
          141.39243,
          137.53012,
          135.05396,
          133.23543,
          129.78568,
          128.2186,
          126.27597,
          124.818275,
          125.05131,
          128.34712,
          134.83516,
          144.65439,
          155.15169,
          145.86618,
          150.05998,
          157.42578,
          162.38483,
          166.0943,
          168.12173,
          168.85612,
          162.197,
          153.49954,
          146.80255,
          140.25471,
          136.76479,
          134.8359,
          133.1094,
          129.39525,
          127.75294,
          125.794655,
          124.38978,
          125.03539,
          128.99626,
          136.20816,
          146.7833,
          156.6936,
          161.06021,
          149.22548,
          155.86868,
          162.51083,
          167.45882,
          169.74252,
          171.78967,
          166.73741,
          156.564,
          148.74973,
          141.74057,
          137.3844,
          135.74648,
          134.10391,
          129.88197,
          127.86189,
          125.64728,
          124.22082,
          125.088394,
          129.68483,
          137.78406,
          149.53197,
          160.31236,
          164.58514,
          167.53181,
          150.79869,
          158.6904,
          163.73976,
          166.83267
         ]
        },
        {
         "mode": "lines",
         "name": "HyperNetLSTMPoly",
         "type": "scatter",
         "x": [
          157680,
          157681,
          157682,
          157683,
          157684,
          157685,
          157686,
          157687,
          157688,
          157689,
          157690,
          157691,
          157692,
          157693,
          157694,
          157695,
          157696,
          157697,
          157698,
          157699,
          157700,
          157701,
          157702,
          157703,
          157704,
          157705,
          157706,
          157707,
          157708,
          157709,
          157710,
          157711,
          157712,
          157713,
          157714,
          157715,
          157716,
          157717,
          157718,
          157719,
          157720,
          157721,
          157722,
          157723,
          157724,
          157725,
          157726,
          157727,
          157728,
          157729,
          157730,
          157731,
          157732,
          157733,
          157734,
          157735,
          157736,
          157737,
          157738,
          157739,
          157740,
          157741,
          157742,
          157743,
          157744,
          157745,
          157746,
          157747,
          157748,
          157749,
          157750,
          157751,
          157752,
          157753,
          157754,
          157755,
          157756,
          157757,
          157758,
          157759,
          157760,
          157761,
          157762,
          157763,
          157764,
          157765,
          157766,
          157767,
          157768,
          157769,
          157770,
          157771,
          157772,
          157773,
          157774,
          157775,
          157776,
          157777,
          157778,
          157779
         ],
         "y": [
          136.05075,
          143.01033,
          150.19238,
          157.00488,
          164.60971,
          163.78442,
          162.32056,
          163.15768,
          162.31941,
          157.11249,
          150.54254,
          143.9405,
          139.06497,
          136.2188,
          134.2573,
          132.67209,
          132.44623,
          132.25818,
          131.13187,
          131.60161,
          136.22882,
          138.25917,
          137.88918,
          137.0676,
          141.14417,
          149.69556,
          157.33104,
          160.38928,
          163.14746,
          162.16936,
          162.09213,
          160.42105,
          156.17682,
          150.99103,
          144.76723,
          139.6698,
          136.61624,
          134.58952,
          133.30118,
          130.58818,
          131.3402,
          130.31602,
          129.40433,
          134.88167,
          137.25233,
          137.93115,
          136.71684,
          140.61081,
          141.98157,
          153.43758,
          160.23628,
          161.56299,
          162.5349,
          161.80328,
          159.97137,
          155.79541,
          150.67062,
          144.46097,
          139.79077,
          136.65765,
          134.76094,
          133.52655,
          130.67894,
          131.31235,
          130.53322,
          129.55463,
          134.95032,
          137.75969,
          138.2646,
          136.3075,
          142.04865,
          148.02614,
          144.95294,
          159.43912,
          164.59454,
          165.70125,
          167.13055,
          165.15448,
          160.57716,
          155.14207,
          147.37486,
          142.18054,
          138.35931,
          136.09592,
          134.61874,
          131.21107,
          131.8749,
          131.6045,
          130.34499,
          135.88829,
          139.63292,
          139.39676,
          137.66302,
          145.57375,
          152.2926,
          159.86281,
          145.35269,
          160.93341,
          164.25781,
          165.09866
         ]
        },
        {
         "mode": "lines",
         "name": "Transformer",
         "type": "scatter",
         "x": [
          157680,
          157681,
          157682,
          157683,
          157684,
          157685,
          157686,
          157687,
          157688,
          157689,
          157690,
          157691,
          157692,
          157693,
          157694,
          157695,
          157696,
          157697,
          157698,
          157699,
          157700,
          157701,
          157702,
          157703,
          157704,
          157705,
          157706,
          157707,
          157708,
          157709,
          157710,
          157711,
          157712,
          157713,
          157714,
          157715,
          157716,
          157717,
          157718,
          157719,
          157720,
          157721,
          157722,
          157723,
          157724,
          157725,
          157726,
          157727,
          157728,
          157729,
          157730,
          157731,
          157732,
          157733,
          157734,
          157735,
          157736,
          157737,
          157738,
          157739,
          157740,
          157741,
          157742,
          157743,
          157744,
          157745,
          157746,
          157747,
          157748,
          157749,
          157750,
          157751,
          157752,
          157753,
          157754,
          157755,
          157756,
          157757,
          157758,
          157759,
          157760,
          157761,
          157762,
          157763,
          157764,
          157765,
          157766,
          157767,
          157768,
          157769,
          157770,
          157771,
          157772,
          157773,
          157774,
          157775,
          157776,
          157777,
          157778,
          157779
         ],
         "y": [
          138.91241,
          153.46576,
          159.9833,
          163.24521,
          165.21793,
          165.97415,
          164.90576,
          161.22543,
          152.91432,
          144.65869,
          139.07483,
          134.48195,
          130.58012,
          128.89104,
          127.86848,
          127.03235,
          128.59036,
          128.36133,
          127.9319,
          127.51709,
          127.19874,
          126.55519,
          126.446884,
          130.30887,
          153.46576,
          159.9833,
          163.24521,
          165.21793,
          165.97415,
          164.90576,
          161.22543,
          152.91432,
          144.65869,
          139.07483,
          134.48195,
          130.58012,
          128.89104,
          127.86848,
          127.03235,
          128.59036,
          128.36133,
          127.9319,
          127.51709,
          127.19874,
          126.55519,
          126.446884,
          130.30887,
          140.97032,
          159.9833,
          163.24521,
          165.21793,
          165.97415,
          164.90576,
          161.22543,
          152.91432,
          144.65869,
          139.07483,
          134.48195,
          130.58012,
          128.89104,
          127.86848,
          127.03235,
          128.59036,
          128.36133,
          127.9319,
          127.51709,
          127.19874,
          126.55519,
          126.446884,
          130.30887,
          140.97032,
          155.43387,
          167.44711,
          169.63052,
          170.4675,
          169.285,
          165.21164,
          156.01294,
          146.87563,
          140.69543,
          135.61206,
          131.29353,
          129.42406,
          128.2923,
          127.366875,
          129.09128,
          128.83778,
          128.36249,
          127.90338,
          127.55103,
          126.83875,
          126.71888,
          130.99332,
          142.79337,
          158.80157,
          165.33444,
          169.63052,
          170.4675,
          169.285,
          165.21164
         ]
        },
        {
         "mode": "lines",
         "name": "AttentionLSTM",
         "type": "scatter",
         "x": [
          157680,
          157681,
          157682,
          157683,
          157684,
          157685,
          157686,
          157687,
          157688,
          157689,
          157690,
          157691,
          157692,
          157693,
          157694,
          157695,
          157696,
          157697,
          157698,
          157699,
          157700,
          157701,
          157702,
          157703,
          157704,
          157705,
          157706,
          157707,
          157708,
          157709,
          157710,
          157711,
          157712,
          157713,
          157714,
          157715,
          157716,
          157717,
          157718,
          157719,
          157720,
          157721,
          157722,
          157723,
          157724,
          157725,
          157726,
          157727,
          157728,
          157729,
          157730,
          157731,
          157732,
          157733,
          157734,
          157735,
          157736,
          157737,
          157738,
          157739,
          157740,
          157741,
          157742,
          157743,
          157744,
          157745,
          157746,
          157747,
          157748,
          157749,
          157750,
          157751,
          157752,
          157753,
          157754,
          157755,
          157756,
          157757,
          157758,
          157759,
          157760,
          157761,
          157762,
          157763,
          157764,
          157765,
          157766,
          157767,
          157768,
          157769,
          157770,
          157771,
          157772,
          157773,
          157774,
          157775,
          157776,
          157777,
          157778,
          157779
         ],
         "y": [
          143.0443,
          155.91623,
          160.33763,
          161.1096,
          161.15259,
          160.5812,
          158.90929,
          155.68597,
          149.78261,
          143.93817,
          139.84221,
          136.8371,
          134.86179,
          134.06241,
          133.6525,
          133.4241,
          129.97539,
          125.80912,
          125.518105,
          125.48105,
          125.79221,
          126.93505,
          129.74925,
          135.112,
          148.54611,
          159.60965,
          161.09341,
          161.1538,
          160.58179,
          158.90952,
          155.68607,
          149.78265,
          143.93819,
          139.84224,
          136.83713,
          134.8618,
          134.06241,
          133.65251,
          133.42412,
          129.97546,
          125.8096,
          125.5186,
          125.48156,
          125.79274,
          126.93559,
          129.74983,
          135.11264,
          145.10112,
          154.00351,
          160.89743,
          161.15334,
          160.58257,
          158.9097,
          155.68607,
          149.78262,
          143.93819,
          139.84225,
          136.83714,
          134.8618,
          134.06242,
          133.65253,
          133.42413,
          129.97551,
          125.80993,
          125.51895,
          125.48194,
          125.79316,
          126.936035,
          129.75029,
          135.11314,
          145.10162,
          154.3992,
          160.68102,
          165.04324,
          164.50119,
          162.64914,
          159.08069,
          152.5467,
          146.07814,
          141.5448,
          138.21878,
          136.03249,
          135.14774,
          134.69406,
          134.44127,
          130.62439,
          126.0141,
          125.692085,
          125.65118,
          125.99569,
          127.26065,
          130.37546,
          136.31107,
          147.36627,
          157.65666,
          163.23404,
          161.63316,
          164.38673,
          162.64853,
          159.08131
         ]
        }
       ],
       "layout": {
        "autosize": true,
        "legend": {
         "title": {
          "text": "Models"
         }
        },
        "template": {
         "data": {
          "bar": [
           {
            "error_x": {
             "color": "#2a3f5f"
            },
            "error_y": {
             "color": "#2a3f5f"
            },
            "marker": {
             "line": {
              "color": "white",
              "width": 0.5
             },
             "pattern": {
              "fillmode": "overlay",
              "size": 10,
              "solidity": 0.2
             }
            },
            "type": "bar"
           }
          ],
          "barpolar": [
           {
            "marker": {
             "line": {
              "color": "white",
              "width": 0.5
             },
             "pattern": {
              "fillmode": "overlay",
              "size": 10,
              "solidity": 0.2
             }
            },
            "type": "barpolar"
           }
          ],
          "carpet": [
           {
            "aaxis": {
             "endlinecolor": "#2a3f5f",
             "gridcolor": "#C8D4E3",
             "linecolor": "#C8D4E3",
             "minorgridcolor": "#C8D4E3",
             "startlinecolor": "#2a3f5f"
            },
            "baxis": {
             "endlinecolor": "#2a3f5f",
             "gridcolor": "#C8D4E3",
             "linecolor": "#C8D4E3",
             "minorgridcolor": "#C8D4E3",
             "startlinecolor": "#2a3f5f"
            },
            "type": "carpet"
           }
          ],
          "choropleth": [
           {
            "colorbar": {
             "outlinewidth": 0,
             "ticks": ""
            },
            "type": "choropleth"
           }
          ],
          "contour": [
           {
            "colorbar": {
             "outlinewidth": 0,
             "ticks": ""
            },
            "colorscale": [
             [
              0,
              "#0d0887"
             ],
             [
              0.1111111111111111,
              "#46039f"
             ],
             [
              0.2222222222222222,
              "#7201a8"
             ],
             [
              0.3333333333333333,
              "#9c179e"
             ],
             [
              0.4444444444444444,
              "#bd3786"
             ],
             [
              0.5555555555555556,
              "#d8576b"
             ],
             [
              0.6666666666666666,
              "#ed7953"
             ],
             [
              0.7777777777777778,
              "#fb9f3a"
             ],
             [
              0.8888888888888888,
              "#fdca26"
             ],
             [
              1,
              "#f0f921"
             ]
            ],
            "type": "contour"
           }
          ],
          "contourcarpet": [
           {
            "colorbar": {
             "outlinewidth": 0,
             "ticks": ""
            },
            "type": "contourcarpet"
           }
          ],
          "heatmap": [
           {
            "colorbar": {
             "outlinewidth": 0,
             "ticks": ""
            },
            "colorscale": [
             [
              0,
              "#0d0887"
             ],
             [
              0.1111111111111111,
              "#46039f"
             ],
             [
              0.2222222222222222,
              "#7201a8"
             ],
             [
              0.3333333333333333,
              "#9c179e"
             ],
             [
              0.4444444444444444,
              "#bd3786"
             ],
             [
              0.5555555555555556,
              "#d8576b"
             ],
             [
              0.6666666666666666,
              "#ed7953"
             ],
             [
              0.7777777777777778,
              "#fb9f3a"
             ],
             [
              0.8888888888888888,
              "#fdca26"
             ],
             [
              1,
              "#f0f921"
             ]
            ],
            "type": "heatmap"
           }
          ],
          "heatmapgl": [
           {
            "colorbar": {
             "outlinewidth": 0,
             "ticks": ""
            },
            "colorscale": [
             [
              0,
              "#0d0887"
             ],
             [
              0.1111111111111111,
              "#46039f"
             ],
             [
              0.2222222222222222,
              "#7201a8"
             ],
             [
              0.3333333333333333,
              "#9c179e"
             ],
             [
              0.4444444444444444,
              "#bd3786"
             ],
             [
              0.5555555555555556,
              "#d8576b"
             ],
             [
              0.6666666666666666,
              "#ed7953"
             ],
             [
              0.7777777777777778,
              "#fb9f3a"
             ],
             [
              0.8888888888888888,
              "#fdca26"
             ],
             [
              1,
              "#f0f921"
             ]
            ],
            "type": "heatmapgl"
           }
          ],
          "histogram": [
           {
            "marker": {
             "pattern": {
              "fillmode": "overlay",
              "size": 10,
              "solidity": 0.2
             }
            },
            "type": "histogram"
           }
          ],
          "histogram2d": [
           {
            "colorbar": {
             "outlinewidth": 0,
             "ticks": ""
            },
            "colorscale": [
             [
              0,
              "#0d0887"
             ],
             [
              0.1111111111111111,
              "#46039f"
             ],
             [
              0.2222222222222222,
              "#7201a8"
             ],
             [
              0.3333333333333333,
              "#9c179e"
             ],
             [
              0.4444444444444444,
              "#bd3786"
             ],
             [
              0.5555555555555556,
              "#d8576b"
             ],
             [
              0.6666666666666666,
              "#ed7953"
             ],
             [
              0.7777777777777778,
              "#fb9f3a"
             ],
             [
              0.8888888888888888,
              "#fdca26"
             ],
             [
              1,
              "#f0f921"
             ]
            ],
            "type": "histogram2d"
           }
          ],
          "histogram2dcontour": [
           {
            "colorbar": {
             "outlinewidth": 0,
             "ticks": ""
            },
            "colorscale": [
             [
              0,
              "#0d0887"
             ],
             [
              0.1111111111111111,
              "#46039f"
             ],
             [
              0.2222222222222222,
              "#7201a8"
             ],
             [
              0.3333333333333333,
              "#9c179e"
             ],
             [
              0.4444444444444444,
              "#bd3786"
             ],
             [
              0.5555555555555556,
              "#d8576b"
             ],
             [
              0.6666666666666666,
              "#ed7953"
             ],
             [
              0.7777777777777778,
              "#fb9f3a"
             ],
             [
              0.8888888888888888,
              "#fdca26"
             ],
             [
              1,
              "#f0f921"
             ]
            ],
            "type": "histogram2dcontour"
           }
          ],
          "mesh3d": [
           {
            "colorbar": {
             "outlinewidth": 0,
             "ticks": ""
            },
            "type": "mesh3d"
           }
          ],
          "parcoords": [
           {
            "line": {
             "colorbar": {
              "outlinewidth": 0,
              "ticks": ""
             }
            },
            "type": "parcoords"
           }
          ],
          "pie": [
           {
            "automargin": true,
            "type": "pie"
           }
          ],
          "scatter": [
           {
            "fillpattern": {
             "fillmode": "overlay",
             "size": 10,
             "solidity": 0.2
            },
            "type": "scatter"
           }
          ],
          "scatter3d": [
           {
            "line": {
             "colorbar": {
              "outlinewidth": 0,
              "ticks": ""
             }
            },
            "marker": {
             "colorbar": {
              "outlinewidth": 0,
              "ticks": ""
             }
            },
            "type": "scatter3d"
           }
          ],
          "scattercarpet": [
           {
            "marker": {
             "colorbar": {
              "outlinewidth": 0,
              "ticks": ""
             }
            },
            "type": "scattercarpet"
           }
          ],
          "scattergeo": [
           {
            "marker": {
             "colorbar": {
              "outlinewidth": 0,
              "ticks": ""
             }
            },
            "type": "scattergeo"
           }
          ],
          "scattergl": [
           {
            "marker": {
             "colorbar": {
              "outlinewidth": 0,
              "ticks": ""
             }
            },
            "type": "scattergl"
           }
          ],
          "scattermapbox": [
           {
            "marker": {
             "colorbar": {
              "outlinewidth": 0,
              "ticks": ""
             }
            },
            "type": "scattermapbox"
           }
          ],
          "scatterpolar": [
           {
            "marker": {
             "colorbar": {
              "outlinewidth": 0,
              "ticks": ""
             }
            },
            "type": "scatterpolar"
           }
          ],
          "scatterpolargl": [
           {
            "marker": {
             "colorbar": {
              "outlinewidth": 0,
              "ticks": ""
             }
            },
            "type": "scatterpolargl"
           }
          ],
          "scatterternary": [
           {
            "marker": {
             "colorbar": {
              "outlinewidth": 0,
              "ticks": ""
             }
            },
            "type": "scatterternary"
           }
          ],
          "surface": [
           {
            "colorbar": {
             "outlinewidth": 0,
             "ticks": ""
            },
            "colorscale": [
             [
              0,
              "#0d0887"
             ],
             [
              0.1111111111111111,
              "#46039f"
             ],
             [
              0.2222222222222222,
              "#7201a8"
             ],
             [
              0.3333333333333333,
              "#9c179e"
             ],
             [
              0.4444444444444444,
              "#bd3786"
             ],
             [
              0.5555555555555556,
              "#d8576b"
             ],
             [
              0.6666666666666666,
              "#ed7953"
             ],
             [
              0.7777777777777778,
              "#fb9f3a"
             ],
             [
              0.8888888888888888,
              "#fdca26"
             ],
             [
              1,
              "#f0f921"
             ]
            ],
            "type": "surface"
           }
          ],
          "table": [
           {
            "cells": {
             "fill": {
              "color": "#EBF0F8"
             },
             "line": {
              "color": "white"
             }
            },
            "header": {
             "fill": {
              "color": "#C8D4E3"
             },
             "line": {
              "color": "white"
             }
            },
            "type": "table"
           }
          ]
         },
         "layout": {
          "annotationdefaults": {
           "arrowcolor": "#2a3f5f",
           "arrowhead": 0,
           "arrowwidth": 1
          },
          "autotypenumbers": "strict",
          "coloraxis": {
           "colorbar": {
            "outlinewidth": 0,
            "ticks": ""
           }
          },
          "colorscale": {
           "diverging": [
            [
             0,
             "#8e0152"
            ],
            [
             0.1,
             "#c51b7d"
            ],
            [
             0.2,
             "#de77ae"
            ],
            [
             0.3,
             "#f1b6da"
            ],
            [
             0.4,
             "#fde0ef"
            ],
            [
             0.5,
             "#f7f7f7"
            ],
            [
             0.6,
             "#e6f5d0"
            ],
            [
             0.7,
             "#b8e186"
            ],
            [
             0.8,
             "#7fbc41"
            ],
            [
             0.9,
             "#4d9221"
            ],
            [
             1,
             "#276419"
            ]
           ],
           "sequential": [
            [
             0,
             "#0d0887"
            ],
            [
             0.1111111111111111,
             "#46039f"
            ],
            [
             0.2222222222222222,
             "#7201a8"
            ],
            [
             0.3333333333333333,
             "#9c179e"
            ],
            [
             0.4444444444444444,
             "#bd3786"
            ],
            [
             0.5555555555555556,
             "#d8576b"
            ],
            [
             0.6666666666666666,
             "#ed7953"
            ],
            [
             0.7777777777777778,
             "#fb9f3a"
            ],
            [
             0.8888888888888888,
             "#fdca26"
            ],
            [
             1,
             "#f0f921"
            ]
           ],
           "sequentialminus": [
            [
             0,
             "#0d0887"
            ],
            [
             0.1111111111111111,
             "#46039f"
            ],
            [
             0.2222222222222222,
             "#7201a8"
            ],
            [
             0.3333333333333333,
             "#9c179e"
            ],
            [
             0.4444444444444444,
             "#bd3786"
            ],
            [
             0.5555555555555556,
             "#d8576b"
            ],
            [
             0.6666666666666666,
             "#ed7953"
            ],
            [
             0.7777777777777778,
             "#fb9f3a"
            ],
            [
             0.8888888888888888,
             "#fdca26"
            ],
            [
             1,
             "#f0f921"
            ]
           ]
          },
          "colorway": [
           "#636efa",
           "#EF553B",
           "#00cc96",
           "#ab63fa",
           "#FFA15A",
           "#19d3f3",
           "#FF6692",
           "#B6E880",
           "#FF97FF",
           "#FECB52"
          ],
          "font": {
           "color": "#2a3f5f"
          },
          "geo": {
           "bgcolor": "white",
           "lakecolor": "white",
           "landcolor": "white",
           "showlakes": true,
           "showland": true,
           "subunitcolor": "#C8D4E3"
          },
          "hoverlabel": {
           "align": "left"
          },
          "hovermode": "closest",
          "mapbox": {
           "style": "light"
          },
          "paper_bgcolor": "white",
          "plot_bgcolor": "white",
          "polar": {
           "angularaxis": {
            "gridcolor": "#EBF0F8",
            "linecolor": "#EBF0F8",
            "ticks": ""
           },
           "bgcolor": "white",
           "radialaxis": {
            "gridcolor": "#EBF0F8",
            "linecolor": "#EBF0F8",
            "ticks": ""
           }
          },
          "scene": {
           "xaxis": {
            "backgroundcolor": "white",
            "gridcolor": "#DFE8F3",
            "gridwidth": 2,
            "linecolor": "#EBF0F8",
            "showbackground": true,
            "ticks": "",
            "zerolinecolor": "#EBF0F8"
           },
           "yaxis": {
            "backgroundcolor": "white",
            "gridcolor": "#DFE8F3",
            "gridwidth": 2,
            "linecolor": "#EBF0F8",
            "showbackground": true,
            "ticks": "",
            "zerolinecolor": "#EBF0F8"
           },
           "zaxis": {
            "backgroundcolor": "white",
            "gridcolor": "#DFE8F3",
            "gridwidth": 2,
            "linecolor": "#EBF0F8",
            "showbackground": true,
            "ticks": "",
            "zerolinecolor": "#EBF0F8"
           }
          },
          "shapedefaults": {
           "line": {
            "color": "#2a3f5f"
           }
          },
          "ternary": {
           "aaxis": {
            "gridcolor": "#DFE8F3",
            "linecolor": "#A2B1C6",
            "ticks": ""
           },
           "baxis": {
            "gridcolor": "#DFE8F3",
            "linecolor": "#A2B1C6",
            "ticks": ""
           },
           "bgcolor": "white",
           "caxis": {
            "gridcolor": "#DFE8F3",
            "linecolor": "#A2B1C6",
            "ticks": ""
           }
          },
          "title": {
           "x": 0.05
          },
          "xaxis": {
           "automargin": true,
           "gridcolor": "#EBF0F8",
           "linecolor": "#EBF0F8",
           "ticks": "",
           "title": {
            "standoff": 15
           },
           "zerolinecolor": "#EBF0F8",
           "zerolinewidth": 2
          },
          "yaxis": {
           "automargin": true,
           "gridcolor": "#EBF0F8",
           "linecolor": "#EBF0F8",
           "ticks": "",
           "title": {
            "standoff": 15
           },
           "zerolinecolor": "#EBF0F8",
           "zerolinewidth": 2
          }
         }
        },
        "title": {
         "text": "Summer - Top 4 Models by SMAPE (Residence 1)",
         "x": 0.5
        },
        "xaxis": {
         "autorange": true,
         "range": [
          157680,
          157779
         ],
         "title": {
          "text": "Observations"
         },
         "type": "linear"
        },
        "yaxis": {
         "autorange": true,
         "range": [
          121.05000000000001,
          178.04999999999998
         ],
         "title": {
          "text": "Values"
         },
         "type": "linear"
        }
       }
      },
      "text/html": [
       "<div>                            <div id=\"ce62f836-048f-42c2-8dac-f4890841eef4\" class=\"plotly-graph-div\" style=\"height:400px; width:100%;\"></div>            <script type=\"text/javascript\">                require([\"plotly\"], function(Plotly) {                    window.PLOTLYENV=window.PLOTLYENV || {};                                    if (document.getElementById(\"ce62f836-048f-42c2-8dac-f4890841eef4\")) {                    Plotly.newPlot(                        \"ce62f836-048f-42c2-8dac-f4890841eef4\",                        [{\"mode\":\"lines\",\"name\":\"Actual\",\"x\":[157680,157681,157682,157683,157684,157685,157686,157687,157688,157689,157690,157691,157692,157693,157694,157695,157696,157697,157698,157699,157700,157701,157702,157703,157704,157705,157706,157707,157708,157709,157710,157711,157712,157713,157714,157715,157716,157717,157718,157719,157720,157721,157722,157723,157724,157725,157726,157727,157728,157729,157730,157731,157732,157733,157734,157735,157736,157737,157738,157739,157740,157741,157742,157743,157744,157745,157746,157747,157748,157749,157750,157751,157752,157753,157754,157755,157756,157757,157758,157759,157760,157761,157762,157763,157764,157765,157766,157767,157768,157769,157770,157771,157772,157773,157774,157775,157776,157777,157778,157779],\"y\":[134.4,166.95,165.75,165.45,165.0,168.6,170.25,164.55,157.65,161.25,155.55,146.1,135.6,141.15,140.85,146.55,148.05,141.3,133.2,135.0,131.4,130.35,123.9,134.1,166.95,165.75,165.45,165.0,168.6,170.25,164.55,157.65,161.25,155.55,146.1,135.6,141.15,140.85,146.55,148.05,141.3,133.2,135.0,131.4,130.35,123.9,134.1,138.6,165.75,165.45,165.0,168.6,170.25,164.55,157.65,161.25,155.55,146.1,135.6,141.15,140.85,146.55,148.05,141.3,133.2,135.0,131.4,130.35,123.9,134.1,138.6,147.9,165.45,165.0,168.6,170.25,164.55,157.65,161.25,155.55,146.1,135.6,141.15,140.85,146.55,148.05,141.3,133.2,135.0,131.4,130.35,123.9,134.1,138.6,147.9,175.2,165.0,168.6,170.25,164.55],\"type\":\"scatter\"},{\"mode\":\"lines\",\"name\":\"HyperNetLSTMRBF\",\"x\":[157680,157681,157682,157683,157684,157685,157686,157687,157688,157689,157690,157691,157692,157693,157694,157695,157696,157697,157698,157699,157700,157701,157702,157703,157704,157705,157706,157707,157708,157709,157710,157711,157712,157713,157714,157715,157716,157717,157718,157719,157720,157721,157722,157723,157724,157725,157726,157727,157728,157729,157730,157731,157732,157733,157734,157735,157736,157737,157738,157739,157740,157741,157742,157743,157744,157745,157746,157747,157748,157749,157750,157751,157752,157753,157754,157755,157756,157757,157758,157759,157760,157761,157762,157763,157764,157765,157766,157767,157768,157769,157770,157771,157772,157773,157774,157775,157776,157777,157778,157779],\"y\":[139.10751,140.18468,150.70692,156.3807,161.88135,166.91705,169.0571,172.70639,169.80591,165.97926,159.65363,151.02191,143.95227,139.35405,136.34288,134.27336,130.88077,129.0819,126.831184,125.02356,124.39932,126.671005,132.23557,141.15747,144.21103,146.6495,154.61313,159.56247,164.42432,167.22977,170.10954,170.63214,163.52574,155.60175,148.11002,141.39243,137.53012,135.05396,133.23543,129.78568,128.2186,126.27597,124.818275,125.05131,128.34712,134.83516,144.65439,155.15169,145.86618,150.05998,157.42578,162.38483,166.0943,168.12173,168.85612,162.197,153.49954,146.80255,140.25471,136.76479,134.8359,133.1094,129.39525,127.75294,125.794655,124.38978,125.03539,128.99626,136.20816,146.7833,156.6936,161.06021,149.22548,155.86868,162.51083,167.45882,169.74252,171.78967,166.73741,156.564,148.74973,141.74057,137.3844,135.74648,134.10391,129.88197,127.86189,125.64728,124.22082,125.088394,129.68483,137.78406,149.53197,160.31236,164.58514,167.53181,150.79869,158.6904,163.73976,166.83267],\"type\":\"scatter\"},{\"mode\":\"lines\",\"name\":\"HyperNetLSTMPoly\",\"x\":[157680,157681,157682,157683,157684,157685,157686,157687,157688,157689,157690,157691,157692,157693,157694,157695,157696,157697,157698,157699,157700,157701,157702,157703,157704,157705,157706,157707,157708,157709,157710,157711,157712,157713,157714,157715,157716,157717,157718,157719,157720,157721,157722,157723,157724,157725,157726,157727,157728,157729,157730,157731,157732,157733,157734,157735,157736,157737,157738,157739,157740,157741,157742,157743,157744,157745,157746,157747,157748,157749,157750,157751,157752,157753,157754,157755,157756,157757,157758,157759,157760,157761,157762,157763,157764,157765,157766,157767,157768,157769,157770,157771,157772,157773,157774,157775,157776,157777,157778,157779],\"y\":[136.05075,143.01033,150.19238,157.00488,164.60971,163.78442,162.32056,163.15768,162.31941,157.11249,150.54254,143.9405,139.06497,136.2188,134.2573,132.67209,132.44623,132.25818,131.13187,131.60161,136.22882,138.25917,137.88918,137.0676,141.14417,149.69556,157.33104,160.38928,163.14746,162.16936,162.09213,160.42105,156.17682,150.99103,144.76723,139.6698,136.61624,134.58952,133.30118,130.58818,131.3402,130.31602,129.40433,134.88167,137.25233,137.93115,136.71684,140.61081,141.98157,153.43758,160.23628,161.56299,162.5349,161.80328,159.97137,155.79541,150.67062,144.46097,139.79077,136.65765,134.76094,133.52655,130.67894,131.31235,130.53322,129.55463,134.95032,137.75969,138.2646,136.3075,142.04865,148.02614,144.95294,159.43912,164.59454,165.70125,167.13055,165.15448,160.57716,155.14207,147.37486,142.18054,138.35931,136.09592,134.61874,131.21107,131.8749,131.6045,130.34499,135.88829,139.63292,139.39676,137.66302,145.57375,152.2926,159.86281,145.35269,160.93341,164.25781,165.09866],\"type\":\"scatter\"},{\"mode\":\"lines\",\"name\":\"Transformer\",\"x\":[157680,157681,157682,157683,157684,157685,157686,157687,157688,157689,157690,157691,157692,157693,157694,157695,157696,157697,157698,157699,157700,157701,157702,157703,157704,157705,157706,157707,157708,157709,157710,157711,157712,157713,157714,157715,157716,157717,157718,157719,157720,157721,157722,157723,157724,157725,157726,157727,157728,157729,157730,157731,157732,157733,157734,157735,157736,157737,157738,157739,157740,157741,157742,157743,157744,157745,157746,157747,157748,157749,157750,157751,157752,157753,157754,157755,157756,157757,157758,157759,157760,157761,157762,157763,157764,157765,157766,157767,157768,157769,157770,157771,157772,157773,157774,157775,157776,157777,157778,157779],\"y\":[138.91241,153.46576,159.9833,163.24521,165.21793,165.97415,164.90576,161.22543,152.91432,144.65869,139.07483,134.48195,130.58012,128.89104,127.86848,127.03235,128.59036,128.36133,127.9319,127.51709,127.19874,126.55519,126.446884,130.30887,153.46576,159.9833,163.24521,165.21793,165.97415,164.90576,161.22543,152.91432,144.65869,139.07483,134.48195,130.58012,128.89104,127.86848,127.03235,128.59036,128.36133,127.9319,127.51709,127.19874,126.55519,126.446884,130.30887,140.97032,159.9833,163.24521,165.21793,165.97415,164.90576,161.22543,152.91432,144.65869,139.07483,134.48195,130.58012,128.89104,127.86848,127.03235,128.59036,128.36133,127.9319,127.51709,127.19874,126.55519,126.446884,130.30887,140.97032,155.43387,167.44711,169.63052,170.4675,169.285,165.21164,156.01294,146.87563,140.69543,135.61206,131.29353,129.42406,128.2923,127.366875,129.09128,128.83778,128.36249,127.90338,127.55103,126.83875,126.71888,130.99332,142.79337,158.80157,165.33444,169.63052,170.4675,169.285,165.21164],\"type\":\"scatter\"},{\"mode\":\"lines\",\"name\":\"AttentionLSTM\",\"x\":[157680,157681,157682,157683,157684,157685,157686,157687,157688,157689,157690,157691,157692,157693,157694,157695,157696,157697,157698,157699,157700,157701,157702,157703,157704,157705,157706,157707,157708,157709,157710,157711,157712,157713,157714,157715,157716,157717,157718,157719,157720,157721,157722,157723,157724,157725,157726,157727,157728,157729,157730,157731,157732,157733,157734,157735,157736,157737,157738,157739,157740,157741,157742,157743,157744,157745,157746,157747,157748,157749,157750,157751,157752,157753,157754,157755,157756,157757,157758,157759,157760,157761,157762,157763,157764,157765,157766,157767,157768,157769,157770,157771,157772,157773,157774,157775,157776,157777,157778,157779],\"y\":[143.0443,155.91623,160.33763,161.1096,161.15259,160.5812,158.90929,155.68597,149.78261,143.93817,139.84221,136.8371,134.86179,134.06241,133.6525,133.4241,129.97539,125.80912,125.518105,125.48105,125.79221,126.93505,129.74925,135.112,148.54611,159.60965,161.09341,161.1538,160.58179,158.90952,155.68607,149.78265,143.93819,139.84224,136.83713,134.8618,134.06241,133.65251,133.42412,129.97546,125.8096,125.5186,125.48156,125.79274,126.93559,129.74983,135.11264,145.10112,154.00351,160.89743,161.15334,160.58257,158.9097,155.68607,149.78262,143.93819,139.84225,136.83714,134.8618,134.06242,133.65253,133.42413,129.97551,125.80993,125.51895,125.48194,125.79316,126.936035,129.75029,135.11314,145.10162,154.3992,160.68102,165.04324,164.50119,162.64914,159.08069,152.5467,146.07814,141.5448,138.21878,136.03249,135.14774,134.69406,134.44127,130.62439,126.0141,125.692085,125.65118,125.99569,127.26065,130.37546,136.31107,147.36627,157.65666,163.23404,161.63316,164.38673,162.64853,159.08131],\"type\":\"scatter\"}],                        {\"template\":{\"data\":{\"barpolar\":[{\"marker\":{\"line\":{\"color\":\"white\",\"width\":0.5},\"pattern\":{\"fillmode\":\"overlay\",\"size\":10,\"solidity\":0.2}},\"type\":\"barpolar\"}],\"bar\":[{\"error_x\":{\"color\":\"#2a3f5f\"},\"error_y\":{\"color\":\"#2a3f5f\"},\"marker\":{\"line\":{\"color\":\"white\",\"width\":0.5},\"pattern\":{\"fillmode\":\"overlay\",\"size\":10,\"solidity\":0.2}},\"type\":\"bar\"}],\"carpet\":[{\"aaxis\":{\"endlinecolor\":\"#2a3f5f\",\"gridcolor\":\"#C8D4E3\",\"linecolor\":\"#C8D4E3\",\"minorgridcolor\":\"#C8D4E3\",\"startlinecolor\":\"#2a3f5f\"},\"baxis\":{\"endlinecolor\":\"#2a3f5f\",\"gridcolor\":\"#C8D4E3\",\"linecolor\":\"#C8D4E3\",\"minorgridcolor\":\"#C8D4E3\",\"startlinecolor\":\"#2a3f5f\"},\"type\":\"carpet\"}],\"choropleth\":[{\"colorbar\":{\"outlinewidth\":0,\"ticks\":\"\"},\"type\":\"choropleth\"}],\"contourcarpet\":[{\"colorbar\":{\"outlinewidth\":0,\"ticks\":\"\"},\"type\":\"contourcarpet\"}],\"contour\":[{\"colorbar\":{\"outlinewidth\":0,\"ticks\":\"\"},\"colorscale\":[[0.0,\"#0d0887\"],[0.1111111111111111,\"#46039f\"],[0.2222222222222222,\"#7201a8\"],[0.3333333333333333,\"#9c179e\"],[0.4444444444444444,\"#bd3786\"],[0.5555555555555556,\"#d8576b\"],[0.6666666666666666,\"#ed7953\"],[0.7777777777777778,\"#fb9f3a\"],[0.8888888888888888,\"#fdca26\"],[1.0,\"#f0f921\"]],\"type\":\"contour\"}],\"heatmapgl\":[{\"colorbar\":{\"outlinewidth\":0,\"ticks\":\"\"},\"colorscale\":[[0.0,\"#0d0887\"],[0.1111111111111111,\"#46039f\"],[0.2222222222222222,\"#7201a8\"],[0.3333333333333333,\"#9c179e\"],[0.4444444444444444,\"#bd3786\"],[0.5555555555555556,\"#d8576b\"],[0.6666666666666666,\"#ed7953\"],[0.7777777777777778,\"#fb9f3a\"],[0.8888888888888888,\"#fdca26\"],[1.0,\"#f0f921\"]],\"type\":\"heatmapgl\"}],\"heatmap\":[{\"colorbar\":{\"outlinewidth\":0,\"ticks\":\"\"},\"colorscale\":[[0.0,\"#0d0887\"],[0.1111111111111111,\"#46039f\"],[0.2222222222222222,\"#7201a8\"],[0.3333333333333333,\"#9c179e\"],[0.4444444444444444,\"#bd3786\"],[0.5555555555555556,\"#d8576b\"],[0.6666666666666666,\"#ed7953\"],[0.7777777777777778,\"#fb9f3a\"],[0.8888888888888888,\"#fdca26\"],[1.0,\"#f0f921\"]],\"type\":\"heatmap\"}],\"histogram2dcontour\":[{\"colorbar\":{\"outlinewidth\":0,\"ticks\":\"\"},\"colorscale\":[[0.0,\"#0d0887\"],[0.1111111111111111,\"#46039f\"],[0.2222222222222222,\"#7201a8\"],[0.3333333333333333,\"#9c179e\"],[0.4444444444444444,\"#bd3786\"],[0.5555555555555556,\"#d8576b\"],[0.6666666666666666,\"#ed7953\"],[0.7777777777777778,\"#fb9f3a\"],[0.8888888888888888,\"#fdca26\"],[1.0,\"#f0f921\"]],\"type\":\"histogram2dcontour\"}],\"histogram2d\":[{\"colorbar\":{\"outlinewidth\":0,\"ticks\":\"\"},\"colorscale\":[[0.0,\"#0d0887\"],[0.1111111111111111,\"#46039f\"],[0.2222222222222222,\"#7201a8\"],[0.3333333333333333,\"#9c179e\"],[0.4444444444444444,\"#bd3786\"],[0.5555555555555556,\"#d8576b\"],[0.6666666666666666,\"#ed7953\"],[0.7777777777777778,\"#fb9f3a\"],[0.8888888888888888,\"#fdca26\"],[1.0,\"#f0f921\"]],\"type\":\"histogram2d\"}],\"histogram\":[{\"marker\":{\"pattern\":{\"fillmode\":\"overlay\",\"size\":10,\"solidity\":0.2}},\"type\":\"histogram\"}],\"mesh3d\":[{\"colorbar\":{\"outlinewidth\":0,\"ticks\":\"\"},\"type\":\"mesh3d\"}],\"parcoords\":[{\"line\":{\"colorbar\":{\"outlinewidth\":0,\"ticks\":\"\"}},\"type\":\"parcoords\"}],\"pie\":[{\"automargin\":true,\"type\":\"pie\"}],\"scatter3d\":[{\"line\":{\"colorbar\":{\"outlinewidth\":0,\"ticks\":\"\"}},\"marker\":{\"colorbar\":{\"outlinewidth\":0,\"ticks\":\"\"}},\"type\":\"scatter3d\"}],\"scattercarpet\":[{\"marker\":{\"colorbar\":{\"outlinewidth\":0,\"ticks\":\"\"}},\"type\":\"scattercarpet\"}],\"scattergeo\":[{\"marker\":{\"colorbar\":{\"outlinewidth\":0,\"ticks\":\"\"}},\"type\":\"scattergeo\"}],\"scattergl\":[{\"marker\":{\"colorbar\":{\"outlinewidth\":0,\"ticks\":\"\"}},\"type\":\"scattergl\"}],\"scattermapbox\":[{\"marker\":{\"colorbar\":{\"outlinewidth\":0,\"ticks\":\"\"}},\"type\":\"scattermapbox\"}],\"scatterpolargl\":[{\"marker\":{\"colorbar\":{\"outlinewidth\":0,\"ticks\":\"\"}},\"type\":\"scatterpolargl\"}],\"scatterpolar\":[{\"marker\":{\"colorbar\":{\"outlinewidth\":0,\"ticks\":\"\"}},\"type\":\"scatterpolar\"}],\"scatter\":[{\"fillpattern\":{\"fillmode\":\"overlay\",\"size\":10,\"solidity\":0.2},\"type\":\"scatter\"}],\"scatterternary\":[{\"marker\":{\"colorbar\":{\"outlinewidth\":0,\"ticks\":\"\"}},\"type\":\"scatterternary\"}],\"surface\":[{\"colorbar\":{\"outlinewidth\":0,\"ticks\":\"\"},\"colorscale\":[[0.0,\"#0d0887\"],[0.1111111111111111,\"#46039f\"],[0.2222222222222222,\"#7201a8\"],[0.3333333333333333,\"#9c179e\"],[0.4444444444444444,\"#bd3786\"],[0.5555555555555556,\"#d8576b\"],[0.6666666666666666,\"#ed7953\"],[0.7777777777777778,\"#fb9f3a\"],[0.8888888888888888,\"#fdca26\"],[1.0,\"#f0f921\"]],\"type\":\"surface\"}],\"table\":[{\"cells\":{\"fill\":{\"color\":\"#EBF0F8\"},\"line\":{\"color\":\"white\"}},\"header\":{\"fill\":{\"color\":\"#C8D4E3\"},\"line\":{\"color\":\"white\"}},\"type\":\"table\"}]},\"layout\":{\"annotationdefaults\":{\"arrowcolor\":\"#2a3f5f\",\"arrowhead\":0,\"arrowwidth\":1},\"autotypenumbers\":\"strict\",\"coloraxis\":{\"colorbar\":{\"outlinewidth\":0,\"ticks\":\"\"}},\"colorscale\":{\"diverging\":[[0,\"#8e0152\"],[0.1,\"#c51b7d\"],[0.2,\"#de77ae\"],[0.3,\"#f1b6da\"],[0.4,\"#fde0ef\"],[0.5,\"#f7f7f7\"],[0.6,\"#e6f5d0\"],[0.7,\"#b8e186\"],[0.8,\"#7fbc41\"],[0.9,\"#4d9221\"],[1,\"#276419\"]],\"sequential\":[[0.0,\"#0d0887\"],[0.1111111111111111,\"#46039f\"],[0.2222222222222222,\"#7201a8\"],[0.3333333333333333,\"#9c179e\"],[0.4444444444444444,\"#bd3786\"],[0.5555555555555556,\"#d8576b\"],[0.6666666666666666,\"#ed7953\"],[0.7777777777777778,\"#fb9f3a\"],[0.8888888888888888,\"#fdca26\"],[1.0,\"#f0f921\"]],\"sequentialminus\":[[0.0,\"#0d0887\"],[0.1111111111111111,\"#46039f\"],[0.2222222222222222,\"#7201a8\"],[0.3333333333333333,\"#9c179e\"],[0.4444444444444444,\"#bd3786\"],[0.5555555555555556,\"#d8576b\"],[0.6666666666666666,\"#ed7953\"],[0.7777777777777778,\"#fb9f3a\"],[0.8888888888888888,\"#fdca26\"],[1.0,\"#f0f921\"]]},\"colorway\":[\"#636efa\",\"#EF553B\",\"#00cc96\",\"#ab63fa\",\"#FFA15A\",\"#19d3f3\",\"#FF6692\",\"#B6E880\",\"#FF97FF\",\"#FECB52\"],\"font\":{\"color\":\"#2a3f5f\"},\"geo\":{\"bgcolor\":\"white\",\"lakecolor\":\"white\",\"landcolor\":\"white\",\"showlakes\":true,\"showland\":true,\"subunitcolor\":\"#C8D4E3\"},\"hoverlabel\":{\"align\":\"left\"},\"hovermode\":\"closest\",\"mapbox\":{\"style\":\"light\"},\"paper_bgcolor\":\"white\",\"plot_bgcolor\":\"white\",\"polar\":{\"angularaxis\":{\"gridcolor\":\"#EBF0F8\",\"linecolor\":\"#EBF0F8\",\"ticks\":\"\"},\"bgcolor\":\"white\",\"radialaxis\":{\"gridcolor\":\"#EBF0F8\",\"linecolor\":\"#EBF0F8\",\"ticks\":\"\"}},\"scene\":{\"xaxis\":{\"backgroundcolor\":\"white\",\"gridcolor\":\"#DFE8F3\",\"gridwidth\":2,\"linecolor\":\"#EBF0F8\",\"showbackground\":true,\"ticks\":\"\",\"zerolinecolor\":\"#EBF0F8\"},\"yaxis\":{\"backgroundcolor\":\"white\",\"gridcolor\":\"#DFE8F3\",\"gridwidth\":2,\"linecolor\":\"#EBF0F8\",\"showbackground\":true,\"ticks\":\"\",\"zerolinecolor\":\"#EBF0F8\"},\"zaxis\":{\"backgroundcolor\":\"white\",\"gridcolor\":\"#DFE8F3\",\"gridwidth\":2,\"linecolor\":\"#EBF0F8\",\"showbackground\":true,\"ticks\":\"\",\"zerolinecolor\":\"#EBF0F8\"}},\"shapedefaults\":{\"line\":{\"color\":\"#2a3f5f\"}},\"ternary\":{\"aaxis\":{\"gridcolor\":\"#DFE8F3\",\"linecolor\":\"#A2B1C6\",\"ticks\":\"\"},\"baxis\":{\"gridcolor\":\"#DFE8F3\",\"linecolor\":\"#A2B1C6\",\"ticks\":\"\"},\"bgcolor\":\"white\",\"caxis\":{\"gridcolor\":\"#DFE8F3\",\"linecolor\":\"#A2B1C6\",\"ticks\":\"\"}},\"title\":{\"x\":0.05},\"xaxis\":{\"automargin\":true,\"gridcolor\":\"#EBF0F8\",\"linecolor\":\"#EBF0F8\",\"ticks\":\"\",\"title\":{\"standoff\":15},\"zerolinecolor\":\"#EBF0F8\",\"zerolinewidth\":2},\"yaxis\":{\"automargin\":true,\"gridcolor\":\"#EBF0F8\",\"linecolor\":\"#EBF0F8\",\"ticks\":\"\",\"title\":{\"standoff\":15},\"zerolinecolor\":\"#EBF0F8\",\"zerolinewidth\":2}}},\"title\":{\"text\":\"Summer - Top 4 Models by SMAPE (Residence 1)\",\"x\":0.5},\"xaxis\":{\"title\":{\"text\":\"Observations\"}},\"yaxis\":{\"title\":{\"text\":\"Values\"}},\"legend\":{\"title\":{\"text\":\"Models\"}},\"height\":400},                        {\"responsive\": true}                    ).then(function(){\n",
       "                            \n",
       "var gd = document.getElementById('ce62f836-048f-42c2-8dac-f4890841eef4');\n",
       "var x = new MutationObserver(function (mutations, observer) {{\n",
       "        var display = window.getComputedStyle(gd).display;\n",
       "        if (!display || display === 'none') {{\n",
       "            console.log([gd, 'removed!']);\n",
       "            Plotly.purge(gd);\n",
       "            observer.disconnect();\n",
       "        }}\n",
       "}});\n",
       "\n",
       "// Listen for the removal of the full notebook cells\n",
       "var notebookContainer = gd.closest('#notebook-container');\n",
       "if (notebookContainer) {{\n",
       "    x.observe(notebookContainer, {childList: true});\n",
       "}}\n",
       "\n",
       "// Listen for the clearing of the current output cell\n",
       "var outputEl = gd.closest('.output');\n",
       "if (outputEl) {{\n",
       "    x.observe(outputEl, {childList: true});\n",
       "}}\n",
       "\n",
       "                        })                };                });            </script>        </div>"
      ]
     },
     "metadata": {},
     "output_type": "display_data"
    },
    {
     "data": {
      "application/vnd.plotly.v1+json": {
       "config": {
        "plotlyServerURL": "https://plot.ly"
       },
       "data": [
        {
         "mode": "lines",
         "name": "Actual",
         "type": "scatter",
         "x": [
          157680,
          157681,
          157682,
          157683,
          157684,
          157685,
          157686,
          157687,
          157688,
          157689,
          157690,
          157691,
          157692,
          157693,
          157694,
          157695,
          157696,
          157697,
          157698,
          157699,
          157700,
          157701,
          157702,
          157703,
          157704,
          157705,
          157706,
          157707,
          157708,
          157709,
          157710,
          157711,
          157712,
          157713,
          157714,
          157715,
          157716,
          157717,
          157718,
          157719,
          157720,
          157721,
          157722,
          157723,
          157724,
          157725,
          157726,
          157727,
          157728,
          157729,
          157730,
          157731,
          157732,
          157733,
          157734,
          157735,
          157736,
          157737,
          157738,
          157739,
          157740,
          157741,
          157742,
          157743,
          157744,
          157745,
          157746,
          157747,
          157748,
          157749,
          157750,
          157751,
          157752,
          157753,
          157754,
          157755,
          157756,
          157757,
          157758,
          157759,
          157760,
          157761,
          157762,
          157763,
          157764,
          157765,
          157766,
          157767,
          157768,
          157769,
          157770,
          157771,
          157772,
          157773,
          157774,
          157775,
          157776,
          157777,
          157778,
          157779
         ],
         "y": [
          250.08,
          263.04,
          253.8,
          260.52,
          249.96,
          253.2,
          259.68,
          252.48,
          248.52,
          254.52,
          251.88,
          256.68,
          255.72,
          247.8,
          249,
          196.68,
          172.8,
          167.64,
          159.96,
          159.48,
          159.72,
          154.68,
          155.04,
          193.32,
          263.04,
          253.8,
          260.52,
          249.96,
          253.2,
          259.68,
          252.48,
          248.52,
          254.52,
          251.88,
          256.68,
          255.72,
          247.8,
          249,
          196.68,
          172.8,
          167.64,
          159.96,
          159.48,
          159.72,
          154.68,
          155.04,
          193.32,
          257.52,
          253.8,
          260.52,
          249.96,
          253.2,
          259.68,
          252.48,
          248.52,
          254.52,
          251.88,
          256.68,
          255.72,
          247.8,
          249,
          196.68,
          172.8,
          167.64,
          159.96,
          159.48,
          159.72,
          154.68,
          155.04,
          193.32,
          257.52,
          258.96,
          260.52,
          249.96,
          253.2,
          259.68,
          252.48,
          248.52,
          254.52,
          251.88,
          256.68,
          255.72,
          247.8,
          249,
          196.68,
          172.8,
          167.64,
          159.96,
          159.48,
          159.72,
          154.68,
          155.04,
          193.32,
          257.52,
          258.96,
          256.8,
          249.96,
          253.2,
          259.68,
          252.48
         ]
        },
        {
         "mode": "lines",
         "name": "HyperNetLSTMRBF",
         "type": "scatter",
         "x": [
          157680,
          157681,
          157682,
          157683,
          157684,
          157685,
          157686,
          157687,
          157688,
          157689,
          157690,
          157691,
          157692,
          157693,
          157694,
          157695,
          157696,
          157697,
          157698,
          157699,
          157700,
          157701,
          157702,
          157703,
          157704,
          157705,
          157706,
          157707,
          157708,
          157709,
          157710,
          157711,
          157712,
          157713,
          157714,
          157715,
          157716,
          157717,
          157718,
          157719,
          157720,
          157721,
          157722,
          157723,
          157724,
          157725,
          157726,
          157727,
          157728,
          157729,
          157730,
          157731,
          157732,
          157733,
          157734,
          157735,
          157736,
          157737,
          157738,
          157739,
          157740,
          157741,
          157742,
          157743,
          157744,
          157745,
          157746,
          157747,
          157748,
          157749,
          157750,
          157751,
          157752,
          157753,
          157754,
          157755,
          157756,
          157757,
          157758,
          157759,
          157760,
          157761,
          157762,
          157763,
          157764,
          157765,
          157766,
          157767,
          157768,
          157769,
          157770,
          157771,
          157772,
          157773,
          157774,
          157775,
          157776,
          157777,
          157778,
          157779
         ],
         "y": [
          193.52539,
          202.3461,
          227.50067,
          225.91925,
          226.33008,
          227.34578,
          234.05887,
          235.72723,
          232.8779,
          235.03302,
          237.16446,
          230.63641,
          218.95697,
          206.07812,
          194.50165,
          188.1672,
          177.66095,
          175.29182,
          173.48296,
          171.11212,
          172.90683,
          185.55296,
          194.69048,
          199.9472,
          194.52463,
          207.72595,
          229.78801,
          228.65105,
          228.39276,
          228.31483,
          231.55823,
          237.04834,
          234.82571,
          236.19772,
          232.0929,
          219.9122,
          207.29663,
          195.46216,
          188.29465,
          177.70009,
          174.55606,
          171.91225,
          170.03754,
          170.55678,
          182.69405,
          194.57765,
          203.13269,
          209.41727,
          194.40128,
          212.07613,
          228.4057,
          228.69377,
          228.82562,
          226.75974,
          228.467,
          233.81682,
          230.95477,
          227.44249,
          217.66348,
          205.61818,
          194.34573,
          187.40503,
          178.04483,
          175.90279,
          173.08621,
          170.77138,
          168.5499,
          180.0416,
          193.19269,
          202.84607,
          213.28777,
          222.78316,
          196.80594,
          217.46358,
          228.36212,
          230.02823,
          229.66046,
          226.28204,
          228.13539,
          230.66435,
          225.32599,
          216.54646,
          205.44598,
          194.64778,
          187.42857,
          178.01268,
          175.2535,
          172.25424,
          170.24991,
          166.63936,
          173.88701,
          190.23743,
          202.40668,
          215.6343,
          229.73245,
          235.23047,
          198.47331,
          221.61081,
          226.93613,
          232.02023
         ]
        },
        {
         "mode": "lines",
         "name": "HyperNetLSTMPoly",
         "type": "scatter",
         "x": [
          157680,
          157681,
          157682,
          157683,
          157684,
          157685,
          157686,
          157687,
          157688,
          157689,
          157690,
          157691,
          157692,
          157693,
          157694,
          157695,
          157696,
          157697,
          157698,
          157699,
          157700,
          157701,
          157702,
          157703,
          157704,
          157705,
          157706,
          157707,
          157708,
          157709,
          157710,
          157711,
          157712,
          157713,
          157714,
          157715,
          157716,
          157717,
          157718,
          157719,
          157720,
          157721,
          157722,
          157723,
          157724,
          157725,
          157726,
          157727,
          157728,
          157729,
          157730,
          157731,
          157732,
          157733,
          157734,
          157735,
          157736,
          157737,
          157738,
          157739,
          157740,
          157741,
          157742,
          157743,
          157744,
          157745,
          157746,
          157747,
          157748,
          157749,
          157750,
          157751,
          157752,
          157753,
          157754,
          157755,
          157756,
          157757,
          157758,
          157759,
          157760,
          157761,
          157762,
          157763,
          157764,
          157765,
          157766,
          157767,
          157768,
          157769,
          157770,
          157771,
          157772,
          157773,
          157774,
          157775,
          157776,
          157777,
          157778,
          157779
         ],
         "y": [
          183.72505,
          204.0418,
          218.47571,
          228.33798,
          238.74341,
          240.68704,
          237.95546,
          239.72614,
          238.62637,
          237.86447,
          236.978,
          233.35548,
          226.03526,
          216.1683,
          202.74634,
          189.39749,
          179.24915,
          180.43428,
          173.89665,
          163.33235,
          164.27795,
          166.14606,
          177.09163,
          185.74045,
          184.46109,
          212.91391,
          227.73193,
          229.96817,
          238.95425,
          239.64806,
          239.04645,
          238.11638,
          237.05304,
          236.36163,
          234.9444,
          226.66211,
          215.60294,
          203.23392,
          190.36061,
          179.1051,
          181.85002,
          174.83885,
          164.02231,
          166.21286,
          167.94406,
          178.5913,
          185.51265,
          203.23799,
          183.40764,
          218.16013,
          232.31628,
          228.7085,
          236.66891,
          237.91933,
          235.90096,
          234.24216,
          233.75851,
          233.50247,
          226.00235,
          213.25278,
          200.79602,
          189.66904,
          178.55763,
          182.45007,
          175.44716,
          165.1542,
          167.7608,
          169.8829,
          180.53052,
          186.39194,
          198.68549,
          217.29785,
          184.63995,
          222.59457,
          233.24672,
          228.008,
          236.95543,
          237.98218,
          234.69937,
          233.63908,
          234.1404,
          231.24573,
          216.46553,
          203.18767,
          192.91974,
          177.87103,
          183.80101,
          176.357,
          166.49321,
          170.0306,
          172.56784,
          181.77531,
          186.24094,
          195.89413,
          218.1501,
          228.34741,
          184.0924,
          223.28946,
          231.1357,
          226.69339
         ]
        },
        {
         "mode": "lines",
         "name": "Nbeats",
         "type": "scatter",
         "x": [
          157680,
          157681,
          157682,
          157683,
          157684,
          157685,
          157686,
          157687,
          157688,
          157689,
          157690,
          157691,
          157692,
          157693,
          157694,
          157695,
          157696,
          157697,
          157698,
          157699,
          157700,
          157701,
          157702,
          157703,
          157704,
          157705,
          157706,
          157707,
          157708,
          157709,
          157710,
          157711,
          157712,
          157713,
          157714,
          157715,
          157716,
          157717,
          157718,
          157719,
          157720,
          157721,
          157722,
          157723,
          157724,
          157725,
          157726,
          157727,
          157728,
          157729,
          157730,
          157731,
          157732,
          157733,
          157734,
          157735,
          157736,
          157737,
          157738,
          157739,
          157740,
          157741,
          157742,
          157743,
          157744,
          157745,
          157746,
          157747,
          157748,
          157749,
          157750,
          157751,
          157752,
          157753,
          157754,
          157755,
          157756,
          157757,
          157758,
          157759,
          157760,
          157761,
          157762,
          157763,
          157764,
          157765,
          157766,
          157767,
          157768,
          157769,
          157770,
          157771,
          157772,
          157773,
          157774,
          157775,
          157776,
          157777,
          157778,
          157779
         ],
         "y": [
          217.66663,
          253.69585,
          256.24408,
          252.59477,
          247.29097,
          244.3261,
          259.8891,
          241.40164,
          227.95108,
          217.048,
          219.94247,
          193.28867,
          184.62701,
          165.58243,
          181.40083,
          159.37523,
          173.54568,
          160.64223,
          178.71245,
          182.24902,
          181.46405,
          189.02716,
          211.45082,
          247.46608,
          238.33536,
          263.30334,
          262.34613,
          254.86565,
          249.79398,
          241.49155,
          256.72583,
          226.92792,
          212.62653,
          206.47218,
          202.9835,
          182.2736,
          174.66472,
          161.41176,
          170.9657,
          164.18456,
          172.82724,
          159.2326,
          172.8939,
          185.9476,
          192.68912,
          199.73749,
          230.47,
          255.36035,
          247.51291,
          275.73026,
          260.0109,
          253.9757,
          240.94215,
          232.95807,
          230.08783,
          212.79861,
          195.04292,
          189.03375,
          188.5726,
          172.59697,
          171.43057,
          165.85818,
          168.14156,
          162.7441,
          172.31975,
          156.17027,
          171.79347,
          183.79642,
          203.3711,
          211.3313,
          248.42888,
          272.04675,
          252.03183,
          277.07275,
          265.68787,
          250.74466,
          233.73012,
          214.92091,
          222.58383,
          196.43173,
          182.70674,
          175.86142,
          174.68565,
          160.99368,
          159.52956,
          167.36285,
          163.7256,
          154.56458,
          167.66223,
          163.24184,
          177.97046,
          198.87616,
          226.01813,
          219.2687,
          259.9275,
          281.62866,
          249.53358,
          271.01813,
          263.6147,
          241.61618
         ]
        },
        {
         "mode": "lines",
         "name": "AttentionLSTM",
         "type": "scatter",
         "x": [
          157680,
          157681,
          157682,
          157683,
          157684,
          157685,
          157686,
          157687,
          157688,
          157689,
          157690,
          157691,
          157692,
          157693,
          157694,
          157695,
          157696,
          157697,
          157698,
          157699,
          157700,
          157701,
          157702,
          157703,
          157704,
          157705,
          157706,
          157707,
          157708,
          157709,
          157710,
          157711,
          157712,
          157713,
          157714,
          157715,
          157716,
          157717,
          157718,
          157719,
          157720,
          157721,
          157722,
          157723,
          157724,
          157725,
          157726,
          157727,
          157728,
          157729,
          157730,
          157731,
          157732,
          157733,
          157734,
          157735,
          157736,
          157737,
          157738,
          157739,
          157740,
          157741,
          157742,
          157743,
          157744,
          157745,
          157746,
          157747,
          157748,
          157749,
          157750,
          157751,
          157752,
          157753,
          157754,
          157755,
          157756,
          157757,
          157758,
          157759,
          157760,
          157761,
          157762,
          157763,
          157764,
          157765,
          157766,
          157767,
          157768,
          157769,
          157770,
          157771,
          157772,
          157773,
          157774,
          157775,
          157776,
          157777,
          157778,
          157779
         ],
         "y": [
          204.73737,
          205.88907,
          226.17203,
          230.9476,
          234.7952,
          236.10986,
          236.60468,
          236.68254,
          235.97348,
          232.87296,
          222.84271,
          204.88358,
          188.65921,
          178.6364,
          174.48758,
          173.72816,
          160.36255,
          156.22815,
          157.0417,
          156.99934,
          159.19872,
          162.55789,
          169.4864,
          183.58029,
          226.13092,
          216.59956,
          232.60037,
          234.68481,
          236.1142,
          236.60526,
          236.68286,
          235.9737,
          232.8732,
          222.84297,
          204.88382,
          188.6594,
          178.63652,
          174.48767,
          173.72824,
          160.3626,
          156.22821,
          157.04175,
          156.99937,
          159.19875,
          162.5579,
          169.48642,
          183.5803,
          199.88098,
          232.02481,
          227.52043,
          233.05405,
          234.21689,
          234.70094,
          234.77621,
          234.08344,
          231.05504,
          221.2581,
          203.71652,
          187.86935,
          178.07954,
          174.02716,
          173.28537,
          160.23045,
          156.19226,
          156.98686,
          156.94547,
          159.09369,
          162.37473,
          169.14209,
          182.90819,
          198.82977,
          213.95502,
          234.1166,
          232.61063,
          234.2352,
          234.70273,
          234.77698,
          234.0839,
          231.05544,
          221.25848,
          203.71689,
          187.8696,
          178.07976,
          174.02734,
          173.28554,
          160.2304,
          156.19234,
          156.9869,
          156.94551,
          159.09372,
          162.37474,
          169.1421,
          182.9082,
          198.82979,
          213.95502,
          224.88,
          234.13919,
          233.56856,
          234.0745,
          234.1432
         ]
        }
       ],
       "layout": {
        "autosize": true,
        "legend": {
         "title": {
          "text": "Models"
         }
        },
        "template": {
         "data": {
          "bar": [
           {
            "error_x": {
             "color": "#2a3f5f"
            },
            "error_y": {
             "color": "#2a3f5f"
            },
            "marker": {
             "line": {
              "color": "white",
              "width": 0.5
             },
             "pattern": {
              "fillmode": "overlay",
              "size": 10,
              "solidity": 0.2
             }
            },
            "type": "bar"
           }
          ],
          "barpolar": [
           {
            "marker": {
             "line": {
              "color": "white",
              "width": 0.5
             },
             "pattern": {
              "fillmode": "overlay",
              "size": 10,
              "solidity": 0.2
             }
            },
            "type": "barpolar"
           }
          ],
          "carpet": [
           {
            "aaxis": {
             "endlinecolor": "#2a3f5f",
             "gridcolor": "#C8D4E3",
             "linecolor": "#C8D4E3",
             "minorgridcolor": "#C8D4E3",
             "startlinecolor": "#2a3f5f"
            },
            "baxis": {
             "endlinecolor": "#2a3f5f",
             "gridcolor": "#C8D4E3",
             "linecolor": "#C8D4E3",
             "minorgridcolor": "#C8D4E3",
             "startlinecolor": "#2a3f5f"
            },
            "type": "carpet"
           }
          ],
          "choropleth": [
           {
            "colorbar": {
             "outlinewidth": 0,
             "ticks": ""
            },
            "type": "choropleth"
           }
          ],
          "contour": [
           {
            "colorbar": {
             "outlinewidth": 0,
             "ticks": ""
            },
            "colorscale": [
             [
              0,
              "#0d0887"
             ],
             [
              0.1111111111111111,
              "#46039f"
             ],
             [
              0.2222222222222222,
              "#7201a8"
             ],
             [
              0.3333333333333333,
              "#9c179e"
             ],
             [
              0.4444444444444444,
              "#bd3786"
             ],
             [
              0.5555555555555556,
              "#d8576b"
             ],
             [
              0.6666666666666666,
              "#ed7953"
             ],
             [
              0.7777777777777778,
              "#fb9f3a"
             ],
             [
              0.8888888888888888,
              "#fdca26"
             ],
             [
              1,
              "#f0f921"
             ]
            ],
            "type": "contour"
           }
          ],
          "contourcarpet": [
           {
            "colorbar": {
             "outlinewidth": 0,
             "ticks": ""
            },
            "type": "contourcarpet"
           }
          ],
          "heatmap": [
           {
            "colorbar": {
             "outlinewidth": 0,
             "ticks": ""
            },
            "colorscale": [
             [
              0,
              "#0d0887"
             ],
             [
              0.1111111111111111,
              "#46039f"
             ],
             [
              0.2222222222222222,
              "#7201a8"
             ],
             [
              0.3333333333333333,
              "#9c179e"
             ],
             [
              0.4444444444444444,
              "#bd3786"
             ],
             [
              0.5555555555555556,
              "#d8576b"
             ],
             [
              0.6666666666666666,
              "#ed7953"
             ],
             [
              0.7777777777777778,
              "#fb9f3a"
             ],
             [
              0.8888888888888888,
              "#fdca26"
             ],
             [
              1,
              "#f0f921"
             ]
            ],
            "type": "heatmap"
           }
          ],
          "heatmapgl": [
           {
            "colorbar": {
             "outlinewidth": 0,
             "ticks": ""
            },
            "colorscale": [
             [
              0,
              "#0d0887"
             ],
             [
              0.1111111111111111,
              "#46039f"
             ],
             [
              0.2222222222222222,
              "#7201a8"
             ],
             [
              0.3333333333333333,
              "#9c179e"
             ],
             [
              0.4444444444444444,
              "#bd3786"
             ],
             [
              0.5555555555555556,
              "#d8576b"
             ],
             [
              0.6666666666666666,
              "#ed7953"
             ],
             [
              0.7777777777777778,
              "#fb9f3a"
             ],
             [
              0.8888888888888888,
              "#fdca26"
             ],
             [
              1,
              "#f0f921"
             ]
            ],
            "type": "heatmapgl"
           }
          ],
          "histogram": [
           {
            "marker": {
             "pattern": {
              "fillmode": "overlay",
              "size": 10,
              "solidity": 0.2
             }
            },
            "type": "histogram"
           }
          ],
          "histogram2d": [
           {
            "colorbar": {
             "outlinewidth": 0,
             "ticks": ""
            },
            "colorscale": [
             [
              0,
              "#0d0887"
             ],
             [
              0.1111111111111111,
              "#46039f"
             ],
             [
              0.2222222222222222,
              "#7201a8"
             ],
             [
              0.3333333333333333,
              "#9c179e"
             ],
             [
              0.4444444444444444,
              "#bd3786"
             ],
             [
              0.5555555555555556,
              "#d8576b"
             ],
             [
              0.6666666666666666,
              "#ed7953"
             ],
             [
              0.7777777777777778,
              "#fb9f3a"
             ],
             [
              0.8888888888888888,
              "#fdca26"
             ],
             [
              1,
              "#f0f921"
             ]
            ],
            "type": "histogram2d"
           }
          ],
          "histogram2dcontour": [
           {
            "colorbar": {
             "outlinewidth": 0,
             "ticks": ""
            },
            "colorscale": [
             [
              0,
              "#0d0887"
             ],
             [
              0.1111111111111111,
              "#46039f"
             ],
             [
              0.2222222222222222,
              "#7201a8"
             ],
             [
              0.3333333333333333,
              "#9c179e"
             ],
             [
              0.4444444444444444,
              "#bd3786"
             ],
             [
              0.5555555555555556,
              "#d8576b"
             ],
             [
              0.6666666666666666,
              "#ed7953"
             ],
             [
              0.7777777777777778,
              "#fb9f3a"
             ],
             [
              0.8888888888888888,
              "#fdca26"
             ],
             [
              1,
              "#f0f921"
             ]
            ],
            "type": "histogram2dcontour"
           }
          ],
          "mesh3d": [
           {
            "colorbar": {
             "outlinewidth": 0,
             "ticks": ""
            },
            "type": "mesh3d"
           }
          ],
          "parcoords": [
           {
            "line": {
             "colorbar": {
              "outlinewidth": 0,
              "ticks": ""
             }
            },
            "type": "parcoords"
           }
          ],
          "pie": [
           {
            "automargin": true,
            "type": "pie"
           }
          ],
          "scatter": [
           {
            "fillpattern": {
             "fillmode": "overlay",
             "size": 10,
             "solidity": 0.2
            },
            "type": "scatter"
           }
          ],
          "scatter3d": [
           {
            "line": {
             "colorbar": {
              "outlinewidth": 0,
              "ticks": ""
             }
            },
            "marker": {
             "colorbar": {
              "outlinewidth": 0,
              "ticks": ""
             }
            },
            "type": "scatter3d"
           }
          ],
          "scattercarpet": [
           {
            "marker": {
             "colorbar": {
              "outlinewidth": 0,
              "ticks": ""
             }
            },
            "type": "scattercarpet"
           }
          ],
          "scattergeo": [
           {
            "marker": {
             "colorbar": {
              "outlinewidth": 0,
              "ticks": ""
             }
            },
            "type": "scattergeo"
           }
          ],
          "scattergl": [
           {
            "marker": {
             "colorbar": {
              "outlinewidth": 0,
              "ticks": ""
             }
            },
            "type": "scattergl"
           }
          ],
          "scattermapbox": [
           {
            "marker": {
             "colorbar": {
              "outlinewidth": 0,
              "ticks": ""
             }
            },
            "type": "scattermapbox"
           }
          ],
          "scatterpolar": [
           {
            "marker": {
             "colorbar": {
              "outlinewidth": 0,
              "ticks": ""
             }
            },
            "type": "scatterpolar"
           }
          ],
          "scatterpolargl": [
           {
            "marker": {
             "colorbar": {
              "outlinewidth": 0,
              "ticks": ""
             }
            },
            "type": "scatterpolargl"
           }
          ],
          "scatterternary": [
           {
            "marker": {
             "colorbar": {
              "outlinewidth": 0,
              "ticks": ""
             }
            },
            "type": "scatterternary"
           }
          ],
          "surface": [
           {
            "colorbar": {
             "outlinewidth": 0,
             "ticks": ""
            },
            "colorscale": [
             [
              0,
              "#0d0887"
             ],
             [
              0.1111111111111111,
              "#46039f"
             ],
             [
              0.2222222222222222,
              "#7201a8"
             ],
             [
              0.3333333333333333,
              "#9c179e"
             ],
             [
              0.4444444444444444,
              "#bd3786"
             ],
             [
              0.5555555555555556,
              "#d8576b"
             ],
             [
              0.6666666666666666,
              "#ed7953"
             ],
             [
              0.7777777777777778,
              "#fb9f3a"
             ],
             [
              0.8888888888888888,
              "#fdca26"
             ],
             [
              1,
              "#f0f921"
             ]
            ],
            "type": "surface"
           }
          ],
          "table": [
           {
            "cells": {
             "fill": {
              "color": "#EBF0F8"
             },
             "line": {
              "color": "white"
             }
            },
            "header": {
             "fill": {
              "color": "#C8D4E3"
             },
             "line": {
              "color": "white"
             }
            },
            "type": "table"
           }
          ]
         },
         "layout": {
          "annotationdefaults": {
           "arrowcolor": "#2a3f5f",
           "arrowhead": 0,
           "arrowwidth": 1
          },
          "autotypenumbers": "strict",
          "coloraxis": {
           "colorbar": {
            "outlinewidth": 0,
            "ticks": ""
           }
          },
          "colorscale": {
           "diverging": [
            [
             0,
             "#8e0152"
            ],
            [
             0.1,
             "#c51b7d"
            ],
            [
             0.2,
             "#de77ae"
            ],
            [
             0.3,
             "#f1b6da"
            ],
            [
             0.4,
             "#fde0ef"
            ],
            [
             0.5,
             "#f7f7f7"
            ],
            [
             0.6,
             "#e6f5d0"
            ],
            [
             0.7,
             "#b8e186"
            ],
            [
             0.8,
             "#7fbc41"
            ],
            [
             0.9,
             "#4d9221"
            ],
            [
             1,
             "#276419"
            ]
           ],
           "sequential": [
            [
             0,
             "#0d0887"
            ],
            [
             0.1111111111111111,
             "#46039f"
            ],
            [
             0.2222222222222222,
             "#7201a8"
            ],
            [
             0.3333333333333333,
             "#9c179e"
            ],
            [
             0.4444444444444444,
             "#bd3786"
            ],
            [
             0.5555555555555556,
             "#d8576b"
            ],
            [
             0.6666666666666666,
             "#ed7953"
            ],
            [
             0.7777777777777778,
             "#fb9f3a"
            ],
            [
             0.8888888888888888,
             "#fdca26"
            ],
            [
             1,
             "#f0f921"
            ]
           ],
           "sequentialminus": [
            [
             0,
             "#0d0887"
            ],
            [
             0.1111111111111111,
             "#46039f"
            ],
            [
             0.2222222222222222,
             "#7201a8"
            ],
            [
             0.3333333333333333,
             "#9c179e"
            ],
            [
             0.4444444444444444,
             "#bd3786"
            ],
            [
             0.5555555555555556,
             "#d8576b"
            ],
            [
             0.6666666666666666,
             "#ed7953"
            ],
            [
             0.7777777777777778,
             "#fb9f3a"
            ],
            [
             0.8888888888888888,
             "#fdca26"
            ],
            [
             1,
             "#f0f921"
            ]
           ]
          },
          "colorway": [
           "#636efa",
           "#EF553B",
           "#00cc96",
           "#ab63fa",
           "#FFA15A",
           "#19d3f3",
           "#FF6692",
           "#B6E880",
           "#FF97FF",
           "#FECB52"
          ],
          "font": {
           "color": "#2a3f5f"
          },
          "geo": {
           "bgcolor": "white",
           "lakecolor": "white",
           "landcolor": "white",
           "showlakes": true,
           "showland": true,
           "subunitcolor": "#C8D4E3"
          },
          "hoverlabel": {
           "align": "left"
          },
          "hovermode": "closest",
          "mapbox": {
           "style": "light"
          },
          "paper_bgcolor": "white",
          "plot_bgcolor": "white",
          "polar": {
           "angularaxis": {
            "gridcolor": "#EBF0F8",
            "linecolor": "#EBF0F8",
            "ticks": ""
           },
           "bgcolor": "white",
           "radialaxis": {
            "gridcolor": "#EBF0F8",
            "linecolor": "#EBF0F8",
            "ticks": ""
           }
          },
          "scene": {
           "xaxis": {
            "backgroundcolor": "white",
            "gridcolor": "#DFE8F3",
            "gridwidth": 2,
            "linecolor": "#EBF0F8",
            "showbackground": true,
            "ticks": "",
            "zerolinecolor": "#EBF0F8"
           },
           "yaxis": {
            "backgroundcolor": "white",
            "gridcolor": "#DFE8F3",
            "gridwidth": 2,
            "linecolor": "#EBF0F8",
            "showbackground": true,
            "ticks": "",
            "zerolinecolor": "#EBF0F8"
           },
           "zaxis": {
            "backgroundcolor": "white",
            "gridcolor": "#DFE8F3",
            "gridwidth": 2,
            "linecolor": "#EBF0F8",
            "showbackground": true,
            "ticks": "",
            "zerolinecolor": "#EBF0F8"
           }
          },
          "shapedefaults": {
           "line": {
            "color": "#2a3f5f"
           }
          },
          "ternary": {
           "aaxis": {
            "gridcolor": "#DFE8F3",
            "linecolor": "#A2B1C6",
            "ticks": ""
           },
           "baxis": {
            "gridcolor": "#DFE8F3",
            "linecolor": "#A2B1C6",
            "ticks": ""
           },
           "bgcolor": "white",
           "caxis": {
            "gridcolor": "#DFE8F3",
            "linecolor": "#A2B1C6",
            "ticks": ""
           }
          },
          "title": {
           "x": 0.05
          },
          "xaxis": {
           "automargin": true,
           "gridcolor": "#EBF0F8",
           "linecolor": "#EBF0F8",
           "ticks": "",
           "title": {
            "standoff": 15
           },
           "zerolinecolor": "#EBF0F8",
           "zerolinewidth": 2
          },
          "yaxis": {
           "automargin": true,
           "gridcolor": "#EBF0F8",
           "linecolor": "#EBF0F8",
           "ticks": "",
           "title": {
            "standoff": 15
           },
           "zerolinecolor": "#EBF0F8",
           "zerolinewidth": 2
          }
         }
        },
        "title": {
         "text": "Summer - Top 4 Models by SMAPE (Residence 2)",
         "x": 0.5
        },
        "xaxis": {
         "autorange": true,
         "range": [
          157680,
          157779
         ],
         "title": {
          "text": "Observations"
         },
         "type": "linear"
        },
        "yaxis": {
         "autorange": true,
         "range": [
          147.50546444444444,
          288.68777555555556
         ],
         "title": {
          "text": "Values"
         },
         "type": "linear"
        }
       }
      },
      "text/html": [
       "<div>                            <div id=\"19588173-d749-4ee3-9d7a-d723579dfc9d\" class=\"plotly-graph-div\" style=\"height:400px; width:100%;\"></div>            <script type=\"text/javascript\">                require([\"plotly\"], function(Plotly) {                    window.PLOTLYENV=window.PLOTLYENV || {};                                    if (document.getElementById(\"19588173-d749-4ee3-9d7a-d723579dfc9d\")) {                    Plotly.newPlot(                        \"19588173-d749-4ee3-9d7a-d723579dfc9d\",                        [{\"mode\":\"lines\",\"name\":\"Actual\",\"x\":[157680,157681,157682,157683,157684,157685,157686,157687,157688,157689,157690,157691,157692,157693,157694,157695,157696,157697,157698,157699,157700,157701,157702,157703,157704,157705,157706,157707,157708,157709,157710,157711,157712,157713,157714,157715,157716,157717,157718,157719,157720,157721,157722,157723,157724,157725,157726,157727,157728,157729,157730,157731,157732,157733,157734,157735,157736,157737,157738,157739,157740,157741,157742,157743,157744,157745,157746,157747,157748,157749,157750,157751,157752,157753,157754,157755,157756,157757,157758,157759,157760,157761,157762,157763,157764,157765,157766,157767,157768,157769,157770,157771,157772,157773,157774,157775,157776,157777,157778,157779],\"y\":[250.08,263.04,253.8,260.52,249.96,253.2,259.68,252.48,248.52,254.52,251.88,256.68,255.72,247.8,249.0,196.68,172.8,167.64,159.96,159.48,159.72,154.68,155.04,193.32,263.04,253.8,260.52,249.96,253.2,259.68,252.48,248.52,254.52,251.88,256.68,255.72,247.8,249.0,196.68,172.8,167.64,159.96,159.48,159.72,154.68,155.04,193.32,257.52,253.8,260.52,249.96,253.2,259.68,252.48,248.52,254.52,251.88,256.68,255.72,247.8,249.0,196.68,172.8,167.64,159.96,159.48,159.72,154.68,155.04,193.32,257.52,258.96,260.52,249.96,253.2,259.68,252.48,248.52,254.52,251.88,256.68,255.72,247.8,249.0,196.68,172.8,167.64,159.96,159.48,159.72,154.68,155.04,193.32,257.52,258.96,256.8,249.96,253.2,259.68,252.48],\"type\":\"scatter\"},{\"mode\":\"lines\",\"name\":\"HyperNetLSTMRBF\",\"x\":[157680,157681,157682,157683,157684,157685,157686,157687,157688,157689,157690,157691,157692,157693,157694,157695,157696,157697,157698,157699,157700,157701,157702,157703,157704,157705,157706,157707,157708,157709,157710,157711,157712,157713,157714,157715,157716,157717,157718,157719,157720,157721,157722,157723,157724,157725,157726,157727,157728,157729,157730,157731,157732,157733,157734,157735,157736,157737,157738,157739,157740,157741,157742,157743,157744,157745,157746,157747,157748,157749,157750,157751,157752,157753,157754,157755,157756,157757,157758,157759,157760,157761,157762,157763,157764,157765,157766,157767,157768,157769,157770,157771,157772,157773,157774,157775,157776,157777,157778,157779],\"y\":[193.52539,202.3461,227.50067,225.91925,226.33008,227.34578,234.05887,235.72723,232.8779,235.03302,237.16446,230.63641,218.95697,206.07812,194.50165,188.1672,177.66095,175.29182,173.48296,171.11212,172.90683,185.55296,194.69048,199.9472,194.52463,207.72595,229.78801,228.65105,228.39276,228.31483,231.55823,237.04834,234.82571,236.19772,232.0929,219.9122,207.29663,195.46216,188.29465,177.70009,174.55606,171.91225,170.03754,170.55678,182.69405,194.57765,203.13269,209.41727,194.40128,212.07613,228.4057,228.69377,228.82562,226.75974,228.467,233.81682,230.95477,227.44249,217.66348,205.61818,194.34573,187.40503,178.04483,175.90279,173.08621,170.77138,168.5499,180.0416,193.19269,202.84607,213.28777,222.78316,196.80594,217.46358,228.36212,230.02823,229.66046,226.28204,228.13539,230.66435,225.32599,216.54646,205.44598,194.64778,187.42857,178.01268,175.2535,172.25424,170.24991,166.63936,173.88701,190.23743,202.40668,215.6343,229.73245,235.23047,198.47331,221.61081,226.93613,232.02023],\"type\":\"scatter\"},{\"mode\":\"lines\",\"name\":\"HyperNetLSTMPoly\",\"x\":[157680,157681,157682,157683,157684,157685,157686,157687,157688,157689,157690,157691,157692,157693,157694,157695,157696,157697,157698,157699,157700,157701,157702,157703,157704,157705,157706,157707,157708,157709,157710,157711,157712,157713,157714,157715,157716,157717,157718,157719,157720,157721,157722,157723,157724,157725,157726,157727,157728,157729,157730,157731,157732,157733,157734,157735,157736,157737,157738,157739,157740,157741,157742,157743,157744,157745,157746,157747,157748,157749,157750,157751,157752,157753,157754,157755,157756,157757,157758,157759,157760,157761,157762,157763,157764,157765,157766,157767,157768,157769,157770,157771,157772,157773,157774,157775,157776,157777,157778,157779],\"y\":[183.72505,204.0418,218.47571,228.33798,238.74341,240.68704,237.95546,239.72614,238.62637,237.86447,236.978,233.35548,226.03526,216.1683,202.74634,189.39749,179.24915,180.43428,173.89665,163.33235,164.27795,166.14606,177.09163,185.74045,184.46109,212.91391,227.73193,229.96817,238.95425,239.64806,239.04645,238.11638,237.05304,236.36163,234.9444,226.66211,215.60294,203.23392,190.36061,179.1051,181.85002,174.83885,164.02231,166.21286,167.94406,178.5913,185.51265,203.23799,183.40764,218.16013,232.31628,228.7085,236.66891,237.91933,235.90096,234.24216,233.75851,233.50247,226.00235,213.25278,200.79602,189.66904,178.55763,182.45007,175.44716,165.1542,167.7608,169.8829,180.53052,186.39194,198.68549,217.29785,184.63995,222.59457,233.24672,228.008,236.95543,237.98218,234.69937,233.63908,234.1404,231.24573,216.46553,203.18767,192.91974,177.87103,183.80101,176.357,166.49321,170.0306,172.56784,181.77531,186.24094,195.89413,218.1501,228.34741,184.0924,223.28946,231.1357,226.69339],\"type\":\"scatter\"},{\"mode\":\"lines\",\"name\":\"Nbeats\",\"x\":[157680,157681,157682,157683,157684,157685,157686,157687,157688,157689,157690,157691,157692,157693,157694,157695,157696,157697,157698,157699,157700,157701,157702,157703,157704,157705,157706,157707,157708,157709,157710,157711,157712,157713,157714,157715,157716,157717,157718,157719,157720,157721,157722,157723,157724,157725,157726,157727,157728,157729,157730,157731,157732,157733,157734,157735,157736,157737,157738,157739,157740,157741,157742,157743,157744,157745,157746,157747,157748,157749,157750,157751,157752,157753,157754,157755,157756,157757,157758,157759,157760,157761,157762,157763,157764,157765,157766,157767,157768,157769,157770,157771,157772,157773,157774,157775,157776,157777,157778,157779],\"y\":[217.66663,253.69585,256.24408,252.59477,247.29097,244.3261,259.8891,241.40164,227.95108,217.048,219.94247,193.28867,184.62701,165.58243,181.40083,159.37523,173.54568,160.64223,178.71245,182.24902,181.46405,189.02716,211.45082,247.46608,238.33536,263.30334,262.34613,254.86565,249.79398,241.49155,256.72583,226.92792,212.62653,206.47218,202.9835,182.2736,174.66472,161.41176,170.9657,164.18456,172.82724,159.2326,172.8939,185.9476,192.68912,199.73749,230.47,255.36035,247.51291,275.73026,260.0109,253.9757,240.94215,232.95807,230.08783,212.79861,195.04292,189.03375,188.5726,172.59697,171.43057,165.85818,168.14156,162.7441,172.31975,156.17027,171.79347,183.79642,203.3711,211.3313,248.42888,272.04675,252.03183,277.07275,265.68787,250.74466,233.73012,214.92091,222.58383,196.43173,182.70674,175.86142,174.68565,160.99368,159.52956,167.36285,163.7256,154.56458,167.66223,163.24184,177.97046,198.87616,226.01813,219.2687,259.9275,281.62866,249.53358,271.01813,263.6147,241.61618],\"type\":\"scatter\"},{\"mode\":\"lines\",\"name\":\"AttentionLSTM\",\"x\":[157680,157681,157682,157683,157684,157685,157686,157687,157688,157689,157690,157691,157692,157693,157694,157695,157696,157697,157698,157699,157700,157701,157702,157703,157704,157705,157706,157707,157708,157709,157710,157711,157712,157713,157714,157715,157716,157717,157718,157719,157720,157721,157722,157723,157724,157725,157726,157727,157728,157729,157730,157731,157732,157733,157734,157735,157736,157737,157738,157739,157740,157741,157742,157743,157744,157745,157746,157747,157748,157749,157750,157751,157752,157753,157754,157755,157756,157757,157758,157759,157760,157761,157762,157763,157764,157765,157766,157767,157768,157769,157770,157771,157772,157773,157774,157775,157776,157777,157778,157779],\"y\":[204.73737,205.88907,226.17203,230.9476,234.7952,236.10986,236.60468,236.68254,235.97348,232.87296,222.84271,204.88358,188.65921,178.6364,174.48758,173.72816,160.36255,156.22815,157.0417,156.99934,159.19872,162.55789,169.4864,183.58029,226.13092,216.59956,232.60037,234.68481,236.1142,236.60526,236.68286,235.9737,232.8732,222.84297,204.88382,188.6594,178.63652,174.48767,173.72824,160.3626,156.22821,157.04175,156.99937,159.19875,162.5579,169.48642,183.5803,199.88098,232.02481,227.52043,233.05405,234.21689,234.70094,234.77621,234.08344,231.05504,221.2581,203.71652,187.86935,178.07954,174.02716,173.28537,160.23045,156.19226,156.98686,156.94547,159.09369,162.37473,169.14209,182.90819,198.82977,213.95502,234.1166,232.61063,234.2352,234.70273,234.77698,234.0839,231.05544,221.25848,203.71689,187.8696,178.07976,174.02734,173.28554,160.2304,156.19234,156.9869,156.94551,159.09372,162.37474,169.1421,182.9082,198.82979,213.95502,224.88,234.13919,233.56856,234.0745,234.1432],\"type\":\"scatter\"}],                        {\"template\":{\"data\":{\"barpolar\":[{\"marker\":{\"line\":{\"color\":\"white\",\"width\":0.5},\"pattern\":{\"fillmode\":\"overlay\",\"size\":10,\"solidity\":0.2}},\"type\":\"barpolar\"}],\"bar\":[{\"error_x\":{\"color\":\"#2a3f5f\"},\"error_y\":{\"color\":\"#2a3f5f\"},\"marker\":{\"line\":{\"color\":\"white\",\"width\":0.5},\"pattern\":{\"fillmode\":\"overlay\",\"size\":10,\"solidity\":0.2}},\"type\":\"bar\"}],\"carpet\":[{\"aaxis\":{\"endlinecolor\":\"#2a3f5f\",\"gridcolor\":\"#C8D4E3\",\"linecolor\":\"#C8D4E3\",\"minorgridcolor\":\"#C8D4E3\",\"startlinecolor\":\"#2a3f5f\"},\"baxis\":{\"endlinecolor\":\"#2a3f5f\",\"gridcolor\":\"#C8D4E3\",\"linecolor\":\"#C8D4E3\",\"minorgridcolor\":\"#C8D4E3\",\"startlinecolor\":\"#2a3f5f\"},\"type\":\"carpet\"}],\"choropleth\":[{\"colorbar\":{\"outlinewidth\":0,\"ticks\":\"\"},\"type\":\"choropleth\"}],\"contourcarpet\":[{\"colorbar\":{\"outlinewidth\":0,\"ticks\":\"\"},\"type\":\"contourcarpet\"}],\"contour\":[{\"colorbar\":{\"outlinewidth\":0,\"ticks\":\"\"},\"colorscale\":[[0.0,\"#0d0887\"],[0.1111111111111111,\"#46039f\"],[0.2222222222222222,\"#7201a8\"],[0.3333333333333333,\"#9c179e\"],[0.4444444444444444,\"#bd3786\"],[0.5555555555555556,\"#d8576b\"],[0.6666666666666666,\"#ed7953\"],[0.7777777777777778,\"#fb9f3a\"],[0.8888888888888888,\"#fdca26\"],[1.0,\"#f0f921\"]],\"type\":\"contour\"}],\"heatmapgl\":[{\"colorbar\":{\"outlinewidth\":0,\"ticks\":\"\"},\"colorscale\":[[0.0,\"#0d0887\"],[0.1111111111111111,\"#46039f\"],[0.2222222222222222,\"#7201a8\"],[0.3333333333333333,\"#9c179e\"],[0.4444444444444444,\"#bd3786\"],[0.5555555555555556,\"#d8576b\"],[0.6666666666666666,\"#ed7953\"],[0.7777777777777778,\"#fb9f3a\"],[0.8888888888888888,\"#fdca26\"],[1.0,\"#f0f921\"]],\"type\":\"heatmapgl\"}],\"heatmap\":[{\"colorbar\":{\"outlinewidth\":0,\"ticks\":\"\"},\"colorscale\":[[0.0,\"#0d0887\"],[0.1111111111111111,\"#46039f\"],[0.2222222222222222,\"#7201a8\"],[0.3333333333333333,\"#9c179e\"],[0.4444444444444444,\"#bd3786\"],[0.5555555555555556,\"#d8576b\"],[0.6666666666666666,\"#ed7953\"],[0.7777777777777778,\"#fb9f3a\"],[0.8888888888888888,\"#fdca26\"],[1.0,\"#f0f921\"]],\"type\":\"heatmap\"}],\"histogram2dcontour\":[{\"colorbar\":{\"outlinewidth\":0,\"ticks\":\"\"},\"colorscale\":[[0.0,\"#0d0887\"],[0.1111111111111111,\"#46039f\"],[0.2222222222222222,\"#7201a8\"],[0.3333333333333333,\"#9c179e\"],[0.4444444444444444,\"#bd3786\"],[0.5555555555555556,\"#d8576b\"],[0.6666666666666666,\"#ed7953\"],[0.7777777777777778,\"#fb9f3a\"],[0.8888888888888888,\"#fdca26\"],[1.0,\"#f0f921\"]],\"type\":\"histogram2dcontour\"}],\"histogram2d\":[{\"colorbar\":{\"outlinewidth\":0,\"ticks\":\"\"},\"colorscale\":[[0.0,\"#0d0887\"],[0.1111111111111111,\"#46039f\"],[0.2222222222222222,\"#7201a8\"],[0.3333333333333333,\"#9c179e\"],[0.4444444444444444,\"#bd3786\"],[0.5555555555555556,\"#d8576b\"],[0.6666666666666666,\"#ed7953\"],[0.7777777777777778,\"#fb9f3a\"],[0.8888888888888888,\"#fdca26\"],[1.0,\"#f0f921\"]],\"type\":\"histogram2d\"}],\"histogram\":[{\"marker\":{\"pattern\":{\"fillmode\":\"overlay\",\"size\":10,\"solidity\":0.2}},\"type\":\"histogram\"}],\"mesh3d\":[{\"colorbar\":{\"outlinewidth\":0,\"ticks\":\"\"},\"type\":\"mesh3d\"}],\"parcoords\":[{\"line\":{\"colorbar\":{\"outlinewidth\":0,\"ticks\":\"\"}},\"type\":\"parcoords\"}],\"pie\":[{\"automargin\":true,\"type\":\"pie\"}],\"scatter3d\":[{\"line\":{\"colorbar\":{\"outlinewidth\":0,\"ticks\":\"\"}},\"marker\":{\"colorbar\":{\"outlinewidth\":0,\"ticks\":\"\"}},\"type\":\"scatter3d\"}],\"scattercarpet\":[{\"marker\":{\"colorbar\":{\"outlinewidth\":0,\"ticks\":\"\"}},\"type\":\"scattercarpet\"}],\"scattergeo\":[{\"marker\":{\"colorbar\":{\"outlinewidth\":0,\"ticks\":\"\"}},\"type\":\"scattergeo\"}],\"scattergl\":[{\"marker\":{\"colorbar\":{\"outlinewidth\":0,\"ticks\":\"\"}},\"type\":\"scattergl\"}],\"scattermapbox\":[{\"marker\":{\"colorbar\":{\"outlinewidth\":0,\"ticks\":\"\"}},\"type\":\"scattermapbox\"}],\"scatterpolargl\":[{\"marker\":{\"colorbar\":{\"outlinewidth\":0,\"ticks\":\"\"}},\"type\":\"scatterpolargl\"}],\"scatterpolar\":[{\"marker\":{\"colorbar\":{\"outlinewidth\":0,\"ticks\":\"\"}},\"type\":\"scatterpolar\"}],\"scatter\":[{\"fillpattern\":{\"fillmode\":\"overlay\",\"size\":10,\"solidity\":0.2},\"type\":\"scatter\"}],\"scatterternary\":[{\"marker\":{\"colorbar\":{\"outlinewidth\":0,\"ticks\":\"\"}},\"type\":\"scatterternary\"}],\"surface\":[{\"colorbar\":{\"outlinewidth\":0,\"ticks\":\"\"},\"colorscale\":[[0.0,\"#0d0887\"],[0.1111111111111111,\"#46039f\"],[0.2222222222222222,\"#7201a8\"],[0.3333333333333333,\"#9c179e\"],[0.4444444444444444,\"#bd3786\"],[0.5555555555555556,\"#d8576b\"],[0.6666666666666666,\"#ed7953\"],[0.7777777777777778,\"#fb9f3a\"],[0.8888888888888888,\"#fdca26\"],[1.0,\"#f0f921\"]],\"type\":\"surface\"}],\"table\":[{\"cells\":{\"fill\":{\"color\":\"#EBF0F8\"},\"line\":{\"color\":\"white\"}},\"header\":{\"fill\":{\"color\":\"#C8D4E3\"},\"line\":{\"color\":\"white\"}},\"type\":\"table\"}]},\"layout\":{\"annotationdefaults\":{\"arrowcolor\":\"#2a3f5f\",\"arrowhead\":0,\"arrowwidth\":1},\"autotypenumbers\":\"strict\",\"coloraxis\":{\"colorbar\":{\"outlinewidth\":0,\"ticks\":\"\"}},\"colorscale\":{\"diverging\":[[0,\"#8e0152\"],[0.1,\"#c51b7d\"],[0.2,\"#de77ae\"],[0.3,\"#f1b6da\"],[0.4,\"#fde0ef\"],[0.5,\"#f7f7f7\"],[0.6,\"#e6f5d0\"],[0.7,\"#b8e186\"],[0.8,\"#7fbc41\"],[0.9,\"#4d9221\"],[1,\"#276419\"]],\"sequential\":[[0.0,\"#0d0887\"],[0.1111111111111111,\"#46039f\"],[0.2222222222222222,\"#7201a8\"],[0.3333333333333333,\"#9c179e\"],[0.4444444444444444,\"#bd3786\"],[0.5555555555555556,\"#d8576b\"],[0.6666666666666666,\"#ed7953\"],[0.7777777777777778,\"#fb9f3a\"],[0.8888888888888888,\"#fdca26\"],[1.0,\"#f0f921\"]],\"sequentialminus\":[[0.0,\"#0d0887\"],[0.1111111111111111,\"#46039f\"],[0.2222222222222222,\"#7201a8\"],[0.3333333333333333,\"#9c179e\"],[0.4444444444444444,\"#bd3786\"],[0.5555555555555556,\"#d8576b\"],[0.6666666666666666,\"#ed7953\"],[0.7777777777777778,\"#fb9f3a\"],[0.8888888888888888,\"#fdca26\"],[1.0,\"#f0f921\"]]},\"colorway\":[\"#636efa\",\"#EF553B\",\"#00cc96\",\"#ab63fa\",\"#FFA15A\",\"#19d3f3\",\"#FF6692\",\"#B6E880\",\"#FF97FF\",\"#FECB52\"],\"font\":{\"color\":\"#2a3f5f\"},\"geo\":{\"bgcolor\":\"white\",\"lakecolor\":\"white\",\"landcolor\":\"white\",\"showlakes\":true,\"showland\":true,\"subunitcolor\":\"#C8D4E3\"},\"hoverlabel\":{\"align\":\"left\"},\"hovermode\":\"closest\",\"mapbox\":{\"style\":\"light\"},\"paper_bgcolor\":\"white\",\"plot_bgcolor\":\"white\",\"polar\":{\"angularaxis\":{\"gridcolor\":\"#EBF0F8\",\"linecolor\":\"#EBF0F8\",\"ticks\":\"\"},\"bgcolor\":\"white\",\"radialaxis\":{\"gridcolor\":\"#EBF0F8\",\"linecolor\":\"#EBF0F8\",\"ticks\":\"\"}},\"scene\":{\"xaxis\":{\"backgroundcolor\":\"white\",\"gridcolor\":\"#DFE8F3\",\"gridwidth\":2,\"linecolor\":\"#EBF0F8\",\"showbackground\":true,\"ticks\":\"\",\"zerolinecolor\":\"#EBF0F8\"},\"yaxis\":{\"backgroundcolor\":\"white\",\"gridcolor\":\"#DFE8F3\",\"gridwidth\":2,\"linecolor\":\"#EBF0F8\",\"showbackground\":true,\"ticks\":\"\",\"zerolinecolor\":\"#EBF0F8\"},\"zaxis\":{\"backgroundcolor\":\"white\",\"gridcolor\":\"#DFE8F3\",\"gridwidth\":2,\"linecolor\":\"#EBF0F8\",\"showbackground\":true,\"ticks\":\"\",\"zerolinecolor\":\"#EBF0F8\"}},\"shapedefaults\":{\"line\":{\"color\":\"#2a3f5f\"}},\"ternary\":{\"aaxis\":{\"gridcolor\":\"#DFE8F3\",\"linecolor\":\"#A2B1C6\",\"ticks\":\"\"},\"baxis\":{\"gridcolor\":\"#DFE8F3\",\"linecolor\":\"#A2B1C6\",\"ticks\":\"\"},\"bgcolor\":\"white\",\"caxis\":{\"gridcolor\":\"#DFE8F3\",\"linecolor\":\"#A2B1C6\",\"ticks\":\"\"}},\"title\":{\"x\":0.05},\"xaxis\":{\"automargin\":true,\"gridcolor\":\"#EBF0F8\",\"linecolor\":\"#EBF0F8\",\"ticks\":\"\",\"title\":{\"standoff\":15},\"zerolinecolor\":\"#EBF0F8\",\"zerolinewidth\":2},\"yaxis\":{\"automargin\":true,\"gridcolor\":\"#EBF0F8\",\"linecolor\":\"#EBF0F8\",\"ticks\":\"\",\"title\":{\"standoff\":15},\"zerolinecolor\":\"#EBF0F8\",\"zerolinewidth\":2}}},\"title\":{\"text\":\"Summer - Top 4 Models by SMAPE (Residence 2)\",\"x\":0.5},\"xaxis\":{\"title\":{\"text\":\"Observations\"}},\"yaxis\":{\"title\":{\"text\":\"Values\"}},\"legend\":{\"title\":{\"text\":\"Models\"}},\"height\":400},                        {\"responsive\": true}                    ).then(function(){\n",
       "                            \n",
       "var gd = document.getElementById('19588173-d749-4ee3-9d7a-d723579dfc9d');\n",
       "var x = new MutationObserver(function (mutations, observer) {{\n",
       "        var display = window.getComputedStyle(gd).display;\n",
       "        if (!display || display === 'none') {{\n",
       "            console.log([gd, 'removed!']);\n",
       "            Plotly.purge(gd);\n",
       "            observer.disconnect();\n",
       "        }}\n",
       "}});\n",
       "\n",
       "// Listen for the removal of the full notebook cells\n",
       "var notebookContainer = gd.closest('#notebook-container');\n",
       "if (notebookContainer) {{\n",
       "    x.observe(notebookContainer, {childList: true});\n",
       "}}\n",
       "\n",
       "// Listen for the clearing of the current output cell\n",
       "var outputEl = gd.closest('.output');\n",
       "if (outputEl) {{\n",
       "    x.observe(outputEl, {childList: true});\n",
       "}}\n",
       "\n",
       "                        })                };                });            </script>        </div>"
      ]
     },
     "metadata": {},
     "output_type": "display_data"
    },
    {
     "name": "stderr",
     "output_type": "stream",
     "text": [
      "/tmp/ipykernel_1015045/3967295982.py:58: FutureWarning:\n",
      "\n",
      "this method is deprecated in favour of `Styler.format(precision=..)`\n",
      "\n",
      "/tmp/ipykernel_1015045/3967295982.py:63: FutureWarning:\n",
      "\n",
      "this method is deprecated in favour of `Styler.format(precision=..)`\n",
      "\n"
     ]
    }
   ],
   "source": [
    "def calculate_seasonal_metrics(data, season_start, season_end):\n",
    "    season_data = data.iloc[season_start:season_end]\n",
    "    y_actual = season_data['Actual']\n",
    "    error_metrics = {}\n",
    "    for model in data.columns[1:]:\n",
    "        y_pred = season_data[model]\n",
    "        mae = mean_absolute_error(y_actual, y_pred)\n",
    "        rmse = np.sqrt(mean_squared_error(y_actual, y_pred))\n",
    "        smape_value = smape(y_actual, y_pred)\n",
    "        error_metrics[model] = {\n",
    "            'MAE': mae,\n",
    "            'RMSE': rmse,\n",
    "            'SMAPE': smape_value\n",
    "        }\n",
    "    return pd.DataFrame(error_metrics).transpose().sort_values(by='SMAPE')\n",
    "\n",
    "# Function to plot top performers for each season\n",
    "def plotly_top_performers_season(data, metrics_df, title, season):\n",
    "    top_3_models = metrics_df.index[:4]\n",
    "    fig = go.Figure()\n",
    "\n",
    "    # Adding actual values\n",
    "    fig.add_trace(go.Scatter(x=data.index[:100], y=data['Actual'][:100], mode='lines', name='Actual'))\n",
    "\n",
    "    # Adding predicted values of top 3 models\n",
    "    for model in top_3_models:\n",
    "        fig.add_trace(go.Scatter(x=data.index[:100], y=data[model][:100], mode='lines', name=model))\n",
    "\n",
    "    # Update plot layout with centered title and color scheme\n",
    "    fig.update_layout(title=f'{season} - Top 4 Models by SMAPE ({title})',\n",
    "                      title_x=0.5,\n",
    "                      xaxis_title='Observations',\n",
    "                      yaxis_title='Values',\n",
    "                      legend_title='Models',\n",
    "                      template='plotly_white',\n",
    "                      height=400)\n",
    "    fig.show()\n",
    "\n",
    "# Define seasons and their corresponding start and end indices\n",
    "seasons = {\n",
    "    'Fall': (0, 62680),       # August to November\n",
    "    'Winter': (62680, 125360),# December to March\n",
    "    'Spring': (125360, 157680),# April to May\n",
    "    'Summer': (157680, 188041) # June to July\n",
    "}\n",
    "\n",
    "for season, (start, end) in seasons.items():\n",
    "    season_metrics_df1 = calculate_seasonal_metrics(data1, start, end)\n",
    "    season_metrics_df2 = calculate_seasonal_metrics(data2, start, end)\n",
    "\n",
    "    plotly_top_performers_season(data1[start:end], season_metrics_df1, 'Residence 1', season)\n",
    "    plotly_top_performers_season(data2[start:end], season_metrics_df2, 'Residence 2', season)\n",
    "\n",
    "    # Styling tables for each season\n",
    "    styled_df1 = season_metrics_df1.style.background_gradient(cmap='coolwarm', subset=['MAE', 'RMSE', 'SMAPE'])\\\n",
    "        .format(\"{:.2f}\", subset=['MAE', 'RMSE', 'SMAPE'])\\\n",
    "        .set_caption(f\"Error Metrics Sorted by SMAPE (Residence 1 - {season})\")\\\n",
    "        .set_precision(2)\n",
    "\n",
    "    styled_df2 = season_metrics_df2.style.background_gradient(cmap='coolwarm', subset=['MAE', 'RMSE', 'SMAPE'])\\\n",
    "        .format(\"{:.2f}\", subset=['MAE', 'RMSE', 'SMAPE'])\\\n",
    "        .set_caption(f\"Error Metrics Sorted by SMAPE (Residence 2 - {season})\")\\\n",
    "        .set_precision(2)\n",
    "\n",
    "    # Display styled tables\n",
    "    #styled_df1\n",
    "    #styled_df2\n"
   ]
  },
  {
   "cell_type": "code",
   "execution_count": 8,
   "id": "90644647-8e96-4710-86fa-a2442eb53b4e",
   "metadata": {
    "scrolled": true
   },
   "outputs": [
    {
     "name": "stderr",
     "output_type": "stream",
     "text": [
      "/tmp/ipykernel_1015045/443849262.py:66: FutureWarning:\n",
      "\n",
      "this method is deprecated in favour of `Styler.format(precision=..)`\n",
      "\n"
     ]
    }
   ],
   "source": [
    "def calculate_seasonal_metrics(data, season, dataset_name):\n",
    "    y_actual = data['Actual']\n",
    "    error_metrics = {}\n",
    "    for model in data.columns[1:]:\n",
    "        y_pred = data[model]\n",
    "        mae = mean_absolute_error(y_actual, y_pred)\n",
    "        rmse = np.sqrt(mean_squared_error(y_actual, y_pred))\n",
    "        smape_value = smape(y_actual, y_pred)\n",
    "        error_metrics[model] = {\n",
    "            'Dataset': dataset_name,\n",
    "            'Season': season,\n",
    "            'MAE': mae,\n",
    "            'RMSE': rmse,\n",
    "            'SMAPE': smape_value\n",
    "        }\n",
    "    return pd.DataFrame(error_metrics).transpose()\n",
    "seasons = {\n",
    "    'Fall': (0, 62680),       # August to November\n",
    "    'Winter': (62680, 125360),# December to March\n",
    "    'Spring': (125360, 157680),# April to May\n",
    "    'Summer': (157680, 188041) # June to July\n",
    "}\n",
    "\n",
    "combined_metrics = []\n",
    "\n",
    "for season, (start, end) in seasons.items():\n",
    "    # Calculating metrics for each model in the season for Residence 1\n",
    "    for model in data1.columns[1:]:\n",
    "        season_data = data1.iloc[start:end]\n",
    "        y_actual = season_data['Actual']\n",
    "        y_pred = season_data[model]\n",
    "        mae = mean_absolute_error(y_actual, y_pred)\n",
    "        rmse = np.sqrt(mean_squared_error(y_actual, y_pred))\n",
    "        smape_value = smape(y_actual, y_pred)\n",
    "        combined_metrics.append({\n",
    "            'Dataset': 'Residence 1',\n",
    "            'Season': season,\n",
    "            'Model': model,\n",
    "            'MAE': mae,\n",
    "            'RMSE': rmse,\n",
    "            'SMAPE': smape_value\n",
    "        })\n",
    "\n",
    "    # Calculating metrics for each model in the season for Residence 2\n",
    "    for model in data2.columns[1:]:\n",
    "        season_data = data2.iloc[start:end]\n",
    "        y_actual = season_data['Actual']\n",
    "        y_pred = season_data[model]\n",
    "        mae = mean_absolute_error(y_actual, y_pred)\n",
    "        rmse = np.sqrt(mean_squared_error(y_actual, y_pred))\n",
    "        smape_value = smape(y_actual, y_pred)\n",
    "        combined_metrics.append({\n",
    "            'Dataset': 'Residence 2',\n",
    "            'Season': season,\n",
    "            'Model': model,\n",
    "            'MAE': mae,\n",
    "            'RMSE': rmse,\n",
    "            'SMAPE': smape_value\n",
    "        })\n",
    "\n",
    "combined_metrics_df = pd.DataFrame(combined_metrics)\n",
    "\n",
    "styled_combined_metrics = combined_metrics_df.style.background_gradient(cmap='coolwarm', subset=['MAE', 'RMSE', 'SMAPE'])\\\n",
    "    .format(\"{:.2f}\", subset=['MAE', 'RMSE', 'SMAPE'])\\\n",
    "    .set_caption(\"Error Metrics Sorted by SMAPE for All Seasons\")\\\n",
    "    .set_precision(2)\n",
    "\n",
    "combined_metrics_df.to_csv('seasonal_metrics_with_models.csv')\n",
    "\n",
    "#styled_combined_metrics\n",
    "\n"
   ]
  },
  {
   "cell_type": "code",
   "execution_count": 9,
   "id": "0b7b276c-a1cc-4f74-912d-9df8a18ec1cd",
   "metadata": {},
   "outputs": [
    {
     "name": "stdout",
     "output_type": "stream",
     "text": [
      "Residence 1 - Fall Season\n"
     ]
    },
    {
     "name": "stderr",
     "output_type": "stream",
     "text": [
      "/tmp/ipykernel_1015045/649999384.py:25: FutureWarning:\n",
      "\n",
      "this method is deprecated in favour of `Styler.format(precision=..)`\n",
      "\n",
      "/tmp/ipykernel_1015045/649999384.py:25: FutureWarning:\n",
      "\n",
      "this method is deprecated in favour of `Styler.format(precision=..)`\n",
      "\n",
      "/tmp/ipykernel_1015045/649999384.py:25: FutureWarning:\n",
      "\n",
      "this method is deprecated in favour of `Styler.format(precision=..)`\n",
      "\n",
      "/tmp/ipykernel_1015045/649999384.py:25: FutureWarning:\n",
      "\n",
      "this method is deprecated in favour of `Styler.format(precision=..)`\n",
      "\n",
      "/tmp/ipykernel_1015045/649999384.py:25: FutureWarning:\n",
      "\n",
      "this method is deprecated in favour of `Styler.format(precision=..)`\n",
      "\n",
      "/tmp/ipykernel_1015045/649999384.py:25: FutureWarning:\n",
      "\n",
      "this method is deprecated in favour of `Styler.format(precision=..)`\n",
      "\n",
      "/tmp/ipykernel_1015045/649999384.py:25: FutureWarning:\n",
      "\n",
      "this method is deprecated in favour of `Styler.format(precision=..)`\n",
      "\n",
      "/tmp/ipykernel_1015045/649999384.py:25: FutureWarning:\n",
      "\n",
      "this method is deprecated in favour of `Styler.format(precision=..)`\n",
      "\n"
     ]
    },
    {
     "data": {
      "text/html": [
       "<style type=\"text/css\">\n",
       "#T_f6fe7_row0_col1, #T_f6fe7_row0_col2, #T_f6fe7_row0_col3 {\n",
       "  background-color: #3b4cc0;\n",
       "  color: #f1f1f1;\n",
       "}\n",
       "#T_f6fe7_row1_col1 {\n",
       "  background-color: #5572df;\n",
       "  color: #f1f1f1;\n",
       "}\n",
       "#T_f6fe7_row1_col2 {\n",
       "  background-color: #5875e1;\n",
       "  color: #f1f1f1;\n",
       "}\n",
       "#T_f6fe7_row1_col3 {\n",
       "  background-color: #4b64d5;\n",
       "  color: #f1f1f1;\n",
       "}\n",
       "#T_f6fe7_row2_col1 {\n",
       "  background-color: #6a8bef;\n",
       "  color: #f1f1f1;\n",
       "}\n",
       "#T_f6fe7_row2_col2 {\n",
       "  background-color: #516ddb;\n",
       "  color: #f1f1f1;\n",
       "}\n",
       "#T_f6fe7_row2_col3 {\n",
       "  background-color: #6485ec;\n",
       "  color: #f1f1f1;\n",
       "}\n",
       "#T_f6fe7_row3_col1 {\n",
       "  background-color: #5b7ae5;\n",
       "  color: #f1f1f1;\n",
       "}\n",
       "#T_f6fe7_row3_col2 {\n",
       "  background-color: #3d50c3;\n",
       "  color: #f1f1f1;\n",
       "}\n",
       "#T_f6fe7_row3_col3 {\n",
       "  background-color: #6c8ff1;\n",
       "  color: #f1f1f1;\n",
       "}\n",
       "#T_f6fe7_row4_col1 {\n",
       "  background-color: #94b6ff;\n",
       "  color: #000000;\n",
       "}\n",
       "#T_f6fe7_row4_col2 {\n",
       "  background-color: #8db0fe;\n",
       "  color: #000000;\n",
       "}\n",
       "#T_f6fe7_row4_col3 {\n",
       "  background-color: #8caffe;\n",
       "  color: #000000;\n",
       "}\n",
       "#T_f6fe7_row5_col1 {\n",
       "  background-color: #9fbfff;\n",
       "  color: #000000;\n",
       "}\n",
       "#T_f6fe7_row5_col2 {\n",
       "  background-color: #9bbcff;\n",
       "  color: #000000;\n",
       "}\n",
       "#T_f6fe7_row5_col3 {\n",
       "  background-color: #9abbff;\n",
       "  color: #000000;\n",
       "}\n",
       "#T_f6fe7_row6_col1 {\n",
       "  background-color: #d6dce4;\n",
       "  color: #000000;\n",
       "}\n",
       "#T_f6fe7_row6_col2 {\n",
       "  background-color: #f1cdba;\n",
       "  color: #000000;\n",
       "}\n",
       "#T_f6fe7_row6_col3 {\n",
       "  background-color: #bed2f6;\n",
       "  color: #000000;\n",
       "}\n",
       "#T_f6fe7_row7_col1 {\n",
       "  background-color: #dfdbd9;\n",
       "  color: #000000;\n",
       "}\n",
       "#T_f6fe7_row7_col2 {\n",
       "  background-color: #e6d7cf;\n",
       "  color: #000000;\n",
       "}\n",
       "#T_f6fe7_row7_col3 {\n",
       "  background-color: #d9dce1;\n",
       "  color: #000000;\n",
       "}\n",
       "#T_f6fe7_row8_col1 {\n",
       "  background-color: #e7d7ce;\n",
       "  color: #000000;\n",
       "}\n",
       "#T_f6fe7_row8_col2 {\n",
       "  background-color: #e8d6cc;\n",
       "  color: #000000;\n",
       "}\n",
       "#T_f6fe7_row8_col3 {\n",
       "  background-color: #e4d9d2;\n",
       "  color: #000000;\n",
       "}\n",
       "#T_f6fe7_row9_col1 {\n",
       "  background-color: #edd1c2;\n",
       "  color: #000000;\n",
       "}\n",
       "#T_f6fe7_row9_col2 {\n",
       "  background-color: #f4c6af;\n",
       "  color: #000000;\n",
       "}\n",
       "#T_f6fe7_row9_col3 {\n",
       "  background-color: #edd2c3;\n",
       "  color: #000000;\n",
       "}\n",
       "#T_f6fe7_row10_col1, #T_f6fe7_row10_col2, #T_f6fe7_row10_col3 {\n",
       "  background-color: #b40426;\n",
       "  color: #f1f1f1;\n",
       "}\n",
       "</style>\n",
       "<table id=\"T_f6fe7_\">\n",
       "  <caption>Error Metrics Sorted by SMAPE (Residence 1 - Fall)</caption>\n",
       "  <thead>\n",
       "    <tr>\n",
       "      <th class=\"col_heading level0 col0\" >Model</th>\n",
       "      <th class=\"col_heading level0 col1\" >MAE</th>\n",
       "      <th class=\"col_heading level0 col2\" >RMSE</th>\n",
       "      <th class=\"col_heading level0 col3\" >SMAPE</th>\n",
       "    </tr>\n",
       "  </thead>\n",
       "  <tbody>\n",
       "    <tr>\n",
       "      <td id=\"T_f6fe7_row0_col0\" class=\"data row0 col0\" >Transformer</td>\n",
       "      <td id=\"T_f6fe7_row0_col1\" class=\"data row0 col1\" >22.00</td>\n",
       "      <td id=\"T_f6fe7_row0_col2\" class=\"data row0 col2\" >31.56</td>\n",
       "      <td id=\"T_f6fe7_row0_col3\" class=\"data row0 col3\" >8.59</td>\n",
       "    </tr>\n",
       "    <tr>\n",
       "      <td id=\"T_f6fe7_row1_col0\" class=\"data row1 col0\" >AttentionLSTM</td>\n",
       "      <td id=\"T_f6fe7_row1_col1\" class=\"data row1 col1\" >24.04</td>\n",
       "      <td id=\"T_f6fe7_row1_col2\" class=\"data row1 col2\" >33.74</td>\n",
       "      <td id=\"T_f6fe7_row1_col3\" class=\"data row1 col3\" >9.07</td>\n",
       "    </tr>\n",
       "    <tr>\n",
       "      <td id=\"T_f6fe7_row2_col0\" class=\"data row2 col0\" >GRU</td>\n",
       "      <td id=\"T_f6fe7_row2_col1\" class=\"data row2 col1\" >25.48</td>\n",
       "      <td id=\"T_f6fe7_row2_col2\" class=\"data row2 col2\" >33.28</td>\n",
       "      <td id=\"T_f6fe7_row2_col3\" class=\"data row2 col3\" >9.71</td>\n",
       "    </tr>\n",
       "    <tr>\n",
       "      <td id=\"T_f6fe7_row3_col0\" class=\"data row3 col0\" >TempConv</td>\n",
       "      <td id=\"T_f6fe7_row3_col1\" class=\"data row3 col1\" >24.50</td>\n",
       "      <td id=\"T_f6fe7_row3_col2\" class=\"data row3 col2\" >31.80</td>\n",
       "      <td id=\"T_f6fe7_row3_col3\" class=\"data row3 col3\" >9.93</td>\n",
       "    </tr>\n",
       "    <tr>\n",
       "      <td id=\"T_f6fe7_row4_col0\" class=\"data row4 col0\" >HyperNetLSTMRBF</td>\n",
       "      <td id=\"T_f6fe7_row4_col1\" class=\"data row4 col1\" >28.28</td>\n",
       "      <td id=\"T_f6fe7_row4_col2\" class=\"data row4 col2\" >37.30</td>\n",
       "      <td id=\"T_f6fe7_row4_col3\" class=\"data row4 col3\" >10.68</td>\n",
       "    </tr>\n",
       "    <tr>\n",
       "      <td id=\"T_f6fe7_row5_col0\" class=\"data row5 col0\" >LSTM</td>\n",
       "      <td id=\"T_f6fe7_row5_col1\" class=\"data row5 col1\" >28.95</td>\n",
       "      <td id=\"T_f6fe7_row5_col2\" class=\"data row5 col2\" >38.15</td>\n",
       "      <td id=\"T_f6fe7_row5_col3\" class=\"data row5 col3\" >11.01</td>\n",
       "    </tr>\n",
       "    <tr>\n",
       "      <td id=\"T_f6fe7_row6_col0\" class=\"data row6 col0\" >RNN</td>\n",
       "      <td id=\"T_f6fe7_row6_col1\" class=\"data row6 col1\" >32.95</td>\n",
       "      <td id=\"T_f6fe7_row6_col2\" class=\"data row6 col2\" >44.94</td>\n",
       "      <td id=\"T_f6fe7_row6_col3\" class=\"data row6 col3\" >11.89</td>\n",
       "    </tr>\n",
       "    <tr>\n",
       "      <td id=\"T_f6fe7_row7_col0\" class=\"data row7 col0\" >HyperNetLSTMPoly</td>\n",
       "      <td id=\"T_f6fe7_row7_col1\" class=\"data row7 col1\" >33.76</td>\n",
       "      <td id=\"T_f6fe7_row7_col2\" class=\"data row7 col2\" >43.75</td>\n",
       "      <td id=\"T_f6fe7_row7_col3\" class=\"data row7 col3\" >12.70</td>\n",
       "    </tr>\n",
       "    <tr>\n",
       "      <td id=\"T_f6fe7_row8_col0\" class=\"data row8 col0\" >ARFFNN</td>\n",
       "      <td id=\"T_f6fe7_row8_col1\" class=\"data row8 col1\" >34.49</td>\n",
       "      <td id=\"T_f6fe7_row8_col2\" class=\"data row8 col2\" >43.91</td>\n",
       "      <td id=\"T_f6fe7_row8_col3\" class=\"data row8 col3\" >13.05</td>\n",
       "    </tr>\n",
       "    <tr>\n",
       "      <td id=\"T_f6fe7_row9_col0\" class=\"data row9 col0\" >Nbeats</td>\n",
       "      <td id=\"T_f6fe7_row9_col1\" class=\"data row9 col1\" >35.17</td>\n",
       "      <td id=\"T_f6fe7_row9_col2\" class=\"data row9 col2\" >45.56</td>\n",
       "      <td id=\"T_f6fe7_row9_col3\" class=\"data row9 col3\" >13.41</td>\n",
       "    </tr>\n",
       "    <tr>\n",
       "      <td id=\"T_f6fe7_row10_col0\" class=\"data row10 col0\" >MLP</td>\n",
       "      <td id=\"T_f6fe7_row10_col1\" class=\"data row10 col1\" >45.05</td>\n",
       "      <td id=\"T_f6fe7_row10_col2\" class=\"data row10 col2\" >54.24</td>\n",
       "      <td id=\"T_f6fe7_row10_col3\" class=\"data row10 col3\" >17.05</td>\n",
       "    </tr>\n",
       "  </tbody>\n",
       "</table>\n"
      ],
      "text/plain": [
       "<pandas.io.formats.style.Styler at 0x7f61140cf400>"
      ]
     },
     "metadata": {},
     "output_type": "display_data"
    },
    {
     "name": "stdout",
     "output_type": "stream",
     "text": [
      "Residence 1 - Winter Season\n"
     ]
    },
    {
     "data": {
      "text/html": [
       "<style type=\"text/css\">\n",
       "#T_9219a_row0_col1, #T_9219a_row0_col3, #T_9219a_row1_col2 {\n",
       "  background-color: #3b4cc0;\n",
       "  color: #f1f1f1;\n",
       "}\n",
       "#T_9219a_row0_col2 {\n",
       "  background-color: #4961d2;\n",
       "  color: #f1f1f1;\n",
       "}\n",
       "#T_9219a_row1_col1 {\n",
       "  background-color: #3e51c5;\n",
       "  color: #f1f1f1;\n",
       "}\n",
       "#T_9219a_row1_col3 {\n",
       "  background-color: #4257c9;\n",
       "  color: #f1f1f1;\n",
       "}\n",
       "#T_9219a_row2_col1 {\n",
       "  background-color: #455cce;\n",
       "  color: #f1f1f1;\n",
       "}\n",
       "#T_9219a_row2_col2 {\n",
       "  background-color: #516ddb;\n",
       "  color: #f1f1f1;\n",
       "}\n",
       "#T_9219a_row2_col3 {\n",
       "  background-color: #485fd1;\n",
       "  color: #f1f1f1;\n",
       "}\n",
       "#T_9219a_row3_col1 {\n",
       "  background-color: #506bda;\n",
       "  color: #f1f1f1;\n",
       "}\n",
       "#T_9219a_row3_col2 {\n",
       "  background-color: #5b7ae5;\n",
       "  color: #f1f1f1;\n",
       "}\n",
       "#T_9219a_row3_col3 {\n",
       "  background-color: #5470de;\n",
       "  color: #f1f1f1;\n",
       "}\n",
       "#T_9219a_row4_col1 {\n",
       "  background-color: #5572df;\n",
       "  color: #f1f1f1;\n",
       "}\n",
       "#T_9219a_row4_col2 {\n",
       "  background-color: #5a78e4;\n",
       "  color: #f1f1f1;\n",
       "}\n",
       "#T_9219a_row4_col3 {\n",
       "  background-color: #5673e0;\n",
       "  color: #f1f1f1;\n",
       "}\n",
       "#T_9219a_row5_col1 {\n",
       "  background-color: #7093f3;\n",
       "  color: #f1f1f1;\n",
       "}\n",
       "#T_9219a_row5_col2 {\n",
       "  background-color: #85a8fc;\n",
       "  color: #f1f1f1;\n",
       "}\n",
       "#T_9219a_row5_col3 {\n",
       "  background-color: #6f92f3;\n",
       "  color: #f1f1f1;\n",
       "}\n",
       "#T_9219a_row6_col1 {\n",
       "  background-color: #cbd8ee;\n",
       "  color: #000000;\n",
       "}\n",
       "#T_9219a_row6_col2 {\n",
       "  background-color: #dbdcde;\n",
       "  color: #000000;\n",
       "}\n",
       "#T_9219a_row6_col3 {\n",
       "  background-color: #ccd9ed;\n",
       "  color: #000000;\n",
       "}\n",
       "#T_9219a_row7_col1 {\n",
       "  background-color: #f7b99e;\n",
       "  color: #000000;\n",
       "}\n",
       "#T_9219a_row7_col2, #T_9219a_row7_col3 {\n",
       "  background-color: #f5c0a7;\n",
       "  color: #000000;\n",
       "}\n",
       "#T_9219a_row8_col1 {\n",
       "  background-color: #f39577;\n",
       "  color: #000000;\n",
       "}\n",
       "#T_9219a_row8_col2 {\n",
       "  background-color: #f59c7d;\n",
       "  color: #000000;\n",
       "}\n",
       "#T_9219a_row8_col3 {\n",
       "  background-color: #f59d7e;\n",
       "  color: #000000;\n",
       "}\n",
       "#T_9219a_row9_col1 {\n",
       "  background-color: #de614d;\n",
       "  color: #f1f1f1;\n",
       "}\n",
       "#T_9219a_row9_col2 {\n",
       "  background-color: #eb7d62;\n",
       "  color: #f1f1f1;\n",
       "}\n",
       "#T_9219a_row9_col3 {\n",
       "  background-color: #ec7f63;\n",
       "  color: #f1f1f1;\n",
       "}\n",
       "#T_9219a_row10_col1, #T_9219a_row10_col2, #T_9219a_row10_col3 {\n",
       "  background-color: #b40426;\n",
       "  color: #f1f1f1;\n",
       "}\n",
       "</style>\n",
       "<table id=\"T_9219a_\">\n",
       "  <caption>Error Metrics Sorted by SMAPE (Residence 1 - Winter)</caption>\n",
       "  <thead>\n",
       "    <tr>\n",
       "      <th class=\"col_heading level0 col0\" >Model</th>\n",
       "      <th class=\"col_heading level0 col1\" >MAE</th>\n",
       "      <th class=\"col_heading level0 col2\" >RMSE</th>\n",
       "      <th class=\"col_heading level0 col3\" >SMAPE</th>\n",
       "    </tr>\n",
       "  </thead>\n",
       "  <tbody>\n",
       "    <tr>\n",
       "      <td id=\"T_9219a_row0_col0\" class=\"data row0 col0\" >HyperNetLSTMPoly</td>\n",
       "      <td id=\"T_9219a_row0_col1\" class=\"data row0 col1\" >18.52</td>\n",
       "      <td id=\"T_9219a_row0_col2\" class=\"data row0 col2\" >24.02</td>\n",
       "      <td id=\"T_9219a_row0_col3\" class=\"data row0 col3\" >6.88</td>\n",
       "    </tr>\n",
       "    <tr>\n",
       "      <td id=\"T_9219a_row1_col0\" class=\"data row1 col0\" >MLP</td>\n",
       "      <td id=\"T_9219a_row1_col1\" class=\"data row1 col1\" >18.68</td>\n",
       "      <td id=\"T_9219a_row1_col2\" class=\"data row1 col2\" >23.35</td>\n",
       "      <td id=\"T_9219a_row1_col3\" class=\"data row1 col3\" >7.00</td>\n",
       "    </tr>\n",
       "    <tr>\n",
       "      <td id=\"T_9219a_row2_col0\" class=\"data row2 col0\" >HyperNetLSTMRBF</td>\n",
       "      <td id=\"T_9219a_row2_col1\" class=\"data row2 col1\" >18.92</td>\n",
       "      <td id=\"T_9219a_row2_col2\" class=\"data row2 col2\" >24.41</td>\n",
       "      <td id=\"T_9219a_row2_col3\" class=\"data row2 col3\" >7.07</td>\n",
       "    </tr>\n",
       "    <tr>\n",
       "      <td id=\"T_9219a_row3_col0\" class=\"data row3 col0\" >LSTM</td>\n",
       "      <td id=\"T_9219a_row3_col1\" class=\"data row3 col1\" >19.27</td>\n",
       "      <td id=\"T_9219a_row3_col2\" class=\"data row3 col2\" >24.81</td>\n",
       "      <td id=\"T_9219a_row3_col3\" class=\"data row3 col3\" >7.25</td>\n",
       "    </tr>\n",
       "    <tr>\n",
       "      <td id=\"T_9219a_row4_col0\" class=\"data row4 col0\" >ARFFNN</td>\n",
       "      <td id=\"T_9219a_row4_col1\" class=\"data row4 col1\" >19.43</td>\n",
       "      <td id=\"T_9219a_row4_col2\" class=\"data row4 col2\" >24.77</td>\n",
       "      <td id=\"T_9219a_row4_col3\" class=\"data row4 col3\" >7.27</td>\n",
       "    </tr>\n",
       "    <tr>\n",
       "      <td id=\"T_9219a_row5_col0\" class=\"data row5 col0\" >RNN</td>\n",
       "      <td id=\"T_9219a_row5_col1\" class=\"data row5 col1\" >20.31</td>\n",
       "      <td id=\"T_9219a_row5_col2\" class=\"data row5 col2\" >26.45</td>\n",
       "      <td id=\"T_9219a_row5_col3\" class=\"data row5 col3\" >7.61</td>\n",
       "    </tr>\n",
       "    <tr>\n",
       "      <td id=\"T_9219a_row6_col0\" class=\"data row6 col0\" >Nbeats</td>\n",
       "      <td id=\"T_9219a_row6_col1\" class=\"data row6 col1\" >23.12</td>\n",
       "      <td id=\"T_9219a_row6_col2\" class=\"data row6 col2\" >30.03</td>\n",
       "      <td id=\"T_9219a_row6_col3\" class=\"data row6 col3\" >8.79</td>\n",
       "    </tr>\n",
       "    <tr>\n",
       "      <td id=\"T_9219a_row7_col0\" class=\"data row7 col0\" >AttentionLSTM</td>\n",
       "      <td id=\"T_9219a_row7_col1\" class=\"data row7 col1\" >25.52</td>\n",
       "      <td id=\"T_9219a_row7_col2\" class=\"data row7 col2\" >32.02</td>\n",
       "      <td id=\"T_9219a_row7_col3\" class=\"data row7 col3\" >9.65</td>\n",
       "    </tr>\n",
       "    <tr>\n",
       "      <td id=\"T_9219a_row8_col0\" class=\"data row8 col0\" >TempConv</td>\n",
       "      <td id=\"T_9219a_row8_col1\" class=\"data row8 col1\" >26.53</td>\n",
       "      <td id=\"T_9219a_row8_col2\" class=\"data row8 col2\" >33.42</td>\n",
       "      <td id=\"T_9219a_row8_col3\" class=\"data row8 col3\" >10.09</td>\n",
       "    </tr>\n",
       "    <tr>\n",
       "      <td id=\"T_9219a_row9_col0\" class=\"data row9 col0\" >Transformer</td>\n",
       "      <td id=\"T_9219a_row9_col1\" class=\"data row9 col1\" >27.73</td>\n",
       "      <td id=\"T_9219a_row9_col2\" class=\"data row9 col2\" >34.40</td>\n",
       "      <td id=\"T_9219a_row9_col3\" class=\"data row9 col3\" >10.40</td>\n",
       "    </tr>\n",
       "    <tr>\n",
       "      <td id=\"T_9219a_row10_col0\" class=\"data row10 col0\" >GRU</td>\n",
       "      <td id=\"T_9219a_row10_col1\" class=\"data row10 col1\" >29.07</td>\n",
       "      <td id=\"T_9219a_row10_col2\" class=\"data row10 col2\" >36.91</td>\n",
       "      <td id=\"T_9219a_row10_col3\" class=\"data row10 col3\" >11.22</td>\n",
       "    </tr>\n",
       "  </tbody>\n",
       "</table>\n"
      ],
      "text/plain": [
       "<pandas.io.formats.style.Styler at 0x7f610efb8a30>"
      ]
     },
     "metadata": {},
     "output_type": "display_data"
    },
    {
     "name": "stdout",
     "output_type": "stream",
     "text": [
      "Residence 1 - Spring Season\n"
     ]
    },
    {
     "data": {
      "text/html": [
       "<style type=\"text/css\">\n",
       "#T_295f5_row0_col1 {\n",
       "  background-color: #445acc;\n",
       "  color: #f1f1f1;\n",
       "}\n",
       "#T_295f5_row0_col2 {\n",
       "  background-color: #4358cb;\n",
       "  color: #f1f1f1;\n",
       "}\n",
       "#T_295f5_row0_col3, #T_295f5_row1_col1, #T_295f5_row1_col2, #T_295f5_row1_col3 {\n",
       "  background-color: #3b4cc0;\n",
       "  color: #f1f1f1;\n",
       "}\n",
       "#T_295f5_row2_col1, #T_295f5_row2_col3 {\n",
       "  background-color: #6687ed;\n",
       "  color: #f1f1f1;\n",
       "}\n",
       "#T_295f5_row2_col2 {\n",
       "  background-color: #5470de;\n",
       "  color: #f1f1f1;\n",
       "}\n",
       "#T_295f5_row3_col1 {\n",
       "  background-color: #6f92f3;\n",
       "  color: #f1f1f1;\n",
       "}\n",
       "#T_295f5_row3_col2 {\n",
       "  background-color: #6788ee;\n",
       "  color: #f1f1f1;\n",
       "}\n",
       "#T_295f5_row3_col3, #T_295f5_row4_col3 {\n",
       "  background-color: #688aef;\n",
       "  color: #f1f1f1;\n",
       "}\n",
       "#T_295f5_row4_col1 {\n",
       "  background-color: #7699f6;\n",
       "  color: #f1f1f1;\n",
       "}\n",
       "#T_295f5_row4_col2 {\n",
       "  background-color: #6485ec;\n",
       "  color: #f1f1f1;\n",
       "}\n",
       "#T_295f5_row5_col1 {\n",
       "  background-color: #adc9fd;\n",
       "  color: #000000;\n",
       "}\n",
       "#T_295f5_row5_col2 {\n",
       "  background-color: #edd2c3;\n",
       "  color: #000000;\n",
       "}\n",
       "#T_295f5_row5_col3 {\n",
       "  background-color: #90b2fe;\n",
       "  color: #000000;\n",
       "}\n",
       "#T_295f5_row6_col1 {\n",
       "  background-color: #a1c0ff;\n",
       "  color: #000000;\n",
       "}\n",
       "#T_295f5_row6_col2 {\n",
       "  background-color: #b2ccfb;\n",
       "  color: #000000;\n",
       "}\n",
       "#T_295f5_row6_col3 {\n",
       "  background-color: #a3c2fe;\n",
       "  color: #000000;\n",
       "}\n",
       "#T_295f5_row7_col1 {\n",
       "  background-color: #d3dbe7;\n",
       "  color: #000000;\n",
       "}\n",
       "#T_295f5_row7_col2 {\n",
       "  background-color: #e9d5cb;\n",
       "  color: #000000;\n",
       "}\n",
       "#T_295f5_row7_col3 {\n",
       "  background-color: #edd1c2;\n",
       "  color: #000000;\n",
       "}\n",
       "#T_295f5_row8_col1 {\n",
       "  background-color: #e2dad5;\n",
       "  color: #000000;\n",
       "}\n",
       "#T_295f5_row8_col2 {\n",
       "  background-color: #d5dbe5;\n",
       "  color: #000000;\n",
       "}\n",
       "#T_295f5_row8_col3 {\n",
       "  background-color: #f2c9b4;\n",
       "  color: #000000;\n",
       "}\n",
       "#T_295f5_row9_col1, #T_295f5_row9_col2, #T_295f5_row10_col3 {\n",
       "  background-color: #b40426;\n",
       "  color: #f1f1f1;\n",
       "}\n",
       "#T_295f5_row9_col3 {\n",
       "  background-color: #c43032;\n",
       "  color: #f1f1f1;\n",
       "}\n",
       "#T_295f5_row10_col1 {\n",
       "  background-color: #e26952;\n",
       "  color: #f1f1f1;\n",
       "}\n",
       "#T_295f5_row10_col2 {\n",
       "  background-color: #f5c2aa;\n",
       "  color: #000000;\n",
       "}\n",
       "</style>\n",
       "<table id=\"T_295f5_\">\n",
       "  <caption>Error Metrics Sorted by SMAPE (Residence 1 - Spring)</caption>\n",
       "  <thead>\n",
       "    <tr>\n",
       "      <th class=\"col_heading level0 col0\" >Model</th>\n",
       "      <th class=\"col_heading level0 col1\" >MAE</th>\n",
       "      <th class=\"col_heading level0 col2\" >RMSE</th>\n",
       "      <th class=\"col_heading level0 col3\" >SMAPE</th>\n",
       "    </tr>\n",
       "  </thead>\n",
       "  <tbody>\n",
       "    <tr>\n",
       "      <td id=\"T_295f5_row0_col0\" class=\"data row0 col0\" >HyperNetLSTMRBF</td>\n",
       "      <td id=\"T_295f5_row0_col1\" class=\"data row0 col1\" >21.02</td>\n",
       "      <td id=\"T_295f5_row0_col2\" class=\"data row0 col2\" >29.08</td>\n",
       "      <td id=\"T_295f5_row0_col3\" class=\"data row0 col3\" >9.05</td>\n",
       "    </tr>\n",
       "    <tr>\n",
       "      <td id=\"T_295f5_row1_col0\" class=\"data row1 col0\" >LSTM</td>\n",
       "      <td id=\"T_295f5_row1_col1\" class=\"data row1 col1\" >20.76</td>\n",
       "      <td id=\"T_295f5_row1_col2\" class=\"data row1 col2\" >28.78</td>\n",
       "      <td id=\"T_295f5_row1_col3\" class=\"data row1 col3\" >9.06</td>\n",
       "    </tr>\n",
       "    <tr>\n",
       "      <td id=\"T_295f5_row2_col0\" class=\"data row2 col0\" >ARFFNN</td>\n",
       "      <td id=\"T_295f5_row2_col1\" class=\"data row2 col1\" >21.80</td>\n",
       "      <td id=\"T_295f5_row2_col2\" class=\"data row2 col2\" >29.63</td>\n",
       "      <td id=\"T_295f5_row2_col3\" class=\"data row2 col3\" >9.49</td>\n",
       "    </tr>\n",
       "    <tr>\n",
       "      <td id=\"T_295f5_row3_col0\" class=\"data row3 col0\" >HyperNetLSTMPoly</td>\n",
       "      <td id=\"T_295f5_row3_col1\" class=\"data row3 col1\" >22.00</td>\n",
       "      <td id=\"T_295f5_row3_col2\" class=\"data row3 col2\" >30.22</td>\n",
       "      <td id=\"T_295f5_row3_col3\" class=\"data row3 col3\" >9.50</td>\n",
       "    </tr>\n",
       "    <tr>\n",
       "      <td id=\"T_295f5_row4_col0\" class=\"data row4 col0\" >AttentionLSTM</td>\n",
       "      <td id=\"T_295f5_row4_col1\" class=\"data row4 col1\" >22.14</td>\n",
       "      <td id=\"T_295f5_row4_col2\" class=\"data row4 col2\" >30.13</td>\n",
       "      <td id=\"T_295f5_row4_col3\" class=\"data row4 col3\" >9.51</td>\n",
       "    </tr>\n",
       "    <tr>\n",
       "      <td id=\"T_295f5_row5_col0\" class=\"data row5 col0\" >RNN</td>\n",
       "      <td id=\"T_295f5_row5_col1\" class=\"data row5 col1\" >23.34</td>\n",
       "      <td id=\"T_295f5_row5_col2\" class=\"data row5 col2\" >34.53</td>\n",
       "      <td id=\"T_295f5_row5_col3\" class=\"data row5 col3\" >9.85</td>\n",
       "    </tr>\n",
       "    <tr>\n",
       "      <td id=\"T_295f5_row6_col0\" class=\"data row6 col0\" >Transformer</td>\n",
       "      <td id=\"T_295f5_row6_col1\" class=\"data row6 col1\" >23.06</td>\n",
       "      <td id=\"T_295f5_row6_col2\" class=\"data row6 col2\" >32.40</td>\n",
       "      <td id=\"T_295f5_row6_col3\" class=\"data row6 col3\" >10.02</td>\n",
       "    </tr>\n",
       "    <tr>\n",
       "      <td id=\"T_295f5_row7_col0\" class=\"data row7 col0\" >Nbeats</td>\n",
       "      <td id=\"T_295f5_row7_col1\" class=\"data row7 col1\" >24.24</td>\n",
       "      <td id=\"T_295f5_row7_col2\" class=\"data row7 col2\" >34.34</td>\n",
       "      <td id=\"T_295f5_row7_col3\" class=\"data row7 col3\" >10.82</td>\n",
       "    </tr>\n",
       "    <tr>\n",
       "      <td id=\"T_295f5_row8_col0\" class=\"data row8 col0\" >TempConv</td>\n",
       "      <td id=\"T_295f5_row8_col1\" class=\"data row8 col1\" >24.68</td>\n",
       "      <td id=\"T_295f5_row8_col2\" class=\"data row8 col2\" >33.53</td>\n",
       "      <td id=\"T_295f5_row8_col3\" class=\"data row8 col3\" >10.93</td>\n",
       "    </tr>\n",
       "    <tr>\n",
       "      <td id=\"T_295f5_row9_col0\" class=\"data row9 col0\" >MLP</td>\n",
       "      <td id=\"T_295f5_row9_col1\" class=\"data row9 col1\" >28.27</td>\n",
       "      <td id=\"T_295f5_row9_col2\" class=\"data row9 col2\" >38.89</td>\n",
       "      <td id=\"T_295f5_row9_col3\" class=\"data row9 col3\" >12.01</td>\n",
       "    </tr>\n",
       "    <tr>\n",
       "      <td id=\"T_295f5_row10_col0\" class=\"data row10 col0\" >GRU</td>\n",
       "      <td id=\"T_295f5_row10_col1\" class=\"data row10 col1\" >27.21</td>\n",
       "      <td id=\"T_295f5_row10_col2\" class=\"data row10 col2\" >35.17</td>\n",
       "      <td id=\"T_295f5_row10_col3\" class=\"data row10 col3\" >12.15</td>\n",
       "    </tr>\n",
       "  </tbody>\n",
       "</table>\n"
      ],
      "text/plain": [
       "<pandas.io.formats.style.Styler at 0x7f61140ce8c0>"
      ]
     },
     "metadata": {},
     "output_type": "display_data"
    },
    {
     "name": "stdout",
     "output_type": "stream",
     "text": [
      "Residence 1 - Summer Season\n"
     ]
    },
    {
     "data": {
      "text/html": [
       "<style type=\"text/css\">\n",
       "#T_1127d_row0_col1, #T_1127d_row0_col2, #T_1127d_row0_col3 {\n",
       "  background-color: #3b4cc0;\n",
       "  color: #f1f1f1;\n",
       "}\n",
       "#T_1127d_row1_col1 {\n",
       "  background-color: #4b64d5;\n",
       "  color: #f1f1f1;\n",
       "}\n",
       "#T_1127d_row1_col2 {\n",
       "  background-color: #3e51c5;\n",
       "  color: #f1f1f1;\n",
       "}\n",
       "#T_1127d_row1_col3 {\n",
       "  background-color: #3f53c6;\n",
       "  color: #f1f1f1;\n",
       "}\n",
       "#T_1127d_row2_col1 {\n",
       "  background-color: #445acc;\n",
       "  color: #f1f1f1;\n",
       "}\n",
       "#T_1127d_row2_col2 {\n",
       "  background-color: #7093f3;\n",
       "  color: #f1f1f1;\n",
       "}\n",
       "#T_1127d_row2_col3, #T_1127d_row3_col3 {\n",
       "  background-color: #5470de;\n",
       "  color: #f1f1f1;\n",
       "}\n",
       "#T_1127d_row3_col1 {\n",
       "  background-color: #506bda;\n",
       "  color: #f1f1f1;\n",
       "}\n",
       "#T_1127d_row3_col2 {\n",
       "  background-color: #4a63d3;\n",
       "  color: #f1f1f1;\n",
       "}\n",
       "#T_1127d_row4_col1 {\n",
       "  background-color: #536edd;\n",
       "  color: #f1f1f1;\n",
       "}\n",
       "#T_1127d_row4_col2 {\n",
       "  background-color: #485fd1;\n",
       "  color: #f1f1f1;\n",
       "}\n",
       "#T_1127d_row4_col3 {\n",
       "  background-color: #6180e9;\n",
       "  color: #f1f1f1;\n",
       "}\n",
       "#T_1127d_row5_col1 {\n",
       "  background-color: #5a78e4;\n",
       "  color: #f1f1f1;\n",
       "}\n",
       "#T_1127d_row5_col2 {\n",
       "  background-color: #7ea1fa;\n",
       "  color: #f1f1f1;\n",
       "}\n",
       "#T_1127d_row5_col3 {\n",
       "  background-color: #6687ed;\n",
       "  color: #f1f1f1;\n",
       "}\n",
       "#T_1127d_row6_col1 {\n",
       "  background-color: #7699f6;\n",
       "  color: #f1f1f1;\n",
       "}\n",
       "#T_1127d_row6_col2 {\n",
       "  background-color: #6a8bef;\n",
       "  color: #f1f1f1;\n",
       "}\n",
       "#T_1127d_row6_col3 {\n",
       "  background-color: #7b9ff9;\n",
       "  color: #f1f1f1;\n",
       "}\n",
       "#T_1127d_row7_col1 {\n",
       "  background-color: #9ebeff;\n",
       "  color: #000000;\n",
       "}\n",
       "#T_1127d_row7_col2 {\n",
       "  background-color: #8caffe;\n",
       "  color: #000000;\n",
       "}\n",
       "#T_1127d_row7_col3 {\n",
       "  background-color: #9fbfff;\n",
       "  color: #000000;\n",
       "}\n",
       "#T_1127d_row8_col1 {\n",
       "  background-color: #81a4fb;\n",
       "  color: #f1f1f1;\n",
       "}\n",
       "#T_1127d_row8_col2 {\n",
       "  background-color: #8db0fe;\n",
       "  color: #000000;\n",
       "}\n",
       "#T_1127d_row8_col3 {\n",
       "  background-color: #adc9fd;\n",
       "  color: #000000;\n",
       "}\n",
       "#T_1127d_row9_col1 {\n",
       "  background-color: #f5c1a9;\n",
       "  color: #000000;\n",
       "}\n",
       "#T_1127d_row9_col2 {\n",
       "  background-color: #e36b54;\n",
       "  color: #f1f1f1;\n",
       "}\n",
       "#T_1127d_row9_col3 {\n",
       "  background-color: #f7b093;\n",
       "  color: #000000;\n",
       "}\n",
       "#T_1127d_row10_col1, #T_1127d_row10_col2, #T_1127d_row10_col3 {\n",
       "  background-color: #b40426;\n",
       "  color: #f1f1f1;\n",
       "}\n",
       "</style>\n",
       "<table id=\"T_1127d_\">\n",
       "  <caption>Error Metrics Sorted by SMAPE (Residence 1 - Summer)</caption>\n",
       "  <thead>\n",
       "    <tr>\n",
       "      <th class=\"col_heading level0 col0\" >Model</th>\n",
       "      <th class=\"col_heading level0 col1\" >MAE</th>\n",
       "      <th class=\"col_heading level0 col2\" >RMSE</th>\n",
       "      <th class=\"col_heading level0 col3\" >SMAPE</th>\n",
       "    </tr>\n",
       "  </thead>\n",
       "  <tbody>\n",
       "    <tr>\n",
       "      <td id=\"T_1127d_row0_col0\" class=\"data row0 col0\" >HyperNetLSTMRBF</td>\n",
       "      <td id=\"T_1127d_row0_col1\" class=\"data row0 col1\" >11.55</td>\n",
       "      <td id=\"T_1127d_row0_col2\" class=\"data row0 col2\" >17.76</td>\n",
       "      <td id=\"T_1127d_row0_col3\" class=\"data row0 col3\" >7.93</td>\n",
       "    </tr>\n",
       "    <tr>\n",
       "      <td id=\"T_1127d_row1_col0\" class=\"data row1 col0\" >HyperNetLSTMPoly</td>\n",
       "      <td id=\"T_1127d_row1_col1\" class=\"data row1 col1\" >12.13</td>\n",
       "      <td id=\"T_1127d_row1_col2\" class=\"data row1 col2\" >17.88</td>\n",
       "      <td id=\"T_1127d_row1_col3\" class=\"data row1 col3\" >8.04</td>\n",
       "    </tr>\n",
       "    <tr>\n",
       "      <td id=\"T_1127d_row2_col0\" class=\"data row2 col0\" >Transformer</td>\n",
       "      <td id=\"T_1127d_row2_col1\" class=\"data row2 col1\" >11.89</td>\n",
       "      <td id=\"T_1127d_row2_col2\" class=\"data row2 col2\" >19.20</td>\n",
       "      <td id=\"T_1127d_row2_col3\" class=\"data row2 col3\" >8.42</td>\n",
       "    </tr>\n",
       "    <tr>\n",
       "      <td id=\"T_1127d_row3_col0\" class=\"data row3 col0\" >AttentionLSTM</td>\n",
       "      <td id=\"T_1127d_row3_col1\" class=\"data row3 col1\" >12.29</td>\n",
       "      <td id=\"T_1127d_row3_col2\" class=\"data row3 col2\" >18.21</td>\n",
       "      <td id=\"T_1127d_row3_col3\" class=\"data row3 col3\" >8.43</td>\n",
       "    </tr>\n",
       "    <tr>\n",
       "      <td id=\"T_1127d_row4_col0\" class=\"data row4 col0\" >GRU</td>\n",
       "      <td id=\"T_1127d_row4_col1\" class=\"data row4 col1\" >12.34</td>\n",
       "      <td id=\"T_1127d_row4_col2\" class=\"data row4 col2\" >18.14</td>\n",
       "      <td id=\"T_1127d_row4_col3\" class=\"data row4 col3\" >8.65</td>\n",
       "    </tr>\n",
       "    <tr>\n",
       "      <td id=\"T_1127d_row5_col0\" class=\"data row5 col0\" >Nbeats</td>\n",
       "      <td id=\"T_1127d_row5_col1\" class=\"data row5 col1\" >12.61</td>\n",
       "      <td id=\"T_1127d_row5_col2\" class=\"data row5 col2\" >19.51</td>\n",
       "      <td id=\"T_1127d_row5_col3\" class=\"data row5 col3\" >8.74</td>\n",
       "    </tr>\n",
       "    <tr>\n",
       "      <td id=\"T_1127d_row6_col0\" class=\"data row6 col0\" >LSTM</td>\n",
       "      <td id=\"T_1127d_row6_col1\" class=\"data row6 col1\" >13.45</td>\n",
       "      <td id=\"T_1127d_row6_col2\" class=\"data row6 col2\" >19.04</td>\n",
       "      <td id=\"T_1127d_row6_col3\" class=\"data row6 col3\" >9.11</td>\n",
       "    </tr>\n",
       "    <tr>\n",
       "      <td id=\"T_1127d_row7_col0\" class=\"data row7 col0\" >ARFFNN</td>\n",
       "      <td id=\"T_1127d_row7_col1\" class=\"data row7 col1\" >14.59</td>\n",
       "      <td id=\"T_1127d_row7_col2\" class=\"data row7 col2\" >19.87</td>\n",
       "      <td id=\"T_1127d_row7_col3\" class=\"data row7 col3\" >9.71</td>\n",
       "    </tr>\n",
       "    <tr>\n",
       "      <td id=\"T_1127d_row8_col0\" class=\"data row8 col0\" >TempConv</td>\n",
       "      <td id=\"T_1127d_row8_col1\" class=\"data row8 col1\" >13.74</td>\n",
       "      <td id=\"T_1127d_row8_col2\" class=\"data row8 col2\" >19.88</td>\n",
       "      <td id=\"T_1127d_row8_col3\" class=\"data row8 col3\" >9.95</td>\n",
       "    </tr>\n",
       "    <tr>\n",
       "      <td id=\"T_1127d_row9_col0\" class=\"data row9 col0\" >RNN</td>\n",
       "      <td id=\"T_1127d_row9_col1\" class=\"data row9 col1\" >17.96</td>\n",
       "      <td id=\"T_1127d_row9_col2\" class=\"data row9 col2\" >24.98</td>\n",
       "      <td id=\"T_1127d_row9_col3\" class=\"data row9 col3\" >11.98</td>\n",
       "    </tr>\n",
       "    <tr>\n",
       "      <td id=\"T_1127d_row10_col0\" class=\"data row10 col0\" >MLP</td>\n",
       "      <td id=\"T_1127d_row10_col1\" class=\"data row10 col1\" >21.67</td>\n",
       "      <td id=\"T_1127d_row10_col2\" class=\"data row10 col2\" >26.24</td>\n",
       "      <td id=\"T_1127d_row10_col3\" class=\"data row10 col3\" >13.81</td>\n",
       "    </tr>\n",
       "  </tbody>\n",
       "</table>\n"
      ],
      "text/plain": [
       "<pandas.io.formats.style.Styler at 0x7f610f07eda0>"
      ]
     },
     "metadata": {},
     "output_type": "display_data"
    },
    {
     "name": "stdout",
     "output_type": "stream",
     "text": [
      "Residence 2 - Fall Season\n"
     ]
    },
    {
     "data": {
      "text/html": [
       "<style type=\"text/css\">\n",
       "#T_5e07a_row0_col1, #T_5e07a_row0_col2, #T_5e07a_row0_col3 {\n",
       "  background-color: #3b4cc0;\n",
       "  color: #f1f1f1;\n",
       "}\n",
       "#T_5e07a_row1_col1, #T_5e07a_row5_col2 {\n",
       "  background-color: #4961d2;\n",
       "  color: #f1f1f1;\n",
       "}\n",
       "#T_5e07a_row1_col2 {\n",
       "  background-color: #445acc;\n",
       "  color: #f1f1f1;\n",
       "}\n",
       "#T_5e07a_row1_col3 {\n",
       "  background-color: #4c66d6;\n",
       "  color: #f1f1f1;\n",
       "}\n",
       "#T_5e07a_row2_col1, #T_5e07a_row3_col1 {\n",
       "  background-color: #536edd;\n",
       "  color: #f1f1f1;\n",
       "}\n",
       "#T_5e07a_row2_col2, #T_5e07a_row2_col3 {\n",
       "  background-color: #5572df;\n",
       "  color: #f1f1f1;\n",
       "}\n",
       "#T_5e07a_row3_col2 {\n",
       "  background-color: #4257c9;\n",
       "  color: #f1f1f1;\n",
       "}\n",
       "#T_5e07a_row3_col3, #T_5e07a_row4_col2 {\n",
       "  background-color: #5a78e4;\n",
       "  color: #f1f1f1;\n",
       "}\n",
       "#T_5e07a_row4_col1 {\n",
       "  background-color: #5b7ae5;\n",
       "  color: #f1f1f1;\n",
       "}\n",
       "#T_5e07a_row4_col3 {\n",
       "  background-color: #5d7ce6;\n",
       "  color: #f1f1f1;\n",
       "}\n",
       "#T_5e07a_row5_col1 {\n",
       "  background-color: #688aef;\n",
       "  color: #f1f1f1;\n",
       "}\n",
       "#T_5e07a_row5_col3 {\n",
       "  background-color: #6e90f2;\n",
       "  color: #f1f1f1;\n",
       "}\n",
       "#T_5e07a_row6_col1 {\n",
       "  background-color: #a1c0ff;\n",
       "  color: #000000;\n",
       "}\n",
       "#T_5e07a_row6_col2 {\n",
       "  background-color: #9ebeff;\n",
       "  color: #000000;\n",
       "}\n",
       "#T_5e07a_row6_col3 {\n",
       "  background-color: #a7c5fe;\n",
       "  color: #000000;\n",
       "}\n",
       "#T_5e07a_row7_col1, #T_5e07a_row7_col2 {\n",
       "  background-color: #f4c6af;\n",
       "  color: #000000;\n",
       "}\n",
       "#T_5e07a_row7_col3 {\n",
       "  background-color: #f5c4ac;\n",
       "  color: #000000;\n",
       "}\n",
       "#T_5e07a_row8_col1 {\n",
       "  background-color: #c0282f;\n",
       "  color: #f1f1f1;\n",
       "}\n",
       "#T_5e07a_row8_col2, #T_5e07a_row9_col1, #T_5e07a_row9_col3, #T_5e07a_row10_col1, #T_5e07a_row10_col3 {\n",
       "  background-color: #b40426;\n",
       "  color: #f1f1f1;\n",
       "}\n",
       "#T_5e07a_row8_col3 {\n",
       "  background-color: #be242e;\n",
       "  color: #f1f1f1;\n",
       "}\n",
       "#T_5e07a_row9_col2 {\n",
       "  background-color: #f08a6c;\n",
       "  color: #f1f1f1;\n",
       "}\n",
       "#T_5e07a_row10_col2 {\n",
       "  background-color: #f18d6f;\n",
       "  color: #f1f1f1;\n",
       "}\n",
       "</style>\n",
       "<table id=\"T_5e07a_\">\n",
       "  <caption>Error Metrics Sorted by SMAPE (Residence 2 - Fall)</caption>\n",
       "  <thead>\n",
       "    <tr>\n",
       "      <th class=\"col_heading level0 col0\" >Model</th>\n",
       "      <th class=\"col_heading level0 col1\" >MAE</th>\n",
       "      <th class=\"col_heading level0 col2\" >RMSE</th>\n",
       "      <th class=\"col_heading level0 col3\" >SMAPE</th>\n",
       "    </tr>\n",
       "  </thead>\n",
       "  <tbody>\n",
       "    <tr>\n",
       "      <td id=\"T_5e07a_row0_col0\" class=\"data row0 col0\" >HyperNetLSTMRBF</td>\n",
       "      <td id=\"T_5e07a_row0_col1\" class=\"data row0 col1\" >18.17</td>\n",
       "      <td id=\"T_5e07a_row0_col2\" class=\"data row0 col2\" >26.27</td>\n",
       "      <td id=\"T_5e07a_row0_col3\" class=\"data row0 col3\" >6.25</td>\n",
       "    </tr>\n",
       "    <tr>\n",
       "      <td id=\"T_5e07a_row1_col0\" class=\"data row1 col0\" >LSTM</td>\n",
       "      <td id=\"T_5e07a_row1_col1\" class=\"data row1 col1\" >19.04</td>\n",
       "      <td id=\"T_5e07a_row1_col2\" class=\"data row1 col2\" >27.00</td>\n",
       "      <td id=\"T_5e07a_row1_col3\" class=\"data row1 col3\" >6.60</td>\n",
       "    </tr>\n",
       "    <tr>\n",
       "      <td id=\"T_5e07a_row2_col0\" class=\"data row2 col0\" >HyperNetLSTMPoly</td>\n",
       "      <td id=\"T_5e07a_row2_col1\" class=\"data row2 col1\" >19.60</td>\n",
       "      <td id=\"T_5e07a_row2_col2\" class=\"data row2 col2\" >28.23</td>\n",
       "      <td id=\"T_5e07a_row2_col3\" class=\"data row2 col3\" >6.77</td>\n",
       "    </tr>\n",
       "    <tr>\n",
       "      <td id=\"T_5e07a_row3_col0\" class=\"data row3 col0\" >GRU</td>\n",
       "      <td id=\"T_5e07a_row3_col1\" class=\"data row3 col1\" >19.60</td>\n",
       "      <td id=\"T_5e07a_row3_col2\" class=\"data row3 col2\" >26.88</td>\n",
       "      <td id=\"T_5e07a_row3_col3\" class=\"data row3 col3\" >6.87</td>\n",
       "    </tr>\n",
       "    <tr>\n",
       "      <td id=\"T_5e07a_row4_col0\" class=\"data row4 col0\" >AttentionLSTM</td>\n",
       "      <td id=\"T_5e07a_row4_col1\" class=\"data row4 col1\" >20.09</td>\n",
       "      <td id=\"T_5e07a_row4_col2\" class=\"data row4 col2\" >28.57</td>\n",
       "      <td id=\"T_5e07a_row4_col3\" class=\"data row4 col3\" >6.92</td>\n",
       "    </tr>\n",
       "    <tr>\n",
       "      <td id=\"T_5e07a_row5_col0\" class=\"data row5 col0\" >ARFFNN</td>\n",
       "      <td id=\"T_5e07a_row5_col1\" class=\"data row5 col1\" >20.79</td>\n",
       "      <td id=\"T_5e07a_row5_col2\" class=\"data row5 col2\" >27.38</td>\n",
       "      <td id=\"T_5e07a_row5_col3\" class=\"data row5 col3\" >7.23</td>\n",
       "    </tr>\n",
       "    <tr>\n",
       "      <td id=\"T_5e07a_row6_col0\" class=\"data row6 col0\" >Nbeats</td>\n",
       "      <td id=\"T_5e07a_row6_col1\" class=\"data row6 col1\" >23.66</td>\n",
       "      <td id=\"T_5e07a_row6_col2\" class=\"data row6 col2\" >32.97</td>\n",
       "      <td id=\"T_5e07a_row6_col3\" class=\"data row6 col3\" >8.22</td>\n",
       "    </tr>\n",
       "    <tr>\n",
       "      <td id=\"T_5e07a_row7_col0\" class=\"data row7 col0\" >RNN</td>\n",
       "      <td id=\"T_5e07a_row7_col1\" class=\"data row7 col1\" >29.19</td>\n",
       "      <td id=\"T_5e07a_row7_col2\" class=\"data row7 col2\" >40.23</td>\n",
       "      <td id=\"T_5e07a_row7_col3\" class=\"data row7 col3\" >10.03</td>\n",
       "    </tr>\n",
       "    <tr>\n",
       "      <td id=\"T_5e07a_row8_col0\" class=\"data row8 col0\" >TempConv</td>\n",
       "      <td id=\"T_5e07a_row8_col1\" class=\"data row8 col1\" >35.42</td>\n",
       "      <td id=\"T_5e07a_row8_col2\" class=\"data row8 col2\" >48.81</td>\n",
       "      <td id=\"T_5e07a_row8_col3\" class=\"data row8 col3\" >12.09</td>\n",
       "    </tr>\n",
       "    <tr>\n",
       "      <td id=\"T_5e07a_row9_col0\" class=\"data row9 col0\" >MLP</td>\n",
       "      <td id=\"T_5e07a_row9_col1\" class=\"data row9 col1\" >35.94</td>\n",
       "      <td id=\"T_5e07a_row9_col2\" class=\"data row9 col2\" >43.98</td>\n",
       "      <td id=\"T_5e07a_row9_col3\" class=\"data row9 col3\" >12.26</td>\n",
       "    </tr>\n",
       "    <tr>\n",
       "      <td id=\"T_5e07a_row10_col0\" class=\"data row10 col0\" >Transformer</td>\n",
       "      <td id=\"T_5e07a_row10_col1\" class=\"data row10 col1\" >35.99</td>\n",
       "      <td id=\"T_5e07a_row10_col2\" class=\"data row10 col2\" >43.88</td>\n",
       "      <td id=\"T_5e07a_row10_col3\" class=\"data row10 col3\" >12.27</td>\n",
       "    </tr>\n",
       "  </tbody>\n",
       "</table>\n"
      ],
      "text/plain": [
       "<pandas.io.formats.style.Styler at 0x7f610efb85e0>"
      ]
     },
     "metadata": {},
     "output_type": "display_data"
    },
    {
     "name": "stdout",
     "output_type": "stream",
     "text": [
      "Residence 2 - Winter Season\n"
     ]
    },
    {
     "data": {
      "text/html": [
       "<style type=\"text/css\">\n",
       "#T_fd3bc_row0_col1, #T_fd3bc_row0_col2, #T_fd3bc_row0_col3 {\n",
       "  background-color: #3b4cc0;\n",
       "  color: #f1f1f1;\n",
       "}\n",
       "#T_fd3bc_row1_col1 {\n",
       "  background-color: #455cce;\n",
       "  color: #f1f1f1;\n",
       "}\n",
       "#T_fd3bc_row1_col2 {\n",
       "  background-color: #4c66d6;\n",
       "  color: #f1f1f1;\n",
       "}\n",
       "#T_fd3bc_row1_col3 {\n",
       "  background-color: #465ecf;\n",
       "  color: #f1f1f1;\n",
       "}\n",
       "#T_fd3bc_row2_col1 {\n",
       "  background-color: #4961d2;\n",
       "  color: #f1f1f1;\n",
       "}\n",
       "#T_fd3bc_row2_col2 {\n",
       "  background-color: #3d50c3;\n",
       "  color: #f1f1f1;\n",
       "}\n",
       "#T_fd3bc_row2_col3 {\n",
       "  background-color: #4a63d3;\n",
       "  color: #f1f1f1;\n",
       "}\n",
       "#T_fd3bc_row3_col1 {\n",
       "  background-color: #445acc;\n",
       "  color: #f1f1f1;\n",
       "}\n",
       "#T_fd3bc_row3_col2 {\n",
       "  background-color: #3c4ec2;\n",
       "  color: #f1f1f1;\n",
       "}\n",
       "#T_fd3bc_row3_col3 {\n",
       "  background-color: #4b64d5;\n",
       "  color: #f1f1f1;\n",
       "}\n",
       "#T_fd3bc_row4_col1, #T_fd3bc_row5_col2 {\n",
       "  background-color: #80a3fa;\n",
       "  color: #f1f1f1;\n",
       "}\n",
       "#T_fd3bc_row4_col2 {\n",
       "  background-color: #92b4fe;\n",
       "  color: #000000;\n",
       "}\n",
       "#T_fd3bc_row4_col3, #T_fd3bc_row5_col1, #T_fd3bc_row5_col3 {\n",
       "  background-color: #81a4fb;\n",
       "  color: #f1f1f1;\n",
       "}\n",
       "#T_fd3bc_row6_col1 {\n",
       "  background-color: #bfd3f6;\n",
       "  color: #000000;\n",
       "}\n",
       "#T_fd3bc_row6_col2 {\n",
       "  background-color: #aec9fc;\n",
       "  color: #000000;\n",
       "}\n",
       "#T_fd3bc_row6_col3 {\n",
       "  background-color: #cad8ef;\n",
       "  color: #000000;\n",
       "}\n",
       "#T_fd3bc_row7_col1 {\n",
       "  background-color: #d7dce3;\n",
       "  color: #000000;\n",
       "}\n",
       "#T_fd3bc_row7_col2 {\n",
       "  background-color: #cbd8ee;\n",
       "  color: #000000;\n",
       "}\n",
       "#T_fd3bc_row7_col3 {\n",
       "  background-color: #d2dbe8;\n",
       "  color: #000000;\n",
       "}\n",
       "#T_fd3bc_row8_col1 {\n",
       "  background-color: #d9dce1;\n",
       "  color: #000000;\n",
       "}\n",
       "#T_fd3bc_row8_col2 {\n",
       "  background-color: #cdd9ec;\n",
       "  color: #000000;\n",
       "}\n",
       "#T_fd3bc_row8_col3 {\n",
       "  background-color: #d3dbe7;\n",
       "  color: #000000;\n",
       "}\n",
       "#T_fd3bc_row9_col1 {\n",
       "  background-color: #f39577;\n",
       "  color: #000000;\n",
       "}\n",
       "#T_fd3bc_row9_col2 {\n",
       "  background-color: #f08b6e;\n",
       "  color: #f1f1f1;\n",
       "}\n",
       "#T_fd3bc_row9_col3 {\n",
       "  background-color: #f59c7d;\n",
       "  color: #000000;\n",
       "}\n",
       "#T_fd3bc_row10_col1, #T_fd3bc_row10_col2, #T_fd3bc_row10_col3 {\n",
       "  background-color: #b40426;\n",
       "  color: #f1f1f1;\n",
       "}\n",
       "</style>\n",
       "<table id=\"T_fd3bc_\">\n",
       "  <caption>Error Metrics Sorted by SMAPE (Residence 2 - Winter)</caption>\n",
       "  <thead>\n",
       "    <tr>\n",
       "      <th class=\"col_heading level0 col0\" >Model</th>\n",
       "      <th class=\"col_heading level0 col1\" >MAE</th>\n",
       "      <th class=\"col_heading level0 col2\" >RMSE</th>\n",
       "      <th class=\"col_heading level0 col3\" >SMAPE</th>\n",
       "    </tr>\n",
       "  </thead>\n",
       "  <tbody>\n",
       "    <tr>\n",
       "      <td id=\"T_fd3bc_row0_col0\" class=\"data row0 col0\" >HyperNetLSTMRBF</td>\n",
       "      <td id=\"T_fd3bc_row0_col1\" class=\"data row0 col1\" >11.46</td>\n",
       "      <td id=\"T_fd3bc_row0_col2\" class=\"data row0 col2\" >15.35</td>\n",
       "      <td id=\"T_fd3bc_row0_col3\" class=\"data row0 col3\" >5.11</td>\n",
       "    </tr>\n",
       "    <tr>\n",
       "      <td id=\"T_fd3bc_row1_col0\" class=\"data row1 col0\" >HyperNetLSTMPoly</td>\n",
       "      <td id=\"T_fd3bc_row1_col1\" class=\"data row1 col1\" >12.16</td>\n",
       "      <td id=\"T_fd3bc_row1_col2\" class=\"data row1 col2\" >16.83</td>\n",
       "      <td id=\"T_fd3bc_row1_col3\" class=\"data row1 col3\" >5.46</td>\n",
       "    </tr>\n",
       "    <tr>\n",
       "      <td id=\"T_fd3bc_row2_col0\" class=\"data row2 col0\" >ARFFNN</td>\n",
       "      <td id=\"T_fd3bc_row2_col1\" class=\"data row2 col1\" >12.36</td>\n",
       "      <td id=\"T_fd3bc_row2_col2\" class=\"data row2 col2\" >15.58</td>\n",
       "      <td id=\"T_fd3bc_row2_col3\" class=\"data row2 col3\" >5.60</td>\n",
       "    </tr>\n",
       "    <tr>\n",
       "      <td id=\"T_fd3bc_row3_col0\" class=\"data row3 col0\" >AttentionLSTM</td>\n",
       "      <td id=\"T_fd3bc_row3_col1\" class=\"data row3 col1\" >12.10</td>\n",
       "      <td id=\"T_fd3bc_row3_col2\" class=\"data row3 col2\" >15.47</td>\n",
       "      <td id=\"T_fd3bc_row3_col3\" class=\"data row3 col3\" >5.62</td>\n",
       "    </tr>\n",
       "    <tr>\n",
       "      <td id=\"T_fd3bc_row4_col0\" class=\"data row4 col0\" >GRU</td>\n",
       "      <td id=\"T_fd3bc_row4_col1\" class=\"data row4 col1\" >15.58</td>\n",
       "      <td id=\"T_fd3bc_row4_col2\" class=\"data row4 col2\" >21.66</td>\n",
       "      <td id=\"T_fd3bc_row4_col3\" class=\"data row4 col3\" >7.05</td>\n",
       "    </tr>\n",
       "    <tr>\n",
       "      <td id=\"T_fd3bc_row5_col0\" class=\"data row5 col0\" >Nbeats</td>\n",
       "      <td id=\"T_fd3bc_row5_col1\" class=\"data row5 col1\" >15.60</td>\n",
       "      <td id=\"T_fd3bc_row5_col2\" class=\"data row5 col2\" >20.50</td>\n",
       "      <td id=\"T_fd3bc_row5_col3\" class=\"data row5 col3\" >7.05</td>\n",
       "    </tr>\n",
       "    <tr>\n",
       "      <td id=\"T_fd3bc_row6_col0\" class=\"data row6 col0\" >LSTM</td>\n",
       "      <td id=\"T_fd3bc_row6_col1\" class=\"data row6 col1\" >19.09</td>\n",
       "      <td id=\"T_fd3bc_row6_col2\" class=\"data row6 col2\" >23.68</td>\n",
       "      <td id=\"T_fd3bc_row6_col3\" class=\"data row6 col3\" >8.93</td>\n",
       "    </tr>\n",
       "    <tr>\n",
       "      <td id=\"T_fd3bc_row7_col0\" class=\"data row7 col0\" >Transformer</td>\n",
       "      <td id=\"T_fd3bc_row7_col1\" class=\"data row7 col1\" >20.67</td>\n",
       "      <td id=\"T_fd3bc_row7_col2\" class=\"data row7 col2\" >25.85</td>\n",
       "      <td id=\"T_fd3bc_row7_col3\" class=\"data row7 col3\" >9.17</td>\n",
       "    </tr>\n",
       "    <tr>\n",
       "      <td id=\"T_fd3bc_row8_col0\" class=\"data row8 col0\" >MLP</td>\n",
       "      <td id=\"T_fd3bc_row8_col1\" class=\"data row8 col1\" >20.77</td>\n",
       "      <td id=\"T_fd3bc_row8_col2\" class=\"data row8 col2\" >26.01</td>\n",
       "      <td id=\"T_fd3bc_row8_col3\" class=\"data row8 col3\" >9.22</td>\n",
       "    </tr>\n",
       "    <tr>\n",
       "      <td id=\"T_fd3bc_row9_col0\" class=\"data row9 col0\" >RNN</td>\n",
       "      <td id=\"T_fd3bc_row9_col1\" class=\"data row9 col1\" >26.06</td>\n",
       "      <td id=\"T_fd3bc_row9_col2\" class=\"data row9 col2\" >34.18</td>\n",
       "      <td id=\"T_fd3bc_row9_col3\" class=\"data row9 col3\" >11.73</td>\n",
       "    </tr>\n",
       "    <tr>\n",
       "      <td id=\"T_fd3bc_row10_col0\" class=\"data row10 col0\" >TempConv</td>\n",
       "      <td id=\"T_fd3bc_row10_col1\" class=\"data row10 col1\" >30.68</td>\n",
       "      <td id=\"T_fd3bc_row10_col2\" class=\"data row10 col2\" >39.45</td>\n",
       "      <td id=\"T_fd3bc_row10_col3\" class=\"data row10 col3\" >13.99</td>\n",
       "    </tr>\n",
       "  </tbody>\n",
       "</table>\n"
      ],
      "text/plain": [
       "<pandas.io.formats.style.Styler at 0x7f610f07f970>"
      ]
     },
     "metadata": {},
     "output_type": "display_data"
    },
    {
     "name": "stdout",
     "output_type": "stream",
     "text": [
      "Residence 2 - Spring Season\n"
     ]
    },
    {
     "data": {
      "text/html": [
       "<style type=\"text/css\">\n",
       "#T_79775_row0_col1, #T_79775_row0_col2, #T_79775_row0_col3 {\n",
       "  background-color: #3b4cc0;\n",
       "  color: #f1f1f1;\n",
       "}\n",
       "#T_79775_row1_col1 {\n",
       "  background-color: #3d50c3;\n",
       "  color: #f1f1f1;\n",
       "}\n",
       "#T_79775_row1_col2 {\n",
       "  background-color: #3f53c6;\n",
       "  color: #f1f1f1;\n",
       "}\n",
       "#T_79775_row1_col3 {\n",
       "  background-color: #3e51c5;\n",
       "  color: #f1f1f1;\n",
       "}\n",
       "#T_79775_row2_col1 {\n",
       "  background-color: #445acc;\n",
       "  color: #f1f1f1;\n",
       "}\n",
       "#T_79775_row2_col2 {\n",
       "  background-color: #465ecf;\n",
       "  color: #f1f1f1;\n",
       "}\n",
       "#T_79775_row2_col3 {\n",
       "  background-color: #4a63d3;\n",
       "  color: #f1f1f1;\n",
       "}\n",
       "#T_79775_row3_col1 {\n",
       "  background-color: #5875e1;\n",
       "  color: #f1f1f1;\n",
       "}\n",
       "#T_79775_row3_col2 {\n",
       "  background-color: #4f69d9;\n",
       "  color: #f1f1f1;\n",
       "}\n",
       "#T_79775_row3_col3 {\n",
       "  background-color: #5977e3;\n",
       "  color: #f1f1f1;\n",
       "}\n",
       "#T_79775_row4_col1 {\n",
       "  background-color: #5d7ce6;\n",
       "  color: #f1f1f1;\n",
       "}\n",
       "#T_79775_row4_col2, #T_79775_row5_col3 {\n",
       "  background-color: #6a8bef;\n",
       "  color: #f1f1f1;\n",
       "}\n",
       "#T_79775_row4_col3 {\n",
       "  background-color: #6282ea;\n",
       "  color: #f1f1f1;\n",
       "}\n",
       "#T_79775_row5_col1 {\n",
       "  background-color: #6788ee;\n",
       "  color: #f1f1f1;\n",
       "}\n",
       "#T_79775_row5_col2 {\n",
       "  background-color: #6485ec;\n",
       "  color: #f1f1f1;\n",
       "}\n",
       "#T_79775_row6_col1 {\n",
       "  background-color: #b9d0f9;\n",
       "  color: #000000;\n",
       "}\n",
       "#T_79775_row6_col2 {\n",
       "  background-color: #a7c5fe;\n",
       "  color: #000000;\n",
       "}\n",
       "#T_79775_row6_col3 {\n",
       "  background-color: #c9d7f0;\n",
       "  color: #000000;\n",
       "}\n",
       "#T_79775_row7_col1, #T_79775_row8_col3 {\n",
       "  background-color: #d3dbe7;\n",
       "  color: #000000;\n",
       "}\n",
       "#T_79775_row7_col2 {\n",
       "  background-color: #c7d7f0;\n",
       "  color: #000000;\n",
       "}\n",
       "#T_79775_row7_col3 {\n",
       "  background-color: #d1dae9;\n",
       "  color: #000000;\n",
       "}\n",
       "#T_79775_row8_col1 {\n",
       "  background-color: #d5dbe5;\n",
       "  color: #000000;\n",
       "}\n",
       "#T_79775_row8_col2 {\n",
       "  background-color: #cad8ef;\n",
       "  color: #000000;\n",
       "}\n",
       "#T_79775_row9_col1 {\n",
       "  background-color: #f5c1a9;\n",
       "  color: #000000;\n",
       "}\n",
       "#T_79775_row9_col2 {\n",
       "  background-color: #f7bca1;\n",
       "  color: #000000;\n",
       "}\n",
       "#T_79775_row9_col3 {\n",
       "  background-color: #f7b599;\n",
       "  color: #000000;\n",
       "}\n",
       "#T_79775_row10_col1, #T_79775_row10_col2, #T_79775_row10_col3 {\n",
       "  background-color: #b40426;\n",
       "  color: #f1f1f1;\n",
       "}\n",
       "</style>\n",
       "<table id=\"T_79775_\">\n",
       "  <caption>Error Metrics Sorted by SMAPE (Residence 2 - Spring)</caption>\n",
       "  <thead>\n",
       "    <tr>\n",
       "      <th class=\"col_heading level0 col0\" >Model</th>\n",
       "      <th class=\"col_heading level0 col1\" >MAE</th>\n",
       "      <th class=\"col_heading level0 col2\" >RMSE</th>\n",
       "      <th class=\"col_heading level0 col3\" >SMAPE</th>\n",
       "    </tr>\n",
       "  </thead>\n",
       "  <tbody>\n",
       "    <tr>\n",
       "      <td id=\"T_79775_row0_col0\" class=\"data row0 col0\" >HyperNetLSTMRBF</td>\n",
       "      <td id=\"T_79775_row0_col1\" class=\"data row0 col1\" >14.91</td>\n",
       "      <td id=\"T_79775_row0_col2\" class=\"data row0 col2\" >20.87</td>\n",
       "      <td id=\"T_79775_row0_col3\" class=\"data row0 col3\" >6.40</td>\n",
       "    </tr>\n",
       "    <tr>\n",
       "      <td id=\"T_79775_row1_col0\" class=\"data row1 col0\" >HyperNetLSTMPoly</td>\n",
       "      <td id=\"T_79775_row1_col1\" class=\"data row1 col1\" >15.07</td>\n",
       "      <td id=\"T_79775_row1_col2\" class=\"data row1 col2\" >21.27</td>\n",
       "      <td id=\"T_79775_row1_col3\" class=\"data row1 col3\" >6.51</td>\n",
       "    </tr>\n",
       "    <tr>\n",
       "      <td id=\"T_79775_row2_col0\" class=\"data row2 col0\" >AttentionLSTM</td>\n",
       "      <td id=\"T_79775_row2_col1\" class=\"data row2 col1\" >15.48</td>\n",
       "      <td id=\"T_79775_row2_col2\" class=\"data row2 col2\" >21.73</td>\n",
       "      <td id=\"T_79775_row2_col3\" class=\"data row2 col3\" >6.80</td>\n",
       "    </tr>\n",
       "    <tr>\n",
       "      <td id=\"T_79775_row3_col0\" class=\"data row3 col0\" >ARFFNN</td>\n",
       "      <td id=\"T_79775_row3_col1\" class=\"data row3 col1\" >16.63</td>\n",
       "      <td id=\"T_79775_row3_col2\" class=\"data row3 col2\" >22.35</td>\n",
       "      <td id=\"T_79775_row3_col3\" class=\"data row3 col3\" >7.18</td>\n",
       "    </tr>\n",
       "    <tr>\n",
       "      <td id=\"T_79775_row4_col0\" class=\"data row4 col0\" >Nbeats</td>\n",
       "      <td id=\"T_79775_row4_col1\" class=\"data row4 col1\" >16.88</td>\n",
       "      <td id=\"T_79775_row4_col2\" class=\"data row4 col2\" >24.07</td>\n",
       "      <td id=\"T_79775_row4_col3\" class=\"data row4 col3\" >7.39</td>\n",
       "    </tr>\n",
       "    <tr>\n",
       "      <td id=\"T_79775_row5_col0\" class=\"data row5 col0\" >GRU</td>\n",
       "      <td id=\"T_79775_row5_col1\" class=\"data row5 col1\" >17.48</td>\n",
       "      <td id=\"T_79775_row5_col2\" class=\"data row5 col2\" >23.76</td>\n",
       "      <td id=\"T_79775_row5_col3\" class=\"data row5 col3\" >7.60</td>\n",
       "    </tr>\n",
       "    <tr>\n",
       "      <td id=\"T_79775_row6_col0\" class=\"data row6 col0\" >LSTM</td>\n",
       "      <td id=\"T_79775_row6_col1\" class=\"data row6 col1\" >21.67</td>\n",
       "      <td id=\"T_79775_row6_col2\" class=\"data row6 col2\" >27.78</td>\n",
       "      <td id=\"T_79775_row6_col3\" class=\"data row6 col3\" >9.77</td>\n",
       "    </tr>\n",
       "    <tr>\n",
       "      <td id=\"T_79775_row7_col0\" class=\"data row7 col0\" >Transformer</td>\n",
       "      <td id=\"T_79775_row7_col1\" class=\"data row7 col1\" >23.15</td>\n",
       "      <td id=\"T_79775_row7_col2\" class=\"data row7 col2\" >29.92</td>\n",
       "      <td id=\"T_79775_row7_col3\" class=\"data row7 col3\" >9.98</td>\n",
       "    </tr>\n",
       "    <tr>\n",
       "      <td id=\"T_79775_row8_col0\" class=\"data row8 col0\" >MLP</td>\n",
       "      <td id=\"T_79775_row8_col1\" class=\"data row8 col1\" >23.29</td>\n",
       "      <td id=\"T_79775_row8_col2\" class=\"data row8 col2\" >30.10</td>\n",
       "      <td id=\"T_79775_row8_col3\" class=\"data row8 col3\" >10.04</td>\n",
       "    </tr>\n",
       "    <tr>\n",
       "      <td id=\"T_79775_row9_col0\" class=\"data row9 col0\" >RNN</td>\n",
       "      <td id=\"T_79775_row9_col1\" class=\"data row9 col1\" >26.20</td>\n",
       "      <td id=\"T_79775_row9_col2\" class=\"data row9 col2\" >34.83</td>\n",
       "      <td id=\"T_79775_row9_col3\" class=\"data row9 col3\" >11.70</td>\n",
       "    </tr>\n",
       "    <tr>\n",
       "      <td id=\"T_79775_row10_col0\" class=\"data row10 col0\" >TempConv</td>\n",
       "      <td id=\"T_79775_row10_col1\" class=\"data row10 col1\" >32.75</td>\n",
       "      <td id=\"T_79775_row10_col2\" class=\"data row10 col2\" >42.19</td>\n",
       "      <td id=\"T_79775_row10_col3\" class=\"data row10 col3\" >14.27</td>\n",
       "    </tr>\n",
       "  </tbody>\n",
       "</table>\n"
      ],
      "text/plain": [
       "<pandas.io.formats.style.Styler at 0x7f610efb85b0>"
      ]
     },
     "metadata": {},
     "output_type": "display_data"
    },
    {
     "name": "stdout",
     "output_type": "stream",
     "text": [
      "Residence 2 - Summer Season\n"
     ]
    },
    {
     "data": {
      "text/html": [
       "<style type=\"text/css\">\n",
       "#T_2885e_row0_col1, #T_2885e_row0_col2, #T_2885e_row0_col3 {\n",
       "  background-color: #3b4cc0;\n",
       "  color: #f1f1f1;\n",
       "}\n",
       "#T_2885e_row1_col1 {\n",
       "  background-color: #4257c9;\n",
       "  color: #f1f1f1;\n",
       "}\n",
       "#T_2885e_row1_col2 {\n",
       "  background-color: #455cce;\n",
       "  color: #f1f1f1;\n",
       "}\n",
       "#T_2885e_row1_col3 {\n",
       "  background-color: #3f53c6;\n",
       "  color: #f1f1f1;\n",
       "}\n",
       "#T_2885e_row2_col1 {\n",
       "  background-color: #8badfd;\n",
       "  color: #000000;\n",
       "}\n",
       "#T_2885e_row2_col2 {\n",
       "  background-color: #bad0f8;\n",
       "  color: #000000;\n",
       "}\n",
       "#T_2885e_row2_col3 {\n",
       "  background-color: #98b9ff;\n",
       "  color: #000000;\n",
       "}\n",
       "#T_2885e_row3_col1 {\n",
       "  background-color: #adc9fd;\n",
       "  color: #000000;\n",
       "}\n",
       "#T_2885e_row3_col2 {\n",
       "  background-color: #dddcdc;\n",
       "  color: #000000;\n",
       "}\n",
       "#T_2885e_row3_col3 {\n",
       "  background-color: #bbd1f8;\n",
       "  color: #000000;\n",
       "}\n",
       "#T_2885e_row4_col1, #T_2885e_row4_col2 {\n",
       "  background-color: #bcd2f7;\n",
       "  color: #000000;\n",
       "}\n",
       "#T_2885e_row4_col3 {\n",
       "  background-color: #c4d5f3;\n",
       "  color: #000000;\n",
       "}\n",
       "#T_2885e_row5_col1, #T_2885e_row5_col3 {\n",
       "  background-color: #e6d7cf;\n",
       "  color: #000000;\n",
       "}\n",
       "#T_2885e_row5_col2 {\n",
       "  background-color: #bfd3f6;\n",
       "  color: #000000;\n",
       "}\n",
       "#T_2885e_row6_col1 {\n",
       "  background-color: #f6bda2;\n",
       "  color: #000000;\n",
       "}\n",
       "#T_2885e_row6_col2 {\n",
       "  background-color: #f18d6f;\n",
       "  color: #f1f1f1;\n",
       "}\n",
       "#T_2885e_row6_col3 {\n",
       "  background-color: #f7bca1;\n",
       "  color: #000000;\n",
       "}\n",
       "#T_2885e_row7_col1 {\n",
       "  background-color: #ebd3c6;\n",
       "  color: #000000;\n",
       "}\n",
       "#T_2885e_row7_col2 {\n",
       "  background-color: #f7a98b;\n",
       "  color: #000000;\n",
       "}\n",
       "#T_2885e_row7_col3 {\n",
       "  background-color: #f7b497;\n",
       "  color: #000000;\n",
       "}\n",
       "#T_2885e_row8_col1 {\n",
       "  background-color: #c83836;\n",
       "  color: #f1f1f1;\n",
       "}\n",
       "#T_2885e_row8_col2 {\n",
       "  background-color: #e4d9d2;\n",
       "  color: #000000;\n",
       "}\n",
       "#T_2885e_row8_col3 {\n",
       "  background-color: #d1493f;\n",
       "  color: #f1f1f1;\n",
       "}\n",
       "#T_2885e_row9_col1, #T_2885e_row10_col2, #T_2885e_row10_col3 {\n",
       "  background-color: #b40426;\n",
       "  color: #f1f1f1;\n",
       "}\n",
       "#T_2885e_row9_col2 {\n",
       "  background-color: #f2cab5;\n",
       "  color: #000000;\n",
       "}\n",
       "#T_2885e_row9_col3 {\n",
       "  background-color: #ba162b;\n",
       "  color: #f1f1f1;\n",
       "}\n",
       "#T_2885e_row10_col1 {\n",
       "  background-color: #d24b40;\n",
       "  color: #f1f1f1;\n",
       "}\n",
       "</style>\n",
       "<table id=\"T_2885e_\">\n",
       "  <caption>Error Metrics Sorted by SMAPE (Residence 2 - Summer)</caption>\n",
       "  <thead>\n",
       "    <tr>\n",
       "      <th class=\"col_heading level0 col0\" >Model</th>\n",
       "      <th class=\"col_heading level0 col1\" >MAE</th>\n",
       "      <th class=\"col_heading level0 col2\" >RMSE</th>\n",
       "      <th class=\"col_heading level0 col3\" >SMAPE</th>\n",
       "    </tr>\n",
       "  </thead>\n",
       "  <tbody>\n",
       "    <tr>\n",
       "      <td id=\"T_2885e_row0_col0\" class=\"data row0 col0\" >HyperNetLSTMRBF</td>\n",
       "      <td id=\"T_2885e_row0_col1\" class=\"data row0 col1\" >25.10</td>\n",
       "      <td id=\"T_2885e_row0_col2\" class=\"data row0 col2\" >37.02</td>\n",
       "      <td id=\"T_2885e_row0_col3\" class=\"data row0 col3\" >11.22</td>\n",
       "    </tr>\n",
       "    <tr>\n",
       "      <td id=\"T_2885e_row1_col0\" class=\"data row1 col0\" >HyperNetLSTMPoly</td>\n",
       "      <td id=\"T_2885e_row1_col1\" class=\"data row1 col1\" >25.45</td>\n",
       "      <td id=\"T_2885e_row1_col2\" class=\"data row1 col2\" >37.57</td>\n",
       "      <td id=\"T_2885e_row1_col3\" class=\"data row1 col3\" >11.32</td>\n",
       "    </tr>\n",
       "    <tr>\n",
       "      <td id=\"T_2885e_row2_col0\" class=\"data row2 col0\" >Nbeats</td>\n",
       "      <td id=\"T_2885e_row2_col1\" class=\"data row2 col1\" >28.55</td>\n",
       "      <td id=\"T_2885e_row2_col2\" class=\"data row2 col2\" >42.40</td>\n",
       "      <td id=\"T_2885e_row2_col3\" class=\"data row2 col3\" >12.83</td>\n",
       "    </tr>\n",
       "    <tr>\n",
       "      <td id=\"T_2885e_row3_col0\" class=\"data row3 col0\" >AttentionLSTM</td>\n",
       "      <td id=\"T_2885e_row3_col1\" class=\"data row3 col1\" >29.95</td>\n",
       "      <td id=\"T_2885e_row3_col2\" class=\"data row3 col2\" >44.10</td>\n",
       "      <td id=\"T_2885e_row3_col3\" class=\"data row3 col3\" >13.42</td>\n",
       "    </tr>\n",
       "    <tr>\n",
       "      <td id=\"T_2885e_row4_col0\" class=\"data row4 col0\" >GRU</td>\n",
       "      <td id=\"T_2885e_row4_col1\" class=\"data row4 col1\" >30.58</td>\n",
       "      <td id=\"T_2885e_row4_col2\" class=\"data row4 col2\" >42.53</td>\n",
       "      <td id=\"T_2885e_row4_col3\" class=\"data row4 col3\" >13.58</td>\n",
       "    </tr>\n",
       "    <tr>\n",
       "      <td id=\"T_2885e_row5_col0\" class=\"data row5 col0\" >ARFFNN</td>\n",
       "      <td id=\"T_2885e_row5_col1\" class=\"data row5 col1\" >32.68</td>\n",
       "      <td id=\"T_2885e_row5_col2\" class=\"data row5 col2\" >42.63</td>\n",
       "      <td id=\"T_2885e_row5_col3\" class=\"data row5 col3\" >14.29</td>\n",
       "    </tr>\n",
       "    <tr>\n",
       "      <td id=\"T_2885e_row6_col0\" class=\"data row6 col0\" >TempConv</td>\n",
       "      <td id=\"T_2885e_row6_col1\" class=\"data row6 col1\" >34.26</td>\n",
       "      <td id=\"T_2885e_row6_col2\" class=\"data row6 col2\" >48.06</td>\n",
       "      <td id=\"T_2885e_row6_col3\" class=\"data row6 col3\" >14.98</td>\n",
       "    </tr>\n",
       "    <tr>\n",
       "      <td id=\"T_2885e_row7_col0\" class=\"data row7 col0\" >LSTM</td>\n",
       "      <td id=\"T_2885e_row7_col1\" class=\"data row7 col1\" >33.00</td>\n",
       "      <td id=\"T_2885e_row7_col2\" class=\"data row7 col2\" >47.03</td>\n",
       "      <td id=\"T_2885e_row7_col3\" class=\"data row7 col3\" >15.10</td>\n",
       "    </tr>\n",
       "    <tr>\n",
       "      <td id=\"T_2885e_row8_col0\" class=\"data row8 col0\" >Transformer</td>\n",
       "      <td id=\"T_2885e_row8_col1\" class=\"data row8 col1\" >38.40</td>\n",
       "      <td id=\"T_2885e_row8_col2\" class=\"data row8 col2\" >44.53</td>\n",
       "      <td id=\"T_2885e_row8_col3\" class=\"data row8 col3\" >16.47</td>\n",
       "    </tr>\n",
       "    <tr>\n",
       "      <td id=\"T_2885e_row9_col0\" class=\"data row9 col0\" >MLP</td>\n",
       "      <td id=\"T_2885e_row9_col1\" class=\"data row9 col1\" >39.23</td>\n",
       "      <td id=\"T_2885e_row9_col2\" class=\"data row9 col2\" >45.54</td>\n",
       "      <td id=\"T_2885e_row9_col3\" class=\"data row9 col3\" >16.85</td>\n",
       "    </tr>\n",
       "    <tr>\n",
       "      <td id=\"T_2885e_row10_col0\" class=\"data row10 col0\" >RNN</td>\n",
       "      <td id=\"T_2885e_row10_col1\" class=\"data row10 col1\" >37.99</td>\n",
       "      <td id=\"T_2885e_row10_col2\" class=\"data row10 col2\" >51.17</td>\n",
       "      <td id=\"T_2885e_row10_col3\" class=\"data row10 col3\" >16.96</td>\n",
       "    </tr>\n",
       "  </tbody>\n",
       "</table>\n"
      ],
      "text/plain": [
       "<pandas.io.formats.style.Styler at 0x7f610ef5b580>"
      ]
     },
     "metadata": {},
     "output_type": "display_data"
    }
   ],
   "source": [
    "def process_seasonal_metrics_without_index(data, dataset_name):\n",
    "    seasonal_tables = {}\n",
    "    \n",
    "    for season, (start, end) in seasons.items():\n",
    "        season_data = data.iloc[start:end]\n",
    "        y_actual = season_data['Actual']\n",
    "        season_metrics = []\n",
    "\n",
    "        for model in data.columns[1:]:\n",
    "            y_pred = season_data[model]\n",
    "            mae = mean_absolute_error(y_actual, y_pred)\n",
    "            rmse = np.sqrt(mean_squared_error(y_actual, y_pred))\n",
    "            smape_value = smape(y_actual, y_pred)\n",
    "            season_metrics.append({\n",
    "                'Model': model,\n",
    "                'MAE': mae,\n",
    "                'RMSE': rmse,\n",
    "                'SMAPE': smape_value\n",
    "            })\n",
    "        season_metrics_df = pd.DataFrame(season_metrics).sort_values(by='SMAPE')\n",
    "        styled_season_metrics = season_metrics_df.style.hide_index()\\\n",
    "            .background_gradient(cmap='coolwarm', subset=['MAE', 'RMSE', 'SMAPE'])\\\n",
    "            .format(\"{:.2f}\", subset=['MAE', 'RMSE', 'SMAPE'])\\\n",
    "            .set_caption(f\"Error Metrics Sorted by SMAPE ({dataset_name} - {season})\")\\\n",
    "            .set_precision(2)\n",
    "\n",
    "        seasonal_tables[season] = styled_season_metrics\n",
    "\n",
    "    return seasonal_tables\n",
    "\n",
    "seasonal_tables_residence1_no_index = process_seasonal_metrics_without_index(data1, \"Residence 1\")\n",
    "seasonal_tables_residence2_no_index = process_seasonal_metrics_without_index(data2, \"Residence 2\")\n",
    "\n",
    "for season, table in seasonal_tables_residence1_no_index.items():\n",
    "    print(f\"Residence 1 - {season} Season\")\n",
    "    display(table)\n",
    "    \n",
    "for season, table in seasonal_tables_residence2_no_index.items():\n",
    "    print(f\"Residence 2 - {season} Season\")\n",
    "    display(table)"
   ]
  },
  {
   "cell_type": "code",
   "execution_count": 5,
   "id": "e005790f-af3a-48d3-9feb-3e3ac18949d3",
   "metadata": {},
   "outputs": [
    {
     "data": {
      "application/vnd.plotly.v1+json": {
       "config": {
        "plotlyServerURL": "https://plot.ly"
       },
       "data": [
        {
         "alignmentgroup": "True",
         "hovertemplate": "Season=Fall<br>Model=%{x}<br>MAE=%{y}<extra></extra>",
         "legendgroup": "Fall",
         "marker": {
          "color": "#636efa",
          "pattern": {
           "shape": ""
          }
         },
         "name": "Fall",
         "offsetgroup": "Fall",
         "orientation": "v",
         "showlegend": true,
         "textposition": "auto",
         "type": "bar",
         "x": [
          "MLP",
          "ARFFNN",
          "LSTM",
          "RNN",
          "GRU",
          "Transformer",
          "Nbeats",
          "HyperNetLSTM",
          "AttentionLSTM",
          "TempConv",
          "HyperNetLSTMRBF",
          "HyperNetLSTMPoly"
         ],
         "xaxis": "x",
         "y": [
          45.04874578334397,
          34.48743910433951,
          28.953887690858334,
          32.95083847223995,
          25.4844255564933,
          22.00203820804084,
          35.17158405714742,
          26.301330734684107,
          24.04392641384812,
          24.49956724408105,
          28.28194785258456,
          33.757539585832795
         ],
         "yaxis": "y"
        },
        {
         "alignmentgroup": "True",
         "hovertemplate": "Season=Winter<br>Model=%{x}<br>MAE=%{y}<extra></extra>",
         "legendgroup": "Winter",
         "marker": {
          "color": "#EF553B",
          "pattern": {
           "shape": ""
          }
         },
         "name": "Winter",
         "offsetgroup": "Winter",
         "orientation": "v",
         "showlegend": true,
         "textposition": "auto",
         "type": "bar",
         "x": [
          "MLP",
          "ARFFNN",
          "LSTM",
          "RNN",
          "GRU",
          "Transformer",
          "Nbeats",
          "HyperNetLSTM",
          "AttentionLSTM",
          "TempConv",
          "HyperNetLSTMRBF",
          "HyperNetLSTMPoly"
         ],
         "xaxis": "x",
         "y": [
          18.678357171825144,
          19.434657473675816,
          19.27383676244416,
          20.30649853956605,
          29.066652319559672,
          27.729748252552653,
          23.12102980902999,
          16.44221009731972,
          25.52073956349713,
          26.53331219862795,
          18.91738991448628,
          18.521629408104655
         ],
         "yaxis": "y"
        },
        {
         "alignmentgroup": "True",
         "hovertemplate": "Season=Spring<br>Model=%{x}<br>MAE=%{y}<extra></extra>",
         "legendgroup": "Spring",
         "marker": {
          "color": "#00cc96",
          "pattern": {
           "shape": ""
          }
         },
         "name": "Spring",
         "offsetgroup": "Spring",
         "orientation": "v",
         "showlegend": true,
         "textposition": "auto",
         "type": "bar",
         "x": [
          "MLP",
          "ARFFNN",
          "LSTM",
          "RNN",
          "GRU",
          "Transformer",
          "Nbeats",
          "HyperNetLSTM",
          "AttentionLSTM",
          "TempConv",
          "HyperNetLSTMRBF",
          "HyperNetLSTMPoly"
         ],
         "xaxis": "x",
         "y": [
          28.26657043038366,
          21.804145582147278,
          20.757686599102726,
          23.33660633378713,
          27.209081010334156,
          23.060187305816832,
          24.24328381311881,
          22.300466305662127,
          22.140317773422034,
          24.682805082332923,
          21.015374917450494,
          21.999630998762377
         ],
         "yaxis": "y"
        },
        {
         "alignmentgroup": "True",
         "hovertemplate": "Season=Summer<br>Model=%{x}<br>MAE=%{y}<extra></extra>",
         "legendgroup": "Summer",
         "marker": {
          "color": "#ab63fa",
          "pattern": {
           "shape": ""
          }
         },
         "name": "Summer",
         "offsetgroup": "Summer",
         "orientation": "v",
         "showlegend": true,
         "textposition": "auto",
         "type": "bar",
         "x": [
          "MLP",
          "ARFFNN",
          "LSTM",
          "RNN",
          "GRU",
          "Transformer",
          "Nbeats",
          "HyperNetLSTM",
          "AttentionLSTM",
          "TempConv",
          "HyperNetLSTMRBF",
          "HyperNetLSTMPoly"
         ],
         "xaxis": "x",
         "y": [
          21.67376501900527,
          14.590179079710145,
          13.44859886019763,
          17.962872260540184,
          12.344893540924573,
          11.886068312450593,
          12.608383989952536,
          11.992445696245058,
          12.290877005385376,
          13.738299357635047,
          11.552944368636364,
          12.125850264426877
         ],
         "yaxis": "y"
        }
       ],
       "layout": {
        "autosize": true,
        "barmode": "group",
        "legend": {
         "title": {
          "text": "Season"
         },
         "tracegroupgap": 0
        },
        "template": {
         "data": {
          "bar": [
           {
            "error_x": {
             "color": "#2a3f5f"
            },
            "error_y": {
             "color": "#2a3f5f"
            },
            "marker": {
             "line": {
              "color": "#E5ECF6",
              "width": 0.5
             },
             "pattern": {
              "fillmode": "overlay",
              "size": 10,
              "solidity": 0.2
             }
            },
            "type": "bar"
           }
          ],
          "barpolar": [
           {
            "marker": {
             "line": {
              "color": "#E5ECF6",
              "width": 0.5
             },
             "pattern": {
              "fillmode": "overlay",
              "size": 10,
              "solidity": 0.2
             }
            },
            "type": "barpolar"
           }
          ],
          "carpet": [
           {
            "aaxis": {
             "endlinecolor": "#2a3f5f",
             "gridcolor": "white",
             "linecolor": "white",
             "minorgridcolor": "white",
             "startlinecolor": "#2a3f5f"
            },
            "baxis": {
             "endlinecolor": "#2a3f5f",
             "gridcolor": "white",
             "linecolor": "white",
             "minorgridcolor": "white",
             "startlinecolor": "#2a3f5f"
            },
            "type": "carpet"
           }
          ],
          "choropleth": [
           {
            "colorbar": {
             "outlinewidth": 0,
             "ticks": ""
            },
            "type": "choropleth"
           }
          ],
          "contour": [
           {
            "colorbar": {
             "outlinewidth": 0,
             "ticks": ""
            },
            "colorscale": [
             [
              0,
              "#0d0887"
             ],
             [
              0.1111111111111111,
              "#46039f"
             ],
             [
              0.2222222222222222,
              "#7201a8"
             ],
             [
              0.3333333333333333,
              "#9c179e"
             ],
             [
              0.4444444444444444,
              "#bd3786"
             ],
             [
              0.5555555555555556,
              "#d8576b"
             ],
             [
              0.6666666666666666,
              "#ed7953"
             ],
             [
              0.7777777777777778,
              "#fb9f3a"
             ],
             [
              0.8888888888888888,
              "#fdca26"
             ],
             [
              1,
              "#f0f921"
             ]
            ],
            "type": "contour"
           }
          ],
          "contourcarpet": [
           {
            "colorbar": {
             "outlinewidth": 0,
             "ticks": ""
            },
            "type": "contourcarpet"
           }
          ],
          "heatmap": [
           {
            "colorbar": {
             "outlinewidth": 0,
             "ticks": ""
            },
            "colorscale": [
             [
              0,
              "#0d0887"
             ],
             [
              0.1111111111111111,
              "#46039f"
             ],
             [
              0.2222222222222222,
              "#7201a8"
             ],
             [
              0.3333333333333333,
              "#9c179e"
             ],
             [
              0.4444444444444444,
              "#bd3786"
             ],
             [
              0.5555555555555556,
              "#d8576b"
             ],
             [
              0.6666666666666666,
              "#ed7953"
             ],
             [
              0.7777777777777778,
              "#fb9f3a"
             ],
             [
              0.8888888888888888,
              "#fdca26"
             ],
             [
              1,
              "#f0f921"
             ]
            ],
            "type": "heatmap"
           }
          ],
          "heatmapgl": [
           {
            "colorbar": {
             "outlinewidth": 0,
             "ticks": ""
            },
            "colorscale": [
             [
              0,
              "#0d0887"
             ],
             [
              0.1111111111111111,
              "#46039f"
             ],
             [
              0.2222222222222222,
              "#7201a8"
             ],
             [
              0.3333333333333333,
              "#9c179e"
             ],
             [
              0.4444444444444444,
              "#bd3786"
             ],
             [
              0.5555555555555556,
              "#d8576b"
             ],
             [
              0.6666666666666666,
              "#ed7953"
             ],
             [
              0.7777777777777778,
              "#fb9f3a"
             ],
             [
              0.8888888888888888,
              "#fdca26"
             ],
             [
              1,
              "#f0f921"
             ]
            ],
            "type": "heatmapgl"
           }
          ],
          "histogram": [
           {
            "marker": {
             "pattern": {
              "fillmode": "overlay",
              "size": 10,
              "solidity": 0.2
             }
            },
            "type": "histogram"
           }
          ],
          "histogram2d": [
           {
            "colorbar": {
             "outlinewidth": 0,
             "ticks": ""
            },
            "colorscale": [
             [
              0,
              "#0d0887"
             ],
             [
              0.1111111111111111,
              "#46039f"
             ],
             [
              0.2222222222222222,
              "#7201a8"
             ],
             [
              0.3333333333333333,
              "#9c179e"
             ],
             [
              0.4444444444444444,
              "#bd3786"
             ],
             [
              0.5555555555555556,
              "#d8576b"
             ],
             [
              0.6666666666666666,
              "#ed7953"
             ],
             [
              0.7777777777777778,
              "#fb9f3a"
             ],
             [
              0.8888888888888888,
              "#fdca26"
             ],
             [
              1,
              "#f0f921"
             ]
            ],
            "type": "histogram2d"
           }
          ],
          "histogram2dcontour": [
           {
            "colorbar": {
             "outlinewidth": 0,
             "ticks": ""
            },
            "colorscale": [
             [
              0,
              "#0d0887"
             ],
             [
              0.1111111111111111,
              "#46039f"
             ],
             [
              0.2222222222222222,
              "#7201a8"
             ],
             [
              0.3333333333333333,
              "#9c179e"
             ],
             [
              0.4444444444444444,
              "#bd3786"
             ],
             [
              0.5555555555555556,
              "#d8576b"
             ],
             [
              0.6666666666666666,
              "#ed7953"
             ],
             [
              0.7777777777777778,
              "#fb9f3a"
             ],
             [
              0.8888888888888888,
              "#fdca26"
             ],
             [
              1,
              "#f0f921"
             ]
            ],
            "type": "histogram2dcontour"
           }
          ],
          "mesh3d": [
           {
            "colorbar": {
             "outlinewidth": 0,
             "ticks": ""
            },
            "type": "mesh3d"
           }
          ],
          "parcoords": [
           {
            "line": {
             "colorbar": {
              "outlinewidth": 0,
              "ticks": ""
             }
            },
            "type": "parcoords"
           }
          ],
          "pie": [
           {
            "automargin": true,
            "type": "pie"
           }
          ],
          "scatter": [
           {
            "fillpattern": {
             "fillmode": "overlay",
             "size": 10,
             "solidity": 0.2
            },
            "type": "scatter"
           }
          ],
          "scatter3d": [
           {
            "line": {
             "colorbar": {
              "outlinewidth": 0,
              "ticks": ""
             }
            },
            "marker": {
             "colorbar": {
              "outlinewidth": 0,
              "ticks": ""
             }
            },
            "type": "scatter3d"
           }
          ],
          "scattercarpet": [
           {
            "marker": {
             "colorbar": {
              "outlinewidth": 0,
              "ticks": ""
             }
            },
            "type": "scattercarpet"
           }
          ],
          "scattergeo": [
           {
            "marker": {
             "colorbar": {
              "outlinewidth": 0,
              "ticks": ""
             }
            },
            "type": "scattergeo"
           }
          ],
          "scattergl": [
           {
            "marker": {
             "colorbar": {
              "outlinewidth": 0,
              "ticks": ""
             }
            },
            "type": "scattergl"
           }
          ],
          "scattermapbox": [
           {
            "marker": {
             "colorbar": {
              "outlinewidth": 0,
              "ticks": ""
             }
            },
            "type": "scattermapbox"
           }
          ],
          "scatterpolar": [
           {
            "marker": {
             "colorbar": {
              "outlinewidth": 0,
              "ticks": ""
             }
            },
            "type": "scatterpolar"
           }
          ],
          "scatterpolargl": [
           {
            "marker": {
             "colorbar": {
              "outlinewidth": 0,
              "ticks": ""
             }
            },
            "type": "scatterpolargl"
           }
          ],
          "scatterternary": [
           {
            "marker": {
             "colorbar": {
              "outlinewidth": 0,
              "ticks": ""
             }
            },
            "type": "scatterternary"
           }
          ],
          "surface": [
           {
            "colorbar": {
             "outlinewidth": 0,
             "ticks": ""
            },
            "colorscale": [
             [
              0,
              "#0d0887"
             ],
             [
              0.1111111111111111,
              "#46039f"
             ],
             [
              0.2222222222222222,
              "#7201a8"
             ],
             [
              0.3333333333333333,
              "#9c179e"
             ],
             [
              0.4444444444444444,
              "#bd3786"
             ],
             [
              0.5555555555555556,
              "#d8576b"
             ],
             [
              0.6666666666666666,
              "#ed7953"
             ],
             [
              0.7777777777777778,
              "#fb9f3a"
             ],
             [
              0.8888888888888888,
              "#fdca26"
             ],
             [
              1,
              "#f0f921"
             ]
            ],
            "type": "surface"
           }
          ],
          "table": [
           {
            "cells": {
             "fill": {
              "color": "#EBF0F8"
             },
             "line": {
              "color": "white"
             }
            },
            "header": {
             "fill": {
              "color": "#C8D4E3"
             },
             "line": {
              "color": "white"
             }
            },
            "type": "table"
           }
          ]
         },
         "layout": {
          "annotationdefaults": {
           "arrowcolor": "#2a3f5f",
           "arrowhead": 0,
           "arrowwidth": 1
          },
          "autotypenumbers": "strict",
          "coloraxis": {
           "colorbar": {
            "outlinewidth": 0,
            "ticks": ""
           }
          },
          "colorscale": {
           "diverging": [
            [
             0,
             "#8e0152"
            ],
            [
             0.1,
             "#c51b7d"
            ],
            [
             0.2,
             "#de77ae"
            ],
            [
             0.3,
             "#f1b6da"
            ],
            [
             0.4,
             "#fde0ef"
            ],
            [
             0.5,
             "#f7f7f7"
            ],
            [
             0.6,
             "#e6f5d0"
            ],
            [
             0.7,
             "#b8e186"
            ],
            [
             0.8,
             "#7fbc41"
            ],
            [
             0.9,
             "#4d9221"
            ],
            [
             1,
             "#276419"
            ]
           ],
           "sequential": [
            [
             0,
             "#0d0887"
            ],
            [
             0.1111111111111111,
             "#46039f"
            ],
            [
             0.2222222222222222,
             "#7201a8"
            ],
            [
             0.3333333333333333,
             "#9c179e"
            ],
            [
             0.4444444444444444,
             "#bd3786"
            ],
            [
             0.5555555555555556,
             "#d8576b"
            ],
            [
             0.6666666666666666,
             "#ed7953"
            ],
            [
             0.7777777777777778,
             "#fb9f3a"
            ],
            [
             0.8888888888888888,
             "#fdca26"
            ],
            [
             1,
             "#f0f921"
            ]
           ],
           "sequentialminus": [
            [
             0,
             "#0d0887"
            ],
            [
             0.1111111111111111,
             "#46039f"
            ],
            [
             0.2222222222222222,
             "#7201a8"
            ],
            [
             0.3333333333333333,
             "#9c179e"
            ],
            [
             0.4444444444444444,
             "#bd3786"
            ],
            [
             0.5555555555555556,
             "#d8576b"
            ],
            [
             0.6666666666666666,
             "#ed7953"
            ],
            [
             0.7777777777777778,
             "#fb9f3a"
            ],
            [
             0.8888888888888888,
             "#fdca26"
            ],
            [
             1,
             "#f0f921"
            ]
           ]
          },
          "colorway": [
           "#636efa",
           "#EF553B",
           "#00cc96",
           "#ab63fa",
           "#FFA15A",
           "#19d3f3",
           "#FF6692",
           "#B6E880",
           "#FF97FF",
           "#FECB52"
          ],
          "font": {
           "color": "#2a3f5f"
          },
          "geo": {
           "bgcolor": "white",
           "lakecolor": "white",
           "landcolor": "#E5ECF6",
           "showlakes": true,
           "showland": true,
           "subunitcolor": "white"
          },
          "hoverlabel": {
           "align": "left"
          },
          "hovermode": "closest",
          "mapbox": {
           "style": "light"
          },
          "paper_bgcolor": "white",
          "plot_bgcolor": "#E5ECF6",
          "polar": {
           "angularaxis": {
            "gridcolor": "white",
            "linecolor": "white",
            "ticks": ""
           },
           "bgcolor": "#E5ECF6",
           "radialaxis": {
            "gridcolor": "white",
            "linecolor": "white",
            "ticks": ""
           }
          },
          "scene": {
           "xaxis": {
            "backgroundcolor": "#E5ECF6",
            "gridcolor": "white",
            "gridwidth": 2,
            "linecolor": "white",
            "showbackground": true,
            "ticks": "",
            "zerolinecolor": "white"
           },
           "yaxis": {
            "backgroundcolor": "#E5ECF6",
            "gridcolor": "white",
            "gridwidth": 2,
            "linecolor": "white",
            "showbackground": true,
            "ticks": "",
            "zerolinecolor": "white"
           },
           "zaxis": {
            "backgroundcolor": "#E5ECF6",
            "gridcolor": "white",
            "gridwidth": 2,
            "linecolor": "white",
            "showbackground": true,
            "ticks": "",
            "zerolinecolor": "white"
           }
          },
          "shapedefaults": {
           "line": {
            "color": "#2a3f5f"
           }
          },
          "ternary": {
           "aaxis": {
            "gridcolor": "white",
            "linecolor": "white",
            "ticks": ""
           },
           "baxis": {
            "gridcolor": "white",
            "linecolor": "white",
            "ticks": ""
           },
           "bgcolor": "#E5ECF6",
           "caxis": {
            "gridcolor": "white",
            "linecolor": "white",
            "ticks": ""
           }
          },
          "title": {
           "x": 0.05
          },
          "xaxis": {
           "automargin": true,
           "gridcolor": "white",
           "linecolor": "white",
           "ticks": "",
           "title": {
            "standoff": 15
           },
           "zerolinecolor": "white",
           "zerolinewidth": 2
          },
          "yaxis": {
           "automargin": true,
           "gridcolor": "white",
           "linecolor": "white",
           "ticks": "",
           "title": {
            "standoff": 15
           },
           "zerolinecolor": "white",
           "zerolinewidth": 2
          }
         }
        },
        "title": {
         "text": "MAE Bar Chart Across Seasons for Residence 1"
        },
        "xaxis": {
         "anchor": "y",
         "autorange": true,
         "domain": [
          0,
          1
         ],
         "range": [
          -0.5,
          11.5
         ],
         "title": {
          "text": "Model"
         },
         "type": "category"
        },
        "yaxis": {
         "anchor": "x",
         "autorange": true,
         "domain": [
          0,
          1
         ],
         "range": [
          0,
          47.419732403519966
         ],
         "title": {
          "text": "MAE"
         },
         "type": "linear"
        }
       }
      },
      "text/html": [
       "<div>                            <div id=\"0b15d2d1-69f9-490d-8533-7cad267a0192\" class=\"plotly-graph-div\" style=\"height:600px; width:100%;\"></div>            <script type=\"text/javascript\">                require([\"plotly\"], function(Plotly) {                    window.PLOTLYENV=window.PLOTLYENV || {};                                    if (document.getElementById(\"0b15d2d1-69f9-490d-8533-7cad267a0192\")) {                    Plotly.newPlot(                        \"0b15d2d1-69f9-490d-8533-7cad267a0192\",                        [{\"alignmentgroup\":\"True\",\"hovertemplate\":\"Season=Fall\\u003cbr\\u003eModel=%{x}\\u003cbr\\u003eMAE=%{y}\\u003cextra\\u003e\\u003c\\u002fextra\\u003e\",\"legendgroup\":\"Fall\",\"marker\":{\"color\":\"#636efa\",\"pattern\":{\"shape\":\"\"}},\"name\":\"Fall\",\"offsetgroup\":\"Fall\",\"orientation\":\"v\",\"showlegend\":true,\"textposition\":\"auto\",\"x\":[\"MLP\",\"ARFFNN\",\"LSTM\",\"RNN\",\"GRU\",\"Transformer\",\"Nbeats\",\"HyperNetLSTM\",\"AttentionLSTM\",\"TempConv\",\"HyperNetLSTMRBF\",\"HyperNetLSTMPoly\"],\"xaxis\":\"x\",\"y\":[45.04874578334397,34.48743910433951,28.953887690858334,32.95083847223995,25.4844255564933,22.00203820804084,35.17158405714742,26.301330734684107,24.04392641384812,24.49956724408105,28.28194785258456,33.757539585832795],\"yaxis\":\"y\",\"type\":\"bar\"},{\"alignmentgroup\":\"True\",\"hovertemplate\":\"Season=Winter\\u003cbr\\u003eModel=%{x}\\u003cbr\\u003eMAE=%{y}\\u003cextra\\u003e\\u003c\\u002fextra\\u003e\",\"legendgroup\":\"Winter\",\"marker\":{\"color\":\"#EF553B\",\"pattern\":{\"shape\":\"\"}},\"name\":\"Winter\",\"offsetgroup\":\"Winter\",\"orientation\":\"v\",\"showlegend\":true,\"textposition\":\"auto\",\"x\":[\"MLP\",\"ARFFNN\",\"LSTM\",\"RNN\",\"GRU\",\"Transformer\",\"Nbeats\",\"HyperNetLSTM\",\"AttentionLSTM\",\"TempConv\",\"HyperNetLSTMRBF\",\"HyperNetLSTMPoly\"],\"xaxis\":\"x\",\"y\":[18.678357171825144,19.434657473675816,19.27383676244416,20.30649853956605,29.066652319559672,27.729748252552653,23.12102980902999,16.44221009731972,25.52073956349713,26.53331219862795,18.91738991448628,18.521629408104655],\"yaxis\":\"y\",\"type\":\"bar\"},{\"alignmentgroup\":\"True\",\"hovertemplate\":\"Season=Spring\\u003cbr\\u003eModel=%{x}\\u003cbr\\u003eMAE=%{y}\\u003cextra\\u003e\\u003c\\u002fextra\\u003e\",\"legendgroup\":\"Spring\",\"marker\":{\"color\":\"#00cc96\",\"pattern\":{\"shape\":\"\"}},\"name\":\"Spring\",\"offsetgroup\":\"Spring\",\"orientation\":\"v\",\"showlegend\":true,\"textposition\":\"auto\",\"x\":[\"MLP\",\"ARFFNN\",\"LSTM\",\"RNN\",\"GRU\",\"Transformer\",\"Nbeats\",\"HyperNetLSTM\",\"AttentionLSTM\",\"TempConv\",\"HyperNetLSTMRBF\",\"HyperNetLSTMPoly\"],\"xaxis\":\"x\",\"y\":[28.26657043038366,21.804145582147278,20.757686599102726,23.33660633378713,27.209081010334156,23.060187305816832,24.24328381311881,22.300466305662127,22.140317773422034,24.682805082332923,21.015374917450494,21.999630998762377],\"yaxis\":\"y\",\"type\":\"bar\"},{\"alignmentgroup\":\"True\",\"hovertemplate\":\"Season=Summer\\u003cbr\\u003eModel=%{x}\\u003cbr\\u003eMAE=%{y}\\u003cextra\\u003e\\u003c\\u002fextra\\u003e\",\"legendgroup\":\"Summer\",\"marker\":{\"color\":\"#ab63fa\",\"pattern\":{\"shape\":\"\"}},\"name\":\"Summer\",\"offsetgroup\":\"Summer\",\"orientation\":\"v\",\"showlegend\":true,\"textposition\":\"auto\",\"x\":[\"MLP\",\"ARFFNN\",\"LSTM\",\"RNN\",\"GRU\",\"Transformer\",\"Nbeats\",\"HyperNetLSTM\",\"AttentionLSTM\",\"TempConv\",\"HyperNetLSTMRBF\",\"HyperNetLSTMPoly\"],\"xaxis\":\"x\",\"y\":[21.67376501900527,14.590179079710145,13.44859886019763,17.962872260540184,12.344893540924573,11.886068312450593,12.608383989952536,11.992445696245058,12.290877005385376,13.738299357635047,11.552944368636364,12.125850264426877],\"yaxis\":\"y\",\"type\":\"bar\"}],                        {\"template\":{\"data\":{\"histogram2dcontour\":[{\"type\":\"histogram2dcontour\",\"colorbar\":{\"outlinewidth\":0,\"ticks\":\"\"},\"colorscale\":[[0.0,\"#0d0887\"],[0.1111111111111111,\"#46039f\"],[0.2222222222222222,\"#7201a8\"],[0.3333333333333333,\"#9c179e\"],[0.4444444444444444,\"#bd3786\"],[0.5555555555555556,\"#d8576b\"],[0.6666666666666666,\"#ed7953\"],[0.7777777777777778,\"#fb9f3a\"],[0.8888888888888888,\"#fdca26\"],[1.0,\"#f0f921\"]]}],\"choropleth\":[{\"type\":\"choropleth\",\"colorbar\":{\"outlinewidth\":0,\"ticks\":\"\"}}],\"histogram2d\":[{\"type\":\"histogram2d\",\"colorbar\":{\"outlinewidth\":0,\"ticks\":\"\"},\"colorscale\":[[0.0,\"#0d0887\"],[0.1111111111111111,\"#46039f\"],[0.2222222222222222,\"#7201a8\"],[0.3333333333333333,\"#9c179e\"],[0.4444444444444444,\"#bd3786\"],[0.5555555555555556,\"#d8576b\"],[0.6666666666666666,\"#ed7953\"],[0.7777777777777778,\"#fb9f3a\"],[0.8888888888888888,\"#fdca26\"],[1.0,\"#f0f921\"]]}],\"heatmap\":[{\"type\":\"heatmap\",\"colorbar\":{\"outlinewidth\":0,\"ticks\":\"\"},\"colorscale\":[[0.0,\"#0d0887\"],[0.1111111111111111,\"#46039f\"],[0.2222222222222222,\"#7201a8\"],[0.3333333333333333,\"#9c179e\"],[0.4444444444444444,\"#bd3786\"],[0.5555555555555556,\"#d8576b\"],[0.6666666666666666,\"#ed7953\"],[0.7777777777777778,\"#fb9f3a\"],[0.8888888888888888,\"#fdca26\"],[1.0,\"#f0f921\"]]}],\"heatmapgl\":[{\"type\":\"heatmapgl\",\"colorbar\":{\"outlinewidth\":0,\"ticks\":\"\"},\"colorscale\":[[0.0,\"#0d0887\"],[0.1111111111111111,\"#46039f\"],[0.2222222222222222,\"#7201a8\"],[0.3333333333333333,\"#9c179e\"],[0.4444444444444444,\"#bd3786\"],[0.5555555555555556,\"#d8576b\"],[0.6666666666666666,\"#ed7953\"],[0.7777777777777778,\"#fb9f3a\"],[0.8888888888888888,\"#fdca26\"],[1.0,\"#f0f921\"]]}],\"contourcarpet\":[{\"type\":\"contourcarpet\",\"colorbar\":{\"outlinewidth\":0,\"ticks\":\"\"}}],\"contour\":[{\"type\":\"contour\",\"colorbar\":{\"outlinewidth\":0,\"ticks\":\"\"},\"colorscale\":[[0.0,\"#0d0887\"],[0.1111111111111111,\"#46039f\"],[0.2222222222222222,\"#7201a8\"],[0.3333333333333333,\"#9c179e\"],[0.4444444444444444,\"#bd3786\"],[0.5555555555555556,\"#d8576b\"],[0.6666666666666666,\"#ed7953\"],[0.7777777777777778,\"#fb9f3a\"],[0.8888888888888888,\"#fdca26\"],[1.0,\"#f0f921\"]]}],\"surface\":[{\"type\":\"surface\",\"colorbar\":{\"outlinewidth\":0,\"ticks\":\"\"},\"colorscale\":[[0.0,\"#0d0887\"],[0.1111111111111111,\"#46039f\"],[0.2222222222222222,\"#7201a8\"],[0.3333333333333333,\"#9c179e\"],[0.4444444444444444,\"#bd3786\"],[0.5555555555555556,\"#d8576b\"],[0.6666666666666666,\"#ed7953\"],[0.7777777777777778,\"#fb9f3a\"],[0.8888888888888888,\"#fdca26\"],[1.0,\"#f0f921\"]]}],\"mesh3d\":[{\"type\":\"mesh3d\",\"colorbar\":{\"outlinewidth\":0,\"ticks\":\"\"}}],\"scatter\":[{\"fillpattern\":{\"fillmode\":\"overlay\",\"size\":10,\"solidity\":0.2},\"type\":\"scatter\"}],\"parcoords\":[{\"type\":\"parcoords\",\"line\":{\"colorbar\":{\"outlinewidth\":0,\"ticks\":\"\"}}}],\"scatterpolargl\":[{\"type\":\"scatterpolargl\",\"marker\":{\"colorbar\":{\"outlinewidth\":0,\"ticks\":\"\"}}}],\"bar\":[{\"error_x\":{\"color\":\"#2a3f5f\"},\"error_y\":{\"color\":\"#2a3f5f\"},\"marker\":{\"line\":{\"color\":\"#E5ECF6\",\"width\":0.5},\"pattern\":{\"fillmode\":\"overlay\",\"size\":10,\"solidity\":0.2}},\"type\":\"bar\"}],\"scattergeo\":[{\"type\":\"scattergeo\",\"marker\":{\"colorbar\":{\"outlinewidth\":0,\"ticks\":\"\"}}}],\"scatterpolar\":[{\"type\":\"scatterpolar\",\"marker\":{\"colorbar\":{\"outlinewidth\":0,\"ticks\":\"\"}}}],\"histogram\":[{\"marker\":{\"pattern\":{\"fillmode\":\"overlay\",\"size\":10,\"solidity\":0.2}},\"type\":\"histogram\"}],\"scattergl\":[{\"type\":\"scattergl\",\"marker\":{\"colorbar\":{\"outlinewidth\":0,\"ticks\":\"\"}}}],\"scatter3d\":[{\"type\":\"scatter3d\",\"line\":{\"colorbar\":{\"outlinewidth\":0,\"ticks\":\"\"}},\"marker\":{\"colorbar\":{\"outlinewidth\":0,\"ticks\":\"\"}}}],\"scattermapbox\":[{\"type\":\"scattermapbox\",\"marker\":{\"colorbar\":{\"outlinewidth\":0,\"ticks\":\"\"}}}],\"scatterternary\":[{\"type\":\"scatterternary\",\"marker\":{\"colorbar\":{\"outlinewidth\":0,\"ticks\":\"\"}}}],\"scattercarpet\":[{\"type\":\"scattercarpet\",\"marker\":{\"colorbar\":{\"outlinewidth\":0,\"ticks\":\"\"}}}],\"carpet\":[{\"aaxis\":{\"endlinecolor\":\"#2a3f5f\",\"gridcolor\":\"white\",\"linecolor\":\"white\",\"minorgridcolor\":\"white\",\"startlinecolor\":\"#2a3f5f\"},\"baxis\":{\"endlinecolor\":\"#2a3f5f\",\"gridcolor\":\"white\",\"linecolor\":\"white\",\"minorgridcolor\":\"white\",\"startlinecolor\":\"#2a3f5f\"},\"type\":\"carpet\"}],\"table\":[{\"cells\":{\"fill\":{\"color\":\"#EBF0F8\"},\"line\":{\"color\":\"white\"}},\"header\":{\"fill\":{\"color\":\"#C8D4E3\"},\"line\":{\"color\":\"white\"}},\"type\":\"table\"}],\"barpolar\":[{\"marker\":{\"line\":{\"color\":\"#E5ECF6\",\"width\":0.5},\"pattern\":{\"fillmode\":\"overlay\",\"size\":10,\"solidity\":0.2}},\"type\":\"barpolar\"}],\"pie\":[{\"automargin\":true,\"type\":\"pie\"}]},\"layout\":{\"autotypenumbers\":\"strict\",\"colorway\":[\"#636efa\",\"#EF553B\",\"#00cc96\",\"#ab63fa\",\"#FFA15A\",\"#19d3f3\",\"#FF6692\",\"#B6E880\",\"#FF97FF\",\"#FECB52\"],\"font\":{\"color\":\"#2a3f5f\"},\"hovermode\":\"closest\",\"hoverlabel\":{\"align\":\"left\"},\"paper_bgcolor\":\"white\",\"plot_bgcolor\":\"#E5ECF6\",\"polar\":{\"bgcolor\":\"#E5ECF6\",\"angularaxis\":{\"gridcolor\":\"white\",\"linecolor\":\"white\",\"ticks\":\"\"},\"radialaxis\":{\"gridcolor\":\"white\",\"linecolor\":\"white\",\"ticks\":\"\"}},\"ternary\":{\"bgcolor\":\"#E5ECF6\",\"aaxis\":{\"gridcolor\":\"white\",\"linecolor\":\"white\",\"ticks\":\"\"},\"baxis\":{\"gridcolor\":\"white\",\"linecolor\":\"white\",\"ticks\":\"\"},\"caxis\":{\"gridcolor\":\"white\",\"linecolor\":\"white\",\"ticks\":\"\"}},\"coloraxis\":{\"colorbar\":{\"outlinewidth\":0,\"ticks\":\"\"}},\"colorscale\":{\"sequential\":[[0.0,\"#0d0887\"],[0.1111111111111111,\"#46039f\"],[0.2222222222222222,\"#7201a8\"],[0.3333333333333333,\"#9c179e\"],[0.4444444444444444,\"#bd3786\"],[0.5555555555555556,\"#d8576b\"],[0.6666666666666666,\"#ed7953\"],[0.7777777777777778,\"#fb9f3a\"],[0.8888888888888888,\"#fdca26\"],[1.0,\"#f0f921\"]],\"sequentialminus\":[[0.0,\"#0d0887\"],[0.1111111111111111,\"#46039f\"],[0.2222222222222222,\"#7201a8\"],[0.3333333333333333,\"#9c179e\"],[0.4444444444444444,\"#bd3786\"],[0.5555555555555556,\"#d8576b\"],[0.6666666666666666,\"#ed7953\"],[0.7777777777777778,\"#fb9f3a\"],[0.8888888888888888,\"#fdca26\"],[1.0,\"#f0f921\"]],\"diverging\":[[0,\"#8e0152\"],[0.1,\"#c51b7d\"],[0.2,\"#de77ae\"],[0.3,\"#f1b6da\"],[0.4,\"#fde0ef\"],[0.5,\"#f7f7f7\"],[0.6,\"#e6f5d0\"],[0.7,\"#b8e186\"],[0.8,\"#7fbc41\"],[0.9,\"#4d9221\"],[1,\"#276419\"]]},\"xaxis\":{\"gridcolor\":\"white\",\"linecolor\":\"white\",\"ticks\":\"\",\"title\":{\"standoff\":15},\"zerolinecolor\":\"white\",\"automargin\":true,\"zerolinewidth\":2},\"yaxis\":{\"gridcolor\":\"white\",\"linecolor\":\"white\",\"ticks\":\"\",\"title\":{\"standoff\":15},\"zerolinecolor\":\"white\",\"automargin\":true,\"zerolinewidth\":2},\"scene\":{\"xaxis\":{\"backgroundcolor\":\"#E5ECF6\",\"gridcolor\":\"white\",\"linecolor\":\"white\",\"showbackground\":true,\"ticks\":\"\",\"zerolinecolor\":\"white\",\"gridwidth\":2},\"yaxis\":{\"backgroundcolor\":\"#E5ECF6\",\"gridcolor\":\"white\",\"linecolor\":\"white\",\"showbackground\":true,\"ticks\":\"\",\"zerolinecolor\":\"white\",\"gridwidth\":2},\"zaxis\":{\"backgroundcolor\":\"#E5ECF6\",\"gridcolor\":\"white\",\"linecolor\":\"white\",\"showbackground\":true,\"ticks\":\"\",\"zerolinecolor\":\"white\",\"gridwidth\":2}},\"shapedefaults\":{\"line\":{\"color\":\"#2a3f5f\"}},\"annotationdefaults\":{\"arrowcolor\":\"#2a3f5f\",\"arrowhead\":0,\"arrowwidth\":1},\"geo\":{\"bgcolor\":\"white\",\"landcolor\":\"#E5ECF6\",\"subunitcolor\":\"white\",\"showland\":true,\"showlakes\":true,\"lakecolor\":\"white\"},\"title\":{\"x\":0.05},\"mapbox\":{\"style\":\"light\"}}},\"xaxis\":{\"anchor\":\"y\",\"domain\":[0.0,1.0],\"title\":{\"text\":\"Model\"}},\"yaxis\":{\"anchor\":\"x\",\"domain\":[0.0,1.0],\"title\":{\"text\":\"MAE\"}},\"legend\":{\"title\":{\"text\":\"Season\"},\"tracegroupgap\":0},\"title\":{\"text\":\"MAE Bar Chart Across Seasons for Residence 1\"},\"barmode\":\"group\",\"height\":600},                        {\"responsive\": true}                    ).then(function(){\n",
       "                            \n",
       "var gd = document.getElementById('0b15d2d1-69f9-490d-8533-7cad267a0192');\n",
       "var x = new MutationObserver(function (mutations, observer) {{\n",
       "        var display = window.getComputedStyle(gd).display;\n",
       "        if (!display || display === 'none') {{\n",
       "            console.log([gd, 'removed!']);\n",
       "            Plotly.purge(gd);\n",
       "            observer.disconnect();\n",
       "        }}\n",
       "}});\n",
       "\n",
       "// Listen for the removal of the full notebook cells\n",
       "var notebookContainer = gd.closest('#notebook-container');\n",
       "if (notebookContainer) {{\n",
       "    x.observe(notebookContainer, {childList: true});\n",
       "}}\n",
       "\n",
       "// Listen for the clearing of the current output cell\n",
       "var outputEl = gd.closest('.output');\n",
       "if (outputEl) {{\n",
       "    x.observe(outputEl, {childList: true});\n",
       "}}\n",
       "\n",
       "                        })                };                });            </script>        </div>"
      ]
     },
     "metadata": {},
     "output_type": "display_data"
    },
    {
     "data": {
      "application/vnd.plotly.v1+json": {
       "config": {
        "plotlyServerURL": "https://plot.ly"
       },
       "data": [
        {
         "alignmentgroup": "True",
         "hovertemplate": "Season=Fall<br>Model=%{x}<br>MAE=%{y}<extra></extra>",
         "legendgroup": "Fall",
         "marker": {
          "color": "#636efa",
          "pattern": {
           "shape": ""
          }
         },
         "name": "Fall",
         "offsetgroup": "Fall",
         "orientation": "v",
         "showlegend": true,
         "textposition": "auto",
         "type": "bar",
         "x": [
          "Transformer",
          "TempConv",
          "GRU",
          "HyperNetLSTM",
          "LSTM",
          "MLP",
          "RNN",
          "Nbeats",
          "ARFFNN",
          "AttentionLSTM",
          "HyperNetLSTMRBF",
          "HyperNetLSTMPoly"
         ],
         "xaxis": "x",
         "y": [
          35.98792618490747,
          35.42477974984046,
          19.60064066735801,
          20.142822210753028,
          19.040661365507336,
          35.941125235641344,
          29.187273303924695,
          23.655740017549455,
          20.790946897574983,
          20.094787822590934,
          18.168022687938738,
          19.60471322016592
         ],
         "yaxis": "y"
        },
        {
         "alignmentgroup": "True",
         "hovertemplate": "Season=Winter<br>Model=%{x}<br>MAE=%{y}<extra></extra>",
         "legendgroup": "Winter",
         "marker": {
          "color": "#EF553B",
          "pattern": {
           "shape": ""
          }
         },
         "name": "Winter",
         "offsetgroup": "Winter",
         "orientation": "v",
         "showlegend": true,
         "textposition": "auto",
         "type": "bar",
         "x": [
          "Transformer",
          "TempConv",
          "GRU",
          "HyperNetLSTM",
          "LSTM",
          "MLP",
          "RNN",
          "Nbeats",
          "ARFFNN",
          "AttentionLSTM",
          "HyperNetLSTMRBF",
          "HyperNetLSTMPoly"
         ],
         "xaxis": "x",
         "y": [
          20.66846047287811,
          30.677442564183153,
          15.584081867246331,
          14.000113619990428,
          19.086594064119335,
          20.77089971102425,
          26.05576982428207,
          15.602096666161454,
          12.36156694562859,
          12.099945116719844,
          11.45618589834078,
          12.16018704039566
         ],
         "yaxis": "y"
        },
        {
         "alignmentgroup": "True",
         "hovertemplate": "Season=Spring<br>Model=%{x}<br>MAE=%{y}<extra></extra>",
         "legendgroup": "Spring",
         "marker": {
          "color": "#00cc96",
          "pattern": {
           "shape": ""
          }
         },
         "name": "Spring",
         "offsetgroup": "Spring",
         "orientation": "v",
         "showlegend": true,
         "textposition": "auto",
         "type": "bar",
         "x": [
          "Transformer",
          "TempConv",
          "GRU",
          "HyperNetLSTM",
          "LSTM",
          "MLP",
          "RNN",
          "Nbeats",
          "ARFFNN",
          "AttentionLSTM",
          "HyperNetLSTMRBF",
          "HyperNetLSTMPoly"
         ],
         "xaxis": "x",
         "y": [
          23.149632316831685,
          32.75388735426981,
          17.47542880259901,
          17.478049594059407,
          21.66709844542079,
          23.291524664913368,
          26.204650287128715,
          16.875869164913365,
          16.631300419245047,
          15.480994351485148,
          14.911796354579208,
          15.073304577042078
         ],
         "yaxis": "y"
        },
        {
         "alignmentgroup": "True",
         "hovertemplate": "Season=Summer<br>Model=%{x}<br>MAE=%{y}<extra></extra>",
         "legendgroup": "Summer",
         "marker": {
          "color": "#ab63fa",
          "pattern": {
           "shape": ""
          }
         },
         "name": "Summer",
         "offsetgroup": "Summer",
         "orientation": "v",
         "showlegend": true,
         "textposition": "auto",
         "type": "bar",
         "x": [
          "Transformer",
          "TempConv",
          "GRU",
          "HyperNetLSTM",
          "LSTM",
          "MLP",
          "RNN",
          "Nbeats",
          "ARFFNN",
          "AttentionLSTM",
          "HyperNetLSTMRBF",
          "HyperNetLSTMPoly"
         ],
         "xaxis": "x",
         "y": [
          38.40225139723321,
          34.26115474216074,
          30.58051452389987,
          28.85471490750988,
          33.00113296667425,
          39.22671488537549,
          37.99019380326087,
          28.54620446383926,
          32.67725409509223,
          29.948370837499997,
          25.10188605596179,
          25.453301467555995
         ],
         "yaxis": "y"
        }
       ],
       "layout": {
        "autosize": true,
        "barmode": "group",
        "legend": {
         "title": {
          "text": "Season"
         },
         "tracegroupgap": 0
        },
        "template": {
         "data": {
          "bar": [
           {
            "error_x": {
             "color": "#2a3f5f"
            },
            "error_y": {
             "color": "#2a3f5f"
            },
            "marker": {
             "line": {
              "color": "#E5ECF6",
              "width": 0.5
             },
             "pattern": {
              "fillmode": "overlay",
              "size": 10,
              "solidity": 0.2
             }
            },
            "type": "bar"
           }
          ],
          "barpolar": [
           {
            "marker": {
             "line": {
              "color": "#E5ECF6",
              "width": 0.5
             },
             "pattern": {
              "fillmode": "overlay",
              "size": 10,
              "solidity": 0.2
             }
            },
            "type": "barpolar"
           }
          ],
          "carpet": [
           {
            "aaxis": {
             "endlinecolor": "#2a3f5f",
             "gridcolor": "white",
             "linecolor": "white",
             "minorgridcolor": "white",
             "startlinecolor": "#2a3f5f"
            },
            "baxis": {
             "endlinecolor": "#2a3f5f",
             "gridcolor": "white",
             "linecolor": "white",
             "minorgridcolor": "white",
             "startlinecolor": "#2a3f5f"
            },
            "type": "carpet"
           }
          ],
          "choropleth": [
           {
            "colorbar": {
             "outlinewidth": 0,
             "ticks": ""
            },
            "type": "choropleth"
           }
          ],
          "contour": [
           {
            "colorbar": {
             "outlinewidth": 0,
             "ticks": ""
            },
            "colorscale": [
             [
              0,
              "#0d0887"
             ],
             [
              0.1111111111111111,
              "#46039f"
             ],
             [
              0.2222222222222222,
              "#7201a8"
             ],
             [
              0.3333333333333333,
              "#9c179e"
             ],
             [
              0.4444444444444444,
              "#bd3786"
             ],
             [
              0.5555555555555556,
              "#d8576b"
             ],
             [
              0.6666666666666666,
              "#ed7953"
             ],
             [
              0.7777777777777778,
              "#fb9f3a"
             ],
             [
              0.8888888888888888,
              "#fdca26"
             ],
             [
              1,
              "#f0f921"
             ]
            ],
            "type": "contour"
           }
          ],
          "contourcarpet": [
           {
            "colorbar": {
             "outlinewidth": 0,
             "ticks": ""
            },
            "type": "contourcarpet"
           }
          ],
          "heatmap": [
           {
            "colorbar": {
             "outlinewidth": 0,
             "ticks": ""
            },
            "colorscale": [
             [
              0,
              "#0d0887"
             ],
             [
              0.1111111111111111,
              "#46039f"
             ],
             [
              0.2222222222222222,
              "#7201a8"
             ],
             [
              0.3333333333333333,
              "#9c179e"
             ],
             [
              0.4444444444444444,
              "#bd3786"
             ],
             [
              0.5555555555555556,
              "#d8576b"
             ],
             [
              0.6666666666666666,
              "#ed7953"
             ],
             [
              0.7777777777777778,
              "#fb9f3a"
             ],
             [
              0.8888888888888888,
              "#fdca26"
             ],
             [
              1,
              "#f0f921"
             ]
            ],
            "type": "heatmap"
           }
          ],
          "heatmapgl": [
           {
            "colorbar": {
             "outlinewidth": 0,
             "ticks": ""
            },
            "colorscale": [
             [
              0,
              "#0d0887"
             ],
             [
              0.1111111111111111,
              "#46039f"
             ],
             [
              0.2222222222222222,
              "#7201a8"
             ],
             [
              0.3333333333333333,
              "#9c179e"
             ],
             [
              0.4444444444444444,
              "#bd3786"
             ],
             [
              0.5555555555555556,
              "#d8576b"
             ],
             [
              0.6666666666666666,
              "#ed7953"
             ],
             [
              0.7777777777777778,
              "#fb9f3a"
             ],
             [
              0.8888888888888888,
              "#fdca26"
             ],
             [
              1,
              "#f0f921"
             ]
            ],
            "type": "heatmapgl"
           }
          ],
          "histogram": [
           {
            "marker": {
             "pattern": {
              "fillmode": "overlay",
              "size": 10,
              "solidity": 0.2
             }
            },
            "type": "histogram"
           }
          ],
          "histogram2d": [
           {
            "colorbar": {
             "outlinewidth": 0,
             "ticks": ""
            },
            "colorscale": [
             [
              0,
              "#0d0887"
             ],
             [
              0.1111111111111111,
              "#46039f"
             ],
             [
              0.2222222222222222,
              "#7201a8"
             ],
             [
              0.3333333333333333,
              "#9c179e"
             ],
             [
              0.4444444444444444,
              "#bd3786"
             ],
             [
              0.5555555555555556,
              "#d8576b"
             ],
             [
              0.6666666666666666,
              "#ed7953"
             ],
             [
              0.7777777777777778,
              "#fb9f3a"
             ],
             [
              0.8888888888888888,
              "#fdca26"
             ],
             [
              1,
              "#f0f921"
             ]
            ],
            "type": "histogram2d"
           }
          ],
          "histogram2dcontour": [
           {
            "colorbar": {
             "outlinewidth": 0,
             "ticks": ""
            },
            "colorscale": [
             [
              0,
              "#0d0887"
             ],
             [
              0.1111111111111111,
              "#46039f"
             ],
             [
              0.2222222222222222,
              "#7201a8"
             ],
             [
              0.3333333333333333,
              "#9c179e"
             ],
             [
              0.4444444444444444,
              "#bd3786"
             ],
             [
              0.5555555555555556,
              "#d8576b"
             ],
             [
              0.6666666666666666,
              "#ed7953"
             ],
             [
              0.7777777777777778,
              "#fb9f3a"
             ],
             [
              0.8888888888888888,
              "#fdca26"
             ],
             [
              1,
              "#f0f921"
             ]
            ],
            "type": "histogram2dcontour"
           }
          ],
          "mesh3d": [
           {
            "colorbar": {
             "outlinewidth": 0,
             "ticks": ""
            },
            "type": "mesh3d"
           }
          ],
          "parcoords": [
           {
            "line": {
             "colorbar": {
              "outlinewidth": 0,
              "ticks": ""
             }
            },
            "type": "parcoords"
           }
          ],
          "pie": [
           {
            "automargin": true,
            "type": "pie"
           }
          ],
          "scatter": [
           {
            "fillpattern": {
             "fillmode": "overlay",
             "size": 10,
             "solidity": 0.2
            },
            "type": "scatter"
           }
          ],
          "scatter3d": [
           {
            "line": {
             "colorbar": {
              "outlinewidth": 0,
              "ticks": ""
             }
            },
            "marker": {
             "colorbar": {
              "outlinewidth": 0,
              "ticks": ""
             }
            },
            "type": "scatter3d"
           }
          ],
          "scattercarpet": [
           {
            "marker": {
             "colorbar": {
              "outlinewidth": 0,
              "ticks": ""
             }
            },
            "type": "scattercarpet"
           }
          ],
          "scattergeo": [
           {
            "marker": {
             "colorbar": {
              "outlinewidth": 0,
              "ticks": ""
             }
            },
            "type": "scattergeo"
           }
          ],
          "scattergl": [
           {
            "marker": {
             "colorbar": {
              "outlinewidth": 0,
              "ticks": ""
             }
            },
            "type": "scattergl"
           }
          ],
          "scattermapbox": [
           {
            "marker": {
             "colorbar": {
              "outlinewidth": 0,
              "ticks": ""
             }
            },
            "type": "scattermapbox"
           }
          ],
          "scatterpolar": [
           {
            "marker": {
             "colorbar": {
              "outlinewidth": 0,
              "ticks": ""
             }
            },
            "type": "scatterpolar"
           }
          ],
          "scatterpolargl": [
           {
            "marker": {
             "colorbar": {
              "outlinewidth": 0,
              "ticks": ""
             }
            },
            "type": "scatterpolargl"
           }
          ],
          "scatterternary": [
           {
            "marker": {
             "colorbar": {
              "outlinewidth": 0,
              "ticks": ""
             }
            },
            "type": "scatterternary"
           }
          ],
          "surface": [
           {
            "colorbar": {
             "outlinewidth": 0,
             "ticks": ""
            },
            "colorscale": [
             [
              0,
              "#0d0887"
             ],
             [
              0.1111111111111111,
              "#46039f"
             ],
             [
              0.2222222222222222,
              "#7201a8"
             ],
             [
              0.3333333333333333,
              "#9c179e"
             ],
             [
              0.4444444444444444,
              "#bd3786"
             ],
             [
              0.5555555555555556,
              "#d8576b"
             ],
             [
              0.6666666666666666,
              "#ed7953"
             ],
             [
              0.7777777777777778,
              "#fb9f3a"
             ],
             [
              0.8888888888888888,
              "#fdca26"
             ],
             [
              1,
              "#f0f921"
             ]
            ],
            "type": "surface"
           }
          ],
          "table": [
           {
            "cells": {
             "fill": {
              "color": "#EBF0F8"
             },
             "line": {
              "color": "white"
             }
            },
            "header": {
             "fill": {
              "color": "#C8D4E3"
             },
             "line": {
              "color": "white"
             }
            },
            "type": "table"
           }
          ]
         },
         "layout": {
          "annotationdefaults": {
           "arrowcolor": "#2a3f5f",
           "arrowhead": 0,
           "arrowwidth": 1
          },
          "autotypenumbers": "strict",
          "coloraxis": {
           "colorbar": {
            "outlinewidth": 0,
            "ticks": ""
           }
          },
          "colorscale": {
           "diverging": [
            [
             0,
             "#8e0152"
            ],
            [
             0.1,
             "#c51b7d"
            ],
            [
             0.2,
             "#de77ae"
            ],
            [
             0.3,
             "#f1b6da"
            ],
            [
             0.4,
             "#fde0ef"
            ],
            [
             0.5,
             "#f7f7f7"
            ],
            [
             0.6,
             "#e6f5d0"
            ],
            [
             0.7,
             "#b8e186"
            ],
            [
             0.8,
             "#7fbc41"
            ],
            [
             0.9,
             "#4d9221"
            ],
            [
             1,
             "#276419"
            ]
           ],
           "sequential": [
            [
             0,
             "#0d0887"
            ],
            [
             0.1111111111111111,
             "#46039f"
            ],
            [
             0.2222222222222222,
             "#7201a8"
            ],
            [
             0.3333333333333333,
             "#9c179e"
            ],
            [
             0.4444444444444444,
             "#bd3786"
            ],
            [
             0.5555555555555556,
             "#d8576b"
            ],
            [
             0.6666666666666666,
             "#ed7953"
            ],
            [
             0.7777777777777778,
             "#fb9f3a"
            ],
            [
             0.8888888888888888,
             "#fdca26"
            ],
            [
             1,
             "#f0f921"
            ]
           ],
           "sequentialminus": [
            [
             0,
             "#0d0887"
            ],
            [
             0.1111111111111111,
             "#46039f"
            ],
            [
             0.2222222222222222,
             "#7201a8"
            ],
            [
             0.3333333333333333,
             "#9c179e"
            ],
            [
             0.4444444444444444,
             "#bd3786"
            ],
            [
             0.5555555555555556,
             "#d8576b"
            ],
            [
             0.6666666666666666,
             "#ed7953"
            ],
            [
             0.7777777777777778,
             "#fb9f3a"
            ],
            [
             0.8888888888888888,
             "#fdca26"
            ],
            [
             1,
             "#f0f921"
            ]
           ]
          },
          "colorway": [
           "#636efa",
           "#EF553B",
           "#00cc96",
           "#ab63fa",
           "#FFA15A",
           "#19d3f3",
           "#FF6692",
           "#B6E880",
           "#FF97FF",
           "#FECB52"
          ],
          "font": {
           "color": "#2a3f5f"
          },
          "geo": {
           "bgcolor": "white",
           "lakecolor": "white",
           "landcolor": "#E5ECF6",
           "showlakes": true,
           "showland": true,
           "subunitcolor": "white"
          },
          "hoverlabel": {
           "align": "left"
          },
          "hovermode": "closest",
          "mapbox": {
           "style": "light"
          },
          "paper_bgcolor": "white",
          "plot_bgcolor": "#E5ECF6",
          "polar": {
           "angularaxis": {
            "gridcolor": "white",
            "linecolor": "white",
            "ticks": ""
           },
           "bgcolor": "#E5ECF6",
           "radialaxis": {
            "gridcolor": "white",
            "linecolor": "white",
            "ticks": ""
           }
          },
          "scene": {
           "xaxis": {
            "backgroundcolor": "#E5ECF6",
            "gridcolor": "white",
            "gridwidth": 2,
            "linecolor": "white",
            "showbackground": true,
            "ticks": "",
            "zerolinecolor": "white"
           },
           "yaxis": {
            "backgroundcolor": "#E5ECF6",
            "gridcolor": "white",
            "gridwidth": 2,
            "linecolor": "white",
            "showbackground": true,
            "ticks": "",
            "zerolinecolor": "white"
           },
           "zaxis": {
            "backgroundcolor": "#E5ECF6",
            "gridcolor": "white",
            "gridwidth": 2,
            "linecolor": "white",
            "showbackground": true,
            "ticks": "",
            "zerolinecolor": "white"
           }
          },
          "shapedefaults": {
           "line": {
            "color": "#2a3f5f"
           }
          },
          "ternary": {
           "aaxis": {
            "gridcolor": "white",
            "linecolor": "white",
            "ticks": ""
           },
           "baxis": {
            "gridcolor": "white",
            "linecolor": "white",
            "ticks": ""
           },
           "bgcolor": "#E5ECF6",
           "caxis": {
            "gridcolor": "white",
            "linecolor": "white",
            "ticks": ""
           }
          },
          "title": {
           "x": 0.05
          },
          "xaxis": {
           "automargin": true,
           "gridcolor": "white",
           "linecolor": "white",
           "ticks": "",
           "title": {
            "standoff": 15
           },
           "zerolinecolor": "white",
           "zerolinewidth": 2
          },
          "yaxis": {
           "automargin": true,
           "gridcolor": "white",
           "linecolor": "white",
           "ticks": "",
           "title": {
            "standoff": 15
           },
           "zerolinecolor": "white",
           "zerolinewidth": 2
          }
         }
        },
        "title": {
         "text": "MAE Bar Chart Across Seasons for Residence 2"
        },
        "xaxis": {
         "anchor": "y",
         "autorange": true,
         "domain": [
          0,
          1
         ],
         "range": [
          -0.5,
          11.5
         ],
         "title": {
          "text": "Model"
         },
         "type": "category"
        },
        "yaxis": {
         "anchor": "x",
         "autorange": true,
         "domain": [
          0,
          1
         ],
         "range": [
          0,
          41.29127882671104
         ],
         "title": {
          "text": "MAE"
         },
         "type": "linear"
        }
       }
      },
      "text/html": [
       "<div>                            <div id=\"c7e08c1d-2c28-4d6f-8e8c-8bd47fc68f71\" class=\"plotly-graph-div\" style=\"height:600px; width:100%;\"></div>            <script type=\"text/javascript\">                require([\"plotly\"], function(Plotly) {                    window.PLOTLYENV=window.PLOTLYENV || {};                                    if (document.getElementById(\"c7e08c1d-2c28-4d6f-8e8c-8bd47fc68f71\")) {                    Plotly.newPlot(                        \"c7e08c1d-2c28-4d6f-8e8c-8bd47fc68f71\",                        [{\"alignmentgroup\":\"True\",\"hovertemplate\":\"Season=Fall\\u003cbr\\u003eModel=%{x}\\u003cbr\\u003eMAE=%{y}\\u003cextra\\u003e\\u003c\\u002fextra\\u003e\",\"legendgroup\":\"Fall\",\"marker\":{\"color\":\"#636efa\",\"pattern\":{\"shape\":\"\"}},\"name\":\"Fall\",\"offsetgroup\":\"Fall\",\"orientation\":\"v\",\"showlegend\":true,\"textposition\":\"auto\",\"x\":[\"Transformer\",\"TempConv\",\"GRU\",\"HyperNetLSTM\",\"LSTM\",\"MLP\",\"RNN\",\"Nbeats\",\"ARFFNN\",\"AttentionLSTM\",\"HyperNetLSTMRBF\",\"HyperNetLSTMPoly\"],\"xaxis\":\"x\",\"y\":[35.98792618490747,35.42477974984046,19.60064066735801,20.142822210753028,19.040661365507336,35.941125235641344,29.187273303924695,23.655740017549455,20.790946897574983,20.094787822590934,18.168022687938738,19.60471322016592],\"yaxis\":\"y\",\"type\":\"bar\"},{\"alignmentgroup\":\"True\",\"hovertemplate\":\"Season=Winter\\u003cbr\\u003eModel=%{x}\\u003cbr\\u003eMAE=%{y}\\u003cextra\\u003e\\u003c\\u002fextra\\u003e\",\"legendgroup\":\"Winter\",\"marker\":{\"color\":\"#EF553B\",\"pattern\":{\"shape\":\"\"}},\"name\":\"Winter\",\"offsetgroup\":\"Winter\",\"orientation\":\"v\",\"showlegend\":true,\"textposition\":\"auto\",\"x\":[\"Transformer\",\"TempConv\",\"GRU\",\"HyperNetLSTM\",\"LSTM\",\"MLP\",\"RNN\",\"Nbeats\",\"ARFFNN\",\"AttentionLSTM\",\"HyperNetLSTMRBF\",\"HyperNetLSTMPoly\"],\"xaxis\":\"x\",\"y\":[20.66846047287811,30.677442564183153,15.584081867246331,14.000113619990428,19.086594064119335,20.77089971102425,26.05576982428207,15.602096666161454,12.36156694562859,12.099945116719844,11.45618589834078,12.16018704039566],\"yaxis\":\"y\",\"type\":\"bar\"},{\"alignmentgroup\":\"True\",\"hovertemplate\":\"Season=Spring\\u003cbr\\u003eModel=%{x}\\u003cbr\\u003eMAE=%{y}\\u003cextra\\u003e\\u003c\\u002fextra\\u003e\",\"legendgroup\":\"Spring\",\"marker\":{\"color\":\"#00cc96\",\"pattern\":{\"shape\":\"\"}},\"name\":\"Spring\",\"offsetgroup\":\"Spring\",\"orientation\":\"v\",\"showlegend\":true,\"textposition\":\"auto\",\"x\":[\"Transformer\",\"TempConv\",\"GRU\",\"HyperNetLSTM\",\"LSTM\",\"MLP\",\"RNN\",\"Nbeats\",\"ARFFNN\",\"AttentionLSTM\",\"HyperNetLSTMRBF\",\"HyperNetLSTMPoly\"],\"xaxis\":\"x\",\"y\":[23.149632316831685,32.75388735426981,17.47542880259901,17.478049594059407,21.66709844542079,23.291524664913368,26.204650287128715,16.875869164913365,16.631300419245047,15.480994351485148,14.911796354579208,15.073304577042078],\"yaxis\":\"y\",\"type\":\"bar\"},{\"alignmentgroup\":\"True\",\"hovertemplate\":\"Season=Summer\\u003cbr\\u003eModel=%{x}\\u003cbr\\u003eMAE=%{y}\\u003cextra\\u003e\\u003c\\u002fextra\\u003e\",\"legendgroup\":\"Summer\",\"marker\":{\"color\":\"#ab63fa\",\"pattern\":{\"shape\":\"\"}},\"name\":\"Summer\",\"offsetgroup\":\"Summer\",\"orientation\":\"v\",\"showlegend\":true,\"textposition\":\"auto\",\"x\":[\"Transformer\",\"TempConv\",\"GRU\",\"HyperNetLSTM\",\"LSTM\",\"MLP\",\"RNN\",\"Nbeats\",\"ARFFNN\",\"AttentionLSTM\",\"HyperNetLSTMRBF\",\"HyperNetLSTMPoly\"],\"xaxis\":\"x\",\"y\":[38.40225139723321,34.26115474216074,30.58051452389987,28.85471490750988,33.00113296667425,39.22671488537549,37.99019380326087,28.54620446383926,32.67725409509223,29.948370837499997,25.10188605596179,25.453301467555995],\"yaxis\":\"y\",\"type\":\"bar\"}],                        {\"template\":{\"data\":{\"histogram2dcontour\":[{\"type\":\"histogram2dcontour\",\"colorbar\":{\"outlinewidth\":0,\"ticks\":\"\"},\"colorscale\":[[0.0,\"#0d0887\"],[0.1111111111111111,\"#46039f\"],[0.2222222222222222,\"#7201a8\"],[0.3333333333333333,\"#9c179e\"],[0.4444444444444444,\"#bd3786\"],[0.5555555555555556,\"#d8576b\"],[0.6666666666666666,\"#ed7953\"],[0.7777777777777778,\"#fb9f3a\"],[0.8888888888888888,\"#fdca26\"],[1.0,\"#f0f921\"]]}],\"choropleth\":[{\"type\":\"choropleth\",\"colorbar\":{\"outlinewidth\":0,\"ticks\":\"\"}}],\"histogram2d\":[{\"type\":\"histogram2d\",\"colorbar\":{\"outlinewidth\":0,\"ticks\":\"\"},\"colorscale\":[[0.0,\"#0d0887\"],[0.1111111111111111,\"#46039f\"],[0.2222222222222222,\"#7201a8\"],[0.3333333333333333,\"#9c179e\"],[0.4444444444444444,\"#bd3786\"],[0.5555555555555556,\"#d8576b\"],[0.6666666666666666,\"#ed7953\"],[0.7777777777777778,\"#fb9f3a\"],[0.8888888888888888,\"#fdca26\"],[1.0,\"#f0f921\"]]}],\"heatmap\":[{\"type\":\"heatmap\",\"colorbar\":{\"outlinewidth\":0,\"ticks\":\"\"},\"colorscale\":[[0.0,\"#0d0887\"],[0.1111111111111111,\"#46039f\"],[0.2222222222222222,\"#7201a8\"],[0.3333333333333333,\"#9c179e\"],[0.4444444444444444,\"#bd3786\"],[0.5555555555555556,\"#d8576b\"],[0.6666666666666666,\"#ed7953\"],[0.7777777777777778,\"#fb9f3a\"],[0.8888888888888888,\"#fdca26\"],[1.0,\"#f0f921\"]]}],\"heatmapgl\":[{\"type\":\"heatmapgl\",\"colorbar\":{\"outlinewidth\":0,\"ticks\":\"\"},\"colorscale\":[[0.0,\"#0d0887\"],[0.1111111111111111,\"#46039f\"],[0.2222222222222222,\"#7201a8\"],[0.3333333333333333,\"#9c179e\"],[0.4444444444444444,\"#bd3786\"],[0.5555555555555556,\"#d8576b\"],[0.6666666666666666,\"#ed7953\"],[0.7777777777777778,\"#fb9f3a\"],[0.8888888888888888,\"#fdca26\"],[1.0,\"#f0f921\"]]}],\"contourcarpet\":[{\"type\":\"contourcarpet\",\"colorbar\":{\"outlinewidth\":0,\"ticks\":\"\"}}],\"contour\":[{\"type\":\"contour\",\"colorbar\":{\"outlinewidth\":0,\"ticks\":\"\"},\"colorscale\":[[0.0,\"#0d0887\"],[0.1111111111111111,\"#46039f\"],[0.2222222222222222,\"#7201a8\"],[0.3333333333333333,\"#9c179e\"],[0.4444444444444444,\"#bd3786\"],[0.5555555555555556,\"#d8576b\"],[0.6666666666666666,\"#ed7953\"],[0.7777777777777778,\"#fb9f3a\"],[0.8888888888888888,\"#fdca26\"],[1.0,\"#f0f921\"]]}],\"surface\":[{\"type\":\"surface\",\"colorbar\":{\"outlinewidth\":0,\"ticks\":\"\"},\"colorscale\":[[0.0,\"#0d0887\"],[0.1111111111111111,\"#46039f\"],[0.2222222222222222,\"#7201a8\"],[0.3333333333333333,\"#9c179e\"],[0.4444444444444444,\"#bd3786\"],[0.5555555555555556,\"#d8576b\"],[0.6666666666666666,\"#ed7953\"],[0.7777777777777778,\"#fb9f3a\"],[0.8888888888888888,\"#fdca26\"],[1.0,\"#f0f921\"]]}],\"mesh3d\":[{\"type\":\"mesh3d\",\"colorbar\":{\"outlinewidth\":0,\"ticks\":\"\"}}],\"scatter\":[{\"fillpattern\":{\"fillmode\":\"overlay\",\"size\":10,\"solidity\":0.2},\"type\":\"scatter\"}],\"parcoords\":[{\"type\":\"parcoords\",\"line\":{\"colorbar\":{\"outlinewidth\":0,\"ticks\":\"\"}}}],\"scatterpolargl\":[{\"type\":\"scatterpolargl\",\"marker\":{\"colorbar\":{\"outlinewidth\":0,\"ticks\":\"\"}}}],\"bar\":[{\"error_x\":{\"color\":\"#2a3f5f\"},\"error_y\":{\"color\":\"#2a3f5f\"},\"marker\":{\"line\":{\"color\":\"#E5ECF6\",\"width\":0.5},\"pattern\":{\"fillmode\":\"overlay\",\"size\":10,\"solidity\":0.2}},\"type\":\"bar\"}],\"scattergeo\":[{\"type\":\"scattergeo\",\"marker\":{\"colorbar\":{\"outlinewidth\":0,\"ticks\":\"\"}}}],\"scatterpolar\":[{\"type\":\"scatterpolar\",\"marker\":{\"colorbar\":{\"outlinewidth\":0,\"ticks\":\"\"}}}],\"histogram\":[{\"marker\":{\"pattern\":{\"fillmode\":\"overlay\",\"size\":10,\"solidity\":0.2}},\"type\":\"histogram\"}],\"scattergl\":[{\"type\":\"scattergl\",\"marker\":{\"colorbar\":{\"outlinewidth\":0,\"ticks\":\"\"}}}],\"scatter3d\":[{\"type\":\"scatter3d\",\"line\":{\"colorbar\":{\"outlinewidth\":0,\"ticks\":\"\"}},\"marker\":{\"colorbar\":{\"outlinewidth\":0,\"ticks\":\"\"}}}],\"scattermapbox\":[{\"type\":\"scattermapbox\",\"marker\":{\"colorbar\":{\"outlinewidth\":0,\"ticks\":\"\"}}}],\"scatterternary\":[{\"type\":\"scatterternary\",\"marker\":{\"colorbar\":{\"outlinewidth\":0,\"ticks\":\"\"}}}],\"scattercarpet\":[{\"type\":\"scattercarpet\",\"marker\":{\"colorbar\":{\"outlinewidth\":0,\"ticks\":\"\"}}}],\"carpet\":[{\"aaxis\":{\"endlinecolor\":\"#2a3f5f\",\"gridcolor\":\"white\",\"linecolor\":\"white\",\"minorgridcolor\":\"white\",\"startlinecolor\":\"#2a3f5f\"},\"baxis\":{\"endlinecolor\":\"#2a3f5f\",\"gridcolor\":\"white\",\"linecolor\":\"white\",\"minorgridcolor\":\"white\",\"startlinecolor\":\"#2a3f5f\"},\"type\":\"carpet\"}],\"table\":[{\"cells\":{\"fill\":{\"color\":\"#EBF0F8\"},\"line\":{\"color\":\"white\"}},\"header\":{\"fill\":{\"color\":\"#C8D4E3\"},\"line\":{\"color\":\"white\"}},\"type\":\"table\"}],\"barpolar\":[{\"marker\":{\"line\":{\"color\":\"#E5ECF6\",\"width\":0.5},\"pattern\":{\"fillmode\":\"overlay\",\"size\":10,\"solidity\":0.2}},\"type\":\"barpolar\"}],\"pie\":[{\"automargin\":true,\"type\":\"pie\"}]},\"layout\":{\"autotypenumbers\":\"strict\",\"colorway\":[\"#636efa\",\"#EF553B\",\"#00cc96\",\"#ab63fa\",\"#FFA15A\",\"#19d3f3\",\"#FF6692\",\"#B6E880\",\"#FF97FF\",\"#FECB52\"],\"font\":{\"color\":\"#2a3f5f\"},\"hovermode\":\"closest\",\"hoverlabel\":{\"align\":\"left\"},\"paper_bgcolor\":\"white\",\"plot_bgcolor\":\"#E5ECF6\",\"polar\":{\"bgcolor\":\"#E5ECF6\",\"angularaxis\":{\"gridcolor\":\"white\",\"linecolor\":\"white\",\"ticks\":\"\"},\"radialaxis\":{\"gridcolor\":\"white\",\"linecolor\":\"white\",\"ticks\":\"\"}},\"ternary\":{\"bgcolor\":\"#E5ECF6\",\"aaxis\":{\"gridcolor\":\"white\",\"linecolor\":\"white\",\"ticks\":\"\"},\"baxis\":{\"gridcolor\":\"white\",\"linecolor\":\"white\",\"ticks\":\"\"},\"caxis\":{\"gridcolor\":\"white\",\"linecolor\":\"white\",\"ticks\":\"\"}},\"coloraxis\":{\"colorbar\":{\"outlinewidth\":0,\"ticks\":\"\"}},\"colorscale\":{\"sequential\":[[0.0,\"#0d0887\"],[0.1111111111111111,\"#46039f\"],[0.2222222222222222,\"#7201a8\"],[0.3333333333333333,\"#9c179e\"],[0.4444444444444444,\"#bd3786\"],[0.5555555555555556,\"#d8576b\"],[0.6666666666666666,\"#ed7953\"],[0.7777777777777778,\"#fb9f3a\"],[0.8888888888888888,\"#fdca26\"],[1.0,\"#f0f921\"]],\"sequentialminus\":[[0.0,\"#0d0887\"],[0.1111111111111111,\"#46039f\"],[0.2222222222222222,\"#7201a8\"],[0.3333333333333333,\"#9c179e\"],[0.4444444444444444,\"#bd3786\"],[0.5555555555555556,\"#d8576b\"],[0.6666666666666666,\"#ed7953\"],[0.7777777777777778,\"#fb9f3a\"],[0.8888888888888888,\"#fdca26\"],[1.0,\"#f0f921\"]],\"diverging\":[[0,\"#8e0152\"],[0.1,\"#c51b7d\"],[0.2,\"#de77ae\"],[0.3,\"#f1b6da\"],[0.4,\"#fde0ef\"],[0.5,\"#f7f7f7\"],[0.6,\"#e6f5d0\"],[0.7,\"#b8e186\"],[0.8,\"#7fbc41\"],[0.9,\"#4d9221\"],[1,\"#276419\"]]},\"xaxis\":{\"gridcolor\":\"white\",\"linecolor\":\"white\",\"ticks\":\"\",\"title\":{\"standoff\":15},\"zerolinecolor\":\"white\",\"automargin\":true,\"zerolinewidth\":2},\"yaxis\":{\"gridcolor\":\"white\",\"linecolor\":\"white\",\"ticks\":\"\",\"title\":{\"standoff\":15},\"zerolinecolor\":\"white\",\"automargin\":true,\"zerolinewidth\":2},\"scene\":{\"xaxis\":{\"backgroundcolor\":\"#E5ECF6\",\"gridcolor\":\"white\",\"linecolor\":\"white\",\"showbackground\":true,\"ticks\":\"\",\"zerolinecolor\":\"white\",\"gridwidth\":2},\"yaxis\":{\"backgroundcolor\":\"#E5ECF6\",\"gridcolor\":\"white\",\"linecolor\":\"white\",\"showbackground\":true,\"ticks\":\"\",\"zerolinecolor\":\"white\",\"gridwidth\":2},\"zaxis\":{\"backgroundcolor\":\"#E5ECF6\",\"gridcolor\":\"white\",\"linecolor\":\"white\",\"showbackground\":true,\"ticks\":\"\",\"zerolinecolor\":\"white\",\"gridwidth\":2}},\"shapedefaults\":{\"line\":{\"color\":\"#2a3f5f\"}},\"annotationdefaults\":{\"arrowcolor\":\"#2a3f5f\",\"arrowhead\":0,\"arrowwidth\":1},\"geo\":{\"bgcolor\":\"white\",\"landcolor\":\"#E5ECF6\",\"subunitcolor\":\"white\",\"showland\":true,\"showlakes\":true,\"lakecolor\":\"white\"},\"title\":{\"x\":0.05},\"mapbox\":{\"style\":\"light\"}}},\"xaxis\":{\"anchor\":\"y\",\"domain\":[0.0,1.0],\"title\":{\"text\":\"Model\"}},\"yaxis\":{\"anchor\":\"x\",\"domain\":[0.0,1.0],\"title\":{\"text\":\"MAE\"}},\"legend\":{\"title\":{\"text\":\"Season\"},\"tracegroupgap\":0},\"title\":{\"text\":\"MAE Bar Chart Across Seasons for Residence 2\"},\"barmode\":\"group\",\"height\":600},                        {\"responsive\": true}                    ).then(function(){\n",
       "                            \n",
       "var gd = document.getElementById('c7e08c1d-2c28-4d6f-8e8c-8bd47fc68f71');\n",
       "var x = new MutationObserver(function (mutations, observer) {{\n",
       "        var display = window.getComputedStyle(gd).display;\n",
       "        if (!display || display === 'none') {{\n",
       "            console.log([gd, 'removed!']);\n",
       "            Plotly.purge(gd);\n",
       "            observer.disconnect();\n",
       "        }}\n",
       "}});\n",
       "\n",
       "// Listen for the removal of the full notebook cells\n",
       "var notebookContainer = gd.closest('#notebook-container');\n",
       "if (notebookContainer) {{\n",
       "    x.observe(notebookContainer, {childList: true});\n",
       "}}\n",
       "\n",
       "// Listen for the clearing of the current output cell\n",
       "var outputEl = gd.closest('.output');\n",
       "if (outputEl) {{\n",
       "    x.observe(outputEl, {childList: true});\n",
       "}}\n",
       "\n",
       "                        })                };                });            </script>        </div>"
      ]
     },
     "metadata": {},
     "output_type": "display_data"
    }
   ],
   "source": [
    "import pandas as pd\n",
    "import plotly.express as px\n",
    "from sklearn.metrics import mean_absolute_error\n",
    "\n",
    "# Load your data\n",
    "data1 = pd.read_csv('Residence1.csv')\n",
    "data2 = pd.read_csv('Residence2.csv')\n",
    "\n",
    "# Define the seasons and their corresponding indices\n",
    "seasons = {\n",
    "    'Fall': (0, 62680),       # August to November\n",
    "    'Winter': (62680, 125360),# December to March\n",
    "    'Spring': (125360, 157680),# April to May\n",
    "    'Summer': (157680, 188041) # June to July\n",
    "}\n",
    "\n",
    "def create_mae_bar_chart(data, dataset_name):\n",
    "    # Preparing data for the bar chart\n",
    "    bar_chart_data = []\n",
    "    for season, (start, end) in seasons.items():\n",
    "        season_data = data.iloc[start:end]\n",
    "        y_actual = season_data['Actual']\n",
    "        for model in data.columns[1:]:\n",
    "            y_pred = season_data[model]\n",
    "            mae = mean_absolute_error(y_actual, y_pred)\n",
    "            bar_chart_data.append({'Season': season, 'Model': model, 'MAE': mae})\n",
    "\n",
    "    df_bar_chart = pd.DataFrame(bar_chart_data)\n",
    "\n",
    "    # Creating the bar chart\n",
    "    fig = px.bar(df_bar_chart, x='Model', y='MAE', color='Season', barmode='group',\n",
    "                 title=f'MAE Bar Chart Across Seasons for {dataset_name}',\n",
    "                 category_orders={\"Season\": [\"Fall\", \"Winter\", \"Spring\", \"Summer\"]},\n",
    "                 height=600)\n",
    "    return fig\n",
    "\n",
    "# Create and display the bar chart for each dataset\n",
    "bar_chart_residence1 = create_mae_bar_chart(data1, \"Residence 1\")\n",
    "bar_chart_residence1.show()\n",
    "\n",
    "bar_chart_residence2 = create_mae_bar_chart(data2, \"Residence 2\")\n",
    "bar_chart_residence2.show()\n"
   ]
  },
  {
   "cell_type": "code",
   "execution_count": 6,
   "id": "625ab3f5-c4e8-4bd4-adef-186b7324241b",
   "metadata": {},
   "outputs": [
    {
     "data": {
      "application/vnd.plotly.v1+json": {
       "config": {
        "plotlyServerURL": "https://plot.ly"
       },
       "data": [
        {
         "alignmentgroup": "True",
         "hovertemplate": "Season=Fall<br>Model=%{x}<br>Symmetric Mean Absolute Percentage Error=%{y}<extra></extra>",
         "legendgroup": "Fall",
         "marker": {
          "color": "#636efa",
          "pattern": {
           "shape": ""
          }
         },
         "name": "Fall",
         "offsetgroup": "Fall",
         "orientation": "v",
         "showlegend": true,
         "textposition": "auto",
         "type": "bar",
         "x": [
          "MLP",
          "ARFFNN",
          "LSTM",
          "RNN",
          "GRU",
          "Transformer",
          "Nbeats",
          "HyperNetLSTM",
          "AttentionLSTM",
          "TempConv",
          "HyperNetLSTMRBF",
          "HyperNetLSTMPoly"
         ],
         "xaxis": "x",
         "y": [
          17.045095541867397,
          13.04807925795862,
          11.014462579860488,
          11.89275346078806,
          9.714295022843547,
          8.587802501756153,
          13.405588981112674,
          9.864217342901185,
          9.074775938212902,
          9.929315192327381,
          10.684985083080893,
          12.701531479617412
         ],
         "yaxis": "y"
        },
        {
         "alignmentgroup": "True",
         "hovertemplate": "Season=Winter<br>Model=%{x}<br>Symmetric Mean Absolute Percentage Error=%{y}<extra></extra>",
         "legendgroup": "Winter",
         "marker": {
          "color": "#EF553B",
          "pattern": {
           "shape": ""
          }
         },
         "name": "Winter",
         "offsetgroup": "Winter",
         "orientation": "v",
         "showlegend": true,
         "textposition": "auto",
         "type": "bar",
         "x": [
          "MLP",
          "ARFFNN",
          "LSTM",
          "RNN",
          "GRU",
          "Transformer",
          "Nbeats",
          "HyperNetLSTM",
          "AttentionLSTM",
          "TempConv",
          "HyperNetLSTMRBF",
          "HyperNetLSTMPoly"
         ],
         "xaxis": "x",
         "y": [
          6.998952580427824,
          7.274943904752031,
          7.253269254344576,
          7.6060282907616665,
          11.224238450594607,
          10.395023592750817,
          8.785706839684954,
          6.113293266165287,
          9.649971459428686,
          10.09138921630714,
          7.072861145307405,
          6.881235776144903
         ],
         "yaxis": "y"
        },
        {
         "alignmentgroup": "True",
         "hovertemplate": "Season=Spring<br>Model=%{x}<br>Symmetric Mean Absolute Percentage Error=%{y}<extra></extra>",
         "legendgroup": "Spring",
         "marker": {
          "color": "#00cc96",
          "pattern": {
           "shape": ""
          }
         },
         "name": "Spring",
         "offsetgroup": "Spring",
         "orientation": "v",
         "showlegend": true,
         "textposition": "auto",
         "type": "bar",
         "x": [
          "MLP",
          "ARFFNN",
          "LSTM",
          "RNN",
          "GRU",
          "Transformer",
          "Nbeats",
          "HyperNetLSTM",
          "AttentionLSTM",
          "TempConv",
          "HyperNetLSTMRBF",
          "HyperNetLSTMPoly"
         ],
         "xaxis": "x",
         "y": [
          12.008657310596847,
          9.487013007977048,
          9.058746871145454,
          9.853232528559044,
          12.150994384050422,
          10.023034045860962,
          10.822908550073075,
          9.489711682766536,
          9.506974752616514,
          10.932843140075184,
          9.053860836970854,
          9.503217588837765
         ],
         "yaxis": "y"
        },
        {
         "alignmentgroup": "True",
         "hovertemplate": "Season=Summer<br>Model=%{x}<br>Symmetric Mean Absolute Percentage Error=%{y}<extra></extra>",
         "legendgroup": "Summer",
         "marker": {
          "color": "#ab63fa",
          "pattern": {
           "shape": ""
          }
         },
         "name": "Summer",
         "offsetgroup": "Summer",
         "orientation": "v",
         "showlegend": true,
         "textposition": "auto",
         "type": "bar",
         "x": [
          "MLP",
          "ARFFNN",
          "LSTM",
          "RNN",
          "GRU",
          "Transformer",
          "Nbeats",
          "HyperNetLSTM",
          "AttentionLSTM",
          "TempConv",
          "HyperNetLSTMRBF",
          "HyperNetLSTMPoly"
         ],
         "xaxis": "x",
         "y": [
          13.808564259864553,
          9.712442703320496,
          9.105247016081282,
          11.977397039687823,
          8.654304842881572,
          8.418874716316951,
          8.743643566391789,
          8.128640598266031,
          8.429126841595727,
          9.9476250431909,
          7.928160275237826,
          8.039027119502661
         ],
         "yaxis": "y"
        }
       ],
       "layout": {
        "autosize": true,
        "barmode": "group",
        "legend": {
         "title": {
          "text": "Season"
         },
         "tracegroupgap": 0
        },
        "template": {
         "data": {
          "bar": [
           {
            "error_x": {
             "color": "#2a3f5f"
            },
            "error_y": {
             "color": "#2a3f5f"
            },
            "marker": {
             "line": {
              "color": "#E5ECF6",
              "width": 0.5
             },
             "pattern": {
              "fillmode": "overlay",
              "size": 10,
              "solidity": 0.2
             }
            },
            "type": "bar"
           }
          ],
          "barpolar": [
           {
            "marker": {
             "line": {
              "color": "#E5ECF6",
              "width": 0.5
             },
             "pattern": {
              "fillmode": "overlay",
              "size": 10,
              "solidity": 0.2
             }
            },
            "type": "barpolar"
           }
          ],
          "carpet": [
           {
            "aaxis": {
             "endlinecolor": "#2a3f5f",
             "gridcolor": "white",
             "linecolor": "white",
             "minorgridcolor": "white",
             "startlinecolor": "#2a3f5f"
            },
            "baxis": {
             "endlinecolor": "#2a3f5f",
             "gridcolor": "white",
             "linecolor": "white",
             "minorgridcolor": "white",
             "startlinecolor": "#2a3f5f"
            },
            "type": "carpet"
           }
          ],
          "choropleth": [
           {
            "colorbar": {
             "outlinewidth": 0,
             "ticks": ""
            },
            "type": "choropleth"
           }
          ],
          "contour": [
           {
            "colorbar": {
             "outlinewidth": 0,
             "ticks": ""
            },
            "colorscale": [
             [
              0,
              "#0d0887"
             ],
             [
              0.1111111111111111,
              "#46039f"
             ],
             [
              0.2222222222222222,
              "#7201a8"
             ],
             [
              0.3333333333333333,
              "#9c179e"
             ],
             [
              0.4444444444444444,
              "#bd3786"
             ],
             [
              0.5555555555555556,
              "#d8576b"
             ],
             [
              0.6666666666666666,
              "#ed7953"
             ],
             [
              0.7777777777777778,
              "#fb9f3a"
             ],
             [
              0.8888888888888888,
              "#fdca26"
             ],
             [
              1,
              "#f0f921"
             ]
            ],
            "type": "contour"
           }
          ],
          "contourcarpet": [
           {
            "colorbar": {
             "outlinewidth": 0,
             "ticks": ""
            },
            "type": "contourcarpet"
           }
          ],
          "heatmap": [
           {
            "colorbar": {
             "outlinewidth": 0,
             "ticks": ""
            },
            "colorscale": [
             [
              0,
              "#0d0887"
             ],
             [
              0.1111111111111111,
              "#46039f"
             ],
             [
              0.2222222222222222,
              "#7201a8"
             ],
             [
              0.3333333333333333,
              "#9c179e"
             ],
             [
              0.4444444444444444,
              "#bd3786"
             ],
             [
              0.5555555555555556,
              "#d8576b"
             ],
             [
              0.6666666666666666,
              "#ed7953"
             ],
             [
              0.7777777777777778,
              "#fb9f3a"
             ],
             [
              0.8888888888888888,
              "#fdca26"
             ],
             [
              1,
              "#f0f921"
             ]
            ],
            "type": "heatmap"
           }
          ],
          "heatmapgl": [
           {
            "colorbar": {
             "outlinewidth": 0,
             "ticks": ""
            },
            "colorscale": [
             [
              0,
              "#0d0887"
             ],
             [
              0.1111111111111111,
              "#46039f"
             ],
             [
              0.2222222222222222,
              "#7201a8"
             ],
             [
              0.3333333333333333,
              "#9c179e"
             ],
             [
              0.4444444444444444,
              "#bd3786"
             ],
             [
              0.5555555555555556,
              "#d8576b"
             ],
             [
              0.6666666666666666,
              "#ed7953"
             ],
             [
              0.7777777777777778,
              "#fb9f3a"
             ],
             [
              0.8888888888888888,
              "#fdca26"
             ],
             [
              1,
              "#f0f921"
             ]
            ],
            "type": "heatmapgl"
           }
          ],
          "histogram": [
           {
            "marker": {
             "pattern": {
              "fillmode": "overlay",
              "size": 10,
              "solidity": 0.2
             }
            },
            "type": "histogram"
           }
          ],
          "histogram2d": [
           {
            "colorbar": {
             "outlinewidth": 0,
             "ticks": ""
            },
            "colorscale": [
             [
              0,
              "#0d0887"
             ],
             [
              0.1111111111111111,
              "#46039f"
             ],
             [
              0.2222222222222222,
              "#7201a8"
             ],
             [
              0.3333333333333333,
              "#9c179e"
             ],
             [
              0.4444444444444444,
              "#bd3786"
             ],
             [
              0.5555555555555556,
              "#d8576b"
             ],
             [
              0.6666666666666666,
              "#ed7953"
             ],
             [
              0.7777777777777778,
              "#fb9f3a"
             ],
             [
              0.8888888888888888,
              "#fdca26"
             ],
             [
              1,
              "#f0f921"
             ]
            ],
            "type": "histogram2d"
           }
          ],
          "histogram2dcontour": [
           {
            "colorbar": {
             "outlinewidth": 0,
             "ticks": ""
            },
            "colorscale": [
             [
              0,
              "#0d0887"
             ],
             [
              0.1111111111111111,
              "#46039f"
             ],
             [
              0.2222222222222222,
              "#7201a8"
             ],
             [
              0.3333333333333333,
              "#9c179e"
             ],
             [
              0.4444444444444444,
              "#bd3786"
             ],
             [
              0.5555555555555556,
              "#d8576b"
             ],
             [
              0.6666666666666666,
              "#ed7953"
             ],
             [
              0.7777777777777778,
              "#fb9f3a"
             ],
             [
              0.8888888888888888,
              "#fdca26"
             ],
             [
              1,
              "#f0f921"
             ]
            ],
            "type": "histogram2dcontour"
           }
          ],
          "mesh3d": [
           {
            "colorbar": {
             "outlinewidth": 0,
             "ticks": ""
            },
            "type": "mesh3d"
           }
          ],
          "parcoords": [
           {
            "line": {
             "colorbar": {
              "outlinewidth": 0,
              "ticks": ""
             }
            },
            "type": "parcoords"
           }
          ],
          "pie": [
           {
            "automargin": true,
            "type": "pie"
           }
          ],
          "scatter": [
           {
            "fillpattern": {
             "fillmode": "overlay",
             "size": 10,
             "solidity": 0.2
            },
            "type": "scatter"
           }
          ],
          "scatter3d": [
           {
            "line": {
             "colorbar": {
              "outlinewidth": 0,
              "ticks": ""
             }
            },
            "marker": {
             "colorbar": {
              "outlinewidth": 0,
              "ticks": ""
             }
            },
            "type": "scatter3d"
           }
          ],
          "scattercarpet": [
           {
            "marker": {
             "colorbar": {
              "outlinewidth": 0,
              "ticks": ""
             }
            },
            "type": "scattercarpet"
           }
          ],
          "scattergeo": [
           {
            "marker": {
             "colorbar": {
              "outlinewidth": 0,
              "ticks": ""
             }
            },
            "type": "scattergeo"
           }
          ],
          "scattergl": [
           {
            "marker": {
             "colorbar": {
              "outlinewidth": 0,
              "ticks": ""
             }
            },
            "type": "scattergl"
           }
          ],
          "scattermapbox": [
           {
            "marker": {
             "colorbar": {
              "outlinewidth": 0,
              "ticks": ""
             }
            },
            "type": "scattermapbox"
           }
          ],
          "scatterpolar": [
           {
            "marker": {
             "colorbar": {
              "outlinewidth": 0,
              "ticks": ""
             }
            },
            "type": "scatterpolar"
           }
          ],
          "scatterpolargl": [
           {
            "marker": {
             "colorbar": {
              "outlinewidth": 0,
              "ticks": ""
             }
            },
            "type": "scatterpolargl"
           }
          ],
          "scatterternary": [
           {
            "marker": {
             "colorbar": {
              "outlinewidth": 0,
              "ticks": ""
             }
            },
            "type": "scatterternary"
           }
          ],
          "surface": [
           {
            "colorbar": {
             "outlinewidth": 0,
             "ticks": ""
            },
            "colorscale": [
             [
              0,
              "#0d0887"
             ],
             [
              0.1111111111111111,
              "#46039f"
             ],
             [
              0.2222222222222222,
              "#7201a8"
             ],
             [
              0.3333333333333333,
              "#9c179e"
             ],
             [
              0.4444444444444444,
              "#bd3786"
             ],
             [
              0.5555555555555556,
              "#d8576b"
             ],
             [
              0.6666666666666666,
              "#ed7953"
             ],
             [
              0.7777777777777778,
              "#fb9f3a"
             ],
             [
              0.8888888888888888,
              "#fdca26"
             ],
             [
              1,
              "#f0f921"
             ]
            ],
            "type": "surface"
           }
          ],
          "table": [
           {
            "cells": {
             "fill": {
              "color": "#EBF0F8"
             },
             "line": {
              "color": "white"
             }
            },
            "header": {
             "fill": {
              "color": "#C8D4E3"
             },
             "line": {
              "color": "white"
             }
            },
            "type": "table"
           }
          ]
         },
         "layout": {
          "annotationdefaults": {
           "arrowcolor": "#2a3f5f",
           "arrowhead": 0,
           "arrowwidth": 1
          },
          "autotypenumbers": "strict",
          "coloraxis": {
           "colorbar": {
            "outlinewidth": 0,
            "ticks": ""
           }
          },
          "colorscale": {
           "diverging": [
            [
             0,
             "#8e0152"
            ],
            [
             0.1,
             "#c51b7d"
            ],
            [
             0.2,
             "#de77ae"
            ],
            [
             0.3,
             "#f1b6da"
            ],
            [
             0.4,
             "#fde0ef"
            ],
            [
             0.5,
             "#f7f7f7"
            ],
            [
             0.6,
             "#e6f5d0"
            ],
            [
             0.7,
             "#b8e186"
            ],
            [
             0.8,
             "#7fbc41"
            ],
            [
             0.9,
             "#4d9221"
            ],
            [
             1,
             "#276419"
            ]
           ],
           "sequential": [
            [
             0,
             "#0d0887"
            ],
            [
             0.1111111111111111,
             "#46039f"
            ],
            [
             0.2222222222222222,
             "#7201a8"
            ],
            [
             0.3333333333333333,
             "#9c179e"
            ],
            [
             0.4444444444444444,
             "#bd3786"
            ],
            [
             0.5555555555555556,
             "#d8576b"
            ],
            [
             0.6666666666666666,
             "#ed7953"
            ],
            [
             0.7777777777777778,
             "#fb9f3a"
            ],
            [
             0.8888888888888888,
             "#fdca26"
            ],
            [
             1,
             "#f0f921"
            ]
           ],
           "sequentialminus": [
            [
             0,
             "#0d0887"
            ],
            [
             0.1111111111111111,
             "#46039f"
            ],
            [
             0.2222222222222222,
             "#7201a8"
            ],
            [
             0.3333333333333333,
             "#9c179e"
            ],
            [
             0.4444444444444444,
             "#bd3786"
            ],
            [
             0.5555555555555556,
             "#d8576b"
            ],
            [
             0.6666666666666666,
             "#ed7953"
            ],
            [
             0.7777777777777778,
             "#fb9f3a"
            ],
            [
             0.8888888888888888,
             "#fdca26"
            ],
            [
             1,
             "#f0f921"
            ]
           ]
          },
          "colorway": [
           "#636efa",
           "#EF553B",
           "#00cc96",
           "#ab63fa",
           "#FFA15A",
           "#19d3f3",
           "#FF6692",
           "#B6E880",
           "#FF97FF",
           "#FECB52"
          ],
          "font": {
           "color": "#2a3f5f"
          },
          "geo": {
           "bgcolor": "white",
           "lakecolor": "white",
           "landcolor": "#E5ECF6",
           "showlakes": true,
           "showland": true,
           "subunitcolor": "white"
          },
          "hoverlabel": {
           "align": "left"
          },
          "hovermode": "closest",
          "mapbox": {
           "style": "light"
          },
          "paper_bgcolor": "white",
          "plot_bgcolor": "#E5ECF6",
          "polar": {
           "angularaxis": {
            "gridcolor": "white",
            "linecolor": "white",
            "ticks": ""
           },
           "bgcolor": "#E5ECF6",
           "radialaxis": {
            "gridcolor": "white",
            "linecolor": "white",
            "ticks": ""
           }
          },
          "scene": {
           "xaxis": {
            "backgroundcolor": "#E5ECF6",
            "gridcolor": "white",
            "gridwidth": 2,
            "linecolor": "white",
            "showbackground": true,
            "ticks": "",
            "zerolinecolor": "white"
           },
           "yaxis": {
            "backgroundcolor": "#E5ECF6",
            "gridcolor": "white",
            "gridwidth": 2,
            "linecolor": "white",
            "showbackground": true,
            "ticks": "",
            "zerolinecolor": "white"
           },
           "zaxis": {
            "backgroundcolor": "#E5ECF6",
            "gridcolor": "white",
            "gridwidth": 2,
            "linecolor": "white",
            "showbackground": true,
            "ticks": "",
            "zerolinecolor": "white"
           }
          },
          "shapedefaults": {
           "line": {
            "color": "#2a3f5f"
           }
          },
          "ternary": {
           "aaxis": {
            "gridcolor": "white",
            "linecolor": "white",
            "ticks": ""
           },
           "baxis": {
            "gridcolor": "white",
            "linecolor": "white",
            "ticks": ""
           },
           "bgcolor": "#E5ECF6",
           "caxis": {
            "gridcolor": "white",
            "linecolor": "white",
            "ticks": ""
           }
          },
          "title": {
           "x": 0.05
          },
          "xaxis": {
           "automargin": true,
           "gridcolor": "white",
           "linecolor": "white",
           "ticks": "",
           "title": {
            "standoff": 15
           },
           "zerolinecolor": "white",
           "zerolinewidth": 2
          },
          "yaxis": {
           "automargin": true,
           "gridcolor": "white",
           "linecolor": "white",
           "ticks": "",
           "title": {
            "standoff": 15
           },
           "zerolinecolor": "white",
           "zerolinewidth": 2
          }
         }
        },
        "title": {
         "text": "SMAPE Across Seasons for Residence 1",
         "x": 0.5
        },
        "xaxis": {
         "anchor": "y",
         "autorange": true,
         "domain": [
          0,
          1
         ],
         "range": [
          -0.5,
          11.5
         ],
         "title": {
          "text": "Model"
         },
         "type": "category"
        },
        "yaxis": {
         "anchor": "x",
         "autorange": true,
         "domain": [
          0,
          1
         ],
         "range": [
          0,
          17.94220583354463
         ],
         "title": {
          "text": "Symmetric Mean Absolute Percentage Error"
         },
         "type": "linear"
        }
       }
      },
      "text/html": [
       "<div>                            <div id=\"43ee4a45-cf3d-42dc-8b0b-47a37977866f\" class=\"plotly-graph-div\" style=\"height:600px; width:100%;\"></div>            <script type=\"text/javascript\">                require([\"plotly\"], function(Plotly) {                    window.PLOTLYENV=window.PLOTLYENV || {};                                    if (document.getElementById(\"43ee4a45-cf3d-42dc-8b0b-47a37977866f\")) {                    Plotly.newPlot(                        \"43ee4a45-cf3d-42dc-8b0b-47a37977866f\",                        [{\"alignmentgroup\":\"True\",\"hovertemplate\":\"Season=Fall\\u003cbr\\u003eModel=%{x}\\u003cbr\\u003eSymmetric Mean Absolute Percentage Error=%{y}\\u003cextra\\u003e\\u003c\\u002fextra\\u003e\",\"legendgroup\":\"Fall\",\"marker\":{\"color\":\"#636efa\",\"pattern\":{\"shape\":\"\"}},\"name\":\"Fall\",\"offsetgroup\":\"Fall\",\"orientation\":\"v\",\"showlegend\":true,\"textposition\":\"auto\",\"x\":[\"MLP\",\"ARFFNN\",\"LSTM\",\"RNN\",\"GRU\",\"Transformer\",\"Nbeats\",\"HyperNetLSTM\",\"AttentionLSTM\",\"TempConv\",\"HyperNetLSTMRBF\",\"HyperNetLSTMPoly\"],\"xaxis\":\"x\",\"y\":[17.045095541867397,13.04807925795862,11.014462579860488,11.89275346078806,9.714295022843547,8.587802501756153,13.405588981112674,9.864217342901185,9.074775938212902,9.929315192327381,10.684985083080893,12.701531479617412],\"yaxis\":\"y\",\"type\":\"bar\"},{\"alignmentgroup\":\"True\",\"hovertemplate\":\"Season=Winter\\u003cbr\\u003eModel=%{x}\\u003cbr\\u003eSymmetric Mean Absolute Percentage Error=%{y}\\u003cextra\\u003e\\u003c\\u002fextra\\u003e\",\"legendgroup\":\"Winter\",\"marker\":{\"color\":\"#EF553B\",\"pattern\":{\"shape\":\"\"}},\"name\":\"Winter\",\"offsetgroup\":\"Winter\",\"orientation\":\"v\",\"showlegend\":true,\"textposition\":\"auto\",\"x\":[\"MLP\",\"ARFFNN\",\"LSTM\",\"RNN\",\"GRU\",\"Transformer\",\"Nbeats\",\"HyperNetLSTM\",\"AttentionLSTM\",\"TempConv\",\"HyperNetLSTMRBF\",\"HyperNetLSTMPoly\"],\"xaxis\":\"x\",\"y\":[6.998952580427824,7.274943904752031,7.253269254344576,7.6060282907616665,11.224238450594607,10.395023592750817,8.785706839684954,6.113293266165287,9.649971459428686,10.09138921630714,7.072861145307405,6.881235776144903],\"yaxis\":\"y\",\"type\":\"bar\"},{\"alignmentgroup\":\"True\",\"hovertemplate\":\"Season=Spring\\u003cbr\\u003eModel=%{x}\\u003cbr\\u003eSymmetric Mean Absolute Percentage Error=%{y}\\u003cextra\\u003e\\u003c\\u002fextra\\u003e\",\"legendgroup\":\"Spring\",\"marker\":{\"color\":\"#00cc96\",\"pattern\":{\"shape\":\"\"}},\"name\":\"Spring\",\"offsetgroup\":\"Spring\",\"orientation\":\"v\",\"showlegend\":true,\"textposition\":\"auto\",\"x\":[\"MLP\",\"ARFFNN\",\"LSTM\",\"RNN\",\"GRU\",\"Transformer\",\"Nbeats\",\"HyperNetLSTM\",\"AttentionLSTM\",\"TempConv\",\"HyperNetLSTMRBF\",\"HyperNetLSTMPoly\"],\"xaxis\":\"x\",\"y\":[12.008657310596847,9.487013007977048,9.058746871145454,9.853232528559044,12.150994384050422,10.023034045860962,10.822908550073075,9.489711682766536,9.506974752616514,10.932843140075184,9.053860836970854,9.503217588837765],\"yaxis\":\"y\",\"type\":\"bar\"},{\"alignmentgroup\":\"True\",\"hovertemplate\":\"Season=Summer\\u003cbr\\u003eModel=%{x}\\u003cbr\\u003eSymmetric Mean Absolute Percentage Error=%{y}\\u003cextra\\u003e\\u003c\\u002fextra\\u003e\",\"legendgroup\":\"Summer\",\"marker\":{\"color\":\"#ab63fa\",\"pattern\":{\"shape\":\"\"}},\"name\":\"Summer\",\"offsetgroup\":\"Summer\",\"orientation\":\"v\",\"showlegend\":true,\"textposition\":\"auto\",\"x\":[\"MLP\",\"ARFFNN\",\"LSTM\",\"RNN\",\"GRU\",\"Transformer\",\"Nbeats\",\"HyperNetLSTM\",\"AttentionLSTM\",\"TempConv\",\"HyperNetLSTMRBF\",\"HyperNetLSTMPoly\"],\"xaxis\":\"x\",\"y\":[13.808564259864553,9.712442703320496,9.105247016081282,11.977397039687823,8.654304842881572,8.418874716316951,8.743643566391789,8.128640598266031,8.429126841595727,9.9476250431909,7.928160275237826,8.039027119502661],\"yaxis\":\"y\",\"type\":\"bar\"}],                        {\"template\":{\"data\":{\"histogram2dcontour\":[{\"type\":\"histogram2dcontour\",\"colorbar\":{\"outlinewidth\":0,\"ticks\":\"\"},\"colorscale\":[[0.0,\"#0d0887\"],[0.1111111111111111,\"#46039f\"],[0.2222222222222222,\"#7201a8\"],[0.3333333333333333,\"#9c179e\"],[0.4444444444444444,\"#bd3786\"],[0.5555555555555556,\"#d8576b\"],[0.6666666666666666,\"#ed7953\"],[0.7777777777777778,\"#fb9f3a\"],[0.8888888888888888,\"#fdca26\"],[1.0,\"#f0f921\"]]}],\"choropleth\":[{\"type\":\"choropleth\",\"colorbar\":{\"outlinewidth\":0,\"ticks\":\"\"}}],\"histogram2d\":[{\"type\":\"histogram2d\",\"colorbar\":{\"outlinewidth\":0,\"ticks\":\"\"},\"colorscale\":[[0.0,\"#0d0887\"],[0.1111111111111111,\"#46039f\"],[0.2222222222222222,\"#7201a8\"],[0.3333333333333333,\"#9c179e\"],[0.4444444444444444,\"#bd3786\"],[0.5555555555555556,\"#d8576b\"],[0.6666666666666666,\"#ed7953\"],[0.7777777777777778,\"#fb9f3a\"],[0.8888888888888888,\"#fdca26\"],[1.0,\"#f0f921\"]]}],\"heatmap\":[{\"type\":\"heatmap\",\"colorbar\":{\"outlinewidth\":0,\"ticks\":\"\"},\"colorscale\":[[0.0,\"#0d0887\"],[0.1111111111111111,\"#46039f\"],[0.2222222222222222,\"#7201a8\"],[0.3333333333333333,\"#9c179e\"],[0.4444444444444444,\"#bd3786\"],[0.5555555555555556,\"#d8576b\"],[0.6666666666666666,\"#ed7953\"],[0.7777777777777778,\"#fb9f3a\"],[0.8888888888888888,\"#fdca26\"],[1.0,\"#f0f921\"]]}],\"heatmapgl\":[{\"type\":\"heatmapgl\",\"colorbar\":{\"outlinewidth\":0,\"ticks\":\"\"},\"colorscale\":[[0.0,\"#0d0887\"],[0.1111111111111111,\"#46039f\"],[0.2222222222222222,\"#7201a8\"],[0.3333333333333333,\"#9c179e\"],[0.4444444444444444,\"#bd3786\"],[0.5555555555555556,\"#d8576b\"],[0.6666666666666666,\"#ed7953\"],[0.7777777777777778,\"#fb9f3a\"],[0.8888888888888888,\"#fdca26\"],[1.0,\"#f0f921\"]]}],\"contourcarpet\":[{\"type\":\"contourcarpet\",\"colorbar\":{\"outlinewidth\":0,\"ticks\":\"\"}}],\"contour\":[{\"type\":\"contour\",\"colorbar\":{\"outlinewidth\":0,\"ticks\":\"\"},\"colorscale\":[[0.0,\"#0d0887\"],[0.1111111111111111,\"#46039f\"],[0.2222222222222222,\"#7201a8\"],[0.3333333333333333,\"#9c179e\"],[0.4444444444444444,\"#bd3786\"],[0.5555555555555556,\"#d8576b\"],[0.6666666666666666,\"#ed7953\"],[0.7777777777777778,\"#fb9f3a\"],[0.8888888888888888,\"#fdca26\"],[1.0,\"#f0f921\"]]}],\"surface\":[{\"type\":\"surface\",\"colorbar\":{\"outlinewidth\":0,\"ticks\":\"\"},\"colorscale\":[[0.0,\"#0d0887\"],[0.1111111111111111,\"#46039f\"],[0.2222222222222222,\"#7201a8\"],[0.3333333333333333,\"#9c179e\"],[0.4444444444444444,\"#bd3786\"],[0.5555555555555556,\"#d8576b\"],[0.6666666666666666,\"#ed7953\"],[0.7777777777777778,\"#fb9f3a\"],[0.8888888888888888,\"#fdca26\"],[1.0,\"#f0f921\"]]}],\"mesh3d\":[{\"type\":\"mesh3d\",\"colorbar\":{\"outlinewidth\":0,\"ticks\":\"\"}}],\"scatter\":[{\"fillpattern\":{\"fillmode\":\"overlay\",\"size\":10,\"solidity\":0.2},\"type\":\"scatter\"}],\"parcoords\":[{\"type\":\"parcoords\",\"line\":{\"colorbar\":{\"outlinewidth\":0,\"ticks\":\"\"}}}],\"scatterpolargl\":[{\"type\":\"scatterpolargl\",\"marker\":{\"colorbar\":{\"outlinewidth\":0,\"ticks\":\"\"}}}],\"bar\":[{\"error_x\":{\"color\":\"#2a3f5f\"},\"error_y\":{\"color\":\"#2a3f5f\"},\"marker\":{\"line\":{\"color\":\"#E5ECF6\",\"width\":0.5},\"pattern\":{\"fillmode\":\"overlay\",\"size\":10,\"solidity\":0.2}},\"type\":\"bar\"}],\"scattergeo\":[{\"type\":\"scattergeo\",\"marker\":{\"colorbar\":{\"outlinewidth\":0,\"ticks\":\"\"}}}],\"scatterpolar\":[{\"type\":\"scatterpolar\",\"marker\":{\"colorbar\":{\"outlinewidth\":0,\"ticks\":\"\"}}}],\"histogram\":[{\"marker\":{\"pattern\":{\"fillmode\":\"overlay\",\"size\":10,\"solidity\":0.2}},\"type\":\"histogram\"}],\"scattergl\":[{\"type\":\"scattergl\",\"marker\":{\"colorbar\":{\"outlinewidth\":0,\"ticks\":\"\"}}}],\"scatter3d\":[{\"type\":\"scatter3d\",\"line\":{\"colorbar\":{\"outlinewidth\":0,\"ticks\":\"\"}},\"marker\":{\"colorbar\":{\"outlinewidth\":0,\"ticks\":\"\"}}}],\"scattermapbox\":[{\"type\":\"scattermapbox\",\"marker\":{\"colorbar\":{\"outlinewidth\":0,\"ticks\":\"\"}}}],\"scatterternary\":[{\"type\":\"scatterternary\",\"marker\":{\"colorbar\":{\"outlinewidth\":0,\"ticks\":\"\"}}}],\"scattercarpet\":[{\"type\":\"scattercarpet\",\"marker\":{\"colorbar\":{\"outlinewidth\":0,\"ticks\":\"\"}}}],\"carpet\":[{\"aaxis\":{\"endlinecolor\":\"#2a3f5f\",\"gridcolor\":\"white\",\"linecolor\":\"white\",\"minorgridcolor\":\"white\",\"startlinecolor\":\"#2a3f5f\"},\"baxis\":{\"endlinecolor\":\"#2a3f5f\",\"gridcolor\":\"white\",\"linecolor\":\"white\",\"minorgridcolor\":\"white\",\"startlinecolor\":\"#2a3f5f\"},\"type\":\"carpet\"}],\"table\":[{\"cells\":{\"fill\":{\"color\":\"#EBF0F8\"},\"line\":{\"color\":\"white\"}},\"header\":{\"fill\":{\"color\":\"#C8D4E3\"},\"line\":{\"color\":\"white\"}},\"type\":\"table\"}],\"barpolar\":[{\"marker\":{\"line\":{\"color\":\"#E5ECF6\",\"width\":0.5},\"pattern\":{\"fillmode\":\"overlay\",\"size\":10,\"solidity\":0.2}},\"type\":\"barpolar\"}],\"pie\":[{\"automargin\":true,\"type\":\"pie\"}]},\"layout\":{\"autotypenumbers\":\"strict\",\"colorway\":[\"#636efa\",\"#EF553B\",\"#00cc96\",\"#ab63fa\",\"#FFA15A\",\"#19d3f3\",\"#FF6692\",\"#B6E880\",\"#FF97FF\",\"#FECB52\"],\"font\":{\"color\":\"#2a3f5f\"},\"hovermode\":\"closest\",\"hoverlabel\":{\"align\":\"left\"},\"paper_bgcolor\":\"white\",\"plot_bgcolor\":\"#E5ECF6\",\"polar\":{\"bgcolor\":\"#E5ECF6\",\"angularaxis\":{\"gridcolor\":\"white\",\"linecolor\":\"white\",\"ticks\":\"\"},\"radialaxis\":{\"gridcolor\":\"white\",\"linecolor\":\"white\",\"ticks\":\"\"}},\"ternary\":{\"bgcolor\":\"#E5ECF6\",\"aaxis\":{\"gridcolor\":\"white\",\"linecolor\":\"white\",\"ticks\":\"\"},\"baxis\":{\"gridcolor\":\"white\",\"linecolor\":\"white\",\"ticks\":\"\"},\"caxis\":{\"gridcolor\":\"white\",\"linecolor\":\"white\",\"ticks\":\"\"}},\"coloraxis\":{\"colorbar\":{\"outlinewidth\":0,\"ticks\":\"\"}},\"colorscale\":{\"sequential\":[[0.0,\"#0d0887\"],[0.1111111111111111,\"#46039f\"],[0.2222222222222222,\"#7201a8\"],[0.3333333333333333,\"#9c179e\"],[0.4444444444444444,\"#bd3786\"],[0.5555555555555556,\"#d8576b\"],[0.6666666666666666,\"#ed7953\"],[0.7777777777777778,\"#fb9f3a\"],[0.8888888888888888,\"#fdca26\"],[1.0,\"#f0f921\"]],\"sequentialminus\":[[0.0,\"#0d0887\"],[0.1111111111111111,\"#46039f\"],[0.2222222222222222,\"#7201a8\"],[0.3333333333333333,\"#9c179e\"],[0.4444444444444444,\"#bd3786\"],[0.5555555555555556,\"#d8576b\"],[0.6666666666666666,\"#ed7953\"],[0.7777777777777778,\"#fb9f3a\"],[0.8888888888888888,\"#fdca26\"],[1.0,\"#f0f921\"]],\"diverging\":[[0,\"#8e0152\"],[0.1,\"#c51b7d\"],[0.2,\"#de77ae\"],[0.3,\"#f1b6da\"],[0.4,\"#fde0ef\"],[0.5,\"#f7f7f7\"],[0.6,\"#e6f5d0\"],[0.7,\"#b8e186\"],[0.8,\"#7fbc41\"],[0.9,\"#4d9221\"],[1,\"#276419\"]]},\"xaxis\":{\"gridcolor\":\"white\",\"linecolor\":\"white\",\"ticks\":\"\",\"title\":{\"standoff\":15},\"zerolinecolor\":\"white\",\"automargin\":true,\"zerolinewidth\":2},\"yaxis\":{\"gridcolor\":\"white\",\"linecolor\":\"white\",\"ticks\":\"\",\"title\":{\"standoff\":15},\"zerolinecolor\":\"white\",\"automargin\":true,\"zerolinewidth\":2},\"scene\":{\"xaxis\":{\"backgroundcolor\":\"#E5ECF6\",\"gridcolor\":\"white\",\"linecolor\":\"white\",\"showbackground\":true,\"ticks\":\"\",\"zerolinecolor\":\"white\",\"gridwidth\":2},\"yaxis\":{\"backgroundcolor\":\"#E5ECF6\",\"gridcolor\":\"white\",\"linecolor\":\"white\",\"showbackground\":true,\"ticks\":\"\",\"zerolinecolor\":\"white\",\"gridwidth\":2},\"zaxis\":{\"backgroundcolor\":\"#E5ECF6\",\"gridcolor\":\"white\",\"linecolor\":\"white\",\"showbackground\":true,\"ticks\":\"\",\"zerolinecolor\":\"white\",\"gridwidth\":2}},\"shapedefaults\":{\"line\":{\"color\":\"#2a3f5f\"}},\"annotationdefaults\":{\"arrowcolor\":\"#2a3f5f\",\"arrowhead\":0,\"arrowwidth\":1},\"geo\":{\"bgcolor\":\"white\",\"landcolor\":\"#E5ECF6\",\"subunitcolor\":\"white\",\"showland\":true,\"showlakes\":true,\"lakecolor\":\"white\"},\"title\":{\"x\":0.05},\"mapbox\":{\"style\":\"light\"}}},\"xaxis\":{\"anchor\":\"y\",\"domain\":[0.0,1.0],\"title\":{\"text\":\"Model\"}},\"yaxis\":{\"anchor\":\"x\",\"domain\":[0.0,1.0],\"title\":{\"text\":\"Symmetric Mean Absolute Percentage Error\"}},\"legend\":{\"title\":{\"text\":\"Season\"},\"tracegroupgap\":0},\"title\":{\"text\":\"SMAPE Across Seasons for Residence 1\",\"x\":0.5},\"barmode\":\"group\",\"height\":600},                        {\"responsive\": true}                    ).then(function(){\n",
       "                            \n",
       "var gd = document.getElementById('43ee4a45-cf3d-42dc-8b0b-47a37977866f');\n",
       "var x = new MutationObserver(function (mutations, observer) {{\n",
       "        var display = window.getComputedStyle(gd).display;\n",
       "        if (!display || display === 'none') {{\n",
       "            console.log([gd, 'removed!']);\n",
       "            Plotly.purge(gd);\n",
       "            observer.disconnect();\n",
       "        }}\n",
       "}});\n",
       "\n",
       "// Listen for the removal of the full notebook cells\n",
       "var notebookContainer = gd.closest('#notebook-container');\n",
       "if (notebookContainer) {{\n",
       "    x.observe(notebookContainer, {childList: true});\n",
       "}}\n",
       "\n",
       "// Listen for the clearing of the current output cell\n",
       "var outputEl = gd.closest('.output');\n",
       "if (outputEl) {{\n",
       "    x.observe(outputEl, {childList: true});\n",
       "}}\n",
       "\n",
       "                        })                };                });            </script>        </div>"
      ]
     },
     "metadata": {},
     "output_type": "display_data"
    },
    {
     "data": {
      "application/vnd.plotly.v1+json": {
       "config": {
        "plotlyServerURL": "https://plot.ly"
       },
       "data": [
        {
         "alignmentgroup": "True",
         "hovertemplate": "Season=Fall<br>Model=%{x}<br>Symmetric Mean Absolute Percentage Error=%{y}<extra></extra>",
         "legendgroup": "Fall",
         "marker": {
          "color": "#636efa",
          "pattern": {
           "shape": ""
          }
         },
         "name": "Fall",
         "offsetgroup": "Fall",
         "orientation": "v",
         "showlegend": true,
         "textposition": "auto",
         "type": "bar",
         "x": [
          "Transformer",
          "TempConv",
          "GRU",
          "HyperNetLSTM",
          "LSTM",
          "MLP",
          "RNN",
          "Nbeats",
          "ARFFNN",
          "AttentionLSTM",
          "HyperNetLSTMRBF",
          "HyperNetLSTMPoly"
         ],
         "xaxis": "x",
         "y": [
          12.269789127162786,
          12.090395636200215,
          6.869681236099863,
          6.948437921909077,
          6.603541000144311,
          12.258753890453603,
          10.031952961391529,
          8.215457523656294,
          7.229791761312031,
          6.915386109768991,
          6.245363537717981,
          6.766897156333767
         ],
         "yaxis": "y"
        },
        {
         "alignmentgroup": "True",
         "hovertemplate": "Season=Winter<br>Model=%{x}<br>Symmetric Mean Absolute Percentage Error=%{y}<extra></extra>",
         "legendgroup": "Winter",
         "marker": {
          "color": "#EF553B",
          "pattern": {
           "shape": ""
          }
         },
         "name": "Winter",
         "offsetgroup": "Winter",
         "orientation": "v",
         "showlegend": true,
         "textposition": "auto",
         "type": "bar",
         "x": [
          "Transformer",
          "TempConv",
          "GRU",
          "HyperNetLSTM",
          "LSTM",
          "MLP",
          "RNN",
          "Nbeats",
          "ARFFNN",
          "AttentionLSTM",
          "HyperNetLSTMRBF",
          "HyperNetLSTMPoly"
         ],
         "xaxis": "x",
         "y": [
          9.17443850110556,
          13.986830494005797,
          7.045025699985919,
          6.285314525556047,
          8.926464653706919,
          9.220318055246107,
          11.73040477229061,
          7.0496010264475215,
          5.595019104516634,
          5.618087250035849,
          5.109876636508575,
          5.461841086365831
         ],
         "yaxis": "y"
        },
        {
         "alignmentgroup": "True",
         "hovertemplate": "Season=Spring<br>Model=%{x}<br>Symmetric Mean Absolute Percentage Error=%{y}<extra></extra>",
         "legendgroup": "Spring",
         "marker": {
          "color": "#00cc96",
          "pattern": {
           "shape": ""
          }
         },
         "name": "Spring",
         "offsetgroup": "Spring",
         "orientation": "v",
         "showlegend": true,
         "textposition": "auto",
         "type": "bar",
         "x": [
          "Transformer",
          "TempConv",
          "GRU",
          "HyperNetLSTM",
          "LSTM",
          "MLP",
          "RNN",
          "Nbeats",
          "ARFFNN",
          "AttentionLSTM",
          "HyperNetLSTMRBF",
          "HyperNetLSTMPoly"
         ],
         "xaxis": "x",
         "y": [
          9.978734921018564,
          14.274143094318672,
          7.600328321966011,
          7.504401633961849,
          9.773785249716461,
          10.04188949884021,
          11.698087410142671,
          7.390600461444227,
          7.179833322288396,
          6.804193340434129,
          6.403570552099097,
          6.51037008995054
         ],
         "yaxis": "y"
        },
        {
         "alignmentgroup": "True",
         "hovertemplate": "Season=Summer<br>Model=%{x}<br>Symmetric Mean Absolute Percentage Error=%{y}<extra></extra>",
         "legendgroup": "Summer",
         "marker": {
          "color": "#ab63fa",
          "pattern": {
           "shape": ""
          }
         },
         "name": "Summer",
         "offsetgroup": "Summer",
         "orientation": "v",
         "showlegend": true,
         "textposition": "auto",
         "type": "bar",
         "x": [
          "Transformer",
          "TempConv",
          "GRU",
          "HyperNetLSTM",
          "LSTM",
          "MLP",
          "RNN",
          "Nbeats",
          "ARFFNN",
          "AttentionLSTM",
          "HyperNetLSTMRBF",
          "HyperNetLSTMPoly"
         ],
         "xaxis": "x",
         "y": [
          16.468497948945963,
          14.97540915072645,
          13.57538145585901,
          12.736844108392168,
          15.099543409974231,
          16.849902319762815,
          16.95805590027346,
          12.832408099666317,
          14.294243533100207,
          13.417703074197446,
          11.21757489566522,
          11.31881429255232
         ],
         "yaxis": "y"
        }
       ],
       "layout": {
        "autosize": true,
        "barmode": "group",
        "legend": {
         "title": {
          "text": "Season"
         },
         "tracegroupgap": 0
        },
        "template": {
         "data": {
          "bar": [
           {
            "error_x": {
             "color": "#2a3f5f"
            },
            "error_y": {
             "color": "#2a3f5f"
            },
            "marker": {
             "line": {
              "color": "#E5ECF6",
              "width": 0.5
             },
             "pattern": {
              "fillmode": "overlay",
              "size": 10,
              "solidity": 0.2
             }
            },
            "type": "bar"
           }
          ],
          "barpolar": [
           {
            "marker": {
             "line": {
              "color": "#E5ECF6",
              "width": 0.5
             },
             "pattern": {
              "fillmode": "overlay",
              "size": 10,
              "solidity": 0.2
             }
            },
            "type": "barpolar"
           }
          ],
          "carpet": [
           {
            "aaxis": {
             "endlinecolor": "#2a3f5f",
             "gridcolor": "white",
             "linecolor": "white",
             "minorgridcolor": "white",
             "startlinecolor": "#2a3f5f"
            },
            "baxis": {
             "endlinecolor": "#2a3f5f",
             "gridcolor": "white",
             "linecolor": "white",
             "minorgridcolor": "white",
             "startlinecolor": "#2a3f5f"
            },
            "type": "carpet"
           }
          ],
          "choropleth": [
           {
            "colorbar": {
             "outlinewidth": 0,
             "ticks": ""
            },
            "type": "choropleth"
           }
          ],
          "contour": [
           {
            "colorbar": {
             "outlinewidth": 0,
             "ticks": ""
            },
            "colorscale": [
             [
              0,
              "#0d0887"
             ],
             [
              0.1111111111111111,
              "#46039f"
             ],
             [
              0.2222222222222222,
              "#7201a8"
             ],
             [
              0.3333333333333333,
              "#9c179e"
             ],
             [
              0.4444444444444444,
              "#bd3786"
             ],
             [
              0.5555555555555556,
              "#d8576b"
             ],
             [
              0.6666666666666666,
              "#ed7953"
             ],
             [
              0.7777777777777778,
              "#fb9f3a"
             ],
             [
              0.8888888888888888,
              "#fdca26"
             ],
             [
              1,
              "#f0f921"
             ]
            ],
            "type": "contour"
           }
          ],
          "contourcarpet": [
           {
            "colorbar": {
             "outlinewidth": 0,
             "ticks": ""
            },
            "type": "contourcarpet"
           }
          ],
          "heatmap": [
           {
            "colorbar": {
             "outlinewidth": 0,
             "ticks": ""
            },
            "colorscale": [
             [
              0,
              "#0d0887"
             ],
             [
              0.1111111111111111,
              "#46039f"
             ],
             [
              0.2222222222222222,
              "#7201a8"
             ],
             [
              0.3333333333333333,
              "#9c179e"
             ],
             [
              0.4444444444444444,
              "#bd3786"
             ],
             [
              0.5555555555555556,
              "#d8576b"
             ],
             [
              0.6666666666666666,
              "#ed7953"
             ],
             [
              0.7777777777777778,
              "#fb9f3a"
             ],
             [
              0.8888888888888888,
              "#fdca26"
             ],
             [
              1,
              "#f0f921"
             ]
            ],
            "type": "heatmap"
           }
          ],
          "heatmapgl": [
           {
            "colorbar": {
             "outlinewidth": 0,
             "ticks": ""
            },
            "colorscale": [
             [
              0,
              "#0d0887"
             ],
             [
              0.1111111111111111,
              "#46039f"
             ],
             [
              0.2222222222222222,
              "#7201a8"
             ],
             [
              0.3333333333333333,
              "#9c179e"
             ],
             [
              0.4444444444444444,
              "#bd3786"
             ],
             [
              0.5555555555555556,
              "#d8576b"
             ],
             [
              0.6666666666666666,
              "#ed7953"
             ],
             [
              0.7777777777777778,
              "#fb9f3a"
             ],
             [
              0.8888888888888888,
              "#fdca26"
             ],
             [
              1,
              "#f0f921"
             ]
            ],
            "type": "heatmapgl"
           }
          ],
          "histogram": [
           {
            "marker": {
             "pattern": {
              "fillmode": "overlay",
              "size": 10,
              "solidity": 0.2
             }
            },
            "type": "histogram"
           }
          ],
          "histogram2d": [
           {
            "colorbar": {
             "outlinewidth": 0,
             "ticks": ""
            },
            "colorscale": [
             [
              0,
              "#0d0887"
             ],
             [
              0.1111111111111111,
              "#46039f"
             ],
             [
              0.2222222222222222,
              "#7201a8"
             ],
             [
              0.3333333333333333,
              "#9c179e"
             ],
             [
              0.4444444444444444,
              "#bd3786"
             ],
             [
              0.5555555555555556,
              "#d8576b"
             ],
             [
              0.6666666666666666,
              "#ed7953"
             ],
             [
              0.7777777777777778,
              "#fb9f3a"
             ],
             [
              0.8888888888888888,
              "#fdca26"
             ],
             [
              1,
              "#f0f921"
             ]
            ],
            "type": "histogram2d"
           }
          ],
          "histogram2dcontour": [
           {
            "colorbar": {
             "outlinewidth": 0,
             "ticks": ""
            },
            "colorscale": [
             [
              0,
              "#0d0887"
             ],
             [
              0.1111111111111111,
              "#46039f"
             ],
             [
              0.2222222222222222,
              "#7201a8"
             ],
             [
              0.3333333333333333,
              "#9c179e"
             ],
             [
              0.4444444444444444,
              "#bd3786"
             ],
             [
              0.5555555555555556,
              "#d8576b"
             ],
             [
              0.6666666666666666,
              "#ed7953"
             ],
             [
              0.7777777777777778,
              "#fb9f3a"
             ],
             [
              0.8888888888888888,
              "#fdca26"
             ],
             [
              1,
              "#f0f921"
             ]
            ],
            "type": "histogram2dcontour"
           }
          ],
          "mesh3d": [
           {
            "colorbar": {
             "outlinewidth": 0,
             "ticks": ""
            },
            "type": "mesh3d"
           }
          ],
          "parcoords": [
           {
            "line": {
             "colorbar": {
              "outlinewidth": 0,
              "ticks": ""
             }
            },
            "type": "parcoords"
           }
          ],
          "pie": [
           {
            "automargin": true,
            "type": "pie"
           }
          ],
          "scatter": [
           {
            "fillpattern": {
             "fillmode": "overlay",
             "size": 10,
             "solidity": 0.2
            },
            "type": "scatter"
           }
          ],
          "scatter3d": [
           {
            "line": {
             "colorbar": {
              "outlinewidth": 0,
              "ticks": ""
             }
            },
            "marker": {
             "colorbar": {
              "outlinewidth": 0,
              "ticks": ""
             }
            },
            "type": "scatter3d"
           }
          ],
          "scattercarpet": [
           {
            "marker": {
             "colorbar": {
              "outlinewidth": 0,
              "ticks": ""
             }
            },
            "type": "scattercarpet"
           }
          ],
          "scattergeo": [
           {
            "marker": {
             "colorbar": {
              "outlinewidth": 0,
              "ticks": ""
             }
            },
            "type": "scattergeo"
           }
          ],
          "scattergl": [
           {
            "marker": {
             "colorbar": {
              "outlinewidth": 0,
              "ticks": ""
             }
            },
            "type": "scattergl"
           }
          ],
          "scattermapbox": [
           {
            "marker": {
             "colorbar": {
              "outlinewidth": 0,
              "ticks": ""
             }
            },
            "type": "scattermapbox"
           }
          ],
          "scatterpolar": [
           {
            "marker": {
             "colorbar": {
              "outlinewidth": 0,
              "ticks": ""
             }
            },
            "type": "scatterpolar"
           }
          ],
          "scatterpolargl": [
           {
            "marker": {
             "colorbar": {
              "outlinewidth": 0,
              "ticks": ""
             }
            },
            "type": "scatterpolargl"
           }
          ],
          "scatterternary": [
           {
            "marker": {
             "colorbar": {
              "outlinewidth": 0,
              "ticks": ""
             }
            },
            "type": "scatterternary"
           }
          ],
          "surface": [
           {
            "colorbar": {
             "outlinewidth": 0,
             "ticks": ""
            },
            "colorscale": [
             [
              0,
              "#0d0887"
             ],
             [
              0.1111111111111111,
              "#46039f"
             ],
             [
              0.2222222222222222,
              "#7201a8"
             ],
             [
              0.3333333333333333,
              "#9c179e"
             ],
             [
              0.4444444444444444,
              "#bd3786"
             ],
             [
              0.5555555555555556,
              "#d8576b"
             ],
             [
              0.6666666666666666,
              "#ed7953"
             ],
             [
              0.7777777777777778,
              "#fb9f3a"
             ],
             [
              0.8888888888888888,
              "#fdca26"
             ],
             [
              1,
              "#f0f921"
             ]
            ],
            "type": "surface"
           }
          ],
          "table": [
           {
            "cells": {
             "fill": {
              "color": "#EBF0F8"
             },
             "line": {
              "color": "white"
             }
            },
            "header": {
             "fill": {
              "color": "#C8D4E3"
             },
             "line": {
              "color": "white"
             }
            },
            "type": "table"
           }
          ]
         },
         "layout": {
          "annotationdefaults": {
           "arrowcolor": "#2a3f5f",
           "arrowhead": 0,
           "arrowwidth": 1
          },
          "autotypenumbers": "strict",
          "coloraxis": {
           "colorbar": {
            "outlinewidth": 0,
            "ticks": ""
           }
          },
          "colorscale": {
           "diverging": [
            [
             0,
             "#8e0152"
            ],
            [
             0.1,
             "#c51b7d"
            ],
            [
             0.2,
             "#de77ae"
            ],
            [
             0.3,
             "#f1b6da"
            ],
            [
             0.4,
             "#fde0ef"
            ],
            [
             0.5,
             "#f7f7f7"
            ],
            [
             0.6,
             "#e6f5d0"
            ],
            [
             0.7,
             "#b8e186"
            ],
            [
             0.8,
             "#7fbc41"
            ],
            [
             0.9,
             "#4d9221"
            ],
            [
             1,
             "#276419"
            ]
           ],
           "sequential": [
            [
             0,
             "#0d0887"
            ],
            [
             0.1111111111111111,
             "#46039f"
            ],
            [
             0.2222222222222222,
             "#7201a8"
            ],
            [
             0.3333333333333333,
             "#9c179e"
            ],
            [
             0.4444444444444444,
             "#bd3786"
            ],
            [
             0.5555555555555556,
             "#d8576b"
            ],
            [
             0.6666666666666666,
             "#ed7953"
            ],
            [
             0.7777777777777778,
             "#fb9f3a"
            ],
            [
             0.8888888888888888,
             "#fdca26"
            ],
            [
             1,
             "#f0f921"
            ]
           ],
           "sequentialminus": [
            [
             0,
             "#0d0887"
            ],
            [
             0.1111111111111111,
             "#46039f"
            ],
            [
             0.2222222222222222,
             "#7201a8"
            ],
            [
             0.3333333333333333,
             "#9c179e"
            ],
            [
             0.4444444444444444,
             "#bd3786"
            ],
            [
             0.5555555555555556,
             "#d8576b"
            ],
            [
             0.6666666666666666,
             "#ed7953"
            ],
            [
             0.7777777777777778,
             "#fb9f3a"
            ],
            [
             0.8888888888888888,
             "#fdca26"
            ],
            [
             1,
             "#f0f921"
            ]
           ]
          },
          "colorway": [
           "#636efa",
           "#EF553B",
           "#00cc96",
           "#ab63fa",
           "#FFA15A",
           "#19d3f3",
           "#FF6692",
           "#B6E880",
           "#FF97FF",
           "#FECB52"
          ],
          "font": {
           "color": "#2a3f5f"
          },
          "geo": {
           "bgcolor": "white",
           "lakecolor": "white",
           "landcolor": "#E5ECF6",
           "showlakes": true,
           "showland": true,
           "subunitcolor": "white"
          },
          "hoverlabel": {
           "align": "left"
          },
          "hovermode": "closest",
          "mapbox": {
           "style": "light"
          },
          "paper_bgcolor": "white",
          "plot_bgcolor": "#E5ECF6",
          "polar": {
           "angularaxis": {
            "gridcolor": "white",
            "linecolor": "white",
            "ticks": ""
           },
           "bgcolor": "#E5ECF6",
           "radialaxis": {
            "gridcolor": "white",
            "linecolor": "white",
            "ticks": ""
           }
          },
          "scene": {
           "xaxis": {
            "backgroundcolor": "#E5ECF6",
            "gridcolor": "white",
            "gridwidth": 2,
            "linecolor": "white",
            "showbackground": true,
            "ticks": "",
            "zerolinecolor": "white"
           },
           "yaxis": {
            "backgroundcolor": "#E5ECF6",
            "gridcolor": "white",
            "gridwidth": 2,
            "linecolor": "white",
            "showbackground": true,
            "ticks": "",
            "zerolinecolor": "white"
           },
           "zaxis": {
            "backgroundcolor": "#E5ECF6",
            "gridcolor": "white",
            "gridwidth": 2,
            "linecolor": "white",
            "showbackground": true,
            "ticks": "",
            "zerolinecolor": "white"
           }
          },
          "shapedefaults": {
           "line": {
            "color": "#2a3f5f"
           }
          },
          "ternary": {
           "aaxis": {
            "gridcolor": "white",
            "linecolor": "white",
            "ticks": ""
           },
           "baxis": {
            "gridcolor": "white",
            "linecolor": "white",
            "ticks": ""
           },
           "bgcolor": "#E5ECF6",
           "caxis": {
            "gridcolor": "white",
            "linecolor": "white",
            "ticks": ""
           }
          },
          "title": {
           "x": 0.05
          },
          "xaxis": {
           "automargin": true,
           "gridcolor": "white",
           "linecolor": "white",
           "ticks": "",
           "title": {
            "standoff": 15
           },
           "zerolinecolor": "white",
           "zerolinewidth": 2
          },
          "yaxis": {
           "automargin": true,
           "gridcolor": "white",
           "linecolor": "white",
           "ticks": "",
           "title": {
            "standoff": 15
           },
           "zerolinecolor": "white",
           "zerolinewidth": 2
          }
         }
        },
        "title": {
         "text": "SMAPE Across Seasons for Residence 2",
         "x": 0.5
        },
        "xaxis": {
         "anchor": "y",
         "autorange": true,
         "domain": [
          0,
          1
         ],
         "range": [
          -0.5,
          11.5
         ],
         "title": {
          "text": "Model"
         },
         "type": "category"
        },
        "yaxis": {
         "anchor": "x",
         "autorange": true,
         "domain": [
          0,
          1
         ],
         "range": [
          0,
          17.85058515818259
         ],
         "title": {
          "text": "Symmetric Mean Absolute Percentage Error"
         },
         "type": "linear"
        }
       }
      },
      "text/html": [
       "<div>                            <div id=\"75faa044-7afd-4c0b-a253-80261ccb0ac9\" class=\"plotly-graph-div\" style=\"height:600px; width:100%;\"></div>            <script type=\"text/javascript\">                require([\"plotly\"], function(Plotly) {                    window.PLOTLYENV=window.PLOTLYENV || {};                                    if (document.getElementById(\"75faa044-7afd-4c0b-a253-80261ccb0ac9\")) {                    Plotly.newPlot(                        \"75faa044-7afd-4c0b-a253-80261ccb0ac9\",                        [{\"alignmentgroup\":\"True\",\"hovertemplate\":\"Season=Fall\\u003cbr\\u003eModel=%{x}\\u003cbr\\u003eSymmetric Mean Absolute Percentage Error=%{y}\\u003cextra\\u003e\\u003c\\u002fextra\\u003e\",\"legendgroup\":\"Fall\",\"marker\":{\"color\":\"#636efa\",\"pattern\":{\"shape\":\"\"}},\"name\":\"Fall\",\"offsetgroup\":\"Fall\",\"orientation\":\"v\",\"showlegend\":true,\"textposition\":\"auto\",\"x\":[\"Transformer\",\"TempConv\",\"GRU\",\"HyperNetLSTM\",\"LSTM\",\"MLP\",\"RNN\",\"Nbeats\",\"ARFFNN\",\"AttentionLSTM\",\"HyperNetLSTMRBF\",\"HyperNetLSTMPoly\"],\"xaxis\":\"x\",\"y\":[12.269789127162786,12.090395636200215,6.869681236099863,6.948437921909077,6.603541000144311,12.258753890453603,10.031952961391529,8.215457523656294,7.229791761312031,6.915386109768991,6.245363537717981,6.766897156333767],\"yaxis\":\"y\",\"type\":\"bar\"},{\"alignmentgroup\":\"True\",\"hovertemplate\":\"Season=Winter\\u003cbr\\u003eModel=%{x}\\u003cbr\\u003eSymmetric Mean Absolute Percentage Error=%{y}\\u003cextra\\u003e\\u003c\\u002fextra\\u003e\",\"legendgroup\":\"Winter\",\"marker\":{\"color\":\"#EF553B\",\"pattern\":{\"shape\":\"\"}},\"name\":\"Winter\",\"offsetgroup\":\"Winter\",\"orientation\":\"v\",\"showlegend\":true,\"textposition\":\"auto\",\"x\":[\"Transformer\",\"TempConv\",\"GRU\",\"HyperNetLSTM\",\"LSTM\",\"MLP\",\"RNN\",\"Nbeats\",\"ARFFNN\",\"AttentionLSTM\",\"HyperNetLSTMRBF\",\"HyperNetLSTMPoly\"],\"xaxis\":\"x\",\"y\":[9.17443850110556,13.986830494005797,7.045025699985919,6.285314525556047,8.926464653706919,9.220318055246107,11.73040477229061,7.0496010264475215,5.595019104516634,5.618087250035849,5.109876636508575,5.461841086365831],\"yaxis\":\"y\",\"type\":\"bar\"},{\"alignmentgroup\":\"True\",\"hovertemplate\":\"Season=Spring\\u003cbr\\u003eModel=%{x}\\u003cbr\\u003eSymmetric Mean Absolute Percentage Error=%{y}\\u003cextra\\u003e\\u003c\\u002fextra\\u003e\",\"legendgroup\":\"Spring\",\"marker\":{\"color\":\"#00cc96\",\"pattern\":{\"shape\":\"\"}},\"name\":\"Spring\",\"offsetgroup\":\"Spring\",\"orientation\":\"v\",\"showlegend\":true,\"textposition\":\"auto\",\"x\":[\"Transformer\",\"TempConv\",\"GRU\",\"HyperNetLSTM\",\"LSTM\",\"MLP\",\"RNN\",\"Nbeats\",\"ARFFNN\",\"AttentionLSTM\",\"HyperNetLSTMRBF\",\"HyperNetLSTMPoly\"],\"xaxis\":\"x\",\"y\":[9.978734921018564,14.274143094318672,7.600328321966011,7.504401633961849,9.773785249716461,10.04188949884021,11.698087410142671,7.390600461444227,7.179833322288396,6.804193340434129,6.403570552099097,6.51037008995054],\"yaxis\":\"y\",\"type\":\"bar\"},{\"alignmentgroup\":\"True\",\"hovertemplate\":\"Season=Summer\\u003cbr\\u003eModel=%{x}\\u003cbr\\u003eSymmetric Mean Absolute Percentage Error=%{y}\\u003cextra\\u003e\\u003c\\u002fextra\\u003e\",\"legendgroup\":\"Summer\",\"marker\":{\"color\":\"#ab63fa\",\"pattern\":{\"shape\":\"\"}},\"name\":\"Summer\",\"offsetgroup\":\"Summer\",\"orientation\":\"v\",\"showlegend\":true,\"textposition\":\"auto\",\"x\":[\"Transformer\",\"TempConv\",\"GRU\",\"HyperNetLSTM\",\"LSTM\",\"MLP\",\"RNN\",\"Nbeats\",\"ARFFNN\",\"AttentionLSTM\",\"HyperNetLSTMRBF\",\"HyperNetLSTMPoly\"],\"xaxis\":\"x\",\"y\":[16.468497948945963,14.97540915072645,13.57538145585901,12.736844108392168,15.099543409974231,16.849902319762815,16.95805590027346,12.832408099666317,14.294243533100207,13.417703074197446,11.21757489566522,11.31881429255232],\"yaxis\":\"y\",\"type\":\"bar\"}],                        {\"template\":{\"data\":{\"histogram2dcontour\":[{\"type\":\"histogram2dcontour\",\"colorbar\":{\"outlinewidth\":0,\"ticks\":\"\"},\"colorscale\":[[0.0,\"#0d0887\"],[0.1111111111111111,\"#46039f\"],[0.2222222222222222,\"#7201a8\"],[0.3333333333333333,\"#9c179e\"],[0.4444444444444444,\"#bd3786\"],[0.5555555555555556,\"#d8576b\"],[0.6666666666666666,\"#ed7953\"],[0.7777777777777778,\"#fb9f3a\"],[0.8888888888888888,\"#fdca26\"],[1.0,\"#f0f921\"]]}],\"choropleth\":[{\"type\":\"choropleth\",\"colorbar\":{\"outlinewidth\":0,\"ticks\":\"\"}}],\"histogram2d\":[{\"type\":\"histogram2d\",\"colorbar\":{\"outlinewidth\":0,\"ticks\":\"\"},\"colorscale\":[[0.0,\"#0d0887\"],[0.1111111111111111,\"#46039f\"],[0.2222222222222222,\"#7201a8\"],[0.3333333333333333,\"#9c179e\"],[0.4444444444444444,\"#bd3786\"],[0.5555555555555556,\"#d8576b\"],[0.6666666666666666,\"#ed7953\"],[0.7777777777777778,\"#fb9f3a\"],[0.8888888888888888,\"#fdca26\"],[1.0,\"#f0f921\"]]}],\"heatmap\":[{\"type\":\"heatmap\",\"colorbar\":{\"outlinewidth\":0,\"ticks\":\"\"},\"colorscale\":[[0.0,\"#0d0887\"],[0.1111111111111111,\"#46039f\"],[0.2222222222222222,\"#7201a8\"],[0.3333333333333333,\"#9c179e\"],[0.4444444444444444,\"#bd3786\"],[0.5555555555555556,\"#d8576b\"],[0.6666666666666666,\"#ed7953\"],[0.7777777777777778,\"#fb9f3a\"],[0.8888888888888888,\"#fdca26\"],[1.0,\"#f0f921\"]]}],\"heatmapgl\":[{\"type\":\"heatmapgl\",\"colorbar\":{\"outlinewidth\":0,\"ticks\":\"\"},\"colorscale\":[[0.0,\"#0d0887\"],[0.1111111111111111,\"#46039f\"],[0.2222222222222222,\"#7201a8\"],[0.3333333333333333,\"#9c179e\"],[0.4444444444444444,\"#bd3786\"],[0.5555555555555556,\"#d8576b\"],[0.6666666666666666,\"#ed7953\"],[0.7777777777777778,\"#fb9f3a\"],[0.8888888888888888,\"#fdca26\"],[1.0,\"#f0f921\"]]}],\"contourcarpet\":[{\"type\":\"contourcarpet\",\"colorbar\":{\"outlinewidth\":0,\"ticks\":\"\"}}],\"contour\":[{\"type\":\"contour\",\"colorbar\":{\"outlinewidth\":0,\"ticks\":\"\"},\"colorscale\":[[0.0,\"#0d0887\"],[0.1111111111111111,\"#46039f\"],[0.2222222222222222,\"#7201a8\"],[0.3333333333333333,\"#9c179e\"],[0.4444444444444444,\"#bd3786\"],[0.5555555555555556,\"#d8576b\"],[0.6666666666666666,\"#ed7953\"],[0.7777777777777778,\"#fb9f3a\"],[0.8888888888888888,\"#fdca26\"],[1.0,\"#f0f921\"]]}],\"surface\":[{\"type\":\"surface\",\"colorbar\":{\"outlinewidth\":0,\"ticks\":\"\"},\"colorscale\":[[0.0,\"#0d0887\"],[0.1111111111111111,\"#46039f\"],[0.2222222222222222,\"#7201a8\"],[0.3333333333333333,\"#9c179e\"],[0.4444444444444444,\"#bd3786\"],[0.5555555555555556,\"#d8576b\"],[0.6666666666666666,\"#ed7953\"],[0.7777777777777778,\"#fb9f3a\"],[0.8888888888888888,\"#fdca26\"],[1.0,\"#f0f921\"]]}],\"mesh3d\":[{\"type\":\"mesh3d\",\"colorbar\":{\"outlinewidth\":0,\"ticks\":\"\"}}],\"scatter\":[{\"fillpattern\":{\"fillmode\":\"overlay\",\"size\":10,\"solidity\":0.2},\"type\":\"scatter\"}],\"parcoords\":[{\"type\":\"parcoords\",\"line\":{\"colorbar\":{\"outlinewidth\":0,\"ticks\":\"\"}}}],\"scatterpolargl\":[{\"type\":\"scatterpolargl\",\"marker\":{\"colorbar\":{\"outlinewidth\":0,\"ticks\":\"\"}}}],\"bar\":[{\"error_x\":{\"color\":\"#2a3f5f\"},\"error_y\":{\"color\":\"#2a3f5f\"},\"marker\":{\"line\":{\"color\":\"#E5ECF6\",\"width\":0.5},\"pattern\":{\"fillmode\":\"overlay\",\"size\":10,\"solidity\":0.2}},\"type\":\"bar\"}],\"scattergeo\":[{\"type\":\"scattergeo\",\"marker\":{\"colorbar\":{\"outlinewidth\":0,\"ticks\":\"\"}}}],\"scatterpolar\":[{\"type\":\"scatterpolar\",\"marker\":{\"colorbar\":{\"outlinewidth\":0,\"ticks\":\"\"}}}],\"histogram\":[{\"marker\":{\"pattern\":{\"fillmode\":\"overlay\",\"size\":10,\"solidity\":0.2}},\"type\":\"histogram\"}],\"scattergl\":[{\"type\":\"scattergl\",\"marker\":{\"colorbar\":{\"outlinewidth\":0,\"ticks\":\"\"}}}],\"scatter3d\":[{\"type\":\"scatter3d\",\"line\":{\"colorbar\":{\"outlinewidth\":0,\"ticks\":\"\"}},\"marker\":{\"colorbar\":{\"outlinewidth\":0,\"ticks\":\"\"}}}],\"scattermapbox\":[{\"type\":\"scattermapbox\",\"marker\":{\"colorbar\":{\"outlinewidth\":0,\"ticks\":\"\"}}}],\"scatterternary\":[{\"type\":\"scatterternary\",\"marker\":{\"colorbar\":{\"outlinewidth\":0,\"ticks\":\"\"}}}],\"scattercarpet\":[{\"type\":\"scattercarpet\",\"marker\":{\"colorbar\":{\"outlinewidth\":0,\"ticks\":\"\"}}}],\"carpet\":[{\"aaxis\":{\"endlinecolor\":\"#2a3f5f\",\"gridcolor\":\"white\",\"linecolor\":\"white\",\"minorgridcolor\":\"white\",\"startlinecolor\":\"#2a3f5f\"},\"baxis\":{\"endlinecolor\":\"#2a3f5f\",\"gridcolor\":\"white\",\"linecolor\":\"white\",\"minorgridcolor\":\"white\",\"startlinecolor\":\"#2a3f5f\"},\"type\":\"carpet\"}],\"table\":[{\"cells\":{\"fill\":{\"color\":\"#EBF0F8\"},\"line\":{\"color\":\"white\"}},\"header\":{\"fill\":{\"color\":\"#C8D4E3\"},\"line\":{\"color\":\"white\"}},\"type\":\"table\"}],\"barpolar\":[{\"marker\":{\"line\":{\"color\":\"#E5ECF6\",\"width\":0.5},\"pattern\":{\"fillmode\":\"overlay\",\"size\":10,\"solidity\":0.2}},\"type\":\"barpolar\"}],\"pie\":[{\"automargin\":true,\"type\":\"pie\"}]},\"layout\":{\"autotypenumbers\":\"strict\",\"colorway\":[\"#636efa\",\"#EF553B\",\"#00cc96\",\"#ab63fa\",\"#FFA15A\",\"#19d3f3\",\"#FF6692\",\"#B6E880\",\"#FF97FF\",\"#FECB52\"],\"font\":{\"color\":\"#2a3f5f\"},\"hovermode\":\"closest\",\"hoverlabel\":{\"align\":\"left\"},\"paper_bgcolor\":\"white\",\"plot_bgcolor\":\"#E5ECF6\",\"polar\":{\"bgcolor\":\"#E5ECF6\",\"angularaxis\":{\"gridcolor\":\"white\",\"linecolor\":\"white\",\"ticks\":\"\"},\"radialaxis\":{\"gridcolor\":\"white\",\"linecolor\":\"white\",\"ticks\":\"\"}},\"ternary\":{\"bgcolor\":\"#E5ECF6\",\"aaxis\":{\"gridcolor\":\"white\",\"linecolor\":\"white\",\"ticks\":\"\"},\"baxis\":{\"gridcolor\":\"white\",\"linecolor\":\"white\",\"ticks\":\"\"},\"caxis\":{\"gridcolor\":\"white\",\"linecolor\":\"white\",\"ticks\":\"\"}},\"coloraxis\":{\"colorbar\":{\"outlinewidth\":0,\"ticks\":\"\"}},\"colorscale\":{\"sequential\":[[0.0,\"#0d0887\"],[0.1111111111111111,\"#46039f\"],[0.2222222222222222,\"#7201a8\"],[0.3333333333333333,\"#9c179e\"],[0.4444444444444444,\"#bd3786\"],[0.5555555555555556,\"#d8576b\"],[0.6666666666666666,\"#ed7953\"],[0.7777777777777778,\"#fb9f3a\"],[0.8888888888888888,\"#fdca26\"],[1.0,\"#f0f921\"]],\"sequentialminus\":[[0.0,\"#0d0887\"],[0.1111111111111111,\"#46039f\"],[0.2222222222222222,\"#7201a8\"],[0.3333333333333333,\"#9c179e\"],[0.4444444444444444,\"#bd3786\"],[0.5555555555555556,\"#d8576b\"],[0.6666666666666666,\"#ed7953\"],[0.7777777777777778,\"#fb9f3a\"],[0.8888888888888888,\"#fdca26\"],[1.0,\"#f0f921\"]],\"diverging\":[[0,\"#8e0152\"],[0.1,\"#c51b7d\"],[0.2,\"#de77ae\"],[0.3,\"#f1b6da\"],[0.4,\"#fde0ef\"],[0.5,\"#f7f7f7\"],[0.6,\"#e6f5d0\"],[0.7,\"#b8e186\"],[0.8,\"#7fbc41\"],[0.9,\"#4d9221\"],[1,\"#276419\"]]},\"xaxis\":{\"gridcolor\":\"white\",\"linecolor\":\"white\",\"ticks\":\"\",\"title\":{\"standoff\":15},\"zerolinecolor\":\"white\",\"automargin\":true,\"zerolinewidth\":2},\"yaxis\":{\"gridcolor\":\"white\",\"linecolor\":\"white\",\"ticks\":\"\",\"title\":{\"standoff\":15},\"zerolinecolor\":\"white\",\"automargin\":true,\"zerolinewidth\":2},\"scene\":{\"xaxis\":{\"backgroundcolor\":\"#E5ECF6\",\"gridcolor\":\"white\",\"linecolor\":\"white\",\"showbackground\":true,\"ticks\":\"\",\"zerolinecolor\":\"white\",\"gridwidth\":2},\"yaxis\":{\"backgroundcolor\":\"#E5ECF6\",\"gridcolor\":\"white\",\"linecolor\":\"white\",\"showbackground\":true,\"ticks\":\"\",\"zerolinecolor\":\"white\",\"gridwidth\":2},\"zaxis\":{\"backgroundcolor\":\"#E5ECF6\",\"gridcolor\":\"white\",\"linecolor\":\"white\",\"showbackground\":true,\"ticks\":\"\",\"zerolinecolor\":\"white\",\"gridwidth\":2}},\"shapedefaults\":{\"line\":{\"color\":\"#2a3f5f\"}},\"annotationdefaults\":{\"arrowcolor\":\"#2a3f5f\",\"arrowhead\":0,\"arrowwidth\":1},\"geo\":{\"bgcolor\":\"white\",\"landcolor\":\"#E5ECF6\",\"subunitcolor\":\"white\",\"showland\":true,\"showlakes\":true,\"lakecolor\":\"white\"},\"title\":{\"x\":0.05},\"mapbox\":{\"style\":\"light\"}}},\"xaxis\":{\"anchor\":\"y\",\"domain\":[0.0,1.0],\"title\":{\"text\":\"Model\"}},\"yaxis\":{\"anchor\":\"x\",\"domain\":[0.0,1.0],\"title\":{\"text\":\"Symmetric Mean Absolute Percentage Error\"}},\"legend\":{\"title\":{\"text\":\"Season\"},\"tracegroupgap\":0},\"title\":{\"text\":\"SMAPE Across Seasons for Residence 2\",\"x\":0.5},\"barmode\":\"group\",\"height\":600},                        {\"responsive\": true}                    ).then(function(){\n",
       "                            \n",
       "var gd = document.getElementById('75faa044-7afd-4c0b-a253-80261ccb0ac9');\n",
       "var x = new MutationObserver(function (mutations, observer) {{\n",
       "        var display = window.getComputedStyle(gd).display;\n",
       "        if (!display || display === 'none') {{\n",
       "            console.log([gd, 'removed!']);\n",
       "            Plotly.purge(gd);\n",
       "            observer.disconnect();\n",
       "        }}\n",
       "}});\n",
       "\n",
       "// Listen for the removal of the full notebook cells\n",
       "var notebookContainer = gd.closest('#notebook-container');\n",
       "if (notebookContainer) {{\n",
       "    x.observe(notebookContainer, {childList: true});\n",
       "}}\n",
       "\n",
       "// Listen for the clearing of the current output cell\n",
       "var outputEl = gd.closest('.output');\n",
       "if (outputEl) {{\n",
       "    x.observe(outputEl, {childList: true});\n",
       "}}\n",
       "\n",
       "                        })                };                });            </script>        </div>"
      ]
     },
     "metadata": {},
     "output_type": "display_data"
    }
   ],
   "source": [
    "# Adjusting the script to create an interactive bar chart for SMAPE across seasons for each model\n",
    "\n",
    "def create_smape_interactive_bar_chart_centered_caption(data, dataset_name):\n",
    "    # Function to calculate SMAPE\n",
    "    def smape(y_true, y_pred):\n",
    "        denominator = (np.abs(y_true) + np.abs(y_pred)) / 2.0\n",
    "        diff = np.abs(y_true - y_pred) / denominator\n",
    "        diff[denominator == 0] = 0.0\n",
    "        return 100 * np.mean(diff)\n",
    "\n",
    "    # Preparing data for the bar chart\n",
    "    bar_chart_data = []\n",
    "    for season, (start, end) in seasons.items():\n",
    "        season_data = data.iloc[start:end]\n",
    "        y_actual = season_data['Actual']\n",
    "        for model in data.columns[1:]:\n",
    "            y_pred = season_data[model]\n",
    "            smape_value = smape(y_actual, y_pred)\n",
    "            bar_chart_data.append({'Season': season, 'Model': model, 'SMAPE': smape_value})\n",
    "\n",
    "    df_bar_chart = pd.DataFrame(bar_chart_data)\n",
    "\n",
    "    # Creating the interactive bar chart with centered caption\n",
    "    fig = px.bar(df_bar_chart, x='Model', y='SMAPE', color='Season', barmode='group',\n",
    "                 title=f'SMAPE Across Seasons for {dataset_name}',\n",
    "                 labels={'SMAPE': 'Symmetric Mean Absolute Percentage Error', 'Model': 'Model', 'Season': 'Season'},\n",
    "                 height=600)\n",
    "    fig.update_layout(title={'text': f'SMAPE Across Seasons for {dataset_name}', 'x': 0.5})\n",
    "    return fig\n",
    "\n",
    "# Create and display the interactive bar chart with centered caption for Residence 1\n",
    "interactive_bar_chart_residence1_smape_centered = create_smape_interactive_bar_chart_centered_caption(data1, \"Residence 1\")\n",
    "interactive_bar_chart_residence1_smape_centered.show()\n",
    "\n",
    "# Create and display the interactive bar chart with centered caption for Residence 2\n",
    "interactive_bar_chart_residence2_smape_centered = create_smape_interactive_bar_chart_centered_caption(data2, \"Residence 2\")\n",
    "interactive_bar_chart_residence2_smape_centered.show()\n",
    "\n"
   ]
  },
  {
   "cell_type": "code",
   "execution_count": null,
   "id": "1543fced-7d11-4cba-9888-b12bdfa53aae",
   "metadata": {},
   "outputs": [],
   "source": []
  }
 ],
 "metadata": {
  "kernelspec": {
   "display_name": "Python (mdanish3)",
   "language": "python",
   "name": "mdanish3"
  },
  "language_info": {
   "codemirror_mode": {
    "name": "ipython",
    "version": 3
   },
   "file_extension": ".py",
   "mimetype": "text/x-python",
   "name": "python",
   "nbconvert_exporter": "python",
   "pygments_lexer": "ipython3",
   "version": "3.10.12"
  }
 },
 "nbformat": 4,
 "nbformat_minor": 5
}
